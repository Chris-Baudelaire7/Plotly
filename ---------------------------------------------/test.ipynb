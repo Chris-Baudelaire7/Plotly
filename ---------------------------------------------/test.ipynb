{
 "cells": [
  {
   "cell_type": "code",
   "execution_count": 1,
   "metadata": {},
   "outputs": [
    {
     "name": "stderr",
     "output_type": "stream",
     "text": [
      "<ipython-input-1-04556bb32d9c>:2: UserWarning: \n",
      "The dash_core_components package is deprecated. Please replace\n",
      "`import dash_core_components as dcc` with `from dash import dcc`\n",
      "  import dash_core_components as dcc\n",
      "<ipython-input-1-04556bb32d9c>:3: UserWarning: \n",
      "The dash_html_components package is deprecated. Please replace\n",
      "`import dash_html_components as html` with `from dash import html`\n",
      "  import dash_html_components as html\n"
     ]
    },
    {
     "name": "stdout",
     "output_type": "stream",
     "text": [
      "Dash is running on http://127.0.0.1:8050/\n",
      "\n",
      " * Serving Flask app '__main__'\n",
      " * Debug mode: off\n"
     ]
    },
    {
     "name": "stderr",
     "output_type": "stream",
     "text": [
      "WARNING: This is a development server. Do not use it in a production deployment. Use a production WSGI server instead.\n",
      " * Running on http://127.0.0.1:8050\n",
      "Press CTRL+C to quit\n",
      "127.0.0.1 - - [12/Aug/2023 22:40:02] \"GET / HTTP/1.1\" 200 -\n",
      "127.0.0.1 - - [12/Aug/2023 22:40:02] \"GET /_dash-component-suites/dash/html/dash_html_components.v2_0_5m1659744291.min.js HTTP/1.1\" 200 -\n",
      "127.0.0.1 - - [12/Aug/2023 22:40:02] \"GET /_dash-component-suites/dash/deps/prop-types@15.v2_6_1m1659744291.8.1.min.js HTTP/1.1\" 200 -\n",
      "127.0.0.1 - - [12/Aug/2023 22:40:02] \"GET /_dash-component-suites/dash/dash-renderer/build/dash_renderer.v2_6_1m1659744291.min.js HTTP/1.1\" 200 -\n",
      "127.0.0.1 - - [12/Aug/2023 22:40:02] \"GET /_dash-component-suites/dash/dash_table/bundle.v5_1_5m1659744291.js HTTP/1.1\" 200 -\n",
      "127.0.0.1 - - [12/Aug/2023 22:40:02] \"GET /_dash-component-suites/dash/dcc/dash_core_components.v2_6_1m1659744291.js HTTP/1.1\" 200 -\n",
      "127.0.0.1 - - [12/Aug/2023 22:40:02] \"GET /_dash-component-suites/dash/dcc/dash_core_components-shared.v2_6_1m1659744291.js HTTP/1.1\" 200 -\n",
      "127.0.0.1 - - [12/Aug/2023 22:40:03] \"GET /_dash-layout HTTP/1.1\" 200 -\n",
      "127.0.0.1 - - [12/Aug/2023 22:40:03] \"GET /_dash-dependencies HTTP/1.1\" 200 -\n",
      "127.0.0.1 - - [12/Aug/2023 22:40:03] \"GET /_dash-component-suites/dash/dcc/async-graph.js HTTP/1.1\" 200 -\n",
      "127.0.0.1 - - [12/Aug/2023 22:40:03] \"GET /_dash-component-suites/dash/dcc/async-plotlyjs.js HTTP/1.1\" 200 -\n",
      "127.0.0.1 - - [12/Aug/2023 22:40:03] \"POST /_dash-update-component HTTP/1.1\" 200 -\n",
      "127.0.0.1 - - [12/Aug/2023 22:40:03] \"GET /_favicon.ico?v=2.6.1 HTTP/1.1\" 200 -\n",
      "127.0.0.1 - - [12/Aug/2023 22:40:13] \"POST /_dash-update-component HTTP/1.1\" 200 -\n"
     ]
    }
   ],
   "source": [
    "import dash\n",
    "import dash_core_components as dcc\n",
    "import dash_html_components as html\n",
    "from dash.dependencies import Input, Output\n",
    "import plotly.express as px\n",
    "\n",
    "df = px.data.gapminder()\n",
    "animations = {\n",
    "    'Scatter': px.scatter(\n",
    "        df, x=\"gdpPercap\", y=\"lifeExp\", animation_frame=\"year\", \n",
    "        animation_group=\"country\", size=\"pop\", color=\"continent\", \n",
    "        hover_name=\"country\", log_x=True, size_max=55, \n",
    "        range_x=[100,100000], range_y=[25,90]),\n",
    "    'Bar': px.bar(\n",
    "        df, x=\"continent\", y=\"pop\", color=\"continent\", \n",
    "        animation_frame=\"year\", animation_group=\"country\", \n",
    "        range_y=[0,4000000000]),\n",
    "}\n",
    "\n",
    "app = dash.Dash(__name__)\n",
    "\n",
    "app.layout = html.Div([\n",
    "    html.P(\"Select an animation:\"),\n",
    "    dcc.RadioItems(\n",
    "        id='selection',\n",
    "        options=[{'label': x, 'value': x} for x in animations],\n",
    "        value='Scatter'\n",
    "    ),\n",
    "    dcc.Graph(id=\"graph\"),\n",
    "])\n",
    "\n",
    "@app.callback(\n",
    "    Output(\"graph\", \"figure\"), \n",
    "    [Input(\"selection\", \"value\")])\n",
    "def display_animated_graph(s):\n",
    "    return animations[s]\n",
    "\n",
    "app.run_server()"
   ]
  },
  {
   "cell_type": "code",
   "execution_count": null,
   "metadata": {},
   "outputs": [],
   "source": []
  }
 ],
 "metadata": {
  "interpreter": {
   "hash": "c280167503d4c9ec9343a8c22ceb8fdab10e8af54e332c309c4ae135c5d90990"
  },
  "kernelspec": {
   "display_name": "Python 3.9.5 64-bit ('dashenv': conda)",
   "language": "python",
   "name": "python3"
  },
  "language_info": {
   "codemirror_mode": {
    "name": "ipython",
    "version": 3
   },
   "file_extension": ".py",
   "mimetype": "text/x-python",
   "name": "python",
   "nbconvert_exporter": "python",
   "pygments_lexer": "ipython3",
   "version": "3.9.5"
  },
  "orig_nbformat": 4
 },
 "nbformat": 4,
 "nbformat_minor": 2
}

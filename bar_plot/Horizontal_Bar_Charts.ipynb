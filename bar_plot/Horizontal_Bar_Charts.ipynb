{
 "cells": [
  {
   "cell_type": "markdown",
   "metadata": {},
   "source": [
    "# <p style=\"color:orangered; text-align:center; font-size:50px\">Horizontal Bar Charts in Python</p>\n",
    "<p style=\"text-align:center\">https://plotly.com/python/horizontal-bar-charts/</p>"
   ]
  },
  {
   "cell_type": "markdown",
   "metadata": {},
   "source": [
    "https://dkane.net/2020/better-horizontal-bar-charts-with-plotly/"
   ]
  },
  {
   "cell_type": "markdown",
   "metadata": {},
   "source": [
    "https://towardsdatascience.com/create-a-butterfly-chart-easily-using-plotly-aa3d43ba410d"
   ]
  },
  {
   "cell_type": "markdown",
   "metadata": {},
   "source": [
    "# <p style=\"color:red\">Horizontal Bar Chart with Plotly Express</p>"
   ]
  },
  {
   "cell_type": "code",
   "execution_count": 1,
   "metadata": {},
   "outputs": [],
   "source": [
    "import plotly.express as px \n",
    "import plotly.graph_objs as go"
   ]
  },
  {
   "cell_type": "code",
   "execution_count": 2,
   "metadata": {},
   "outputs": [
    {
     "data": {
      "text/html": [
       "<div><div id=2c5cc5da-7c02-4b65-beb3-cac9ce23f3c1 style=\"display:none; background-color:#9D6CFF; color:white; width:200px; height:30px; padding-left:5px; border-radius:4px; flex-direction:row; justify-content:space-around; align-items:center;\" onmouseover=\"this.style.backgroundColor='#BA9BF8'\" onmouseout=\"this.style.backgroundColor='#9D6CFF'\" onclick=\"window.commands?.execute('create-mitosheet-from-dataframe-output');\">See Full Dataframe in Mito</div> <script> if (window.commands.hasCommand('create-mitosheet-from-dataframe-output')) document.getElementById('2c5cc5da-7c02-4b65-beb3-cac9ce23f3c1').style.display = 'flex' </script> <table border=\"1\" class=\"dataframe\">\n",
       "  <thead>\n",
       "    <tr style=\"text-align: right;\">\n",
       "      <th></th>\n",
       "      <th>total_bill</th>\n",
       "      <th>tip</th>\n",
       "      <th>sex</th>\n",
       "      <th>smoker</th>\n",
       "      <th>day</th>\n",
       "      <th>time</th>\n",
       "      <th>size</th>\n",
       "    </tr>\n",
       "  </thead>\n",
       "  <tbody>\n",
       "    <tr>\n",
       "      <th>0</th>\n",
       "      <td>16.99</td>\n",
       "      <td>1.01</td>\n",
       "      <td>Female</td>\n",
       "      <td>No</td>\n",
       "      <td>Sun</td>\n",
       "      <td>Dinner</td>\n",
       "      <td>2</td>\n",
       "    </tr>\n",
       "    <tr>\n",
       "      <th>1</th>\n",
       "      <td>10.34</td>\n",
       "      <td>1.66</td>\n",
       "      <td>Male</td>\n",
       "      <td>No</td>\n",
       "      <td>Sun</td>\n",
       "      <td>Dinner</td>\n",
       "      <td>3</td>\n",
       "    </tr>\n",
       "    <tr>\n",
       "      <th>2</th>\n",
       "      <td>21.01</td>\n",
       "      <td>3.50</td>\n",
       "      <td>Male</td>\n",
       "      <td>No</td>\n",
       "      <td>Sun</td>\n",
       "      <td>Dinner</td>\n",
       "      <td>3</td>\n",
       "    </tr>\n",
       "    <tr>\n",
       "      <th>3</th>\n",
       "      <td>23.68</td>\n",
       "      <td>3.31</td>\n",
       "      <td>Male</td>\n",
       "      <td>No</td>\n",
       "      <td>Sun</td>\n",
       "      <td>Dinner</td>\n",
       "      <td>2</td>\n",
       "    </tr>\n",
       "    <tr>\n",
       "      <th>4</th>\n",
       "      <td>24.59</td>\n",
       "      <td>3.61</td>\n",
       "      <td>Female</td>\n",
       "      <td>No</td>\n",
       "      <td>Sun</td>\n",
       "      <td>Dinner</td>\n",
       "      <td>4</td>\n",
       "    </tr>\n",
       "  </tbody>\n",
       "</table></div>"
      ],
      "text/plain": [
       "   total_bill   tip     sex smoker  day    time  size\n",
       "0       16.99  1.01  Female     No  Sun  Dinner     2\n",
       "1       10.34  1.66    Male     No  Sun  Dinner     3\n",
       "2       21.01  3.50    Male     No  Sun  Dinner     3\n",
       "3       23.68  3.31    Male     No  Sun  Dinner     2\n",
       "4       24.59  3.61  Female     No  Sun  Dinner     4"
      ]
     },
     "execution_count": 2,
     "metadata": {},
     "output_type": "execute_result"
    }
   ],
   "source": [
    "df = px.data.tips()\n",
    "df.head()"
   ]
  },
  {
   "cell_type": "code",
   "execution_count": 3,
   "metadata": {},
   "outputs": [
    {
     "data": {
      "application/vnd.plotly.v1+json": {
       "config": {
        "plotlyServerURL": "https://plot.ly"
       },
       "data": [
        {
         "alignmentgroup": "True",
         "hovertemplate": "total_bill=%{x}<br>day=%{y}<extra></extra>",
         "legendgroup": "",
         "marker": {
          "color": "#636efa",
          "pattern": {
           "shape": ""
          }
         },
         "name": "",
         "offsetgroup": "",
         "orientation": "h",
         "showlegend": false,
         "textposition": "auto",
         "type": "bar",
         "x": [
          16.99,
          10.34,
          21.01,
          23.68,
          24.59,
          25.29,
          8.77,
          26.88,
          15.04,
          14.78,
          10.27,
          35.26,
          15.42,
          18.43,
          14.83,
          21.58,
          10.33,
          16.29,
          16.97,
          20.65,
          17.92,
          20.29,
          15.77,
          39.42,
          19.82,
          17.81,
          13.37,
          12.69,
          21.7,
          19.65,
          9.55,
          18.35,
          15.06,
          20.69,
          17.78,
          24.06,
          16.31,
          16.93,
          18.69,
          31.27,
          16.04,
          17.46,
          13.94,
          9.68,
          30.4,
          18.29,
          22.23,
          32.4,
          28.55,
          18.04,
          12.54,
          10.29,
          34.81,
          9.94,
          25.56,
          19.49,
          38.01,
          26.41,
          11.24,
          48.27,
          20.29,
          13.81,
          11.02,
          18.29,
          17.59,
          20.08,
          16.45,
          3.07,
          20.23,
          15.01,
          12.02,
          17.07,
          26.86,
          25.28,
          14.73,
          10.51,
          17.92,
          27.2,
          22.76,
          17.29,
          19.44,
          16.66,
          10.07,
          32.68,
          15.98,
          34.83,
          13.03,
          18.28,
          24.71,
          21.16,
          28.97,
          22.49,
          5.75,
          16.32,
          22.75,
          40.17,
          27.28,
          12.03,
          21.01,
          12.46,
          11.35,
          15.38,
          44.3,
          22.42,
          20.92,
          15.36,
          20.49,
          25.21,
          18.24,
          14.31,
          14,
          7.25,
          38.07,
          23.95,
          25.71,
          17.31,
          29.93,
          10.65,
          12.43,
          24.08,
          11.69,
          13.42,
          14.26,
          15.95,
          12.48,
          29.8,
          8.52,
          14.52,
          11.38,
          22.82,
          19.08,
          20.27,
          11.17,
          12.26,
          18.26,
          8.51,
          10.33,
          14.15,
          16,
          13.16,
          17.47,
          34.3,
          41.19,
          27.05,
          16.43,
          8.35,
          18.64,
          11.87,
          9.78,
          7.51,
          14.07,
          13.13,
          17.26,
          24.55,
          19.77,
          29.85,
          48.17,
          25,
          13.39,
          16.49,
          21.5,
          12.66,
          16.21,
          13.81,
          17.51,
          24.52,
          20.76,
          31.71,
          10.59,
          10.63,
          50.81,
          15.81,
          7.25,
          31.85,
          16.82,
          32.9,
          17.89,
          14.48,
          9.6,
          34.63,
          34.65,
          23.33,
          45.35,
          23.17,
          40.55,
          20.69,
          20.9,
          30.46,
          18.15,
          23.1,
          15.69,
          19.81,
          28.44,
          15.48,
          16.58,
          7.56,
          10.34,
          43.11,
          13,
          13.51,
          18.71,
          12.74,
          13,
          16.4,
          20.53,
          16.47,
          26.59,
          38.73,
          24.27,
          12.76,
          30.06,
          25.89,
          48.33,
          13.27,
          28.17,
          12.9,
          28.15,
          11.59,
          7.74,
          30.14,
          12.16,
          13.42,
          8.58,
          15.98,
          13.42,
          16.27,
          10.09,
          20.45,
          13.28,
          22.12,
          24.01,
          15.69,
          11.61,
          10.77,
          15.53,
          10.07,
          12.6,
          32.83,
          35.83,
          29.03,
          27.18,
          22.67,
          17.82,
          18.78
         ],
         "xaxis": "x",
         "y": [
          "Sun",
          "Sun",
          "Sun",
          "Sun",
          "Sun",
          "Sun",
          "Sun",
          "Sun",
          "Sun",
          "Sun",
          "Sun",
          "Sun",
          "Sun",
          "Sun",
          "Sun",
          "Sun",
          "Sun",
          "Sun",
          "Sun",
          "Sat",
          "Sat",
          "Sat",
          "Sat",
          "Sat",
          "Sat",
          "Sat",
          "Sat",
          "Sat",
          "Sat",
          "Sat",
          "Sat",
          "Sat",
          "Sat",
          "Sat",
          "Sat",
          "Sat",
          "Sat",
          "Sat",
          "Sat",
          "Sat",
          "Sat",
          "Sun",
          "Sun",
          "Sun",
          "Sun",
          "Sun",
          "Sun",
          "Sun",
          "Sun",
          "Sun",
          "Sun",
          "Sun",
          "Sun",
          "Sun",
          "Sun",
          "Sun",
          "Sat",
          "Sat",
          "Sat",
          "Sat",
          "Sat",
          "Sat",
          "Sat",
          "Sat",
          "Sat",
          "Sat",
          "Sat",
          "Sat",
          "Sat",
          "Sat",
          "Sat",
          "Sat",
          "Sat",
          "Sat",
          "Sat",
          "Sat",
          "Sat",
          "Thur",
          "Thur",
          "Thur",
          "Thur",
          "Thur",
          "Thur",
          "Thur",
          "Thur",
          "Thur",
          "Thur",
          "Thur",
          "Thur",
          "Thur",
          "Fri",
          "Fri",
          "Fri",
          "Fri",
          "Fri",
          "Fri",
          "Fri",
          "Fri",
          "Fri",
          "Fri",
          "Fri",
          "Fri",
          "Sat",
          "Sat",
          "Sat",
          "Sat",
          "Sat",
          "Sat",
          "Sat",
          "Sat",
          "Sat",
          "Sat",
          "Sun",
          "Sun",
          "Sun",
          "Sun",
          "Sun",
          "Thur",
          "Thur",
          "Thur",
          "Thur",
          "Thur",
          "Thur",
          "Thur",
          "Thur",
          "Thur",
          "Thur",
          "Thur",
          "Thur",
          "Thur",
          "Thur",
          "Thur",
          "Thur",
          "Thur",
          "Thur",
          "Thur",
          "Thur",
          "Thur",
          "Thur",
          "Thur",
          "Thur",
          "Thur",
          "Thur",
          "Thur",
          "Thur",
          "Thur",
          "Thur",
          "Thur",
          "Thur",
          "Thur",
          "Sun",
          "Sun",
          "Sun",
          "Sun",
          "Sun",
          "Sun",
          "Sun",
          "Sun",
          "Sun",
          "Sun",
          "Sun",
          "Sun",
          "Sun",
          "Sun",
          "Sun",
          "Sun",
          "Sun",
          "Sun",
          "Sat",
          "Sat",
          "Sat",
          "Sat",
          "Sun",
          "Sun",
          "Sun",
          "Sun",
          "Sun",
          "Sun",
          "Sun",
          "Sun",
          "Sun",
          "Sun",
          "Sun",
          "Sun",
          "Sun",
          "Sun",
          "Sun",
          "Sun",
          "Sun",
          "Sun",
          "Sun",
          "Thur",
          "Thur",
          "Thur",
          "Thur",
          "Thur",
          "Thur",
          "Thur",
          "Thur",
          "Thur",
          "Thur",
          "Thur",
          "Thur",
          "Thur",
          "Thur",
          "Thur",
          "Sat",
          "Sat",
          "Sat",
          "Sat",
          "Sat",
          "Sat",
          "Sat",
          "Sat",
          "Sat",
          "Sat",
          "Sat",
          "Sat",
          "Sat",
          "Sat",
          "Fri",
          "Fri",
          "Fri",
          "Fri",
          "Fri",
          "Fri",
          "Fri",
          "Sat",
          "Sat",
          "Sat",
          "Sat",
          "Sat",
          "Sat",
          "Sat",
          "Sat",
          "Sat",
          "Sat",
          "Sat",
          "Sat",
          "Sat",
          "Sat",
          "Sat",
          "Sat",
          "Thur"
         ],
         "yaxis": "y"
        }
       ],
       "layout": {
        "barmode": "relative",
        "height": 300,
        "legend": {
         "tracegroupgap": 0
        },
        "margin": {
         "t": 60
        },
        "paper_bgcolor": "black",
        "plot_bgcolor": "black",
        "template": {
         "data": {
          "bar": [
           {
            "error_x": {
             "color": "#f2f5fa"
            },
            "error_y": {
             "color": "#f2f5fa"
            },
            "marker": {
             "line": {
              "color": "rgb(17,17,17)",
              "width": 0.5
             },
             "pattern": {
              "fillmode": "overlay",
              "size": 10,
              "solidity": 0.2
             }
            },
            "type": "bar"
           }
          ],
          "barpolar": [
           {
            "marker": {
             "line": {
              "color": "rgb(17,17,17)",
              "width": 0.5
             },
             "pattern": {
              "fillmode": "overlay",
              "size": 10,
              "solidity": 0.2
             }
            },
            "type": "barpolar"
           }
          ],
          "carpet": [
           {
            "aaxis": {
             "endlinecolor": "#A2B1C6",
             "gridcolor": "#506784",
             "linecolor": "#506784",
             "minorgridcolor": "#506784",
             "startlinecolor": "#A2B1C6"
            },
            "baxis": {
             "endlinecolor": "#A2B1C6",
             "gridcolor": "#506784",
             "linecolor": "#506784",
             "minorgridcolor": "#506784",
             "startlinecolor": "#A2B1C6"
            },
            "type": "carpet"
           }
          ],
          "choropleth": [
           {
            "colorbar": {
             "outlinewidth": 0,
             "ticks": ""
            },
            "type": "choropleth"
           }
          ],
          "contour": [
           {
            "colorbar": {
             "outlinewidth": 0,
             "ticks": ""
            },
            "colorscale": [
             [
              0,
              "#0d0887"
             ],
             [
              0.1111111111111111,
              "#46039f"
             ],
             [
              0.2222222222222222,
              "#7201a8"
             ],
             [
              0.3333333333333333,
              "#9c179e"
             ],
             [
              0.4444444444444444,
              "#bd3786"
             ],
             [
              0.5555555555555556,
              "#d8576b"
             ],
             [
              0.6666666666666666,
              "#ed7953"
             ],
             [
              0.7777777777777778,
              "#fb9f3a"
             ],
             [
              0.8888888888888888,
              "#fdca26"
             ],
             [
              1,
              "#f0f921"
             ]
            ],
            "type": "contour"
           }
          ],
          "contourcarpet": [
           {
            "colorbar": {
             "outlinewidth": 0,
             "ticks": ""
            },
            "type": "contourcarpet"
           }
          ],
          "heatmap": [
           {
            "colorbar": {
             "outlinewidth": 0,
             "ticks": ""
            },
            "colorscale": [
             [
              0,
              "#0d0887"
             ],
             [
              0.1111111111111111,
              "#46039f"
             ],
             [
              0.2222222222222222,
              "#7201a8"
             ],
             [
              0.3333333333333333,
              "#9c179e"
             ],
             [
              0.4444444444444444,
              "#bd3786"
             ],
             [
              0.5555555555555556,
              "#d8576b"
             ],
             [
              0.6666666666666666,
              "#ed7953"
             ],
             [
              0.7777777777777778,
              "#fb9f3a"
             ],
             [
              0.8888888888888888,
              "#fdca26"
             ],
             [
              1,
              "#f0f921"
             ]
            ],
            "type": "heatmap"
           }
          ],
          "heatmapgl": [
           {
            "colorbar": {
             "outlinewidth": 0,
             "ticks": ""
            },
            "colorscale": [
             [
              0,
              "#0d0887"
             ],
             [
              0.1111111111111111,
              "#46039f"
             ],
             [
              0.2222222222222222,
              "#7201a8"
             ],
             [
              0.3333333333333333,
              "#9c179e"
             ],
             [
              0.4444444444444444,
              "#bd3786"
             ],
             [
              0.5555555555555556,
              "#d8576b"
             ],
             [
              0.6666666666666666,
              "#ed7953"
             ],
             [
              0.7777777777777778,
              "#fb9f3a"
             ],
             [
              0.8888888888888888,
              "#fdca26"
             ],
             [
              1,
              "#f0f921"
             ]
            ],
            "type": "heatmapgl"
           }
          ],
          "histogram": [
           {
            "marker": {
             "pattern": {
              "fillmode": "overlay",
              "size": 10,
              "solidity": 0.2
             }
            },
            "type": "histogram"
           }
          ],
          "histogram2d": [
           {
            "colorbar": {
             "outlinewidth": 0,
             "ticks": ""
            },
            "colorscale": [
             [
              0,
              "#0d0887"
             ],
             [
              0.1111111111111111,
              "#46039f"
             ],
             [
              0.2222222222222222,
              "#7201a8"
             ],
             [
              0.3333333333333333,
              "#9c179e"
             ],
             [
              0.4444444444444444,
              "#bd3786"
             ],
             [
              0.5555555555555556,
              "#d8576b"
             ],
             [
              0.6666666666666666,
              "#ed7953"
             ],
             [
              0.7777777777777778,
              "#fb9f3a"
             ],
             [
              0.8888888888888888,
              "#fdca26"
             ],
             [
              1,
              "#f0f921"
             ]
            ],
            "type": "histogram2d"
           }
          ],
          "histogram2dcontour": [
           {
            "colorbar": {
             "outlinewidth": 0,
             "ticks": ""
            },
            "colorscale": [
             [
              0,
              "#0d0887"
             ],
             [
              0.1111111111111111,
              "#46039f"
             ],
             [
              0.2222222222222222,
              "#7201a8"
             ],
             [
              0.3333333333333333,
              "#9c179e"
             ],
             [
              0.4444444444444444,
              "#bd3786"
             ],
             [
              0.5555555555555556,
              "#d8576b"
             ],
             [
              0.6666666666666666,
              "#ed7953"
             ],
             [
              0.7777777777777778,
              "#fb9f3a"
             ],
             [
              0.8888888888888888,
              "#fdca26"
             ],
             [
              1,
              "#f0f921"
             ]
            ],
            "type": "histogram2dcontour"
           }
          ],
          "mesh3d": [
           {
            "colorbar": {
             "outlinewidth": 0,
             "ticks": ""
            },
            "type": "mesh3d"
           }
          ],
          "parcoords": [
           {
            "line": {
             "colorbar": {
              "outlinewidth": 0,
              "ticks": ""
             }
            },
            "type": "parcoords"
           }
          ],
          "pie": [
           {
            "automargin": true,
            "type": "pie"
           }
          ],
          "scatter": [
           {
            "marker": {
             "line": {
              "color": "#283442"
             }
            },
            "type": "scatter"
           }
          ],
          "scatter3d": [
           {
            "line": {
             "colorbar": {
              "outlinewidth": 0,
              "ticks": ""
             }
            },
            "marker": {
             "colorbar": {
              "outlinewidth": 0,
              "ticks": ""
             }
            },
            "type": "scatter3d"
           }
          ],
          "scattercarpet": [
           {
            "marker": {
             "colorbar": {
              "outlinewidth": 0,
              "ticks": ""
             }
            },
            "type": "scattercarpet"
           }
          ],
          "scattergeo": [
           {
            "marker": {
             "colorbar": {
              "outlinewidth": 0,
              "ticks": ""
             }
            },
            "type": "scattergeo"
           }
          ],
          "scattergl": [
           {
            "marker": {
             "line": {
              "color": "#283442"
             }
            },
            "type": "scattergl"
           }
          ],
          "scattermapbox": [
           {
            "marker": {
             "colorbar": {
              "outlinewidth": 0,
              "ticks": ""
             }
            },
            "type": "scattermapbox"
           }
          ],
          "scatterpolar": [
           {
            "marker": {
             "colorbar": {
              "outlinewidth": 0,
              "ticks": ""
             }
            },
            "type": "scatterpolar"
           }
          ],
          "scatterpolargl": [
           {
            "marker": {
             "colorbar": {
              "outlinewidth": 0,
              "ticks": ""
             }
            },
            "type": "scatterpolargl"
           }
          ],
          "scatterternary": [
           {
            "marker": {
             "colorbar": {
              "outlinewidth": 0,
              "ticks": ""
             }
            },
            "type": "scatterternary"
           }
          ],
          "surface": [
           {
            "colorbar": {
             "outlinewidth": 0,
             "ticks": ""
            },
            "colorscale": [
             [
              0,
              "#0d0887"
             ],
             [
              0.1111111111111111,
              "#46039f"
             ],
             [
              0.2222222222222222,
              "#7201a8"
             ],
             [
              0.3333333333333333,
              "#9c179e"
             ],
             [
              0.4444444444444444,
              "#bd3786"
             ],
             [
              0.5555555555555556,
              "#d8576b"
             ],
             [
              0.6666666666666666,
              "#ed7953"
             ],
             [
              0.7777777777777778,
              "#fb9f3a"
             ],
             [
              0.8888888888888888,
              "#fdca26"
             ],
             [
              1,
              "#f0f921"
             ]
            ],
            "type": "surface"
           }
          ],
          "table": [
           {
            "cells": {
             "fill": {
              "color": "#506784"
             },
             "line": {
              "color": "rgb(17,17,17)"
             }
            },
            "header": {
             "fill": {
              "color": "#2a3f5f"
             },
             "line": {
              "color": "rgb(17,17,17)"
             }
            },
            "type": "table"
           }
          ]
         },
         "layout": {
          "annotationdefaults": {
           "arrowcolor": "#f2f5fa",
           "arrowhead": 0,
           "arrowwidth": 1
          },
          "autotypenumbers": "strict",
          "coloraxis": {
           "colorbar": {
            "outlinewidth": 0,
            "ticks": ""
           }
          },
          "colorscale": {
           "diverging": [
            [
             0,
             "#8e0152"
            ],
            [
             0.1,
             "#c51b7d"
            ],
            [
             0.2,
             "#de77ae"
            ],
            [
             0.3,
             "#f1b6da"
            ],
            [
             0.4,
             "#fde0ef"
            ],
            [
             0.5,
             "#f7f7f7"
            ],
            [
             0.6,
             "#e6f5d0"
            ],
            [
             0.7,
             "#b8e186"
            ],
            [
             0.8,
             "#7fbc41"
            ],
            [
             0.9,
             "#4d9221"
            ],
            [
             1,
             "#276419"
            ]
           ],
           "sequential": [
            [
             0,
             "#0d0887"
            ],
            [
             0.1111111111111111,
             "#46039f"
            ],
            [
             0.2222222222222222,
             "#7201a8"
            ],
            [
             0.3333333333333333,
             "#9c179e"
            ],
            [
             0.4444444444444444,
             "#bd3786"
            ],
            [
             0.5555555555555556,
             "#d8576b"
            ],
            [
             0.6666666666666666,
             "#ed7953"
            ],
            [
             0.7777777777777778,
             "#fb9f3a"
            ],
            [
             0.8888888888888888,
             "#fdca26"
            ],
            [
             1,
             "#f0f921"
            ]
           ],
           "sequentialminus": [
            [
             0,
             "#0d0887"
            ],
            [
             0.1111111111111111,
             "#46039f"
            ],
            [
             0.2222222222222222,
             "#7201a8"
            ],
            [
             0.3333333333333333,
             "#9c179e"
            ],
            [
             0.4444444444444444,
             "#bd3786"
            ],
            [
             0.5555555555555556,
             "#d8576b"
            ],
            [
             0.6666666666666666,
             "#ed7953"
            ],
            [
             0.7777777777777778,
             "#fb9f3a"
            ],
            [
             0.8888888888888888,
             "#fdca26"
            ],
            [
             1,
             "#f0f921"
            ]
           ]
          },
          "colorway": [
           "#636efa",
           "#EF553B",
           "#00cc96",
           "#ab63fa",
           "#FFA15A",
           "#19d3f3",
           "#FF6692",
           "#B6E880",
           "#FF97FF",
           "#FECB52"
          ],
          "font": {
           "color": "#f2f5fa"
          },
          "geo": {
           "bgcolor": "rgb(17,17,17)",
           "lakecolor": "rgb(17,17,17)",
           "landcolor": "rgb(17,17,17)",
           "showlakes": true,
           "showland": true,
           "subunitcolor": "#506784"
          },
          "hoverlabel": {
           "align": "left"
          },
          "hovermode": "closest",
          "mapbox": {
           "style": "dark"
          },
          "paper_bgcolor": "rgb(17,17,17)",
          "plot_bgcolor": "rgb(17,17,17)",
          "polar": {
           "angularaxis": {
            "gridcolor": "#506784",
            "linecolor": "#506784",
            "ticks": ""
           },
           "bgcolor": "rgb(17,17,17)",
           "radialaxis": {
            "gridcolor": "#506784",
            "linecolor": "#506784",
            "ticks": ""
           }
          },
          "scene": {
           "xaxis": {
            "backgroundcolor": "rgb(17,17,17)",
            "gridcolor": "#506784",
            "gridwidth": 2,
            "linecolor": "#506784",
            "showbackground": true,
            "ticks": "",
            "zerolinecolor": "#C8D4E3"
           },
           "yaxis": {
            "backgroundcolor": "rgb(17,17,17)",
            "gridcolor": "#506784",
            "gridwidth": 2,
            "linecolor": "#506784",
            "showbackground": true,
            "ticks": "",
            "zerolinecolor": "#C8D4E3"
           },
           "zaxis": {
            "backgroundcolor": "rgb(17,17,17)",
            "gridcolor": "#506784",
            "gridwidth": 2,
            "linecolor": "#506784",
            "showbackground": true,
            "ticks": "",
            "zerolinecolor": "#C8D4E3"
           }
          },
          "shapedefaults": {
           "line": {
            "color": "#f2f5fa"
           }
          },
          "sliderdefaults": {
           "bgcolor": "#C8D4E3",
           "bordercolor": "rgb(17,17,17)",
           "borderwidth": 1,
           "tickwidth": 0
          },
          "ternary": {
           "aaxis": {
            "gridcolor": "#506784",
            "linecolor": "#506784",
            "ticks": ""
           },
           "baxis": {
            "gridcolor": "#506784",
            "linecolor": "#506784",
            "ticks": ""
           },
           "bgcolor": "rgb(17,17,17)",
           "caxis": {
            "gridcolor": "#506784",
            "linecolor": "#506784",
            "ticks": ""
           }
          },
          "title": {
           "x": 0.05
          },
          "updatemenudefaults": {
           "bgcolor": "#506784",
           "borderwidth": 0
          },
          "xaxis": {
           "automargin": true,
           "gridcolor": "#283442",
           "linecolor": "#506784",
           "ticks": "",
           "title": {
            "standoff": 15
           },
           "zerolinecolor": "#283442",
           "zerolinewidth": 2
          },
          "yaxis": {
           "automargin": true,
           "gridcolor": "#283442",
           "linecolor": "#506784",
           "ticks": "",
           "title": {
            "standoff": 15
           },
           "zerolinecolor": "#283442",
           "zerolinewidth": 2
          }
         }
        },
        "xaxis": {
         "anchor": "y",
         "domain": [
          0,
          1
         ],
         "showgrid": false,
         "title": {
          "text": "total_bill"
         }
        },
        "yaxis": {
         "anchor": "x",
         "domain": [
          0,
          1
         ],
         "showgrid": false,
         "title": {
          "text": "day"
         }
        }
       }
      }
     },
     "metadata": {},
     "output_type": "display_data"
    }
   ],
   "source": [
    "fig = px.bar(df, x='total_bill', y='day', orientation='h', height=300)\n",
    "\n",
    "fig.update_layout(xaxis=dict(showgrid=False),\n",
    "                  yaxis=dict(showgrid=False),\n",
    "                  template=\"plotly_dark\",\n",
    "                  paper_bgcolor='black',\n",
    "                  plot_bgcolor='black')"
   ]
  },
  {
   "cell_type": "code",
   "execution_count": 4,
   "metadata": {},
   "outputs": [
    {
     "data": {
      "text/html": [
       "<div><div id=1bb7b945-1d33-4c61-af86-5cdeb6bfbf6d style=\"display:none; background-color:#9D6CFF; color:white; width:200px; height:30px; padding-left:5px; border-radius:4px; flex-direction:row; justify-content:space-around; align-items:center;\" onmouseover=\"this.style.backgroundColor='#BA9BF8'\" onmouseout=\"this.style.backgroundColor='#9D6CFF'\" onclick=\"window.commands?.execute('create-mitosheet-from-dataframe-output');\">See Full Dataframe in Mito</div> <script> if (window.commands.hasCommand('create-mitosheet-from-dataframe-output')) document.getElementById('1bb7b945-1d33-4c61-af86-5cdeb6bfbf6d').style.display = 'flex' </script> <table border=\"1\" class=\"dataframe\">\n",
       "  <thead>\n",
       "    <tr style=\"text-align: right;\">\n",
       "      <th></th>\n",
       "      <th>total_bill</th>\n",
       "      <th>tip</th>\n",
       "      <th>sex</th>\n",
       "      <th>smoker</th>\n",
       "      <th>day</th>\n",
       "      <th>time</th>\n",
       "      <th>size</th>\n",
       "    </tr>\n",
       "  </thead>\n",
       "  <tbody>\n",
       "    <tr>\n",
       "      <th>0</th>\n",
       "      <td>16.99</td>\n",
       "      <td>1.01</td>\n",
       "      <td>Female</td>\n",
       "      <td>No</td>\n",
       "      <td>Sun</td>\n",
       "      <td>Dinner</td>\n",
       "      <td>2</td>\n",
       "    </tr>\n",
       "    <tr>\n",
       "      <th>1</th>\n",
       "      <td>10.34</td>\n",
       "      <td>1.66</td>\n",
       "      <td>Male</td>\n",
       "      <td>No</td>\n",
       "      <td>Sun</td>\n",
       "      <td>Dinner</td>\n",
       "      <td>3</td>\n",
       "    </tr>\n",
       "    <tr>\n",
       "      <th>2</th>\n",
       "      <td>21.01</td>\n",
       "      <td>3.50</td>\n",
       "      <td>Male</td>\n",
       "      <td>No</td>\n",
       "      <td>Sun</td>\n",
       "      <td>Dinner</td>\n",
       "      <td>3</td>\n",
       "    </tr>\n",
       "    <tr>\n",
       "      <th>3</th>\n",
       "      <td>23.68</td>\n",
       "      <td>3.31</td>\n",
       "      <td>Male</td>\n",
       "      <td>No</td>\n",
       "      <td>Sun</td>\n",
       "      <td>Dinner</td>\n",
       "      <td>2</td>\n",
       "    </tr>\n",
       "    <tr>\n",
       "      <th>4</th>\n",
       "      <td>24.59</td>\n",
       "      <td>3.61</td>\n",
       "      <td>Female</td>\n",
       "      <td>No</td>\n",
       "      <td>Sun</td>\n",
       "      <td>Dinner</td>\n",
       "      <td>4</td>\n",
       "    </tr>\n",
       "  </tbody>\n",
       "</table></div>"
      ],
      "text/plain": [
       "   total_bill   tip     sex smoker  day    time  size\n",
       "0       16.99  1.01  Female     No  Sun  Dinner     2\n",
       "1       10.34  1.66    Male     No  Sun  Dinner     3\n",
       "2       21.01  3.50    Male     No  Sun  Dinner     3\n",
       "3       23.68  3.31    Male     No  Sun  Dinner     2\n",
       "4       24.59  3.61  Female     No  Sun  Dinner     4"
      ]
     },
     "execution_count": 4,
     "metadata": {},
     "output_type": "execute_result"
    }
   ],
   "source": [
    "df = px.data.tips()\n",
    "df.head()"
   ]
  },
  {
   "cell_type": "code",
   "execution_count": 5,
   "metadata": {},
   "outputs": [
    {
     "data": {
      "application/vnd.plotly.v1+json": {
       "config": {
        "plotlyServerURL": "https://plot.ly"
       },
       "data": [
        {
         "alignmentgroup": "True",
         "customdata": [
          [
           1.01,
           2
          ],
          [
           1.66,
           3
          ],
          [
           3.5,
           3
          ],
          [
           3.31,
           2
          ],
          [
           3.61,
           4
          ],
          [
           4.71,
           4
          ],
          [
           2,
           2
          ],
          [
           3.12,
           4
          ],
          [
           1.96,
           2
          ],
          [
           3.23,
           2
          ],
          [
           1.71,
           2
          ],
          [
           5,
           4
          ],
          [
           1.57,
           2
          ],
          [
           3,
           4
          ],
          [
           3.02,
           2
          ],
          [
           3.92,
           2
          ],
          [
           1.67,
           3
          ],
          [
           3.71,
           3
          ],
          [
           3.5,
           3
          ],
          [
           2.54,
           2
          ],
          [
           3.06,
           2
          ],
          [
           1.32,
           2
          ],
          [
           5.6,
           4
          ],
          [
           3,
           2
          ],
          [
           5,
           2
          ],
          [
           6,
           4
          ],
          [
           2.05,
           3
          ],
          [
           3,
           2
          ],
          [
           2.5,
           2
          ],
          [
           2.6,
           2
          ],
          [
           5.2,
           4
          ],
          [
           1.56,
           2
          ],
          [
           4.34,
           4
          ],
          [
           3.51,
           2
          ],
          [
           4,
           3
          ],
          [
           2.55,
           2
          ],
          [
           4,
           3
          ],
          [
           3.5,
           2
          ],
          [
           5.07,
           4
          ],
          [
           2.5,
           2
          ],
          [
           2,
           2
          ],
          [
           2.74,
           3
          ],
          [
           2,
           4
          ],
          [
           2,
           4
          ],
          [
           5.14,
           5
          ],
          [
           5,
           6
          ],
          [
           3.75,
           4
          ],
          [
           2.61,
           2
          ],
          [
           2,
           4
          ],
          [
           3.5,
           4
          ],
          [
           2.5,
           2
          ],
          [
           2,
           3
          ],
          [
           2,
           2
          ],
          [
           3,
           2
          ],
          [
           3.48,
           3
          ],
          [
           2.24,
           2
          ],
          [
           4.5,
           4
          ],
          [
           5.15,
           2
          ],
          [
           3.18,
           2
          ],
          [
           4,
           2
          ],
          [
           3.11,
           2
          ],
          [
           2,
           2
          ],
          [
           2,
           2
          ],
          [
           4,
           2
          ],
          [
           3.55,
           2
          ],
          [
           3.68,
           4
          ],
          [
           5.65,
           2
          ],
          [
           3.5,
           3
          ],
          [
           6.5,
           4
          ],
          [
           3,
           2
          ],
          [
           5,
           5
          ],
          [
           3.5,
           3
          ],
          [
           2,
           5
          ],
          [
           3.5,
           3
          ],
          [
           4,
           3
          ],
          [
           1.5,
           2
          ]
         ],
         "hovertemplate": "day=Sun<br>total_bill=%{x}<br>sex=%{y}<br>tip=%{customdata[0]}<br>size=%{customdata[1]}<extra></extra>",
         "legendgroup": "Sun",
         "marker": {
          "color": "#636efa",
          "pattern": {
           "shape": ""
          }
         },
         "name": "Sun",
         "offsetgroup": "Sun",
         "orientation": "h",
         "showlegend": true,
         "textposition": "auto",
         "type": "bar",
         "x": [
          16.99,
          10.34,
          21.01,
          23.68,
          24.59,
          25.29,
          8.77,
          26.88,
          15.04,
          14.78,
          10.27,
          35.26,
          15.42,
          18.43,
          14.83,
          21.58,
          10.33,
          16.29,
          16.97,
          17.46,
          13.94,
          9.68,
          30.4,
          18.29,
          22.23,
          32.4,
          28.55,
          18.04,
          12.54,
          10.29,
          34.81,
          9.94,
          25.56,
          19.49,
          38.07,
          23.95,
          25.71,
          17.31,
          29.93,
          14.07,
          13.13,
          17.26,
          24.55,
          19.77,
          29.85,
          48.17,
          25,
          13.39,
          16.49,
          21.5,
          12.66,
          16.21,
          13.81,
          17.51,
          24.52,
          20.76,
          31.71,
          7.25,
          31.85,
          16.82,
          32.9,
          17.89,
          14.48,
          9.6,
          34.63,
          34.65,
          23.33,
          45.35,
          23.17,
          40.55,
          20.69,
          20.9,
          30.46,
          18.15,
          23.1,
          15.69
         ],
         "xaxis": "x",
         "y": [
          "Female",
          "Male",
          "Male",
          "Male",
          "Female",
          "Male",
          "Male",
          "Male",
          "Male",
          "Male",
          "Male",
          "Female",
          "Male",
          "Male",
          "Female",
          "Male",
          "Female",
          "Male",
          "Female",
          "Male",
          "Male",
          "Male",
          "Male",
          "Male",
          "Male",
          "Male",
          "Male",
          "Male",
          "Male",
          "Female",
          "Female",
          "Male",
          "Male",
          "Male",
          "Male",
          "Male",
          "Female",
          "Female",
          "Male",
          "Male",
          "Male",
          "Male",
          "Male",
          "Male",
          "Female",
          "Male",
          "Female",
          "Female",
          "Male",
          "Male",
          "Male",
          "Female",
          "Male",
          "Female",
          "Male",
          "Male",
          "Male",
          "Male",
          "Male",
          "Male",
          "Male",
          "Male",
          "Male",
          "Female",
          "Male",
          "Male",
          "Male",
          "Male",
          "Male",
          "Male",
          "Male",
          "Female",
          "Male",
          "Female",
          "Male",
          "Male"
         ],
         "yaxis": "y"
        },
        {
         "alignmentgroup": "True",
         "customdata": [
          [
           3.35,
           3
          ],
          [
           4.08,
           2
          ],
          [
           2.75,
           2
          ],
          [
           2.23,
           2
          ],
          [
           7.58,
           4
          ],
          [
           3.18,
           2
          ],
          [
           2.34,
           4
          ],
          [
           2,
           2
          ],
          [
           2,
           2
          ],
          [
           4.3,
           2
          ],
          [
           3,
           2
          ],
          [
           1.45,
           2
          ],
          [
           2.5,
           4
          ],
          [
           3,
           2
          ],
          [
           2.45,
           4
          ],
          [
           3.27,
           2
          ],
          [
           3.6,
           3
          ],
          [
           2,
           3
          ],
          [
           3.07,
           3
          ],
          [
           2.31,
           3
          ],
          [
           5,
           3
          ],
          [
           2.24,
           3
          ],
          [
           3,
           4
          ],
          [
           1.5,
           2
          ],
          [
           1.76,
           2
          ],
          [
           6.73,
           4
          ],
          [
           3.21,
           2
          ],
          [
           2,
           2
          ],
          [
           1.98,
           2
          ],
          [
           3.76,
           4
          ],
          [
           2.64,
           3
          ],
          [
           3.15,
           3
          ],
          [
           2.47,
           2
          ],
          [
           1,
           1
          ],
          [
           2.01,
           2
          ],
          [
           2.09,
           2
          ],
          [
           1.97,
           2
          ],
          [
           3,
           3
          ],
          [
           3.14,
           2
          ],
          [
           5,
           2
          ],
          [
           2.2,
           2
          ],
          [
           1.25,
           2
          ],
          [
           3.08,
           2
          ],
          [
           2.5,
           3
          ],
          [
           3.48,
           2
          ],
          [
           4.08,
           2
          ],
          [
           1.64,
           2
          ],
          [
           4.06,
           2
          ],
          [
           4.29,
           2
          ],
          [
           3.76,
           2
          ],
          [
           4,
           2
          ],
          [
           3,
           2
          ],
          [
           1,
           1
          ],
          [
           1.61,
           2
          ],
          [
           2,
           2
          ],
          [
           10,
           3
          ],
          [
           3.16,
           2
          ],
          [
           3.41,
           3
          ],
          [
           3,
           4
          ],
          [
           2.03,
           2
          ],
          [
           2.23,
           2
          ],
          [
           2,
           3
          ],
          [
           5.16,
           4
          ],
          [
           9,
           4
          ],
          [
           2.5,
           2
          ],
          [
           6.5,
           3
          ],
          [
           1.1,
           2
          ],
          [
           3,
           5
          ],
          [
           1.5,
           2
          ],
          [
           1.44,
           2
          ],
          [
           3.09,
           4
          ],
          [
           3,
           4
          ],
          [
           2.72,
           2
          ],
          [
           2.88,
           2
          ],
          [
           2,
           4
          ],
          [
           3,
           3
          ],
          [
           3.39,
           2
          ],
          [
           1.47,
           2
          ],
          [
           3,
           2
          ],
          [
           1.25,
           2
          ],
          [
           1,
           2
          ],
          [
           1.17,
           2
          ],
          [
           4.67,
           3
          ],
          [
           5.92,
           3
          ],
          [
           2,
           2
          ],
          [
           2,
           2
          ],
          [
           1.75,
           2
          ]
         ],
         "hovertemplate": "day=Sat<br>total_bill=%{x}<br>sex=%{y}<br>tip=%{customdata[0]}<br>size=%{customdata[1]}<extra></extra>",
         "legendgroup": "Sat",
         "marker": {
          "color": "#EF553B",
          "pattern": {
           "shape": ""
          }
         },
         "name": "Sat",
         "offsetgroup": "Sat",
         "orientation": "h",
         "showlegend": true,
         "textposition": "auto",
         "type": "bar",
         "x": [
          20.65,
          17.92,
          20.29,
          15.77,
          39.42,
          19.82,
          17.81,
          13.37,
          12.69,
          21.7,
          19.65,
          9.55,
          18.35,
          15.06,
          20.69,
          17.78,
          24.06,
          16.31,
          16.93,
          18.69,
          31.27,
          16.04,
          38.01,
          26.41,
          11.24,
          48.27,
          20.29,
          13.81,
          11.02,
          18.29,
          17.59,
          20.08,
          16.45,
          3.07,
          20.23,
          15.01,
          12.02,
          17.07,
          26.86,
          25.28,
          14.73,
          10.51,
          17.92,
          44.3,
          22.42,
          20.92,
          15.36,
          20.49,
          25.21,
          18.24,
          14.31,
          14,
          7.25,
          10.59,
          10.63,
          50.81,
          15.81,
          26.59,
          38.73,
          24.27,
          12.76,
          30.06,
          25.89,
          48.33,
          13.27,
          28.17,
          12.9,
          28.15,
          11.59,
          7.74,
          30.14,
          20.45,
          13.28,
          22.12,
          24.01,
          15.69,
          11.61,
          10.77,
          15.53,
          10.07,
          12.6,
          32.83,
          35.83,
          29.03,
          27.18,
          22.67,
          17.82
         ],
         "xaxis": "x",
         "y": [
          "Male",
          "Male",
          "Female",
          "Female",
          "Male",
          "Male",
          "Male",
          "Male",
          "Male",
          "Male",
          "Female",
          "Male",
          "Male",
          "Female",
          "Female",
          "Male",
          "Male",
          "Male",
          "Female",
          "Male",
          "Male",
          "Male",
          "Male",
          "Female",
          "Male",
          "Male",
          "Male",
          "Male",
          "Male",
          "Male",
          "Male",
          "Male",
          "Female",
          "Female",
          "Male",
          "Male",
          "Male",
          "Female",
          "Female",
          "Female",
          "Female",
          "Male",
          "Male",
          "Female",
          "Female",
          "Female",
          "Male",
          "Male",
          "Male",
          "Male",
          "Female",
          "Male",
          "Female",
          "Female",
          "Female",
          "Male",
          "Male",
          "Male",
          "Male",
          "Male",
          "Female",
          "Male",
          "Male",
          "Male",
          "Female",
          "Female",
          "Female",
          "Male",
          "Male",
          "Male",
          "Female",
          "Male",
          "Male",
          "Female",
          "Male",
          "Male",
          "Male",
          "Male",
          "Male",
          "Male",
          "Male",
          "Male",
          "Female",
          "Male",
          "Female",
          "Male",
          "Male"
         ],
         "yaxis": "y"
        },
        {
         "alignmentgroup": "True",
         "customdata": [
          [
           4,
           4
          ],
          [
           3,
           2
          ],
          [
           2.71,
           2
          ],
          [
           3,
           2
          ],
          [
           3.4,
           2
          ],
          [
           1.83,
           1
          ],
          [
           5,
           2
          ],
          [
           2.03,
           2
          ],
          [
           5.17,
           4
          ],
          [
           2,
           2
          ],
          [
           4,
           2
          ],
          [
           5.85,
           2
          ],
          [
           3,
           2
          ],
          [
           1.5,
           2
          ],
          [
           1.8,
           2
          ],
          [
           2.92,
           4
          ],
          [
           2.31,
           2
          ],
          [
           1.68,
           2
          ],
          [
           2.5,
           2
          ],
          [
           2,
           2
          ],
          [
           2.52,
           2
          ],
          [
           4.2,
           6
          ],
          [
           1.48,
           2
          ],
          [
           2,
           2
          ],
          [
           2,
           2
          ],
          [
           2.18,
           3
          ],
          [
           1.5,
           2
          ],
          [
           2.83,
           2
          ],
          [
           1.5,
           2
          ],
          [
           2,
           2
          ],
          [
           3.25,
           2
          ],
          [
           1.25,
           2
          ],
          [
           2,
           2
          ],
          [
           2,
           2
          ],
          [
           2,
           2
          ],
          [
           2.75,
           2
          ],
          [
           3.5,
           2
          ],
          [
           6.7,
           6
          ],
          [
           5,
           5
          ],
          [
           5,
           6
          ],
          [
           2.3,
           2
          ],
          [
           1.5,
           2
          ],
          [
           1.36,
           3
          ],
          [
           1.63,
           2
          ],
          [
           1.73,
           2
          ],
          [
           2,
           2
          ],
          [
           4.19,
           2
          ],
          [
           2.56,
           2
          ],
          [
           2.02,
           2
          ],
          [
           4,
           2
          ],
          [
           1.44,
           2
          ],
          [
           2,
           2
          ],
          [
           5,
           4
          ],
          [
           2,
           2
          ],
          [
           2,
           2
          ],
          [
           4,
           3
          ],
          [
           2.01,
           2
          ],
          [
           2,
           2
          ],
          [
           2.5,
           2
          ],
          [
           4,
           4
          ],
          [
           3.23,
           3
          ],
          [
           3,
           2
          ]
         ],
         "hovertemplate": "day=Thur<br>total_bill=%{x}<br>sex=%{y}<br>tip=%{customdata[0]}<br>size=%{customdata[1]}<extra></extra>",
         "legendgroup": "Thur",
         "marker": {
          "color": "#00cc96",
          "pattern": {
           "shape": ""
          }
         },
         "name": "Thur",
         "offsetgroup": "Thur",
         "orientation": "h",
         "showlegend": true,
         "textposition": "auto",
         "type": "bar",
         "x": [
          27.2,
          22.76,
          17.29,
          19.44,
          16.66,
          10.07,
          32.68,
          15.98,
          34.83,
          13.03,
          18.28,
          24.71,
          21.16,
          10.65,
          12.43,
          24.08,
          11.69,
          13.42,
          14.26,
          15.95,
          12.48,
          29.8,
          8.52,
          14.52,
          11.38,
          22.82,
          19.08,
          20.27,
          11.17,
          12.26,
          18.26,
          8.51,
          10.33,
          14.15,
          16,
          13.16,
          17.47,
          34.3,
          41.19,
          27.05,
          16.43,
          8.35,
          18.64,
          11.87,
          9.78,
          7.51,
          19.81,
          28.44,
          15.48,
          16.58,
          7.56,
          10.34,
          43.11,
          13,
          13.51,
          18.71,
          12.74,
          13,
          16.4,
          20.53,
          16.47,
          18.78
         ],
         "xaxis": "x",
         "y": [
          "Male",
          "Male",
          "Male",
          "Male",
          "Male",
          "Female",
          "Male",
          "Male",
          "Female",
          "Male",
          "Male",
          "Male",
          "Male",
          "Female",
          "Female",
          "Female",
          "Male",
          "Female",
          "Male",
          "Male",
          "Female",
          "Female",
          "Male",
          "Female",
          "Female",
          "Male",
          "Male",
          "Female",
          "Female",
          "Female",
          "Female",
          "Female",
          "Female",
          "Female",
          "Male",
          "Female",
          "Female",
          "Male",
          "Male",
          "Female",
          "Female",
          "Female",
          "Female",
          "Female",
          "Male",
          "Male",
          "Female",
          "Male",
          "Male",
          "Male",
          "Male",
          "Male",
          "Female",
          "Female",
          "Male",
          "Male",
          "Female",
          "Female",
          "Female",
          "Male",
          "Female",
          "Female"
         ],
         "yaxis": "y"
        },
        {
         "alignmentgroup": "True",
         "customdata": [
          [
           3,
           2
          ],
          [
           3.5,
           2
          ],
          [
           1,
           2
          ],
          [
           4.3,
           2
          ],
          [
           3.25,
           2
          ],
          [
           4.73,
           4
          ],
          [
           4,
           2
          ],
          [
           1.5,
           2
          ],
          [
           3,
           2
          ],
          [
           1.5,
           2
          ],
          [
           2.5,
           2
          ],
          [
           3,
           2
          ],
          [
           2.2,
           2
          ],
          [
           3.48,
           2
          ],
          [
           1.92,
           1
          ],
          [
           3,
           3
          ],
          [
           1.58,
           2
          ],
          [
           2.5,
           2
          ],
          [
           2,
           2
          ]
         ],
         "hovertemplate": "day=Fri<br>total_bill=%{x}<br>sex=%{y}<br>tip=%{customdata[0]}<br>size=%{customdata[1]}<extra></extra>",
         "legendgroup": "Fri",
         "marker": {
          "color": "#ab63fa",
          "pattern": {
           "shape": ""
          }
         },
         "name": "Fri",
         "offsetgroup": "Fri",
         "orientation": "h",
         "showlegend": true,
         "textposition": "auto",
         "type": "bar",
         "x": [
          28.97,
          22.49,
          5.75,
          16.32,
          22.75,
          40.17,
          27.28,
          12.03,
          21.01,
          12.46,
          11.35,
          15.38,
          12.16,
          13.42,
          8.58,
          15.98,
          13.42,
          16.27,
          10.09
         ],
         "xaxis": "x",
         "y": [
          "Male",
          "Male",
          "Female",
          "Female",
          "Female",
          "Male",
          "Male",
          "Male",
          "Male",
          "Male",
          "Female",
          "Female",
          "Male",
          "Female",
          "Male",
          "Female",
          "Male",
          "Female",
          "Female"
         ],
         "yaxis": "y"
        }
       ],
       "layout": {
        "barmode": "relative",
        "height": 270,
        "legend": {
         "orientation": "h",
         "title": {
          "text": "day"
         },
         "tracegroupgap": 0
        },
        "paper_bgcolor": "black",
        "plot_bgcolor": "black",
        "template": {
         "data": {
          "bar": [
           {
            "error_x": {
             "color": "#f2f5fa"
            },
            "error_y": {
             "color": "#f2f5fa"
            },
            "marker": {
             "line": {
              "color": "rgb(17,17,17)",
              "width": 0.5
             },
             "pattern": {
              "fillmode": "overlay",
              "size": 10,
              "solidity": 0.2
             }
            },
            "type": "bar"
           }
          ],
          "barpolar": [
           {
            "marker": {
             "line": {
              "color": "rgb(17,17,17)",
              "width": 0.5
             },
             "pattern": {
              "fillmode": "overlay",
              "size": 10,
              "solidity": 0.2
             }
            },
            "type": "barpolar"
           }
          ],
          "carpet": [
           {
            "aaxis": {
             "endlinecolor": "#A2B1C6",
             "gridcolor": "#506784",
             "linecolor": "#506784",
             "minorgridcolor": "#506784",
             "startlinecolor": "#A2B1C6"
            },
            "baxis": {
             "endlinecolor": "#A2B1C6",
             "gridcolor": "#506784",
             "linecolor": "#506784",
             "minorgridcolor": "#506784",
             "startlinecolor": "#A2B1C6"
            },
            "type": "carpet"
           }
          ],
          "choropleth": [
           {
            "colorbar": {
             "outlinewidth": 0,
             "ticks": ""
            },
            "type": "choropleth"
           }
          ],
          "contour": [
           {
            "colorbar": {
             "outlinewidth": 0,
             "ticks": ""
            },
            "colorscale": [
             [
              0,
              "#0d0887"
             ],
             [
              0.1111111111111111,
              "#46039f"
             ],
             [
              0.2222222222222222,
              "#7201a8"
             ],
             [
              0.3333333333333333,
              "#9c179e"
             ],
             [
              0.4444444444444444,
              "#bd3786"
             ],
             [
              0.5555555555555556,
              "#d8576b"
             ],
             [
              0.6666666666666666,
              "#ed7953"
             ],
             [
              0.7777777777777778,
              "#fb9f3a"
             ],
             [
              0.8888888888888888,
              "#fdca26"
             ],
             [
              1,
              "#f0f921"
             ]
            ],
            "type": "contour"
           }
          ],
          "contourcarpet": [
           {
            "colorbar": {
             "outlinewidth": 0,
             "ticks": ""
            },
            "type": "contourcarpet"
           }
          ],
          "heatmap": [
           {
            "colorbar": {
             "outlinewidth": 0,
             "ticks": ""
            },
            "colorscale": [
             [
              0,
              "#0d0887"
             ],
             [
              0.1111111111111111,
              "#46039f"
             ],
             [
              0.2222222222222222,
              "#7201a8"
             ],
             [
              0.3333333333333333,
              "#9c179e"
             ],
             [
              0.4444444444444444,
              "#bd3786"
             ],
             [
              0.5555555555555556,
              "#d8576b"
             ],
             [
              0.6666666666666666,
              "#ed7953"
             ],
             [
              0.7777777777777778,
              "#fb9f3a"
             ],
             [
              0.8888888888888888,
              "#fdca26"
             ],
             [
              1,
              "#f0f921"
             ]
            ],
            "type": "heatmap"
           }
          ],
          "heatmapgl": [
           {
            "colorbar": {
             "outlinewidth": 0,
             "ticks": ""
            },
            "colorscale": [
             [
              0,
              "#0d0887"
             ],
             [
              0.1111111111111111,
              "#46039f"
             ],
             [
              0.2222222222222222,
              "#7201a8"
             ],
             [
              0.3333333333333333,
              "#9c179e"
             ],
             [
              0.4444444444444444,
              "#bd3786"
             ],
             [
              0.5555555555555556,
              "#d8576b"
             ],
             [
              0.6666666666666666,
              "#ed7953"
             ],
             [
              0.7777777777777778,
              "#fb9f3a"
             ],
             [
              0.8888888888888888,
              "#fdca26"
             ],
             [
              1,
              "#f0f921"
             ]
            ],
            "type": "heatmapgl"
           }
          ],
          "histogram": [
           {
            "marker": {
             "pattern": {
              "fillmode": "overlay",
              "size": 10,
              "solidity": 0.2
             }
            },
            "type": "histogram"
           }
          ],
          "histogram2d": [
           {
            "colorbar": {
             "outlinewidth": 0,
             "ticks": ""
            },
            "colorscale": [
             [
              0,
              "#0d0887"
             ],
             [
              0.1111111111111111,
              "#46039f"
             ],
             [
              0.2222222222222222,
              "#7201a8"
             ],
             [
              0.3333333333333333,
              "#9c179e"
             ],
             [
              0.4444444444444444,
              "#bd3786"
             ],
             [
              0.5555555555555556,
              "#d8576b"
             ],
             [
              0.6666666666666666,
              "#ed7953"
             ],
             [
              0.7777777777777778,
              "#fb9f3a"
             ],
             [
              0.8888888888888888,
              "#fdca26"
             ],
             [
              1,
              "#f0f921"
             ]
            ],
            "type": "histogram2d"
           }
          ],
          "histogram2dcontour": [
           {
            "colorbar": {
             "outlinewidth": 0,
             "ticks": ""
            },
            "colorscale": [
             [
              0,
              "#0d0887"
             ],
             [
              0.1111111111111111,
              "#46039f"
             ],
             [
              0.2222222222222222,
              "#7201a8"
             ],
             [
              0.3333333333333333,
              "#9c179e"
             ],
             [
              0.4444444444444444,
              "#bd3786"
             ],
             [
              0.5555555555555556,
              "#d8576b"
             ],
             [
              0.6666666666666666,
              "#ed7953"
             ],
             [
              0.7777777777777778,
              "#fb9f3a"
             ],
             [
              0.8888888888888888,
              "#fdca26"
             ],
             [
              1,
              "#f0f921"
             ]
            ],
            "type": "histogram2dcontour"
           }
          ],
          "mesh3d": [
           {
            "colorbar": {
             "outlinewidth": 0,
             "ticks": ""
            },
            "type": "mesh3d"
           }
          ],
          "parcoords": [
           {
            "line": {
             "colorbar": {
              "outlinewidth": 0,
              "ticks": ""
             }
            },
            "type": "parcoords"
           }
          ],
          "pie": [
           {
            "automargin": true,
            "type": "pie"
           }
          ],
          "scatter": [
           {
            "marker": {
             "line": {
              "color": "#283442"
             }
            },
            "type": "scatter"
           }
          ],
          "scatter3d": [
           {
            "line": {
             "colorbar": {
              "outlinewidth": 0,
              "ticks": ""
             }
            },
            "marker": {
             "colorbar": {
              "outlinewidth": 0,
              "ticks": ""
             }
            },
            "type": "scatter3d"
           }
          ],
          "scattercarpet": [
           {
            "marker": {
             "colorbar": {
              "outlinewidth": 0,
              "ticks": ""
             }
            },
            "type": "scattercarpet"
           }
          ],
          "scattergeo": [
           {
            "marker": {
             "colorbar": {
              "outlinewidth": 0,
              "ticks": ""
             }
            },
            "type": "scattergeo"
           }
          ],
          "scattergl": [
           {
            "marker": {
             "line": {
              "color": "#283442"
             }
            },
            "type": "scattergl"
           }
          ],
          "scattermapbox": [
           {
            "marker": {
             "colorbar": {
              "outlinewidth": 0,
              "ticks": ""
             }
            },
            "type": "scattermapbox"
           }
          ],
          "scatterpolar": [
           {
            "marker": {
             "colorbar": {
              "outlinewidth": 0,
              "ticks": ""
             }
            },
            "type": "scatterpolar"
           }
          ],
          "scatterpolargl": [
           {
            "marker": {
             "colorbar": {
              "outlinewidth": 0,
              "ticks": ""
             }
            },
            "type": "scatterpolargl"
           }
          ],
          "scatterternary": [
           {
            "marker": {
             "colorbar": {
              "outlinewidth": 0,
              "ticks": ""
             }
            },
            "type": "scatterternary"
           }
          ],
          "surface": [
           {
            "colorbar": {
             "outlinewidth": 0,
             "ticks": ""
            },
            "colorscale": [
             [
              0,
              "#0d0887"
             ],
             [
              0.1111111111111111,
              "#46039f"
             ],
             [
              0.2222222222222222,
              "#7201a8"
             ],
             [
              0.3333333333333333,
              "#9c179e"
             ],
             [
              0.4444444444444444,
              "#bd3786"
             ],
             [
              0.5555555555555556,
              "#d8576b"
             ],
             [
              0.6666666666666666,
              "#ed7953"
             ],
             [
              0.7777777777777778,
              "#fb9f3a"
             ],
             [
              0.8888888888888888,
              "#fdca26"
             ],
             [
              1,
              "#f0f921"
             ]
            ],
            "type": "surface"
           }
          ],
          "table": [
           {
            "cells": {
             "fill": {
              "color": "#506784"
             },
             "line": {
              "color": "rgb(17,17,17)"
             }
            },
            "header": {
             "fill": {
              "color": "#2a3f5f"
             },
             "line": {
              "color": "rgb(17,17,17)"
             }
            },
            "type": "table"
           }
          ]
         },
         "layout": {
          "annotationdefaults": {
           "arrowcolor": "#f2f5fa",
           "arrowhead": 0,
           "arrowwidth": 1
          },
          "autotypenumbers": "strict",
          "coloraxis": {
           "colorbar": {
            "outlinewidth": 0,
            "ticks": ""
           }
          },
          "colorscale": {
           "diverging": [
            [
             0,
             "#8e0152"
            ],
            [
             0.1,
             "#c51b7d"
            ],
            [
             0.2,
             "#de77ae"
            ],
            [
             0.3,
             "#f1b6da"
            ],
            [
             0.4,
             "#fde0ef"
            ],
            [
             0.5,
             "#f7f7f7"
            ],
            [
             0.6,
             "#e6f5d0"
            ],
            [
             0.7,
             "#b8e186"
            ],
            [
             0.8,
             "#7fbc41"
            ],
            [
             0.9,
             "#4d9221"
            ],
            [
             1,
             "#276419"
            ]
           ],
           "sequential": [
            [
             0,
             "#0d0887"
            ],
            [
             0.1111111111111111,
             "#46039f"
            ],
            [
             0.2222222222222222,
             "#7201a8"
            ],
            [
             0.3333333333333333,
             "#9c179e"
            ],
            [
             0.4444444444444444,
             "#bd3786"
            ],
            [
             0.5555555555555556,
             "#d8576b"
            ],
            [
             0.6666666666666666,
             "#ed7953"
            ],
            [
             0.7777777777777778,
             "#fb9f3a"
            ],
            [
             0.8888888888888888,
             "#fdca26"
            ],
            [
             1,
             "#f0f921"
            ]
           ],
           "sequentialminus": [
            [
             0,
             "#0d0887"
            ],
            [
             0.1111111111111111,
             "#46039f"
            ],
            [
             0.2222222222222222,
             "#7201a8"
            ],
            [
             0.3333333333333333,
             "#9c179e"
            ],
            [
             0.4444444444444444,
             "#bd3786"
            ],
            [
             0.5555555555555556,
             "#d8576b"
            ],
            [
             0.6666666666666666,
             "#ed7953"
            ],
            [
             0.7777777777777778,
             "#fb9f3a"
            ],
            [
             0.8888888888888888,
             "#fdca26"
            ],
            [
             1,
             "#f0f921"
            ]
           ]
          },
          "colorway": [
           "#636efa",
           "#EF553B",
           "#00cc96",
           "#ab63fa",
           "#FFA15A",
           "#19d3f3",
           "#FF6692",
           "#B6E880",
           "#FF97FF",
           "#FECB52"
          ],
          "font": {
           "color": "#f2f5fa"
          },
          "geo": {
           "bgcolor": "rgb(17,17,17)",
           "lakecolor": "rgb(17,17,17)",
           "landcolor": "rgb(17,17,17)",
           "showlakes": true,
           "showland": true,
           "subunitcolor": "#506784"
          },
          "hoverlabel": {
           "align": "left"
          },
          "hovermode": "closest",
          "mapbox": {
           "style": "dark"
          },
          "paper_bgcolor": "rgb(17,17,17)",
          "plot_bgcolor": "rgb(17,17,17)",
          "polar": {
           "angularaxis": {
            "gridcolor": "#506784",
            "linecolor": "#506784",
            "ticks": ""
           },
           "bgcolor": "rgb(17,17,17)",
           "radialaxis": {
            "gridcolor": "#506784",
            "linecolor": "#506784",
            "ticks": ""
           }
          },
          "scene": {
           "xaxis": {
            "backgroundcolor": "rgb(17,17,17)",
            "gridcolor": "#506784",
            "gridwidth": 2,
            "linecolor": "#506784",
            "showbackground": true,
            "ticks": "",
            "zerolinecolor": "#C8D4E3"
           },
           "yaxis": {
            "backgroundcolor": "rgb(17,17,17)",
            "gridcolor": "#506784",
            "gridwidth": 2,
            "linecolor": "#506784",
            "showbackground": true,
            "ticks": "",
            "zerolinecolor": "#C8D4E3"
           },
           "zaxis": {
            "backgroundcolor": "rgb(17,17,17)",
            "gridcolor": "#506784",
            "gridwidth": 2,
            "linecolor": "#506784",
            "showbackground": true,
            "ticks": "",
            "zerolinecolor": "#C8D4E3"
           }
          },
          "shapedefaults": {
           "line": {
            "color": "#f2f5fa"
           }
          },
          "sliderdefaults": {
           "bgcolor": "#C8D4E3",
           "bordercolor": "rgb(17,17,17)",
           "borderwidth": 1,
           "tickwidth": 0
          },
          "ternary": {
           "aaxis": {
            "gridcolor": "#506784",
            "linecolor": "#506784",
            "ticks": ""
           },
           "baxis": {
            "gridcolor": "#506784",
            "linecolor": "#506784",
            "ticks": ""
           },
           "bgcolor": "rgb(17,17,17)",
           "caxis": {
            "gridcolor": "#506784",
            "linecolor": "#506784",
            "ticks": ""
           }
          },
          "title": {
           "x": 0.05
          },
          "updatemenudefaults": {
           "bgcolor": "#506784",
           "borderwidth": 0
          },
          "xaxis": {
           "automargin": true,
           "gridcolor": "#283442",
           "linecolor": "#506784",
           "ticks": "",
           "title": {
            "standoff": 15
           },
           "zerolinecolor": "#283442",
           "zerolinewidth": 2
          },
          "yaxis": {
           "automargin": true,
           "gridcolor": "#283442",
           "linecolor": "#506784",
           "ticks": "",
           "title": {
            "standoff": 15
           },
           "zerolinecolor": "#283442",
           "zerolinewidth": 2
          }
         }
        },
        "title": {
         "text": "Restaurant bills"
        },
        "xaxis": {
         "anchor": "y",
         "domain": [
          0,
          1
         ],
         "showgrid": false,
         "title": {
          "text": "total_bill"
         }
        },
        "yaxis": {
         "anchor": "x",
         "domain": [
          0,
          1
         ],
         "showgrid": false,
         "title": {
          "text": "sex"
         }
        }
       }
      }
     },
     "metadata": {},
     "output_type": "display_data"
    }
   ],
   "source": [
    "fig = px.bar(df, x='total_bill', y='sex', color='day', \n",
    "             orientation='h', hover_data=['tip', 'size'],\n",
    "             title='Restaurant bills',\n",
    "             height=270)\n",
    "\n",
    "fig.update_layout(\n",
    "    xaxis=dict(showgrid=False),\n",
    "                  yaxis=dict(showgrid=False),\n",
    "                  template=\"plotly_dark\",\n",
    "                  paper_bgcolor='black',\n",
    "                  plot_bgcolor='black',\n",
    "                  legend_orientation='h')"
   ]
  },
  {
   "cell_type": "markdown",
   "metadata": {},
   "source": [
    "# <p style=\"color:red\">Horizontal Bar Chart with go.Bar</p>"
   ]
  },
  {
   "cell_type": "code",
   "execution_count": 6,
   "metadata": {},
   "outputs": [
    {
     "data": {
      "application/vnd.plotly.v1+json": {
       "config": {
        "plotlyServerURL": "https://plot.ly"
       },
       "data": [
        {
         "orientation": "h",
         "type": "bar",
         "x": [
          20,
          14,
          23
         ],
         "y": [
          "Chris",
          "baudelaire",
          "koudou"
         ]
        }
       ],
       "layout": {
        "height": 300,
        "paper_bgcolor": "#000",
        "plot_bgcolor": "#000",
        "template": {
         "data": {
          "bar": [
           {
            "error_x": {
             "color": "#f2f5fa"
            },
            "error_y": {
             "color": "#f2f5fa"
            },
            "marker": {
             "line": {
              "color": "rgb(17,17,17)",
              "width": 0.5
             },
             "pattern": {
              "fillmode": "overlay",
              "size": 10,
              "solidity": 0.2
             }
            },
            "type": "bar"
           }
          ],
          "barpolar": [
           {
            "marker": {
             "line": {
              "color": "rgb(17,17,17)",
              "width": 0.5
             },
             "pattern": {
              "fillmode": "overlay",
              "size": 10,
              "solidity": 0.2
             }
            },
            "type": "barpolar"
           }
          ],
          "carpet": [
           {
            "aaxis": {
             "endlinecolor": "#A2B1C6",
             "gridcolor": "#506784",
             "linecolor": "#506784",
             "minorgridcolor": "#506784",
             "startlinecolor": "#A2B1C6"
            },
            "baxis": {
             "endlinecolor": "#A2B1C6",
             "gridcolor": "#506784",
             "linecolor": "#506784",
             "minorgridcolor": "#506784",
             "startlinecolor": "#A2B1C6"
            },
            "type": "carpet"
           }
          ],
          "choropleth": [
           {
            "colorbar": {
             "outlinewidth": 0,
             "ticks": ""
            },
            "type": "choropleth"
           }
          ],
          "contour": [
           {
            "colorbar": {
             "outlinewidth": 0,
             "ticks": ""
            },
            "colorscale": [
             [
              0,
              "#0d0887"
             ],
             [
              0.1111111111111111,
              "#46039f"
             ],
             [
              0.2222222222222222,
              "#7201a8"
             ],
             [
              0.3333333333333333,
              "#9c179e"
             ],
             [
              0.4444444444444444,
              "#bd3786"
             ],
             [
              0.5555555555555556,
              "#d8576b"
             ],
             [
              0.6666666666666666,
              "#ed7953"
             ],
             [
              0.7777777777777778,
              "#fb9f3a"
             ],
             [
              0.8888888888888888,
              "#fdca26"
             ],
             [
              1,
              "#f0f921"
             ]
            ],
            "type": "contour"
           }
          ],
          "contourcarpet": [
           {
            "colorbar": {
             "outlinewidth": 0,
             "ticks": ""
            },
            "type": "contourcarpet"
           }
          ],
          "heatmap": [
           {
            "colorbar": {
             "outlinewidth": 0,
             "ticks": ""
            },
            "colorscale": [
             [
              0,
              "#0d0887"
             ],
             [
              0.1111111111111111,
              "#46039f"
             ],
             [
              0.2222222222222222,
              "#7201a8"
             ],
             [
              0.3333333333333333,
              "#9c179e"
             ],
             [
              0.4444444444444444,
              "#bd3786"
             ],
             [
              0.5555555555555556,
              "#d8576b"
             ],
             [
              0.6666666666666666,
              "#ed7953"
             ],
             [
              0.7777777777777778,
              "#fb9f3a"
             ],
             [
              0.8888888888888888,
              "#fdca26"
             ],
             [
              1,
              "#f0f921"
             ]
            ],
            "type": "heatmap"
           }
          ],
          "heatmapgl": [
           {
            "colorbar": {
             "outlinewidth": 0,
             "ticks": ""
            },
            "colorscale": [
             [
              0,
              "#0d0887"
             ],
             [
              0.1111111111111111,
              "#46039f"
             ],
             [
              0.2222222222222222,
              "#7201a8"
             ],
             [
              0.3333333333333333,
              "#9c179e"
             ],
             [
              0.4444444444444444,
              "#bd3786"
             ],
             [
              0.5555555555555556,
              "#d8576b"
             ],
             [
              0.6666666666666666,
              "#ed7953"
             ],
             [
              0.7777777777777778,
              "#fb9f3a"
             ],
             [
              0.8888888888888888,
              "#fdca26"
             ],
             [
              1,
              "#f0f921"
             ]
            ],
            "type": "heatmapgl"
           }
          ],
          "histogram": [
           {
            "marker": {
             "pattern": {
              "fillmode": "overlay",
              "size": 10,
              "solidity": 0.2
             }
            },
            "type": "histogram"
           }
          ],
          "histogram2d": [
           {
            "colorbar": {
             "outlinewidth": 0,
             "ticks": ""
            },
            "colorscale": [
             [
              0,
              "#0d0887"
             ],
             [
              0.1111111111111111,
              "#46039f"
             ],
             [
              0.2222222222222222,
              "#7201a8"
             ],
             [
              0.3333333333333333,
              "#9c179e"
             ],
             [
              0.4444444444444444,
              "#bd3786"
             ],
             [
              0.5555555555555556,
              "#d8576b"
             ],
             [
              0.6666666666666666,
              "#ed7953"
             ],
             [
              0.7777777777777778,
              "#fb9f3a"
             ],
             [
              0.8888888888888888,
              "#fdca26"
             ],
             [
              1,
              "#f0f921"
             ]
            ],
            "type": "histogram2d"
           }
          ],
          "histogram2dcontour": [
           {
            "colorbar": {
             "outlinewidth": 0,
             "ticks": ""
            },
            "colorscale": [
             [
              0,
              "#0d0887"
             ],
             [
              0.1111111111111111,
              "#46039f"
             ],
             [
              0.2222222222222222,
              "#7201a8"
             ],
             [
              0.3333333333333333,
              "#9c179e"
             ],
             [
              0.4444444444444444,
              "#bd3786"
             ],
             [
              0.5555555555555556,
              "#d8576b"
             ],
             [
              0.6666666666666666,
              "#ed7953"
             ],
             [
              0.7777777777777778,
              "#fb9f3a"
             ],
             [
              0.8888888888888888,
              "#fdca26"
             ],
             [
              1,
              "#f0f921"
             ]
            ],
            "type": "histogram2dcontour"
           }
          ],
          "mesh3d": [
           {
            "colorbar": {
             "outlinewidth": 0,
             "ticks": ""
            },
            "type": "mesh3d"
           }
          ],
          "parcoords": [
           {
            "line": {
             "colorbar": {
              "outlinewidth": 0,
              "ticks": ""
             }
            },
            "type": "parcoords"
           }
          ],
          "pie": [
           {
            "automargin": true,
            "type": "pie"
           }
          ],
          "scatter": [
           {
            "marker": {
             "line": {
              "color": "#283442"
             }
            },
            "type": "scatter"
           }
          ],
          "scatter3d": [
           {
            "line": {
             "colorbar": {
              "outlinewidth": 0,
              "ticks": ""
             }
            },
            "marker": {
             "colorbar": {
              "outlinewidth": 0,
              "ticks": ""
             }
            },
            "type": "scatter3d"
           }
          ],
          "scattercarpet": [
           {
            "marker": {
             "colorbar": {
              "outlinewidth": 0,
              "ticks": ""
             }
            },
            "type": "scattercarpet"
           }
          ],
          "scattergeo": [
           {
            "marker": {
             "colorbar": {
              "outlinewidth": 0,
              "ticks": ""
             }
            },
            "type": "scattergeo"
           }
          ],
          "scattergl": [
           {
            "marker": {
             "line": {
              "color": "#283442"
             }
            },
            "type": "scattergl"
           }
          ],
          "scattermapbox": [
           {
            "marker": {
             "colorbar": {
              "outlinewidth": 0,
              "ticks": ""
             }
            },
            "type": "scattermapbox"
           }
          ],
          "scatterpolar": [
           {
            "marker": {
             "colorbar": {
              "outlinewidth": 0,
              "ticks": ""
             }
            },
            "type": "scatterpolar"
           }
          ],
          "scatterpolargl": [
           {
            "marker": {
             "colorbar": {
              "outlinewidth": 0,
              "ticks": ""
             }
            },
            "type": "scatterpolargl"
           }
          ],
          "scatterternary": [
           {
            "marker": {
             "colorbar": {
              "outlinewidth": 0,
              "ticks": ""
             }
            },
            "type": "scatterternary"
           }
          ],
          "surface": [
           {
            "colorbar": {
             "outlinewidth": 0,
             "ticks": ""
            },
            "colorscale": [
             [
              0,
              "#0d0887"
             ],
             [
              0.1111111111111111,
              "#46039f"
             ],
             [
              0.2222222222222222,
              "#7201a8"
             ],
             [
              0.3333333333333333,
              "#9c179e"
             ],
             [
              0.4444444444444444,
              "#bd3786"
             ],
             [
              0.5555555555555556,
              "#d8576b"
             ],
             [
              0.6666666666666666,
              "#ed7953"
             ],
             [
              0.7777777777777778,
              "#fb9f3a"
             ],
             [
              0.8888888888888888,
              "#fdca26"
             ],
             [
              1,
              "#f0f921"
             ]
            ],
            "type": "surface"
           }
          ],
          "table": [
           {
            "cells": {
             "fill": {
              "color": "#506784"
             },
             "line": {
              "color": "rgb(17,17,17)"
             }
            },
            "header": {
             "fill": {
              "color": "#2a3f5f"
             },
             "line": {
              "color": "rgb(17,17,17)"
             }
            },
            "type": "table"
           }
          ]
         },
         "layout": {
          "annotationdefaults": {
           "arrowcolor": "#f2f5fa",
           "arrowhead": 0,
           "arrowwidth": 1
          },
          "autotypenumbers": "strict",
          "coloraxis": {
           "colorbar": {
            "outlinewidth": 0,
            "ticks": ""
           }
          },
          "colorscale": {
           "diverging": [
            [
             0,
             "#8e0152"
            ],
            [
             0.1,
             "#c51b7d"
            ],
            [
             0.2,
             "#de77ae"
            ],
            [
             0.3,
             "#f1b6da"
            ],
            [
             0.4,
             "#fde0ef"
            ],
            [
             0.5,
             "#f7f7f7"
            ],
            [
             0.6,
             "#e6f5d0"
            ],
            [
             0.7,
             "#b8e186"
            ],
            [
             0.8,
             "#7fbc41"
            ],
            [
             0.9,
             "#4d9221"
            ],
            [
             1,
             "#276419"
            ]
           ],
           "sequential": [
            [
             0,
             "#0d0887"
            ],
            [
             0.1111111111111111,
             "#46039f"
            ],
            [
             0.2222222222222222,
             "#7201a8"
            ],
            [
             0.3333333333333333,
             "#9c179e"
            ],
            [
             0.4444444444444444,
             "#bd3786"
            ],
            [
             0.5555555555555556,
             "#d8576b"
            ],
            [
             0.6666666666666666,
             "#ed7953"
            ],
            [
             0.7777777777777778,
             "#fb9f3a"
            ],
            [
             0.8888888888888888,
             "#fdca26"
            ],
            [
             1,
             "#f0f921"
            ]
           ],
           "sequentialminus": [
            [
             0,
             "#0d0887"
            ],
            [
             0.1111111111111111,
             "#46039f"
            ],
            [
             0.2222222222222222,
             "#7201a8"
            ],
            [
             0.3333333333333333,
             "#9c179e"
            ],
            [
             0.4444444444444444,
             "#bd3786"
            ],
            [
             0.5555555555555556,
             "#d8576b"
            ],
            [
             0.6666666666666666,
             "#ed7953"
            ],
            [
             0.7777777777777778,
             "#fb9f3a"
            ],
            [
             0.8888888888888888,
             "#fdca26"
            ],
            [
             1,
             "#f0f921"
            ]
           ]
          },
          "colorway": [
           "#636efa",
           "#EF553B",
           "#00cc96",
           "#ab63fa",
           "#FFA15A",
           "#19d3f3",
           "#FF6692",
           "#B6E880",
           "#FF97FF",
           "#FECB52"
          ],
          "font": {
           "color": "#f2f5fa"
          },
          "geo": {
           "bgcolor": "rgb(17,17,17)",
           "lakecolor": "rgb(17,17,17)",
           "landcolor": "rgb(17,17,17)",
           "showlakes": true,
           "showland": true,
           "subunitcolor": "#506784"
          },
          "hoverlabel": {
           "align": "left"
          },
          "hovermode": "closest",
          "mapbox": {
           "style": "dark"
          },
          "paper_bgcolor": "rgb(17,17,17)",
          "plot_bgcolor": "rgb(17,17,17)",
          "polar": {
           "angularaxis": {
            "gridcolor": "#506784",
            "linecolor": "#506784",
            "ticks": ""
           },
           "bgcolor": "rgb(17,17,17)",
           "radialaxis": {
            "gridcolor": "#506784",
            "linecolor": "#506784",
            "ticks": ""
           }
          },
          "scene": {
           "xaxis": {
            "backgroundcolor": "rgb(17,17,17)",
            "gridcolor": "#506784",
            "gridwidth": 2,
            "linecolor": "#506784",
            "showbackground": true,
            "ticks": "",
            "zerolinecolor": "#C8D4E3"
           },
           "yaxis": {
            "backgroundcolor": "rgb(17,17,17)",
            "gridcolor": "#506784",
            "gridwidth": 2,
            "linecolor": "#506784",
            "showbackground": true,
            "ticks": "",
            "zerolinecolor": "#C8D4E3"
           },
           "zaxis": {
            "backgroundcolor": "rgb(17,17,17)",
            "gridcolor": "#506784",
            "gridwidth": 2,
            "linecolor": "#506784",
            "showbackground": true,
            "ticks": "",
            "zerolinecolor": "#C8D4E3"
           }
          },
          "shapedefaults": {
           "line": {
            "color": "#f2f5fa"
           }
          },
          "sliderdefaults": {
           "bgcolor": "#C8D4E3",
           "bordercolor": "rgb(17,17,17)",
           "borderwidth": 1,
           "tickwidth": 0
          },
          "ternary": {
           "aaxis": {
            "gridcolor": "#506784",
            "linecolor": "#506784",
            "ticks": ""
           },
           "baxis": {
            "gridcolor": "#506784",
            "linecolor": "#506784",
            "ticks": ""
           },
           "bgcolor": "rgb(17,17,17)",
           "caxis": {
            "gridcolor": "#506784",
            "linecolor": "#506784",
            "ticks": ""
           }
          },
          "title": {
           "x": 0.05
          },
          "updatemenudefaults": {
           "bgcolor": "#506784",
           "borderwidth": 0
          },
          "xaxis": {
           "automargin": true,
           "gridcolor": "#283442",
           "linecolor": "#506784",
           "ticks": "",
           "title": {
            "standoff": 15
           },
           "zerolinecolor": "#283442",
           "zerolinewidth": 2
          },
          "yaxis": {
           "automargin": true,
           "gridcolor": "#283442",
           "linecolor": "#506784",
           "ticks": "",
           "title": {
            "standoff": 15
           },
           "zerolinecolor": "#283442",
           "zerolinewidth": 2
          }
         }
        },
        "xaxis": {
         "showgrid": false
        },
        "yaxis": {
         "showgrid": false
        }
       }
      }
     },
     "metadata": {},
     "output_type": "display_data"
    }
   ],
   "source": [
    "\n",
    "data = go.Bar(x=[20, 14, 23],\n",
    "              y=['Chris', 'baudelaire', 'koudou'],\n",
    "              orientation='h')\n",
    "fig = go.Figure(data)\n",
    "fig.update_layout(xaxis=dict(showgrid=False),\n",
    "                  yaxis=dict(showgrid=False),\n",
    "                  template='plotly_dark',\n",
    "                  paper_bgcolor='#000',\n",
    "                  plot_bgcolor='#000',\n",
    "                  height=300)\n",
    "fig"
   ]
  },
  {
   "cell_type": "code",
   "execution_count": 7,
   "metadata": {},
   "outputs": [
    {
     "data": {
      "application/vnd.plotly.v1+json": {
       "config": {
        "plotlyServerURL": "https://plot.ly"
       },
       "data": [
        {
         "marker": {
          "color": [
           "rgb(103,0,31)",
           "rgb(178,24,43)",
           "rgb(214,96,77)",
           "rgb(244,165,130)",
           "rgb(253,219,199)",
           "rgb(247,247,247)",
           "rgb(209,229,240)",
           "rgb(146,197,222)",
           "rgb(67,147,195)",
           "rgb(33,102,172)",
           "rgb(5,48,97)"
          ],
          "line": {
           "color": "#000",
           "width": 0.2
          }
         },
         "name": "Chris",
         "orientation": "h",
         "type": "bar",
         "x": [
          20,
          14,
          23
         ],
         "y": [
          "giraffes",
          "orangutans",
          "monkeys"
         ]
        },
        {
         "marker": {
          "color": [
           "rgb(255,247,243)",
           "rgb(253,224,221)",
           "rgb(252,197,192)",
           "rgb(250,159,181)",
           "rgb(247,104,161)",
           "rgb(221,52,151)",
           "rgb(174,1,126)",
           "rgb(122,1,119)",
           "rgb(73,0,106)"
          ],
          "line": {
           "color": "#fff",
           "width": 1
          }
         },
         "name": "Baudelaire",
         "orientation": "h",
         "type": "bar",
         "x": [
          12,
          18,
          29
         ],
         "y": [
          "giraffes",
          "orangutans",
          "monkeys"
         ]
        }
       ],
       "layout": {
        "barmode": "group",
        "height": 350,
        "paper_bgcolor": "#000",
        "plot_bgcolor": "#000",
        "template": {
         "data": {
          "bar": [
           {
            "error_x": {
             "color": "#f2f5fa"
            },
            "error_y": {
             "color": "#f2f5fa"
            },
            "marker": {
             "line": {
              "color": "rgb(17,17,17)",
              "width": 0.5
             },
             "pattern": {
              "fillmode": "overlay",
              "size": 10,
              "solidity": 0.2
             }
            },
            "type": "bar"
           }
          ],
          "barpolar": [
           {
            "marker": {
             "line": {
              "color": "rgb(17,17,17)",
              "width": 0.5
             },
             "pattern": {
              "fillmode": "overlay",
              "size": 10,
              "solidity": 0.2
             }
            },
            "type": "barpolar"
           }
          ],
          "carpet": [
           {
            "aaxis": {
             "endlinecolor": "#A2B1C6",
             "gridcolor": "#506784",
             "linecolor": "#506784",
             "minorgridcolor": "#506784",
             "startlinecolor": "#A2B1C6"
            },
            "baxis": {
             "endlinecolor": "#A2B1C6",
             "gridcolor": "#506784",
             "linecolor": "#506784",
             "minorgridcolor": "#506784",
             "startlinecolor": "#A2B1C6"
            },
            "type": "carpet"
           }
          ],
          "choropleth": [
           {
            "colorbar": {
             "outlinewidth": 0,
             "ticks": ""
            },
            "type": "choropleth"
           }
          ],
          "contour": [
           {
            "colorbar": {
             "outlinewidth": 0,
             "ticks": ""
            },
            "colorscale": [
             [
              0,
              "#0d0887"
             ],
             [
              0.1111111111111111,
              "#46039f"
             ],
             [
              0.2222222222222222,
              "#7201a8"
             ],
             [
              0.3333333333333333,
              "#9c179e"
             ],
             [
              0.4444444444444444,
              "#bd3786"
             ],
             [
              0.5555555555555556,
              "#d8576b"
             ],
             [
              0.6666666666666666,
              "#ed7953"
             ],
             [
              0.7777777777777778,
              "#fb9f3a"
             ],
             [
              0.8888888888888888,
              "#fdca26"
             ],
             [
              1,
              "#f0f921"
             ]
            ],
            "type": "contour"
           }
          ],
          "contourcarpet": [
           {
            "colorbar": {
             "outlinewidth": 0,
             "ticks": ""
            },
            "type": "contourcarpet"
           }
          ],
          "heatmap": [
           {
            "colorbar": {
             "outlinewidth": 0,
             "ticks": ""
            },
            "colorscale": [
             [
              0,
              "#0d0887"
             ],
             [
              0.1111111111111111,
              "#46039f"
             ],
             [
              0.2222222222222222,
              "#7201a8"
             ],
             [
              0.3333333333333333,
              "#9c179e"
             ],
             [
              0.4444444444444444,
              "#bd3786"
             ],
             [
              0.5555555555555556,
              "#d8576b"
             ],
             [
              0.6666666666666666,
              "#ed7953"
             ],
             [
              0.7777777777777778,
              "#fb9f3a"
             ],
             [
              0.8888888888888888,
              "#fdca26"
             ],
             [
              1,
              "#f0f921"
             ]
            ],
            "type": "heatmap"
           }
          ],
          "heatmapgl": [
           {
            "colorbar": {
             "outlinewidth": 0,
             "ticks": ""
            },
            "colorscale": [
             [
              0,
              "#0d0887"
             ],
             [
              0.1111111111111111,
              "#46039f"
             ],
             [
              0.2222222222222222,
              "#7201a8"
             ],
             [
              0.3333333333333333,
              "#9c179e"
             ],
             [
              0.4444444444444444,
              "#bd3786"
             ],
             [
              0.5555555555555556,
              "#d8576b"
             ],
             [
              0.6666666666666666,
              "#ed7953"
             ],
             [
              0.7777777777777778,
              "#fb9f3a"
             ],
             [
              0.8888888888888888,
              "#fdca26"
             ],
             [
              1,
              "#f0f921"
             ]
            ],
            "type": "heatmapgl"
           }
          ],
          "histogram": [
           {
            "marker": {
             "pattern": {
              "fillmode": "overlay",
              "size": 10,
              "solidity": 0.2
             }
            },
            "type": "histogram"
           }
          ],
          "histogram2d": [
           {
            "colorbar": {
             "outlinewidth": 0,
             "ticks": ""
            },
            "colorscale": [
             [
              0,
              "#0d0887"
             ],
             [
              0.1111111111111111,
              "#46039f"
             ],
             [
              0.2222222222222222,
              "#7201a8"
             ],
             [
              0.3333333333333333,
              "#9c179e"
             ],
             [
              0.4444444444444444,
              "#bd3786"
             ],
             [
              0.5555555555555556,
              "#d8576b"
             ],
             [
              0.6666666666666666,
              "#ed7953"
             ],
             [
              0.7777777777777778,
              "#fb9f3a"
             ],
             [
              0.8888888888888888,
              "#fdca26"
             ],
             [
              1,
              "#f0f921"
             ]
            ],
            "type": "histogram2d"
           }
          ],
          "histogram2dcontour": [
           {
            "colorbar": {
             "outlinewidth": 0,
             "ticks": ""
            },
            "colorscale": [
             [
              0,
              "#0d0887"
             ],
             [
              0.1111111111111111,
              "#46039f"
             ],
             [
              0.2222222222222222,
              "#7201a8"
             ],
             [
              0.3333333333333333,
              "#9c179e"
             ],
             [
              0.4444444444444444,
              "#bd3786"
             ],
             [
              0.5555555555555556,
              "#d8576b"
             ],
             [
              0.6666666666666666,
              "#ed7953"
             ],
             [
              0.7777777777777778,
              "#fb9f3a"
             ],
             [
              0.8888888888888888,
              "#fdca26"
             ],
             [
              1,
              "#f0f921"
             ]
            ],
            "type": "histogram2dcontour"
           }
          ],
          "mesh3d": [
           {
            "colorbar": {
             "outlinewidth": 0,
             "ticks": ""
            },
            "type": "mesh3d"
           }
          ],
          "parcoords": [
           {
            "line": {
             "colorbar": {
              "outlinewidth": 0,
              "ticks": ""
             }
            },
            "type": "parcoords"
           }
          ],
          "pie": [
           {
            "automargin": true,
            "type": "pie"
           }
          ],
          "scatter": [
           {
            "marker": {
             "line": {
              "color": "#283442"
             }
            },
            "type": "scatter"
           }
          ],
          "scatter3d": [
           {
            "line": {
             "colorbar": {
              "outlinewidth": 0,
              "ticks": ""
             }
            },
            "marker": {
             "colorbar": {
              "outlinewidth": 0,
              "ticks": ""
             }
            },
            "type": "scatter3d"
           }
          ],
          "scattercarpet": [
           {
            "marker": {
             "colorbar": {
              "outlinewidth": 0,
              "ticks": ""
             }
            },
            "type": "scattercarpet"
           }
          ],
          "scattergeo": [
           {
            "marker": {
             "colorbar": {
              "outlinewidth": 0,
              "ticks": ""
             }
            },
            "type": "scattergeo"
           }
          ],
          "scattergl": [
           {
            "marker": {
             "line": {
              "color": "#283442"
             }
            },
            "type": "scattergl"
           }
          ],
          "scattermapbox": [
           {
            "marker": {
             "colorbar": {
              "outlinewidth": 0,
              "ticks": ""
             }
            },
            "type": "scattermapbox"
           }
          ],
          "scatterpolar": [
           {
            "marker": {
             "colorbar": {
              "outlinewidth": 0,
              "ticks": ""
             }
            },
            "type": "scatterpolar"
           }
          ],
          "scatterpolargl": [
           {
            "marker": {
             "colorbar": {
              "outlinewidth": 0,
              "ticks": ""
             }
            },
            "type": "scatterpolargl"
           }
          ],
          "scatterternary": [
           {
            "marker": {
             "colorbar": {
              "outlinewidth": 0,
              "ticks": ""
             }
            },
            "type": "scatterternary"
           }
          ],
          "surface": [
           {
            "colorbar": {
             "outlinewidth": 0,
             "ticks": ""
            },
            "colorscale": [
             [
              0,
              "#0d0887"
             ],
             [
              0.1111111111111111,
              "#46039f"
             ],
             [
              0.2222222222222222,
              "#7201a8"
             ],
             [
              0.3333333333333333,
              "#9c179e"
             ],
             [
              0.4444444444444444,
              "#bd3786"
             ],
             [
              0.5555555555555556,
              "#d8576b"
             ],
             [
              0.6666666666666666,
              "#ed7953"
             ],
             [
              0.7777777777777778,
              "#fb9f3a"
             ],
             [
              0.8888888888888888,
              "#fdca26"
             ],
             [
              1,
              "#f0f921"
             ]
            ],
            "type": "surface"
           }
          ],
          "table": [
           {
            "cells": {
             "fill": {
              "color": "#506784"
             },
             "line": {
              "color": "rgb(17,17,17)"
             }
            },
            "header": {
             "fill": {
              "color": "#2a3f5f"
             },
             "line": {
              "color": "rgb(17,17,17)"
             }
            },
            "type": "table"
           }
          ]
         },
         "layout": {
          "annotationdefaults": {
           "arrowcolor": "#f2f5fa",
           "arrowhead": 0,
           "arrowwidth": 1
          },
          "autotypenumbers": "strict",
          "coloraxis": {
           "colorbar": {
            "outlinewidth": 0,
            "ticks": ""
           }
          },
          "colorscale": {
           "diverging": [
            [
             0,
             "#8e0152"
            ],
            [
             0.1,
             "#c51b7d"
            ],
            [
             0.2,
             "#de77ae"
            ],
            [
             0.3,
             "#f1b6da"
            ],
            [
             0.4,
             "#fde0ef"
            ],
            [
             0.5,
             "#f7f7f7"
            ],
            [
             0.6,
             "#e6f5d0"
            ],
            [
             0.7,
             "#b8e186"
            ],
            [
             0.8,
             "#7fbc41"
            ],
            [
             0.9,
             "#4d9221"
            ],
            [
             1,
             "#276419"
            ]
           ],
           "sequential": [
            [
             0,
             "#0d0887"
            ],
            [
             0.1111111111111111,
             "#46039f"
            ],
            [
             0.2222222222222222,
             "#7201a8"
            ],
            [
             0.3333333333333333,
             "#9c179e"
            ],
            [
             0.4444444444444444,
             "#bd3786"
            ],
            [
             0.5555555555555556,
             "#d8576b"
            ],
            [
             0.6666666666666666,
             "#ed7953"
            ],
            [
             0.7777777777777778,
             "#fb9f3a"
            ],
            [
             0.8888888888888888,
             "#fdca26"
            ],
            [
             1,
             "#f0f921"
            ]
           ],
           "sequentialminus": [
            [
             0,
             "#0d0887"
            ],
            [
             0.1111111111111111,
             "#46039f"
            ],
            [
             0.2222222222222222,
             "#7201a8"
            ],
            [
             0.3333333333333333,
             "#9c179e"
            ],
            [
             0.4444444444444444,
             "#bd3786"
            ],
            [
             0.5555555555555556,
             "#d8576b"
            ],
            [
             0.6666666666666666,
             "#ed7953"
            ],
            [
             0.7777777777777778,
             "#fb9f3a"
            ],
            [
             0.8888888888888888,
             "#fdca26"
            ],
            [
             1,
             "#f0f921"
            ]
           ]
          },
          "colorway": [
           "#636efa",
           "#EF553B",
           "#00cc96",
           "#ab63fa",
           "#FFA15A",
           "#19d3f3",
           "#FF6692",
           "#B6E880",
           "#FF97FF",
           "#FECB52"
          ],
          "font": {
           "color": "#f2f5fa"
          },
          "geo": {
           "bgcolor": "rgb(17,17,17)",
           "lakecolor": "rgb(17,17,17)",
           "landcolor": "rgb(17,17,17)",
           "showlakes": true,
           "showland": true,
           "subunitcolor": "#506784"
          },
          "hoverlabel": {
           "align": "left"
          },
          "hovermode": "closest",
          "mapbox": {
           "style": "dark"
          },
          "paper_bgcolor": "rgb(17,17,17)",
          "plot_bgcolor": "rgb(17,17,17)",
          "polar": {
           "angularaxis": {
            "gridcolor": "#506784",
            "linecolor": "#506784",
            "ticks": ""
           },
           "bgcolor": "rgb(17,17,17)",
           "radialaxis": {
            "gridcolor": "#506784",
            "linecolor": "#506784",
            "ticks": ""
           }
          },
          "scene": {
           "xaxis": {
            "backgroundcolor": "rgb(17,17,17)",
            "gridcolor": "#506784",
            "gridwidth": 2,
            "linecolor": "#506784",
            "showbackground": true,
            "ticks": "",
            "zerolinecolor": "#C8D4E3"
           },
           "yaxis": {
            "backgroundcolor": "rgb(17,17,17)",
            "gridcolor": "#506784",
            "gridwidth": 2,
            "linecolor": "#506784",
            "showbackground": true,
            "ticks": "",
            "zerolinecolor": "#C8D4E3"
           },
           "zaxis": {
            "backgroundcolor": "rgb(17,17,17)",
            "gridcolor": "#506784",
            "gridwidth": 2,
            "linecolor": "#506784",
            "showbackground": true,
            "ticks": "",
            "zerolinecolor": "#C8D4E3"
           }
          },
          "shapedefaults": {
           "line": {
            "color": "#f2f5fa"
           }
          },
          "sliderdefaults": {
           "bgcolor": "#C8D4E3",
           "bordercolor": "rgb(17,17,17)",
           "borderwidth": 1,
           "tickwidth": 0
          },
          "ternary": {
           "aaxis": {
            "gridcolor": "#506784",
            "linecolor": "#506784",
            "ticks": ""
           },
           "baxis": {
            "gridcolor": "#506784",
            "linecolor": "#506784",
            "ticks": ""
           },
           "bgcolor": "rgb(17,17,17)",
           "caxis": {
            "gridcolor": "#506784",
            "linecolor": "#506784",
            "ticks": ""
           }
          },
          "title": {
           "x": 0.05
          },
          "updatemenudefaults": {
           "bgcolor": "#506784",
           "borderwidth": 0
          },
          "xaxis": {
           "automargin": true,
           "gridcolor": "#283442",
           "linecolor": "#506784",
           "ticks": "",
           "title": {
            "standoff": 15
           },
           "zerolinecolor": "#283442",
           "zerolinewidth": 2
          },
          "yaxis": {
           "automargin": true,
           "gridcolor": "#283442",
           "linecolor": "#506784",
           "ticks": "",
           "title": {
            "standoff": 15
           },
           "zerolinecolor": "#283442",
           "zerolinewidth": 2
          }
         }
        },
        "width": 900,
        "xaxis": {
         "showgrid": false
        },
        "yaxis": {
         "showgrid": false
        }
       }
      }
     },
     "metadata": {},
     "output_type": "display_data"
    }
   ],
   "source": [
    "import plotly.express as px\n",
    "import plotly.graph_objs as go \n",
    "\n",
    "fig = go.Figure()\n",
    "\n",
    "fig.add_trace(go.Bar(x=[20, 14, 23],\n",
    "                     y=['giraffes', 'orangutans', 'monkeys'],\n",
    "                     name='Chris',\n",
    "                     orientation='h',\n",
    "                     marker=dict(color=px.colors.sequential.RdBu,\n",
    "                                 line=dict(color='#000', width=0.2))))\n",
    "\n",
    "fig.add_trace(go.Bar(x=[12, 18, 29],\n",
    "                     y=['giraffes', 'orangutans', 'monkeys'],\n",
    "                     name='Baudelaire',\n",
    "                     orientation='h',\n",
    "                     marker=dict(color=px.colors.sequential.RdPu,\n",
    "                                 line=dict(color='#fff', width=1))))\n",
    "\n",
    "fig.update_layout(barmode='group',\n",
    "                  xaxis=dict(showgrid=False),\n",
    "                  yaxis=dict(showgrid=False),\n",
    "                  height=350, width=900,\n",
    "                  template='plotly_dark',\n",
    "                  paper_bgcolor='#000',\n",
    "                  plot_bgcolor='#000')"
   ]
  },
  {
   "cell_type": "code",
   "execution_count": 8,
   "metadata": {},
   "outputs": [
    {
     "data": {
      "application/vnd.plotly.v1+json": {
       "config": {
        "plotlyServerURL": "https://plot.ly"
       },
       "data": [
        {
         "marker": {
          "color": [
           "rgb(103,0,31)",
           "rgb(178,24,43)",
           "rgb(214,96,77)",
           "rgb(244,165,130)",
           "rgb(253,219,199)",
           "rgb(247,247,247)",
           "rgb(209,229,240)",
           "rgb(146,197,222)",
           "rgb(67,147,195)",
           "rgb(33,102,172)",
           "rgb(5,48,97)"
          ],
          "line": {
           "color": "#000",
           "width": 0.2
          }
         },
         "name": "Chris",
         "orientation": "h",
         "type": "bar",
         "x": [
          20,
          14,
          23
         ],
         "y": [
          "giraffes",
          "orangutans",
          "monkeys"
         ]
        },
        {
         "marker": {
          "color": [
           "rgb(255,247,243)",
           "rgb(253,224,221)",
           "rgb(252,197,192)",
           "rgb(250,159,181)",
           "rgb(247,104,161)",
           "rgb(221,52,151)",
           "rgb(174,1,126)",
           "rgb(122,1,119)",
           "rgb(73,0,106)"
          ],
          "line": {
           "color": "#fff",
           "width": 1
          }
         },
         "name": "Baudelaire",
         "orientation": "h",
         "type": "bar",
         "x": [
          -12,
          -18,
          -29
         ],
         "y": [
          "giraffes",
          "orangutans",
          "monkeys"
         ]
        }
       ],
       "layout": {
        "barmode": "overlay",
        "height": 350,
        "paper_bgcolor": "#000",
        "plot_bgcolor": "#000",
        "template": {
         "data": {
          "bar": [
           {
            "error_x": {
             "color": "#f2f5fa"
            },
            "error_y": {
             "color": "#f2f5fa"
            },
            "marker": {
             "line": {
              "color": "rgb(17,17,17)",
              "width": 0.5
             },
             "pattern": {
              "fillmode": "overlay",
              "size": 10,
              "solidity": 0.2
             }
            },
            "type": "bar"
           }
          ],
          "barpolar": [
           {
            "marker": {
             "line": {
              "color": "rgb(17,17,17)",
              "width": 0.5
             },
             "pattern": {
              "fillmode": "overlay",
              "size": 10,
              "solidity": 0.2
             }
            },
            "type": "barpolar"
           }
          ],
          "carpet": [
           {
            "aaxis": {
             "endlinecolor": "#A2B1C6",
             "gridcolor": "#506784",
             "linecolor": "#506784",
             "minorgridcolor": "#506784",
             "startlinecolor": "#A2B1C6"
            },
            "baxis": {
             "endlinecolor": "#A2B1C6",
             "gridcolor": "#506784",
             "linecolor": "#506784",
             "minorgridcolor": "#506784",
             "startlinecolor": "#A2B1C6"
            },
            "type": "carpet"
           }
          ],
          "choropleth": [
           {
            "colorbar": {
             "outlinewidth": 0,
             "ticks": ""
            },
            "type": "choropleth"
           }
          ],
          "contour": [
           {
            "colorbar": {
             "outlinewidth": 0,
             "ticks": ""
            },
            "colorscale": [
             [
              0,
              "#0d0887"
             ],
             [
              0.1111111111111111,
              "#46039f"
             ],
             [
              0.2222222222222222,
              "#7201a8"
             ],
             [
              0.3333333333333333,
              "#9c179e"
             ],
             [
              0.4444444444444444,
              "#bd3786"
             ],
             [
              0.5555555555555556,
              "#d8576b"
             ],
             [
              0.6666666666666666,
              "#ed7953"
             ],
             [
              0.7777777777777778,
              "#fb9f3a"
             ],
             [
              0.8888888888888888,
              "#fdca26"
             ],
             [
              1,
              "#f0f921"
             ]
            ],
            "type": "contour"
           }
          ],
          "contourcarpet": [
           {
            "colorbar": {
             "outlinewidth": 0,
             "ticks": ""
            },
            "type": "contourcarpet"
           }
          ],
          "heatmap": [
           {
            "colorbar": {
             "outlinewidth": 0,
             "ticks": ""
            },
            "colorscale": [
             [
              0,
              "#0d0887"
             ],
             [
              0.1111111111111111,
              "#46039f"
             ],
             [
              0.2222222222222222,
              "#7201a8"
             ],
             [
              0.3333333333333333,
              "#9c179e"
             ],
             [
              0.4444444444444444,
              "#bd3786"
             ],
             [
              0.5555555555555556,
              "#d8576b"
             ],
             [
              0.6666666666666666,
              "#ed7953"
             ],
             [
              0.7777777777777778,
              "#fb9f3a"
             ],
             [
              0.8888888888888888,
              "#fdca26"
             ],
             [
              1,
              "#f0f921"
             ]
            ],
            "type": "heatmap"
           }
          ],
          "heatmapgl": [
           {
            "colorbar": {
             "outlinewidth": 0,
             "ticks": ""
            },
            "colorscale": [
             [
              0,
              "#0d0887"
             ],
             [
              0.1111111111111111,
              "#46039f"
             ],
             [
              0.2222222222222222,
              "#7201a8"
             ],
             [
              0.3333333333333333,
              "#9c179e"
             ],
             [
              0.4444444444444444,
              "#bd3786"
             ],
             [
              0.5555555555555556,
              "#d8576b"
             ],
             [
              0.6666666666666666,
              "#ed7953"
             ],
             [
              0.7777777777777778,
              "#fb9f3a"
             ],
             [
              0.8888888888888888,
              "#fdca26"
             ],
             [
              1,
              "#f0f921"
             ]
            ],
            "type": "heatmapgl"
           }
          ],
          "histogram": [
           {
            "marker": {
             "pattern": {
              "fillmode": "overlay",
              "size": 10,
              "solidity": 0.2
             }
            },
            "type": "histogram"
           }
          ],
          "histogram2d": [
           {
            "colorbar": {
             "outlinewidth": 0,
             "ticks": ""
            },
            "colorscale": [
             [
              0,
              "#0d0887"
             ],
             [
              0.1111111111111111,
              "#46039f"
             ],
             [
              0.2222222222222222,
              "#7201a8"
             ],
             [
              0.3333333333333333,
              "#9c179e"
             ],
             [
              0.4444444444444444,
              "#bd3786"
             ],
             [
              0.5555555555555556,
              "#d8576b"
             ],
             [
              0.6666666666666666,
              "#ed7953"
             ],
             [
              0.7777777777777778,
              "#fb9f3a"
             ],
             [
              0.8888888888888888,
              "#fdca26"
             ],
             [
              1,
              "#f0f921"
             ]
            ],
            "type": "histogram2d"
           }
          ],
          "histogram2dcontour": [
           {
            "colorbar": {
             "outlinewidth": 0,
             "ticks": ""
            },
            "colorscale": [
             [
              0,
              "#0d0887"
             ],
             [
              0.1111111111111111,
              "#46039f"
             ],
             [
              0.2222222222222222,
              "#7201a8"
             ],
             [
              0.3333333333333333,
              "#9c179e"
             ],
             [
              0.4444444444444444,
              "#bd3786"
             ],
             [
              0.5555555555555556,
              "#d8576b"
             ],
             [
              0.6666666666666666,
              "#ed7953"
             ],
             [
              0.7777777777777778,
              "#fb9f3a"
             ],
             [
              0.8888888888888888,
              "#fdca26"
             ],
             [
              1,
              "#f0f921"
             ]
            ],
            "type": "histogram2dcontour"
           }
          ],
          "mesh3d": [
           {
            "colorbar": {
             "outlinewidth": 0,
             "ticks": ""
            },
            "type": "mesh3d"
           }
          ],
          "parcoords": [
           {
            "line": {
             "colorbar": {
              "outlinewidth": 0,
              "ticks": ""
             }
            },
            "type": "parcoords"
           }
          ],
          "pie": [
           {
            "automargin": true,
            "type": "pie"
           }
          ],
          "scatter": [
           {
            "marker": {
             "line": {
              "color": "#283442"
             }
            },
            "type": "scatter"
           }
          ],
          "scatter3d": [
           {
            "line": {
             "colorbar": {
              "outlinewidth": 0,
              "ticks": ""
             }
            },
            "marker": {
             "colorbar": {
              "outlinewidth": 0,
              "ticks": ""
             }
            },
            "type": "scatter3d"
           }
          ],
          "scattercarpet": [
           {
            "marker": {
             "colorbar": {
              "outlinewidth": 0,
              "ticks": ""
             }
            },
            "type": "scattercarpet"
           }
          ],
          "scattergeo": [
           {
            "marker": {
             "colorbar": {
              "outlinewidth": 0,
              "ticks": ""
             }
            },
            "type": "scattergeo"
           }
          ],
          "scattergl": [
           {
            "marker": {
             "line": {
              "color": "#283442"
             }
            },
            "type": "scattergl"
           }
          ],
          "scattermapbox": [
           {
            "marker": {
             "colorbar": {
              "outlinewidth": 0,
              "ticks": ""
             }
            },
            "type": "scattermapbox"
           }
          ],
          "scatterpolar": [
           {
            "marker": {
             "colorbar": {
              "outlinewidth": 0,
              "ticks": ""
             }
            },
            "type": "scatterpolar"
           }
          ],
          "scatterpolargl": [
           {
            "marker": {
             "colorbar": {
              "outlinewidth": 0,
              "ticks": ""
             }
            },
            "type": "scatterpolargl"
           }
          ],
          "scatterternary": [
           {
            "marker": {
             "colorbar": {
              "outlinewidth": 0,
              "ticks": ""
             }
            },
            "type": "scatterternary"
           }
          ],
          "surface": [
           {
            "colorbar": {
             "outlinewidth": 0,
             "ticks": ""
            },
            "colorscale": [
             [
              0,
              "#0d0887"
             ],
             [
              0.1111111111111111,
              "#46039f"
             ],
             [
              0.2222222222222222,
              "#7201a8"
             ],
             [
              0.3333333333333333,
              "#9c179e"
             ],
             [
              0.4444444444444444,
              "#bd3786"
             ],
             [
              0.5555555555555556,
              "#d8576b"
             ],
             [
              0.6666666666666666,
              "#ed7953"
             ],
             [
              0.7777777777777778,
              "#fb9f3a"
             ],
             [
              0.8888888888888888,
              "#fdca26"
             ],
             [
              1,
              "#f0f921"
             ]
            ],
            "type": "surface"
           }
          ],
          "table": [
           {
            "cells": {
             "fill": {
              "color": "#506784"
             },
             "line": {
              "color": "rgb(17,17,17)"
             }
            },
            "header": {
             "fill": {
              "color": "#2a3f5f"
             },
             "line": {
              "color": "rgb(17,17,17)"
             }
            },
            "type": "table"
           }
          ]
         },
         "layout": {
          "annotationdefaults": {
           "arrowcolor": "#f2f5fa",
           "arrowhead": 0,
           "arrowwidth": 1
          },
          "autotypenumbers": "strict",
          "coloraxis": {
           "colorbar": {
            "outlinewidth": 0,
            "ticks": ""
           }
          },
          "colorscale": {
           "diverging": [
            [
             0,
             "#8e0152"
            ],
            [
             0.1,
             "#c51b7d"
            ],
            [
             0.2,
             "#de77ae"
            ],
            [
             0.3,
             "#f1b6da"
            ],
            [
             0.4,
             "#fde0ef"
            ],
            [
             0.5,
             "#f7f7f7"
            ],
            [
             0.6,
             "#e6f5d0"
            ],
            [
             0.7,
             "#b8e186"
            ],
            [
             0.8,
             "#7fbc41"
            ],
            [
             0.9,
             "#4d9221"
            ],
            [
             1,
             "#276419"
            ]
           ],
           "sequential": [
            [
             0,
             "#0d0887"
            ],
            [
             0.1111111111111111,
             "#46039f"
            ],
            [
             0.2222222222222222,
             "#7201a8"
            ],
            [
             0.3333333333333333,
             "#9c179e"
            ],
            [
             0.4444444444444444,
             "#bd3786"
            ],
            [
             0.5555555555555556,
             "#d8576b"
            ],
            [
             0.6666666666666666,
             "#ed7953"
            ],
            [
             0.7777777777777778,
             "#fb9f3a"
            ],
            [
             0.8888888888888888,
             "#fdca26"
            ],
            [
             1,
             "#f0f921"
            ]
           ],
           "sequentialminus": [
            [
             0,
             "#0d0887"
            ],
            [
             0.1111111111111111,
             "#46039f"
            ],
            [
             0.2222222222222222,
             "#7201a8"
            ],
            [
             0.3333333333333333,
             "#9c179e"
            ],
            [
             0.4444444444444444,
             "#bd3786"
            ],
            [
             0.5555555555555556,
             "#d8576b"
            ],
            [
             0.6666666666666666,
             "#ed7953"
            ],
            [
             0.7777777777777778,
             "#fb9f3a"
            ],
            [
             0.8888888888888888,
             "#fdca26"
            ],
            [
             1,
             "#f0f921"
            ]
           ]
          },
          "colorway": [
           "#636efa",
           "#EF553B",
           "#00cc96",
           "#ab63fa",
           "#FFA15A",
           "#19d3f3",
           "#FF6692",
           "#B6E880",
           "#FF97FF",
           "#FECB52"
          ],
          "font": {
           "color": "#f2f5fa"
          },
          "geo": {
           "bgcolor": "rgb(17,17,17)",
           "lakecolor": "rgb(17,17,17)",
           "landcolor": "rgb(17,17,17)",
           "showlakes": true,
           "showland": true,
           "subunitcolor": "#506784"
          },
          "hoverlabel": {
           "align": "left"
          },
          "hovermode": "closest",
          "mapbox": {
           "style": "dark"
          },
          "paper_bgcolor": "rgb(17,17,17)",
          "plot_bgcolor": "rgb(17,17,17)",
          "polar": {
           "angularaxis": {
            "gridcolor": "#506784",
            "linecolor": "#506784",
            "ticks": ""
           },
           "bgcolor": "rgb(17,17,17)",
           "radialaxis": {
            "gridcolor": "#506784",
            "linecolor": "#506784",
            "ticks": ""
           }
          },
          "scene": {
           "xaxis": {
            "backgroundcolor": "rgb(17,17,17)",
            "gridcolor": "#506784",
            "gridwidth": 2,
            "linecolor": "#506784",
            "showbackground": true,
            "ticks": "",
            "zerolinecolor": "#C8D4E3"
           },
           "yaxis": {
            "backgroundcolor": "rgb(17,17,17)",
            "gridcolor": "#506784",
            "gridwidth": 2,
            "linecolor": "#506784",
            "showbackground": true,
            "ticks": "",
            "zerolinecolor": "#C8D4E3"
           },
           "zaxis": {
            "backgroundcolor": "rgb(17,17,17)",
            "gridcolor": "#506784",
            "gridwidth": 2,
            "linecolor": "#506784",
            "showbackground": true,
            "ticks": "",
            "zerolinecolor": "#C8D4E3"
           }
          },
          "shapedefaults": {
           "line": {
            "color": "#f2f5fa"
           }
          },
          "sliderdefaults": {
           "bgcolor": "#C8D4E3",
           "bordercolor": "rgb(17,17,17)",
           "borderwidth": 1,
           "tickwidth": 0
          },
          "ternary": {
           "aaxis": {
            "gridcolor": "#506784",
            "linecolor": "#506784",
            "ticks": ""
           },
           "baxis": {
            "gridcolor": "#506784",
            "linecolor": "#506784",
            "ticks": ""
           },
           "bgcolor": "rgb(17,17,17)",
           "caxis": {
            "gridcolor": "#506784",
            "linecolor": "#506784",
            "ticks": ""
           }
          },
          "title": {
           "x": 0.05
          },
          "updatemenudefaults": {
           "bgcolor": "#506784",
           "borderwidth": 0
          },
          "xaxis": {
           "automargin": true,
           "gridcolor": "#283442",
           "linecolor": "#506784",
           "ticks": "",
           "title": {
            "standoff": 15
           },
           "zerolinecolor": "#283442",
           "zerolinewidth": 2
          },
          "yaxis": {
           "automargin": true,
           "gridcolor": "#283442",
           "linecolor": "#506784",
           "ticks": "",
           "title": {
            "standoff": 15
           },
           "zerolinecolor": "#283442",
           "zerolinewidth": 2
          }
         }
        },
        "width": 900,
        "xaxis": {
         "showgrid": false
        },
        "yaxis": {
         "showgrid": false
        }
       }
      }
     },
     "metadata": {},
     "output_type": "display_data"
    }
   ],
   "source": [
    "import plotly.express as px\n",
    "import plotly.graph_objs as go \n",
    "\n",
    "fig = go.Figure()\n",
    "\n",
    "fig.add_trace(go.Bar(x=[20, 14, 23],\n",
    "                     y=['giraffes', 'orangutans', 'monkeys'],\n",
    "                     name='Chris',\n",
    "                     orientation='h',\n",
    "                     marker=dict(color=px.colors.sequential.RdBu,\n",
    "                                 line=dict(color='#000', width=0.2))))\n",
    "\n",
    "fig.add_trace(go.Bar(x=[-12, -18, -29],\n",
    "                     y=['giraffes', 'orangutans', 'monkeys'],\n",
    "                     name='Baudelaire',\n",
    "                     orientation='h',\n",
    "                     marker=dict(color=px.colors.sequential.RdPu,\n",
    "                                 line=dict(color='#fff', width=1))))\n",
    "\n",
    "fig.update_layout(barmode='overlay',\n",
    "                  xaxis=dict(showgrid=False),\n",
    "                  yaxis=dict(showgrid=False),\n",
    "                  height=350, width=900,\n",
    "                  template='plotly_dark',\n",
    "                  paper_bgcolor='#000',\n",
    "                  plot_bgcolor='#000')"
   ]
  },
  {
   "cell_type": "markdown",
   "metadata": {},
   "source": [
    "# Beautify tornado"
   ]
  },
  {
   "cell_type": "code",
   "execution_count": 9,
   "metadata": {},
   "outputs": [
    {
     "data": {
      "application/vnd.plotly.v1+json": {
       "config": {
        "plotlyServerURL": "https://plot.ly"
       },
       "data": [
        {
         "base": 0,
         "marker": {
          "color": "firebrick"
         },
         "name": "revenue",
         "orientation": "h",
         "text": [
          "228572",
          "265809",
          "259968",
          "274150",
          "365817"
         ],
         "textposition": "inside",
         "texttemplate": "%{x:,s}(M$) ",
         "type": "bar",
         "x": [
          228572,
          265809,
          259968,
          274150,
          365817
         ],
         "y": [
          "2017",
          "2018",
          "2019",
          "2020",
          "2021"
         ]
        },
        {
         "base": [
          -141702,
          -163826,
          -162264,
          -170143,
          -212981
         ],
         "marker": {
          "color": "royalblue"
         },
         "name": "revenue",
         "orientation": "h",
         "text": [
          "141702",
          "163826",
          "162264",
          "170143",
          "212981"
         ],
         "textposition": "inside",
         "texttemplate": "%{x:,s}(M$) ",
         "type": "bar",
         "x": [
          141702,
          163826,
          162264,
          170143,
          212981
         ],
         "y": [
          "2017",
          "2018",
          "2019",
          "2020",
          "2021"
         ]
        }
       ],
       "layout": {
        "bargap": 0.4,
        "barmode": "overlay",
        "height": 500,
        "legend": {
         "x": 0.85,
         "y": 0
        },
        "paper_bgcolor": "#000",
        "plot_bgcolor": "#000",
        "template": {
         "data": {
          "bar": [
           {
            "error_x": {
             "color": "#f2f5fa"
            },
            "error_y": {
             "color": "#f2f5fa"
            },
            "marker": {
             "line": {
              "color": "rgb(17,17,17)",
              "width": 0.5
             },
             "pattern": {
              "fillmode": "overlay",
              "size": 10,
              "solidity": 0.2
             }
            },
            "type": "bar"
           }
          ],
          "barpolar": [
           {
            "marker": {
             "line": {
              "color": "rgb(17,17,17)",
              "width": 0.5
             },
             "pattern": {
              "fillmode": "overlay",
              "size": 10,
              "solidity": 0.2
             }
            },
            "type": "barpolar"
           }
          ],
          "carpet": [
           {
            "aaxis": {
             "endlinecolor": "#A2B1C6",
             "gridcolor": "#506784",
             "linecolor": "#506784",
             "minorgridcolor": "#506784",
             "startlinecolor": "#A2B1C6"
            },
            "baxis": {
             "endlinecolor": "#A2B1C6",
             "gridcolor": "#506784",
             "linecolor": "#506784",
             "minorgridcolor": "#506784",
             "startlinecolor": "#A2B1C6"
            },
            "type": "carpet"
           }
          ],
          "choropleth": [
           {
            "colorbar": {
             "outlinewidth": 0,
             "ticks": ""
            },
            "type": "choropleth"
           }
          ],
          "contour": [
           {
            "colorbar": {
             "outlinewidth": 0,
             "ticks": ""
            },
            "colorscale": [
             [
              0,
              "#0d0887"
             ],
             [
              0.1111111111111111,
              "#46039f"
             ],
             [
              0.2222222222222222,
              "#7201a8"
             ],
             [
              0.3333333333333333,
              "#9c179e"
             ],
             [
              0.4444444444444444,
              "#bd3786"
             ],
             [
              0.5555555555555556,
              "#d8576b"
             ],
             [
              0.6666666666666666,
              "#ed7953"
             ],
             [
              0.7777777777777778,
              "#fb9f3a"
             ],
             [
              0.8888888888888888,
              "#fdca26"
             ],
             [
              1,
              "#f0f921"
             ]
            ],
            "type": "contour"
           }
          ],
          "contourcarpet": [
           {
            "colorbar": {
             "outlinewidth": 0,
             "ticks": ""
            },
            "type": "contourcarpet"
           }
          ],
          "heatmap": [
           {
            "colorbar": {
             "outlinewidth": 0,
             "ticks": ""
            },
            "colorscale": [
             [
              0,
              "#0d0887"
             ],
             [
              0.1111111111111111,
              "#46039f"
             ],
             [
              0.2222222222222222,
              "#7201a8"
             ],
             [
              0.3333333333333333,
              "#9c179e"
             ],
             [
              0.4444444444444444,
              "#bd3786"
             ],
             [
              0.5555555555555556,
              "#d8576b"
             ],
             [
              0.6666666666666666,
              "#ed7953"
             ],
             [
              0.7777777777777778,
              "#fb9f3a"
             ],
             [
              0.8888888888888888,
              "#fdca26"
             ],
             [
              1,
              "#f0f921"
             ]
            ],
            "type": "heatmap"
           }
          ],
          "heatmapgl": [
           {
            "colorbar": {
             "outlinewidth": 0,
             "ticks": ""
            },
            "colorscale": [
             [
              0,
              "#0d0887"
             ],
             [
              0.1111111111111111,
              "#46039f"
             ],
             [
              0.2222222222222222,
              "#7201a8"
             ],
             [
              0.3333333333333333,
              "#9c179e"
             ],
             [
              0.4444444444444444,
              "#bd3786"
             ],
             [
              0.5555555555555556,
              "#d8576b"
             ],
             [
              0.6666666666666666,
              "#ed7953"
             ],
             [
              0.7777777777777778,
              "#fb9f3a"
             ],
             [
              0.8888888888888888,
              "#fdca26"
             ],
             [
              1,
              "#f0f921"
             ]
            ],
            "type": "heatmapgl"
           }
          ],
          "histogram": [
           {
            "marker": {
             "pattern": {
              "fillmode": "overlay",
              "size": 10,
              "solidity": 0.2
             }
            },
            "type": "histogram"
           }
          ],
          "histogram2d": [
           {
            "colorbar": {
             "outlinewidth": 0,
             "ticks": ""
            },
            "colorscale": [
             [
              0,
              "#0d0887"
             ],
             [
              0.1111111111111111,
              "#46039f"
             ],
             [
              0.2222222222222222,
              "#7201a8"
             ],
             [
              0.3333333333333333,
              "#9c179e"
             ],
             [
              0.4444444444444444,
              "#bd3786"
             ],
             [
              0.5555555555555556,
              "#d8576b"
             ],
             [
              0.6666666666666666,
              "#ed7953"
             ],
             [
              0.7777777777777778,
              "#fb9f3a"
             ],
             [
              0.8888888888888888,
              "#fdca26"
             ],
             [
              1,
              "#f0f921"
             ]
            ],
            "type": "histogram2d"
           }
          ],
          "histogram2dcontour": [
           {
            "colorbar": {
             "outlinewidth": 0,
             "ticks": ""
            },
            "colorscale": [
             [
              0,
              "#0d0887"
             ],
             [
              0.1111111111111111,
              "#46039f"
             ],
             [
              0.2222222222222222,
              "#7201a8"
             ],
             [
              0.3333333333333333,
              "#9c179e"
             ],
             [
              0.4444444444444444,
              "#bd3786"
             ],
             [
              0.5555555555555556,
              "#d8576b"
             ],
             [
              0.6666666666666666,
              "#ed7953"
             ],
             [
              0.7777777777777778,
              "#fb9f3a"
             ],
             [
              0.8888888888888888,
              "#fdca26"
             ],
             [
              1,
              "#f0f921"
             ]
            ],
            "type": "histogram2dcontour"
           }
          ],
          "mesh3d": [
           {
            "colorbar": {
             "outlinewidth": 0,
             "ticks": ""
            },
            "type": "mesh3d"
           }
          ],
          "parcoords": [
           {
            "line": {
             "colorbar": {
              "outlinewidth": 0,
              "ticks": ""
             }
            },
            "type": "parcoords"
           }
          ],
          "pie": [
           {
            "automargin": true,
            "type": "pie"
           }
          ],
          "scatter": [
           {
            "marker": {
             "line": {
              "color": "#283442"
             }
            },
            "type": "scatter"
           }
          ],
          "scatter3d": [
           {
            "line": {
             "colorbar": {
              "outlinewidth": 0,
              "ticks": ""
             }
            },
            "marker": {
             "colorbar": {
              "outlinewidth": 0,
              "ticks": ""
             }
            },
            "type": "scatter3d"
           }
          ],
          "scattercarpet": [
           {
            "marker": {
             "colorbar": {
              "outlinewidth": 0,
              "ticks": ""
             }
            },
            "type": "scattercarpet"
           }
          ],
          "scattergeo": [
           {
            "marker": {
             "colorbar": {
              "outlinewidth": 0,
              "ticks": ""
             }
            },
            "type": "scattergeo"
           }
          ],
          "scattergl": [
           {
            "marker": {
             "line": {
              "color": "#283442"
             }
            },
            "type": "scattergl"
           }
          ],
          "scattermapbox": [
           {
            "marker": {
             "colorbar": {
              "outlinewidth": 0,
              "ticks": ""
             }
            },
            "type": "scattermapbox"
           }
          ],
          "scatterpolar": [
           {
            "marker": {
             "colorbar": {
              "outlinewidth": 0,
              "ticks": ""
             }
            },
            "type": "scatterpolar"
           }
          ],
          "scatterpolargl": [
           {
            "marker": {
             "colorbar": {
              "outlinewidth": 0,
              "ticks": ""
             }
            },
            "type": "scatterpolargl"
           }
          ],
          "scatterternary": [
           {
            "marker": {
             "colorbar": {
              "outlinewidth": 0,
              "ticks": ""
             }
            },
            "type": "scatterternary"
           }
          ],
          "surface": [
           {
            "colorbar": {
             "outlinewidth": 0,
             "ticks": ""
            },
            "colorscale": [
             [
              0,
              "#0d0887"
             ],
             [
              0.1111111111111111,
              "#46039f"
             ],
             [
              0.2222222222222222,
              "#7201a8"
             ],
             [
              0.3333333333333333,
              "#9c179e"
             ],
             [
              0.4444444444444444,
              "#bd3786"
             ],
             [
              0.5555555555555556,
              "#d8576b"
             ],
             [
              0.6666666666666666,
              "#ed7953"
             ],
             [
              0.7777777777777778,
              "#fb9f3a"
             ],
             [
              0.8888888888888888,
              "#fdca26"
             ],
             [
              1,
              "#f0f921"
             ]
            ],
            "type": "surface"
           }
          ],
          "table": [
           {
            "cells": {
             "fill": {
              "color": "#506784"
             },
             "line": {
              "color": "rgb(17,17,17)"
             }
            },
            "header": {
             "fill": {
              "color": "#2a3f5f"
             },
             "line": {
              "color": "rgb(17,17,17)"
             }
            },
            "type": "table"
           }
          ]
         },
         "layout": {
          "annotationdefaults": {
           "arrowcolor": "#f2f5fa",
           "arrowhead": 0,
           "arrowwidth": 1
          },
          "autotypenumbers": "strict",
          "coloraxis": {
           "colorbar": {
            "outlinewidth": 0,
            "ticks": ""
           }
          },
          "colorscale": {
           "diverging": [
            [
             0,
             "#8e0152"
            ],
            [
             0.1,
             "#c51b7d"
            ],
            [
             0.2,
             "#de77ae"
            ],
            [
             0.3,
             "#f1b6da"
            ],
            [
             0.4,
             "#fde0ef"
            ],
            [
             0.5,
             "#f7f7f7"
            ],
            [
             0.6,
             "#e6f5d0"
            ],
            [
             0.7,
             "#b8e186"
            ],
            [
             0.8,
             "#7fbc41"
            ],
            [
             0.9,
             "#4d9221"
            ],
            [
             1,
             "#276419"
            ]
           ],
           "sequential": [
            [
             0,
             "#0d0887"
            ],
            [
             0.1111111111111111,
             "#46039f"
            ],
            [
             0.2222222222222222,
             "#7201a8"
            ],
            [
             0.3333333333333333,
             "#9c179e"
            ],
            [
             0.4444444444444444,
             "#bd3786"
            ],
            [
             0.5555555555555556,
             "#d8576b"
            ],
            [
             0.6666666666666666,
             "#ed7953"
            ],
            [
             0.7777777777777778,
             "#fb9f3a"
            ],
            [
             0.8888888888888888,
             "#fdca26"
            ],
            [
             1,
             "#f0f921"
            ]
           ],
           "sequentialminus": [
            [
             0,
             "#0d0887"
            ],
            [
             0.1111111111111111,
             "#46039f"
            ],
            [
             0.2222222222222222,
             "#7201a8"
            ],
            [
             0.3333333333333333,
             "#9c179e"
            ],
            [
             0.4444444444444444,
             "#bd3786"
            ],
            [
             0.5555555555555556,
             "#d8576b"
            ],
            [
             0.6666666666666666,
             "#ed7953"
            ],
            [
             0.7777777777777778,
             "#fb9f3a"
            ],
            [
             0.8888888888888888,
             "#fdca26"
            ],
            [
             1,
             "#f0f921"
            ]
           ]
          },
          "colorway": [
           "#636efa",
           "#EF553B",
           "#00cc96",
           "#ab63fa",
           "#FFA15A",
           "#19d3f3",
           "#FF6692",
           "#B6E880",
           "#FF97FF",
           "#FECB52"
          ],
          "font": {
           "color": "#f2f5fa"
          },
          "geo": {
           "bgcolor": "rgb(17,17,17)",
           "lakecolor": "rgb(17,17,17)",
           "landcolor": "rgb(17,17,17)",
           "showlakes": true,
           "showland": true,
           "subunitcolor": "#506784"
          },
          "hoverlabel": {
           "align": "left"
          },
          "hovermode": "closest",
          "mapbox": {
           "style": "dark"
          },
          "paper_bgcolor": "rgb(17,17,17)",
          "plot_bgcolor": "rgb(17,17,17)",
          "polar": {
           "angularaxis": {
            "gridcolor": "#506784",
            "linecolor": "#506784",
            "ticks": ""
           },
           "bgcolor": "rgb(17,17,17)",
           "radialaxis": {
            "gridcolor": "#506784",
            "linecolor": "#506784",
            "ticks": ""
           }
          },
          "scene": {
           "xaxis": {
            "backgroundcolor": "rgb(17,17,17)",
            "gridcolor": "#506784",
            "gridwidth": 2,
            "linecolor": "#506784",
            "showbackground": true,
            "ticks": "",
            "zerolinecolor": "#C8D4E3"
           },
           "yaxis": {
            "backgroundcolor": "rgb(17,17,17)",
            "gridcolor": "#506784",
            "gridwidth": 2,
            "linecolor": "#506784",
            "showbackground": true,
            "ticks": "",
            "zerolinecolor": "#C8D4E3"
           },
           "zaxis": {
            "backgroundcolor": "rgb(17,17,17)",
            "gridcolor": "#506784",
            "gridwidth": 2,
            "linecolor": "#506784",
            "showbackground": true,
            "ticks": "",
            "zerolinecolor": "#C8D4E3"
           }
          },
          "shapedefaults": {
           "line": {
            "color": "#f2f5fa"
           }
          },
          "sliderdefaults": {
           "bgcolor": "#C8D4E3",
           "bordercolor": "rgb(17,17,17)",
           "borderwidth": 1,
           "tickwidth": 0
          },
          "ternary": {
           "aaxis": {
            "gridcolor": "#506784",
            "linecolor": "#506784",
            "ticks": ""
           },
           "baxis": {
            "gridcolor": "#506784",
            "linecolor": "#506784",
            "ticks": ""
           },
           "bgcolor": "rgb(17,17,17)",
           "caxis": {
            "gridcolor": "#506784",
            "linecolor": "#506784",
            "ticks": ""
           }
          },
          "title": {
           "x": 0.05
          },
          "updatemenudefaults": {
           "bgcolor": "#506784",
           "borderwidth": 0
          },
          "xaxis": {
           "automargin": true,
           "gridcolor": "#283442",
           "linecolor": "#506784",
           "ticks": "",
           "title": {
            "standoff": 15
           },
           "zerolinecolor": "#283442",
           "zerolinewidth": 2
          },
          "yaxis": {
           "automargin": true,
           "gridcolor": "#283442",
           "linecolor": "#506784",
           "ticks": "",
           "title": {
            "standoff": 15
           },
           "zerolinecolor": "#283442",
           "zerolinewidth": 2
          }
         }
        },
        "xaxis": {
         "tickangle": -45
        }
       }
      }
     },
     "metadata": {},
     "output_type": "display_data"
    }
   ],
   "source": [
    "def negative(liste):\n",
    "    return [-item for item in liste]\n",
    "\n",
    "years = ['2017','2018','2019','2020','2021']\n",
    "sr1 = [228572, 265809, 259968,274150,365817]\n",
    "sr2=[141702, 163826, 162264,170143,212981]\n",
    "\n",
    "sr3 = negative(sr2)\n",
    "\n",
    "data = [\n",
    "    go. Bar(\n",
    "        y=years, x=sr1, \n",
    "        base=0, \n",
    "        name=\"revenue\", \n",
    "        orientation='h', \n",
    "        #marker_line_color='red',\n",
    "        #marker_line_width = 1, \n",
    "        text=sr1, \n",
    "        textposition='inside', # ['inside', 'outside', 'auto', 'none']\n",
    "        texttemplate = \"%{x:,s}(M$) \", \n",
    "        marker_color=\"firebrick\"),\n",
    "    go.Bar(\n",
    "        y=years, x=sr2, \n",
    "        base=sr3, \n",
    "        name=\"revenue\", \n",
    "        orientation='h', \n",
    "        #marker_line_color='blue',\n",
    "        #marker_line_width = 1, \n",
    "        text=sr2, \n",
    "        textposition='inside', \n",
    "        texttemplate = \"%{x:,s}(M$) \", \n",
    "        marker_color=\"royalblue\")\n",
    "]\n",
    "\n",
    "layout = go.Layout()\n",
    "fig = go.Figure(data=data, layout=layout)\n",
    "fig.update_layout(\n",
    "    barmode='overlay',\n",
    "    xaxis_tickangle=-45,\n",
    "    bargap=0.40,\n",
    "    height=500,\n",
    "    template='plotly_dark',\n",
    "    paper_bgcolor='#000',\n",
    "    plot_bgcolor='#000',\n",
    "    legend=dict(x=.85, y=0)\n",
    ")"
   ]
  },
  {
   "cell_type": "code",
   "execution_count": null,
   "metadata": {},
   "outputs": [],
   "source": []
  },
  {
   "cell_type": "code",
   "execution_count": null,
   "metadata": {},
   "outputs": [],
   "source": []
  },
  {
   "cell_type": "code",
   "execution_count": null,
   "metadata": {},
   "outputs": [],
   "source": []
  },
  {
   "cell_type": "code",
   "execution_count": null,
   "metadata": {},
   "outputs": [],
   "source": []
  },
  {
   "cell_type": "code",
   "execution_count": null,
   "metadata": {},
   "outputs": [],
   "source": []
  },
  {
   "cell_type": "code",
   "execution_count": null,
   "metadata": {},
   "outputs": [],
   "source": []
  },
  {
   "cell_type": "code",
   "execution_count": null,
   "metadata": {},
   "outputs": [],
   "source": []
  },
  {
   "cell_type": "code",
   "execution_count": null,
   "metadata": {},
   "outputs": [],
   "source": []
  },
  {
   "cell_type": "code",
   "execution_count": null,
   "metadata": {},
   "outputs": [],
   "source": []
  },
  {
   "cell_type": "code",
   "execution_count": 1,
   "metadata": {},
   "outputs": [
    {
     "data": {
      "application/vnd.plotly.v1+json": {
       "config": {
        "plotlyServerURL": "https://plot.ly"
       },
       "data": [
        {
         "marker": {
          "color": "rgba(50, 171, 96, 0.6)",
          "line": {
           "color": "rgba(50, 171, 96, 1.0)",
           "width": 1
          }
         },
         "name": "Household savings, percentage of household disposable income",
         "orientation": "h",
         "type": "bar",
         "x": [
          1.3586,
          2.2623,
          4.9822,
          6.5097,
          7.4812,
          7.5133,
          15.2148,
          17.5205
         ],
         "xaxis": "x",
         "y": [
          "Japan",
          "United Kingdom",
          "Canada",
          "Netherlands",
          "United States",
          "Belgium",
          "Sweden",
          "Switzerland"
         ],
         "yaxis": "y"
        },
        {
         "line": {
          "color": "rgb(128, 0, 128)"
         },
         "mode": "lines+markers",
         "name": "Household net worth, Million USD/capita",
         "type": "scatter",
         "x": [
          93453.92,
          81666.57,
          69889.62,
          78381.53,
          141395.3,
          92969.02,
          66090.18,
          122379.3
         ],
         "xaxis": "x2",
         "y": [
          "Japan",
          "United Kingdom",
          "Canada",
          "Netherlands",
          "United States",
          "Belgium",
          "Sweden",
          "Switzerland"
         ],
         "yaxis": "y2"
        }
       ],
       "layout": {
        "annotations": [
         {
          "font": {
           "color": "rgb(128, 0, 128)",
           "family": "Arial",
           "size": 12
          },
          "showarrow": false,
          "text": "93,454.0M",
          "x": 73454,
          "xref": "x2",
          "y": "Japan",
          "yref": "y2"
         },
         {
          "font": {
           "color": "rgb(50, 171, 96)",
           "family": "Arial",
           "size": 12
          },
          "showarrow": false,
          "text": "1.36%",
          "x": 4.36,
          "xref": "x",
          "y": "Japan",
          "yref": "y"
         },
         {
          "font": {
           "color": "rgb(128, 0, 128)",
           "family": "Arial",
           "size": 12
          },
          "showarrow": false,
          "text": "81,667.0M",
          "x": 61667,
          "xref": "x2",
          "y": "United Kingdom",
          "yref": "y2"
         },
         {
          "font": {
           "color": "rgb(50, 171, 96)",
           "family": "Arial",
           "size": 12
          },
          "showarrow": false,
          "text": "2.26%",
          "x": 5.26,
          "xref": "x",
          "y": "United Kingdom",
          "yref": "y"
         },
         {
          "font": {
           "color": "rgb(128, 0, 128)",
           "family": "Arial",
           "size": 12
          },
          "showarrow": false,
          "text": "69,890.0M",
          "x": 49890,
          "xref": "x2",
          "y": "Canada",
          "yref": "y2"
         },
         {
          "font": {
           "color": "rgb(50, 171, 96)",
           "family": "Arial",
           "size": 12
          },
          "showarrow": false,
          "text": "4.98%",
          "x": 7.98,
          "xref": "x",
          "y": "Canada",
          "yref": "y"
         },
         {
          "font": {
           "color": "rgb(128, 0, 128)",
           "family": "Arial",
           "size": 12
          },
          "showarrow": false,
          "text": "78,382.0M",
          "x": 58382,
          "xref": "x2",
          "y": "Netherlands",
          "yref": "y2"
         },
         {
          "font": {
           "color": "rgb(50, 171, 96)",
           "family": "Arial",
           "size": 12
          },
          "showarrow": false,
          "text": "6.51%",
          "x": 9.51,
          "xref": "x",
          "y": "Netherlands",
          "yref": "y"
         },
         {
          "font": {
           "color": "rgb(128, 0, 128)",
           "family": "Arial",
           "size": 12
          },
          "showarrow": false,
          "text": "141,395.0M",
          "x": 121395,
          "xref": "x2",
          "y": "United States",
          "yref": "y2"
         },
         {
          "font": {
           "color": "rgb(50, 171, 96)",
           "family": "Arial",
           "size": 12
          },
          "showarrow": false,
          "text": "7.48%",
          "x": 10.48,
          "xref": "x",
          "y": "United States",
          "yref": "y"
         },
         {
          "font": {
           "color": "rgb(128, 0, 128)",
           "family": "Arial",
           "size": 12
          },
          "showarrow": false,
          "text": "92,969.0M",
          "x": 72969,
          "xref": "x2",
          "y": "Belgium",
          "yref": "y2"
         },
         {
          "font": {
           "color": "rgb(50, 171, 96)",
           "family": "Arial",
           "size": 12
          },
          "showarrow": false,
          "text": "7.51%",
          "x": 10.51,
          "xref": "x",
          "y": "Belgium",
          "yref": "y"
         },
         {
          "font": {
           "color": "rgb(128, 0, 128)",
           "family": "Arial",
           "size": 12
          },
          "showarrow": false,
          "text": "66,090.0M",
          "x": 46090,
          "xref": "x2",
          "y": "Sweden",
          "yref": "y2"
         },
         {
          "font": {
           "color": "rgb(50, 171, 96)",
           "family": "Arial",
           "size": 12
          },
          "showarrow": false,
          "text": "15.21%",
          "x": 18.21,
          "xref": "x",
          "y": "Sweden",
          "yref": "y"
         },
         {
          "font": {
           "color": "rgb(128, 0, 128)",
           "family": "Arial",
           "size": 12
          },
          "showarrow": false,
          "text": "122,379.0M",
          "x": 102379,
          "xref": "x2",
          "y": "Switzerland",
          "yref": "y2"
         },
         {
          "font": {
           "color": "rgb(50, 171, 96)",
           "family": "Arial",
           "size": 12
          },
          "showarrow": false,
          "text": "17.52%",
          "x": 20.52,
          "xref": "x",
          "y": "Switzerland",
          "yref": "y"
         },
         {
          "font": {
           "color": "rgb(150,150,150)",
           "family": "Arial",
           "size": 10
          },
          "showarrow": false,
          "text": "OECD \"(2015), Household savings (indicator), Household net worth (indicator). doi: 10.1787/cfc6f499-en (Accessed on 05 June 2015)",
          "x": -0.2,
          "xref": "paper",
          "y": -0.109,
          "yref": "paper"
         }
        ],
        "legend": {
         "font": {
          "size": 10
         },
         "x": 0.029,
         "y": 1.038
        },
        "margin": {
         "b": 8,
         "l": 0,
         "r": 0,
         "t": 40
        },
        "paper_bgcolor": "#000",
        "plot_bgcolor": "#000",
        "template": {
         "data": {
          "bar": [
           {
            "error_x": {
             "color": "#f2f5fa"
            },
            "error_y": {
             "color": "#f2f5fa"
            },
            "marker": {
             "line": {
              "color": "rgb(17,17,17)",
              "width": 0.5
             },
             "pattern": {
              "fillmode": "overlay",
              "size": 10,
              "solidity": 0.2
             }
            },
            "type": "bar"
           }
          ],
          "barpolar": [
           {
            "marker": {
             "line": {
              "color": "rgb(17,17,17)",
              "width": 0.5
             },
             "pattern": {
              "fillmode": "overlay",
              "size": 10,
              "solidity": 0.2
             }
            },
            "type": "barpolar"
           }
          ],
          "carpet": [
           {
            "aaxis": {
             "endlinecolor": "#A2B1C6",
             "gridcolor": "#506784",
             "linecolor": "#506784",
             "minorgridcolor": "#506784",
             "startlinecolor": "#A2B1C6"
            },
            "baxis": {
             "endlinecolor": "#A2B1C6",
             "gridcolor": "#506784",
             "linecolor": "#506784",
             "minorgridcolor": "#506784",
             "startlinecolor": "#A2B1C6"
            },
            "type": "carpet"
           }
          ],
          "choropleth": [
           {
            "colorbar": {
             "outlinewidth": 0,
             "ticks": ""
            },
            "type": "choropleth"
           }
          ],
          "contour": [
           {
            "colorbar": {
             "outlinewidth": 0,
             "ticks": ""
            },
            "colorscale": [
             [
              0,
              "#0d0887"
             ],
             [
              0.1111111111111111,
              "#46039f"
             ],
             [
              0.2222222222222222,
              "#7201a8"
             ],
             [
              0.3333333333333333,
              "#9c179e"
             ],
             [
              0.4444444444444444,
              "#bd3786"
             ],
             [
              0.5555555555555556,
              "#d8576b"
             ],
             [
              0.6666666666666666,
              "#ed7953"
             ],
             [
              0.7777777777777778,
              "#fb9f3a"
             ],
             [
              0.8888888888888888,
              "#fdca26"
             ],
             [
              1,
              "#f0f921"
             ]
            ],
            "type": "contour"
           }
          ],
          "contourcarpet": [
           {
            "colorbar": {
             "outlinewidth": 0,
             "ticks": ""
            },
            "type": "contourcarpet"
           }
          ],
          "heatmap": [
           {
            "colorbar": {
             "outlinewidth": 0,
             "ticks": ""
            },
            "colorscale": [
             [
              0,
              "#0d0887"
             ],
             [
              0.1111111111111111,
              "#46039f"
             ],
             [
              0.2222222222222222,
              "#7201a8"
             ],
             [
              0.3333333333333333,
              "#9c179e"
             ],
             [
              0.4444444444444444,
              "#bd3786"
             ],
             [
              0.5555555555555556,
              "#d8576b"
             ],
             [
              0.6666666666666666,
              "#ed7953"
             ],
             [
              0.7777777777777778,
              "#fb9f3a"
             ],
             [
              0.8888888888888888,
              "#fdca26"
             ],
             [
              1,
              "#f0f921"
             ]
            ],
            "type": "heatmap"
           }
          ],
          "heatmapgl": [
           {
            "colorbar": {
             "outlinewidth": 0,
             "ticks": ""
            },
            "colorscale": [
             [
              0,
              "#0d0887"
             ],
             [
              0.1111111111111111,
              "#46039f"
             ],
             [
              0.2222222222222222,
              "#7201a8"
             ],
             [
              0.3333333333333333,
              "#9c179e"
             ],
             [
              0.4444444444444444,
              "#bd3786"
             ],
             [
              0.5555555555555556,
              "#d8576b"
             ],
             [
              0.6666666666666666,
              "#ed7953"
             ],
             [
              0.7777777777777778,
              "#fb9f3a"
             ],
             [
              0.8888888888888888,
              "#fdca26"
             ],
             [
              1,
              "#f0f921"
             ]
            ],
            "type": "heatmapgl"
           }
          ],
          "histogram": [
           {
            "marker": {
             "pattern": {
              "fillmode": "overlay",
              "size": 10,
              "solidity": 0.2
             }
            },
            "type": "histogram"
           }
          ],
          "histogram2d": [
           {
            "colorbar": {
             "outlinewidth": 0,
             "ticks": ""
            },
            "colorscale": [
             [
              0,
              "#0d0887"
             ],
             [
              0.1111111111111111,
              "#46039f"
             ],
             [
              0.2222222222222222,
              "#7201a8"
             ],
             [
              0.3333333333333333,
              "#9c179e"
             ],
             [
              0.4444444444444444,
              "#bd3786"
             ],
             [
              0.5555555555555556,
              "#d8576b"
             ],
             [
              0.6666666666666666,
              "#ed7953"
             ],
             [
              0.7777777777777778,
              "#fb9f3a"
             ],
             [
              0.8888888888888888,
              "#fdca26"
             ],
             [
              1,
              "#f0f921"
             ]
            ],
            "type": "histogram2d"
           }
          ],
          "histogram2dcontour": [
           {
            "colorbar": {
             "outlinewidth": 0,
             "ticks": ""
            },
            "colorscale": [
             [
              0,
              "#0d0887"
             ],
             [
              0.1111111111111111,
              "#46039f"
             ],
             [
              0.2222222222222222,
              "#7201a8"
             ],
             [
              0.3333333333333333,
              "#9c179e"
             ],
             [
              0.4444444444444444,
              "#bd3786"
             ],
             [
              0.5555555555555556,
              "#d8576b"
             ],
             [
              0.6666666666666666,
              "#ed7953"
             ],
             [
              0.7777777777777778,
              "#fb9f3a"
             ],
             [
              0.8888888888888888,
              "#fdca26"
             ],
             [
              1,
              "#f0f921"
             ]
            ],
            "type": "histogram2dcontour"
           }
          ],
          "mesh3d": [
           {
            "colorbar": {
             "outlinewidth": 0,
             "ticks": ""
            },
            "type": "mesh3d"
           }
          ],
          "parcoords": [
           {
            "line": {
             "colorbar": {
              "outlinewidth": 0,
              "ticks": ""
             }
            },
            "type": "parcoords"
           }
          ],
          "pie": [
           {
            "automargin": true,
            "type": "pie"
           }
          ],
          "scatter": [
           {
            "marker": {
             "line": {
              "color": "#283442"
             }
            },
            "type": "scatter"
           }
          ],
          "scatter3d": [
           {
            "line": {
             "colorbar": {
              "outlinewidth": 0,
              "ticks": ""
             }
            },
            "marker": {
             "colorbar": {
              "outlinewidth": 0,
              "ticks": ""
             }
            },
            "type": "scatter3d"
           }
          ],
          "scattercarpet": [
           {
            "marker": {
             "colorbar": {
              "outlinewidth": 0,
              "ticks": ""
             }
            },
            "type": "scattercarpet"
           }
          ],
          "scattergeo": [
           {
            "marker": {
             "colorbar": {
              "outlinewidth": 0,
              "ticks": ""
             }
            },
            "type": "scattergeo"
           }
          ],
          "scattergl": [
           {
            "marker": {
             "line": {
              "color": "#283442"
             }
            },
            "type": "scattergl"
           }
          ],
          "scattermapbox": [
           {
            "marker": {
             "colorbar": {
              "outlinewidth": 0,
              "ticks": ""
             }
            },
            "type": "scattermapbox"
           }
          ],
          "scatterpolar": [
           {
            "marker": {
             "colorbar": {
              "outlinewidth": 0,
              "ticks": ""
             }
            },
            "type": "scatterpolar"
           }
          ],
          "scatterpolargl": [
           {
            "marker": {
             "colorbar": {
              "outlinewidth": 0,
              "ticks": ""
             }
            },
            "type": "scatterpolargl"
           }
          ],
          "scatterternary": [
           {
            "marker": {
             "colorbar": {
              "outlinewidth": 0,
              "ticks": ""
             }
            },
            "type": "scatterternary"
           }
          ],
          "surface": [
           {
            "colorbar": {
             "outlinewidth": 0,
             "ticks": ""
            },
            "colorscale": [
             [
              0,
              "#0d0887"
             ],
             [
              0.1111111111111111,
              "#46039f"
             ],
             [
              0.2222222222222222,
              "#7201a8"
             ],
             [
              0.3333333333333333,
              "#9c179e"
             ],
             [
              0.4444444444444444,
              "#bd3786"
             ],
             [
              0.5555555555555556,
              "#d8576b"
             ],
             [
              0.6666666666666666,
              "#ed7953"
             ],
             [
              0.7777777777777778,
              "#fb9f3a"
             ],
             [
              0.8888888888888888,
              "#fdca26"
             ],
             [
              1,
              "#f0f921"
             ]
            ],
            "type": "surface"
           }
          ],
          "table": [
           {
            "cells": {
             "fill": {
              "color": "#506784"
             },
             "line": {
              "color": "rgb(17,17,17)"
             }
            },
            "header": {
             "fill": {
              "color": "#2a3f5f"
             },
             "line": {
              "color": "rgb(17,17,17)"
             }
            },
            "type": "table"
           }
          ]
         },
         "layout": {
          "annotationdefaults": {
           "arrowcolor": "#f2f5fa",
           "arrowhead": 0,
           "arrowwidth": 1
          },
          "autotypenumbers": "strict",
          "coloraxis": {
           "colorbar": {
            "outlinewidth": 0,
            "ticks": ""
           }
          },
          "colorscale": {
           "diverging": [
            [
             0,
             "#8e0152"
            ],
            [
             0.1,
             "#c51b7d"
            ],
            [
             0.2,
             "#de77ae"
            ],
            [
             0.3,
             "#f1b6da"
            ],
            [
             0.4,
             "#fde0ef"
            ],
            [
             0.5,
             "#f7f7f7"
            ],
            [
             0.6,
             "#e6f5d0"
            ],
            [
             0.7,
             "#b8e186"
            ],
            [
             0.8,
             "#7fbc41"
            ],
            [
             0.9,
             "#4d9221"
            ],
            [
             1,
             "#276419"
            ]
           ],
           "sequential": [
            [
             0,
             "#0d0887"
            ],
            [
             0.1111111111111111,
             "#46039f"
            ],
            [
             0.2222222222222222,
             "#7201a8"
            ],
            [
             0.3333333333333333,
             "#9c179e"
            ],
            [
             0.4444444444444444,
             "#bd3786"
            ],
            [
             0.5555555555555556,
             "#d8576b"
            ],
            [
             0.6666666666666666,
             "#ed7953"
            ],
            [
             0.7777777777777778,
             "#fb9f3a"
            ],
            [
             0.8888888888888888,
             "#fdca26"
            ],
            [
             1,
             "#f0f921"
            ]
           ],
           "sequentialminus": [
            [
             0,
             "#0d0887"
            ],
            [
             0.1111111111111111,
             "#46039f"
            ],
            [
             0.2222222222222222,
             "#7201a8"
            ],
            [
             0.3333333333333333,
             "#9c179e"
            ],
            [
             0.4444444444444444,
             "#bd3786"
            ],
            [
             0.5555555555555556,
             "#d8576b"
            ],
            [
             0.6666666666666666,
             "#ed7953"
            ],
            [
             0.7777777777777778,
             "#fb9f3a"
            ],
            [
             0.8888888888888888,
             "#fdca26"
            ],
            [
             1,
             "#f0f921"
            ]
           ]
          },
          "colorway": [
           "#636efa",
           "#EF553B",
           "#00cc96",
           "#ab63fa",
           "#FFA15A",
           "#19d3f3",
           "#FF6692",
           "#B6E880",
           "#FF97FF",
           "#FECB52"
          ],
          "font": {
           "color": "#f2f5fa"
          },
          "geo": {
           "bgcolor": "rgb(17,17,17)",
           "lakecolor": "rgb(17,17,17)",
           "landcolor": "rgb(17,17,17)",
           "showlakes": true,
           "showland": true,
           "subunitcolor": "#506784"
          },
          "hoverlabel": {
           "align": "left"
          },
          "hovermode": "closest",
          "mapbox": {
           "style": "dark"
          },
          "paper_bgcolor": "rgb(17,17,17)",
          "plot_bgcolor": "rgb(17,17,17)",
          "polar": {
           "angularaxis": {
            "gridcolor": "#506784",
            "linecolor": "#506784",
            "ticks": ""
           },
           "bgcolor": "rgb(17,17,17)",
           "radialaxis": {
            "gridcolor": "#506784",
            "linecolor": "#506784",
            "ticks": ""
           }
          },
          "scene": {
           "xaxis": {
            "backgroundcolor": "rgb(17,17,17)",
            "gridcolor": "#506784",
            "gridwidth": 2,
            "linecolor": "#506784",
            "showbackground": true,
            "ticks": "",
            "zerolinecolor": "#C8D4E3"
           },
           "yaxis": {
            "backgroundcolor": "rgb(17,17,17)",
            "gridcolor": "#506784",
            "gridwidth": 2,
            "linecolor": "#506784",
            "showbackground": true,
            "ticks": "",
            "zerolinecolor": "#C8D4E3"
           },
           "zaxis": {
            "backgroundcolor": "rgb(17,17,17)",
            "gridcolor": "#506784",
            "gridwidth": 2,
            "linecolor": "#506784",
            "showbackground": true,
            "ticks": "",
            "zerolinecolor": "#C8D4E3"
           }
          },
          "shapedefaults": {
           "line": {
            "color": "#f2f5fa"
           }
          },
          "sliderdefaults": {
           "bgcolor": "#C8D4E3",
           "bordercolor": "rgb(17,17,17)",
           "borderwidth": 1,
           "tickwidth": 0
          },
          "ternary": {
           "aaxis": {
            "gridcolor": "#506784",
            "linecolor": "#506784",
            "ticks": ""
           },
           "baxis": {
            "gridcolor": "#506784",
            "linecolor": "#506784",
            "ticks": ""
           },
           "bgcolor": "rgb(17,17,17)",
           "caxis": {
            "gridcolor": "#506784",
            "linecolor": "#506784",
            "ticks": ""
           }
          },
          "title": {
           "x": 0.05
          },
          "updatemenudefaults": {
           "bgcolor": "#506784",
           "borderwidth": 0
          },
          "xaxis": {
           "automargin": true,
           "gridcolor": "#283442",
           "linecolor": "#506784",
           "ticks": "",
           "title": {
            "standoff": 15
           },
           "zerolinecolor": "#283442",
           "zerolinewidth": 2
          },
          "yaxis": {
           "automargin": true,
           "gridcolor": "#283442",
           "linecolor": "#506784",
           "ticks": "",
           "title": {
            "standoff": 15
           },
           "zerolinecolor": "#283442",
           "zerolinewidth": 2
          }
         }
        },
        "title": {
         "text": "Household savings & net worth for eight OECD countries"
        },
        "xaxis": {
         "anchor": "y",
         "domain": [
          0,
          0.42
         ],
         "showgrid": true,
         "showline": false,
         "showticklabels": true,
         "zeroline": false
        },
        "xaxis2": {
         "anchor": "y2",
         "domain": [
          0.47,
          1
         ],
         "dtick": 25000,
         "showgrid": true,
         "showline": false,
         "showticklabels": true,
         "side": "top",
         "zeroline": false
        },
        "yaxis": {
         "anchor": "x",
         "domain": [
          0,
          0.85
         ],
         "showgrid": false,
         "showline": false,
         "showticklabels": true
        },
        "yaxis2": {
         "anchor": "x2",
         "domain": [
          0,
          0.85
         ],
         "linecolor": "rgba(102, 102, 102, 0.8)",
         "linewidth": 2,
         "showgrid": false,
         "showline": true,
         "showticklabels": false
        }
       }
      }
     },
     "metadata": {},
     "output_type": "display_data"
    }
   ],
   "source": [
    "import plotly.graph_objects as go\n",
    "from plotly.subplots import make_subplots\n",
    "\n",
    "import numpy as np\n",
    "\n",
    "y_saving = [1.3586, 2.2623000000000002, 4.9821999999999997, 6.5096999999999996,\n",
    "            7.4812000000000003, 7.5133000000000001, 15.2148, 17.520499999999998\n",
    "            ]\n",
    "y_net_worth = [93453.919999999998, 81666.570000000007, 69889.619999999995,\n",
    "               78381.529999999999, 141395.29999999999, 92969.020000000004,\n",
    "               66090.179999999993, 122379.3]\n",
    "x = ['Japan', 'United Kingdom', 'Canada', 'Netherlands',\n",
    "     'United States', 'Belgium', 'Sweden', 'Switzerland']\n",
    "\n",
    "\n",
    "# Creating two subplots\n",
    "fig = make_subplots(rows=1, cols=2, specs=[[{}, {}]], shared_xaxes=True,\n",
    "                    shared_yaxes=False, vertical_spacing=0.001)\n",
    "\n",
    "fig.append_trace(go.Bar(\n",
    "    x=y_saving,\n",
    "    y=x,\n",
    "    marker=dict(\n",
    "        color='rgba(50, 171, 96, 0.6)',\n",
    "        line=dict(\n",
    "            color='rgba(50, 171, 96, 1.0)',\n",
    "            width=1),\n",
    "    ),\n",
    "    name='Household savings, percentage of household disposable income',\n",
    "    orientation='h',\n",
    "), 1, 1)\n",
    "\n",
    "fig.append_trace(go.Scatter(\n",
    "    x=y_net_worth, y=x,\n",
    "    mode='lines+markers',\n",
    "    line_color='rgb(128, 0, 128)',\n",
    "    name='Household net worth, Million USD/capita',\n",
    "), 1, 2)\n",
    "\n",
    "fig.update_layout(\n",
    "    title='Household savings & net worth for eight OECD countries',\n",
    "    yaxis=dict(\n",
    "        showgrid=False,\n",
    "        showline=False,\n",
    "        showticklabels=True,\n",
    "        domain=[0, 0.85],\n",
    "    ),\n",
    "    yaxis2=dict(\n",
    "        showgrid=False,\n",
    "        showline=True,\n",
    "        showticklabels=False,\n",
    "        linecolor='rgba(102, 102, 102, 0.8)',\n",
    "        linewidth=2,\n",
    "        domain=[0, 0.85],\n",
    "    ),\n",
    "    xaxis=dict(\n",
    "        zeroline=False,\n",
    "        showline=False,\n",
    "        showticklabels=True,\n",
    "        showgrid=True,\n",
    "        domain=[0, 0.42],\n",
    "    ),\n",
    "    xaxis2=dict(\n",
    "        zeroline=False,\n",
    "        showline=False,\n",
    "        showticklabels=True,\n",
    "        showgrid=True,\n",
    "        domain=[0.47, 1],\n",
    "        side='top',\n",
    "        dtick=25000,\n",
    "    ),\n",
    "    legend=dict(x=0.029, y=1.038, font_size=10),\n",
    "    margin=dict(l=100, r=20, t=70, b=70),\n",
    "    paper_bgcolor='rgb(248, 248, 255)',\n",
    "    plot_bgcolor='rgb(248, 248, 255)',\n",
    ")\n",
    "\n",
    "annotations = []\n",
    "\n",
    "y_s = np.round(y_saving, decimals=2)\n",
    "y_nw = np.rint(y_net_worth)\n",
    "\n",
    "# Adding labels\n",
    "for ydn, yd, xd in zip(y_nw, y_s, x):\n",
    "    # labeling the scatter savings\n",
    "    annotations.append(dict(xref='x2', yref='y2',\n",
    "                            y=xd, x=ydn - 20000,\n",
    "                            text='{:,}'.format(ydn) + 'M',\n",
    "                            font=dict(family='Arial', size=12,\n",
    "                                      color='rgb(128, 0, 128)'),\n",
    "                            showarrow=False))\n",
    "    # labeling the bar net worth\n",
    "    annotations.append(dict(xref='x1', yref='y1',\n",
    "                            y=xd, x=yd + 3,\n",
    "                            text=str(yd) + '%',\n",
    "                            font=dict(family='Arial', size=12,\n",
    "                                      color='rgb(50, 171, 96)'),\n",
    "                            showarrow=False))\n",
    "# Source\n",
    "annotations.append(dict(xref='paper', yref='paper',\n",
    "                        x=-0.2, y=-0.109,\n",
    "                        text='OECD \"' +\n",
    "                             '(2015), Household savings (indicator), ' +\n",
    "                             'Household net worth (indicator). doi: ' +\n",
    "                             '10.1787/cfc6f499-en (Accessed on 05 June 2015)',\n",
    "                        font=dict(family='Arial', size=10, color='rgb(150,150,150)'),\n",
    "                        showarrow=False))\n",
    "\n",
    "fig.update_layout(annotations=annotations)\n",
    "fig.update_layout(\n",
    "    template=\"plotly_dark\",\n",
    "    paper_bgcolor='#000',\n",
    "    plot_bgcolor='#000',\n",
    "    margin=dict(l=0, t=40, b=8, r=0))\n",
    "fig.show()"
   ]
  },
  {
   "cell_type": "code",
   "execution_count": null,
   "metadata": {},
   "outputs": [],
   "source": []
  },
  {
   "cell_type": "code",
   "execution_count": null,
   "metadata": {},
   "outputs": [],
   "source": []
  },
  {
   "cell_type": "code",
   "execution_count": null,
   "metadata": {},
   "outputs": [],
   "source": []
  },
  {
   "cell_type": "code",
   "execution_count": null,
   "metadata": {},
   "outputs": [],
   "source": []
  },
  {
   "cell_type": "code",
   "execution_count": null,
   "metadata": {},
   "outputs": [],
   "source": []
  },
  {
   "cell_type": "code",
   "execution_count": null,
   "metadata": {},
   "outputs": [],
   "source": []
  },
  {
   "cell_type": "code",
   "execution_count": null,
   "metadata": {},
   "outputs": [],
   "source": []
  },
  {
   "cell_type": "code",
   "execution_count": null,
   "metadata": {},
   "outputs": [],
   "source": []
  },
  {
   "cell_type": "code",
   "execution_count": null,
   "metadata": {},
   "outputs": [],
   "source": []
  },
  {
   "cell_type": "code",
   "execution_count": null,
   "metadata": {},
   "outputs": [],
   "source": []
  },
  {
   "cell_type": "code",
   "execution_count": null,
   "metadata": {},
   "outputs": [],
   "source": []
  },
  {
   "cell_type": "code",
   "execution_count": null,
   "metadata": {},
   "outputs": [],
   "source": []
  },
  {
   "cell_type": "code",
   "execution_count": null,
   "metadata": {},
   "outputs": [],
   "source": []
  },
  {
   "cell_type": "code",
   "execution_count": 15,
   "metadata": {},
   "outputs": [
    {
     "data": {
      "text/html": [
       "        <script type=\"text/javascript\">\n",
       "        window.PlotlyConfig = {MathJaxConfig: 'local'};\n",
       "        if (window.MathJax && window.MathJax.Hub && window.MathJax.Hub.Config) {window.MathJax.Hub.Config({SVG: {font: \"STIX-Web\"}});}\n",
       "        if (typeof require !== 'undefined') {\n",
       "        require.undef(\"plotly\");\n",
       "        requirejs.config({\n",
       "            paths: {\n",
       "                'plotly': ['https://cdn.plot.ly/plotly-2.12.1.min']\n",
       "            }\n",
       "        });\n",
       "        require(['plotly'], function(Plotly) {\n",
       "            window._Plotly = Plotly;\n",
       "        });\n",
       "        }\n",
       "        </script>\n",
       "        "
      ]
     },
     "metadata": {},
     "output_type": "display_data"
    },
    {
     "data": {
      "text/html": [
       "        <script type=\"text/javascript\">\n",
       "        window.PlotlyConfig = {MathJaxConfig: 'local'};\n",
       "        if (window.MathJax && window.MathJax.Hub && window.MathJax.Hub.Config) {window.MathJax.Hub.Config({SVG: {font: \"STIX-Web\"}});}\n",
       "        if (typeof require !== 'undefined') {\n",
       "        require.undef(\"plotly\");\n",
       "        requirejs.config({\n",
       "            paths: {\n",
       "                'plotly': ['https://cdn.plot.ly/plotly-2.12.1.min']\n",
       "            }\n",
       "        });\n",
       "        require(['plotly'], function(Plotly) {\n",
       "            window._Plotly = Plotly;\n",
       "        });\n",
       "        }\n",
       "        </script>\n",
       "        "
      ]
     },
     "metadata": {},
     "output_type": "display_data"
    },
    {
     "name": "stdout",
     "output_type": "stream",
     "text": [
      "                    Entity  Year   Deaths\n",
      "0    All natural disasters  1900  1267360\n",
      "1    All natural disasters  1901   200018\n",
      "2    All natural disasters  1902    46037\n",
      "3    All natural disasters  1903     6506\n",
      "4    All natural disasters  1905    22758\n",
      "..                     ...   ...      ...\n",
      "798               Wildfire  2013       35\n",
      "799               Wildfire  2014       16\n",
      "800               Wildfire  2015       67\n",
      "801               Wildfire  2016       39\n",
      "802               Wildfire  2017       75\n",
      "\n",
      "[803 rows x 3 columns]\n"
     ]
    },
    {
     "data": {
      "application/vnd.plotly.v1+json": {
       "config": {
        "plotlyServerURL": "https://plot.ly"
       },
       "data": [
        {
         "alignmentgroup": "True",
         "hovertemplate": "Entity=%{y}<br>Year=1991<br>Deaths=%{x}<extra></extra>",
         "legendgroup": "All natural disasters",
         "marker": {
          "color": "#636efa",
          "pattern": {
           "shape": ""
          }
         },
         "name": "All natural disasters",
         "offsetgroup": "All natural disasters",
         "orientation": "h",
         "showlegend": true,
         "textposition": "auto",
         "type": "bar",
         "x": [
          189707
         ],
         "xaxis": "x",
         "y": [
          "All natural disasters"
         ],
         "yaxis": "y"
        },
        {
         "alignmentgroup": "True",
         "hovertemplate": "Entity=%{y}<br>Year=1991<br>Deaths=%{x}<extra></extra>",
         "legendgroup": "Drought",
         "marker": {
          "color": "#EF553B",
          "pattern": {
           "shape": ""
          }
         },
         "name": "Drought",
         "offsetgroup": "Drought",
         "orientation": "h",
         "showlegend": true,
         "textposition": "auto",
         "type": "bar",
         "x": [
          2000
         ],
         "xaxis": "x",
         "y": [
          "Drought"
         ],
         "yaxis": "y"
        },
        {
         "alignmentgroup": "True",
         "hovertemplate": "Entity=%{y}<br>Year=1991<br>Deaths=%{x}<extra></extra>",
         "legendgroup": "Earthquake",
         "marker": {
          "color": "#00cc96",
          "pattern": {
           "shape": ""
          }
         },
         "name": "Earthquake",
         "offsetgroup": "Earthquake",
         "orientation": "h",
         "showlegend": true,
         "textposition": "auto",
         "type": "bar",
         "x": [
          2454
         ],
         "xaxis": "x",
         "y": [
          "Earthquake"
         ],
         "yaxis": "y"
        },
        {
         "alignmentgroup": "True",
         "hovertemplate": "Entity=%{y}<br>Year=1991<br>Deaths=%{x}<extra></extra>",
         "legendgroup": "Epidemic",
         "marker": {
          "color": "#ab63fa",
          "pattern": {
           "shape": ""
          }
         },
         "name": "Epidemic",
         "offsetgroup": "Epidemic",
         "orientation": "h",
         "showlegend": true,
         "textposition": "auto",
         "type": "bar",
         "x": [
          30682
         ],
         "xaxis": "x",
         "y": [
          "Epidemic"
         ],
         "yaxis": "y"
        },
        {
         "alignmentgroup": "True",
         "hovertemplate": "Entity=%{y}<br>Year=1991<br>Deaths=%{x}<extra></extra>",
         "legendgroup": "Extreme temperature",
         "marker": {
          "color": "#FFA15A",
          "pattern": {
           "shape": ""
          }
         },
         "name": "Extreme temperature",
         "offsetgroup": "Extreme temperature",
         "orientation": "h",
         "showlegend": true,
         "textposition": "auto",
         "type": "bar",
         "x": [
          835
         ],
         "xaxis": "x",
         "y": [
          "Extreme temperature"
         ],
         "yaxis": "y"
        },
        {
         "alignmentgroup": "True",
         "hovertemplate": "Entity=%{y}<br>Year=1991<br>Deaths=%{x}<extra></extra>",
         "legendgroup": "Extreme weather",
         "marker": {
          "color": "#19d3f3",
          "pattern": {
           "shape": ""
          }
         },
         "name": "Extreme weather",
         "offsetgroup": "Extreme weather",
         "orientation": "h",
         "showlegend": true,
         "textposition": "auto",
         "type": "bar",
         "x": [
          146297
         ],
         "xaxis": "x",
         "y": [
          "Extreme weather"
         ],
         "yaxis": "y"
        },
        {
         "alignmentgroup": "True",
         "hovertemplate": "Entity=%{y}<br>Year=1991<br>Deaths=%{x}<extra></extra>",
         "legendgroup": "Flood",
         "marker": {
          "color": "#FF6692",
          "pattern": {
           "shape": ""
          }
         },
         "name": "Flood",
         "offsetgroup": "Flood",
         "orientation": "h",
         "showlegend": true,
         "textposition": "auto",
         "type": "bar",
         "x": [
          5852
         ],
         "xaxis": "x",
         "y": [
          "Flood"
         ],
         "yaxis": "y"
        },
        {
         "alignmentgroup": "True",
         "hovertemplate": "Entity=%{y}<br>Year=1991<br>Deaths=%{x}<extra></extra>",
         "legendgroup": "Landslide",
         "marker": {
          "color": "#B6E880",
          "pattern": {
           "shape": ""
          }
         },
         "name": "Landslide",
         "offsetgroup": "Landslide",
         "orientation": "h",
         "showlegend": true,
         "textposition": "auto",
         "type": "bar",
         "x": [
          728
         ],
         "xaxis": "x",
         "y": [
          "Landslide"
         ],
         "yaxis": "y"
        },
        {
         "alignmentgroup": "True",
         "hovertemplate": "Entity=%{y}<br>Year=1991<br>Deaths=%{x}<extra></extra>",
         "legendgroup": "Mass movement (dry)",
         "marker": {
          "color": "#FF97FF",
          "pattern": {
           "shape": ""
          }
         },
         "name": "Mass movement (dry)",
         "offsetgroup": "Mass movement (dry)",
         "orientation": "h",
         "showlegend": true,
         "textposition": "auto",
         "type": "bar",
         "x": [
          86
         ],
         "xaxis": "x",
         "y": [
          "Mass movement (dry)"
         ],
         "yaxis": "y"
        },
        {
         "alignmentgroup": "True",
         "hovertemplate": "Entity=%{y}<br>Year=1991<br>Deaths=%{x}<extra></extra>",
         "legendgroup": "Volcanic activity",
         "marker": {
          "color": "#FECB52",
          "pattern": {
           "shape": ""
          }
         },
         "name": "Volcanic activity",
         "offsetgroup": "Volcanic activity",
         "orientation": "h",
         "showlegend": true,
         "textposition": "auto",
         "type": "bar",
         "x": [
          683
         ],
         "xaxis": "x",
         "y": [
          "Volcanic activity"
         ],
         "yaxis": "y"
        },
        {
         "alignmentgroup": "True",
         "hovertemplate": "Entity=%{y}<br>Year=1991<br>Deaths=%{x}<extra></extra>",
         "legendgroup": "Wildfire",
         "marker": {
          "color": "#636efa",
          "pattern": {
           "shape": ""
          }
         },
         "name": "Wildfire",
         "offsetgroup": "Wildfire",
         "orientation": "h",
         "showlegend": true,
         "textposition": "auto",
         "type": "bar",
         "x": [
          90
         ],
         "xaxis": "x",
         "y": [
          "Wildfire"
         ],
         "yaxis": "y"
        }
       ],
       "frames": [
        {
         "data": [
          {
           "alignmentgroup": "True",
           "hovertemplate": "Entity=%{y}<br>Year=1991<br>Deaths=%{x}<extra></extra>",
           "legendgroup": "All natural disasters",
           "marker": {
            "color": "#636efa",
            "pattern": {
             "shape": ""
            }
           },
           "name": "All natural disasters",
           "offsetgroup": "All natural disasters",
           "orientation": "h",
           "showlegend": true,
           "textposition": "auto",
           "type": "bar",
           "x": [
            189707
           ],
           "xaxis": "x",
           "y": [
            "All natural disasters"
           ],
           "yaxis": "y"
          },
          {
           "alignmentgroup": "True",
           "hovertemplate": "Entity=%{y}<br>Year=1991<br>Deaths=%{x}<extra></extra>",
           "legendgroup": "Drought",
           "marker": {
            "color": "#EF553B",
            "pattern": {
             "shape": ""
            }
           },
           "name": "Drought",
           "offsetgroup": "Drought",
           "orientation": "h",
           "showlegend": true,
           "textposition": "auto",
           "type": "bar",
           "x": [
            2000
           ],
           "xaxis": "x",
           "y": [
            "Drought"
           ],
           "yaxis": "y"
          },
          {
           "alignmentgroup": "True",
           "hovertemplate": "Entity=%{y}<br>Year=1991<br>Deaths=%{x}<extra></extra>",
           "legendgroup": "Earthquake",
           "marker": {
            "color": "#00cc96",
            "pattern": {
             "shape": ""
            }
           },
           "name": "Earthquake",
           "offsetgroup": "Earthquake",
           "orientation": "h",
           "showlegend": true,
           "textposition": "auto",
           "type": "bar",
           "x": [
            2454
           ],
           "xaxis": "x",
           "y": [
            "Earthquake"
           ],
           "yaxis": "y"
          },
          {
           "alignmentgroup": "True",
           "hovertemplate": "Entity=%{y}<br>Year=1991<br>Deaths=%{x}<extra></extra>",
           "legendgroup": "Epidemic",
           "marker": {
            "color": "#ab63fa",
            "pattern": {
             "shape": ""
            }
           },
           "name": "Epidemic",
           "offsetgroup": "Epidemic",
           "orientation": "h",
           "showlegend": true,
           "textposition": "auto",
           "type": "bar",
           "x": [
            30682
           ],
           "xaxis": "x",
           "y": [
            "Epidemic"
           ],
           "yaxis": "y"
          },
          {
           "alignmentgroup": "True",
           "hovertemplate": "Entity=%{y}<br>Year=1991<br>Deaths=%{x}<extra></extra>",
           "legendgroup": "Extreme temperature",
           "marker": {
            "color": "#FFA15A",
            "pattern": {
             "shape": ""
            }
           },
           "name": "Extreme temperature",
           "offsetgroup": "Extreme temperature",
           "orientation": "h",
           "showlegend": true,
           "textposition": "auto",
           "type": "bar",
           "x": [
            835
           ],
           "xaxis": "x",
           "y": [
            "Extreme temperature"
           ],
           "yaxis": "y"
          },
          {
           "alignmentgroup": "True",
           "hovertemplate": "Entity=%{y}<br>Year=1991<br>Deaths=%{x}<extra></extra>",
           "legendgroup": "Extreme weather",
           "marker": {
            "color": "#19d3f3",
            "pattern": {
             "shape": ""
            }
           },
           "name": "Extreme weather",
           "offsetgroup": "Extreme weather",
           "orientation": "h",
           "showlegend": true,
           "textposition": "auto",
           "type": "bar",
           "x": [
            146297
           ],
           "xaxis": "x",
           "y": [
            "Extreme weather"
           ],
           "yaxis": "y"
          },
          {
           "alignmentgroup": "True",
           "hovertemplate": "Entity=%{y}<br>Year=1991<br>Deaths=%{x}<extra></extra>",
           "legendgroup": "Flood",
           "marker": {
            "color": "#FF6692",
            "pattern": {
             "shape": ""
            }
           },
           "name": "Flood",
           "offsetgroup": "Flood",
           "orientation": "h",
           "showlegend": true,
           "textposition": "auto",
           "type": "bar",
           "x": [
            5852
           ],
           "xaxis": "x",
           "y": [
            "Flood"
           ],
           "yaxis": "y"
          },
          {
           "alignmentgroup": "True",
           "hovertemplate": "Entity=%{y}<br>Year=1991<br>Deaths=%{x}<extra></extra>",
           "legendgroup": "Landslide",
           "marker": {
            "color": "#B6E880",
            "pattern": {
             "shape": ""
            }
           },
           "name": "Landslide",
           "offsetgroup": "Landslide",
           "orientation": "h",
           "showlegend": true,
           "textposition": "auto",
           "type": "bar",
           "x": [
            728
           ],
           "xaxis": "x",
           "y": [
            "Landslide"
           ],
           "yaxis": "y"
          },
          {
           "alignmentgroup": "True",
           "hovertemplate": "Entity=%{y}<br>Year=1991<br>Deaths=%{x}<extra></extra>",
           "legendgroup": "Mass movement (dry)",
           "marker": {
            "color": "#FF97FF",
            "pattern": {
             "shape": ""
            }
           },
           "name": "Mass movement (dry)",
           "offsetgroup": "Mass movement (dry)",
           "orientation": "h",
           "showlegend": true,
           "textposition": "auto",
           "type": "bar",
           "x": [
            86
           ],
           "xaxis": "x",
           "y": [
            "Mass movement (dry)"
           ],
           "yaxis": "y"
          },
          {
           "alignmentgroup": "True",
           "hovertemplate": "Entity=%{y}<br>Year=1991<br>Deaths=%{x}<extra></extra>",
           "legendgroup": "Volcanic activity",
           "marker": {
            "color": "#FECB52",
            "pattern": {
             "shape": ""
            }
           },
           "name": "Volcanic activity",
           "offsetgroup": "Volcanic activity",
           "orientation": "h",
           "showlegend": true,
           "textposition": "auto",
           "type": "bar",
           "x": [
            683
           ],
           "xaxis": "x",
           "y": [
            "Volcanic activity"
           ],
           "yaxis": "y"
          },
          {
           "alignmentgroup": "True",
           "hovertemplate": "Entity=%{y}<br>Year=1991<br>Deaths=%{x}<extra></extra>",
           "legendgroup": "Wildfire",
           "marker": {
            "color": "#636efa",
            "pattern": {
             "shape": ""
            }
           },
           "name": "Wildfire",
           "offsetgroup": "Wildfire",
           "orientation": "h",
           "showlegend": true,
           "textposition": "auto",
           "type": "bar",
           "x": [
            90
           ],
           "xaxis": "x",
           "y": [
            "Wildfire"
           ],
           "yaxis": "y"
          }
         ],
         "name": "1991"
        },
        {
         "data": [
          {
           "alignmentgroup": "True",
           "hovertemplate": "Entity=%{y}<br>Year=1992<br>Deaths=%{x}<extra></extra>",
           "legendgroup": "All natural disasters",
           "marker": {
            "color": "#636efa",
            "pattern": {
             "shape": ""
            }
           },
           "name": "All natural disasters",
           "offsetgroup": "All natural disasters",
           "orientation": "h",
           "showlegend": true,
           "textposition": "auto",
           "type": "bar",
           "x": [
            18911
           ],
           "xaxis": "x",
           "y": [
            "All natural disasters"
           ],
           "yaxis": "y"
          },
          {
           "alignmentgroup": "True",
           "hovertemplate": "Entity=%{y}<br>Year=1992<br>Deaths=%{x}<extra></extra>",
           "legendgroup": "Earthquake",
           "marker": {
            "color": "#00cc96",
            "pattern": {
             "shape": ""
            }
           },
           "name": "Earthquake",
           "offsetgroup": "Earthquake",
           "orientation": "h",
           "showlegend": true,
           "textposition": "auto",
           "type": "bar",
           "x": [
            4033
           ],
           "xaxis": "x",
           "y": [
            "Earthquake"
           ],
           "yaxis": "y"
          },
          {
           "alignmentgroup": "True",
           "hovertemplate": "Entity=%{y}<br>Year=1992<br>Deaths=%{x}<extra></extra>",
           "legendgroup": "Epidemic",
           "marker": {
            "color": "#ab63fa",
            "pattern": {
             "shape": ""
            }
           },
           "name": "Epidemic",
           "offsetgroup": "Epidemic",
           "orientation": "h",
           "showlegend": true,
           "textposition": "auto",
           "type": "bar",
           "x": [
            6675
           ],
           "xaxis": "x",
           "y": [
            "Epidemic"
           ],
           "yaxis": "y"
          },
          {
           "alignmentgroup": "True",
           "hovertemplate": "Entity=%{y}<br>Year=1992<br>Deaths=%{x}<extra></extra>",
           "legendgroup": "Extreme temperature",
           "marker": {
            "color": "#FFA15A",
            "pattern": {
             "shape": ""
            }
           },
           "name": "Extreme temperature",
           "offsetgroup": "Extreme temperature",
           "orientation": "h",
           "showlegend": true,
           "textposition": "auto",
           "type": "bar",
           "x": [
            388
           ],
           "xaxis": "x",
           "y": [
            "Extreme temperature"
           ],
           "yaxis": "y"
          },
          {
           "alignmentgroup": "True",
           "hovertemplate": "Entity=%{y}<br>Year=1992<br>Deaths=%{x}<extra></extra>",
           "legendgroup": "Extreme weather",
           "marker": {
            "color": "#19d3f3",
            "pattern": {
             "shape": ""
            }
           },
           "name": "Extreme weather",
           "offsetgroup": "Extreme weather",
           "orientation": "h",
           "showlegend": true,
           "textposition": "auto",
           "type": "bar",
           "x": [
            1342
           ],
           "xaxis": "x",
           "y": [
            "Extreme weather"
           ],
           "yaxis": "y"
          },
          {
           "alignmentgroup": "True",
           "hovertemplate": "Entity=%{y}<br>Year=1992<br>Deaths=%{x}<extra></extra>",
           "legendgroup": "Flood",
           "marker": {
            "color": "#FF6692",
            "pattern": {
             "shape": ""
            }
           },
           "name": "Flood",
           "offsetgroup": "Flood",
           "orientation": "h",
           "showlegend": true,
           "textposition": "auto",
           "type": "bar",
           "x": [
            5315
           ],
           "xaxis": "x",
           "y": [
            "Flood"
           ],
           "yaxis": "y"
          },
          {
           "alignmentgroup": "True",
           "hovertemplate": "Entity=%{y}<br>Year=1992<br>Deaths=%{x}<extra></extra>",
           "legendgroup": "Landslide",
           "marker": {
            "color": "#B6E880",
            "pattern": {
             "shape": ""
            }
           },
           "name": "Landslide",
           "offsetgroup": "Landslide",
           "orientation": "h",
           "showlegend": true,
           "textposition": "auto",
           "type": "bar",
           "x": [
            712
           ],
           "xaxis": "x",
           "y": [
            "Landslide"
           ],
           "yaxis": "y"
          },
          {
           "alignmentgroup": "True",
           "hovertemplate": "Entity=%{y}<br>Year=1992<br>Deaths=%{x}<extra></extra>",
           "legendgroup": "Mass movement (dry)",
           "marker": {
            "color": "#FF97FF",
            "pattern": {
             "shape": ""
            }
           },
           "name": "Mass movement (dry)",
           "offsetgroup": "Mass movement (dry)",
           "orientation": "h",
           "showlegend": true,
           "textposition": "auto",
           "type": "bar",
           "x": [
            323
           ],
           "xaxis": "x",
           "y": [
            "Mass movement (dry)"
           ],
           "yaxis": "y"
          },
          {
           "alignmentgroup": "True",
           "hovertemplate": "Entity=%{y}<br>Year=1992<br>Deaths=%{x}<extra></extra>",
           "legendgroup": "Volcanic activity",
           "marker": {
            "color": "#FECB52",
            "pattern": {
             "shape": ""
            }
           },
           "name": "Volcanic activity",
           "offsetgroup": "Volcanic activity",
           "orientation": "h",
           "showlegend": true,
           "textposition": "auto",
           "type": "bar",
           "x": [
            1
           ],
           "xaxis": "x",
           "y": [
            "Volcanic activity"
           ],
           "yaxis": "y"
          },
          {
           "alignmentgroup": "True",
           "hovertemplate": "Entity=%{y}<br>Year=1992<br>Deaths=%{x}<extra></extra>",
           "legendgroup": "Wildfire",
           "marker": {
            "color": "#636efa",
            "pattern": {
             "shape": ""
            }
           },
           "name": "Wildfire",
           "offsetgroup": "Wildfire",
           "orientation": "h",
           "showlegend": true,
           "textposition": "auto",
           "type": "bar",
           "x": [
            122
           ],
           "xaxis": "x",
           "y": [
            "Wildfire"
           ],
           "yaxis": "y"
          }
         ],
         "name": "1992"
        },
        {
         "data": [
          {
           "alignmentgroup": "True",
           "hovertemplate": "Entity=%{y}<br>Year=1993<br>Deaths=%{x}<extra></extra>",
           "legendgroup": "All natural disasters",
           "marker": {
            "color": "#636efa",
            "pattern": {
             "shape": ""
            }
           },
           "name": "All natural disasters",
           "offsetgroup": "All natural disasters",
           "orientation": "h",
           "showlegend": true,
           "textposition": "auto",
           "type": "bar",
           "x": [
            21821
           ],
           "xaxis": "x",
           "y": [
            "All natural disasters"
           ],
           "yaxis": "y"
          },
          {
           "alignmentgroup": "True",
           "hovertemplate": "Entity=%{y}<br>Year=1993<br>Deaths=%{x}<extra></extra>",
           "legendgroup": "Earthquake",
           "marker": {
            "color": "#00cc96",
            "pattern": {
             "shape": ""
            }
           },
           "name": "Earthquake",
           "offsetgroup": "Earthquake",
           "orientation": "h",
           "showlegend": true,
           "textposition": "auto",
           "type": "bar",
           "x": [
            10088
           ],
           "xaxis": "x",
           "y": [
            "Earthquake"
           ],
           "yaxis": "y"
          },
          {
           "alignmentgroup": "True",
           "hovertemplate": "Entity=%{y}<br>Year=1993<br>Deaths=%{x}<extra></extra>",
           "legendgroup": "Epidemic",
           "marker": {
            "color": "#ab63fa",
            "pattern": {
             "shape": ""
            }
           },
           "name": "Epidemic",
           "offsetgroup": "Epidemic",
           "orientation": "h",
           "showlegend": true,
           "textposition": "auto",
           "type": "bar",
           "x": [
            651
           ],
           "xaxis": "x",
           "y": [
            "Epidemic"
           ],
           "yaxis": "y"
          },
          {
           "alignmentgroup": "True",
           "hovertemplate": "Entity=%{y}<br>Year=1993<br>Deaths=%{x}<extra></extra>",
           "legendgroup": "Extreme temperature",
           "marker": {
            "color": "#FFA15A",
            "pattern": {
             "shape": ""
            }
           },
           "name": "Extreme temperature",
           "offsetgroup": "Extreme temperature",
           "orientation": "h",
           "showlegend": true,
           "textposition": "auto",
           "type": "bar",
           "x": [
            106
           ],
           "xaxis": "x",
           "y": [
            "Extreme temperature"
           ],
           "yaxis": "y"
          },
          {
           "alignmentgroup": "True",
           "hovertemplate": "Entity=%{y}<br>Year=1993<br>Deaths=%{x}<extra></extra>",
           "legendgroup": "Extreme weather",
           "marker": {
            "color": "#19d3f3",
            "pattern": {
             "shape": ""
            }
           },
           "name": "Extreme weather",
           "offsetgroup": "Extreme weather",
           "orientation": "h",
           "showlegend": true,
           "textposition": "auto",
           "type": "bar",
           "x": [
            2965
           ],
           "xaxis": "x",
           "y": [
            "Extreme weather"
           ],
           "yaxis": "y"
          },
          {
           "alignmentgroup": "True",
           "hovertemplate": "Entity=%{y}<br>Year=1993<br>Deaths=%{x}<extra></extra>",
           "legendgroup": "Flood",
           "marker": {
            "color": "#FF6692",
            "pattern": {
             "shape": ""
            }
           },
           "name": "Flood",
           "offsetgroup": "Flood",
           "orientation": "h",
           "showlegend": true,
           "textposition": "auto",
           "type": "bar",
           "x": [
            6150
           ],
           "xaxis": "x",
           "y": [
            "Flood"
           ],
           "yaxis": "y"
          },
          {
           "alignmentgroup": "True",
           "hovertemplate": "Entity=%{y}<br>Year=1993<br>Deaths=%{x}<extra></extra>",
           "legendgroup": "Landslide",
           "marker": {
            "color": "#B6E880",
            "pattern": {
             "shape": ""
            }
           },
           "name": "Landslide",
           "offsetgroup": "Landslide",
           "orientation": "h",
           "showlegend": true,
           "textposition": "auto",
           "type": "bar",
           "x": [
            1418
           ],
           "xaxis": "x",
           "y": [
            "Landslide"
           ],
           "yaxis": "y"
          },
          {
           "alignmentgroup": "True",
           "hovertemplate": "Entity=%{y}<br>Year=1993<br>Deaths=%{x}<extra></extra>",
           "legendgroup": "Mass movement (dry)",
           "marker": {
            "color": "#FF97FF",
            "pattern": {
             "shape": ""
            }
           },
           "name": "Mass movement (dry)",
           "offsetgroup": "Mass movement (dry)",
           "orientation": "h",
           "showlegend": true,
           "textposition": "auto",
           "type": "bar",
           "x": [
            341
           ],
           "xaxis": "x",
           "y": [
            "Mass movement (dry)"
           ],
           "yaxis": "y"
          },
          {
           "alignmentgroup": "True",
           "hovertemplate": "Entity=%{y}<br>Year=1993<br>Deaths=%{x}<extra></extra>",
           "legendgroup": "Volcanic activity",
           "marker": {
            "color": "#FECB52",
            "pattern": {
             "shape": ""
            }
           },
           "name": "Volcanic activity",
           "offsetgroup": "Volcanic activity",
           "orientation": "h",
           "showlegend": true,
           "textposition": "auto",
           "type": "bar",
           "x": [
            99
           ],
           "xaxis": "x",
           "y": [
            "Volcanic activity"
           ],
           "yaxis": "y"
          },
          {
           "alignmentgroup": "True",
           "hovertemplate": "Entity=%{y}<br>Year=1993<br>Deaths=%{x}<extra></extra>",
           "legendgroup": "Wildfire",
           "marker": {
            "color": "#636efa",
            "pattern": {
             "shape": ""
            }
           },
           "name": "Wildfire",
           "offsetgroup": "Wildfire",
           "orientation": "h",
           "showlegend": true,
           "textposition": "auto",
           "type": "bar",
           "x": [
            3
           ],
           "xaxis": "x",
           "y": [
            "Wildfire"
           ],
           "yaxis": "y"
          }
         ],
         "name": "1993"
        },
        {
         "data": [
          {
           "alignmentgroup": "True",
           "hovertemplate": "Entity=%{y}<br>Year=1994<br>Deaths=%{x}<extra></extra>",
           "legendgroup": "All natural disasters",
           "marker": {
            "color": "#636efa",
            "pattern": {
             "shape": ""
            }
           },
           "name": "All natural disasters",
           "offsetgroup": "All natural disasters",
           "orientation": "h",
           "showlegend": true,
           "textposition": "auto",
           "type": "bar",
           "x": [
            15590
           ],
           "xaxis": "x",
           "y": [
            "All natural disasters"
           ],
           "yaxis": "y"
          },
          {
           "alignmentgroup": "True",
           "hovertemplate": "Entity=%{y}<br>Year=1994<br>Deaths=%{x}<extra></extra>",
           "legendgroup": "Earthquake",
           "marker": {
            "color": "#00cc96",
            "pattern": {
             "shape": ""
            }
           },
           "name": "Earthquake",
           "offsetgroup": "Earthquake",
           "orientation": "h",
           "showlegend": true,
           "textposition": "auto",
           "type": "bar",
           "x": [
            1242
           ],
           "xaxis": "x",
           "y": [
            "Earthquake"
           ],
           "yaxis": "y"
          },
          {
           "alignmentgroup": "True",
           "hovertemplate": "Entity=%{y}<br>Year=1994<br>Deaths=%{x}<extra></extra>",
           "legendgroup": "Epidemic",
           "marker": {
            "color": "#ab63fa",
            "pattern": {
             "shape": ""
            }
           },
           "name": "Epidemic",
           "offsetgroup": "Epidemic",
           "orientation": "h",
           "showlegend": true,
           "textposition": "auto",
           "type": "bar",
           "x": [
            2505
           ],
           "xaxis": "x",
           "y": [
            "Epidemic"
           ],
           "yaxis": "y"
          },
          {
           "alignmentgroup": "True",
           "hovertemplate": "Entity=%{y}<br>Year=1994<br>Deaths=%{x}<extra></extra>",
           "legendgroup": "Extreme temperature",
           "marker": {
            "color": "#FFA15A",
            "pattern": {
             "shape": ""
            }
           },
           "name": "Extreme temperature",
           "offsetgroup": "Extreme temperature",
           "orientation": "h",
           "showlegend": true,
           "textposition": "auto",
           "type": "bar",
           "x": [
            341
           ],
           "xaxis": "x",
           "y": [
            "Extreme temperature"
           ],
           "yaxis": "y"
          },
          {
           "alignmentgroup": "True",
           "hovertemplate": "Entity=%{y}<br>Year=1994<br>Deaths=%{x}<extra></extra>",
           "legendgroup": "Extreme weather",
           "marker": {
            "color": "#19d3f3",
            "pattern": {
             "shape": ""
            }
           },
           "name": "Extreme weather",
           "offsetgroup": "Extreme weather",
           "orientation": "h",
           "showlegend": true,
           "textposition": "auto",
           "type": "bar",
           "x": [
            4239
           ],
           "xaxis": "x",
           "y": [
            "Extreme weather"
           ],
           "yaxis": "y"
          },
          {
           "alignmentgroup": "True",
           "hovertemplate": "Entity=%{y}<br>Year=1994<br>Deaths=%{x}<extra></extra>",
           "legendgroup": "Flood",
           "marker": {
            "color": "#FF6692",
            "pattern": {
             "shape": ""
            }
           },
           "name": "Flood",
           "offsetgroup": "Flood",
           "orientation": "h",
           "showlegend": true,
           "textposition": "auto",
           "type": "bar",
           "x": [
            6771
           ],
           "xaxis": "x",
           "y": [
            "Flood"
           ],
           "yaxis": "y"
          },
          {
           "alignmentgroup": "True",
           "hovertemplate": "Entity=%{y}<br>Year=1994<br>Deaths=%{x}<extra></extra>",
           "legendgroup": "Landslide",
           "marker": {
            "color": "#B6E880",
            "pattern": {
             "shape": ""
            }
           },
           "name": "Landslide",
           "offsetgroup": "Landslide",
           "orientation": "h",
           "showlegend": true,
           "textposition": "auto",
           "type": "bar",
           "x": [
            307
           ],
           "xaxis": "x",
           "y": [
            "Landslide"
           ],
           "yaxis": "y"
          },
          {
           "alignmentgroup": "True",
           "hovertemplate": "Entity=%{y}<br>Year=1994<br>Deaths=%{x}<extra></extra>",
           "legendgroup": "Volcanic activity",
           "marker": {
            "color": "#FECB52",
            "pattern": {
             "shape": ""
            }
           },
           "name": "Volcanic activity",
           "offsetgroup": "Volcanic activity",
           "orientation": "h",
           "showlegend": true,
           "textposition": "auto",
           "type": "bar",
           "x": [
            101
           ],
           "xaxis": "x",
           "y": [
            "Volcanic activity"
           ],
           "yaxis": "y"
          },
          {
           "alignmentgroup": "True",
           "hovertemplate": "Entity=%{y}<br>Year=1994<br>Deaths=%{x}<extra></extra>",
           "legendgroup": "Wildfire",
           "marker": {
            "color": "#636efa",
            "pattern": {
             "shape": ""
            }
           },
           "name": "Wildfire",
           "offsetgroup": "Wildfire",
           "orientation": "h",
           "showlegend": true,
           "textposition": "auto",
           "type": "bar",
           "x": [
            84
           ],
           "xaxis": "x",
           "y": [
            "Wildfire"
           ],
           "yaxis": "y"
          }
         ],
         "name": "1994"
        },
        {
         "data": [
          {
           "alignmentgroup": "True",
           "hovertemplate": "Entity=%{y}<br>Year=1995<br>Deaths=%{x}<extra></extra>",
           "legendgroup": "All natural disasters",
           "marker": {
            "color": "#636efa",
            "pattern": {
             "shape": ""
            }
           },
           "name": "All natural disasters",
           "offsetgroup": "All natural disasters",
           "orientation": "h",
           "showlegend": true,
           "textposition": "auto",
           "type": "bar",
           "x": [
            27166
           ],
           "xaxis": "x",
           "y": [
            "All natural disasters"
           ],
           "yaxis": "y"
          },
          {
           "alignmentgroup": "True",
           "hovertemplate": "Entity=%{y}<br>Year=1995<br>Deaths=%{x}<extra></extra>",
           "legendgroup": "Earthquake",
           "marker": {
            "color": "#00cc96",
            "pattern": {
             "shape": ""
            }
           },
           "name": "Earthquake",
           "offsetgroup": "Earthquake",
           "orientation": "h",
           "showlegend": true,
           "textposition": "auto",
           "type": "bar",
           "x": [
            7739
           ],
           "xaxis": "x",
           "y": [
            "Earthquake"
           ],
           "yaxis": "y"
          },
          {
           "alignmentgroup": "True",
           "hovertemplate": "Entity=%{y}<br>Year=1995<br>Deaths=%{x}<extra></extra>",
           "legendgroup": "Epidemic",
           "marker": {
            "color": "#ab63fa",
            "pattern": {
             "shape": ""
            }
           },
           "name": "Epidemic",
           "offsetgroup": "Epidemic",
           "orientation": "h",
           "showlegend": true,
           "textposition": "auto",
           "type": "bar",
           "x": [
            4428
           ],
           "xaxis": "x",
           "y": [
            "Epidemic"
           ],
           "yaxis": "y"
          },
          {
           "alignmentgroup": "True",
           "hovertemplate": "Entity=%{y}<br>Year=1995<br>Deaths=%{x}<extra></extra>",
           "legendgroup": "Extreme temperature",
           "marker": {
            "color": "#FFA15A",
            "pattern": {
             "shape": ""
            }
           },
           "name": "Extreme temperature",
           "offsetgroup": "Extreme temperature",
           "orientation": "h",
           "showlegend": true,
           "textposition": "auto",
           "type": "bar",
           "x": [
            1730
           ],
           "xaxis": "x",
           "y": [
            "Extreme temperature"
           ],
           "yaxis": "y"
          },
          {
           "alignmentgroup": "True",
           "hovertemplate": "Entity=%{y}<br>Year=1995<br>Deaths=%{x}<extra></extra>",
           "legendgroup": "Extreme weather",
           "marker": {
            "color": "#19d3f3",
            "pattern": {
             "shape": ""
            }
           },
           "name": "Extreme weather",
           "offsetgroup": "Extreme weather",
           "orientation": "h",
           "showlegend": true,
           "textposition": "auto",
           "type": "bar",
           "x": [
            3763
           ],
           "xaxis": "x",
           "y": [
            "Extreme weather"
           ],
           "yaxis": "y"
          },
          {
           "alignmentgroup": "True",
           "hovertemplate": "Entity=%{y}<br>Year=1995<br>Deaths=%{x}<extra></extra>",
           "legendgroup": "Flood",
           "marker": {
            "color": "#FF6692",
            "pattern": {
             "shape": ""
            }
           },
           "name": "Flood",
           "offsetgroup": "Flood",
           "orientation": "h",
           "showlegend": true,
           "textposition": "auto",
           "type": "bar",
           "x": [
            7956
           ],
           "xaxis": "x",
           "y": [
            "Flood"
           ],
           "yaxis": "y"
          },
          {
           "alignmentgroup": "True",
           "hovertemplate": "Entity=%{y}<br>Year=1995<br>Deaths=%{x}<extra></extra>",
           "legendgroup": "Landslide",
           "marker": {
            "color": "#B6E880",
            "pattern": {
             "shape": ""
            }
           },
           "name": "Landslide",
           "offsetgroup": "Landslide",
           "orientation": "h",
           "showlegend": true,
           "textposition": "auto",
           "type": "bar",
           "x": [
            1521
           ],
           "xaxis": "x",
           "y": [
            "Landslide"
           ],
           "yaxis": "y"
          },
          {
           "alignmentgroup": "True",
           "hovertemplate": "Entity=%{y}<br>Year=1995<br>Deaths=%{x}<extra></extra>",
           "legendgroup": "Wildfire",
           "marker": {
            "color": "#636efa",
            "pattern": {
             "shape": ""
            }
           },
           "name": "Wildfire",
           "offsetgroup": "Wildfire",
           "orientation": "h",
           "showlegend": true,
           "textposition": "auto",
           "type": "bar",
           "x": [
            29
           ],
           "xaxis": "x",
           "y": [
            "Wildfire"
           ],
           "yaxis": "y"
          }
         ],
         "name": "1995"
        },
        {
         "data": [
          {
           "alignmentgroup": "True",
           "hovertemplate": "Entity=%{y}<br>Year=1996<br>Deaths=%{x}<extra></extra>",
           "legendgroup": "All natural disasters",
           "marker": {
            "color": "#636efa",
            "pattern": {
             "shape": ""
            }
           },
           "name": "All natural disasters",
           "offsetgroup": "All natural disasters",
           "orientation": "h",
           "showlegend": true,
           "textposition": "auto",
           "type": "bar",
           "x": [
            31595
           ],
           "xaxis": "x",
           "y": [
            "All natural disasters"
           ],
           "yaxis": "y"
          },
          {
           "alignmentgroup": "True",
           "hovertemplate": "Entity=%{y}<br>Year=1996<br>Deaths=%{x}<extra></extra>",
           "legendgroup": "Earthquake",
           "marker": {
            "color": "#00cc96",
            "pattern": {
             "shape": ""
            }
           },
           "name": "Earthquake",
           "offsetgroup": "Earthquake",
           "orientation": "h",
           "showlegend": true,
           "textposition": "auto",
           "type": "bar",
           "x": [
            576
           ],
           "xaxis": "x",
           "y": [
            "Earthquake"
           ],
           "yaxis": "y"
          },
          {
           "alignmentgroup": "True",
           "hovertemplate": "Entity=%{y}<br>Year=1996<br>Deaths=%{x}<extra></extra>",
           "legendgroup": "Epidemic",
           "marker": {
            "color": "#ab63fa",
            "pattern": {
             "shape": ""
            }
           },
           "name": "Epidemic",
           "offsetgroup": "Epidemic",
           "orientation": "h",
           "showlegend": true,
           "textposition": "auto",
           "type": "bar",
           "x": [
            16887
           ],
           "xaxis": "x",
           "y": [
            "Epidemic"
           ],
           "yaxis": "y"
          },
          {
           "alignmentgroup": "True",
           "hovertemplate": "Entity=%{y}<br>Year=1996<br>Deaths=%{x}<extra></extra>",
           "legendgroup": "Extreme temperature",
           "marker": {
            "color": "#FFA15A",
            "pattern": {
             "shape": ""
            }
           },
           "name": "Extreme temperature",
           "offsetgroup": "Extreme temperature",
           "orientation": "h",
           "showlegend": true,
           "textposition": "auto",
           "type": "bar",
           "x": [
            300
           ],
           "xaxis": "x",
           "y": [
            "Extreme temperature"
           ],
           "yaxis": "y"
          },
          {
           "alignmentgroup": "True",
           "hovertemplate": "Entity=%{y}<br>Year=1996<br>Deaths=%{x}<extra></extra>",
           "legendgroup": "Extreme weather",
           "marker": {
            "color": "#19d3f3",
            "pattern": {
             "shape": ""
            }
           },
           "name": "Extreme weather",
           "offsetgroup": "Extreme weather",
           "orientation": "h",
           "showlegend": true,
           "textposition": "auto",
           "type": "bar",
           "x": [
            4581
           ],
           "xaxis": "x",
           "y": [
            "Extreme weather"
           ],
           "yaxis": "y"
          },
          {
           "alignmentgroup": "True",
           "hovertemplate": "Entity=%{y}<br>Year=1996<br>Deaths=%{x}<extra></extra>",
           "legendgroup": "Flood",
           "marker": {
            "color": "#FF6692",
            "pattern": {
             "shape": ""
            }
           },
           "name": "Flood",
           "offsetgroup": "Flood",
           "orientation": "h",
           "showlegend": true,
           "textposition": "auto",
           "type": "bar",
           "x": [
            8047
           ],
           "xaxis": "x",
           "y": [
            "Flood"
           ],
           "yaxis": "y"
          },
          {
           "alignmentgroup": "True",
           "hovertemplate": "Entity=%{y}<br>Year=1996<br>Deaths=%{x}<extra></extra>",
           "legendgroup": "Landslide",
           "marker": {
            "color": "#B6E880",
            "pattern": {
             "shape": ""
            }
           },
           "name": "Landslide",
           "offsetgroup": "Landslide",
           "orientation": "h",
           "showlegend": true,
           "textposition": "auto",
           "type": "bar",
           "x": [
            1155
           ],
           "xaxis": "x",
           "y": [
            "Landslide"
           ],
           "yaxis": "y"
          },
          {
           "alignmentgroup": "True",
           "hovertemplate": "Entity=%{y}<br>Year=1996<br>Deaths=%{x}<extra></extra>",
           "legendgroup": "Volcanic activity",
           "marker": {
            "color": "#FECB52",
            "pattern": {
             "shape": ""
            }
           },
           "name": "Volcanic activity",
           "offsetgroup": "Volcanic activity",
           "orientation": "h",
           "showlegend": true,
           "textposition": "auto",
           "type": "bar",
           "x": [
            4
           ],
           "xaxis": "x",
           "y": [
            "Volcanic activity"
           ],
           "yaxis": "y"
          },
          {
           "alignmentgroup": "True",
           "hovertemplate": "Entity=%{y}<br>Year=1996<br>Deaths=%{x}<extra></extra>",
           "legendgroup": "Wildfire",
           "marker": {
            "color": "#636efa",
            "pattern": {
             "shape": ""
            }
           },
           "name": "Wildfire",
           "offsetgroup": "Wildfire",
           "orientation": "h",
           "showlegend": true,
           "textposition": "auto",
           "type": "bar",
           "x": [
            45
           ],
           "xaxis": "x",
           "y": [
            "Wildfire"
           ],
           "yaxis": "y"
          }
         ],
         "name": "1996"
        },
        {
         "data": [
          {
           "alignmentgroup": "True",
           "hovertemplate": "Entity=%{y}<br>Year=1997<br>Deaths=%{x}<extra></extra>",
           "legendgroup": "All natural disasters",
           "marker": {
            "color": "#636efa",
            "pattern": {
             "shape": ""
            }
           },
           "name": "All natural disasters",
           "offsetgroup": "All natural disasters",
           "orientation": "h",
           "showlegend": true,
           "textposition": "auto",
           "type": "bar",
           "x": [
            30124
           ],
           "xaxis": "x",
           "y": [
            "All natural disasters"
           ],
           "yaxis": "y"
          },
          {
           "alignmentgroup": "True",
           "hovertemplate": "Entity=%{y}<br>Year=1997<br>Deaths=%{x}<extra></extra>",
           "legendgroup": "Drought",
           "marker": {
            "color": "#EF553B",
            "pattern": {
             "shape": ""
            }
           },
           "name": "Drought",
           "offsetgroup": "Drought",
           "orientation": "h",
           "showlegend": true,
           "textposition": "auto",
           "type": "bar",
           "x": [
            732
           ],
           "xaxis": "x",
           "y": [
            "Drought"
           ],
           "yaxis": "y"
          },
          {
           "alignmentgroup": "True",
           "hovertemplate": "Entity=%{y}<br>Year=1997<br>Deaths=%{x}<extra></extra>",
           "legendgroup": "Earthquake",
           "marker": {
            "color": "#00cc96",
            "pattern": {
             "shape": ""
            }
           },
           "name": "Earthquake",
           "offsetgroup": "Earthquake",
           "orientation": "h",
           "showlegend": true,
           "textposition": "auto",
           "type": "bar",
           "x": [
            3159
           ],
           "xaxis": "x",
           "y": [
            "Earthquake"
           ],
           "yaxis": "y"
          },
          {
           "alignmentgroup": "True",
           "hovertemplate": "Entity=%{y}<br>Year=1997<br>Deaths=%{x}<extra></extra>",
           "legendgroup": "Epidemic",
           "marker": {
            "color": "#ab63fa",
            "pattern": {
             "shape": ""
            }
           },
           "name": "Epidemic",
           "offsetgroup": "Epidemic",
           "orientation": "h",
           "showlegend": true,
           "textposition": "auto",
           "type": "bar",
           "x": [
            10674
           ],
           "xaxis": "x",
           "y": [
            "Epidemic"
           ],
           "yaxis": "y"
          },
          {
           "alignmentgroup": "True",
           "hovertemplate": "Entity=%{y}<br>Year=1997<br>Deaths=%{x}<extra></extra>",
           "legendgroup": "Extreme temperature",
           "marker": {
            "color": "#FFA15A",
            "pattern": {
             "shape": ""
            }
           },
           "name": "Extreme temperature",
           "offsetgroup": "Extreme temperature",
           "orientation": "h",
           "showlegend": true,
           "textposition": "auto",
           "type": "bar",
           "x": [
            604
           ],
           "xaxis": "x",
           "y": [
            "Extreme temperature"
           ],
           "yaxis": "y"
          },
          {
           "alignmentgroup": "True",
           "hovertemplate": "Entity=%{y}<br>Year=1997<br>Deaths=%{x}<extra></extra>",
           "legendgroup": "Extreme weather",
           "marker": {
            "color": "#19d3f3",
            "pattern": {
             "shape": ""
            }
           },
           "name": "Extreme weather",
           "offsetgroup": "Extreme weather",
           "orientation": "h",
           "showlegend": true,
           "textposition": "auto",
           "type": "bar",
           "x": [
            6150
           ],
           "xaxis": "x",
           "y": [
            "Extreme weather"
           ],
           "yaxis": "y"
          },
          {
           "alignmentgroup": "True",
           "hovertemplate": "Entity=%{y}<br>Year=1997<br>Deaths=%{x}<extra></extra>",
           "legendgroup": "Flood",
           "marker": {
            "color": "#FF6692",
            "pattern": {
             "shape": ""
            }
           },
           "name": "Flood",
           "offsetgroup": "Flood",
           "orientation": "h",
           "showlegend": true,
           "textposition": "auto",
           "type": "bar",
           "x": [
            7685
           ],
           "xaxis": "x",
           "y": [
            "Flood"
           ],
           "yaxis": "y"
          },
          {
           "alignmentgroup": "True",
           "hovertemplate": "Entity=%{y}<br>Year=1997<br>Deaths=%{x}<extra></extra>",
           "legendgroup": "Landslide",
           "marker": {
            "color": "#B6E880",
            "pattern": {
             "shape": ""
            }
           },
           "name": "Landslide",
           "offsetgroup": "Landslide",
           "orientation": "h",
           "showlegend": true,
           "textposition": "auto",
           "type": "bar",
           "x": [
            801
           ],
           "xaxis": "x",
           "y": [
            "Landslide"
           ],
           "yaxis": "y"
          },
          {
           "alignmentgroup": "True",
           "hovertemplate": "Entity=%{y}<br>Year=1997<br>Deaths=%{x}<extra></extra>",
           "legendgroup": "Volcanic activity",
           "marker": {
            "color": "#FECB52",
            "pattern": {
             "shape": ""
            }
           },
           "name": "Volcanic activity",
           "offsetgroup": "Volcanic activity",
           "orientation": "h",
           "showlegend": true,
           "textposition": "auto",
           "type": "bar",
           "x": [
            53
           ],
           "xaxis": "x",
           "y": [
            "Volcanic activity"
           ],
           "yaxis": "y"
          },
          {
           "alignmentgroup": "True",
           "hovertemplate": "Entity=%{y}<br>Year=1997<br>Deaths=%{x}<extra></extra>",
           "legendgroup": "Wildfire",
           "marker": {
            "color": "#636efa",
            "pattern": {
             "shape": ""
            }
           },
           "name": "Wildfire",
           "offsetgroup": "Wildfire",
           "orientation": "h",
           "showlegend": true,
           "textposition": "auto",
           "type": "bar",
           "x": [
            266
           ],
           "xaxis": "x",
           "y": [
            "Wildfire"
           ],
           "yaxis": "y"
          }
         ],
         "name": "1997"
        },
        {
         "data": [
          {
           "alignmentgroup": "True",
           "hovertemplate": "Entity=%{y}<br>Year=1998<br>Deaths=%{x}<extra></extra>",
           "legendgroup": "All natural disasters",
           "marker": {
            "color": "#636efa",
            "pattern": {
             "shape": ""
            }
           },
           "name": "All natural disasters",
           "offsetgroup": "All natural disasters",
           "orientation": "h",
           "showlegend": true,
           "textposition": "auto",
           "type": "bar",
           "x": [
            62672
           ],
           "xaxis": "x",
           "y": [
            "All natural disasters"
           ],
           "yaxis": "y"
          },
          {
           "alignmentgroup": "True",
           "hovertemplate": "Entity=%{y}<br>Year=1998<br>Deaths=%{x}<extra></extra>",
           "legendgroup": "Drought",
           "marker": {
            "color": "#EF553B",
            "pattern": {
             "shape": ""
            }
           },
           "name": "Drought",
           "offsetgroup": "Drought",
           "orientation": "h",
           "showlegend": true,
           "textposition": "auto",
           "type": "bar",
           "x": [
            20
           ],
           "xaxis": "x",
           "y": [
            "Drought"
           ],
           "yaxis": "y"
          },
          {
           "alignmentgroup": "True",
           "hovertemplate": "Entity=%{y}<br>Year=1998<br>Deaths=%{x}<extra></extra>",
           "legendgroup": "Earthquake",
           "marker": {
            "color": "#00cc96",
            "pattern": {
             "shape": ""
            }
           },
           "name": "Earthquake",
           "offsetgroup": "Earthquake",
           "orientation": "h",
           "showlegend": true,
           "textposition": "auto",
           "type": "bar",
           "x": [
            9573
           ],
           "xaxis": "x",
           "y": [
            "Earthquake"
           ],
           "yaxis": "y"
          },
          {
           "alignmentgroup": "True",
           "hovertemplate": "Entity=%{y}<br>Year=1998<br>Deaths=%{x}<extra></extra>",
           "legendgroup": "Epidemic",
           "marker": {
            "color": "#ab63fa",
            "pattern": {
             "shape": ""
            }
           },
           "name": "Epidemic",
           "offsetgroup": "Epidemic",
           "orientation": "h",
           "showlegend": true,
           "textposition": "auto",
           "type": "bar",
           "x": [
            12931
           ],
           "xaxis": "x",
           "y": [
            "Epidemic"
           ],
           "yaxis": "y"
          },
          {
           "alignmentgroup": "True",
           "hovertemplate": "Entity=%{y}<br>Year=1998<br>Deaths=%{x}<extra></extra>",
           "legendgroup": "Extreme temperature",
           "marker": {
            "color": "#FFA15A",
            "pattern": {
             "shape": ""
            }
           },
           "name": "Extreme temperature",
           "offsetgroup": "Extreme temperature",
           "orientation": "h",
           "showlegend": true,
           "textposition": "auto",
           "type": "bar",
           "x": [
            3269
           ],
           "xaxis": "x",
           "y": [
            "Extreme temperature"
           ],
           "yaxis": "y"
          },
          {
           "alignmentgroup": "True",
           "hovertemplate": "Entity=%{y}<br>Year=1998<br>Deaths=%{x}<extra></extra>",
           "legendgroup": "Extreme weather",
           "marker": {
            "color": "#19d3f3",
            "pattern": {
             "shape": ""
            }
           },
           "name": "Extreme weather",
           "offsetgroup": "Extreme weather",
           "orientation": "h",
           "showlegend": true,
           "textposition": "auto",
           "type": "bar",
           "x": [
            24935
           ],
           "xaxis": "x",
           "y": [
            "Extreme weather"
           ],
           "yaxis": "y"
          },
          {
           "alignmentgroup": "True",
           "hovertemplate": "Entity=%{y}<br>Year=1998<br>Deaths=%{x}<extra></extra>",
           "legendgroup": "Flood",
           "marker": {
            "color": "#FF6692",
            "pattern": {
             "shape": ""
            }
           },
           "name": "Flood",
           "offsetgroup": "Flood",
           "orientation": "h",
           "showlegend": true,
           "textposition": "auto",
           "type": "bar",
           "x": [
            10653
           ],
           "xaxis": "x",
           "y": [
            "Flood"
           ],
           "yaxis": "y"
          },
          {
           "alignmentgroup": "True",
           "hovertemplate": "Entity=%{y}<br>Year=1998<br>Deaths=%{x}<extra></extra>",
           "legendgroup": "Landslide",
           "marker": {
            "color": "#B6E880",
            "pattern": {
             "shape": ""
            }
           },
           "name": "Landslide",
           "offsetgroup": "Landslide",
           "orientation": "h",
           "showlegend": true,
           "textposition": "auto",
           "type": "bar",
           "x": [
            1141
           ],
           "xaxis": "x",
           "y": [
            "Landslide"
           ],
           "yaxis": "y"
          },
          {
           "alignmentgroup": "True",
           "hovertemplate": "Entity=%{y}<br>Year=1998<br>Deaths=%{x}<extra></extra>",
           "legendgroup": "Wildfire",
           "marker": {
            "color": "#636efa",
            "pattern": {
             "shape": ""
            }
           },
           "name": "Wildfire",
           "offsetgroup": "Wildfire",
           "orientation": "h",
           "showlegend": true,
           "textposition": "auto",
           "type": "bar",
           "x": [
            150
           ],
           "xaxis": "x",
           "y": [
            "Wildfire"
           ],
           "yaxis": "y"
          }
         ],
         "name": "1998"
        },
        {
         "data": [
          {
           "alignmentgroup": "True",
           "hovertemplate": "Entity=%{y}<br>Year=1999<br>Deaths=%{x}<extra></extra>",
           "legendgroup": "All natural disasters",
           "marker": {
            "color": "#636efa",
            "pattern": {
             "shape": ""
            }
           },
           "name": "All natural disasters",
           "offsetgroup": "All natural disasters",
           "orientation": "h",
           "showlegend": true,
           "textposition": "auto",
           "type": "bar",
           "x": [
            76886
           ],
           "xaxis": "x",
           "y": [
            "All natural disasters"
           ],
           "yaxis": "y"
          },
          {
           "alignmentgroup": "True",
           "hovertemplate": "Entity=%{y}<br>Year=1999<br>Deaths=%{x}<extra></extra>",
           "legendgroup": "Drought",
           "marker": {
            "color": "#EF553B",
            "pattern": {
             "shape": ""
            }
           },
           "name": "Drought",
           "offsetgroup": "Drought",
           "orientation": "h",
           "showlegend": true,
           "textposition": "auto",
           "type": "bar",
           "x": [
            361
           ],
           "xaxis": "x",
           "y": [
            "Drought"
           ],
           "yaxis": "y"
          },
          {
           "alignmentgroup": "True",
           "hovertemplate": "Entity=%{y}<br>Year=1999<br>Deaths=%{x}<extra></extra>",
           "legendgroup": "Earthquake",
           "marker": {
            "color": "#00cc96",
            "pattern": {
             "shape": ""
            }
           },
           "name": "Earthquake",
           "offsetgroup": "Earthquake",
           "orientation": "h",
           "showlegend": true,
           "textposition": "auto",
           "type": "bar",
           "x": [
            21869
           ],
           "xaxis": "x",
           "y": [
            "Earthquake"
           ],
           "yaxis": "y"
          },
          {
           "alignmentgroup": "True",
           "hovertemplate": "Entity=%{y}<br>Year=1999<br>Deaths=%{x}<extra></extra>",
           "legendgroup": "Epidemic",
           "marker": {
            "color": "#ab63fa",
            "pattern": {
             "shape": ""
            }
           },
           "name": "Epidemic",
           "offsetgroup": "Epidemic",
           "orientation": "h",
           "showlegend": true,
           "textposition": "auto",
           "type": "bar",
           "x": [
            6293
           ],
           "xaxis": "x",
           "y": [
            "Epidemic"
           ],
           "yaxis": "y"
          },
          {
           "alignmentgroup": "True",
           "hovertemplate": "Entity=%{y}<br>Year=1999<br>Deaths=%{x}<extra></extra>",
           "legendgroup": "Extreme temperature",
           "marker": {
            "color": "#FFA15A",
            "pattern": {
             "shape": ""
            }
           },
           "name": "Extreme temperature",
           "offsetgroup": "Extreme temperature",
           "orientation": "h",
           "showlegend": true,
           "textposition": "auto",
           "type": "bar",
           "x": [
            771
           ],
           "xaxis": "x",
           "y": [
            "Extreme temperature"
           ],
           "yaxis": "y"
          },
          {
           "alignmentgroup": "True",
           "hovertemplate": "Entity=%{y}<br>Year=1999<br>Deaths=%{x}<extra></extra>",
           "legendgroup": "Extreme weather",
           "marker": {
            "color": "#19d3f3",
            "pattern": {
             "shape": ""
            }
           },
           "name": "Extreme weather",
           "offsetgroup": "Extreme weather",
           "orientation": "h",
           "showlegend": true,
           "textposition": "auto",
           "type": "bar",
           "x": [
            12270
           ],
           "xaxis": "x",
           "y": [
            "Extreme weather"
           ],
           "yaxis": "y"
          },
          {
           "alignmentgroup": "True",
           "hovertemplate": "Entity=%{y}<br>Year=1999<br>Deaths=%{x}<extra></extra>",
           "legendgroup": "Flood",
           "marker": {
            "color": "#FF6692",
            "pattern": {
             "shape": ""
            }
           },
           "name": "Flood",
           "offsetgroup": "Flood",
           "orientation": "h",
           "showlegend": true,
           "textposition": "auto",
           "type": "bar",
           "x": [
            34807
           ],
           "xaxis": "x",
           "y": [
            "Flood"
           ],
           "yaxis": "y"
          },
          {
           "alignmentgroup": "True",
           "hovertemplate": "Entity=%{y}<br>Year=1999<br>Deaths=%{x}<extra></extra>",
           "legendgroup": "Landslide",
           "marker": {
            "color": "#B6E880",
            "pattern": {
             "shape": ""
            }
           },
           "name": "Landslide",
           "offsetgroup": "Landslide",
           "orientation": "h",
           "showlegend": true,
           "textposition": "auto",
           "type": "bar",
           "x": [
            445
           ],
           "xaxis": "x",
           "y": [
            "Landslide"
           ],
           "yaxis": "y"
          },
          {
           "alignmentgroup": "True",
           "hovertemplate": "Entity=%{y}<br>Year=1999<br>Deaths=%{x}<extra></extra>",
           "legendgroup": "Wildfire",
           "marker": {
            "color": "#636efa",
            "pattern": {
             "shape": ""
            }
           },
           "name": "Wildfire",
           "offsetgroup": "Wildfire",
           "orientation": "h",
           "showlegend": true,
           "textposition": "auto",
           "type": "bar",
           "x": [
            70
           ],
           "xaxis": "x",
           "y": [
            "Wildfire"
           ],
           "yaxis": "y"
          }
         ],
         "name": "1999"
        },
        {
         "data": [
          {
           "alignmentgroup": "True",
           "hovertemplate": "Entity=%{y}<br>Year=2000<br>Deaths=%{x}<extra></extra>",
           "legendgroup": "All natural disasters",
           "marker": {
            "color": "#636efa",
            "pattern": {
             "shape": ""
            }
           },
           "name": "All natural disasters",
           "offsetgroup": "All natural disasters",
           "orientation": "h",
           "showlegend": true,
           "textposition": "auto",
           "type": "bar",
           "x": [
            16667
           ],
           "xaxis": "x",
           "y": [
            "All natural disasters"
           ],
           "yaxis": "y"
          },
          {
           "alignmentgroup": "True",
           "hovertemplate": "Entity=%{y}<br>Year=2000<br>Deaths=%{x}<extra></extra>",
           "legendgroup": "Drought",
           "marker": {
            "color": "#EF553B",
            "pattern": {
             "shape": ""
            }
           },
           "name": "Drought",
           "offsetgroup": "Drought",
           "orientation": "h",
           "showlegend": true,
           "textposition": "auto",
           "type": "bar",
           "x": [
            80
           ],
           "xaxis": "x",
           "y": [
            "Drought"
           ],
           "yaxis": "y"
          },
          {
           "alignmentgroup": "True",
           "hovertemplate": "Entity=%{y}<br>Year=2000<br>Deaths=%{x}<extra></extra>",
           "legendgroup": "Earthquake",
           "marker": {
            "color": "#00cc96",
            "pattern": {
             "shape": ""
            }
           },
           "name": "Earthquake",
           "offsetgroup": "Earthquake",
           "orientation": "h",
           "showlegend": true,
           "textposition": "auto",
           "type": "bar",
           "x": [
            217
           ],
           "xaxis": "x",
           "y": [
            "Earthquake"
           ],
           "yaxis": "y"
          },
          {
           "alignmentgroup": "True",
           "hovertemplate": "Entity=%{y}<br>Year=2000<br>Deaths=%{x}<extra></extra>",
           "legendgroup": "Epidemic",
           "marker": {
            "color": "#ab63fa",
            "pattern": {
             "shape": ""
            }
           },
           "name": "Epidemic",
           "offsetgroup": "Epidemic",
           "orientation": "h",
           "showlegend": true,
           "textposition": "auto",
           "type": "bar",
           "x": [
            6980
           ],
           "xaxis": "x",
           "y": [
            "Epidemic"
           ],
           "yaxis": "y"
          },
          {
           "alignmentgroup": "True",
           "hovertemplate": "Entity=%{y}<br>Year=2000<br>Deaths=%{x}<extra></extra>",
           "legendgroup": "Extreme temperature",
           "marker": {
            "color": "#FFA15A",
            "pattern": {
             "shape": ""
            }
           },
           "name": "Extreme temperature",
           "offsetgroup": "Extreme temperature",
           "orientation": "h",
           "showlegend": true,
           "textposition": "auto",
           "type": "bar",
           "x": [
            941
           ],
           "xaxis": "x",
           "y": [
            "Extreme temperature"
           ],
           "yaxis": "y"
          },
          {
           "alignmentgroup": "True",
           "hovertemplate": "Entity=%{y}<br>Year=2000<br>Deaths=%{x}<extra></extra>",
           "legendgroup": "Extreme weather",
           "marker": {
            "color": "#19d3f3",
            "pattern": {
             "shape": ""
            }
           },
           "name": "Extreme weather",
           "offsetgroup": "Extreme weather",
           "orientation": "h",
           "showlegend": true,
           "textposition": "auto",
           "type": "bar",
           "x": [
            1354
           ],
           "xaxis": "x",
           "y": [
            "Extreme weather"
           ],
           "yaxis": "y"
          },
          {
           "alignmentgroup": "True",
           "hovertemplate": "Entity=%{y}<br>Year=2000<br>Deaths=%{x}<extra></extra>",
           "legendgroup": "Flood",
           "marker": {
            "color": "#FF6692",
            "pattern": {
             "shape": ""
            }
           },
           "name": "Flood",
           "offsetgroup": "Flood",
           "orientation": "h",
           "showlegend": true,
           "textposition": "auto",
           "type": "bar",
           "x": [
            6025
           ],
           "xaxis": "x",
           "y": [
            "Flood"
           ],
           "yaxis": "y"
          },
          {
           "alignmentgroup": "True",
           "hovertemplate": "Entity=%{y}<br>Year=2000<br>Deaths=%{x}<extra></extra>",
           "legendgroup": "Landslide",
           "marker": {
            "color": "#B6E880",
            "pattern": {
             "shape": ""
            }
           },
           "name": "Landslide",
           "offsetgroup": "Landslide",
           "orientation": "h",
           "showlegend": true,
           "textposition": "auto",
           "type": "bar",
           "x": [
            1012
           ],
           "xaxis": "x",
           "y": [
            "Landslide"
           ],
           "yaxis": "y"
          },
          {
           "alignmentgroup": "True",
           "hovertemplate": "Entity=%{y}<br>Year=2000<br>Deaths=%{x}<extra></extra>",
           "legendgroup": "Mass movement (dry)",
           "marker": {
            "color": "#FF97FF",
            "pattern": {
             "shape": ""
            }
           },
           "name": "Mass movement (dry)",
           "offsetgroup": "Mass movement (dry)",
           "orientation": "h",
           "showlegend": true,
           "textposition": "auto",
           "type": "bar",
           "x": [
            11
           ],
           "xaxis": "x",
           "y": [
            "Mass movement (dry)"
           ],
           "yaxis": "y"
          },
          {
           "alignmentgroup": "True",
           "hovertemplate": "Entity=%{y}<br>Year=2000<br>Deaths=%{x}<extra></extra>",
           "legendgroup": "Wildfire",
           "marker": {
            "color": "#636efa",
            "pattern": {
             "shape": ""
            }
           },
           "name": "Wildfire",
           "offsetgroup": "Wildfire",
           "orientation": "h",
           "showlegend": true,
           "textposition": "auto",
           "type": "bar",
           "x": [
            47
           ],
           "xaxis": "x",
           "y": [
            "Wildfire"
           ],
           "yaxis": "y"
          }
         ],
         "name": "2000"
        },
        {
         "data": [
          {
           "alignmentgroup": "True",
           "hovertemplate": "Entity=%{y}<br>Year=2001<br>Deaths=%{x}<extra></extra>",
           "legendgroup": "All natural disasters",
           "marker": {
            "color": "#636efa",
            "pattern": {
             "shape": ""
            }
           },
           "name": "All natural disasters",
           "offsetgroup": "All natural disasters",
           "orientation": "h",
           "showlegend": true,
           "textposition": "auto",
           "type": "bar",
           "x": [
            39493
           ],
           "xaxis": "x",
           "y": [
            "All natural disasters"
           ],
           "yaxis": "y"
          },
          {
           "alignmentgroup": "True",
           "hovertemplate": "Entity=%{y}<br>Year=2001<br>Deaths=%{x}<extra></extra>",
           "legendgroup": "Drought",
           "marker": {
            "color": "#EF553B",
            "pattern": {
             "shape": ""
            }
           },
           "name": "Drought",
           "offsetgroup": "Drought",
           "orientation": "h",
           "showlegend": true,
           "textposition": "auto",
           "type": "bar",
           "x": [
            99
           ],
           "xaxis": "x",
           "y": [
            "Drought"
           ],
           "yaxis": "y"
          },
          {
           "alignmentgroup": "True",
           "hovertemplate": "Entity=%{y}<br>Year=2001<br>Deaths=%{x}<extra></extra>",
           "legendgroup": "Earthquake",
           "marker": {
            "color": "#00cc96",
            "pattern": {
             "shape": ""
            }
           },
           "name": "Earthquake",
           "offsetgroup": "Earthquake",
           "orientation": "h",
           "showlegend": true,
           "textposition": "auto",
           "type": "bar",
           "x": [
            21348
           ],
           "xaxis": "x",
           "y": [
            "Earthquake"
           ],
           "yaxis": "y"
          },
          {
           "alignmentgroup": "True",
           "hovertemplate": "Entity=%{y}<br>Year=2001<br>Deaths=%{x}<extra></extra>",
           "legendgroup": "Epidemic",
           "marker": {
            "color": "#ab63fa",
            "pattern": {
             "shape": ""
            }
           },
           "name": "Epidemic",
           "offsetgroup": "Epidemic",
           "orientation": "h",
           "showlegend": true,
           "textposition": "auto",
           "type": "bar",
           "x": [
            8515
           ],
           "xaxis": "x",
           "y": [
            "Epidemic"
           ],
           "yaxis": "y"
          },
          {
           "alignmentgroup": "True",
           "hovertemplate": "Entity=%{y}<br>Year=2001<br>Deaths=%{x}<extra></extra>",
           "legendgroup": "Extreme temperature",
           "marker": {
            "color": "#FFA15A",
            "pattern": {
             "shape": ""
            }
           },
           "name": "Extreme temperature",
           "offsetgroup": "Extreme temperature",
           "orientation": "h",
           "showlegend": true,
           "textposition": "auto",
           "type": "bar",
           "x": [
            1787
           ],
           "xaxis": "x",
           "y": [
            "Extreme temperature"
           ],
           "yaxis": "y"
          },
          {
           "alignmentgroup": "True",
           "hovertemplate": "Entity=%{y}<br>Year=2001<br>Deaths=%{x}<extra></extra>",
           "legendgroup": "Extreme weather",
           "marker": {
            "color": "#19d3f3",
            "pattern": {
             "shape": ""
            }
           },
           "name": "Extreme weather",
           "offsetgroup": "Extreme weather",
           "orientation": "h",
           "showlegend": true,
           "textposition": "auto",
           "type": "bar",
           "x": [
            1911
           ],
           "xaxis": "x",
           "y": [
            "Extreme weather"
           ],
           "yaxis": "y"
          },
          {
           "alignmentgroup": "True",
           "hovertemplate": "Entity=%{y}<br>Year=2001<br>Deaths=%{x}<extra></extra>",
           "legendgroup": "Flood",
           "marker": {
            "color": "#FF6692",
            "pattern": {
             "shape": ""
            }
           },
           "name": "Flood",
           "offsetgroup": "Flood",
           "orientation": "h",
           "showlegend": true,
           "textposition": "auto",
           "type": "bar",
           "x": [
            5014
           ],
           "xaxis": "x",
           "y": [
            "Flood"
           ],
           "yaxis": "y"
          },
          {
           "alignmentgroup": "True",
           "hovertemplate": "Entity=%{y}<br>Year=2001<br>Deaths=%{x}<extra></extra>",
           "legendgroup": "Landslide",
           "marker": {
            "color": "#B6E880",
            "pattern": {
             "shape": ""
            }
           },
           "name": "Landslide",
           "offsetgroup": "Landslide",
           "orientation": "h",
           "showlegend": true,
           "textposition": "auto",
           "type": "bar",
           "x": [
            786
           ],
           "xaxis": "x",
           "y": [
            "Landslide"
           ],
           "yaxis": "y"
          },
          {
           "alignmentgroup": "True",
           "hovertemplate": "Entity=%{y}<br>Year=2001<br>Deaths=%{x}<extra></extra>",
           "legendgroup": "Wildfire",
           "marker": {
            "color": "#636efa",
            "pattern": {
             "shape": ""
            }
           },
           "name": "Wildfire",
           "offsetgroup": "Wildfire",
           "orientation": "h",
           "showlegend": true,
           "textposition": "auto",
           "type": "bar",
           "x": [
            33
           ],
           "xaxis": "x",
           "y": [
            "Wildfire"
           ],
           "yaxis": "y"
          }
         ],
         "name": "2001"
        },
        {
         "data": [
          {
           "alignmentgroup": "True",
           "hovertemplate": "Entity=%{y}<br>Year=2002<br>Deaths=%{x}<extra></extra>",
           "legendgroup": "All natural disasters",
           "marker": {
            "color": "#636efa",
            "pattern": {
             "shape": ""
            }
           },
           "name": "All natural disasters",
           "offsetgroup": "All natural disasters",
           "orientation": "h",
           "showlegend": true,
           "textposition": "auto",
           "type": "bar",
           "x": [
            21342
           ],
           "xaxis": "x",
           "y": [
            "All natural disasters"
           ],
           "yaxis": "y"
          },
          {
           "alignmentgroup": "True",
           "hovertemplate": "Entity=%{y}<br>Year=2002<br>Deaths=%{x}<extra></extra>",
           "legendgroup": "Drought",
           "marker": {
            "color": "#EF553B",
            "pattern": {
             "shape": ""
            }
           },
           "name": "Drought",
           "offsetgroup": "Drought",
           "orientation": "h",
           "showlegend": true,
           "textposition": "auto",
           "type": "bar",
           "x": [
            588
           ],
           "xaxis": "x",
           "y": [
            "Drought"
           ],
           "yaxis": "y"
          },
          {
           "alignmentgroup": "True",
           "hovertemplate": "Entity=%{y}<br>Year=2002<br>Deaths=%{x}<extra></extra>",
           "legendgroup": "Earthquake",
           "marker": {
            "color": "#00cc96",
            "pattern": {
             "shape": ""
            }
           },
           "name": "Earthquake",
           "offsetgroup": "Earthquake",
           "orientation": "h",
           "showlegend": true,
           "textposition": "auto",
           "type": "bar",
           "x": [
            1639
           ],
           "xaxis": "x",
           "y": [
            "Earthquake"
           ],
           "yaxis": "y"
          },
          {
           "alignmentgroup": "True",
           "hovertemplate": "Entity=%{y}<br>Year=2002<br>Deaths=%{x}<extra></extra>",
           "legendgroup": "Epidemic",
           "marker": {
            "color": "#ab63fa",
            "pattern": {
             "shape": ""
            }
           },
           "name": "Epidemic",
           "offsetgroup": "Epidemic",
           "orientation": "h",
           "showlegend": true,
           "textposition": "auto",
           "type": "bar",
           "x": [
            8762
           ],
           "xaxis": "x",
           "y": [
            "Epidemic"
           ],
           "yaxis": "y"
          },
          {
           "alignmentgroup": "True",
           "hovertemplate": "Entity=%{y}<br>Year=2002<br>Deaths=%{x}<extra></extra>",
           "legendgroup": "Extreme temperature",
           "marker": {
            "color": "#FFA15A",
            "pattern": {
             "shape": ""
            }
           },
           "name": "Extreme temperature",
           "offsetgroup": "Extreme temperature",
           "orientation": "h",
           "showlegend": true,
           "textposition": "auto",
           "type": "bar",
           "x": [
            3369
           ],
           "xaxis": "x",
           "y": [
            "Extreme temperature"
           ],
           "yaxis": "y"
          },
          {
           "alignmentgroup": "True",
           "hovertemplate": "Entity=%{y}<br>Year=2002<br>Deaths=%{x}<extra></extra>",
           "legendgroup": "Extreme weather",
           "marker": {
            "color": "#19d3f3",
            "pattern": {
             "shape": ""
            }
           },
           "name": "Extreme weather",
           "offsetgroup": "Extreme weather",
           "orientation": "h",
           "showlegend": true,
           "textposition": "auto",
           "type": "bar",
           "x": [
            1382
           ],
           "xaxis": "x",
           "y": [
            "Extreme weather"
           ],
           "yaxis": "y"
          },
          {
           "alignmentgroup": "True",
           "hovertemplate": "Entity=%{y}<br>Year=2002<br>Deaths=%{x}<extra></extra>",
           "legendgroup": "Flood",
           "marker": {
            "color": "#FF6692",
            "pattern": {
             "shape": ""
            }
           },
           "name": "Flood",
           "offsetgroup": "Flood",
           "orientation": "h",
           "showlegend": true,
           "textposition": "auto",
           "type": "bar",
           "x": [
            4236
           ],
           "xaxis": "x",
           "y": [
            "Flood"
           ],
           "yaxis": "y"
          },
          {
           "alignmentgroup": "True",
           "hovertemplate": "Entity=%{y}<br>Year=2002<br>Deaths=%{x}<extra></extra>",
           "legendgroup": "Landslide",
           "marker": {
            "color": "#B6E880",
            "pattern": {
             "shape": ""
            }
           },
           "name": "Landslide",
           "offsetgroup": "Landslide",
           "orientation": "h",
           "showlegend": true,
           "textposition": "auto",
           "type": "bar",
           "x": [
            1100
           ],
           "xaxis": "x",
           "y": [
            "Landslide"
           ],
           "yaxis": "y"
          },
          {
           "alignmentgroup": "True",
           "hovertemplate": "Entity=%{y}<br>Year=2002<br>Deaths=%{x}<extra></extra>",
           "legendgroup": "Mass movement (dry)",
           "marker": {
            "color": "#FF97FF",
            "pattern": {
             "shape": ""
            }
           },
           "name": "Mass movement (dry)",
           "offsetgroup": "Mass movement (dry)",
           "orientation": "h",
           "showlegend": true,
           "textposition": "auto",
           "type": "bar",
           "x": [
            60
           ],
           "xaxis": "x",
           "y": [
            "Mass movement (dry)"
           ],
           "yaxis": "y"
          },
          {
           "alignmentgroup": "True",
           "hovertemplate": "Entity=%{y}<br>Year=2002<br>Deaths=%{x}<extra></extra>",
           "legendgroup": "Volcanic activity",
           "marker": {
            "color": "#FECB52",
            "pattern": {
             "shape": ""
            }
           },
           "name": "Volcanic activity",
           "offsetgroup": "Volcanic activity",
           "orientation": "h",
           "showlegend": true,
           "textposition": "auto",
           "type": "bar",
           "x": [
            200
           ],
           "xaxis": "x",
           "y": [
            "Volcanic activity"
           ],
           "yaxis": "y"
          },
          {
           "alignmentgroup": "True",
           "hovertemplate": "Entity=%{y}<br>Year=2002<br>Deaths=%{x}<extra></extra>",
           "legendgroup": "Wildfire",
           "marker": {
            "color": "#636efa",
            "pattern": {
             "shape": ""
            }
           },
           "name": "Wildfire",
           "offsetgroup": "Wildfire",
           "orientation": "h",
           "showlegend": true,
           "textposition": "auto",
           "type": "bar",
           "x": [
            6
           ],
           "xaxis": "x",
           "y": [
            "Wildfire"
           ],
           "yaxis": "y"
          }
         ],
         "name": "2002"
        },
        {
         "data": [
          {
           "alignmentgroup": "True",
           "hovertemplate": "Entity=%{y}<br>Year=2003<br>Deaths=%{x}<extra></extra>",
           "legendgroup": "All natural disasters",
           "marker": {
            "color": "#636efa",
            "pattern": {
             "shape": ""
            }
           },
           "name": "All natural disasters",
           "offsetgroup": "All natural disasters",
           "orientation": "h",
           "showlegend": true,
           "textposition": "auto",
           "type": "bar",
           "x": [
            113558
           ],
           "xaxis": "x",
           "y": [
            "All natural disasters"
           ],
           "yaxis": "y"
          },
          {
           "alignmentgroup": "True",
           "hovertemplate": "Entity=%{y}<br>Year=2003<br>Deaths=%{x}<extra></extra>",
           "legendgroup": "Drought",
           "marker": {
            "color": "#EF553B",
            "pattern": {
             "shape": ""
            }
           },
           "name": "Drought",
           "offsetgroup": "Drought",
           "orientation": "h",
           "showlegend": true,
           "textposition": "auto",
           "type": "bar",
           "x": [
            9
           ],
           "xaxis": "x",
           "y": [
            "Drought"
           ],
           "yaxis": "y"
          },
          {
           "alignmentgroup": "True",
           "hovertemplate": "Entity=%{y}<br>Year=2003<br>Deaths=%{x}<extra></extra>",
           "legendgroup": "Earthquake",
           "marker": {
            "color": "#00cc96",
            "pattern": {
             "shape": ""
            }
           },
           "name": "Earthquake",
           "offsetgroup": "Earthquake",
           "orientation": "h",
           "showlegend": true,
           "textposition": "auto",
           "type": "bar",
           "x": [
            29617
           ],
           "xaxis": "x",
           "y": [
            "Earthquake"
           ],
           "yaxis": "y"
          },
          {
           "alignmentgroup": "True",
           "hovertemplate": "Entity=%{y}<br>Year=2003<br>Deaths=%{x}<extra></extra>",
           "legendgroup": "Epidemic",
           "marker": {
            "color": "#ab63fa",
            "pattern": {
             "shape": ""
            }
           },
           "name": "Epidemic",
           "offsetgroup": "Epidemic",
           "orientation": "h",
           "showlegend": true,
           "textposition": "auto",
           "type": "bar",
           "x": [
            3522
           ],
           "xaxis": "x",
           "y": [
            "Epidemic"
           ],
           "yaxis": "y"
          },
          {
           "alignmentgroup": "True",
           "hovertemplate": "Entity=%{y}<br>Year=2003<br>Deaths=%{x}<extra></extra>",
           "legendgroup": "Extreme temperature",
           "marker": {
            "color": "#FFA15A",
            "pattern": {
             "shape": ""
            }
           },
           "name": "Extreme temperature",
           "offsetgroup": "Extreme temperature",
           "orientation": "h",
           "showlegend": true,
           "textposition": "auto",
           "type": "bar",
           "x": [
            74698
           ],
           "xaxis": "x",
           "y": [
            "Extreme temperature"
           ],
           "yaxis": "y"
          },
          {
           "alignmentgroup": "True",
           "hovertemplate": "Entity=%{y}<br>Year=2003<br>Deaths=%{x}<extra></extra>",
           "legendgroup": "Extreme weather",
           "marker": {
            "color": "#19d3f3",
            "pattern": {
             "shape": ""
            }
           },
           "name": "Extreme weather",
           "offsetgroup": "Extreme weather",
           "orientation": "h",
           "showlegend": true,
           "textposition": "auto",
           "type": "bar",
           "x": [
            1049
           ],
           "xaxis": "x",
           "y": [
            "Extreme weather"
           ],
           "yaxis": "y"
          },
          {
           "alignmentgroup": "True",
           "hovertemplate": "Entity=%{y}<br>Year=2003<br>Deaths=%{x}<extra></extra>",
           "legendgroup": "Flood",
           "marker": {
            "color": "#FF6692",
            "pattern": {
             "shape": ""
            }
           },
           "name": "Flood",
           "offsetgroup": "Flood",
           "orientation": "h",
           "showlegend": true,
           "textposition": "auto",
           "type": "bar",
           "x": [
            3910
           ],
           "xaxis": "x",
           "y": [
            "Flood"
           ],
           "yaxis": "y"
          },
          {
           "alignmentgroup": "True",
           "hovertemplate": "Entity=%{y}<br>Year=2003<br>Deaths=%{x}<extra></extra>",
           "legendgroup": "Landslide",
           "marker": {
            "color": "#B6E880",
            "pattern": {
             "shape": ""
            }
           },
           "name": "Landslide",
           "offsetgroup": "Landslide",
           "orientation": "h",
           "showlegend": true,
           "textposition": "auto",
           "type": "bar",
           "x": [
            706
           ],
           "xaxis": "x",
           "y": [
            "Landslide"
           ],
           "yaxis": "y"
          },
          {
           "alignmentgroup": "True",
           "hovertemplate": "Entity=%{y}<br>Year=2003<br>Deaths=%{x}<extra></extra>",
           "legendgroup": "Wildfire",
           "marker": {
            "color": "#636efa",
            "pattern": {
             "shape": ""
            }
           },
           "name": "Wildfire",
           "offsetgroup": "Wildfire",
           "orientation": "h",
           "showlegend": true,
           "textposition": "auto",
           "type": "bar",
           "x": [
            47
           ],
           "xaxis": "x",
           "y": [
            "Wildfire"
           ],
           "yaxis": "y"
          }
         ],
         "name": "2003"
        },
        {
         "data": [
          {
           "alignmentgroup": "True",
           "hovertemplate": "Entity=%{y}<br>Year=2004<br>Deaths=%{x}<extra></extra>",
           "legendgroup": "All natural disasters",
           "marker": {
            "color": "#636efa",
            "pattern": {
             "shape": ""
            }
           },
           "name": "All natural disasters",
           "offsetgroup": "All natural disasters",
           "orientation": "h",
           "showlegend": true,
           "textposition": "auto",
           "type": "bar",
           "x": [
            244772
           ],
           "xaxis": "x",
           "y": [
            "All natural disasters"
           ],
           "yaxis": "y"
          },
          {
           "alignmentgroup": "True",
           "hovertemplate": "Entity=%{y}<br>Year=2004<br>Deaths=%{x}<extra></extra>",
           "legendgroup": "Drought",
           "marker": {
            "color": "#EF553B",
            "pattern": {
             "shape": ""
            }
           },
           "name": "Drought",
           "offsetgroup": "Drought",
           "orientation": "h",
           "showlegend": true,
           "textposition": "auto",
           "type": "bar",
           "x": [
            80
           ],
           "xaxis": "x",
           "y": [
            "Drought"
           ],
           "yaxis": "y"
          },
          {
           "alignmentgroup": "True",
           "hovertemplate": "Entity=%{y}<br>Year=2004<br>Deaths=%{x}<extra></extra>",
           "legendgroup": "Earthquake",
           "marker": {
            "color": "#00cc96",
            "pattern": {
             "shape": ""
            }
           },
           "name": "Earthquake",
           "offsetgroup": "Earthquake",
           "orientation": "h",
           "showlegend": true,
           "textposition": "auto",
           "type": "bar",
           "x": [
            227290
           ],
           "xaxis": "x",
           "y": [
            "Earthquake"
           ],
           "yaxis": "y"
          },
          {
           "alignmentgroup": "True",
           "hovertemplate": "Entity=%{y}<br>Year=2004<br>Deaths=%{x}<extra></extra>",
           "legendgroup": "Epidemic",
           "marker": {
            "color": "#ab63fa",
            "pattern": {
             "shape": ""
            }
           },
           "name": "Epidemic",
           "offsetgroup": "Epidemic",
           "orientation": "h",
           "showlegend": true,
           "textposition": "auto",
           "type": "bar",
           "x": [
            3245
           ],
           "xaxis": "x",
           "y": [
            "Epidemic"
           ],
           "yaxis": "y"
          },
          {
           "alignmentgroup": "True",
           "hovertemplate": "Entity=%{y}<br>Year=2004<br>Deaths=%{x}<extra></extra>",
           "legendgroup": "Extreme temperature",
           "marker": {
            "color": "#FFA15A",
            "pattern": {
             "shape": ""
            }
           },
           "name": "Extreme temperature",
           "offsetgroup": "Extreme temperature",
           "orientation": "h",
           "showlegend": true,
           "textposition": "auto",
           "type": "bar",
           "x": [
            255
           ],
           "xaxis": "x",
           "y": [
            "Extreme temperature"
           ],
           "yaxis": "y"
          },
          {
           "alignmentgroup": "True",
           "hovertemplate": "Entity=%{y}<br>Year=2004<br>Deaths=%{x}<extra></extra>",
           "legendgroup": "Extreme weather",
           "marker": {
            "color": "#19d3f3",
            "pattern": {
             "shape": ""
            }
           },
           "name": "Extreme weather",
           "offsetgroup": "Extreme weather",
           "orientation": "h",
           "showlegend": true,
           "textposition": "auto",
           "type": "bar",
           "x": [
            6547
           ],
           "xaxis": "x",
           "y": [
            "Extreme weather"
           ],
           "yaxis": "y"
          },
          {
           "alignmentgroup": "True",
           "hovertemplate": "Entity=%{y}<br>Year=2004<br>Deaths=%{x}<extra></extra>",
           "legendgroup": "Flood",
           "marker": {
            "color": "#FF6692",
            "pattern": {
             "shape": ""
            }
           },
           "name": "Flood",
           "offsetgroup": "Flood",
           "orientation": "h",
           "showlegend": true,
           "textposition": "auto",
           "type": "bar",
           "x": [
            6982
           ],
           "xaxis": "x",
           "y": [
            "Flood"
           ],
           "yaxis": "y"
          },
          {
           "alignmentgroup": "True",
           "hovertemplate": "Entity=%{y}<br>Year=2004<br>Deaths=%{x}<extra></extra>",
           "legendgroup": "Landslide",
           "marker": {
            "color": "#B6E880",
            "pattern": {
             "shape": ""
            }
           },
           "name": "Landslide",
           "offsetgroup": "Landslide",
           "orientation": "h",
           "showlegend": true,
           "textposition": "auto",
           "type": "bar",
           "x": [
            313
           ],
           "xaxis": "x",
           "y": [
            "Landslide"
           ],
           "yaxis": "y"
          },
          {
           "alignmentgroup": "True",
           "hovertemplate": "Entity=%{y}<br>Year=2004<br>Deaths=%{x}<extra></extra>",
           "legendgroup": "Mass movement (dry)",
           "marker": {
            "color": "#FF97FF",
            "pattern": {
             "shape": ""
            }
           },
           "name": "Mass movement (dry)",
           "offsetgroup": "Mass movement (dry)",
           "orientation": "h",
           "showlegend": true,
           "textposition": "auto",
           "type": "bar",
           "x": [
            44
           ],
           "xaxis": "x",
           "y": [
            "Mass movement (dry)"
           ],
           "yaxis": "y"
          },
          {
           "alignmentgroup": "True",
           "hovertemplate": "Entity=%{y}<br>Year=2004<br>Deaths=%{x}<extra></extra>",
           "legendgroup": "Volcanic activity",
           "marker": {
            "color": "#FECB52",
            "pattern": {
             "shape": ""
            }
           },
           "name": "Volcanic activity",
           "offsetgroup": "Volcanic activity",
           "orientation": "h",
           "showlegend": true,
           "textposition": "auto",
           "type": "bar",
           "x": [
            2
           ],
           "xaxis": "x",
           "y": [
            "Volcanic activity"
           ],
           "yaxis": "y"
          },
          {
           "alignmentgroup": "True",
           "hovertemplate": "Entity=%{y}<br>Year=2004<br>Deaths=%{x}<extra></extra>",
           "legendgroup": "Wildfire",
           "marker": {
            "color": "#636efa",
            "pattern": {
             "shape": ""
            }
           },
           "name": "Wildfire",
           "offsetgroup": "Wildfire",
           "orientation": "h",
           "showlegend": true,
           "textposition": "auto",
           "type": "bar",
           "x": [
            14
           ],
           "xaxis": "x",
           "y": [
            "Wildfire"
           ],
           "yaxis": "y"
          }
         ],
         "name": "2004"
        },
        {
         "data": [
          {
           "alignmentgroup": "True",
           "hovertemplate": "Entity=%{y}<br>Year=2005<br>Deaths=%{x}<extra></extra>",
           "legendgroup": "All natural disasters",
           "marker": {
            "color": "#636efa",
            "pattern": {
             "shape": ""
            }
           },
           "name": "All natural disasters",
           "offsetgroup": "All natural disasters",
           "orientation": "h",
           "showlegend": true,
           "textposition": "auto",
           "type": "bar",
           "x": [
            93566
           ],
           "xaxis": "x",
           "y": [
            "All natural disasters"
           ],
           "yaxis": "y"
          },
          {
           "alignmentgroup": "True",
           "hovertemplate": "Entity=%{y}<br>Year=2005<br>Deaths=%{x}<extra></extra>",
           "legendgroup": "Drought",
           "marker": {
            "color": "#EF553B",
            "pattern": {
             "shape": ""
            }
           },
           "name": "Drought",
           "offsetgroup": "Drought",
           "orientation": "h",
           "showlegend": true,
           "textposition": "auto",
           "type": "bar",
           "x": [
            149
           ],
           "xaxis": "x",
           "y": [
            "Drought"
           ],
           "yaxis": "y"
          },
          {
           "alignmentgroup": "True",
           "hovertemplate": "Entity=%{y}<br>Year=2005<br>Deaths=%{x}<extra></extra>",
           "legendgroup": "Earthquake",
           "marker": {
            "color": "#00cc96",
            "pattern": {
             "shape": ""
            }
           },
           "name": "Earthquake",
           "offsetgroup": "Earthquake",
           "orientation": "h",
           "showlegend": true,
           "textposition": "auto",
           "type": "bar",
           "x": [
            76241
           ],
           "xaxis": "x",
           "y": [
            "Earthquake"
           ],
           "yaxis": "y"
          },
          {
           "alignmentgroup": "True",
           "hovertemplate": "Entity=%{y}<br>Year=2005<br>Deaths=%{x}<extra></extra>",
           "legendgroup": "Epidemic",
           "marker": {
            "color": "#ab63fa",
            "pattern": {
             "shape": ""
            }
           },
           "name": "Epidemic",
           "offsetgroup": "Epidemic",
           "orientation": "h",
           "showlegend": true,
           "textposition": "auto",
           "type": "bar",
           "x": [
            3909
           ],
           "xaxis": "x",
           "y": [
            "Epidemic"
           ],
           "yaxis": "y"
          },
          {
           "alignmentgroup": "True",
           "hovertemplate": "Entity=%{y}<br>Year=2005<br>Deaths=%{x}<extra></extra>",
           "legendgroup": "Extreme temperature",
           "marker": {
            "color": "#FFA15A",
            "pattern": {
             "shape": ""
            }
           },
           "name": "Extreme temperature",
           "offsetgroup": "Extreme temperature",
           "orientation": "h",
           "showlegend": true,
           "textposition": "auto",
           "type": "bar",
           "x": [
            1550
           ],
           "xaxis": "x",
           "y": [
            "Extreme temperature"
           ],
           "yaxis": "y"
          },
          {
           "alignmentgroup": "True",
           "hovertemplate": "Entity=%{y}<br>Year=2005<br>Deaths=%{x}<extra></extra>",
           "legendgroup": "Extreme weather",
           "marker": {
            "color": "#19d3f3",
            "pattern": {
             "shape": ""
            }
           },
           "name": "Extreme weather",
           "offsetgroup": "Extreme weather",
           "orientation": "h",
           "showlegend": true,
           "textposition": "auto",
           "type": "bar",
           "x": [
            5251
           ],
           "xaxis": "x",
           "y": [
            "Extreme weather"
           ],
           "yaxis": "y"
          },
          {
           "alignmentgroup": "True",
           "hovertemplate": "Entity=%{y}<br>Year=2005<br>Deaths=%{x}<extra></extra>",
           "legendgroup": "Flood",
           "marker": {
            "color": "#FF6692",
            "pattern": {
             "shape": ""
            }
           },
           "name": "Flood",
           "offsetgroup": "Flood",
           "orientation": "h",
           "showlegend": true,
           "textposition": "auto",
           "type": "bar",
           "x": [
            5754
           ],
           "xaxis": "x",
           "y": [
            "Flood"
           ],
           "yaxis": "y"
          },
          {
           "alignmentgroup": "True",
           "hovertemplate": "Entity=%{y}<br>Year=2005<br>Deaths=%{x}<extra></extra>",
           "legendgroup": "Landslide",
           "marker": {
            "color": "#B6E880",
            "pattern": {
             "shape": ""
            }
           },
           "name": "Landslide",
           "offsetgroup": "Landslide",
           "orientation": "h",
           "showlegend": true,
           "textposition": "auto",
           "type": "bar",
           "x": [
            664
           ],
           "xaxis": "x",
           "y": [
            "Landslide"
           ],
           "yaxis": "y"
          },
          {
           "alignmentgroup": "True",
           "hovertemplate": "Entity=%{y}<br>Year=2005<br>Deaths=%{x}<extra></extra>",
           "legendgroup": "Volcanic activity",
           "marker": {
            "color": "#FECB52",
            "pattern": {
             "shape": ""
            }
           },
           "name": "Volcanic activity",
           "offsetgroup": "Volcanic activity",
           "orientation": "h",
           "showlegend": true,
           "textposition": "auto",
           "type": "bar",
           "x": [
            3
           ],
           "xaxis": "x",
           "y": [
            "Volcanic activity"
           ],
           "yaxis": "y"
          },
          {
           "alignmentgroup": "True",
           "hovertemplate": "Entity=%{y}<br>Year=2005<br>Deaths=%{x}<extra></extra>",
           "legendgroup": "Wildfire",
           "marker": {
            "color": "#636efa",
            "pattern": {
             "shape": ""
            }
           },
           "name": "Wildfire",
           "offsetgroup": "Wildfire",
           "orientation": "h",
           "showlegend": true,
           "textposition": "auto",
           "type": "bar",
           "x": [
            45
           ],
           "xaxis": "x",
           "y": [
            "Wildfire"
           ],
           "yaxis": "y"
          }
         ],
         "name": "2005"
        },
        {
         "data": [
          {
           "alignmentgroup": "True",
           "hovertemplate": "Entity=%{y}<br>Year=2006<br>Deaths=%{x}<extra></extra>",
           "legendgroup": "All natural disasters",
           "marker": {
            "color": "#636efa",
            "pattern": {
             "shape": ""
            }
           },
           "name": "All natural disasters",
           "offsetgroup": "All natural disasters",
           "orientation": "h",
           "showlegend": true,
           "textposition": "auto",
           "type": "bar",
           "x": [
            29893
           ],
           "xaxis": "x",
           "y": [
            "All natural disasters"
           ],
           "yaxis": "y"
          },
          {
           "alignmentgroup": "True",
           "hovertemplate": "Entity=%{y}<br>Year=2006<br>Deaths=%{x}<extra></extra>",
           "legendgroup": "Drought",
           "marker": {
            "color": "#EF553B",
            "pattern": {
             "shape": ""
            }
           },
           "name": "Drought",
           "offsetgroup": "Drought",
           "orientation": "h",
           "showlegend": true,
           "textposition": "auto",
           "type": "bar",
           "x": [
            134
           ],
           "xaxis": "x",
           "y": [
            "Drought"
           ],
           "yaxis": "y"
          },
          {
           "alignmentgroup": "True",
           "hovertemplate": "Entity=%{y}<br>Year=2006<br>Deaths=%{x}<extra></extra>",
           "legendgroup": "Earthquake",
           "marker": {
            "color": "#00cc96",
            "pattern": {
             "shape": ""
            }
           },
           "name": "Earthquake",
           "offsetgroup": "Earthquake",
           "orientation": "h",
           "showlegend": true,
           "textposition": "auto",
           "type": "bar",
           "x": [
            6692
           ],
           "xaxis": "x",
           "y": [
            "Earthquake"
           ],
           "yaxis": "y"
          },
          {
           "alignmentgroup": "True",
           "hovertemplate": "Entity=%{y}<br>Year=2006<br>Deaths=%{x}<extra></extra>",
           "legendgroup": "Epidemic",
           "marker": {
            "color": "#ab63fa",
            "pattern": {
             "shape": ""
            }
           },
           "name": "Epidemic",
           "offsetgroup": "Epidemic",
           "orientation": "h",
           "showlegend": true,
           "textposition": "auto",
           "type": "bar",
           "x": [
            6402
           ],
           "xaxis": "x",
           "y": [
            "Epidemic"
           ],
           "yaxis": "y"
          },
          {
           "alignmentgroup": "True",
           "hovertemplate": "Entity=%{y}<br>Year=2006<br>Deaths=%{x}<extra></extra>",
           "legendgroup": "Extreme temperature",
           "marker": {
            "color": "#FFA15A",
            "pattern": {
             "shape": ""
            }
           },
           "name": "Extreme temperature",
           "offsetgroup": "Extreme temperature",
           "orientation": "h",
           "showlegend": true,
           "textposition": "auto",
           "type": "bar",
           "x": [
            4826
           ],
           "xaxis": "x",
           "y": [
            "Extreme temperature"
           ],
           "yaxis": "y"
          },
          {
           "alignmentgroup": "True",
           "hovertemplate": "Entity=%{y}<br>Year=2006<br>Deaths=%{x}<extra></extra>",
           "legendgroup": "Extreme weather",
           "marker": {
            "color": "#19d3f3",
            "pattern": {
             "shape": ""
            }
           },
           "name": "Extreme weather",
           "offsetgroup": "Extreme weather",
           "orientation": "h",
           "showlegend": true,
           "textposition": "auto",
           "type": "bar",
           "x": [
            4329
           ],
           "xaxis": "x",
           "y": [
            "Extreme weather"
           ],
           "yaxis": "y"
          },
          {
           "alignmentgroup": "True",
           "hovertemplate": "Entity=%{y}<br>Year=2006<br>Deaths=%{x}<extra></extra>",
           "legendgroup": "Flood",
           "marker": {
            "color": "#FF6692",
            "pattern": {
             "shape": ""
            }
           },
           "name": "Flood",
           "offsetgroup": "Flood",
           "orientation": "h",
           "showlegend": true,
           "textposition": "auto",
           "type": "bar",
           "x": [
            5843
           ],
           "xaxis": "x",
           "y": [
            "Flood"
           ],
           "yaxis": "y"
          },
          {
           "alignmentgroup": "True",
           "hovertemplate": "Entity=%{y}<br>Year=2006<br>Deaths=%{x}<extra></extra>",
           "legendgroup": "Landslide",
           "marker": {
            "color": "#B6E880",
            "pattern": {
             "shape": ""
            }
           },
           "name": "Landslide",
           "offsetgroup": "Landslide",
           "orientation": "h",
           "showlegend": true,
           "textposition": "auto",
           "type": "bar",
           "x": [
            1638
           ],
           "xaxis": "x",
           "y": [
            "Landslide"
           ],
           "yaxis": "y"
          },
          {
           "alignmentgroup": "True",
           "hovertemplate": "Entity=%{y}<br>Year=2006<br>Deaths=%{x}<extra></extra>",
           "legendgroup": "Mass movement (dry)",
           "marker": {
            "color": "#FF97FF",
            "pattern": {
             "shape": ""
            }
           },
           "name": "Mass movement (dry)",
           "offsetgroup": "Mass movement (dry)",
           "orientation": "h",
           "showlegend": true,
           "textposition": "auto",
           "type": "bar",
           "x": [
            11
           ],
           "xaxis": "x",
           "y": [
            "Mass movement (dry)"
           ],
           "yaxis": "y"
          },
          {
           "alignmentgroup": "True",
           "hovertemplate": "Entity=%{y}<br>Year=2006<br>Deaths=%{x}<extra></extra>",
           "legendgroup": "Volcanic activity",
           "marker": {
            "color": "#FECB52",
            "pattern": {
             "shape": ""
            }
           },
           "name": "Volcanic activity",
           "offsetgroup": "Volcanic activity",
           "orientation": "h",
           "showlegend": true,
           "textposition": "auto",
           "type": "bar",
           "x": [
            5
           ],
           "xaxis": "x",
           "y": [
            "Volcanic activity"
           ],
           "yaxis": "y"
          },
          {
           "alignmentgroup": "True",
           "hovertemplate": "Entity=%{y}<br>Year=2006<br>Deaths=%{x}<extra></extra>",
           "legendgroup": "Wildfire",
           "marker": {
            "color": "#636efa",
            "pattern": {
             "shape": ""
            }
           },
           "name": "Wildfire",
           "offsetgroup": "Wildfire",
           "orientation": "h",
           "showlegend": true,
           "textposition": "auto",
           "type": "bar",
           "x": [
            13
           ],
           "xaxis": "x",
           "y": [
            "Wildfire"
           ],
           "yaxis": "y"
          }
         ],
         "name": "2006"
        },
        {
         "data": [
          {
           "alignmentgroup": "True",
           "hovertemplate": "Entity=%{y}<br>Year=2007<br>Deaths=%{x}<extra></extra>",
           "legendgroup": "All natural disasters",
           "marker": {
            "color": "#636efa",
            "pattern": {
             "shape": ""
            }
           },
           "name": "All natural disasters",
           "offsetgroup": "All natural disasters",
           "orientation": "h",
           "showlegend": true,
           "textposition": "auto",
           "type": "bar",
           "x": [
            22422
           ],
           "xaxis": "x",
           "y": [
            "All natural disasters"
           ],
           "yaxis": "y"
          },
          {
           "alignmentgroup": "True",
           "hovertemplate": "Entity=%{y}<br>Year=2007<br>Deaths=%{x}<extra></extra>",
           "legendgroup": "Earthquake",
           "marker": {
            "color": "#00cc96",
            "pattern": {
             "shape": ""
            }
           },
           "name": "Earthquake",
           "offsetgroup": "Earthquake",
           "orientation": "h",
           "showlegend": true,
           "textposition": "auto",
           "type": "bar",
           "x": [
            780
           ],
           "xaxis": "x",
           "y": [
            "Earthquake"
           ],
           "yaxis": "y"
          },
          {
           "alignmentgroup": "True",
           "hovertemplate": "Entity=%{y}<br>Year=2007<br>Deaths=%{x}<extra></extra>",
           "legendgroup": "Epidemic",
           "marker": {
            "color": "#ab63fa",
            "pattern": {
             "shape": ""
            }
           },
           "name": "Epidemic",
           "offsetgroup": "Epidemic",
           "orientation": "h",
           "showlegend": true,
           "textposition": "auto",
           "type": "bar",
           "x": [
            5484
           ],
           "xaxis": "x",
           "y": [
            "Epidemic"
           ],
           "yaxis": "y"
          },
          {
           "alignmentgroup": "True",
           "hovertemplate": "Entity=%{y}<br>Year=2007<br>Deaths=%{x}<extra></extra>",
           "legendgroup": "Extreme temperature",
           "marker": {
            "color": "#FFA15A",
            "pattern": {
             "shape": ""
            }
           },
           "name": "Extreme temperature",
           "offsetgroup": "Extreme temperature",
           "orientation": "h",
           "showlegend": true,
           "textposition": "auto",
           "type": "bar",
           "x": [
            1086
           ],
           "xaxis": "x",
           "y": [
            "Extreme temperature"
           ],
           "yaxis": "y"
          },
          {
           "alignmentgroup": "True",
           "hovertemplate": "Entity=%{y}<br>Year=2007<br>Deaths=%{x}<extra></extra>",
           "legendgroup": "Extreme weather",
           "marker": {
            "color": "#19d3f3",
            "pattern": {
             "shape": ""
            }
           },
           "name": "Extreme weather",
           "offsetgroup": "Extreme weather",
           "orientation": "h",
           "showlegend": true,
           "textposition": "auto",
           "type": "bar",
           "x": [
            6035
           ],
           "xaxis": "x",
           "y": [
            "Extreme weather"
           ],
           "yaxis": "y"
          },
          {
           "alignmentgroup": "True",
           "hovertemplate": "Entity=%{y}<br>Year=2007<br>Deaths=%{x}<extra></extra>",
           "legendgroup": "Flood",
           "marker": {
            "color": "#FF6692",
            "pattern": {
             "shape": ""
            }
           },
           "name": "Flood",
           "offsetgroup": "Flood",
           "orientation": "h",
           "showlegend": true,
           "textposition": "auto",
           "type": "bar",
           "x": [
            8607
           ],
           "xaxis": "x",
           "y": [
            "Flood"
           ],
           "yaxis": "y"
          },
          {
           "alignmentgroup": "True",
           "hovertemplate": "Entity=%{y}<br>Year=2007<br>Deaths=%{x}<extra></extra>",
           "legendgroup": "Landslide",
           "marker": {
            "color": "#B6E880",
            "pattern": {
             "shape": ""
            }
           },
           "name": "Landslide",
           "offsetgroup": "Landslide",
           "orientation": "h",
           "showlegend": true,
           "textposition": "auto",
           "type": "bar",
           "x": [
            271
           ],
           "xaxis": "x",
           "y": [
            "Landslide"
           ],
           "yaxis": "y"
          },
          {
           "alignmentgroup": "True",
           "hovertemplate": "Entity=%{y}<br>Year=2007<br>Deaths=%{x}<extra></extra>",
           "legendgroup": "Volcanic activity",
           "marker": {
            "color": "#FECB52",
            "pattern": {
             "shape": ""
            }
           },
           "name": "Volcanic activity",
           "offsetgroup": "Volcanic activity",
           "orientation": "h",
           "showlegend": true,
           "textposition": "auto",
           "type": "bar",
           "x": [
            11
           ],
           "xaxis": "x",
           "y": [
            "Volcanic activity"
           ],
           "yaxis": "y"
          },
          {
           "alignmentgroup": "True",
           "hovertemplate": "Entity=%{y}<br>Year=2007<br>Deaths=%{x}<extra></extra>",
           "legendgroup": "Wildfire",
           "marker": {
            "color": "#636efa",
            "pattern": {
             "shape": ""
            }
           },
           "name": "Wildfire",
           "offsetgroup": "Wildfire",
           "orientation": "h",
           "showlegend": true,
           "textposition": "auto",
           "type": "bar",
           "x": [
            148
           ],
           "xaxis": "x",
           "y": [
            "Wildfire"
           ],
           "yaxis": "y"
          }
         ],
         "name": "2007"
        },
        {
         "data": [
          {
           "alignmentgroup": "True",
           "hovertemplate": "Entity=%{y}<br>Year=2008<br>Deaths=%{x}<extra></extra>",
           "legendgroup": "All natural disasters",
           "marker": {
            "color": "#636efa",
            "pattern": {
             "shape": ""
            }
           },
           "name": "All natural disasters",
           "offsetgroup": "All natural disasters",
           "orientation": "h",
           "showlegend": true,
           "textposition": "auto",
           "type": "bar",
           "x": [
            242236
           ],
           "xaxis": "x",
           "y": [
            "All natural disasters"
           ],
           "yaxis": "y"
          },
          {
           "alignmentgroup": "True",
           "hovertemplate": "Entity=%{y}<br>Year=2008<br>Deaths=%{x}<extra></extra>",
           "legendgroup": "Drought",
           "marker": {
            "color": "#EF553B",
            "pattern": {
             "shape": ""
            }
           },
           "name": "Drought",
           "offsetgroup": "Drought",
           "orientation": "h",
           "showlegend": true,
           "textposition": "auto",
           "type": "bar",
           "x": [
            8
           ],
           "xaxis": "x",
           "y": [
            "Drought"
           ],
           "yaxis": "y"
          },
          {
           "alignmentgroup": "True",
           "hovertemplate": "Entity=%{y}<br>Year=2008<br>Deaths=%{x}<extra></extra>",
           "legendgroup": "Earthquake",
           "marker": {
            "color": "#00cc96",
            "pattern": {
             "shape": ""
            }
           },
           "name": "Earthquake",
           "offsetgroup": "Earthquake",
           "orientation": "h",
           "showlegend": true,
           "textposition": "auto",
           "type": "bar",
           "x": [
            87918
           ],
           "xaxis": "x",
           "y": [
            "Earthquake"
           ],
           "yaxis": "y"
          },
          {
           "alignmentgroup": "True",
           "hovertemplate": "Entity=%{y}<br>Year=2008<br>Deaths=%{x}<extra></extra>",
           "legendgroup": "Epidemic",
           "marker": {
            "color": "#ab63fa",
            "pattern": {
             "shape": ""
            }
           },
           "name": "Epidemic",
           "offsetgroup": "Epidemic",
           "orientation": "h",
           "showlegend": true,
           "textposition": "auto",
           "type": "bar",
           "x": [
            6904
           ],
           "xaxis": "x",
           "y": [
            "Epidemic"
           ],
           "yaxis": "y"
          },
          {
           "alignmentgroup": "True",
           "hovertemplate": "Entity=%{y}<br>Year=2008<br>Deaths=%{x}<extra></extra>",
           "legendgroup": "Extreme temperature",
           "marker": {
            "color": "#FFA15A",
            "pattern": {
             "shape": ""
            }
           },
           "name": "Extreme temperature",
           "offsetgroup": "Extreme temperature",
           "orientation": "h",
           "showlegend": true,
           "textposition": "auto",
           "type": "bar",
           "x": [
            1688
           ],
           "xaxis": "x",
           "y": [
            "Extreme temperature"
           ],
           "yaxis": "y"
          },
          {
           "alignmentgroup": "True",
           "hovertemplate": "Entity=%{y}<br>Year=2008<br>Deaths=%{x}<extra></extra>",
           "legendgroup": "Extreme weather",
           "marker": {
            "color": "#19d3f3",
            "pattern": {
             "shape": ""
            }
           },
           "name": "Extreme weather",
           "offsetgroup": "Extreme weather",
           "orientation": "h",
           "showlegend": true,
           "textposition": "auto",
           "type": "bar",
           "x": [
            140985
           ],
           "xaxis": "x",
           "y": [
            "Extreme weather"
           ],
           "yaxis": "y"
          },
          {
           "alignmentgroup": "True",
           "hovertemplate": "Entity=%{y}<br>Year=2008<br>Deaths=%{x}<extra></extra>",
           "legendgroup": "Flood",
           "marker": {
            "color": "#FF6692",
            "pattern": {
             "shape": ""
            }
           },
           "name": "Flood",
           "offsetgroup": "Flood",
           "orientation": "h",
           "showlegend": true,
           "textposition": "auto",
           "type": "bar",
           "x": [
            4007
           ],
           "xaxis": "x",
           "y": [
            "Flood"
           ],
           "yaxis": "y"
          },
          {
           "alignmentgroup": "True",
           "hovertemplate": "Entity=%{y}<br>Year=2008<br>Deaths=%{x}<extra></extra>",
           "legendgroup": "Landslide",
           "marker": {
            "color": "#B6E880",
            "pattern": {
             "shape": ""
            }
           },
           "name": "Landslide",
           "offsetgroup": "Landslide",
           "orientation": "h",
           "showlegend": true,
           "textposition": "auto",
           "type": "bar",
           "x": [
            504
           ],
           "xaxis": "x",
           "y": [
            "Landslide"
           ],
           "yaxis": "y"
          },
          {
           "alignmentgroup": "True",
           "hovertemplate": "Entity=%{y}<br>Year=2008<br>Deaths=%{x}<extra></extra>",
           "legendgroup": "Mass movement (dry)",
           "marker": {
            "color": "#FF97FF",
            "pattern": {
             "shape": ""
            }
           },
           "name": "Mass movement (dry)",
           "offsetgroup": "Mass movement (dry)",
           "orientation": "h",
           "showlegend": true,
           "textposition": "auto",
           "type": "bar",
           "x": [
            120
           ],
           "xaxis": "x",
           "y": [
            "Mass movement (dry)"
           ],
           "yaxis": "y"
          },
          {
           "alignmentgroup": "True",
           "hovertemplate": "Entity=%{y}<br>Year=2008<br>Deaths=%{x}<extra></extra>",
           "legendgroup": "Volcanic activity",
           "marker": {
            "color": "#FECB52",
            "pattern": {
             "shape": ""
            }
           },
           "name": "Volcanic activity",
           "offsetgroup": "Volcanic activity",
           "orientation": "h",
           "showlegend": true,
           "textposition": "auto",
           "type": "bar",
           "x": [
            16
           ],
           "xaxis": "x",
           "y": [
            "Volcanic activity"
           ],
           "yaxis": "y"
          },
          {
           "alignmentgroup": "True",
           "hovertemplate": "Entity=%{y}<br>Year=2008<br>Deaths=%{x}<extra></extra>",
           "legendgroup": "Wildfire",
           "marker": {
            "color": "#636efa",
            "pattern": {
             "shape": ""
            }
           },
           "name": "Wildfire",
           "offsetgroup": "Wildfire",
           "orientation": "h",
           "showlegend": true,
           "textposition": "auto",
           "type": "bar",
           "x": [
            86
           ],
           "xaxis": "x",
           "y": [
            "Wildfire"
           ],
           "yaxis": "y"
          }
         ],
         "name": "2008"
        },
        {
         "data": [
          {
           "alignmentgroup": "True",
           "hovertemplate": "Entity=%{y}<br>Year=2009<br>Deaths=%{x}<extra></extra>",
           "legendgroup": "All natural disasters",
           "marker": {
            "color": "#636efa",
            "pattern": {
             "shape": ""
            }
           },
           "name": "All natural disasters",
           "offsetgroup": "All natural disasters",
           "orientation": "h",
           "showlegend": true,
           "textposition": "auto",
           "type": "bar",
           "x": [
            16037
           ],
           "xaxis": "x",
           "y": [
            "All natural disasters"
           ],
           "yaxis": "y"
          },
          {
           "alignmentgroup": "True",
           "hovertemplate": "Entity=%{y}<br>Year=2009<br>Deaths=%{x}<extra></extra>",
           "legendgroup": "Earthquake",
           "marker": {
            "color": "#00cc96",
            "pattern": {
             "shape": ""
            }
           },
           "name": "Earthquake",
           "offsetgroup": "Earthquake",
           "orientation": "h",
           "showlegend": true,
           "textposition": "auto",
           "type": "bar",
           "x": [
            1893
           ],
           "xaxis": "x",
           "y": [
            "Earthquake"
           ],
           "yaxis": "y"
          },
          {
           "alignmentgroup": "True",
           "hovertemplate": "Entity=%{y}<br>Year=2009<br>Deaths=%{x}<extra></extra>",
           "legendgroup": "Epidemic",
           "marker": {
            "color": "#ab63fa",
            "pattern": {
             "shape": ""
            }
           },
           "name": "Epidemic",
           "offsetgroup": "Epidemic",
           "orientation": "h",
           "showlegend": true,
           "textposition": "auto",
           "type": "bar",
           "x": [
            4895
           ],
           "xaxis": "x",
           "y": [
            "Epidemic"
           ],
           "yaxis": "y"
          },
          {
           "alignmentgroup": "True",
           "hovertemplate": "Entity=%{y}<br>Year=2009<br>Deaths=%{x}<extra></extra>",
           "legendgroup": "Extreme temperature",
           "marker": {
            "color": "#FFA15A",
            "pattern": {
             "shape": ""
            }
           },
           "name": "Extreme temperature",
           "offsetgroup": "Extreme temperature",
           "orientation": "h",
           "showlegend": true,
           "textposition": "auto",
           "type": "bar",
           "x": [
            1386
           ],
           "xaxis": "x",
           "y": [
            "Extreme temperature"
           ],
           "yaxis": "y"
          },
          {
           "alignmentgroup": "True",
           "hovertemplate": "Entity=%{y}<br>Year=2009<br>Deaths=%{x}<extra></extra>",
           "legendgroup": "Extreme weather",
           "marker": {
            "color": "#19d3f3",
            "pattern": {
             "shape": ""
            }
           },
           "name": "Extreme weather",
           "offsetgroup": "Extreme weather",
           "orientation": "h",
           "showlegend": true,
           "textposition": "auto",
           "type": "bar",
           "x": [
            3287
           ],
           "xaxis": "x",
           "y": [
            "Extreme weather"
           ],
           "yaxis": "y"
          },
          {
           "alignmentgroup": "True",
           "hovertemplate": "Entity=%{y}<br>Year=2009<br>Deaths=%{x}<extra></extra>",
           "legendgroup": "Flood",
           "marker": {
            "color": "#FF6692",
            "pattern": {
             "shape": ""
            }
           },
           "name": "Flood",
           "offsetgroup": "Flood",
           "orientation": "h",
           "showlegend": true,
           "textposition": "auto",
           "type": "bar",
           "x": [
            3627
           ],
           "xaxis": "x",
           "y": [
            "Flood"
           ],
           "yaxis": "y"
          },
          {
           "alignmentgroup": "True",
           "hovertemplate": "Entity=%{y}<br>Year=2009<br>Deaths=%{x}<extra></extra>",
           "legendgroup": "Landslide",
           "marker": {
            "color": "#B6E880",
            "pattern": {
             "shape": ""
            }
           },
           "name": "Landslide",
           "offsetgroup": "Landslide",
           "orientation": "h",
           "showlegend": true,
           "textposition": "auto",
           "type": "bar",
           "x": [
            723
           ],
           "xaxis": "x",
           "y": [
            "Landslide"
           ],
           "yaxis": "y"
          },
          {
           "alignmentgroup": "True",
           "hovertemplate": "Entity=%{y}<br>Year=2009<br>Deaths=%{x}<extra></extra>",
           "legendgroup": "Mass movement (dry)",
           "marker": {
            "color": "#FF97FF",
            "pattern": {
             "shape": ""
            }
           },
           "name": "Mass movement (dry)",
           "offsetgroup": "Mass movement (dry)",
           "orientation": "h",
           "showlegend": true,
           "textposition": "auto",
           "type": "bar",
           "x": [
            36
           ],
           "xaxis": "x",
           "y": [
            "Mass movement (dry)"
           ],
           "yaxis": "y"
          },
          {
           "alignmentgroup": "True",
           "hovertemplate": "Entity=%{y}<br>Year=2009<br>Deaths=%{x}<extra></extra>",
           "legendgroup": "Wildfire",
           "marker": {
            "color": "#636efa",
            "pattern": {
             "shape": ""
            }
           },
           "name": "Wildfire",
           "offsetgroup": "Wildfire",
           "orientation": "h",
           "showlegend": true,
           "textposition": "auto",
           "type": "bar",
           "x": [
            190
           ],
           "xaxis": "x",
           "y": [
            "Wildfire"
           ],
           "yaxis": "y"
          }
         ],
         "name": "2009"
        },
        {
         "data": [
          {
           "alignmentgroup": "True",
           "hovertemplate": "Entity=%{y}<br>Year=2010<br>Deaths=%{x}<extra></extra>",
           "legendgroup": "All natural disasters",
           "marker": {
            "color": "#636efa",
            "pattern": {
             "shape": ""
            }
           },
           "name": "All natural disasters",
           "offsetgroup": "All natural disasters",
           "orientation": "h",
           "showlegend": true,
           "textposition": "auto",
           "type": "bar",
           "x": [
            329900
           ],
           "xaxis": "x",
           "y": [
            "All natural disasters"
           ],
           "yaxis": "y"
          },
          {
           "alignmentgroup": "True",
           "hovertemplate": "Entity=%{y}<br>Year=2010<br>Deaths=%{x}<extra></extra>",
           "legendgroup": "Drought",
           "marker": {
            "color": "#EF553B",
            "pattern": {
             "shape": ""
            }
           },
           "name": "Drought",
           "offsetgroup": "Drought",
           "orientation": "h",
           "showlegend": true,
           "textposition": "auto",
           "type": "bar",
           "x": [
            20000
           ],
           "xaxis": "x",
           "y": [
            "Drought"
           ],
           "yaxis": "y"
          },
          {
           "alignmentgroup": "True",
           "hovertemplate": "Entity=%{y}<br>Year=2010<br>Deaths=%{x}<extra></extra>",
           "legendgroup": "Earthquake",
           "marker": {
            "color": "#00cc96",
            "pattern": {
             "shape": ""
            }
           },
           "name": "Earthquake",
           "offsetgroup": "Earthquake",
           "orientation": "h",
           "showlegend": true,
           "textposition": "auto",
           "type": "bar",
           "x": [
            226733
           ],
           "xaxis": "x",
           "y": [
            "Earthquake"
           ],
           "yaxis": "y"
          },
          {
           "alignmentgroup": "True",
           "hovertemplate": "Entity=%{y}<br>Year=2010<br>Deaths=%{x}<extra></extra>",
           "legendgroup": "Epidemic",
           "marker": {
            "color": "#ab63fa",
            "pattern": {
             "shape": ""
            }
           },
           "name": "Epidemic",
           "offsetgroup": "Epidemic",
           "orientation": "h",
           "showlegend": true,
           "textposition": "auto",
           "type": "bar",
           "x": [
            12143
           ],
           "xaxis": "x",
           "y": [
            "Epidemic"
           ],
           "yaxis": "y"
          },
          {
           "alignmentgroup": "True",
           "hovertemplate": "Entity=%{y}<br>Year=2010<br>Deaths=%{x}<extra></extra>",
           "legendgroup": "Extreme temperature",
           "marker": {
            "color": "#FFA15A",
            "pattern": {
             "shape": ""
            }
           },
           "name": "Extreme temperature",
           "offsetgroup": "Extreme temperature",
           "orientation": "h",
           "showlegend": true,
           "textposition": "auto",
           "type": "bar",
           "x": [
            57188
           ],
           "xaxis": "x",
           "y": [
            "Extreme temperature"
           ],
           "yaxis": "y"
          },
          {
           "alignmentgroup": "True",
           "hovertemplate": "Entity=%{y}<br>Year=2010<br>Deaths=%{x}<extra></extra>",
           "legendgroup": "Extreme weather",
           "marker": {
            "color": "#19d3f3",
            "pattern": {
             "shape": ""
            }
           },
           "name": "Extreme weather",
           "offsetgroup": "Extreme weather",
           "orientation": "h",
           "showlegend": true,
           "textposition": "auto",
           "type": "bar",
           "x": [
            1564
           ],
           "xaxis": "x",
           "y": [
            "Extreme weather"
           ],
           "yaxis": "y"
          },
          {
           "alignmentgroup": "True",
           "hovertemplate": "Entity=%{y}<br>Year=2010<br>Deaths=%{x}<extra></extra>",
           "legendgroup": "Flood",
           "marker": {
            "color": "#FF6692",
            "pattern": {
             "shape": ""
            }
           },
           "name": "Flood",
           "offsetgroup": "Flood",
           "orientation": "h",
           "showlegend": true,
           "textposition": "auto",
           "type": "bar",
           "x": [
            8356
           ],
           "xaxis": "x",
           "y": [
            "Flood"
           ],
           "yaxis": "y"
          },
          {
           "alignmentgroup": "True",
           "hovertemplate": "Entity=%{y}<br>Year=2010<br>Deaths=%{x}<extra></extra>",
           "legendgroup": "Landslide",
           "marker": {
            "color": "#B6E880",
            "pattern": {
             "shape": ""
            }
           },
           "name": "Landslide",
           "offsetgroup": "Landslide",
           "orientation": "h",
           "showlegend": true,
           "textposition": "auto",
           "type": "bar",
           "x": [
            3427
           ],
           "xaxis": "x",
           "y": [
            "Landslide"
           ],
           "yaxis": "y"
          },
          {
           "alignmentgroup": "True",
           "hovertemplate": "Entity=%{y}<br>Year=2010<br>Deaths=%{x}<extra></extra>",
           "legendgroup": "Volcanic activity",
           "marker": {
            "color": "#FECB52",
            "pattern": {
             "shape": ""
            }
           },
           "name": "Volcanic activity",
           "offsetgroup": "Volcanic activity",
           "orientation": "h",
           "showlegend": true,
           "textposition": "auto",
           "type": "bar",
           "x": [
            323
           ],
           "xaxis": "x",
           "y": [
            "Volcanic activity"
           ],
           "yaxis": "y"
          },
          {
           "alignmentgroup": "True",
           "hovertemplate": "Entity=%{y}<br>Year=2010<br>Deaths=%{x}<extra></extra>",
           "legendgroup": "Wildfire",
           "marker": {
            "color": "#636efa",
            "pattern": {
             "shape": ""
            }
           },
           "name": "Wildfire",
           "offsetgroup": "Wildfire",
           "orientation": "h",
           "showlegend": true,
           "textposition": "auto",
           "type": "bar",
           "x": [
            166
           ],
           "xaxis": "x",
           "y": [
            "Wildfire"
           ],
           "yaxis": "y"
          }
         ],
         "name": "2010"
        },
        {
         "data": [
          {
           "alignmentgroup": "True",
           "hovertemplate": "Entity=%{y}<br>Year=2011<br>Deaths=%{x}<extra></extra>",
           "legendgroup": "All natural disasters",
           "marker": {
            "color": "#636efa",
            "pattern": {
             "shape": ""
            }
           },
           "name": "All natural disasters",
           "offsetgroup": "All natural disasters",
           "orientation": "h",
           "showlegend": true,
           "textposition": "auto",
           "type": "bar",
           "x": [
            34143
           ],
           "xaxis": "x",
           "y": [
            "All natural disasters"
           ],
           "yaxis": "y"
          },
          {
           "alignmentgroup": "True",
           "hovertemplate": "Entity=%{y}<br>Year=2011<br>Deaths=%{x}<extra></extra>",
           "legendgroup": "Earthquake",
           "marker": {
            "color": "#00cc96",
            "pattern": {
             "shape": ""
            }
           },
           "name": "Earthquake",
           "offsetgroup": "Earthquake",
           "orientation": "h",
           "showlegend": true,
           "textposition": "auto",
           "type": "bar",
           "x": [
            20946
           ],
           "xaxis": "x",
           "y": [
            "Earthquake"
           ],
           "yaxis": "y"
          },
          {
           "alignmentgroup": "True",
           "hovertemplate": "Entity=%{y}<br>Year=2011<br>Deaths=%{x}<extra></extra>",
           "legendgroup": "Epidemic",
           "marker": {
            "color": "#ab63fa",
            "pattern": {
             "shape": ""
            }
           },
           "name": "Epidemic",
           "offsetgroup": "Epidemic",
           "orientation": "h",
           "showlegend": true,
           "textposition": "auto",
           "type": "bar",
           "x": [
            3174
           ],
           "xaxis": "x",
           "y": [
            "Epidemic"
           ],
           "yaxis": "y"
          },
          {
           "alignmentgroup": "True",
           "hovertemplate": "Entity=%{y}<br>Year=2011<br>Deaths=%{x}<extra></extra>",
           "legendgroup": "Extreme temperature",
           "marker": {
            "color": "#FFA15A",
            "pattern": {
             "shape": ""
            }
           },
           "name": "Extreme temperature",
           "offsetgroup": "Extreme temperature",
           "orientation": "h",
           "showlegend": true,
           "textposition": "auto",
           "type": "bar",
           "x": [
            435
           ],
           "xaxis": "x",
           "y": [
            "Extreme temperature"
           ],
           "yaxis": "y"
          },
          {
           "alignmentgroup": "True",
           "hovertemplate": "Entity=%{y}<br>Year=2011<br>Deaths=%{x}<extra></extra>",
           "legendgroup": "Extreme weather",
           "marker": {
            "color": "#19d3f3",
            "pattern": {
             "shape": ""
            }
           },
           "name": "Extreme weather",
           "offsetgroup": "Extreme weather",
           "orientation": "h",
           "showlegend": true,
           "textposition": "auto",
           "type": "bar",
           "x": [
            3103
           ],
           "xaxis": "x",
           "y": [
            "Extreme weather"
           ],
           "yaxis": "y"
          },
          {
           "alignmentgroup": "True",
           "hovertemplate": "Entity=%{y}<br>Year=2011<br>Deaths=%{x}<extra></extra>",
           "legendgroup": "Flood",
           "marker": {
            "color": "#FF6692",
            "pattern": {
             "shape": ""
            }
           },
           "name": "Flood",
           "offsetgroup": "Flood",
           "orientation": "h",
           "showlegend": true,
           "textposition": "auto",
           "type": "bar",
           "x": [
            6163
           ],
           "xaxis": "x",
           "y": [
            "Flood"
           ],
           "yaxis": "y"
          },
          {
           "alignmentgroup": "True",
           "hovertemplate": "Entity=%{y}<br>Year=2011<br>Deaths=%{x}<extra></extra>",
           "legendgroup": "Landslide",
           "marker": {
            "color": "#B6E880",
            "pattern": {
             "shape": ""
            }
           },
           "name": "Landslide",
           "offsetgroup": "Landslide",
           "orientation": "h",
           "showlegend": true,
           "textposition": "auto",
           "type": "bar",
           "x": [
            309
           ],
           "xaxis": "x",
           "y": [
            "Landslide"
           ],
           "yaxis": "y"
          },
          {
           "alignmentgroup": "True",
           "hovertemplate": "Entity=%{y}<br>Year=2011<br>Deaths=%{x}<extra></extra>",
           "legendgroup": "Volcanic activity",
           "marker": {
            "color": "#FECB52",
            "pattern": {
             "shape": ""
            }
           },
           "name": "Volcanic activity",
           "offsetgroup": "Volcanic activity",
           "orientation": "h",
           "showlegend": true,
           "textposition": "auto",
           "type": "bar",
           "x": [
            3
           ],
           "xaxis": "x",
           "y": [
            "Volcanic activity"
           ],
           "yaxis": "y"
          },
          {
           "alignmentgroup": "True",
           "hovertemplate": "Entity=%{y}<br>Year=2011<br>Deaths=%{x}<extra></extra>",
           "legendgroup": "Wildfire",
           "marker": {
            "color": "#636efa",
            "pattern": {
             "shape": ""
            }
           },
           "name": "Wildfire",
           "offsetgroup": "Wildfire",
           "orientation": "h",
           "showlegend": true,
           "textposition": "auto",
           "type": "bar",
           "x": [
            10
           ],
           "xaxis": "x",
           "y": [
            "Wildfire"
           ],
           "yaxis": "y"
          }
         ],
         "name": "2011"
        },
        {
         "data": [
          {
           "alignmentgroup": "True",
           "hovertemplate": "Entity=%{y}<br>Year=2012<br>Deaths=%{x}<extra></extra>",
           "legendgroup": "All natural disasters",
           "marker": {
            "color": "#636efa",
            "pattern": {
             "shape": ""
            }
           },
           "name": "All natural disasters",
           "offsetgroup": "All natural disasters",
           "orientation": "h",
           "showlegend": true,
           "textposition": "auto",
           "type": "bar",
           "x": [
            11619
           ],
           "xaxis": "x",
           "y": [
            "All natural disasters"
           ],
           "yaxis": "y"
          },
          {
           "alignmentgroup": "True",
           "hovertemplate": "Entity=%{y}<br>Year=2012<br>Deaths=%{x}<extra></extra>",
           "legendgroup": "Earthquake",
           "marker": {
            "color": "#00cc96",
            "pattern": {
             "shape": ""
            }
           },
           "name": "Earthquake",
           "offsetgroup": "Earthquake",
           "orientation": "h",
           "showlegend": true,
           "textposition": "auto",
           "type": "bar",
           "x": [
            711
           ],
           "xaxis": "x",
           "y": [
            "Earthquake"
           ],
           "yaxis": "y"
          },
          {
           "alignmentgroup": "True",
           "hovertemplate": "Entity=%{y}<br>Year=2012<br>Deaths=%{x}<extra></extra>",
           "legendgroup": "Epidemic",
           "marker": {
            "color": "#ab63fa",
            "pattern": {
             "shape": ""
            }
           },
           "name": "Epidemic",
           "offsetgroup": "Epidemic",
           "orientation": "h",
           "showlegend": true,
           "textposition": "auto",
           "type": "bar",
           "x": [
            1887
           ],
           "xaxis": "x",
           "y": [
            "Epidemic"
           ],
           "yaxis": "y"
          },
          {
           "alignmentgroup": "True",
           "hovertemplate": "Entity=%{y}<br>Year=2012<br>Deaths=%{x}<extra></extra>",
           "legendgroup": "Extreme temperature",
           "marker": {
            "color": "#FFA15A",
            "pattern": {
             "shape": ""
            }
           },
           "name": "Extreme temperature",
           "offsetgroup": "Extreme temperature",
           "orientation": "h",
           "showlegend": true,
           "textposition": "auto",
           "type": "bar",
           "x": [
            1834
           ],
           "xaxis": "x",
           "y": [
            "Extreme temperature"
           ],
           "yaxis": "y"
          },
          {
           "alignmentgroup": "True",
           "hovertemplate": "Entity=%{y}<br>Year=2012<br>Deaths=%{x}<extra></extra>",
           "legendgroup": "Extreme weather",
           "marker": {
            "color": "#19d3f3",
            "pattern": {
             "shape": ""
            }
           },
           "name": "Extreme weather",
           "offsetgroup": "Extreme weather",
           "orientation": "h",
           "showlegend": true,
           "textposition": "auto",
           "type": "bar",
           "x": [
            3105
           ],
           "xaxis": "x",
           "y": [
            "Extreme weather"
           ],
           "yaxis": "y"
          },
          {
           "alignmentgroup": "True",
           "hovertemplate": "Entity=%{y}<br>Year=2012<br>Deaths=%{x}<extra></extra>",
           "legendgroup": "Flood",
           "marker": {
            "color": "#FF6692",
            "pattern": {
             "shape": ""
            }
           },
           "name": "Flood",
           "offsetgroup": "Flood",
           "orientation": "h",
           "showlegend": true,
           "textposition": "auto",
           "type": "bar",
           "x": [
            3544
           ],
           "xaxis": "x",
           "y": [
            "Flood"
           ],
           "yaxis": "y"
          },
          {
           "alignmentgroup": "True",
           "hovertemplate": "Entity=%{y}<br>Year=2012<br>Deaths=%{x}<extra></extra>",
           "legendgroup": "Landslide",
           "marker": {
            "color": "#B6E880",
            "pattern": {
             "shape": ""
            }
           },
           "name": "Landslide",
           "offsetgroup": "Landslide",
           "orientation": "h",
           "showlegend": true,
           "textposition": "auto",
           "type": "bar",
           "x": [
            501
           ],
           "xaxis": "x",
           "y": [
            "Landslide"
           ],
           "yaxis": "y"
          },
          {
           "alignmentgroup": "True",
           "hovertemplate": "Entity=%{y}<br>Year=2012<br>Deaths=%{x}<extra></extra>",
           "legendgroup": "Mass movement (dry)",
           "marker": {
            "color": "#FF97FF",
            "pattern": {
             "shape": ""
            }
           },
           "name": "Mass movement (dry)",
           "offsetgroup": "Mass movement (dry)",
           "orientation": "h",
           "showlegend": true,
           "textposition": "auto",
           "type": "bar",
           "x": [
            16
           ],
           "xaxis": "x",
           "y": [
            "Mass movement (dry)"
           ],
           "yaxis": "y"
          },
          {
           "alignmentgroup": "True",
           "hovertemplate": "Entity=%{y}<br>Year=2012<br>Deaths=%{x}<extra></extra>",
           "legendgroup": "Wildfire",
           "marker": {
            "color": "#636efa",
            "pattern": {
             "shape": ""
            }
           },
           "name": "Wildfire",
           "offsetgroup": "Wildfire",
           "orientation": "h",
           "showlegend": true,
           "textposition": "auto",
           "type": "bar",
           "x": [
            21
           ],
           "xaxis": "x",
           "y": [
            "Wildfire"
           ],
           "yaxis": "y"
          }
         ],
         "name": "2012"
        },
        {
         "data": [
          {
           "alignmentgroup": "True",
           "hovertemplate": "Entity=%{y}<br>Year=2013<br>Deaths=%{x}<extra></extra>",
           "legendgroup": "All natural disasters",
           "marker": {
            "color": "#636efa",
            "pattern": {
             "shape": ""
            }
           },
           "name": "All natural disasters",
           "offsetgroup": "All natural disasters",
           "orientation": "h",
           "showlegend": true,
           "textposition": "auto",
           "type": "bar",
           "x": [
            22225
           ],
           "xaxis": "x",
           "y": [
            "All natural disasters"
           ],
           "yaxis": "y"
          },
          {
           "alignmentgroup": "True",
           "hovertemplate": "Entity=%{y}<br>Year=2013<br>Deaths=%{x}<extra></extra>",
           "legendgroup": "Earthquake",
           "marker": {
            "color": "#00cc96",
            "pattern": {
             "shape": ""
            }
           },
           "name": "Earthquake",
           "offsetgroup": "Earthquake",
           "orientation": "h",
           "showlegend": true,
           "textposition": "auto",
           "type": "bar",
           "x": [
            1120
           ],
           "xaxis": "x",
           "y": [
            "Earthquake"
           ],
           "yaxis": "y"
          },
          {
           "alignmentgroup": "True",
           "hovertemplate": "Entity=%{y}<br>Year=2013<br>Deaths=%{x}<extra></extra>",
           "legendgroup": "Epidemic",
           "marker": {
            "color": "#ab63fa",
            "pattern": {
             "shape": ""
            }
           },
           "name": "Epidemic",
           "offsetgroup": "Epidemic",
           "orientation": "h",
           "showlegend": true,
           "textposition": "auto",
           "type": "bar",
           "x": [
            529
           ],
           "xaxis": "x",
           "y": [
            "Epidemic"
           ],
           "yaxis": "y"
          },
          {
           "alignmentgroup": "True",
           "hovertemplate": "Entity=%{y}<br>Year=2013<br>Deaths=%{x}<extra></extra>",
           "legendgroup": "Extreme temperature",
           "marker": {
            "color": "#FFA15A",
            "pattern": {
             "shape": ""
            }
           },
           "name": "Extreme temperature",
           "offsetgroup": "Extreme temperature",
           "orientation": "h",
           "showlegend": true,
           "textposition": "auto",
           "type": "bar",
           "x": [
            1821
           ],
           "xaxis": "x",
           "y": [
            "Extreme temperature"
           ],
           "yaxis": "y"
          },
          {
           "alignmentgroup": "True",
           "hovertemplate": "Entity=%{y}<br>Year=2013<br>Deaths=%{x}<extra></extra>",
           "legendgroup": "Extreme weather",
           "marker": {
            "color": "#19d3f3",
            "pattern": {
             "shape": ""
            }
           },
           "name": "Extreme weather",
           "offsetgroup": "Extreme weather",
           "orientation": "h",
           "showlegend": true,
           "textposition": "auto",
           "type": "bar",
           "x": [
            8603
           ],
           "xaxis": "x",
           "y": [
            "Extreme weather"
           ],
           "yaxis": "y"
          },
          {
           "alignmentgroup": "True",
           "hovertemplate": "Entity=%{y}<br>Year=2013<br>Deaths=%{x}<extra></extra>",
           "legendgroup": "Flood",
           "marker": {
            "color": "#FF6692",
            "pattern": {
             "shape": ""
            }
           },
           "name": "Flood",
           "offsetgroup": "Flood",
           "orientation": "h",
           "showlegend": true,
           "textposition": "auto",
           "type": "bar",
           "x": [
            9836
           ],
           "xaxis": "x",
           "y": [
            "Flood"
           ],
           "yaxis": "y"
          },
          {
           "alignmentgroup": "True",
           "hovertemplate": "Entity=%{y}<br>Year=2013<br>Deaths=%{x}<extra></extra>",
           "legendgroup": "Landslide",
           "marker": {
            "color": "#B6E880",
            "pattern": {
             "shape": ""
            }
           },
           "name": "Landslide",
           "offsetgroup": "Landslide",
           "orientation": "h",
           "showlegend": true,
           "textposition": "auto",
           "type": "bar",
           "x": [
            235
           ],
           "xaxis": "x",
           "y": [
            "Landslide"
           ],
           "yaxis": "y"
          },
          {
           "alignmentgroup": "True",
           "hovertemplate": "Entity=%{y}<br>Year=2013<br>Deaths=%{x}<extra></extra>",
           "legendgroup": "Mass movement (dry)",
           "marker": {
            "color": "#FF97FF",
            "pattern": {
             "shape": ""
            }
           },
           "name": "Mass movement (dry)",
           "offsetgroup": "Mass movement (dry)",
           "orientation": "h",
           "showlegend": true,
           "textposition": "auto",
           "type": "bar",
           "x": [
            46
           ],
           "xaxis": "x",
           "y": [
            "Mass movement (dry)"
           ],
           "yaxis": "y"
          },
          {
           "alignmentgroup": "True",
           "hovertemplate": "Entity=%{y}<br>Year=2013<br>Deaths=%{x}<extra></extra>",
           "legendgroup": "Wildfire",
           "marker": {
            "color": "#636efa",
            "pattern": {
             "shape": ""
            }
           },
           "name": "Wildfire",
           "offsetgroup": "Wildfire",
           "orientation": "h",
           "showlegend": true,
           "textposition": "auto",
           "type": "bar",
           "x": [
            35
           ],
           "xaxis": "x",
           "y": [
            "Wildfire"
           ],
           "yaxis": "y"
          }
         ],
         "name": "2013"
        },
        {
         "data": [
          {
           "alignmentgroup": "True",
           "hovertemplate": "Entity=%{y}<br>Year=2014<br>Deaths=%{x}<extra></extra>",
           "legendgroup": "All natural disasters",
           "marker": {
            "color": "#636efa",
            "pattern": {
             "shape": ""
            }
           },
           "name": "All natural disasters",
           "offsetgroup": "All natural disasters",
           "orientation": "h",
           "showlegend": true,
           "textposition": "auto",
           "type": "bar",
           "x": [
            20882
           ],
           "xaxis": "x",
           "y": [
            "All natural disasters"
           ],
           "yaxis": "y"
          },
          {
           "alignmentgroup": "True",
           "hovertemplate": "Entity=%{y}<br>Year=2014<br>Deaths=%{x}<extra></extra>",
           "legendgroup": "Earthquake",
           "marker": {
            "color": "#00cc96",
            "pattern": {
             "shape": ""
            }
           },
           "name": "Earthquake",
           "offsetgroup": "Earthquake",
           "orientation": "h",
           "showlegend": true,
           "textposition": "auto",
           "type": "bar",
           "x": [
            774
           ],
           "xaxis": "x",
           "y": [
            "Earthquake"
           ],
           "yaxis": "y"
          },
          {
           "alignmentgroup": "True",
           "hovertemplate": "Entity=%{y}<br>Year=2014<br>Deaths=%{x}<extra></extra>",
           "legendgroup": "Epidemic",
           "marker": {
            "color": "#ab63fa",
            "pattern": {
             "shape": ""
            }
           },
           "name": "Epidemic",
           "offsetgroup": "Epidemic",
           "orientation": "h",
           "showlegend": true,
           "textposition": "auto",
           "type": "bar",
           "x": [
            12911
           ],
           "xaxis": "x",
           "y": [
            "Epidemic"
           ],
           "yaxis": "y"
          },
          {
           "alignmentgroup": "True",
           "hovertemplate": "Entity=%{y}<br>Year=2014<br>Deaths=%{x}<extra></extra>",
           "legendgroup": "Extreme temperature",
           "marker": {
            "color": "#FFA15A",
            "pattern": {
             "shape": ""
            }
           },
           "name": "Extreme temperature",
           "offsetgroup": "Extreme temperature",
           "orientation": "h",
           "showlegend": true,
           "textposition": "auto",
           "type": "bar",
           "x": [
            1168
           ],
           "xaxis": "x",
           "y": [
            "Extreme temperature"
           ],
           "yaxis": "y"
          },
          {
           "alignmentgroup": "True",
           "hovertemplate": "Entity=%{y}<br>Year=2014<br>Deaths=%{x}<extra></extra>",
           "legendgroup": "Extreme weather",
           "marker": {
            "color": "#19d3f3",
            "pattern": {
             "shape": ""
            }
           },
           "name": "Extreme weather",
           "offsetgroup": "Extreme weather",
           "orientation": "h",
           "showlegend": true,
           "textposition": "auto",
           "type": "bar",
           "x": [
            1424
           ],
           "xaxis": "x",
           "y": [
            "Extreme weather"
           ],
           "yaxis": "y"
          },
          {
           "alignmentgroup": "True",
           "hovertemplate": "Entity=%{y}<br>Year=2014<br>Deaths=%{x}<extra></extra>",
           "legendgroup": "Flood",
           "marker": {
            "color": "#FF6692",
            "pattern": {
             "shape": ""
            }
           },
           "name": "Flood",
           "offsetgroup": "Flood",
           "orientation": "h",
           "showlegend": true,
           "textposition": "auto",
           "type": "bar",
           "x": [
            3532
           ],
           "xaxis": "x",
           "y": [
            "Flood"
           ],
           "yaxis": "y"
          },
          {
           "alignmentgroup": "True",
           "hovertemplate": "Entity=%{y}<br>Year=2014<br>Deaths=%{x}<extra></extra>",
           "legendgroup": "Landslide",
           "marker": {
            "color": "#B6E880",
            "pattern": {
             "shape": ""
            }
           },
           "name": "Landslide",
           "offsetgroup": "Landslide",
           "orientation": "h",
           "showlegend": true,
           "textposition": "auto",
           "type": "bar",
           "x": [
            943
           ],
           "xaxis": "x",
           "y": [
            "Landslide"
           ],
           "yaxis": "y"
          },
          {
           "alignmentgroup": "True",
           "hovertemplate": "Entity=%{y}<br>Year=2014<br>Deaths=%{x}<extra></extra>",
           "legendgroup": "Volcanic activity",
           "marker": {
            "color": "#FECB52",
            "pattern": {
             "shape": ""
            }
           },
           "name": "Volcanic activity",
           "offsetgroup": "Volcanic activity",
           "orientation": "h",
           "showlegend": true,
           "textposition": "auto",
           "type": "bar",
           "x": [
            102
           ],
           "xaxis": "x",
           "y": [
            "Volcanic activity"
           ],
           "yaxis": "y"
          },
          {
           "alignmentgroup": "True",
           "hovertemplate": "Entity=%{y}<br>Year=2014<br>Deaths=%{x}<extra></extra>",
           "legendgroup": "Wildfire",
           "marker": {
            "color": "#636efa",
            "pattern": {
             "shape": ""
            }
           },
           "name": "Wildfire",
           "offsetgroup": "Wildfire",
           "orientation": "h",
           "showlegend": true,
           "textposition": "auto",
           "type": "bar",
           "x": [
            16
           ],
           "xaxis": "x",
           "y": [
            "Wildfire"
           ],
           "yaxis": "y"
          }
         ],
         "name": "2014"
        },
        {
         "data": [
          {
           "alignmentgroup": "True",
           "hovertemplate": "Entity=%{y}<br>Year=2015<br>Deaths=%{x}<extra></extra>",
           "legendgroup": "All natural disasters",
           "marker": {
            "color": "#636efa",
            "pattern": {
             "shape": ""
            }
           },
           "name": "All natural disasters",
           "offsetgroup": "All natural disasters",
           "orientation": "h",
           "showlegend": true,
           "textposition": "auto",
           "type": "bar",
           "x": [
            23893
           ],
           "xaxis": "x",
           "y": [
            "All natural disasters"
           ],
           "yaxis": "y"
          },
          {
           "alignmentgroup": "True",
           "hovertemplate": "Entity=%{y}<br>Year=2015<br>Deaths=%{x}<extra></extra>",
           "legendgroup": "Drought",
           "marker": {
            "color": "#EF553B",
            "pattern": {
             "shape": ""
            }
           },
           "name": "Drought",
           "offsetgroup": "Drought",
           "orientation": "h",
           "showlegend": true,
           "textposition": "auto",
           "type": "bar",
           "x": [
            35
           ],
           "xaxis": "x",
           "y": [
            "Drought"
           ],
           "yaxis": "y"
          },
          {
           "alignmentgroup": "True",
           "hovertemplate": "Entity=%{y}<br>Year=2015<br>Deaths=%{x}<extra></extra>",
           "legendgroup": "Earthquake",
           "marker": {
            "color": "#00cc96",
            "pattern": {
             "shape": ""
            }
           },
           "name": "Earthquake",
           "offsetgroup": "Earthquake",
           "orientation": "h",
           "showlegend": true,
           "textposition": "auto",
           "type": "bar",
           "x": [
            9550
           ],
           "xaxis": "x",
           "y": [
            "Earthquake"
           ],
           "yaxis": "y"
          },
          {
           "alignmentgroup": "True",
           "hovertemplate": "Entity=%{y}<br>Year=2015<br>Deaths=%{x}<extra></extra>",
           "legendgroup": "Epidemic",
           "marker": {
            "color": "#ab63fa",
            "pattern": {
             "shape": ""
            }
           },
           "name": "Epidemic",
           "offsetgroup": "Epidemic",
           "orientation": "h",
           "showlegend": true,
           "textposition": "auto",
           "type": "bar",
           "x": [
            1032
           ],
           "xaxis": "x",
           "y": [
            "Epidemic"
           ],
           "yaxis": "y"
          },
          {
           "alignmentgroup": "True",
           "hovertemplate": "Entity=%{y}<br>Year=2015<br>Deaths=%{x}<extra></extra>",
           "legendgroup": "Extreme temperature",
           "marker": {
            "color": "#FFA15A",
            "pattern": {
             "shape": ""
            }
           },
           "name": "Extreme temperature",
           "offsetgroup": "Extreme temperature",
           "orientation": "h",
           "showlegend": true,
           "textposition": "auto",
           "type": "bar",
           "x": [
            7425
           ],
           "xaxis": "x",
           "y": [
            "Extreme temperature"
           ],
           "yaxis": "y"
          },
          {
           "alignmentgroup": "True",
           "hovertemplate": "Entity=%{y}<br>Year=2015<br>Deaths=%{x}<extra></extra>",
           "legendgroup": "Extreme weather",
           "marker": {
            "color": "#19d3f3",
            "pattern": {
             "shape": ""
            }
           },
           "name": "Extreme weather",
           "offsetgroup": "Extreme weather",
           "orientation": "h",
           "showlegend": true,
           "textposition": "auto",
           "type": "bar",
           "x": [
            1270
           ],
           "xaxis": "x",
           "y": [
            "Extreme weather"
           ],
           "yaxis": "y"
          },
          {
           "alignmentgroup": "True",
           "hovertemplate": "Entity=%{y}<br>Year=2015<br>Deaths=%{x}<extra></extra>",
           "legendgroup": "Flood",
           "marker": {
            "color": "#FF6692",
            "pattern": {
             "shape": ""
            }
           },
           "name": "Flood",
           "offsetgroup": "Flood",
           "orientation": "h",
           "showlegend": true,
           "textposition": "auto",
           "type": "bar",
           "x": [
            3495
           ],
           "xaxis": "x",
           "y": [
            "Flood"
           ],
           "yaxis": "y"
          },
          {
           "alignmentgroup": "True",
           "hovertemplate": "Entity=%{y}<br>Year=2015<br>Deaths=%{x}<extra></extra>",
           "legendgroup": "Landslide",
           "marker": {
            "color": "#B6E880",
            "pattern": {
             "shape": ""
            }
           },
           "name": "Landslide",
           "offsetgroup": "Landslide",
           "orientation": "h",
           "showlegend": true,
           "textposition": "auto",
           "type": "bar",
           "x": [
            1006
           ],
           "xaxis": "x",
           "y": [
            "Landslide"
           ],
           "yaxis": "y"
          },
          {
           "alignmentgroup": "True",
           "hovertemplate": "Entity=%{y}<br>Year=2015<br>Deaths=%{x}<extra></extra>",
           "legendgroup": "Mass movement (dry)",
           "marker": {
            "color": "#FF97FF",
            "pattern": {
             "shape": ""
            }
           },
           "name": "Mass movement (dry)",
           "offsetgroup": "Mass movement (dry)",
           "orientation": "h",
           "showlegend": true,
           "textposition": "auto",
           "type": "bar",
           "x": [
            13
           ],
           "xaxis": "x",
           "y": [
            "Mass movement (dry)"
           ],
           "yaxis": "y"
          },
          {
           "alignmentgroup": "True",
           "hovertemplate": "Entity=%{y}<br>Year=2015<br>Deaths=%{x}<extra></extra>",
           "legendgroup": "Wildfire",
           "marker": {
            "color": "#636efa",
            "pattern": {
             "shape": ""
            }
           },
           "name": "Wildfire",
           "offsetgroup": "Wildfire",
           "orientation": "h",
           "showlegend": true,
           "textposition": "auto",
           "type": "bar",
           "x": [
            67
           ],
           "xaxis": "x",
           "y": [
            "Wildfire"
           ],
           "yaxis": "y"
          }
         ],
         "name": "2015"
        },
        {
         "data": [
          {
           "alignmentgroup": "True",
           "hovertemplate": "Entity=%{y}<br>Year=2016<br>Deaths=%{x}<extra></extra>",
           "legendgroup": "All natural disasters",
           "marker": {
            "color": "#636efa",
            "pattern": {
             "shape": ""
            }
           },
           "name": "All natural disasters",
           "offsetgroup": "All natural disasters",
           "orientation": "h",
           "showlegend": true,
           "textposition": "auto",
           "type": "bar",
           "x": [
            10201
           ],
           "xaxis": "x",
           "y": [
            "All natural disasters"
           ],
           "yaxis": "y"
          },
          {
           "alignmentgroup": "True",
           "hovertemplate": "Entity=%{y}<br>Year=2016<br>Deaths=%{x}<extra></extra>",
           "legendgroup": "Earthquake",
           "marker": {
            "color": "#00cc96",
            "pattern": {
             "shape": ""
            }
           },
           "name": "Earthquake",
           "offsetgroup": "Earthquake",
           "orientation": "h",
           "showlegend": true,
           "textposition": "auto",
           "type": "bar",
           "x": [
            1311
           ],
           "xaxis": "x",
           "y": [
            "Earthquake"
           ],
           "yaxis": "y"
          },
          {
           "alignmentgroup": "True",
           "hovertemplate": "Entity=%{y}<br>Year=2016<br>Deaths=%{x}<extra></extra>",
           "legendgroup": "Epidemic",
           "marker": {
            "color": "#ab63fa",
            "pattern": {
             "shape": ""
            }
           },
           "name": "Epidemic",
           "offsetgroup": "Epidemic",
           "orientation": "h",
           "showlegend": true,
           "textposition": "auto",
           "type": "bar",
           "x": [
            1520
           ],
           "xaxis": "x",
           "y": [
            "Epidemic"
           ],
           "yaxis": "y"
          },
          {
           "alignmentgroup": "True",
           "hovertemplate": "Entity=%{y}<br>Year=2016<br>Deaths=%{x}<extra></extra>",
           "legendgroup": "Extreme temperature",
           "marker": {
            "color": "#FFA15A",
            "pattern": {
             "shape": ""
            }
           },
           "name": "Extreme temperature",
           "offsetgroup": "Extreme temperature",
           "orientation": "h",
           "showlegend": true,
           "textposition": "auto",
           "type": "bar",
           "x": [
            490
           ],
           "xaxis": "x",
           "y": [
            "Extreme temperature"
           ],
           "yaxis": "y"
          },
          {
           "alignmentgroup": "True",
           "hovertemplate": "Entity=%{y}<br>Year=2016<br>Deaths=%{x}<extra></extra>",
           "legendgroup": "Extreme weather",
           "marker": {
            "color": "#19d3f3",
            "pattern": {
             "shape": ""
            }
           },
           "name": "Extreme weather",
           "offsetgroup": "Extreme weather",
           "orientation": "h",
           "showlegend": true,
           "textposition": "auto",
           "type": "bar",
           "x": [
            1760
           ],
           "xaxis": "x",
           "y": [
            "Extreme weather"
           ],
           "yaxis": "y"
          },
          {
           "alignmentgroup": "True",
           "hovertemplate": "Entity=%{y}<br>Year=2016<br>Deaths=%{x}<extra></extra>",
           "legendgroup": "Flood",
           "marker": {
            "color": "#FF6692",
            "pattern": {
             "shape": ""
            }
           },
           "name": "Flood",
           "offsetgroup": "Flood",
           "orientation": "h",
           "showlegend": true,
           "textposition": "auto",
           "type": "bar",
           "x": [
            4720
           ],
           "xaxis": "x",
           "y": [
            "Flood"
           ],
           "yaxis": "y"
          },
          {
           "alignmentgroup": "True",
           "hovertemplate": "Entity=%{y}<br>Year=2016<br>Deaths=%{x}<extra></extra>",
           "legendgroup": "Landslide",
           "marker": {
            "color": "#B6E880",
            "pattern": {
             "shape": ""
            }
           },
           "name": "Landslide",
           "offsetgroup": "Landslide",
           "orientation": "h",
           "showlegend": true,
           "textposition": "auto",
           "type": "bar",
           "x": [
            361
           ],
           "xaxis": "x",
           "y": [
            "Landslide"
           ],
           "yaxis": "y"
          },
          {
           "alignmentgroup": "True",
           "hovertemplate": "Entity=%{y}<br>Year=2016<br>Deaths=%{x}<extra></extra>",
           "legendgroup": "Wildfire",
           "marker": {
            "color": "#636efa",
            "pattern": {
             "shape": ""
            }
           },
           "name": "Wildfire",
           "offsetgroup": "Wildfire",
           "orientation": "h",
           "showlegend": true,
           "textposition": "auto",
           "type": "bar",
           "x": [
            39
           ],
           "xaxis": "x",
           "y": [
            "Wildfire"
           ],
           "yaxis": "y"
          }
         ],
         "name": "2016"
        },
        {
         "data": [
          {
           "alignmentgroup": "True",
           "hovertemplate": "Entity=%{y}<br>Year=2017<br>Deaths=%{x}<extra></extra>",
           "legendgroup": "All natural disasters",
           "marker": {
            "color": "#636efa",
            "pattern": {
             "shape": ""
            }
           },
           "name": "All natural disasters",
           "offsetgroup": "All natural disasters",
           "orientation": "h",
           "showlegend": true,
           "textposition": "auto",
           "type": "bar",
           "x": [
            2087
           ],
           "xaxis": "x",
           "y": [
            "All natural disasters"
           ],
           "yaxis": "y"
          },
          {
           "alignmentgroup": "True",
           "hovertemplate": "Entity=%{y}<br>Year=2017<br>Deaths=%{x}<extra></extra>",
           "legendgroup": "Earthquake",
           "marker": {
            "color": "#00cc96",
            "pattern": {
             "shape": ""
            }
           },
           "name": "Earthquake",
           "offsetgroup": "Earthquake",
           "orientation": "h",
           "showlegend": true,
           "textposition": "auto",
           "type": "bar",
           "x": [
            49
           ],
           "xaxis": "x",
           "y": [
            "Earthquake"
           ],
           "yaxis": "y"
          },
          {
           "alignmentgroup": "True",
           "hovertemplate": "Entity=%{y}<br>Year=2017<br>Deaths=%{x}<extra></extra>",
           "legendgroup": "Epidemic",
           "marker": {
            "color": "#ab63fa",
            "pattern": {
             "shape": ""
            }
           },
           "name": "Epidemic",
           "offsetgroup": "Epidemic",
           "orientation": "h",
           "showlegend": true,
           "textposition": "auto",
           "type": "bar",
           "x": [
            386
           ],
           "xaxis": "x",
           "y": [
            "Epidemic"
           ],
           "yaxis": "y"
          },
          {
           "alignmentgroup": "True",
           "hovertemplate": "Entity=%{y}<br>Year=2017<br>Deaths=%{x}<extra></extra>",
           "legendgroup": "Extreme temperature",
           "marker": {
            "color": "#FFA15A",
            "pattern": {
             "shape": ""
            }
           },
           "name": "Extreme temperature",
           "offsetgroup": "Extreme temperature",
           "orientation": "h",
           "showlegend": true,
           "textposition": "auto",
           "type": "bar",
           "x": [
            130
           ],
           "xaxis": "x",
           "y": [
            "Extreme temperature"
           ],
           "yaxis": "y"
          },
          {
           "alignmentgroup": "True",
           "hovertemplate": "Entity=%{y}<br>Year=2017<br>Deaths=%{x}<extra></extra>",
           "legendgroup": "Extreme weather",
           "marker": {
            "color": "#19d3f3",
            "pattern": {
             "shape": ""
            }
           },
           "name": "Extreme weather",
           "offsetgroup": "Extreme weather",
           "orientation": "h",
           "showlegend": true,
           "textposition": "auto",
           "type": "bar",
           "x": [
            394
           ],
           "xaxis": "x",
           "y": [
            "Extreme weather"
           ],
           "yaxis": "y"
          },
          {
           "alignmentgroup": "True",
           "hovertemplate": "Entity=%{y}<br>Year=2017<br>Deaths=%{x}<extra></extra>",
           "legendgroup": "Flood",
           "marker": {
            "color": "#FF6692",
            "pattern": {
             "shape": ""
            }
           },
           "name": "Flood",
           "offsetgroup": "Flood",
           "orientation": "h",
           "showlegend": true,
           "textposition": "auto",
           "type": "bar",
           "x": [
            648
           ],
           "xaxis": "x",
           "y": [
            "Flood"
           ],
           "yaxis": "y"
          },
          {
           "alignmentgroup": "True",
           "hovertemplate": "Entity=%{y}<br>Year=2017<br>Deaths=%{x}<extra></extra>",
           "legendgroup": "Landslide",
           "marker": {
            "color": "#B6E880",
            "pattern": {
             "shape": ""
            }
           },
           "name": "Landslide",
           "offsetgroup": "Landslide",
           "orientation": "h",
           "showlegend": true,
           "textposition": "auto",
           "type": "bar",
           "x": [
            405
           ],
           "xaxis": "x",
           "y": [
            "Landslide"
           ],
           "yaxis": "y"
          },
          {
           "alignmentgroup": "True",
           "hovertemplate": "Entity=%{y}<br>Year=2017<br>Deaths=%{x}<extra></extra>",
           "legendgroup": "Wildfire",
           "marker": {
            "color": "#636efa",
            "pattern": {
             "shape": ""
            }
           },
           "name": "Wildfire",
           "offsetgroup": "Wildfire",
           "orientation": "h",
           "showlegend": true,
           "textposition": "auto",
           "type": "bar",
           "x": [
            75
           ],
           "xaxis": "x",
           "y": [
            "Wildfire"
           ],
           "yaxis": "y"
          }
         ],
         "name": "2017"
        }
       ],
       "layout": {
        "barmode": "relative",
        "legend": {
         "title": {
          "text": "Entity"
         },
         "tracegroupgap": 0
        },
        "margin": {
         "b": 0,
         "l": 0,
         "r": 0,
         "t": 0
        },
        "paper_bgcolor": "rgba(0,0,0,0)",
        "plot_bgcolor": "rgba(0,0,0,0)",
        "showlegend": false,
        "sliders": [
         {
          "active": 0,
          "currentvalue": {
           "prefix": "Year="
          },
          "len": 0.9,
          "pad": {
           "b": 10,
           "t": 60
          },
          "steps": [
           {
            "args": [
             [
              "1991"
             ],
             {
              "frame": {
               "duration": 0,
               "redraw": true
              },
              "fromcurrent": true,
              "mode": "immediate",
              "transition": {
               "duration": 0,
               "easing": "linear"
              }
             }
            ],
            "label": "1991",
            "method": "animate"
           },
           {
            "args": [
             [
              "1992"
             ],
             {
              "frame": {
               "duration": 0,
               "redraw": true
              },
              "fromcurrent": true,
              "mode": "immediate",
              "transition": {
               "duration": 0,
               "easing": "linear"
              }
             }
            ],
            "label": "1992",
            "method": "animate"
           },
           {
            "args": [
             [
              "1993"
             ],
             {
              "frame": {
               "duration": 0,
               "redraw": true
              },
              "fromcurrent": true,
              "mode": "immediate",
              "transition": {
               "duration": 0,
               "easing": "linear"
              }
             }
            ],
            "label": "1993",
            "method": "animate"
           },
           {
            "args": [
             [
              "1994"
             ],
             {
              "frame": {
               "duration": 0,
               "redraw": true
              },
              "fromcurrent": true,
              "mode": "immediate",
              "transition": {
               "duration": 0,
               "easing": "linear"
              }
             }
            ],
            "label": "1994",
            "method": "animate"
           },
           {
            "args": [
             [
              "1995"
             ],
             {
              "frame": {
               "duration": 0,
               "redraw": true
              },
              "fromcurrent": true,
              "mode": "immediate",
              "transition": {
               "duration": 0,
               "easing": "linear"
              }
             }
            ],
            "label": "1995",
            "method": "animate"
           },
           {
            "args": [
             [
              "1996"
             ],
             {
              "frame": {
               "duration": 0,
               "redraw": true
              },
              "fromcurrent": true,
              "mode": "immediate",
              "transition": {
               "duration": 0,
               "easing": "linear"
              }
             }
            ],
            "label": "1996",
            "method": "animate"
           },
           {
            "args": [
             [
              "1997"
             ],
             {
              "frame": {
               "duration": 0,
               "redraw": true
              },
              "fromcurrent": true,
              "mode": "immediate",
              "transition": {
               "duration": 0,
               "easing": "linear"
              }
             }
            ],
            "label": "1997",
            "method": "animate"
           },
           {
            "args": [
             [
              "1998"
             ],
             {
              "frame": {
               "duration": 0,
               "redraw": true
              },
              "fromcurrent": true,
              "mode": "immediate",
              "transition": {
               "duration": 0,
               "easing": "linear"
              }
             }
            ],
            "label": "1998",
            "method": "animate"
           },
           {
            "args": [
             [
              "1999"
             ],
             {
              "frame": {
               "duration": 0,
               "redraw": true
              },
              "fromcurrent": true,
              "mode": "immediate",
              "transition": {
               "duration": 0,
               "easing": "linear"
              }
             }
            ],
            "label": "1999",
            "method": "animate"
           },
           {
            "args": [
             [
              "2000"
             ],
             {
              "frame": {
               "duration": 0,
               "redraw": true
              },
              "fromcurrent": true,
              "mode": "immediate",
              "transition": {
               "duration": 0,
               "easing": "linear"
              }
             }
            ],
            "label": "2000",
            "method": "animate"
           },
           {
            "args": [
             [
              "2001"
             ],
             {
              "frame": {
               "duration": 0,
               "redraw": true
              },
              "fromcurrent": true,
              "mode": "immediate",
              "transition": {
               "duration": 0,
               "easing": "linear"
              }
             }
            ],
            "label": "2001",
            "method": "animate"
           },
           {
            "args": [
             [
              "2002"
             ],
             {
              "frame": {
               "duration": 0,
               "redraw": true
              },
              "fromcurrent": true,
              "mode": "immediate",
              "transition": {
               "duration": 0,
               "easing": "linear"
              }
             }
            ],
            "label": "2002",
            "method": "animate"
           },
           {
            "args": [
             [
              "2003"
             ],
             {
              "frame": {
               "duration": 0,
               "redraw": true
              },
              "fromcurrent": true,
              "mode": "immediate",
              "transition": {
               "duration": 0,
               "easing": "linear"
              }
             }
            ],
            "label": "2003",
            "method": "animate"
           },
           {
            "args": [
             [
              "2004"
             ],
             {
              "frame": {
               "duration": 0,
               "redraw": true
              },
              "fromcurrent": true,
              "mode": "immediate",
              "transition": {
               "duration": 0,
               "easing": "linear"
              }
             }
            ],
            "label": "2004",
            "method": "animate"
           },
           {
            "args": [
             [
              "2005"
             ],
             {
              "frame": {
               "duration": 0,
               "redraw": true
              },
              "fromcurrent": true,
              "mode": "immediate",
              "transition": {
               "duration": 0,
               "easing": "linear"
              }
             }
            ],
            "label": "2005",
            "method": "animate"
           },
           {
            "args": [
             [
              "2006"
             ],
             {
              "frame": {
               "duration": 0,
               "redraw": true
              },
              "fromcurrent": true,
              "mode": "immediate",
              "transition": {
               "duration": 0,
               "easing": "linear"
              }
             }
            ],
            "label": "2006",
            "method": "animate"
           },
           {
            "args": [
             [
              "2007"
             ],
             {
              "frame": {
               "duration": 0,
               "redraw": true
              },
              "fromcurrent": true,
              "mode": "immediate",
              "transition": {
               "duration": 0,
               "easing": "linear"
              }
             }
            ],
            "label": "2007",
            "method": "animate"
           },
           {
            "args": [
             [
              "2008"
             ],
             {
              "frame": {
               "duration": 0,
               "redraw": true
              },
              "fromcurrent": true,
              "mode": "immediate",
              "transition": {
               "duration": 0,
               "easing": "linear"
              }
             }
            ],
            "label": "2008",
            "method": "animate"
           },
           {
            "args": [
             [
              "2009"
             ],
             {
              "frame": {
               "duration": 0,
               "redraw": true
              },
              "fromcurrent": true,
              "mode": "immediate",
              "transition": {
               "duration": 0,
               "easing": "linear"
              }
             }
            ],
            "label": "2009",
            "method": "animate"
           },
           {
            "args": [
             [
              "2010"
             ],
             {
              "frame": {
               "duration": 0,
               "redraw": true
              },
              "fromcurrent": true,
              "mode": "immediate",
              "transition": {
               "duration": 0,
               "easing": "linear"
              }
             }
            ],
            "label": "2010",
            "method": "animate"
           },
           {
            "args": [
             [
              "2011"
             ],
             {
              "frame": {
               "duration": 0,
               "redraw": true
              },
              "fromcurrent": true,
              "mode": "immediate",
              "transition": {
               "duration": 0,
               "easing": "linear"
              }
             }
            ],
            "label": "2011",
            "method": "animate"
           },
           {
            "args": [
             [
              "2012"
             ],
             {
              "frame": {
               "duration": 0,
               "redraw": true
              },
              "fromcurrent": true,
              "mode": "immediate",
              "transition": {
               "duration": 0,
               "easing": "linear"
              }
             }
            ],
            "label": "2012",
            "method": "animate"
           },
           {
            "args": [
             [
              "2013"
             ],
             {
              "frame": {
               "duration": 0,
               "redraw": true
              },
              "fromcurrent": true,
              "mode": "immediate",
              "transition": {
               "duration": 0,
               "easing": "linear"
              }
             }
            ],
            "label": "2013",
            "method": "animate"
           },
           {
            "args": [
             [
              "2014"
             ],
             {
              "frame": {
               "duration": 0,
               "redraw": true
              },
              "fromcurrent": true,
              "mode": "immediate",
              "transition": {
               "duration": 0,
               "easing": "linear"
              }
             }
            ],
            "label": "2014",
            "method": "animate"
           },
           {
            "args": [
             [
              "2015"
             ],
             {
              "frame": {
               "duration": 0,
               "redraw": true
              },
              "fromcurrent": true,
              "mode": "immediate",
              "transition": {
               "duration": 0,
               "easing": "linear"
              }
             }
            ],
            "label": "2015",
            "method": "animate"
           },
           {
            "args": [
             [
              "2016"
             ],
             {
              "frame": {
               "duration": 0,
               "redraw": true
              },
              "fromcurrent": true,
              "mode": "immediate",
              "transition": {
               "duration": 0,
               "easing": "linear"
              }
             }
            ],
            "label": "2016",
            "method": "animate"
           },
           {
            "args": [
             [
              "2017"
             ],
             {
              "frame": {
               "duration": 0,
               "redraw": true
              },
              "fromcurrent": true,
              "mode": "immediate",
              "transition": {
               "duration": 0,
               "easing": "linear"
              }
             }
            ],
            "label": "2017",
            "method": "animate"
           }
          ],
          "x": 0.1,
          "xanchor": "left",
          "y": 0,
          "yanchor": "top"
         }
        ],
        "template": {
         "data": {
          "bar": [
           {
            "error_x": {
             "color": "#f2f5fa"
            },
            "error_y": {
             "color": "#f2f5fa"
            },
            "marker": {
             "line": {
              "color": "rgb(17,17,17)",
              "width": 0.5
             },
             "pattern": {
              "fillmode": "overlay",
              "size": 10,
              "solidity": 0.2
             }
            },
            "type": "bar"
           }
          ],
          "barpolar": [
           {
            "marker": {
             "line": {
              "color": "rgb(17,17,17)",
              "width": 0.5
             },
             "pattern": {
              "fillmode": "overlay",
              "size": 10,
              "solidity": 0.2
             }
            },
            "type": "barpolar"
           }
          ],
          "carpet": [
           {
            "aaxis": {
             "endlinecolor": "#A2B1C6",
             "gridcolor": "#506784",
             "linecolor": "#506784",
             "minorgridcolor": "#506784",
             "startlinecolor": "#A2B1C6"
            },
            "baxis": {
             "endlinecolor": "#A2B1C6",
             "gridcolor": "#506784",
             "linecolor": "#506784",
             "minorgridcolor": "#506784",
             "startlinecolor": "#A2B1C6"
            },
            "type": "carpet"
           }
          ],
          "choropleth": [
           {
            "colorbar": {
             "outlinewidth": 0,
             "ticks": ""
            },
            "type": "choropleth"
           }
          ],
          "contour": [
           {
            "colorbar": {
             "outlinewidth": 0,
             "ticks": ""
            },
            "colorscale": [
             [
              0,
              "#0d0887"
             ],
             [
              0.1111111111111111,
              "#46039f"
             ],
             [
              0.2222222222222222,
              "#7201a8"
             ],
             [
              0.3333333333333333,
              "#9c179e"
             ],
             [
              0.4444444444444444,
              "#bd3786"
             ],
             [
              0.5555555555555556,
              "#d8576b"
             ],
             [
              0.6666666666666666,
              "#ed7953"
             ],
             [
              0.7777777777777778,
              "#fb9f3a"
             ],
             [
              0.8888888888888888,
              "#fdca26"
             ],
             [
              1,
              "#f0f921"
             ]
            ],
            "type": "contour"
           }
          ],
          "contourcarpet": [
           {
            "colorbar": {
             "outlinewidth": 0,
             "ticks": ""
            },
            "type": "contourcarpet"
           }
          ],
          "heatmap": [
           {
            "colorbar": {
             "outlinewidth": 0,
             "ticks": ""
            },
            "colorscale": [
             [
              0,
              "#0d0887"
             ],
             [
              0.1111111111111111,
              "#46039f"
             ],
             [
              0.2222222222222222,
              "#7201a8"
             ],
             [
              0.3333333333333333,
              "#9c179e"
             ],
             [
              0.4444444444444444,
              "#bd3786"
             ],
             [
              0.5555555555555556,
              "#d8576b"
             ],
             [
              0.6666666666666666,
              "#ed7953"
             ],
             [
              0.7777777777777778,
              "#fb9f3a"
             ],
             [
              0.8888888888888888,
              "#fdca26"
             ],
             [
              1,
              "#f0f921"
             ]
            ],
            "type": "heatmap"
           }
          ],
          "heatmapgl": [
           {
            "colorbar": {
             "outlinewidth": 0,
             "ticks": ""
            },
            "colorscale": [
             [
              0,
              "#0d0887"
             ],
             [
              0.1111111111111111,
              "#46039f"
             ],
             [
              0.2222222222222222,
              "#7201a8"
             ],
             [
              0.3333333333333333,
              "#9c179e"
             ],
             [
              0.4444444444444444,
              "#bd3786"
             ],
             [
              0.5555555555555556,
              "#d8576b"
             ],
             [
              0.6666666666666666,
              "#ed7953"
             ],
             [
              0.7777777777777778,
              "#fb9f3a"
             ],
             [
              0.8888888888888888,
              "#fdca26"
             ],
             [
              1,
              "#f0f921"
             ]
            ],
            "type": "heatmapgl"
           }
          ],
          "histogram": [
           {
            "marker": {
             "pattern": {
              "fillmode": "overlay",
              "size": 10,
              "solidity": 0.2
             }
            },
            "type": "histogram"
           }
          ],
          "histogram2d": [
           {
            "colorbar": {
             "outlinewidth": 0,
             "ticks": ""
            },
            "colorscale": [
             [
              0,
              "#0d0887"
             ],
             [
              0.1111111111111111,
              "#46039f"
             ],
             [
              0.2222222222222222,
              "#7201a8"
             ],
             [
              0.3333333333333333,
              "#9c179e"
             ],
             [
              0.4444444444444444,
              "#bd3786"
             ],
             [
              0.5555555555555556,
              "#d8576b"
             ],
             [
              0.6666666666666666,
              "#ed7953"
             ],
             [
              0.7777777777777778,
              "#fb9f3a"
             ],
             [
              0.8888888888888888,
              "#fdca26"
             ],
             [
              1,
              "#f0f921"
             ]
            ],
            "type": "histogram2d"
           }
          ],
          "histogram2dcontour": [
           {
            "colorbar": {
             "outlinewidth": 0,
             "ticks": ""
            },
            "colorscale": [
             [
              0,
              "#0d0887"
             ],
             [
              0.1111111111111111,
              "#46039f"
             ],
             [
              0.2222222222222222,
              "#7201a8"
             ],
             [
              0.3333333333333333,
              "#9c179e"
             ],
             [
              0.4444444444444444,
              "#bd3786"
             ],
             [
              0.5555555555555556,
              "#d8576b"
             ],
             [
              0.6666666666666666,
              "#ed7953"
             ],
             [
              0.7777777777777778,
              "#fb9f3a"
             ],
             [
              0.8888888888888888,
              "#fdca26"
             ],
             [
              1,
              "#f0f921"
             ]
            ],
            "type": "histogram2dcontour"
           }
          ],
          "mesh3d": [
           {
            "colorbar": {
             "outlinewidth": 0,
             "ticks": ""
            },
            "type": "mesh3d"
           }
          ],
          "parcoords": [
           {
            "line": {
             "colorbar": {
              "outlinewidth": 0,
              "ticks": ""
             }
            },
            "type": "parcoords"
           }
          ],
          "pie": [
           {
            "automargin": true,
            "type": "pie"
           }
          ],
          "scatter": [
           {
            "marker": {
             "line": {
              "color": "#283442"
             }
            },
            "type": "scatter"
           }
          ],
          "scatter3d": [
           {
            "line": {
             "colorbar": {
              "outlinewidth": 0,
              "ticks": ""
             }
            },
            "marker": {
             "colorbar": {
              "outlinewidth": 0,
              "ticks": ""
             }
            },
            "type": "scatter3d"
           }
          ],
          "scattercarpet": [
           {
            "marker": {
             "colorbar": {
              "outlinewidth": 0,
              "ticks": ""
             }
            },
            "type": "scattercarpet"
           }
          ],
          "scattergeo": [
           {
            "marker": {
             "colorbar": {
              "outlinewidth": 0,
              "ticks": ""
             }
            },
            "type": "scattergeo"
           }
          ],
          "scattergl": [
           {
            "marker": {
             "line": {
              "color": "#283442"
             }
            },
            "type": "scattergl"
           }
          ],
          "scattermapbox": [
           {
            "marker": {
             "colorbar": {
              "outlinewidth": 0,
              "ticks": ""
             }
            },
            "type": "scattermapbox"
           }
          ],
          "scatterpolar": [
           {
            "marker": {
             "colorbar": {
              "outlinewidth": 0,
              "ticks": ""
             }
            },
            "type": "scatterpolar"
           }
          ],
          "scatterpolargl": [
           {
            "marker": {
             "colorbar": {
              "outlinewidth": 0,
              "ticks": ""
             }
            },
            "type": "scatterpolargl"
           }
          ],
          "scatterternary": [
           {
            "marker": {
             "colorbar": {
              "outlinewidth": 0,
              "ticks": ""
             }
            },
            "type": "scatterternary"
           }
          ],
          "surface": [
           {
            "colorbar": {
             "outlinewidth": 0,
             "ticks": ""
            },
            "colorscale": [
             [
              0,
              "#0d0887"
             ],
             [
              0.1111111111111111,
              "#46039f"
             ],
             [
              0.2222222222222222,
              "#7201a8"
             ],
             [
              0.3333333333333333,
              "#9c179e"
             ],
             [
              0.4444444444444444,
              "#bd3786"
             ],
             [
              0.5555555555555556,
              "#d8576b"
             ],
             [
              0.6666666666666666,
              "#ed7953"
             ],
             [
              0.7777777777777778,
              "#fb9f3a"
             ],
             [
              0.8888888888888888,
              "#fdca26"
             ],
             [
              1,
              "#f0f921"
             ]
            ],
            "type": "surface"
           }
          ],
          "table": [
           {
            "cells": {
             "fill": {
              "color": "#506784"
             },
             "line": {
              "color": "rgb(17,17,17)"
             }
            },
            "header": {
             "fill": {
              "color": "#2a3f5f"
             },
             "line": {
              "color": "rgb(17,17,17)"
             }
            },
            "type": "table"
           }
          ]
         },
         "layout": {
          "annotationdefaults": {
           "arrowcolor": "#f2f5fa",
           "arrowhead": 0,
           "arrowwidth": 1
          },
          "autotypenumbers": "strict",
          "coloraxis": {
           "colorbar": {
            "outlinewidth": 0,
            "ticks": ""
           }
          },
          "colorscale": {
           "diverging": [
            [
             0,
             "#8e0152"
            ],
            [
             0.1,
             "#c51b7d"
            ],
            [
             0.2,
             "#de77ae"
            ],
            [
             0.3,
             "#f1b6da"
            ],
            [
             0.4,
             "#fde0ef"
            ],
            [
             0.5,
             "#f7f7f7"
            ],
            [
             0.6,
             "#e6f5d0"
            ],
            [
             0.7,
             "#b8e186"
            ],
            [
             0.8,
             "#7fbc41"
            ],
            [
             0.9,
             "#4d9221"
            ],
            [
             1,
             "#276419"
            ]
           ],
           "sequential": [
            [
             0,
             "#0d0887"
            ],
            [
             0.1111111111111111,
             "#46039f"
            ],
            [
             0.2222222222222222,
             "#7201a8"
            ],
            [
             0.3333333333333333,
             "#9c179e"
            ],
            [
             0.4444444444444444,
             "#bd3786"
            ],
            [
             0.5555555555555556,
             "#d8576b"
            ],
            [
             0.6666666666666666,
             "#ed7953"
            ],
            [
             0.7777777777777778,
             "#fb9f3a"
            ],
            [
             0.8888888888888888,
             "#fdca26"
            ],
            [
             1,
             "#f0f921"
            ]
           ],
           "sequentialminus": [
            [
             0,
             "#0d0887"
            ],
            [
             0.1111111111111111,
             "#46039f"
            ],
            [
             0.2222222222222222,
             "#7201a8"
            ],
            [
             0.3333333333333333,
             "#9c179e"
            ],
            [
             0.4444444444444444,
             "#bd3786"
            ],
            [
             0.5555555555555556,
             "#d8576b"
            ],
            [
             0.6666666666666666,
             "#ed7953"
            ],
            [
             0.7777777777777778,
             "#fb9f3a"
            ],
            [
             0.8888888888888888,
             "#fdca26"
            ],
            [
             1,
             "#f0f921"
            ]
           ]
          },
          "colorway": [
           "#636efa",
           "#EF553B",
           "#00cc96",
           "#ab63fa",
           "#FFA15A",
           "#19d3f3",
           "#FF6692",
           "#B6E880",
           "#FF97FF",
           "#FECB52"
          ],
          "font": {
           "color": "#f2f5fa"
          },
          "geo": {
           "bgcolor": "rgb(17,17,17)",
           "lakecolor": "rgb(17,17,17)",
           "landcolor": "rgb(17,17,17)",
           "showlakes": true,
           "showland": true,
           "subunitcolor": "#506784"
          },
          "hoverlabel": {
           "align": "left"
          },
          "hovermode": "closest",
          "mapbox": {
           "style": "dark"
          },
          "paper_bgcolor": "rgb(17,17,17)",
          "plot_bgcolor": "rgb(17,17,17)",
          "polar": {
           "angularaxis": {
            "gridcolor": "#506784",
            "linecolor": "#506784",
            "ticks": ""
           },
           "bgcolor": "rgb(17,17,17)",
           "radialaxis": {
            "gridcolor": "#506784",
            "linecolor": "#506784",
            "ticks": ""
           }
          },
          "scene": {
           "xaxis": {
            "backgroundcolor": "rgb(17,17,17)",
            "gridcolor": "#506784",
            "gridwidth": 2,
            "linecolor": "#506784",
            "showbackground": true,
            "ticks": "",
            "zerolinecolor": "#C8D4E3"
           },
           "yaxis": {
            "backgroundcolor": "rgb(17,17,17)",
            "gridcolor": "#506784",
            "gridwidth": 2,
            "linecolor": "#506784",
            "showbackground": true,
            "ticks": "",
            "zerolinecolor": "#C8D4E3"
           },
           "zaxis": {
            "backgroundcolor": "rgb(17,17,17)",
            "gridcolor": "#506784",
            "gridwidth": 2,
            "linecolor": "#506784",
            "showbackground": true,
            "ticks": "",
            "zerolinecolor": "#C8D4E3"
           }
          },
          "shapedefaults": {
           "line": {
            "color": "#f2f5fa"
           }
          },
          "sliderdefaults": {
           "bgcolor": "#C8D4E3",
           "bordercolor": "rgb(17,17,17)",
           "borderwidth": 1,
           "tickwidth": 0
          },
          "ternary": {
           "aaxis": {
            "gridcolor": "#506784",
            "linecolor": "#506784",
            "ticks": ""
           },
           "baxis": {
            "gridcolor": "#506784",
            "linecolor": "#506784",
            "ticks": ""
           },
           "bgcolor": "rgb(17,17,17)",
           "caxis": {
            "gridcolor": "#506784",
            "linecolor": "#506784",
            "ticks": ""
           }
          },
          "title": {
           "x": 0.05
          },
          "updatemenudefaults": {
           "bgcolor": "#506784",
           "borderwidth": 0
          },
          "xaxis": {
           "automargin": true,
           "gridcolor": "#283442",
           "linecolor": "#506784",
           "ticks": "",
           "title": {
            "standoff": 15
           },
           "zerolinecolor": "#283442",
           "zerolinewidth": 2
          },
          "yaxis": {
           "automargin": true,
           "gridcolor": "#283442",
           "linecolor": "#506784",
           "ticks": "",
           "title": {
            "standoff": 15
           },
           "zerolinecolor": "#283442",
           "zerolinewidth": 2
          }
         }
        },
        "title": {
         "text": "Evolution of Natural Disasters"
        },
        "updatemenus": [
         {
          "buttons": [
           {
            "args": [
             null,
             {
              "frame": {
               "duration": 500,
               "redraw": true
              },
              "fromcurrent": true,
              "mode": "immediate",
              "transition": {
               "duration": 500,
               "easing": "linear"
              }
             }
            ],
            "label": "&#9654;",
            "method": "animate"
           },
           {
            "args": [
             [
              null
             ],
             {
              "frame": {
               "duration": 0,
               "redraw": true
              },
              "fromcurrent": true,
              "mode": "immediate",
              "transition": {
               "duration": 0,
               "easing": "linear"
              }
             }
            ],
            "label": "&#9724;",
            "method": "animate"
           }
          ],
          "direction": "left",
          "pad": {
           "r": 10,
           "t": 70
          },
          "showactive": false,
          "type": "buttons",
          "x": 0.1,
          "xanchor": "right",
          "y": 0,
          "yanchor": "top"
         }
        ],
        "xaxis": {
         "anchor": "y",
         "domain": [
          0,
          1
         ],
         "range": [
          0,
          329900
         ],
         "showgrid": false,
         "title": {
          "text": "Number of Deaths"
         }
        },
        "yaxis": {
         "anchor": "x",
         "categoryarray": [
          "Wildfire",
          "Volcanic activity",
          "Mass movement (dry)",
          "Landslide",
          "Flood",
          "Extreme weather",
          "Extreme temperature",
          "Epidemic",
          "Earthquake",
          "Drought",
          "All natural disasters"
         ],
         "categoryorder": "array",
         "domain": [
          0,
          1
         ],
         "showgrid": false,
         "title": {
          "text": ""
         }
        }
       }
      },
      "text/html": [
       "<div>                            <div id=\"da973579-09a0-4f4d-ad8c-7a6f3e117779\" class=\"plotly-graph-div\" style=\"height:525px; width:100%;\"></div>            <script type=\"text/javascript\">                require([\"plotly\"], function(Plotly) {                    window.PLOTLYENV=window.PLOTLYENV || {};                                    if (document.getElementById(\"da973579-09a0-4f4d-ad8c-7a6f3e117779\")) {                    Plotly.newPlot(                        \"da973579-09a0-4f4d-ad8c-7a6f3e117779\",                        [{\"alignmentgroup\":\"True\",\"hovertemplate\":\"Entity=%{y}<br>Year=1991<br>Deaths=%{x}<extra></extra>\",\"legendgroup\":\"All natural disasters\",\"marker\":{\"color\":\"#636efa\",\"pattern\":{\"shape\":\"\"}},\"name\":\"All natural disasters\",\"offsetgroup\":\"All natural disasters\",\"orientation\":\"h\",\"showlegend\":true,\"textposition\":\"auto\",\"x\":[189707],\"xaxis\":\"x\",\"y\":[\"All natural disasters\"],\"yaxis\":\"y\",\"type\":\"bar\"},{\"alignmentgroup\":\"True\",\"hovertemplate\":\"Entity=%{y}<br>Year=1991<br>Deaths=%{x}<extra></extra>\",\"legendgroup\":\"Drought\",\"marker\":{\"color\":\"#EF553B\",\"pattern\":{\"shape\":\"\"}},\"name\":\"Drought\",\"offsetgroup\":\"Drought\",\"orientation\":\"h\",\"showlegend\":true,\"textposition\":\"auto\",\"x\":[2000],\"xaxis\":\"x\",\"y\":[\"Drought\"],\"yaxis\":\"y\",\"type\":\"bar\"},{\"alignmentgroup\":\"True\",\"hovertemplate\":\"Entity=%{y}<br>Year=1991<br>Deaths=%{x}<extra></extra>\",\"legendgroup\":\"Earthquake\",\"marker\":{\"color\":\"#00cc96\",\"pattern\":{\"shape\":\"\"}},\"name\":\"Earthquake\",\"offsetgroup\":\"Earthquake\",\"orientation\":\"h\",\"showlegend\":true,\"textposition\":\"auto\",\"x\":[2454],\"xaxis\":\"x\",\"y\":[\"Earthquake\"],\"yaxis\":\"y\",\"type\":\"bar\"},{\"alignmentgroup\":\"True\",\"hovertemplate\":\"Entity=%{y}<br>Year=1991<br>Deaths=%{x}<extra></extra>\",\"legendgroup\":\"Epidemic\",\"marker\":{\"color\":\"#ab63fa\",\"pattern\":{\"shape\":\"\"}},\"name\":\"Epidemic\",\"offsetgroup\":\"Epidemic\",\"orientation\":\"h\",\"showlegend\":true,\"textposition\":\"auto\",\"x\":[30682],\"xaxis\":\"x\",\"y\":[\"Epidemic\"],\"yaxis\":\"y\",\"type\":\"bar\"},{\"alignmentgroup\":\"True\",\"hovertemplate\":\"Entity=%{y}<br>Year=1991<br>Deaths=%{x}<extra></extra>\",\"legendgroup\":\"Extreme temperature\",\"marker\":{\"color\":\"#FFA15A\",\"pattern\":{\"shape\":\"\"}},\"name\":\"Extreme temperature\",\"offsetgroup\":\"Extreme temperature\",\"orientation\":\"h\",\"showlegend\":true,\"textposition\":\"auto\",\"x\":[835],\"xaxis\":\"x\",\"y\":[\"Extreme temperature\"],\"yaxis\":\"y\",\"type\":\"bar\"},{\"alignmentgroup\":\"True\",\"hovertemplate\":\"Entity=%{y}<br>Year=1991<br>Deaths=%{x}<extra></extra>\",\"legendgroup\":\"Extreme weather\",\"marker\":{\"color\":\"#19d3f3\",\"pattern\":{\"shape\":\"\"}},\"name\":\"Extreme weather\",\"offsetgroup\":\"Extreme weather\",\"orientation\":\"h\",\"showlegend\":true,\"textposition\":\"auto\",\"x\":[146297],\"xaxis\":\"x\",\"y\":[\"Extreme weather\"],\"yaxis\":\"y\",\"type\":\"bar\"},{\"alignmentgroup\":\"True\",\"hovertemplate\":\"Entity=%{y}<br>Year=1991<br>Deaths=%{x}<extra></extra>\",\"legendgroup\":\"Flood\",\"marker\":{\"color\":\"#FF6692\",\"pattern\":{\"shape\":\"\"}},\"name\":\"Flood\",\"offsetgroup\":\"Flood\",\"orientation\":\"h\",\"showlegend\":true,\"textposition\":\"auto\",\"x\":[5852],\"xaxis\":\"x\",\"y\":[\"Flood\"],\"yaxis\":\"y\",\"type\":\"bar\"},{\"alignmentgroup\":\"True\",\"hovertemplate\":\"Entity=%{y}<br>Year=1991<br>Deaths=%{x}<extra></extra>\",\"legendgroup\":\"Landslide\",\"marker\":{\"color\":\"#B6E880\",\"pattern\":{\"shape\":\"\"}},\"name\":\"Landslide\",\"offsetgroup\":\"Landslide\",\"orientation\":\"h\",\"showlegend\":true,\"textposition\":\"auto\",\"x\":[728],\"xaxis\":\"x\",\"y\":[\"Landslide\"],\"yaxis\":\"y\",\"type\":\"bar\"},{\"alignmentgroup\":\"True\",\"hovertemplate\":\"Entity=%{y}<br>Year=1991<br>Deaths=%{x}<extra></extra>\",\"legendgroup\":\"Mass movement (dry)\",\"marker\":{\"color\":\"#FF97FF\",\"pattern\":{\"shape\":\"\"}},\"name\":\"Mass movement (dry)\",\"offsetgroup\":\"Mass movement (dry)\",\"orientation\":\"h\",\"showlegend\":true,\"textposition\":\"auto\",\"x\":[86],\"xaxis\":\"x\",\"y\":[\"Mass movement (dry)\"],\"yaxis\":\"y\",\"type\":\"bar\"},{\"alignmentgroup\":\"True\",\"hovertemplate\":\"Entity=%{y}<br>Year=1991<br>Deaths=%{x}<extra></extra>\",\"legendgroup\":\"Volcanic activity\",\"marker\":{\"color\":\"#FECB52\",\"pattern\":{\"shape\":\"\"}},\"name\":\"Volcanic activity\",\"offsetgroup\":\"Volcanic activity\",\"orientation\":\"h\",\"showlegend\":true,\"textposition\":\"auto\",\"x\":[683],\"xaxis\":\"x\",\"y\":[\"Volcanic activity\"],\"yaxis\":\"y\",\"type\":\"bar\"},{\"alignmentgroup\":\"True\",\"hovertemplate\":\"Entity=%{y}<br>Year=1991<br>Deaths=%{x}<extra></extra>\",\"legendgroup\":\"Wildfire\",\"marker\":{\"color\":\"#636efa\",\"pattern\":{\"shape\":\"\"}},\"name\":\"Wildfire\",\"offsetgroup\":\"Wildfire\",\"orientation\":\"h\",\"showlegend\":true,\"textposition\":\"auto\",\"x\":[90],\"xaxis\":\"x\",\"y\":[\"Wildfire\"],\"yaxis\":\"y\",\"type\":\"bar\"}],                        {\"template\":{\"data\":{\"barpolar\":[{\"marker\":{\"line\":{\"color\":\"rgb(17,17,17)\",\"width\":0.5},\"pattern\":{\"fillmode\":\"overlay\",\"size\":10,\"solidity\":0.2}},\"type\":\"barpolar\"}],\"bar\":[{\"error_x\":{\"color\":\"#f2f5fa\"},\"error_y\":{\"color\":\"#f2f5fa\"},\"marker\":{\"line\":{\"color\":\"rgb(17,17,17)\",\"width\":0.5},\"pattern\":{\"fillmode\":\"overlay\",\"size\":10,\"solidity\":0.2}},\"type\":\"bar\"}],\"carpet\":[{\"aaxis\":{\"endlinecolor\":\"#A2B1C6\",\"gridcolor\":\"#506784\",\"linecolor\":\"#506784\",\"minorgridcolor\":\"#506784\",\"startlinecolor\":\"#A2B1C6\"},\"baxis\":{\"endlinecolor\":\"#A2B1C6\",\"gridcolor\":\"#506784\",\"linecolor\":\"#506784\",\"minorgridcolor\":\"#506784\",\"startlinecolor\":\"#A2B1C6\"},\"type\":\"carpet\"}],\"choropleth\":[{\"colorbar\":{\"outlinewidth\":0,\"ticks\":\"\"},\"type\":\"choropleth\"}],\"contourcarpet\":[{\"colorbar\":{\"outlinewidth\":0,\"ticks\":\"\"},\"type\":\"contourcarpet\"}],\"contour\":[{\"colorbar\":{\"outlinewidth\":0,\"ticks\":\"\"},\"colorscale\":[[0.0,\"#0d0887\"],[0.1111111111111111,\"#46039f\"],[0.2222222222222222,\"#7201a8\"],[0.3333333333333333,\"#9c179e\"],[0.4444444444444444,\"#bd3786\"],[0.5555555555555556,\"#d8576b\"],[0.6666666666666666,\"#ed7953\"],[0.7777777777777778,\"#fb9f3a\"],[0.8888888888888888,\"#fdca26\"],[1.0,\"#f0f921\"]],\"type\":\"contour\"}],\"heatmapgl\":[{\"colorbar\":{\"outlinewidth\":0,\"ticks\":\"\"},\"colorscale\":[[0.0,\"#0d0887\"],[0.1111111111111111,\"#46039f\"],[0.2222222222222222,\"#7201a8\"],[0.3333333333333333,\"#9c179e\"],[0.4444444444444444,\"#bd3786\"],[0.5555555555555556,\"#d8576b\"],[0.6666666666666666,\"#ed7953\"],[0.7777777777777778,\"#fb9f3a\"],[0.8888888888888888,\"#fdca26\"],[1.0,\"#f0f921\"]],\"type\":\"heatmapgl\"}],\"heatmap\":[{\"colorbar\":{\"outlinewidth\":0,\"ticks\":\"\"},\"colorscale\":[[0.0,\"#0d0887\"],[0.1111111111111111,\"#46039f\"],[0.2222222222222222,\"#7201a8\"],[0.3333333333333333,\"#9c179e\"],[0.4444444444444444,\"#bd3786\"],[0.5555555555555556,\"#d8576b\"],[0.6666666666666666,\"#ed7953\"],[0.7777777777777778,\"#fb9f3a\"],[0.8888888888888888,\"#fdca26\"],[1.0,\"#f0f921\"]],\"type\":\"heatmap\"}],\"histogram2dcontour\":[{\"colorbar\":{\"outlinewidth\":0,\"ticks\":\"\"},\"colorscale\":[[0.0,\"#0d0887\"],[0.1111111111111111,\"#46039f\"],[0.2222222222222222,\"#7201a8\"],[0.3333333333333333,\"#9c179e\"],[0.4444444444444444,\"#bd3786\"],[0.5555555555555556,\"#d8576b\"],[0.6666666666666666,\"#ed7953\"],[0.7777777777777778,\"#fb9f3a\"],[0.8888888888888888,\"#fdca26\"],[1.0,\"#f0f921\"]],\"type\":\"histogram2dcontour\"}],\"histogram2d\":[{\"colorbar\":{\"outlinewidth\":0,\"ticks\":\"\"},\"colorscale\":[[0.0,\"#0d0887\"],[0.1111111111111111,\"#46039f\"],[0.2222222222222222,\"#7201a8\"],[0.3333333333333333,\"#9c179e\"],[0.4444444444444444,\"#bd3786\"],[0.5555555555555556,\"#d8576b\"],[0.6666666666666666,\"#ed7953\"],[0.7777777777777778,\"#fb9f3a\"],[0.8888888888888888,\"#fdca26\"],[1.0,\"#f0f921\"]],\"type\":\"histogram2d\"}],\"histogram\":[{\"marker\":{\"pattern\":{\"fillmode\":\"overlay\",\"size\":10,\"solidity\":0.2}},\"type\":\"histogram\"}],\"mesh3d\":[{\"colorbar\":{\"outlinewidth\":0,\"ticks\":\"\"},\"type\":\"mesh3d\"}],\"parcoords\":[{\"line\":{\"colorbar\":{\"outlinewidth\":0,\"ticks\":\"\"}},\"type\":\"parcoords\"}],\"pie\":[{\"automargin\":true,\"type\":\"pie\"}],\"scatter3d\":[{\"line\":{\"colorbar\":{\"outlinewidth\":0,\"ticks\":\"\"}},\"marker\":{\"colorbar\":{\"outlinewidth\":0,\"ticks\":\"\"}},\"type\":\"scatter3d\"}],\"scattercarpet\":[{\"marker\":{\"colorbar\":{\"outlinewidth\":0,\"ticks\":\"\"}},\"type\":\"scattercarpet\"}],\"scattergeo\":[{\"marker\":{\"colorbar\":{\"outlinewidth\":0,\"ticks\":\"\"}},\"type\":\"scattergeo\"}],\"scattergl\":[{\"marker\":{\"line\":{\"color\":\"#283442\"}},\"type\":\"scattergl\"}],\"scattermapbox\":[{\"marker\":{\"colorbar\":{\"outlinewidth\":0,\"ticks\":\"\"}},\"type\":\"scattermapbox\"}],\"scatterpolargl\":[{\"marker\":{\"colorbar\":{\"outlinewidth\":0,\"ticks\":\"\"}},\"type\":\"scatterpolargl\"}],\"scatterpolar\":[{\"marker\":{\"colorbar\":{\"outlinewidth\":0,\"ticks\":\"\"}},\"type\":\"scatterpolar\"}],\"scatter\":[{\"marker\":{\"line\":{\"color\":\"#283442\"}},\"type\":\"scatter\"}],\"scatterternary\":[{\"marker\":{\"colorbar\":{\"outlinewidth\":0,\"ticks\":\"\"}},\"type\":\"scatterternary\"}],\"surface\":[{\"colorbar\":{\"outlinewidth\":0,\"ticks\":\"\"},\"colorscale\":[[0.0,\"#0d0887\"],[0.1111111111111111,\"#46039f\"],[0.2222222222222222,\"#7201a8\"],[0.3333333333333333,\"#9c179e\"],[0.4444444444444444,\"#bd3786\"],[0.5555555555555556,\"#d8576b\"],[0.6666666666666666,\"#ed7953\"],[0.7777777777777778,\"#fb9f3a\"],[0.8888888888888888,\"#fdca26\"],[1.0,\"#f0f921\"]],\"type\":\"surface\"}],\"table\":[{\"cells\":{\"fill\":{\"color\":\"#506784\"},\"line\":{\"color\":\"rgb(17,17,17)\"}},\"header\":{\"fill\":{\"color\":\"#2a3f5f\"},\"line\":{\"color\":\"rgb(17,17,17)\"}},\"type\":\"table\"}]},\"layout\":{\"annotationdefaults\":{\"arrowcolor\":\"#f2f5fa\",\"arrowhead\":0,\"arrowwidth\":1},\"autotypenumbers\":\"strict\",\"coloraxis\":{\"colorbar\":{\"outlinewidth\":0,\"ticks\":\"\"}},\"colorscale\":{\"diverging\":[[0,\"#8e0152\"],[0.1,\"#c51b7d\"],[0.2,\"#de77ae\"],[0.3,\"#f1b6da\"],[0.4,\"#fde0ef\"],[0.5,\"#f7f7f7\"],[0.6,\"#e6f5d0\"],[0.7,\"#b8e186\"],[0.8,\"#7fbc41\"],[0.9,\"#4d9221\"],[1,\"#276419\"]],\"sequential\":[[0.0,\"#0d0887\"],[0.1111111111111111,\"#46039f\"],[0.2222222222222222,\"#7201a8\"],[0.3333333333333333,\"#9c179e\"],[0.4444444444444444,\"#bd3786\"],[0.5555555555555556,\"#d8576b\"],[0.6666666666666666,\"#ed7953\"],[0.7777777777777778,\"#fb9f3a\"],[0.8888888888888888,\"#fdca26\"],[1.0,\"#f0f921\"]],\"sequentialminus\":[[0.0,\"#0d0887\"],[0.1111111111111111,\"#46039f\"],[0.2222222222222222,\"#7201a8\"],[0.3333333333333333,\"#9c179e\"],[0.4444444444444444,\"#bd3786\"],[0.5555555555555556,\"#d8576b\"],[0.6666666666666666,\"#ed7953\"],[0.7777777777777778,\"#fb9f3a\"],[0.8888888888888888,\"#fdca26\"],[1.0,\"#f0f921\"]]},\"colorway\":[\"#636efa\",\"#EF553B\",\"#00cc96\",\"#ab63fa\",\"#FFA15A\",\"#19d3f3\",\"#FF6692\",\"#B6E880\",\"#FF97FF\",\"#FECB52\"],\"font\":{\"color\":\"#f2f5fa\"},\"geo\":{\"bgcolor\":\"rgb(17,17,17)\",\"lakecolor\":\"rgb(17,17,17)\",\"landcolor\":\"rgb(17,17,17)\",\"showlakes\":true,\"showland\":true,\"subunitcolor\":\"#506784\"},\"hoverlabel\":{\"align\":\"left\"},\"hovermode\":\"closest\",\"mapbox\":{\"style\":\"dark\"},\"paper_bgcolor\":\"rgb(17,17,17)\",\"plot_bgcolor\":\"rgb(17,17,17)\",\"polar\":{\"angularaxis\":{\"gridcolor\":\"#506784\",\"linecolor\":\"#506784\",\"ticks\":\"\"},\"bgcolor\":\"rgb(17,17,17)\",\"radialaxis\":{\"gridcolor\":\"#506784\",\"linecolor\":\"#506784\",\"ticks\":\"\"}},\"scene\":{\"xaxis\":{\"backgroundcolor\":\"rgb(17,17,17)\",\"gridcolor\":\"#506784\",\"gridwidth\":2,\"linecolor\":\"#506784\",\"showbackground\":true,\"ticks\":\"\",\"zerolinecolor\":\"#C8D4E3\"},\"yaxis\":{\"backgroundcolor\":\"rgb(17,17,17)\",\"gridcolor\":\"#506784\",\"gridwidth\":2,\"linecolor\":\"#506784\",\"showbackground\":true,\"ticks\":\"\",\"zerolinecolor\":\"#C8D4E3\"},\"zaxis\":{\"backgroundcolor\":\"rgb(17,17,17)\",\"gridcolor\":\"#506784\",\"gridwidth\":2,\"linecolor\":\"#506784\",\"showbackground\":true,\"ticks\":\"\",\"zerolinecolor\":\"#C8D4E3\"}},\"shapedefaults\":{\"line\":{\"color\":\"#f2f5fa\"}},\"sliderdefaults\":{\"bgcolor\":\"#C8D4E3\",\"bordercolor\":\"rgb(17,17,17)\",\"borderwidth\":1,\"tickwidth\":0},\"ternary\":{\"aaxis\":{\"gridcolor\":\"#506784\",\"linecolor\":\"#506784\",\"ticks\":\"\"},\"baxis\":{\"gridcolor\":\"#506784\",\"linecolor\":\"#506784\",\"ticks\":\"\"},\"bgcolor\":\"rgb(17,17,17)\",\"caxis\":{\"gridcolor\":\"#506784\",\"linecolor\":\"#506784\",\"ticks\":\"\"}},\"title\":{\"x\":0.05},\"updatemenudefaults\":{\"bgcolor\":\"#506784\",\"borderwidth\":0},\"xaxis\":{\"automargin\":true,\"gridcolor\":\"#283442\",\"linecolor\":\"#506784\",\"ticks\":\"\",\"title\":{\"standoff\":15},\"zerolinecolor\":\"#283442\",\"zerolinewidth\":2},\"yaxis\":{\"automargin\":true,\"gridcolor\":\"#283442\",\"linecolor\":\"#506784\",\"ticks\":\"\",\"title\":{\"standoff\":15},\"zerolinecolor\":\"#283442\",\"zerolinewidth\":2}}},\"xaxis\":{\"anchor\":\"y\",\"domain\":[0.0,1.0],\"title\":{\"text\":\"Number of Deaths\"},\"range\":[0,329900],\"showgrid\":false},\"yaxis\":{\"anchor\":\"x\",\"domain\":[0.0,1.0],\"title\":{\"text\":\"\"},\"categoryorder\":\"array\",\"categoryarray\":[\"Wildfire\",\"Volcanic activity\",\"Mass movement (dry)\",\"Landslide\",\"Flood\",\"Extreme weather\",\"Extreme temperature\",\"Epidemic\",\"Earthquake\",\"Drought\",\"All natural disasters\"],\"showgrid\":false},\"legend\":{\"title\":{\"text\":\"Entity\"},\"tracegroupgap\":0},\"margin\":{\"t\":0,\"l\":0,\"r\":0,\"b\":0},\"barmode\":\"relative\",\"updatemenus\":[{\"buttons\":[{\"args\":[null,{\"frame\":{\"duration\":500,\"redraw\":true},\"mode\":\"immediate\",\"fromcurrent\":true,\"transition\":{\"duration\":500,\"easing\":\"linear\"}}],\"label\":\"&#9654;\",\"method\":\"animate\"},{\"args\":[[null],{\"frame\":{\"duration\":0,\"redraw\":true},\"mode\":\"immediate\",\"fromcurrent\":true,\"transition\":{\"duration\":0,\"easing\":\"linear\"}}],\"label\":\"&#9724;\",\"method\":\"animate\"}],\"direction\":\"left\",\"pad\":{\"r\":10,\"t\":70},\"showactive\":false,\"type\":\"buttons\",\"x\":0.1,\"xanchor\":\"right\",\"y\":0,\"yanchor\":\"top\"}],\"sliders\":[{\"active\":0,\"currentvalue\":{\"prefix\":\"Year=\"},\"len\":0.9,\"pad\":{\"b\":10,\"t\":60},\"steps\":[{\"args\":[[\"1991\"],{\"frame\":{\"duration\":0,\"redraw\":true},\"mode\":\"immediate\",\"fromcurrent\":true,\"transition\":{\"duration\":0,\"easing\":\"linear\"}}],\"label\":\"1991\",\"method\":\"animate\"},{\"args\":[[\"1992\"],{\"frame\":{\"duration\":0,\"redraw\":true},\"mode\":\"immediate\",\"fromcurrent\":true,\"transition\":{\"duration\":0,\"easing\":\"linear\"}}],\"label\":\"1992\",\"method\":\"animate\"},{\"args\":[[\"1993\"],{\"frame\":{\"duration\":0,\"redraw\":true},\"mode\":\"immediate\",\"fromcurrent\":true,\"transition\":{\"duration\":0,\"easing\":\"linear\"}}],\"label\":\"1993\",\"method\":\"animate\"},{\"args\":[[\"1994\"],{\"frame\":{\"duration\":0,\"redraw\":true},\"mode\":\"immediate\",\"fromcurrent\":true,\"transition\":{\"duration\":0,\"easing\":\"linear\"}}],\"label\":\"1994\",\"method\":\"animate\"},{\"args\":[[\"1995\"],{\"frame\":{\"duration\":0,\"redraw\":true},\"mode\":\"immediate\",\"fromcurrent\":true,\"transition\":{\"duration\":0,\"easing\":\"linear\"}}],\"label\":\"1995\",\"method\":\"animate\"},{\"args\":[[\"1996\"],{\"frame\":{\"duration\":0,\"redraw\":true},\"mode\":\"immediate\",\"fromcurrent\":true,\"transition\":{\"duration\":0,\"easing\":\"linear\"}}],\"label\":\"1996\",\"method\":\"animate\"},{\"args\":[[\"1997\"],{\"frame\":{\"duration\":0,\"redraw\":true},\"mode\":\"immediate\",\"fromcurrent\":true,\"transition\":{\"duration\":0,\"easing\":\"linear\"}}],\"label\":\"1997\",\"method\":\"animate\"},{\"args\":[[\"1998\"],{\"frame\":{\"duration\":0,\"redraw\":true},\"mode\":\"immediate\",\"fromcurrent\":true,\"transition\":{\"duration\":0,\"easing\":\"linear\"}}],\"label\":\"1998\",\"method\":\"animate\"},{\"args\":[[\"1999\"],{\"frame\":{\"duration\":0,\"redraw\":true},\"mode\":\"immediate\",\"fromcurrent\":true,\"transition\":{\"duration\":0,\"easing\":\"linear\"}}],\"label\":\"1999\",\"method\":\"animate\"},{\"args\":[[\"2000\"],{\"frame\":{\"duration\":0,\"redraw\":true},\"mode\":\"immediate\",\"fromcurrent\":true,\"transition\":{\"duration\":0,\"easing\":\"linear\"}}],\"label\":\"2000\",\"method\":\"animate\"},{\"args\":[[\"2001\"],{\"frame\":{\"duration\":0,\"redraw\":true},\"mode\":\"immediate\",\"fromcurrent\":true,\"transition\":{\"duration\":0,\"easing\":\"linear\"}}],\"label\":\"2001\",\"method\":\"animate\"},{\"args\":[[\"2002\"],{\"frame\":{\"duration\":0,\"redraw\":true},\"mode\":\"immediate\",\"fromcurrent\":true,\"transition\":{\"duration\":0,\"easing\":\"linear\"}}],\"label\":\"2002\",\"method\":\"animate\"},{\"args\":[[\"2003\"],{\"frame\":{\"duration\":0,\"redraw\":true},\"mode\":\"immediate\",\"fromcurrent\":true,\"transition\":{\"duration\":0,\"easing\":\"linear\"}}],\"label\":\"2003\",\"method\":\"animate\"},{\"args\":[[\"2004\"],{\"frame\":{\"duration\":0,\"redraw\":true},\"mode\":\"immediate\",\"fromcurrent\":true,\"transition\":{\"duration\":0,\"easing\":\"linear\"}}],\"label\":\"2004\",\"method\":\"animate\"},{\"args\":[[\"2005\"],{\"frame\":{\"duration\":0,\"redraw\":true},\"mode\":\"immediate\",\"fromcurrent\":true,\"transition\":{\"duration\":0,\"easing\":\"linear\"}}],\"label\":\"2005\",\"method\":\"animate\"},{\"args\":[[\"2006\"],{\"frame\":{\"duration\":0,\"redraw\":true},\"mode\":\"immediate\",\"fromcurrent\":true,\"transition\":{\"duration\":0,\"easing\":\"linear\"}}],\"label\":\"2006\",\"method\":\"animate\"},{\"args\":[[\"2007\"],{\"frame\":{\"duration\":0,\"redraw\":true},\"mode\":\"immediate\",\"fromcurrent\":true,\"transition\":{\"duration\":0,\"easing\":\"linear\"}}],\"label\":\"2007\",\"method\":\"animate\"},{\"args\":[[\"2008\"],{\"frame\":{\"duration\":0,\"redraw\":true},\"mode\":\"immediate\",\"fromcurrent\":true,\"transition\":{\"duration\":0,\"easing\":\"linear\"}}],\"label\":\"2008\",\"method\":\"animate\"},{\"args\":[[\"2009\"],{\"frame\":{\"duration\":0,\"redraw\":true},\"mode\":\"immediate\",\"fromcurrent\":true,\"transition\":{\"duration\":0,\"easing\":\"linear\"}}],\"label\":\"2009\",\"method\":\"animate\"},{\"args\":[[\"2010\"],{\"frame\":{\"duration\":0,\"redraw\":true},\"mode\":\"immediate\",\"fromcurrent\":true,\"transition\":{\"duration\":0,\"easing\":\"linear\"}}],\"label\":\"2010\",\"method\":\"animate\"},{\"args\":[[\"2011\"],{\"frame\":{\"duration\":0,\"redraw\":true},\"mode\":\"immediate\",\"fromcurrent\":true,\"transition\":{\"duration\":0,\"easing\":\"linear\"}}],\"label\":\"2011\",\"method\":\"animate\"},{\"args\":[[\"2012\"],{\"frame\":{\"duration\":0,\"redraw\":true},\"mode\":\"immediate\",\"fromcurrent\":true,\"transition\":{\"duration\":0,\"easing\":\"linear\"}}],\"label\":\"2012\",\"method\":\"animate\"},{\"args\":[[\"2013\"],{\"frame\":{\"duration\":0,\"redraw\":true},\"mode\":\"immediate\",\"fromcurrent\":true,\"transition\":{\"duration\":0,\"easing\":\"linear\"}}],\"label\":\"2013\",\"method\":\"animate\"},{\"args\":[[\"2014\"],{\"frame\":{\"duration\":0,\"redraw\":true},\"mode\":\"immediate\",\"fromcurrent\":true,\"transition\":{\"duration\":0,\"easing\":\"linear\"}}],\"label\":\"2014\",\"method\":\"animate\"},{\"args\":[[\"2015\"],{\"frame\":{\"duration\":0,\"redraw\":true},\"mode\":\"immediate\",\"fromcurrent\":true,\"transition\":{\"duration\":0,\"easing\":\"linear\"}}],\"label\":\"2015\",\"method\":\"animate\"},{\"args\":[[\"2016\"],{\"frame\":{\"duration\":0,\"redraw\":true},\"mode\":\"immediate\",\"fromcurrent\":true,\"transition\":{\"duration\":0,\"easing\":\"linear\"}}],\"label\":\"2016\",\"method\":\"animate\"},{\"args\":[[\"2017\"],{\"frame\":{\"duration\":0,\"redraw\":true},\"mode\":\"immediate\",\"fromcurrent\":true,\"transition\":{\"duration\":0,\"easing\":\"linear\"}}],\"label\":\"2017\",\"method\":\"animate\"}],\"x\":0.1,\"xanchor\":\"left\",\"y\":0,\"yanchor\":\"top\"}],\"title\":{\"text\":\"Evolution of Natural Disasters\"},\"paper_bgcolor\":\"rgba(0,0,0,0)\",\"plot_bgcolor\":\"rgba(0,0,0,0)\",\"showlegend\":false},                        {\"responsive\": true}                    ).then(function(){\n",
       "                            Plotly.addFrames('da973579-09a0-4f4d-ad8c-7a6f3e117779', [{\"data\":[{\"alignmentgroup\":\"True\",\"hovertemplate\":\"Entity=%{y}<br>Year=1991<br>Deaths=%{x}<extra></extra>\",\"legendgroup\":\"All natural disasters\",\"marker\":{\"color\":\"#636efa\",\"pattern\":{\"shape\":\"\"}},\"name\":\"All natural disasters\",\"offsetgroup\":\"All natural disasters\",\"orientation\":\"h\",\"showlegend\":true,\"textposition\":\"auto\",\"x\":[189707],\"xaxis\":\"x\",\"y\":[\"All natural disasters\"],\"yaxis\":\"y\",\"type\":\"bar\"},{\"alignmentgroup\":\"True\",\"hovertemplate\":\"Entity=%{y}<br>Year=1991<br>Deaths=%{x}<extra></extra>\",\"legendgroup\":\"Drought\",\"marker\":{\"color\":\"#EF553B\",\"pattern\":{\"shape\":\"\"}},\"name\":\"Drought\",\"offsetgroup\":\"Drought\",\"orientation\":\"h\",\"showlegend\":true,\"textposition\":\"auto\",\"x\":[2000],\"xaxis\":\"x\",\"y\":[\"Drought\"],\"yaxis\":\"y\",\"type\":\"bar\"},{\"alignmentgroup\":\"True\",\"hovertemplate\":\"Entity=%{y}<br>Year=1991<br>Deaths=%{x}<extra></extra>\",\"legendgroup\":\"Earthquake\",\"marker\":{\"color\":\"#00cc96\",\"pattern\":{\"shape\":\"\"}},\"name\":\"Earthquake\",\"offsetgroup\":\"Earthquake\",\"orientation\":\"h\",\"showlegend\":true,\"textposition\":\"auto\",\"x\":[2454],\"xaxis\":\"x\",\"y\":[\"Earthquake\"],\"yaxis\":\"y\",\"type\":\"bar\"},{\"alignmentgroup\":\"True\",\"hovertemplate\":\"Entity=%{y}<br>Year=1991<br>Deaths=%{x}<extra></extra>\",\"legendgroup\":\"Epidemic\",\"marker\":{\"color\":\"#ab63fa\",\"pattern\":{\"shape\":\"\"}},\"name\":\"Epidemic\",\"offsetgroup\":\"Epidemic\",\"orientation\":\"h\",\"showlegend\":true,\"textposition\":\"auto\",\"x\":[30682],\"xaxis\":\"x\",\"y\":[\"Epidemic\"],\"yaxis\":\"y\",\"type\":\"bar\"},{\"alignmentgroup\":\"True\",\"hovertemplate\":\"Entity=%{y}<br>Year=1991<br>Deaths=%{x}<extra></extra>\",\"legendgroup\":\"Extreme temperature\",\"marker\":{\"color\":\"#FFA15A\",\"pattern\":{\"shape\":\"\"}},\"name\":\"Extreme temperature\",\"offsetgroup\":\"Extreme temperature\",\"orientation\":\"h\",\"showlegend\":true,\"textposition\":\"auto\",\"x\":[835],\"xaxis\":\"x\",\"y\":[\"Extreme temperature\"],\"yaxis\":\"y\",\"type\":\"bar\"},{\"alignmentgroup\":\"True\",\"hovertemplate\":\"Entity=%{y}<br>Year=1991<br>Deaths=%{x}<extra></extra>\",\"legendgroup\":\"Extreme weather\",\"marker\":{\"color\":\"#19d3f3\",\"pattern\":{\"shape\":\"\"}},\"name\":\"Extreme weather\",\"offsetgroup\":\"Extreme weather\",\"orientation\":\"h\",\"showlegend\":true,\"textposition\":\"auto\",\"x\":[146297],\"xaxis\":\"x\",\"y\":[\"Extreme weather\"],\"yaxis\":\"y\",\"type\":\"bar\"},{\"alignmentgroup\":\"True\",\"hovertemplate\":\"Entity=%{y}<br>Year=1991<br>Deaths=%{x}<extra></extra>\",\"legendgroup\":\"Flood\",\"marker\":{\"color\":\"#FF6692\",\"pattern\":{\"shape\":\"\"}},\"name\":\"Flood\",\"offsetgroup\":\"Flood\",\"orientation\":\"h\",\"showlegend\":true,\"textposition\":\"auto\",\"x\":[5852],\"xaxis\":\"x\",\"y\":[\"Flood\"],\"yaxis\":\"y\",\"type\":\"bar\"},{\"alignmentgroup\":\"True\",\"hovertemplate\":\"Entity=%{y}<br>Year=1991<br>Deaths=%{x}<extra></extra>\",\"legendgroup\":\"Landslide\",\"marker\":{\"color\":\"#B6E880\",\"pattern\":{\"shape\":\"\"}},\"name\":\"Landslide\",\"offsetgroup\":\"Landslide\",\"orientation\":\"h\",\"showlegend\":true,\"textposition\":\"auto\",\"x\":[728],\"xaxis\":\"x\",\"y\":[\"Landslide\"],\"yaxis\":\"y\",\"type\":\"bar\"},{\"alignmentgroup\":\"True\",\"hovertemplate\":\"Entity=%{y}<br>Year=1991<br>Deaths=%{x}<extra></extra>\",\"legendgroup\":\"Mass movement (dry)\",\"marker\":{\"color\":\"#FF97FF\",\"pattern\":{\"shape\":\"\"}},\"name\":\"Mass movement (dry)\",\"offsetgroup\":\"Mass movement (dry)\",\"orientation\":\"h\",\"showlegend\":true,\"textposition\":\"auto\",\"x\":[86],\"xaxis\":\"x\",\"y\":[\"Mass movement (dry)\"],\"yaxis\":\"y\",\"type\":\"bar\"},{\"alignmentgroup\":\"True\",\"hovertemplate\":\"Entity=%{y}<br>Year=1991<br>Deaths=%{x}<extra></extra>\",\"legendgroup\":\"Volcanic activity\",\"marker\":{\"color\":\"#FECB52\",\"pattern\":{\"shape\":\"\"}},\"name\":\"Volcanic activity\",\"offsetgroup\":\"Volcanic activity\",\"orientation\":\"h\",\"showlegend\":true,\"textposition\":\"auto\",\"x\":[683],\"xaxis\":\"x\",\"y\":[\"Volcanic activity\"],\"yaxis\":\"y\",\"type\":\"bar\"},{\"alignmentgroup\":\"True\",\"hovertemplate\":\"Entity=%{y}<br>Year=1991<br>Deaths=%{x}<extra></extra>\",\"legendgroup\":\"Wildfire\",\"marker\":{\"color\":\"#636efa\",\"pattern\":{\"shape\":\"\"}},\"name\":\"Wildfire\",\"offsetgroup\":\"Wildfire\",\"orientation\":\"h\",\"showlegend\":true,\"textposition\":\"auto\",\"x\":[90],\"xaxis\":\"x\",\"y\":[\"Wildfire\"],\"yaxis\":\"y\",\"type\":\"bar\"}],\"name\":\"1991\"},{\"data\":[{\"alignmentgroup\":\"True\",\"hovertemplate\":\"Entity=%{y}<br>Year=1992<br>Deaths=%{x}<extra></extra>\",\"legendgroup\":\"All natural disasters\",\"marker\":{\"color\":\"#636efa\",\"pattern\":{\"shape\":\"\"}},\"name\":\"All natural disasters\",\"offsetgroup\":\"All natural disasters\",\"orientation\":\"h\",\"showlegend\":true,\"textposition\":\"auto\",\"x\":[18911],\"xaxis\":\"x\",\"y\":[\"All natural disasters\"],\"yaxis\":\"y\",\"type\":\"bar\"},{\"alignmentgroup\":\"True\",\"hovertemplate\":\"Entity=%{y}<br>Year=1992<br>Deaths=%{x}<extra></extra>\",\"legendgroup\":\"Earthquake\",\"marker\":{\"color\":\"#00cc96\",\"pattern\":{\"shape\":\"\"}},\"name\":\"Earthquake\",\"offsetgroup\":\"Earthquake\",\"orientation\":\"h\",\"showlegend\":true,\"textposition\":\"auto\",\"x\":[4033],\"xaxis\":\"x\",\"y\":[\"Earthquake\"],\"yaxis\":\"y\",\"type\":\"bar\"},{\"alignmentgroup\":\"True\",\"hovertemplate\":\"Entity=%{y}<br>Year=1992<br>Deaths=%{x}<extra></extra>\",\"legendgroup\":\"Epidemic\",\"marker\":{\"color\":\"#ab63fa\",\"pattern\":{\"shape\":\"\"}},\"name\":\"Epidemic\",\"offsetgroup\":\"Epidemic\",\"orientation\":\"h\",\"showlegend\":true,\"textposition\":\"auto\",\"x\":[6675],\"xaxis\":\"x\",\"y\":[\"Epidemic\"],\"yaxis\":\"y\",\"type\":\"bar\"},{\"alignmentgroup\":\"True\",\"hovertemplate\":\"Entity=%{y}<br>Year=1992<br>Deaths=%{x}<extra></extra>\",\"legendgroup\":\"Extreme temperature\",\"marker\":{\"color\":\"#FFA15A\",\"pattern\":{\"shape\":\"\"}},\"name\":\"Extreme temperature\",\"offsetgroup\":\"Extreme temperature\",\"orientation\":\"h\",\"showlegend\":true,\"textposition\":\"auto\",\"x\":[388],\"xaxis\":\"x\",\"y\":[\"Extreme temperature\"],\"yaxis\":\"y\",\"type\":\"bar\"},{\"alignmentgroup\":\"True\",\"hovertemplate\":\"Entity=%{y}<br>Year=1992<br>Deaths=%{x}<extra></extra>\",\"legendgroup\":\"Extreme weather\",\"marker\":{\"color\":\"#19d3f3\",\"pattern\":{\"shape\":\"\"}},\"name\":\"Extreme weather\",\"offsetgroup\":\"Extreme weather\",\"orientation\":\"h\",\"showlegend\":true,\"textposition\":\"auto\",\"x\":[1342],\"xaxis\":\"x\",\"y\":[\"Extreme weather\"],\"yaxis\":\"y\",\"type\":\"bar\"},{\"alignmentgroup\":\"True\",\"hovertemplate\":\"Entity=%{y}<br>Year=1992<br>Deaths=%{x}<extra></extra>\",\"legendgroup\":\"Flood\",\"marker\":{\"color\":\"#FF6692\",\"pattern\":{\"shape\":\"\"}},\"name\":\"Flood\",\"offsetgroup\":\"Flood\",\"orientation\":\"h\",\"showlegend\":true,\"textposition\":\"auto\",\"x\":[5315],\"xaxis\":\"x\",\"y\":[\"Flood\"],\"yaxis\":\"y\",\"type\":\"bar\"},{\"alignmentgroup\":\"True\",\"hovertemplate\":\"Entity=%{y}<br>Year=1992<br>Deaths=%{x}<extra></extra>\",\"legendgroup\":\"Landslide\",\"marker\":{\"color\":\"#B6E880\",\"pattern\":{\"shape\":\"\"}},\"name\":\"Landslide\",\"offsetgroup\":\"Landslide\",\"orientation\":\"h\",\"showlegend\":true,\"textposition\":\"auto\",\"x\":[712],\"xaxis\":\"x\",\"y\":[\"Landslide\"],\"yaxis\":\"y\",\"type\":\"bar\"},{\"alignmentgroup\":\"True\",\"hovertemplate\":\"Entity=%{y}<br>Year=1992<br>Deaths=%{x}<extra></extra>\",\"legendgroup\":\"Mass movement (dry)\",\"marker\":{\"color\":\"#FF97FF\",\"pattern\":{\"shape\":\"\"}},\"name\":\"Mass movement (dry)\",\"offsetgroup\":\"Mass movement (dry)\",\"orientation\":\"h\",\"showlegend\":true,\"textposition\":\"auto\",\"x\":[323],\"xaxis\":\"x\",\"y\":[\"Mass movement (dry)\"],\"yaxis\":\"y\",\"type\":\"bar\"},{\"alignmentgroup\":\"True\",\"hovertemplate\":\"Entity=%{y}<br>Year=1992<br>Deaths=%{x}<extra></extra>\",\"legendgroup\":\"Volcanic activity\",\"marker\":{\"color\":\"#FECB52\",\"pattern\":{\"shape\":\"\"}},\"name\":\"Volcanic activity\",\"offsetgroup\":\"Volcanic activity\",\"orientation\":\"h\",\"showlegend\":true,\"textposition\":\"auto\",\"x\":[1],\"xaxis\":\"x\",\"y\":[\"Volcanic activity\"],\"yaxis\":\"y\",\"type\":\"bar\"},{\"alignmentgroup\":\"True\",\"hovertemplate\":\"Entity=%{y}<br>Year=1992<br>Deaths=%{x}<extra></extra>\",\"legendgroup\":\"Wildfire\",\"marker\":{\"color\":\"#636efa\",\"pattern\":{\"shape\":\"\"}},\"name\":\"Wildfire\",\"offsetgroup\":\"Wildfire\",\"orientation\":\"h\",\"showlegend\":true,\"textposition\":\"auto\",\"x\":[122],\"xaxis\":\"x\",\"y\":[\"Wildfire\"],\"yaxis\":\"y\",\"type\":\"bar\"}],\"name\":\"1992\"},{\"data\":[{\"alignmentgroup\":\"True\",\"hovertemplate\":\"Entity=%{y}<br>Year=1993<br>Deaths=%{x}<extra></extra>\",\"legendgroup\":\"All natural disasters\",\"marker\":{\"color\":\"#636efa\",\"pattern\":{\"shape\":\"\"}},\"name\":\"All natural disasters\",\"offsetgroup\":\"All natural disasters\",\"orientation\":\"h\",\"showlegend\":true,\"textposition\":\"auto\",\"x\":[21821],\"xaxis\":\"x\",\"y\":[\"All natural disasters\"],\"yaxis\":\"y\",\"type\":\"bar\"},{\"alignmentgroup\":\"True\",\"hovertemplate\":\"Entity=%{y}<br>Year=1993<br>Deaths=%{x}<extra></extra>\",\"legendgroup\":\"Earthquake\",\"marker\":{\"color\":\"#00cc96\",\"pattern\":{\"shape\":\"\"}},\"name\":\"Earthquake\",\"offsetgroup\":\"Earthquake\",\"orientation\":\"h\",\"showlegend\":true,\"textposition\":\"auto\",\"x\":[10088],\"xaxis\":\"x\",\"y\":[\"Earthquake\"],\"yaxis\":\"y\",\"type\":\"bar\"},{\"alignmentgroup\":\"True\",\"hovertemplate\":\"Entity=%{y}<br>Year=1993<br>Deaths=%{x}<extra></extra>\",\"legendgroup\":\"Epidemic\",\"marker\":{\"color\":\"#ab63fa\",\"pattern\":{\"shape\":\"\"}},\"name\":\"Epidemic\",\"offsetgroup\":\"Epidemic\",\"orientation\":\"h\",\"showlegend\":true,\"textposition\":\"auto\",\"x\":[651],\"xaxis\":\"x\",\"y\":[\"Epidemic\"],\"yaxis\":\"y\",\"type\":\"bar\"},{\"alignmentgroup\":\"True\",\"hovertemplate\":\"Entity=%{y}<br>Year=1993<br>Deaths=%{x}<extra></extra>\",\"legendgroup\":\"Extreme temperature\",\"marker\":{\"color\":\"#FFA15A\",\"pattern\":{\"shape\":\"\"}},\"name\":\"Extreme temperature\",\"offsetgroup\":\"Extreme temperature\",\"orientation\":\"h\",\"showlegend\":true,\"textposition\":\"auto\",\"x\":[106],\"xaxis\":\"x\",\"y\":[\"Extreme temperature\"],\"yaxis\":\"y\",\"type\":\"bar\"},{\"alignmentgroup\":\"True\",\"hovertemplate\":\"Entity=%{y}<br>Year=1993<br>Deaths=%{x}<extra></extra>\",\"legendgroup\":\"Extreme weather\",\"marker\":{\"color\":\"#19d3f3\",\"pattern\":{\"shape\":\"\"}},\"name\":\"Extreme weather\",\"offsetgroup\":\"Extreme weather\",\"orientation\":\"h\",\"showlegend\":true,\"textposition\":\"auto\",\"x\":[2965],\"xaxis\":\"x\",\"y\":[\"Extreme weather\"],\"yaxis\":\"y\",\"type\":\"bar\"},{\"alignmentgroup\":\"True\",\"hovertemplate\":\"Entity=%{y}<br>Year=1993<br>Deaths=%{x}<extra></extra>\",\"legendgroup\":\"Flood\",\"marker\":{\"color\":\"#FF6692\",\"pattern\":{\"shape\":\"\"}},\"name\":\"Flood\",\"offsetgroup\":\"Flood\",\"orientation\":\"h\",\"showlegend\":true,\"textposition\":\"auto\",\"x\":[6150],\"xaxis\":\"x\",\"y\":[\"Flood\"],\"yaxis\":\"y\",\"type\":\"bar\"},{\"alignmentgroup\":\"True\",\"hovertemplate\":\"Entity=%{y}<br>Year=1993<br>Deaths=%{x}<extra></extra>\",\"legendgroup\":\"Landslide\",\"marker\":{\"color\":\"#B6E880\",\"pattern\":{\"shape\":\"\"}},\"name\":\"Landslide\",\"offsetgroup\":\"Landslide\",\"orientation\":\"h\",\"showlegend\":true,\"textposition\":\"auto\",\"x\":[1418],\"xaxis\":\"x\",\"y\":[\"Landslide\"],\"yaxis\":\"y\",\"type\":\"bar\"},{\"alignmentgroup\":\"True\",\"hovertemplate\":\"Entity=%{y}<br>Year=1993<br>Deaths=%{x}<extra></extra>\",\"legendgroup\":\"Mass movement (dry)\",\"marker\":{\"color\":\"#FF97FF\",\"pattern\":{\"shape\":\"\"}},\"name\":\"Mass movement (dry)\",\"offsetgroup\":\"Mass movement (dry)\",\"orientation\":\"h\",\"showlegend\":true,\"textposition\":\"auto\",\"x\":[341],\"xaxis\":\"x\",\"y\":[\"Mass movement (dry)\"],\"yaxis\":\"y\",\"type\":\"bar\"},{\"alignmentgroup\":\"True\",\"hovertemplate\":\"Entity=%{y}<br>Year=1993<br>Deaths=%{x}<extra></extra>\",\"legendgroup\":\"Volcanic activity\",\"marker\":{\"color\":\"#FECB52\",\"pattern\":{\"shape\":\"\"}},\"name\":\"Volcanic activity\",\"offsetgroup\":\"Volcanic activity\",\"orientation\":\"h\",\"showlegend\":true,\"textposition\":\"auto\",\"x\":[99],\"xaxis\":\"x\",\"y\":[\"Volcanic activity\"],\"yaxis\":\"y\",\"type\":\"bar\"},{\"alignmentgroup\":\"True\",\"hovertemplate\":\"Entity=%{y}<br>Year=1993<br>Deaths=%{x}<extra></extra>\",\"legendgroup\":\"Wildfire\",\"marker\":{\"color\":\"#636efa\",\"pattern\":{\"shape\":\"\"}},\"name\":\"Wildfire\",\"offsetgroup\":\"Wildfire\",\"orientation\":\"h\",\"showlegend\":true,\"textposition\":\"auto\",\"x\":[3],\"xaxis\":\"x\",\"y\":[\"Wildfire\"],\"yaxis\":\"y\",\"type\":\"bar\"}],\"name\":\"1993\"},{\"data\":[{\"alignmentgroup\":\"True\",\"hovertemplate\":\"Entity=%{y}<br>Year=1994<br>Deaths=%{x}<extra></extra>\",\"legendgroup\":\"All natural disasters\",\"marker\":{\"color\":\"#636efa\",\"pattern\":{\"shape\":\"\"}},\"name\":\"All natural disasters\",\"offsetgroup\":\"All natural disasters\",\"orientation\":\"h\",\"showlegend\":true,\"textposition\":\"auto\",\"x\":[15590],\"xaxis\":\"x\",\"y\":[\"All natural disasters\"],\"yaxis\":\"y\",\"type\":\"bar\"},{\"alignmentgroup\":\"True\",\"hovertemplate\":\"Entity=%{y}<br>Year=1994<br>Deaths=%{x}<extra></extra>\",\"legendgroup\":\"Earthquake\",\"marker\":{\"color\":\"#00cc96\",\"pattern\":{\"shape\":\"\"}},\"name\":\"Earthquake\",\"offsetgroup\":\"Earthquake\",\"orientation\":\"h\",\"showlegend\":true,\"textposition\":\"auto\",\"x\":[1242],\"xaxis\":\"x\",\"y\":[\"Earthquake\"],\"yaxis\":\"y\",\"type\":\"bar\"},{\"alignmentgroup\":\"True\",\"hovertemplate\":\"Entity=%{y}<br>Year=1994<br>Deaths=%{x}<extra></extra>\",\"legendgroup\":\"Epidemic\",\"marker\":{\"color\":\"#ab63fa\",\"pattern\":{\"shape\":\"\"}},\"name\":\"Epidemic\",\"offsetgroup\":\"Epidemic\",\"orientation\":\"h\",\"showlegend\":true,\"textposition\":\"auto\",\"x\":[2505],\"xaxis\":\"x\",\"y\":[\"Epidemic\"],\"yaxis\":\"y\",\"type\":\"bar\"},{\"alignmentgroup\":\"True\",\"hovertemplate\":\"Entity=%{y}<br>Year=1994<br>Deaths=%{x}<extra></extra>\",\"legendgroup\":\"Extreme temperature\",\"marker\":{\"color\":\"#FFA15A\",\"pattern\":{\"shape\":\"\"}},\"name\":\"Extreme temperature\",\"offsetgroup\":\"Extreme temperature\",\"orientation\":\"h\",\"showlegend\":true,\"textposition\":\"auto\",\"x\":[341],\"xaxis\":\"x\",\"y\":[\"Extreme temperature\"],\"yaxis\":\"y\",\"type\":\"bar\"},{\"alignmentgroup\":\"True\",\"hovertemplate\":\"Entity=%{y}<br>Year=1994<br>Deaths=%{x}<extra></extra>\",\"legendgroup\":\"Extreme weather\",\"marker\":{\"color\":\"#19d3f3\",\"pattern\":{\"shape\":\"\"}},\"name\":\"Extreme weather\",\"offsetgroup\":\"Extreme weather\",\"orientation\":\"h\",\"showlegend\":true,\"textposition\":\"auto\",\"x\":[4239],\"xaxis\":\"x\",\"y\":[\"Extreme weather\"],\"yaxis\":\"y\",\"type\":\"bar\"},{\"alignmentgroup\":\"True\",\"hovertemplate\":\"Entity=%{y}<br>Year=1994<br>Deaths=%{x}<extra></extra>\",\"legendgroup\":\"Flood\",\"marker\":{\"color\":\"#FF6692\",\"pattern\":{\"shape\":\"\"}},\"name\":\"Flood\",\"offsetgroup\":\"Flood\",\"orientation\":\"h\",\"showlegend\":true,\"textposition\":\"auto\",\"x\":[6771],\"xaxis\":\"x\",\"y\":[\"Flood\"],\"yaxis\":\"y\",\"type\":\"bar\"},{\"alignmentgroup\":\"True\",\"hovertemplate\":\"Entity=%{y}<br>Year=1994<br>Deaths=%{x}<extra></extra>\",\"legendgroup\":\"Landslide\",\"marker\":{\"color\":\"#B6E880\",\"pattern\":{\"shape\":\"\"}},\"name\":\"Landslide\",\"offsetgroup\":\"Landslide\",\"orientation\":\"h\",\"showlegend\":true,\"textposition\":\"auto\",\"x\":[307],\"xaxis\":\"x\",\"y\":[\"Landslide\"],\"yaxis\":\"y\",\"type\":\"bar\"},{\"alignmentgroup\":\"True\",\"hovertemplate\":\"Entity=%{y}<br>Year=1994<br>Deaths=%{x}<extra></extra>\",\"legendgroup\":\"Volcanic activity\",\"marker\":{\"color\":\"#FECB52\",\"pattern\":{\"shape\":\"\"}},\"name\":\"Volcanic activity\",\"offsetgroup\":\"Volcanic activity\",\"orientation\":\"h\",\"showlegend\":true,\"textposition\":\"auto\",\"x\":[101],\"xaxis\":\"x\",\"y\":[\"Volcanic activity\"],\"yaxis\":\"y\",\"type\":\"bar\"},{\"alignmentgroup\":\"True\",\"hovertemplate\":\"Entity=%{y}<br>Year=1994<br>Deaths=%{x}<extra></extra>\",\"legendgroup\":\"Wildfire\",\"marker\":{\"color\":\"#636efa\",\"pattern\":{\"shape\":\"\"}},\"name\":\"Wildfire\",\"offsetgroup\":\"Wildfire\",\"orientation\":\"h\",\"showlegend\":true,\"textposition\":\"auto\",\"x\":[84],\"xaxis\":\"x\",\"y\":[\"Wildfire\"],\"yaxis\":\"y\",\"type\":\"bar\"}],\"name\":\"1994\"},{\"data\":[{\"alignmentgroup\":\"True\",\"hovertemplate\":\"Entity=%{y}<br>Year=1995<br>Deaths=%{x}<extra></extra>\",\"legendgroup\":\"All natural disasters\",\"marker\":{\"color\":\"#636efa\",\"pattern\":{\"shape\":\"\"}},\"name\":\"All natural disasters\",\"offsetgroup\":\"All natural disasters\",\"orientation\":\"h\",\"showlegend\":true,\"textposition\":\"auto\",\"x\":[27166],\"xaxis\":\"x\",\"y\":[\"All natural disasters\"],\"yaxis\":\"y\",\"type\":\"bar\"},{\"alignmentgroup\":\"True\",\"hovertemplate\":\"Entity=%{y}<br>Year=1995<br>Deaths=%{x}<extra></extra>\",\"legendgroup\":\"Earthquake\",\"marker\":{\"color\":\"#00cc96\",\"pattern\":{\"shape\":\"\"}},\"name\":\"Earthquake\",\"offsetgroup\":\"Earthquake\",\"orientation\":\"h\",\"showlegend\":true,\"textposition\":\"auto\",\"x\":[7739],\"xaxis\":\"x\",\"y\":[\"Earthquake\"],\"yaxis\":\"y\",\"type\":\"bar\"},{\"alignmentgroup\":\"True\",\"hovertemplate\":\"Entity=%{y}<br>Year=1995<br>Deaths=%{x}<extra></extra>\",\"legendgroup\":\"Epidemic\",\"marker\":{\"color\":\"#ab63fa\",\"pattern\":{\"shape\":\"\"}},\"name\":\"Epidemic\",\"offsetgroup\":\"Epidemic\",\"orientation\":\"h\",\"showlegend\":true,\"textposition\":\"auto\",\"x\":[4428],\"xaxis\":\"x\",\"y\":[\"Epidemic\"],\"yaxis\":\"y\",\"type\":\"bar\"},{\"alignmentgroup\":\"True\",\"hovertemplate\":\"Entity=%{y}<br>Year=1995<br>Deaths=%{x}<extra></extra>\",\"legendgroup\":\"Extreme temperature\",\"marker\":{\"color\":\"#FFA15A\",\"pattern\":{\"shape\":\"\"}},\"name\":\"Extreme temperature\",\"offsetgroup\":\"Extreme temperature\",\"orientation\":\"h\",\"showlegend\":true,\"textposition\":\"auto\",\"x\":[1730],\"xaxis\":\"x\",\"y\":[\"Extreme temperature\"],\"yaxis\":\"y\",\"type\":\"bar\"},{\"alignmentgroup\":\"True\",\"hovertemplate\":\"Entity=%{y}<br>Year=1995<br>Deaths=%{x}<extra></extra>\",\"legendgroup\":\"Extreme weather\",\"marker\":{\"color\":\"#19d3f3\",\"pattern\":{\"shape\":\"\"}},\"name\":\"Extreme weather\",\"offsetgroup\":\"Extreme weather\",\"orientation\":\"h\",\"showlegend\":true,\"textposition\":\"auto\",\"x\":[3763],\"xaxis\":\"x\",\"y\":[\"Extreme weather\"],\"yaxis\":\"y\",\"type\":\"bar\"},{\"alignmentgroup\":\"True\",\"hovertemplate\":\"Entity=%{y}<br>Year=1995<br>Deaths=%{x}<extra></extra>\",\"legendgroup\":\"Flood\",\"marker\":{\"color\":\"#FF6692\",\"pattern\":{\"shape\":\"\"}},\"name\":\"Flood\",\"offsetgroup\":\"Flood\",\"orientation\":\"h\",\"showlegend\":true,\"textposition\":\"auto\",\"x\":[7956],\"xaxis\":\"x\",\"y\":[\"Flood\"],\"yaxis\":\"y\",\"type\":\"bar\"},{\"alignmentgroup\":\"True\",\"hovertemplate\":\"Entity=%{y}<br>Year=1995<br>Deaths=%{x}<extra></extra>\",\"legendgroup\":\"Landslide\",\"marker\":{\"color\":\"#B6E880\",\"pattern\":{\"shape\":\"\"}},\"name\":\"Landslide\",\"offsetgroup\":\"Landslide\",\"orientation\":\"h\",\"showlegend\":true,\"textposition\":\"auto\",\"x\":[1521],\"xaxis\":\"x\",\"y\":[\"Landslide\"],\"yaxis\":\"y\",\"type\":\"bar\"},{\"alignmentgroup\":\"True\",\"hovertemplate\":\"Entity=%{y}<br>Year=1995<br>Deaths=%{x}<extra></extra>\",\"legendgroup\":\"Wildfire\",\"marker\":{\"color\":\"#636efa\",\"pattern\":{\"shape\":\"\"}},\"name\":\"Wildfire\",\"offsetgroup\":\"Wildfire\",\"orientation\":\"h\",\"showlegend\":true,\"textposition\":\"auto\",\"x\":[29],\"xaxis\":\"x\",\"y\":[\"Wildfire\"],\"yaxis\":\"y\",\"type\":\"bar\"}],\"name\":\"1995\"},{\"data\":[{\"alignmentgroup\":\"True\",\"hovertemplate\":\"Entity=%{y}<br>Year=1996<br>Deaths=%{x}<extra></extra>\",\"legendgroup\":\"All natural disasters\",\"marker\":{\"color\":\"#636efa\",\"pattern\":{\"shape\":\"\"}},\"name\":\"All natural disasters\",\"offsetgroup\":\"All natural disasters\",\"orientation\":\"h\",\"showlegend\":true,\"textposition\":\"auto\",\"x\":[31595],\"xaxis\":\"x\",\"y\":[\"All natural disasters\"],\"yaxis\":\"y\",\"type\":\"bar\"},{\"alignmentgroup\":\"True\",\"hovertemplate\":\"Entity=%{y}<br>Year=1996<br>Deaths=%{x}<extra></extra>\",\"legendgroup\":\"Earthquake\",\"marker\":{\"color\":\"#00cc96\",\"pattern\":{\"shape\":\"\"}},\"name\":\"Earthquake\",\"offsetgroup\":\"Earthquake\",\"orientation\":\"h\",\"showlegend\":true,\"textposition\":\"auto\",\"x\":[576],\"xaxis\":\"x\",\"y\":[\"Earthquake\"],\"yaxis\":\"y\",\"type\":\"bar\"},{\"alignmentgroup\":\"True\",\"hovertemplate\":\"Entity=%{y}<br>Year=1996<br>Deaths=%{x}<extra></extra>\",\"legendgroup\":\"Epidemic\",\"marker\":{\"color\":\"#ab63fa\",\"pattern\":{\"shape\":\"\"}},\"name\":\"Epidemic\",\"offsetgroup\":\"Epidemic\",\"orientation\":\"h\",\"showlegend\":true,\"textposition\":\"auto\",\"x\":[16887],\"xaxis\":\"x\",\"y\":[\"Epidemic\"],\"yaxis\":\"y\",\"type\":\"bar\"},{\"alignmentgroup\":\"True\",\"hovertemplate\":\"Entity=%{y}<br>Year=1996<br>Deaths=%{x}<extra></extra>\",\"legendgroup\":\"Extreme temperature\",\"marker\":{\"color\":\"#FFA15A\",\"pattern\":{\"shape\":\"\"}},\"name\":\"Extreme temperature\",\"offsetgroup\":\"Extreme temperature\",\"orientation\":\"h\",\"showlegend\":true,\"textposition\":\"auto\",\"x\":[300],\"xaxis\":\"x\",\"y\":[\"Extreme temperature\"],\"yaxis\":\"y\",\"type\":\"bar\"},{\"alignmentgroup\":\"True\",\"hovertemplate\":\"Entity=%{y}<br>Year=1996<br>Deaths=%{x}<extra></extra>\",\"legendgroup\":\"Extreme weather\",\"marker\":{\"color\":\"#19d3f3\",\"pattern\":{\"shape\":\"\"}},\"name\":\"Extreme weather\",\"offsetgroup\":\"Extreme weather\",\"orientation\":\"h\",\"showlegend\":true,\"textposition\":\"auto\",\"x\":[4581],\"xaxis\":\"x\",\"y\":[\"Extreme weather\"],\"yaxis\":\"y\",\"type\":\"bar\"},{\"alignmentgroup\":\"True\",\"hovertemplate\":\"Entity=%{y}<br>Year=1996<br>Deaths=%{x}<extra></extra>\",\"legendgroup\":\"Flood\",\"marker\":{\"color\":\"#FF6692\",\"pattern\":{\"shape\":\"\"}},\"name\":\"Flood\",\"offsetgroup\":\"Flood\",\"orientation\":\"h\",\"showlegend\":true,\"textposition\":\"auto\",\"x\":[8047],\"xaxis\":\"x\",\"y\":[\"Flood\"],\"yaxis\":\"y\",\"type\":\"bar\"},{\"alignmentgroup\":\"True\",\"hovertemplate\":\"Entity=%{y}<br>Year=1996<br>Deaths=%{x}<extra></extra>\",\"legendgroup\":\"Landslide\",\"marker\":{\"color\":\"#B6E880\",\"pattern\":{\"shape\":\"\"}},\"name\":\"Landslide\",\"offsetgroup\":\"Landslide\",\"orientation\":\"h\",\"showlegend\":true,\"textposition\":\"auto\",\"x\":[1155],\"xaxis\":\"x\",\"y\":[\"Landslide\"],\"yaxis\":\"y\",\"type\":\"bar\"},{\"alignmentgroup\":\"True\",\"hovertemplate\":\"Entity=%{y}<br>Year=1996<br>Deaths=%{x}<extra></extra>\",\"legendgroup\":\"Volcanic activity\",\"marker\":{\"color\":\"#FECB52\",\"pattern\":{\"shape\":\"\"}},\"name\":\"Volcanic activity\",\"offsetgroup\":\"Volcanic activity\",\"orientation\":\"h\",\"showlegend\":true,\"textposition\":\"auto\",\"x\":[4],\"xaxis\":\"x\",\"y\":[\"Volcanic activity\"],\"yaxis\":\"y\",\"type\":\"bar\"},{\"alignmentgroup\":\"True\",\"hovertemplate\":\"Entity=%{y}<br>Year=1996<br>Deaths=%{x}<extra></extra>\",\"legendgroup\":\"Wildfire\",\"marker\":{\"color\":\"#636efa\",\"pattern\":{\"shape\":\"\"}},\"name\":\"Wildfire\",\"offsetgroup\":\"Wildfire\",\"orientation\":\"h\",\"showlegend\":true,\"textposition\":\"auto\",\"x\":[45],\"xaxis\":\"x\",\"y\":[\"Wildfire\"],\"yaxis\":\"y\",\"type\":\"bar\"}],\"name\":\"1996\"},{\"data\":[{\"alignmentgroup\":\"True\",\"hovertemplate\":\"Entity=%{y}<br>Year=1997<br>Deaths=%{x}<extra></extra>\",\"legendgroup\":\"All natural disasters\",\"marker\":{\"color\":\"#636efa\",\"pattern\":{\"shape\":\"\"}},\"name\":\"All natural disasters\",\"offsetgroup\":\"All natural disasters\",\"orientation\":\"h\",\"showlegend\":true,\"textposition\":\"auto\",\"x\":[30124],\"xaxis\":\"x\",\"y\":[\"All natural disasters\"],\"yaxis\":\"y\",\"type\":\"bar\"},{\"alignmentgroup\":\"True\",\"hovertemplate\":\"Entity=%{y}<br>Year=1997<br>Deaths=%{x}<extra></extra>\",\"legendgroup\":\"Drought\",\"marker\":{\"color\":\"#EF553B\",\"pattern\":{\"shape\":\"\"}},\"name\":\"Drought\",\"offsetgroup\":\"Drought\",\"orientation\":\"h\",\"showlegend\":true,\"textposition\":\"auto\",\"x\":[732],\"xaxis\":\"x\",\"y\":[\"Drought\"],\"yaxis\":\"y\",\"type\":\"bar\"},{\"alignmentgroup\":\"True\",\"hovertemplate\":\"Entity=%{y}<br>Year=1997<br>Deaths=%{x}<extra></extra>\",\"legendgroup\":\"Earthquake\",\"marker\":{\"color\":\"#00cc96\",\"pattern\":{\"shape\":\"\"}},\"name\":\"Earthquake\",\"offsetgroup\":\"Earthquake\",\"orientation\":\"h\",\"showlegend\":true,\"textposition\":\"auto\",\"x\":[3159],\"xaxis\":\"x\",\"y\":[\"Earthquake\"],\"yaxis\":\"y\",\"type\":\"bar\"},{\"alignmentgroup\":\"True\",\"hovertemplate\":\"Entity=%{y}<br>Year=1997<br>Deaths=%{x}<extra></extra>\",\"legendgroup\":\"Epidemic\",\"marker\":{\"color\":\"#ab63fa\",\"pattern\":{\"shape\":\"\"}},\"name\":\"Epidemic\",\"offsetgroup\":\"Epidemic\",\"orientation\":\"h\",\"showlegend\":true,\"textposition\":\"auto\",\"x\":[10674],\"xaxis\":\"x\",\"y\":[\"Epidemic\"],\"yaxis\":\"y\",\"type\":\"bar\"},{\"alignmentgroup\":\"True\",\"hovertemplate\":\"Entity=%{y}<br>Year=1997<br>Deaths=%{x}<extra></extra>\",\"legendgroup\":\"Extreme temperature\",\"marker\":{\"color\":\"#FFA15A\",\"pattern\":{\"shape\":\"\"}},\"name\":\"Extreme temperature\",\"offsetgroup\":\"Extreme temperature\",\"orientation\":\"h\",\"showlegend\":true,\"textposition\":\"auto\",\"x\":[604],\"xaxis\":\"x\",\"y\":[\"Extreme temperature\"],\"yaxis\":\"y\",\"type\":\"bar\"},{\"alignmentgroup\":\"True\",\"hovertemplate\":\"Entity=%{y}<br>Year=1997<br>Deaths=%{x}<extra></extra>\",\"legendgroup\":\"Extreme weather\",\"marker\":{\"color\":\"#19d3f3\",\"pattern\":{\"shape\":\"\"}},\"name\":\"Extreme weather\",\"offsetgroup\":\"Extreme weather\",\"orientation\":\"h\",\"showlegend\":true,\"textposition\":\"auto\",\"x\":[6150],\"xaxis\":\"x\",\"y\":[\"Extreme weather\"],\"yaxis\":\"y\",\"type\":\"bar\"},{\"alignmentgroup\":\"True\",\"hovertemplate\":\"Entity=%{y}<br>Year=1997<br>Deaths=%{x}<extra></extra>\",\"legendgroup\":\"Flood\",\"marker\":{\"color\":\"#FF6692\",\"pattern\":{\"shape\":\"\"}},\"name\":\"Flood\",\"offsetgroup\":\"Flood\",\"orientation\":\"h\",\"showlegend\":true,\"textposition\":\"auto\",\"x\":[7685],\"xaxis\":\"x\",\"y\":[\"Flood\"],\"yaxis\":\"y\",\"type\":\"bar\"},{\"alignmentgroup\":\"True\",\"hovertemplate\":\"Entity=%{y}<br>Year=1997<br>Deaths=%{x}<extra></extra>\",\"legendgroup\":\"Landslide\",\"marker\":{\"color\":\"#B6E880\",\"pattern\":{\"shape\":\"\"}},\"name\":\"Landslide\",\"offsetgroup\":\"Landslide\",\"orientation\":\"h\",\"showlegend\":true,\"textposition\":\"auto\",\"x\":[801],\"xaxis\":\"x\",\"y\":[\"Landslide\"],\"yaxis\":\"y\",\"type\":\"bar\"},{\"alignmentgroup\":\"True\",\"hovertemplate\":\"Entity=%{y}<br>Year=1997<br>Deaths=%{x}<extra></extra>\",\"legendgroup\":\"Volcanic activity\",\"marker\":{\"color\":\"#FECB52\",\"pattern\":{\"shape\":\"\"}},\"name\":\"Volcanic activity\",\"offsetgroup\":\"Volcanic activity\",\"orientation\":\"h\",\"showlegend\":true,\"textposition\":\"auto\",\"x\":[53],\"xaxis\":\"x\",\"y\":[\"Volcanic activity\"],\"yaxis\":\"y\",\"type\":\"bar\"},{\"alignmentgroup\":\"True\",\"hovertemplate\":\"Entity=%{y}<br>Year=1997<br>Deaths=%{x}<extra></extra>\",\"legendgroup\":\"Wildfire\",\"marker\":{\"color\":\"#636efa\",\"pattern\":{\"shape\":\"\"}},\"name\":\"Wildfire\",\"offsetgroup\":\"Wildfire\",\"orientation\":\"h\",\"showlegend\":true,\"textposition\":\"auto\",\"x\":[266],\"xaxis\":\"x\",\"y\":[\"Wildfire\"],\"yaxis\":\"y\",\"type\":\"bar\"}],\"name\":\"1997\"},{\"data\":[{\"alignmentgroup\":\"True\",\"hovertemplate\":\"Entity=%{y}<br>Year=1998<br>Deaths=%{x}<extra></extra>\",\"legendgroup\":\"All natural disasters\",\"marker\":{\"color\":\"#636efa\",\"pattern\":{\"shape\":\"\"}},\"name\":\"All natural disasters\",\"offsetgroup\":\"All natural disasters\",\"orientation\":\"h\",\"showlegend\":true,\"textposition\":\"auto\",\"x\":[62672],\"xaxis\":\"x\",\"y\":[\"All natural disasters\"],\"yaxis\":\"y\",\"type\":\"bar\"},{\"alignmentgroup\":\"True\",\"hovertemplate\":\"Entity=%{y}<br>Year=1998<br>Deaths=%{x}<extra></extra>\",\"legendgroup\":\"Drought\",\"marker\":{\"color\":\"#EF553B\",\"pattern\":{\"shape\":\"\"}},\"name\":\"Drought\",\"offsetgroup\":\"Drought\",\"orientation\":\"h\",\"showlegend\":true,\"textposition\":\"auto\",\"x\":[20],\"xaxis\":\"x\",\"y\":[\"Drought\"],\"yaxis\":\"y\",\"type\":\"bar\"},{\"alignmentgroup\":\"True\",\"hovertemplate\":\"Entity=%{y}<br>Year=1998<br>Deaths=%{x}<extra></extra>\",\"legendgroup\":\"Earthquake\",\"marker\":{\"color\":\"#00cc96\",\"pattern\":{\"shape\":\"\"}},\"name\":\"Earthquake\",\"offsetgroup\":\"Earthquake\",\"orientation\":\"h\",\"showlegend\":true,\"textposition\":\"auto\",\"x\":[9573],\"xaxis\":\"x\",\"y\":[\"Earthquake\"],\"yaxis\":\"y\",\"type\":\"bar\"},{\"alignmentgroup\":\"True\",\"hovertemplate\":\"Entity=%{y}<br>Year=1998<br>Deaths=%{x}<extra></extra>\",\"legendgroup\":\"Epidemic\",\"marker\":{\"color\":\"#ab63fa\",\"pattern\":{\"shape\":\"\"}},\"name\":\"Epidemic\",\"offsetgroup\":\"Epidemic\",\"orientation\":\"h\",\"showlegend\":true,\"textposition\":\"auto\",\"x\":[12931],\"xaxis\":\"x\",\"y\":[\"Epidemic\"],\"yaxis\":\"y\",\"type\":\"bar\"},{\"alignmentgroup\":\"True\",\"hovertemplate\":\"Entity=%{y}<br>Year=1998<br>Deaths=%{x}<extra></extra>\",\"legendgroup\":\"Extreme temperature\",\"marker\":{\"color\":\"#FFA15A\",\"pattern\":{\"shape\":\"\"}},\"name\":\"Extreme temperature\",\"offsetgroup\":\"Extreme temperature\",\"orientation\":\"h\",\"showlegend\":true,\"textposition\":\"auto\",\"x\":[3269],\"xaxis\":\"x\",\"y\":[\"Extreme temperature\"],\"yaxis\":\"y\",\"type\":\"bar\"},{\"alignmentgroup\":\"True\",\"hovertemplate\":\"Entity=%{y}<br>Year=1998<br>Deaths=%{x}<extra></extra>\",\"legendgroup\":\"Extreme weather\",\"marker\":{\"color\":\"#19d3f3\",\"pattern\":{\"shape\":\"\"}},\"name\":\"Extreme weather\",\"offsetgroup\":\"Extreme weather\",\"orientation\":\"h\",\"showlegend\":true,\"textposition\":\"auto\",\"x\":[24935],\"xaxis\":\"x\",\"y\":[\"Extreme weather\"],\"yaxis\":\"y\",\"type\":\"bar\"},{\"alignmentgroup\":\"True\",\"hovertemplate\":\"Entity=%{y}<br>Year=1998<br>Deaths=%{x}<extra></extra>\",\"legendgroup\":\"Flood\",\"marker\":{\"color\":\"#FF6692\",\"pattern\":{\"shape\":\"\"}},\"name\":\"Flood\",\"offsetgroup\":\"Flood\",\"orientation\":\"h\",\"showlegend\":true,\"textposition\":\"auto\",\"x\":[10653],\"xaxis\":\"x\",\"y\":[\"Flood\"],\"yaxis\":\"y\",\"type\":\"bar\"},{\"alignmentgroup\":\"True\",\"hovertemplate\":\"Entity=%{y}<br>Year=1998<br>Deaths=%{x}<extra></extra>\",\"legendgroup\":\"Landslide\",\"marker\":{\"color\":\"#B6E880\",\"pattern\":{\"shape\":\"\"}},\"name\":\"Landslide\",\"offsetgroup\":\"Landslide\",\"orientation\":\"h\",\"showlegend\":true,\"textposition\":\"auto\",\"x\":[1141],\"xaxis\":\"x\",\"y\":[\"Landslide\"],\"yaxis\":\"y\",\"type\":\"bar\"},{\"alignmentgroup\":\"True\",\"hovertemplate\":\"Entity=%{y}<br>Year=1998<br>Deaths=%{x}<extra></extra>\",\"legendgroup\":\"Wildfire\",\"marker\":{\"color\":\"#636efa\",\"pattern\":{\"shape\":\"\"}},\"name\":\"Wildfire\",\"offsetgroup\":\"Wildfire\",\"orientation\":\"h\",\"showlegend\":true,\"textposition\":\"auto\",\"x\":[150],\"xaxis\":\"x\",\"y\":[\"Wildfire\"],\"yaxis\":\"y\",\"type\":\"bar\"}],\"name\":\"1998\"},{\"data\":[{\"alignmentgroup\":\"True\",\"hovertemplate\":\"Entity=%{y}<br>Year=1999<br>Deaths=%{x}<extra></extra>\",\"legendgroup\":\"All natural disasters\",\"marker\":{\"color\":\"#636efa\",\"pattern\":{\"shape\":\"\"}},\"name\":\"All natural disasters\",\"offsetgroup\":\"All natural disasters\",\"orientation\":\"h\",\"showlegend\":true,\"textposition\":\"auto\",\"x\":[76886],\"xaxis\":\"x\",\"y\":[\"All natural disasters\"],\"yaxis\":\"y\",\"type\":\"bar\"},{\"alignmentgroup\":\"True\",\"hovertemplate\":\"Entity=%{y}<br>Year=1999<br>Deaths=%{x}<extra></extra>\",\"legendgroup\":\"Drought\",\"marker\":{\"color\":\"#EF553B\",\"pattern\":{\"shape\":\"\"}},\"name\":\"Drought\",\"offsetgroup\":\"Drought\",\"orientation\":\"h\",\"showlegend\":true,\"textposition\":\"auto\",\"x\":[361],\"xaxis\":\"x\",\"y\":[\"Drought\"],\"yaxis\":\"y\",\"type\":\"bar\"},{\"alignmentgroup\":\"True\",\"hovertemplate\":\"Entity=%{y}<br>Year=1999<br>Deaths=%{x}<extra></extra>\",\"legendgroup\":\"Earthquake\",\"marker\":{\"color\":\"#00cc96\",\"pattern\":{\"shape\":\"\"}},\"name\":\"Earthquake\",\"offsetgroup\":\"Earthquake\",\"orientation\":\"h\",\"showlegend\":true,\"textposition\":\"auto\",\"x\":[21869],\"xaxis\":\"x\",\"y\":[\"Earthquake\"],\"yaxis\":\"y\",\"type\":\"bar\"},{\"alignmentgroup\":\"True\",\"hovertemplate\":\"Entity=%{y}<br>Year=1999<br>Deaths=%{x}<extra></extra>\",\"legendgroup\":\"Epidemic\",\"marker\":{\"color\":\"#ab63fa\",\"pattern\":{\"shape\":\"\"}},\"name\":\"Epidemic\",\"offsetgroup\":\"Epidemic\",\"orientation\":\"h\",\"showlegend\":true,\"textposition\":\"auto\",\"x\":[6293],\"xaxis\":\"x\",\"y\":[\"Epidemic\"],\"yaxis\":\"y\",\"type\":\"bar\"},{\"alignmentgroup\":\"True\",\"hovertemplate\":\"Entity=%{y}<br>Year=1999<br>Deaths=%{x}<extra></extra>\",\"legendgroup\":\"Extreme temperature\",\"marker\":{\"color\":\"#FFA15A\",\"pattern\":{\"shape\":\"\"}},\"name\":\"Extreme temperature\",\"offsetgroup\":\"Extreme temperature\",\"orientation\":\"h\",\"showlegend\":true,\"textposition\":\"auto\",\"x\":[771],\"xaxis\":\"x\",\"y\":[\"Extreme temperature\"],\"yaxis\":\"y\",\"type\":\"bar\"},{\"alignmentgroup\":\"True\",\"hovertemplate\":\"Entity=%{y}<br>Year=1999<br>Deaths=%{x}<extra></extra>\",\"legendgroup\":\"Extreme weather\",\"marker\":{\"color\":\"#19d3f3\",\"pattern\":{\"shape\":\"\"}},\"name\":\"Extreme weather\",\"offsetgroup\":\"Extreme weather\",\"orientation\":\"h\",\"showlegend\":true,\"textposition\":\"auto\",\"x\":[12270],\"xaxis\":\"x\",\"y\":[\"Extreme weather\"],\"yaxis\":\"y\",\"type\":\"bar\"},{\"alignmentgroup\":\"True\",\"hovertemplate\":\"Entity=%{y}<br>Year=1999<br>Deaths=%{x}<extra></extra>\",\"legendgroup\":\"Flood\",\"marker\":{\"color\":\"#FF6692\",\"pattern\":{\"shape\":\"\"}},\"name\":\"Flood\",\"offsetgroup\":\"Flood\",\"orientation\":\"h\",\"showlegend\":true,\"textposition\":\"auto\",\"x\":[34807],\"xaxis\":\"x\",\"y\":[\"Flood\"],\"yaxis\":\"y\",\"type\":\"bar\"},{\"alignmentgroup\":\"True\",\"hovertemplate\":\"Entity=%{y}<br>Year=1999<br>Deaths=%{x}<extra></extra>\",\"legendgroup\":\"Landslide\",\"marker\":{\"color\":\"#B6E880\",\"pattern\":{\"shape\":\"\"}},\"name\":\"Landslide\",\"offsetgroup\":\"Landslide\",\"orientation\":\"h\",\"showlegend\":true,\"textposition\":\"auto\",\"x\":[445],\"xaxis\":\"x\",\"y\":[\"Landslide\"],\"yaxis\":\"y\",\"type\":\"bar\"},{\"alignmentgroup\":\"True\",\"hovertemplate\":\"Entity=%{y}<br>Year=1999<br>Deaths=%{x}<extra></extra>\",\"legendgroup\":\"Wildfire\",\"marker\":{\"color\":\"#636efa\",\"pattern\":{\"shape\":\"\"}},\"name\":\"Wildfire\",\"offsetgroup\":\"Wildfire\",\"orientation\":\"h\",\"showlegend\":true,\"textposition\":\"auto\",\"x\":[70],\"xaxis\":\"x\",\"y\":[\"Wildfire\"],\"yaxis\":\"y\",\"type\":\"bar\"}],\"name\":\"1999\"},{\"data\":[{\"alignmentgroup\":\"True\",\"hovertemplate\":\"Entity=%{y}<br>Year=2000<br>Deaths=%{x}<extra></extra>\",\"legendgroup\":\"All natural disasters\",\"marker\":{\"color\":\"#636efa\",\"pattern\":{\"shape\":\"\"}},\"name\":\"All natural disasters\",\"offsetgroup\":\"All natural disasters\",\"orientation\":\"h\",\"showlegend\":true,\"textposition\":\"auto\",\"x\":[16667],\"xaxis\":\"x\",\"y\":[\"All natural disasters\"],\"yaxis\":\"y\",\"type\":\"bar\"},{\"alignmentgroup\":\"True\",\"hovertemplate\":\"Entity=%{y}<br>Year=2000<br>Deaths=%{x}<extra></extra>\",\"legendgroup\":\"Drought\",\"marker\":{\"color\":\"#EF553B\",\"pattern\":{\"shape\":\"\"}},\"name\":\"Drought\",\"offsetgroup\":\"Drought\",\"orientation\":\"h\",\"showlegend\":true,\"textposition\":\"auto\",\"x\":[80],\"xaxis\":\"x\",\"y\":[\"Drought\"],\"yaxis\":\"y\",\"type\":\"bar\"},{\"alignmentgroup\":\"True\",\"hovertemplate\":\"Entity=%{y}<br>Year=2000<br>Deaths=%{x}<extra></extra>\",\"legendgroup\":\"Earthquake\",\"marker\":{\"color\":\"#00cc96\",\"pattern\":{\"shape\":\"\"}},\"name\":\"Earthquake\",\"offsetgroup\":\"Earthquake\",\"orientation\":\"h\",\"showlegend\":true,\"textposition\":\"auto\",\"x\":[217],\"xaxis\":\"x\",\"y\":[\"Earthquake\"],\"yaxis\":\"y\",\"type\":\"bar\"},{\"alignmentgroup\":\"True\",\"hovertemplate\":\"Entity=%{y}<br>Year=2000<br>Deaths=%{x}<extra></extra>\",\"legendgroup\":\"Epidemic\",\"marker\":{\"color\":\"#ab63fa\",\"pattern\":{\"shape\":\"\"}},\"name\":\"Epidemic\",\"offsetgroup\":\"Epidemic\",\"orientation\":\"h\",\"showlegend\":true,\"textposition\":\"auto\",\"x\":[6980],\"xaxis\":\"x\",\"y\":[\"Epidemic\"],\"yaxis\":\"y\",\"type\":\"bar\"},{\"alignmentgroup\":\"True\",\"hovertemplate\":\"Entity=%{y}<br>Year=2000<br>Deaths=%{x}<extra></extra>\",\"legendgroup\":\"Extreme temperature\",\"marker\":{\"color\":\"#FFA15A\",\"pattern\":{\"shape\":\"\"}},\"name\":\"Extreme temperature\",\"offsetgroup\":\"Extreme temperature\",\"orientation\":\"h\",\"showlegend\":true,\"textposition\":\"auto\",\"x\":[941],\"xaxis\":\"x\",\"y\":[\"Extreme temperature\"],\"yaxis\":\"y\",\"type\":\"bar\"},{\"alignmentgroup\":\"True\",\"hovertemplate\":\"Entity=%{y}<br>Year=2000<br>Deaths=%{x}<extra></extra>\",\"legendgroup\":\"Extreme weather\",\"marker\":{\"color\":\"#19d3f3\",\"pattern\":{\"shape\":\"\"}},\"name\":\"Extreme weather\",\"offsetgroup\":\"Extreme weather\",\"orientation\":\"h\",\"showlegend\":true,\"textposition\":\"auto\",\"x\":[1354],\"xaxis\":\"x\",\"y\":[\"Extreme weather\"],\"yaxis\":\"y\",\"type\":\"bar\"},{\"alignmentgroup\":\"True\",\"hovertemplate\":\"Entity=%{y}<br>Year=2000<br>Deaths=%{x}<extra></extra>\",\"legendgroup\":\"Flood\",\"marker\":{\"color\":\"#FF6692\",\"pattern\":{\"shape\":\"\"}},\"name\":\"Flood\",\"offsetgroup\":\"Flood\",\"orientation\":\"h\",\"showlegend\":true,\"textposition\":\"auto\",\"x\":[6025],\"xaxis\":\"x\",\"y\":[\"Flood\"],\"yaxis\":\"y\",\"type\":\"bar\"},{\"alignmentgroup\":\"True\",\"hovertemplate\":\"Entity=%{y}<br>Year=2000<br>Deaths=%{x}<extra></extra>\",\"legendgroup\":\"Landslide\",\"marker\":{\"color\":\"#B6E880\",\"pattern\":{\"shape\":\"\"}},\"name\":\"Landslide\",\"offsetgroup\":\"Landslide\",\"orientation\":\"h\",\"showlegend\":true,\"textposition\":\"auto\",\"x\":[1012],\"xaxis\":\"x\",\"y\":[\"Landslide\"],\"yaxis\":\"y\",\"type\":\"bar\"},{\"alignmentgroup\":\"True\",\"hovertemplate\":\"Entity=%{y}<br>Year=2000<br>Deaths=%{x}<extra></extra>\",\"legendgroup\":\"Mass movement (dry)\",\"marker\":{\"color\":\"#FF97FF\",\"pattern\":{\"shape\":\"\"}},\"name\":\"Mass movement (dry)\",\"offsetgroup\":\"Mass movement (dry)\",\"orientation\":\"h\",\"showlegend\":true,\"textposition\":\"auto\",\"x\":[11],\"xaxis\":\"x\",\"y\":[\"Mass movement (dry)\"],\"yaxis\":\"y\",\"type\":\"bar\"},{\"alignmentgroup\":\"True\",\"hovertemplate\":\"Entity=%{y}<br>Year=2000<br>Deaths=%{x}<extra></extra>\",\"legendgroup\":\"Wildfire\",\"marker\":{\"color\":\"#636efa\",\"pattern\":{\"shape\":\"\"}},\"name\":\"Wildfire\",\"offsetgroup\":\"Wildfire\",\"orientation\":\"h\",\"showlegend\":true,\"textposition\":\"auto\",\"x\":[47],\"xaxis\":\"x\",\"y\":[\"Wildfire\"],\"yaxis\":\"y\",\"type\":\"bar\"}],\"name\":\"2000\"},{\"data\":[{\"alignmentgroup\":\"True\",\"hovertemplate\":\"Entity=%{y}<br>Year=2001<br>Deaths=%{x}<extra></extra>\",\"legendgroup\":\"All natural disasters\",\"marker\":{\"color\":\"#636efa\",\"pattern\":{\"shape\":\"\"}},\"name\":\"All natural disasters\",\"offsetgroup\":\"All natural disasters\",\"orientation\":\"h\",\"showlegend\":true,\"textposition\":\"auto\",\"x\":[39493],\"xaxis\":\"x\",\"y\":[\"All natural disasters\"],\"yaxis\":\"y\",\"type\":\"bar\"},{\"alignmentgroup\":\"True\",\"hovertemplate\":\"Entity=%{y}<br>Year=2001<br>Deaths=%{x}<extra></extra>\",\"legendgroup\":\"Drought\",\"marker\":{\"color\":\"#EF553B\",\"pattern\":{\"shape\":\"\"}},\"name\":\"Drought\",\"offsetgroup\":\"Drought\",\"orientation\":\"h\",\"showlegend\":true,\"textposition\":\"auto\",\"x\":[99],\"xaxis\":\"x\",\"y\":[\"Drought\"],\"yaxis\":\"y\",\"type\":\"bar\"},{\"alignmentgroup\":\"True\",\"hovertemplate\":\"Entity=%{y}<br>Year=2001<br>Deaths=%{x}<extra></extra>\",\"legendgroup\":\"Earthquake\",\"marker\":{\"color\":\"#00cc96\",\"pattern\":{\"shape\":\"\"}},\"name\":\"Earthquake\",\"offsetgroup\":\"Earthquake\",\"orientation\":\"h\",\"showlegend\":true,\"textposition\":\"auto\",\"x\":[21348],\"xaxis\":\"x\",\"y\":[\"Earthquake\"],\"yaxis\":\"y\",\"type\":\"bar\"},{\"alignmentgroup\":\"True\",\"hovertemplate\":\"Entity=%{y}<br>Year=2001<br>Deaths=%{x}<extra></extra>\",\"legendgroup\":\"Epidemic\",\"marker\":{\"color\":\"#ab63fa\",\"pattern\":{\"shape\":\"\"}},\"name\":\"Epidemic\",\"offsetgroup\":\"Epidemic\",\"orientation\":\"h\",\"showlegend\":true,\"textposition\":\"auto\",\"x\":[8515],\"xaxis\":\"x\",\"y\":[\"Epidemic\"],\"yaxis\":\"y\",\"type\":\"bar\"},{\"alignmentgroup\":\"True\",\"hovertemplate\":\"Entity=%{y}<br>Year=2001<br>Deaths=%{x}<extra></extra>\",\"legendgroup\":\"Extreme temperature\",\"marker\":{\"color\":\"#FFA15A\",\"pattern\":{\"shape\":\"\"}},\"name\":\"Extreme temperature\",\"offsetgroup\":\"Extreme temperature\",\"orientation\":\"h\",\"showlegend\":true,\"textposition\":\"auto\",\"x\":[1787],\"xaxis\":\"x\",\"y\":[\"Extreme temperature\"],\"yaxis\":\"y\",\"type\":\"bar\"},{\"alignmentgroup\":\"True\",\"hovertemplate\":\"Entity=%{y}<br>Year=2001<br>Deaths=%{x}<extra></extra>\",\"legendgroup\":\"Extreme weather\",\"marker\":{\"color\":\"#19d3f3\",\"pattern\":{\"shape\":\"\"}},\"name\":\"Extreme weather\",\"offsetgroup\":\"Extreme weather\",\"orientation\":\"h\",\"showlegend\":true,\"textposition\":\"auto\",\"x\":[1911],\"xaxis\":\"x\",\"y\":[\"Extreme weather\"],\"yaxis\":\"y\",\"type\":\"bar\"},{\"alignmentgroup\":\"True\",\"hovertemplate\":\"Entity=%{y}<br>Year=2001<br>Deaths=%{x}<extra></extra>\",\"legendgroup\":\"Flood\",\"marker\":{\"color\":\"#FF6692\",\"pattern\":{\"shape\":\"\"}},\"name\":\"Flood\",\"offsetgroup\":\"Flood\",\"orientation\":\"h\",\"showlegend\":true,\"textposition\":\"auto\",\"x\":[5014],\"xaxis\":\"x\",\"y\":[\"Flood\"],\"yaxis\":\"y\",\"type\":\"bar\"},{\"alignmentgroup\":\"True\",\"hovertemplate\":\"Entity=%{y}<br>Year=2001<br>Deaths=%{x}<extra></extra>\",\"legendgroup\":\"Landslide\",\"marker\":{\"color\":\"#B6E880\",\"pattern\":{\"shape\":\"\"}},\"name\":\"Landslide\",\"offsetgroup\":\"Landslide\",\"orientation\":\"h\",\"showlegend\":true,\"textposition\":\"auto\",\"x\":[786],\"xaxis\":\"x\",\"y\":[\"Landslide\"],\"yaxis\":\"y\",\"type\":\"bar\"},{\"alignmentgroup\":\"True\",\"hovertemplate\":\"Entity=%{y}<br>Year=2001<br>Deaths=%{x}<extra></extra>\",\"legendgroup\":\"Wildfire\",\"marker\":{\"color\":\"#636efa\",\"pattern\":{\"shape\":\"\"}},\"name\":\"Wildfire\",\"offsetgroup\":\"Wildfire\",\"orientation\":\"h\",\"showlegend\":true,\"textposition\":\"auto\",\"x\":[33],\"xaxis\":\"x\",\"y\":[\"Wildfire\"],\"yaxis\":\"y\",\"type\":\"bar\"}],\"name\":\"2001\"},{\"data\":[{\"alignmentgroup\":\"True\",\"hovertemplate\":\"Entity=%{y}<br>Year=2002<br>Deaths=%{x}<extra></extra>\",\"legendgroup\":\"All natural disasters\",\"marker\":{\"color\":\"#636efa\",\"pattern\":{\"shape\":\"\"}},\"name\":\"All natural disasters\",\"offsetgroup\":\"All natural disasters\",\"orientation\":\"h\",\"showlegend\":true,\"textposition\":\"auto\",\"x\":[21342],\"xaxis\":\"x\",\"y\":[\"All natural disasters\"],\"yaxis\":\"y\",\"type\":\"bar\"},{\"alignmentgroup\":\"True\",\"hovertemplate\":\"Entity=%{y}<br>Year=2002<br>Deaths=%{x}<extra></extra>\",\"legendgroup\":\"Drought\",\"marker\":{\"color\":\"#EF553B\",\"pattern\":{\"shape\":\"\"}},\"name\":\"Drought\",\"offsetgroup\":\"Drought\",\"orientation\":\"h\",\"showlegend\":true,\"textposition\":\"auto\",\"x\":[588],\"xaxis\":\"x\",\"y\":[\"Drought\"],\"yaxis\":\"y\",\"type\":\"bar\"},{\"alignmentgroup\":\"True\",\"hovertemplate\":\"Entity=%{y}<br>Year=2002<br>Deaths=%{x}<extra></extra>\",\"legendgroup\":\"Earthquake\",\"marker\":{\"color\":\"#00cc96\",\"pattern\":{\"shape\":\"\"}},\"name\":\"Earthquake\",\"offsetgroup\":\"Earthquake\",\"orientation\":\"h\",\"showlegend\":true,\"textposition\":\"auto\",\"x\":[1639],\"xaxis\":\"x\",\"y\":[\"Earthquake\"],\"yaxis\":\"y\",\"type\":\"bar\"},{\"alignmentgroup\":\"True\",\"hovertemplate\":\"Entity=%{y}<br>Year=2002<br>Deaths=%{x}<extra></extra>\",\"legendgroup\":\"Epidemic\",\"marker\":{\"color\":\"#ab63fa\",\"pattern\":{\"shape\":\"\"}},\"name\":\"Epidemic\",\"offsetgroup\":\"Epidemic\",\"orientation\":\"h\",\"showlegend\":true,\"textposition\":\"auto\",\"x\":[8762],\"xaxis\":\"x\",\"y\":[\"Epidemic\"],\"yaxis\":\"y\",\"type\":\"bar\"},{\"alignmentgroup\":\"True\",\"hovertemplate\":\"Entity=%{y}<br>Year=2002<br>Deaths=%{x}<extra></extra>\",\"legendgroup\":\"Extreme temperature\",\"marker\":{\"color\":\"#FFA15A\",\"pattern\":{\"shape\":\"\"}},\"name\":\"Extreme temperature\",\"offsetgroup\":\"Extreme temperature\",\"orientation\":\"h\",\"showlegend\":true,\"textposition\":\"auto\",\"x\":[3369],\"xaxis\":\"x\",\"y\":[\"Extreme temperature\"],\"yaxis\":\"y\",\"type\":\"bar\"},{\"alignmentgroup\":\"True\",\"hovertemplate\":\"Entity=%{y}<br>Year=2002<br>Deaths=%{x}<extra></extra>\",\"legendgroup\":\"Extreme weather\",\"marker\":{\"color\":\"#19d3f3\",\"pattern\":{\"shape\":\"\"}},\"name\":\"Extreme weather\",\"offsetgroup\":\"Extreme weather\",\"orientation\":\"h\",\"showlegend\":true,\"textposition\":\"auto\",\"x\":[1382],\"xaxis\":\"x\",\"y\":[\"Extreme weather\"],\"yaxis\":\"y\",\"type\":\"bar\"},{\"alignmentgroup\":\"True\",\"hovertemplate\":\"Entity=%{y}<br>Year=2002<br>Deaths=%{x}<extra></extra>\",\"legendgroup\":\"Flood\",\"marker\":{\"color\":\"#FF6692\",\"pattern\":{\"shape\":\"\"}},\"name\":\"Flood\",\"offsetgroup\":\"Flood\",\"orientation\":\"h\",\"showlegend\":true,\"textposition\":\"auto\",\"x\":[4236],\"xaxis\":\"x\",\"y\":[\"Flood\"],\"yaxis\":\"y\",\"type\":\"bar\"},{\"alignmentgroup\":\"True\",\"hovertemplate\":\"Entity=%{y}<br>Year=2002<br>Deaths=%{x}<extra></extra>\",\"legendgroup\":\"Landslide\",\"marker\":{\"color\":\"#B6E880\",\"pattern\":{\"shape\":\"\"}},\"name\":\"Landslide\",\"offsetgroup\":\"Landslide\",\"orientation\":\"h\",\"showlegend\":true,\"textposition\":\"auto\",\"x\":[1100],\"xaxis\":\"x\",\"y\":[\"Landslide\"],\"yaxis\":\"y\",\"type\":\"bar\"},{\"alignmentgroup\":\"True\",\"hovertemplate\":\"Entity=%{y}<br>Year=2002<br>Deaths=%{x}<extra></extra>\",\"legendgroup\":\"Mass movement (dry)\",\"marker\":{\"color\":\"#FF97FF\",\"pattern\":{\"shape\":\"\"}},\"name\":\"Mass movement (dry)\",\"offsetgroup\":\"Mass movement (dry)\",\"orientation\":\"h\",\"showlegend\":true,\"textposition\":\"auto\",\"x\":[60],\"xaxis\":\"x\",\"y\":[\"Mass movement (dry)\"],\"yaxis\":\"y\",\"type\":\"bar\"},{\"alignmentgroup\":\"True\",\"hovertemplate\":\"Entity=%{y}<br>Year=2002<br>Deaths=%{x}<extra></extra>\",\"legendgroup\":\"Volcanic activity\",\"marker\":{\"color\":\"#FECB52\",\"pattern\":{\"shape\":\"\"}},\"name\":\"Volcanic activity\",\"offsetgroup\":\"Volcanic activity\",\"orientation\":\"h\",\"showlegend\":true,\"textposition\":\"auto\",\"x\":[200],\"xaxis\":\"x\",\"y\":[\"Volcanic activity\"],\"yaxis\":\"y\",\"type\":\"bar\"},{\"alignmentgroup\":\"True\",\"hovertemplate\":\"Entity=%{y}<br>Year=2002<br>Deaths=%{x}<extra></extra>\",\"legendgroup\":\"Wildfire\",\"marker\":{\"color\":\"#636efa\",\"pattern\":{\"shape\":\"\"}},\"name\":\"Wildfire\",\"offsetgroup\":\"Wildfire\",\"orientation\":\"h\",\"showlegend\":true,\"textposition\":\"auto\",\"x\":[6],\"xaxis\":\"x\",\"y\":[\"Wildfire\"],\"yaxis\":\"y\",\"type\":\"bar\"}],\"name\":\"2002\"},{\"data\":[{\"alignmentgroup\":\"True\",\"hovertemplate\":\"Entity=%{y}<br>Year=2003<br>Deaths=%{x}<extra></extra>\",\"legendgroup\":\"All natural disasters\",\"marker\":{\"color\":\"#636efa\",\"pattern\":{\"shape\":\"\"}},\"name\":\"All natural disasters\",\"offsetgroup\":\"All natural disasters\",\"orientation\":\"h\",\"showlegend\":true,\"textposition\":\"auto\",\"x\":[113558],\"xaxis\":\"x\",\"y\":[\"All natural disasters\"],\"yaxis\":\"y\",\"type\":\"bar\"},{\"alignmentgroup\":\"True\",\"hovertemplate\":\"Entity=%{y}<br>Year=2003<br>Deaths=%{x}<extra></extra>\",\"legendgroup\":\"Drought\",\"marker\":{\"color\":\"#EF553B\",\"pattern\":{\"shape\":\"\"}},\"name\":\"Drought\",\"offsetgroup\":\"Drought\",\"orientation\":\"h\",\"showlegend\":true,\"textposition\":\"auto\",\"x\":[9],\"xaxis\":\"x\",\"y\":[\"Drought\"],\"yaxis\":\"y\",\"type\":\"bar\"},{\"alignmentgroup\":\"True\",\"hovertemplate\":\"Entity=%{y}<br>Year=2003<br>Deaths=%{x}<extra></extra>\",\"legendgroup\":\"Earthquake\",\"marker\":{\"color\":\"#00cc96\",\"pattern\":{\"shape\":\"\"}},\"name\":\"Earthquake\",\"offsetgroup\":\"Earthquake\",\"orientation\":\"h\",\"showlegend\":true,\"textposition\":\"auto\",\"x\":[29617],\"xaxis\":\"x\",\"y\":[\"Earthquake\"],\"yaxis\":\"y\",\"type\":\"bar\"},{\"alignmentgroup\":\"True\",\"hovertemplate\":\"Entity=%{y}<br>Year=2003<br>Deaths=%{x}<extra></extra>\",\"legendgroup\":\"Epidemic\",\"marker\":{\"color\":\"#ab63fa\",\"pattern\":{\"shape\":\"\"}},\"name\":\"Epidemic\",\"offsetgroup\":\"Epidemic\",\"orientation\":\"h\",\"showlegend\":true,\"textposition\":\"auto\",\"x\":[3522],\"xaxis\":\"x\",\"y\":[\"Epidemic\"],\"yaxis\":\"y\",\"type\":\"bar\"},{\"alignmentgroup\":\"True\",\"hovertemplate\":\"Entity=%{y}<br>Year=2003<br>Deaths=%{x}<extra></extra>\",\"legendgroup\":\"Extreme temperature\",\"marker\":{\"color\":\"#FFA15A\",\"pattern\":{\"shape\":\"\"}},\"name\":\"Extreme temperature\",\"offsetgroup\":\"Extreme temperature\",\"orientation\":\"h\",\"showlegend\":true,\"textposition\":\"auto\",\"x\":[74698],\"xaxis\":\"x\",\"y\":[\"Extreme temperature\"],\"yaxis\":\"y\",\"type\":\"bar\"},{\"alignmentgroup\":\"True\",\"hovertemplate\":\"Entity=%{y}<br>Year=2003<br>Deaths=%{x}<extra></extra>\",\"legendgroup\":\"Extreme weather\",\"marker\":{\"color\":\"#19d3f3\",\"pattern\":{\"shape\":\"\"}},\"name\":\"Extreme weather\",\"offsetgroup\":\"Extreme weather\",\"orientation\":\"h\",\"showlegend\":true,\"textposition\":\"auto\",\"x\":[1049],\"xaxis\":\"x\",\"y\":[\"Extreme weather\"],\"yaxis\":\"y\",\"type\":\"bar\"},{\"alignmentgroup\":\"True\",\"hovertemplate\":\"Entity=%{y}<br>Year=2003<br>Deaths=%{x}<extra></extra>\",\"legendgroup\":\"Flood\",\"marker\":{\"color\":\"#FF6692\",\"pattern\":{\"shape\":\"\"}},\"name\":\"Flood\",\"offsetgroup\":\"Flood\",\"orientation\":\"h\",\"showlegend\":true,\"textposition\":\"auto\",\"x\":[3910],\"xaxis\":\"x\",\"y\":[\"Flood\"],\"yaxis\":\"y\",\"type\":\"bar\"},{\"alignmentgroup\":\"True\",\"hovertemplate\":\"Entity=%{y}<br>Year=2003<br>Deaths=%{x}<extra></extra>\",\"legendgroup\":\"Landslide\",\"marker\":{\"color\":\"#B6E880\",\"pattern\":{\"shape\":\"\"}},\"name\":\"Landslide\",\"offsetgroup\":\"Landslide\",\"orientation\":\"h\",\"showlegend\":true,\"textposition\":\"auto\",\"x\":[706],\"xaxis\":\"x\",\"y\":[\"Landslide\"],\"yaxis\":\"y\",\"type\":\"bar\"},{\"alignmentgroup\":\"True\",\"hovertemplate\":\"Entity=%{y}<br>Year=2003<br>Deaths=%{x}<extra></extra>\",\"legendgroup\":\"Wildfire\",\"marker\":{\"color\":\"#636efa\",\"pattern\":{\"shape\":\"\"}},\"name\":\"Wildfire\",\"offsetgroup\":\"Wildfire\",\"orientation\":\"h\",\"showlegend\":true,\"textposition\":\"auto\",\"x\":[47],\"xaxis\":\"x\",\"y\":[\"Wildfire\"],\"yaxis\":\"y\",\"type\":\"bar\"}],\"name\":\"2003\"},{\"data\":[{\"alignmentgroup\":\"True\",\"hovertemplate\":\"Entity=%{y}<br>Year=2004<br>Deaths=%{x}<extra></extra>\",\"legendgroup\":\"All natural disasters\",\"marker\":{\"color\":\"#636efa\",\"pattern\":{\"shape\":\"\"}},\"name\":\"All natural disasters\",\"offsetgroup\":\"All natural disasters\",\"orientation\":\"h\",\"showlegend\":true,\"textposition\":\"auto\",\"x\":[244772],\"xaxis\":\"x\",\"y\":[\"All natural disasters\"],\"yaxis\":\"y\",\"type\":\"bar\"},{\"alignmentgroup\":\"True\",\"hovertemplate\":\"Entity=%{y}<br>Year=2004<br>Deaths=%{x}<extra></extra>\",\"legendgroup\":\"Drought\",\"marker\":{\"color\":\"#EF553B\",\"pattern\":{\"shape\":\"\"}},\"name\":\"Drought\",\"offsetgroup\":\"Drought\",\"orientation\":\"h\",\"showlegend\":true,\"textposition\":\"auto\",\"x\":[80],\"xaxis\":\"x\",\"y\":[\"Drought\"],\"yaxis\":\"y\",\"type\":\"bar\"},{\"alignmentgroup\":\"True\",\"hovertemplate\":\"Entity=%{y}<br>Year=2004<br>Deaths=%{x}<extra></extra>\",\"legendgroup\":\"Earthquake\",\"marker\":{\"color\":\"#00cc96\",\"pattern\":{\"shape\":\"\"}},\"name\":\"Earthquake\",\"offsetgroup\":\"Earthquake\",\"orientation\":\"h\",\"showlegend\":true,\"textposition\":\"auto\",\"x\":[227290],\"xaxis\":\"x\",\"y\":[\"Earthquake\"],\"yaxis\":\"y\",\"type\":\"bar\"},{\"alignmentgroup\":\"True\",\"hovertemplate\":\"Entity=%{y}<br>Year=2004<br>Deaths=%{x}<extra></extra>\",\"legendgroup\":\"Epidemic\",\"marker\":{\"color\":\"#ab63fa\",\"pattern\":{\"shape\":\"\"}},\"name\":\"Epidemic\",\"offsetgroup\":\"Epidemic\",\"orientation\":\"h\",\"showlegend\":true,\"textposition\":\"auto\",\"x\":[3245],\"xaxis\":\"x\",\"y\":[\"Epidemic\"],\"yaxis\":\"y\",\"type\":\"bar\"},{\"alignmentgroup\":\"True\",\"hovertemplate\":\"Entity=%{y}<br>Year=2004<br>Deaths=%{x}<extra></extra>\",\"legendgroup\":\"Extreme temperature\",\"marker\":{\"color\":\"#FFA15A\",\"pattern\":{\"shape\":\"\"}},\"name\":\"Extreme temperature\",\"offsetgroup\":\"Extreme temperature\",\"orientation\":\"h\",\"showlegend\":true,\"textposition\":\"auto\",\"x\":[255],\"xaxis\":\"x\",\"y\":[\"Extreme temperature\"],\"yaxis\":\"y\",\"type\":\"bar\"},{\"alignmentgroup\":\"True\",\"hovertemplate\":\"Entity=%{y}<br>Year=2004<br>Deaths=%{x}<extra></extra>\",\"legendgroup\":\"Extreme weather\",\"marker\":{\"color\":\"#19d3f3\",\"pattern\":{\"shape\":\"\"}},\"name\":\"Extreme weather\",\"offsetgroup\":\"Extreme weather\",\"orientation\":\"h\",\"showlegend\":true,\"textposition\":\"auto\",\"x\":[6547],\"xaxis\":\"x\",\"y\":[\"Extreme weather\"],\"yaxis\":\"y\",\"type\":\"bar\"},{\"alignmentgroup\":\"True\",\"hovertemplate\":\"Entity=%{y}<br>Year=2004<br>Deaths=%{x}<extra></extra>\",\"legendgroup\":\"Flood\",\"marker\":{\"color\":\"#FF6692\",\"pattern\":{\"shape\":\"\"}},\"name\":\"Flood\",\"offsetgroup\":\"Flood\",\"orientation\":\"h\",\"showlegend\":true,\"textposition\":\"auto\",\"x\":[6982],\"xaxis\":\"x\",\"y\":[\"Flood\"],\"yaxis\":\"y\",\"type\":\"bar\"},{\"alignmentgroup\":\"True\",\"hovertemplate\":\"Entity=%{y}<br>Year=2004<br>Deaths=%{x}<extra></extra>\",\"legendgroup\":\"Landslide\",\"marker\":{\"color\":\"#B6E880\",\"pattern\":{\"shape\":\"\"}},\"name\":\"Landslide\",\"offsetgroup\":\"Landslide\",\"orientation\":\"h\",\"showlegend\":true,\"textposition\":\"auto\",\"x\":[313],\"xaxis\":\"x\",\"y\":[\"Landslide\"],\"yaxis\":\"y\",\"type\":\"bar\"},{\"alignmentgroup\":\"True\",\"hovertemplate\":\"Entity=%{y}<br>Year=2004<br>Deaths=%{x}<extra></extra>\",\"legendgroup\":\"Mass movement (dry)\",\"marker\":{\"color\":\"#FF97FF\",\"pattern\":{\"shape\":\"\"}},\"name\":\"Mass movement (dry)\",\"offsetgroup\":\"Mass movement (dry)\",\"orientation\":\"h\",\"showlegend\":true,\"textposition\":\"auto\",\"x\":[44],\"xaxis\":\"x\",\"y\":[\"Mass movement (dry)\"],\"yaxis\":\"y\",\"type\":\"bar\"},{\"alignmentgroup\":\"True\",\"hovertemplate\":\"Entity=%{y}<br>Year=2004<br>Deaths=%{x}<extra></extra>\",\"legendgroup\":\"Volcanic activity\",\"marker\":{\"color\":\"#FECB52\",\"pattern\":{\"shape\":\"\"}},\"name\":\"Volcanic activity\",\"offsetgroup\":\"Volcanic activity\",\"orientation\":\"h\",\"showlegend\":true,\"textposition\":\"auto\",\"x\":[2],\"xaxis\":\"x\",\"y\":[\"Volcanic activity\"],\"yaxis\":\"y\",\"type\":\"bar\"},{\"alignmentgroup\":\"True\",\"hovertemplate\":\"Entity=%{y}<br>Year=2004<br>Deaths=%{x}<extra></extra>\",\"legendgroup\":\"Wildfire\",\"marker\":{\"color\":\"#636efa\",\"pattern\":{\"shape\":\"\"}},\"name\":\"Wildfire\",\"offsetgroup\":\"Wildfire\",\"orientation\":\"h\",\"showlegend\":true,\"textposition\":\"auto\",\"x\":[14],\"xaxis\":\"x\",\"y\":[\"Wildfire\"],\"yaxis\":\"y\",\"type\":\"bar\"}],\"name\":\"2004\"},{\"data\":[{\"alignmentgroup\":\"True\",\"hovertemplate\":\"Entity=%{y}<br>Year=2005<br>Deaths=%{x}<extra></extra>\",\"legendgroup\":\"All natural disasters\",\"marker\":{\"color\":\"#636efa\",\"pattern\":{\"shape\":\"\"}},\"name\":\"All natural disasters\",\"offsetgroup\":\"All natural disasters\",\"orientation\":\"h\",\"showlegend\":true,\"textposition\":\"auto\",\"x\":[93566],\"xaxis\":\"x\",\"y\":[\"All natural disasters\"],\"yaxis\":\"y\",\"type\":\"bar\"},{\"alignmentgroup\":\"True\",\"hovertemplate\":\"Entity=%{y}<br>Year=2005<br>Deaths=%{x}<extra></extra>\",\"legendgroup\":\"Drought\",\"marker\":{\"color\":\"#EF553B\",\"pattern\":{\"shape\":\"\"}},\"name\":\"Drought\",\"offsetgroup\":\"Drought\",\"orientation\":\"h\",\"showlegend\":true,\"textposition\":\"auto\",\"x\":[149],\"xaxis\":\"x\",\"y\":[\"Drought\"],\"yaxis\":\"y\",\"type\":\"bar\"},{\"alignmentgroup\":\"True\",\"hovertemplate\":\"Entity=%{y}<br>Year=2005<br>Deaths=%{x}<extra></extra>\",\"legendgroup\":\"Earthquake\",\"marker\":{\"color\":\"#00cc96\",\"pattern\":{\"shape\":\"\"}},\"name\":\"Earthquake\",\"offsetgroup\":\"Earthquake\",\"orientation\":\"h\",\"showlegend\":true,\"textposition\":\"auto\",\"x\":[76241],\"xaxis\":\"x\",\"y\":[\"Earthquake\"],\"yaxis\":\"y\",\"type\":\"bar\"},{\"alignmentgroup\":\"True\",\"hovertemplate\":\"Entity=%{y}<br>Year=2005<br>Deaths=%{x}<extra></extra>\",\"legendgroup\":\"Epidemic\",\"marker\":{\"color\":\"#ab63fa\",\"pattern\":{\"shape\":\"\"}},\"name\":\"Epidemic\",\"offsetgroup\":\"Epidemic\",\"orientation\":\"h\",\"showlegend\":true,\"textposition\":\"auto\",\"x\":[3909],\"xaxis\":\"x\",\"y\":[\"Epidemic\"],\"yaxis\":\"y\",\"type\":\"bar\"},{\"alignmentgroup\":\"True\",\"hovertemplate\":\"Entity=%{y}<br>Year=2005<br>Deaths=%{x}<extra></extra>\",\"legendgroup\":\"Extreme temperature\",\"marker\":{\"color\":\"#FFA15A\",\"pattern\":{\"shape\":\"\"}},\"name\":\"Extreme temperature\",\"offsetgroup\":\"Extreme temperature\",\"orientation\":\"h\",\"showlegend\":true,\"textposition\":\"auto\",\"x\":[1550],\"xaxis\":\"x\",\"y\":[\"Extreme temperature\"],\"yaxis\":\"y\",\"type\":\"bar\"},{\"alignmentgroup\":\"True\",\"hovertemplate\":\"Entity=%{y}<br>Year=2005<br>Deaths=%{x}<extra></extra>\",\"legendgroup\":\"Extreme weather\",\"marker\":{\"color\":\"#19d3f3\",\"pattern\":{\"shape\":\"\"}},\"name\":\"Extreme weather\",\"offsetgroup\":\"Extreme weather\",\"orientation\":\"h\",\"showlegend\":true,\"textposition\":\"auto\",\"x\":[5251],\"xaxis\":\"x\",\"y\":[\"Extreme weather\"],\"yaxis\":\"y\",\"type\":\"bar\"},{\"alignmentgroup\":\"True\",\"hovertemplate\":\"Entity=%{y}<br>Year=2005<br>Deaths=%{x}<extra></extra>\",\"legendgroup\":\"Flood\",\"marker\":{\"color\":\"#FF6692\",\"pattern\":{\"shape\":\"\"}},\"name\":\"Flood\",\"offsetgroup\":\"Flood\",\"orientation\":\"h\",\"showlegend\":true,\"textposition\":\"auto\",\"x\":[5754],\"xaxis\":\"x\",\"y\":[\"Flood\"],\"yaxis\":\"y\",\"type\":\"bar\"},{\"alignmentgroup\":\"True\",\"hovertemplate\":\"Entity=%{y}<br>Year=2005<br>Deaths=%{x}<extra></extra>\",\"legendgroup\":\"Landslide\",\"marker\":{\"color\":\"#B6E880\",\"pattern\":{\"shape\":\"\"}},\"name\":\"Landslide\",\"offsetgroup\":\"Landslide\",\"orientation\":\"h\",\"showlegend\":true,\"textposition\":\"auto\",\"x\":[664],\"xaxis\":\"x\",\"y\":[\"Landslide\"],\"yaxis\":\"y\",\"type\":\"bar\"},{\"alignmentgroup\":\"True\",\"hovertemplate\":\"Entity=%{y}<br>Year=2005<br>Deaths=%{x}<extra></extra>\",\"legendgroup\":\"Volcanic activity\",\"marker\":{\"color\":\"#FECB52\",\"pattern\":{\"shape\":\"\"}},\"name\":\"Volcanic activity\",\"offsetgroup\":\"Volcanic activity\",\"orientation\":\"h\",\"showlegend\":true,\"textposition\":\"auto\",\"x\":[3],\"xaxis\":\"x\",\"y\":[\"Volcanic activity\"],\"yaxis\":\"y\",\"type\":\"bar\"},{\"alignmentgroup\":\"True\",\"hovertemplate\":\"Entity=%{y}<br>Year=2005<br>Deaths=%{x}<extra></extra>\",\"legendgroup\":\"Wildfire\",\"marker\":{\"color\":\"#636efa\",\"pattern\":{\"shape\":\"\"}},\"name\":\"Wildfire\",\"offsetgroup\":\"Wildfire\",\"orientation\":\"h\",\"showlegend\":true,\"textposition\":\"auto\",\"x\":[45],\"xaxis\":\"x\",\"y\":[\"Wildfire\"],\"yaxis\":\"y\",\"type\":\"bar\"}],\"name\":\"2005\"},{\"data\":[{\"alignmentgroup\":\"True\",\"hovertemplate\":\"Entity=%{y}<br>Year=2006<br>Deaths=%{x}<extra></extra>\",\"legendgroup\":\"All natural disasters\",\"marker\":{\"color\":\"#636efa\",\"pattern\":{\"shape\":\"\"}},\"name\":\"All natural disasters\",\"offsetgroup\":\"All natural disasters\",\"orientation\":\"h\",\"showlegend\":true,\"textposition\":\"auto\",\"x\":[29893],\"xaxis\":\"x\",\"y\":[\"All natural disasters\"],\"yaxis\":\"y\",\"type\":\"bar\"},{\"alignmentgroup\":\"True\",\"hovertemplate\":\"Entity=%{y}<br>Year=2006<br>Deaths=%{x}<extra></extra>\",\"legendgroup\":\"Drought\",\"marker\":{\"color\":\"#EF553B\",\"pattern\":{\"shape\":\"\"}},\"name\":\"Drought\",\"offsetgroup\":\"Drought\",\"orientation\":\"h\",\"showlegend\":true,\"textposition\":\"auto\",\"x\":[134],\"xaxis\":\"x\",\"y\":[\"Drought\"],\"yaxis\":\"y\",\"type\":\"bar\"},{\"alignmentgroup\":\"True\",\"hovertemplate\":\"Entity=%{y}<br>Year=2006<br>Deaths=%{x}<extra></extra>\",\"legendgroup\":\"Earthquake\",\"marker\":{\"color\":\"#00cc96\",\"pattern\":{\"shape\":\"\"}},\"name\":\"Earthquake\",\"offsetgroup\":\"Earthquake\",\"orientation\":\"h\",\"showlegend\":true,\"textposition\":\"auto\",\"x\":[6692],\"xaxis\":\"x\",\"y\":[\"Earthquake\"],\"yaxis\":\"y\",\"type\":\"bar\"},{\"alignmentgroup\":\"True\",\"hovertemplate\":\"Entity=%{y}<br>Year=2006<br>Deaths=%{x}<extra></extra>\",\"legendgroup\":\"Epidemic\",\"marker\":{\"color\":\"#ab63fa\",\"pattern\":{\"shape\":\"\"}},\"name\":\"Epidemic\",\"offsetgroup\":\"Epidemic\",\"orientation\":\"h\",\"showlegend\":true,\"textposition\":\"auto\",\"x\":[6402],\"xaxis\":\"x\",\"y\":[\"Epidemic\"],\"yaxis\":\"y\",\"type\":\"bar\"},{\"alignmentgroup\":\"True\",\"hovertemplate\":\"Entity=%{y}<br>Year=2006<br>Deaths=%{x}<extra></extra>\",\"legendgroup\":\"Extreme temperature\",\"marker\":{\"color\":\"#FFA15A\",\"pattern\":{\"shape\":\"\"}},\"name\":\"Extreme temperature\",\"offsetgroup\":\"Extreme temperature\",\"orientation\":\"h\",\"showlegend\":true,\"textposition\":\"auto\",\"x\":[4826],\"xaxis\":\"x\",\"y\":[\"Extreme temperature\"],\"yaxis\":\"y\",\"type\":\"bar\"},{\"alignmentgroup\":\"True\",\"hovertemplate\":\"Entity=%{y}<br>Year=2006<br>Deaths=%{x}<extra></extra>\",\"legendgroup\":\"Extreme weather\",\"marker\":{\"color\":\"#19d3f3\",\"pattern\":{\"shape\":\"\"}},\"name\":\"Extreme weather\",\"offsetgroup\":\"Extreme weather\",\"orientation\":\"h\",\"showlegend\":true,\"textposition\":\"auto\",\"x\":[4329],\"xaxis\":\"x\",\"y\":[\"Extreme weather\"],\"yaxis\":\"y\",\"type\":\"bar\"},{\"alignmentgroup\":\"True\",\"hovertemplate\":\"Entity=%{y}<br>Year=2006<br>Deaths=%{x}<extra></extra>\",\"legendgroup\":\"Flood\",\"marker\":{\"color\":\"#FF6692\",\"pattern\":{\"shape\":\"\"}},\"name\":\"Flood\",\"offsetgroup\":\"Flood\",\"orientation\":\"h\",\"showlegend\":true,\"textposition\":\"auto\",\"x\":[5843],\"xaxis\":\"x\",\"y\":[\"Flood\"],\"yaxis\":\"y\",\"type\":\"bar\"},{\"alignmentgroup\":\"True\",\"hovertemplate\":\"Entity=%{y}<br>Year=2006<br>Deaths=%{x}<extra></extra>\",\"legendgroup\":\"Landslide\",\"marker\":{\"color\":\"#B6E880\",\"pattern\":{\"shape\":\"\"}},\"name\":\"Landslide\",\"offsetgroup\":\"Landslide\",\"orientation\":\"h\",\"showlegend\":true,\"textposition\":\"auto\",\"x\":[1638],\"xaxis\":\"x\",\"y\":[\"Landslide\"],\"yaxis\":\"y\",\"type\":\"bar\"},{\"alignmentgroup\":\"True\",\"hovertemplate\":\"Entity=%{y}<br>Year=2006<br>Deaths=%{x}<extra></extra>\",\"legendgroup\":\"Mass movement (dry)\",\"marker\":{\"color\":\"#FF97FF\",\"pattern\":{\"shape\":\"\"}},\"name\":\"Mass movement (dry)\",\"offsetgroup\":\"Mass movement (dry)\",\"orientation\":\"h\",\"showlegend\":true,\"textposition\":\"auto\",\"x\":[11],\"xaxis\":\"x\",\"y\":[\"Mass movement (dry)\"],\"yaxis\":\"y\",\"type\":\"bar\"},{\"alignmentgroup\":\"True\",\"hovertemplate\":\"Entity=%{y}<br>Year=2006<br>Deaths=%{x}<extra></extra>\",\"legendgroup\":\"Volcanic activity\",\"marker\":{\"color\":\"#FECB52\",\"pattern\":{\"shape\":\"\"}},\"name\":\"Volcanic activity\",\"offsetgroup\":\"Volcanic activity\",\"orientation\":\"h\",\"showlegend\":true,\"textposition\":\"auto\",\"x\":[5],\"xaxis\":\"x\",\"y\":[\"Volcanic activity\"],\"yaxis\":\"y\",\"type\":\"bar\"},{\"alignmentgroup\":\"True\",\"hovertemplate\":\"Entity=%{y}<br>Year=2006<br>Deaths=%{x}<extra></extra>\",\"legendgroup\":\"Wildfire\",\"marker\":{\"color\":\"#636efa\",\"pattern\":{\"shape\":\"\"}},\"name\":\"Wildfire\",\"offsetgroup\":\"Wildfire\",\"orientation\":\"h\",\"showlegend\":true,\"textposition\":\"auto\",\"x\":[13],\"xaxis\":\"x\",\"y\":[\"Wildfire\"],\"yaxis\":\"y\",\"type\":\"bar\"}],\"name\":\"2006\"},{\"data\":[{\"alignmentgroup\":\"True\",\"hovertemplate\":\"Entity=%{y}<br>Year=2007<br>Deaths=%{x}<extra></extra>\",\"legendgroup\":\"All natural disasters\",\"marker\":{\"color\":\"#636efa\",\"pattern\":{\"shape\":\"\"}},\"name\":\"All natural disasters\",\"offsetgroup\":\"All natural disasters\",\"orientation\":\"h\",\"showlegend\":true,\"textposition\":\"auto\",\"x\":[22422],\"xaxis\":\"x\",\"y\":[\"All natural disasters\"],\"yaxis\":\"y\",\"type\":\"bar\"},{\"alignmentgroup\":\"True\",\"hovertemplate\":\"Entity=%{y}<br>Year=2007<br>Deaths=%{x}<extra></extra>\",\"legendgroup\":\"Earthquake\",\"marker\":{\"color\":\"#00cc96\",\"pattern\":{\"shape\":\"\"}},\"name\":\"Earthquake\",\"offsetgroup\":\"Earthquake\",\"orientation\":\"h\",\"showlegend\":true,\"textposition\":\"auto\",\"x\":[780],\"xaxis\":\"x\",\"y\":[\"Earthquake\"],\"yaxis\":\"y\",\"type\":\"bar\"},{\"alignmentgroup\":\"True\",\"hovertemplate\":\"Entity=%{y}<br>Year=2007<br>Deaths=%{x}<extra></extra>\",\"legendgroup\":\"Epidemic\",\"marker\":{\"color\":\"#ab63fa\",\"pattern\":{\"shape\":\"\"}},\"name\":\"Epidemic\",\"offsetgroup\":\"Epidemic\",\"orientation\":\"h\",\"showlegend\":true,\"textposition\":\"auto\",\"x\":[5484],\"xaxis\":\"x\",\"y\":[\"Epidemic\"],\"yaxis\":\"y\",\"type\":\"bar\"},{\"alignmentgroup\":\"True\",\"hovertemplate\":\"Entity=%{y}<br>Year=2007<br>Deaths=%{x}<extra></extra>\",\"legendgroup\":\"Extreme temperature\",\"marker\":{\"color\":\"#FFA15A\",\"pattern\":{\"shape\":\"\"}},\"name\":\"Extreme temperature\",\"offsetgroup\":\"Extreme temperature\",\"orientation\":\"h\",\"showlegend\":true,\"textposition\":\"auto\",\"x\":[1086],\"xaxis\":\"x\",\"y\":[\"Extreme temperature\"],\"yaxis\":\"y\",\"type\":\"bar\"},{\"alignmentgroup\":\"True\",\"hovertemplate\":\"Entity=%{y}<br>Year=2007<br>Deaths=%{x}<extra></extra>\",\"legendgroup\":\"Extreme weather\",\"marker\":{\"color\":\"#19d3f3\",\"pattern\":{\"shape\":\"\"}},\"name\":\"Extreme weather\",\"offsetgroup\":\"Extreme weather\",\"orientation\":\"h\",\"showlegend\":true,\"textposition\":\"auto\",\"x\":[6035],\"xaxis\":\"x\",\"y\":[\"Extreme weather\"],\"yaxis\":\"y\",\"type\":\"bar\"},{\"alignmentgroup\":\"True\",\"hovertemplate\":\"Entity=%{y}<br>Year=2007<br>Deaths=%{x}<extra></extra>\",\"legendgroup\":\"Flood\",\"marker\":{\"color\":\"#FF6692\",\"pattern\":{\"shape\":\"\"}},\"name\":\"Flood\",\"offsetgroup\":\"Flood\",\"orientation\":\"h\",\"showlegend\":true,\"textposition\":\"auto\",\"x\":[8607],\"xaxis\":\"x\",\"y\":[\"Flood\"],\"yaxis\":\"y\",\"type\":\"bar\"},{\"alignmentgroup\":\"True\",\"hovertemplate\":\"Entity=%{y}<br>Year=2007<br>Deaths=%{x}<extra></extra>\",\"legendgroup\":\"Landslide\",\"marker\":{\"color\":\"#B6E880\",\"pattern\":{\"shape\":\"\"}},\"name\":\"Landslide\",\"offsetgroup\":\"Landslide\",\"orientation\":\"h\",\"showlegend\":true,\"textposition\":\"auto\",\"x\":[271],\"xaxis\":\"x\",\"y\":[\"Landslide\"],\"yaxis\":\"y\",\"type\":\"bar\"},{\"alignmentgroup\":\"True\",\"hovertemplate\":\"Entity=%{y}<br>Year=2007<br>Deaths=%{x}<extra></extra>\",\"legendgroup\":\"Volcanic activity\",\"marker\":{\"color\":\"#FECB52\",\"pattern\":{\"shape\":\"\"}},\"name\":\"Volcanic activity\",\"offsetgroup\":\"Volcanic activity\",\"orientation\":\"h\",\"showlegend\":true,\"textposition\":\"auto\",\"x\":[11],\"xaxis\":\"x\",\"y\":[\"Volcanic activity\"],\"yaxis\":\"y\",\"type\":\"bar\"},{\"alignmentgroup\":\"True\",\"hovertemplate\":\"Entity=%{y}<br>Year=2007<br>Deaths=%{x}<extra></extra>\",\"legendgroup\":\"Wildfire\",\"marker\":{\"color\":\"#636efa\",\"pattern\":{\"shape\":\"\"}},\"name\":\"Wildfire\",\"offsetgroup\":\"Wildfire\",\"orientation\":\"h\",\"showlegend\":true,\"textposition\":\"auto\",\"x\":[148],\"xaxis\":\"x\",\"y\":[\"Wildfire\"],\"yaxis\":\"y\",\"type\":\"bar\"}],\"name\":\"2007\"},{\"data\":[{\"alignmentgroup\":\"True\",\"hovertemplate\":\"Entity=%{y}<br>Year=2008<br>Deaths=%{x}<extra></extra>\",\"legendgroup\":\"All natural disasters\",\"marker\":{\"color\":\"#636efa\",\"pattern\":{\"shape\":\"\"}},\"name\":\"All natural disasters\",\"offsetgroup\":\"All natural disasters\",\"orientation\":\"h\",\"showlegend\":true,\"textposition\":\"auto\",\"x\":[242236],\"xaxis\":\"x\",\"y\":[\"All natural disasters\"],\"yaxis\":\"y\",\"type\":\"bar\"},{\"alignmentgroup\":\"True\",\"hovertemplate\":\"Entity=%{y}<br>Year=2008<br>Deaths=%{x}<extra></extra>\",\"legendgroup\":\"Drought\",\"marker\":{\"color\":\"#EF553B\",\"pattern\":{\"shape\":\"\"}},\"name\":\"Drought\",\"offsetgroup\":\"Drought\",\"orientation\":\"h\",\"showlegend\":true,\"textposition\":\"auto\",\"x\":[8],\"xaxis\":\"x\",\"y\":[\"Drought\"],\"yaxis\":\"y\",\"type\":\"bar\"},{\"alignmentgroup\":\"True\",\"hovertemplate\":\"Entity=%{y}<br>Year=2008<br>Deaths=%{x}<extra></extra>\",\"legendgroup\":\"Earthquake\",\"marker\":{\"color\":\"#00cc96\",\"pattern\":{\"shape\":\"\"}},\"name\":\"Earthquake\",\"offsetgroup\":\"Earthquake\",\"orientation\":\"h\",\"showlegend\":true,\"textposition\":\"auto\",\"x\":[87918],\"xaxis\":\"x\",\"y\":[\"Earthquake\"],\"yaxis\":\"y\",\"type\":\"bar\"},{\"alignmentgroup\":\"True\",\"hovertemplate\":\"Entity=%{y}<br>Year=2008<br>Deaths=%{x}<extra></extra>\",\"legendgroup\":\"Epidemic\",\"marker\":{\"color\":\"#ab63fa\",\"pattern\":{\"shape\":\"\"}},\"name\":\"Epidemic\",\"offsetgroup\":\"Epidemic\",\"orientation\":\"h\",\"showlegend\":true,\"textposition\":\"auto\",\"x\":[6904],\"xaxis\":\"x\",\"y\":[\"Epidemic\"],\"yaxis\":\"y\",\"type\":\"bar\"},{\"alignmentgroup\":\"True\",\"hovertemplate\":\"Entity=%{y}<br>Year=2008<br>Deaths=%{x}<extra></extra>\",\"legendgroup\":\"Extreme temperature\",\"marker\":{\"color\":\"#FFA15A\",\"pattern\":{\"shape\":\"\"}},\"name\":\"Extreme temperature\",\"offsetgroup\":\"Extreme temperature\",\"orientation\":\"h\",\"showlegend\":true,\"textposition\":\"auto\",\"x\":[1688],\"xaxis\":\"x\",\"y\":[\"Extreme temperature\"],\"yaxis\":\"y\",\"type\":\"bar\"},{\"alignmentgroup\":\"True\",\"hovertemplate\":\"Entity=%{y}<br>Year=2008<br>Deaths=%{x}<extra></extra>\",\"legendgroup\":\"Extreme weather\",\"marker\":{\"color\":\"#19d3f3\",\"pattern\":{\"shape\":\"\"}},\"name\":\"Extreme weather\",\"offsetgroup\":\"Extreme weather\",\"orientation\":\"h\",\"showlegend\":true,\"textposition\":\"auto\",\"x\":[140985],\"xaxis\":\"x\",\"y\":[\"Extreme weather\"],\"yaxis\":\"y\",\"type\":\"bar\"},{\"alignmentgroup\":\"True\",\"hovertemplate\":\"Entity=%{y}<br>Year=2008<br>Deaths=%{x}<extra></extra>\",\"legendgroup\":\"Flood\",\"marker\":{\"color\":\"#FF6692\",\"pattern\":{\"shape\":\"\"}},\"name\":\"Flood\",\"offsetgroup\":\"Flood\",\"orientation\":\"h\",\"showlegend\":true,\"textposition\":\"auto\",\"x\":[4007],\"xaxis\":\"x\",\"y\":[\"Flood\"],\"yaxis\":\"y\",\"type\":\"bar\"},{\"alignmentgroup\":\"True\",\"hovertemplate\":\"Entity=%{y}<br>Year=2008<br>Deaths=%{x}<extra></extra>\",\"legendgroup\":\"Landslide\",\"marker\":{\"color\":\"#B6E880\",\"pattern\":{\"shape\":\"\"}},\"name\":\"Landslide\",\"offsetgroup\":\"Landslide\",\"orientation\":\"h\",\"showlegend\":true,\"textposition\":\"auto\",\"x\":[504],\"xaxis\":\"x\",\"y\":[\"Landslide\"],\"yaxis\":\"y\",\"type\":\"bar\"},{\"alignmentgroup\":\"True\",\"hovertemplate\":\"Entity=%{y}<br>Year=2008<br>Deaths=%{x}<extra></extra>\",\"legendgroup\":\"Mass movement (dry)\",\"marker\":{\"color\":\"#FF97FF\",\"pattern\":{\"shape\":\"\"}},\"name\":\"Mass movement (dry)\",\"offsetgroup\":\"Mass movement (dry)\",\"orientation\":\"h\",\"showlegend\":true,\"textposition\":\"auto\",\"x\":[120],\"xaxis\":\"x\",\"y\":[\"Mass movement (dry)\"],\"yaxis\":\"y\",\"type\":\"bar\"},{\"alignmentgroup\":\"True\",\"hovertemplate\":\"Entity=%{y}<br>Year=2008<br>Deaths=%{x}<extra></extra>\",\"legendgroup\":\"Volcanic activity\",\"marker\":{\"color\":\"#FECB52\",\"pattern\":{\"shape\":\"\"}},\"name\":\"Volcanic activity\",\"offsetgroup\":\"Volcanic activity\",\"orientation\":\"h\",\"showlegend\":true,\"textposition\":\"auto\",\"x\":[16],\"xaxis\":\"x\",\"y\":[\"Volcanic activity\"],\"yaxis\":\"y\",\"type\":\"bar\"},{\"alignmentgroup\":\"True\",\"hovertemplate\":\"Entity=%{y}<br>Year=2008<br>Deaths=%{x}<extra></extra>\",\"legendgroup\":\"Wildfire\",\"marker\":{\"color\":\"#636efa\",\"pattern\":{\"shape\":\"\"}},\"name\":\"Wildfire\",\"offsetgroup\":\"Wildfire\",\"orientation\":\"h\",\"showlegend\":true,\"textposition\":\"auto\",\"x\":[86],\"xaxis\":\"x\",\"y\":[\"Wildfire\"],\"yaxis\":\"y\",\"type\":\"bar\"}],\"name\":\"2008\"},{\"data\":[{\"alignmentgroup\":\"True\",\"hovertemplate\":\"Entity=%{y}<br>Year=2009<br>Deaths=%{x}<extra></extra>\",\"legendgroup\":\"All natural disasters\",\"marker\":{\"color\":\"#636efa\",\"pattern\":{\"shape\":\"\"}},\"name\":\"All natural disasters\",\"offsetgroup\":\"All natural disasters\",\"orientation\":\"h\",\"showlegend\":true,\"textposition\":\"auto\",\"x\":[16037],\"xaxis\":\"x\",\"y\":[\"All natural disasters\"],\"yaxis\":\"y\",\"type\":\"bar\"},{\"alignmentgroup\":\"True\",\"hovertemplate\":\"Entity=%{y}<br>Year=2009<br>Deaths=%{x}<extra></extra>\",\"legendgroup\":\"Earthquake\",\"marker\":{\"color\":\"#00cc96\",\"pattern\":{\"shape\":\"\"}},\"name\":\"Earthquake\",\"offsetgroup\":\"Earthquake\",\"orientation\":\"h\",\"showlegend\":true,\"textposition\":\"auto\",\"x\":[1893],\"xaxis\":\"x\",\"y\":[\"Earthquake\"],\"yaxis\":\"y\",\"type\":\"bar\"},{\"alignmentgroup\":\"True\",\"hovertemplate\":\"Entity=%{y}<br>Year=2009<br>Deaths=%{x}<extra></extra>\",\"legendgroup\":\"Epidemic\",\"marker\":{\"color\":\"#ab63fa\",\"pattern\":{\"shape\":\"\"}},\"name\":\"Epidemic\",\"offsetgroup\":\"Epidemic\",\"orientation\":\"h\",\"showlegend\":true,\"textposition\":\"auto\",\"x\":[4895],\"xaxis\":\"x\",\"y\":[\"Epidemic\"],\"yaxis\":\"y\",\"type\":\"bar\"},{\"alignmentgroup\":\"True\",\"hovertemplate\":\"Entity=%{y}<br>Year=2009<br>Deaths=%{x}<extra></extra>\",\"legendgroup\":\"Extreme temperature\",\"marker\":{\"color\":\"#FFA15A\",\"pattern\":{\"shape\":\"\"}},\"name\":\"Extreme temperature\",\"offsetgroup\":\"Extreme temperature\",\"orientation\":\"h\",\"showlegend\":true,\"textposition\":\"auto\",\"x\":[1386],\"xaxis\":\"x\",\"y\":[\"Extreme temperature\"],\"yaxis\":\"y\",\"type\":\"bar\"},{\"alignmentgroup\":\"True\",\"hovertemplate\":\"Entity=%{y}<br>Year=2009<br>Deaths=%{x}<extra></extra>\",\"legendgroup\":\"Extreme weather\",\"marker\":{\"color\":\"#19d3f3\",\"pattern\":{\"shape\":\"\"}},\"name\":\"Extreme weather\",\"offsetgroup\":\"Extreme weather\",\"orientation\":\"h\",\"showlegend\":true,\"textposition\":\"auto\",\"x\":[3287],\"xaxis\":\"x\",\"y\":[\"Extreme weather\"],\"yaxis\":\"y\",\"type\":\"bar\"},{\"alignmentgroup\":\"True\",\"hovertemplate\":\"Entity=%{y}<br>Year=2009<br>Deaths=%{x}<extra></extra>\",\"legendgroup\":\"Flood\",\"marker\":{\"color\":\"#FF6692\",\"pattern\":{\"shape\":\"\"}},\"name\":\"Flood\",\"offsetgroup\":\"Flood\",\"orientation\":\"h\",\"showlegend\":true,\"textposition\":\"auto\",\"x\":[3627],\"xaxis\":\"x\",\"y\":[\"Flood\"],\"yaxis\":\"y\",\"type\":\"bar\"},{\"alignmentgroup\":\"True\",\"hovertemplate\":\"Entity=%{y}<br>Year=2009<br>Deaths=%{x}<extra></extra>\",\"legendgroup\":\"Landslide\",\"marker\":{\"color\":\"#B6E880\",\"pattern\":{\"shape\":\"\"}},\"name\":\"Landslide\",\"offsetgroup\":\"Landslide\",\"orientation\":\"h\",\"showlegend\":true,\"textposition\":\"auto\",\"x\":[723],\"xaxis\":\"x\",\"y\":[\"Landslide\"],\"yaxis\":\"y\",\"type\":\"bar\"},{\"alignmentgroup\":\"True\",\"hovertemplate\":\"Entity=%{y}<br>Year=2009<br>Deaths=%{x}<extra></extra>\",\"legendgroup\":\"Mass movement (dry)\",\"marker\":{\"color\":\"#FF97FF\",\"pattern\":{\"shape\":\"\"}},\"name\":\"Mass movement (dry)\",\"offsetgroup\":\"Mass movement (dry)\",\"orientation\":\"h\",\"showlegend\":true,\"textposition\":\"auto\",\"x\":[36],\"xaxis\":\"x\",\"y\":[\"Mass movement (dry)\"],\"yaxis\":\"y\",\"type\":\"bar\"},{\"alignmentgroup\":\"True\",\"hovertemplate\":\"Entity=%{y}<br>Year=2009<br>Deaths=%{x}<extra></extra>\",\"legendgroup\":\"Wildfire\",\"marker\":{\"color\":\"#636efa\",\"pattern\":{\"shape\":\"\"}},\"name\":\"Wildfire\",\"offsetgroup\":\"Wildfire\",\"orientation\":\"h\",\"showlegend\":true,\"textposition\":\"auto\",\"x\":[190],\"xaxis\":\"x\",\"y\":[\"Wildfire\"],\"yaxis\":\"y\",\"type\":\"bar\"}],\"name\":\"2009\"},{\"data\":[{\"alignmentgroup\":\"True\",\"hovertemplate\":\"Entity=%{y}<br>Year=2010<br>Deaths=%{x}<extra></extra>\",\"legendgroup\":\"All natural disasters\",\"marker\":{\"color\":\"#636efa\",\"pattern\":{\"shape\":\"\"}},\"name\":\"All natural disasters\",\"offsetgroup\":\"All natural disasters\",\"orientation\":\"h\",\"showlegend\":true,\"textposition\":\"auto\",\"x\":[329900],\"xaxis\":\"x\",\"y\":[\"All natural disasters\"],\"yaxis\":\"y\",\"type\":\"bar\"},{\"alignmentgroup\":\"True\",\"hovertemplate\":\"Entity=%{y}<br>Year=2010<br>Deaths=%{x}<extra></extra>\",\"legendgroup\":\"Drought\",\"marker\":{\"color\":\"#EF553B\",\"pattern\":{\"shape\":\"\"}},\"name\":\"Drought\",\"offsetgroup\":\"Drought\",\"orientation\":\"h\",\"showlegend\":true,\"textposition\":\"auto\",\"x\":[20000],\"xaxis\":\"x\",\"y\":[\"Drought\"],\"yaxis\":\"y\",\"type\":\"bar\"},{\"alignmentgroup\":\"True\",\"hovertemplate\":\"Entity=%{y}<br>Year=2010<br>Deaths=%{x}<extra></extra>\",\"legendgroup\":\"Earthquake\",\"marker\":{\"color\":\"#00cc96\",\"pattern\":{\"shape\":\"\"}},\"name\":\"Earthquake\",\"offsetgroup\":\"Earthquake\",\"orientation\":\"h\",\"showlegend\":true,\"textposition\":\"auto\",\"x\":[226733],\"xaxis\":\"x\",\"y\":[\"Earthquake\"],\"yaxis\":\"y\",\"type\":\"bar\"},{\"alignmentgroup\":\"True\",\"hovertemplate\":\"Entity=%{y}<br>Year=2010<br>Deaths=%{x}<extra></extra>\",\"legendgroup\":\"Epidemic\",\"marker\":{\"color\":\"#ab63fa\",\"pattern\":{\"shape\":\"\"}},\"name\":\"Epidemic\",\"offsetgroup\":\"Epidemic\",\"orientation\":\"h\",\"showlegend\":true,\"textposition\":\"auto\",\"x\":[12143],\"xaxis\":\"x\",\"y\":[\"Epidemic\"],\"yaxis\":\"y\",\"type\":\"bar\"},{\"alignmentgroup\":\"True\",\"hovertemplate\":\"Entity=%{y}<br>Year=2010<br>Deaths=%{x}<extra></extra>\",\"legendgroup\":\"Extreme temperature\",\"marker\":{\"color\":\"#FFA15A\",\"pattern\":{\"shape\":\"\"}},\"name\":\"Extreme temperature\",\"offsetgroup\":\"Extreme temperature\",\"orientation\":\"h\",\"showlegend\":true,\"textposition\":\"auto\",\"x\":[57188],\"xaxis\":\"x\",\"y\":[\"Extreme temperature\"],\"yaxis\":\"y\",\"type\":\"bar\"},{\"alignmentgroup\":\"True\",\"hovertemplate\":\"Entity=%{y}<br>Year=2010<br>Deaths=%{x}<extra></extra>\",\"legendgroup\":\"Extreme weather\",\"marker\":{\"color\":\"#19d3f3\",\"pattern\":{\"shape\":\"\"}},\"name\":\"Extreme weather\",\"offsetgroup\":\"Extreme weather\",\"orientation\":\"h\",\"showlegend\":true,\"textposition\":\"auto\",\"x\":[1564],\"xaxis\":\"x\",\"y\":[\"Extreme weather\"],\"yaxis\":\"y\",\"type\":\"bar\"},{\"alignmentgroup\":\"True\",\"hovertemplate\":\"Entity=%{y}<br>Year=2010<br>Deaths=%{x}<extra></extra>\",\"legendgroup\":\"Flood\",\"marker\":{\"color\":\"#FF6692\",\"pattern\":{\"shape\":\"\"}},\"name\":\"Flood\",\"offsetgroup\":\"Flood\",\"orientation\":\"h\",\"showlegend\":true,\"textposition\":\"auto\",\"x\":[8356],\"xaxis\":\"x\",\"y\":[\"Flood\"],\"yaxis\":\"y\",\"type\":\"bar\"},{\"alignmentgroup\":\"True\",\"hovertemplate\":\"Entity=%{y}<br>Year=2010<br>Deaths=%{x}<extra></extra>\",\"legendgroup\":\"Landslide\",\"marker\":{\"color\":\"#B6E880\",\"pattern\":{\"shape\":\"\"}},\"name\":\"Landslide\",\"offsetgroup\":\"Landslide\",\"orientation\":\"h\",\"showlegend\":true,\"textposition\":\"auto\",\"x\":[3427],\"xaxis\":\"x\",\"y\":[\"Landslide\"],\"yaxis\":\"y\",\"type\":\"bar\"},{\"alignmentgroup\":\"True\",\"hovertemplate\":\"Entity=%{y}<br>Year=2010<br>Deaths=%{x}<extra></extra>\",\"legendgroup\":\"Volcanic activity\",\"marker\":{\"color\":\"#FECB52\",\"pattern\":{\"shape\":\"\"}},\"name\":\"Volcanic activity\",\"offsetgroup\":\"Volcanic activity\",\"orientation\":\"h\",\"showlegend\":true,\"textposition\":\"auto\",\"x\":[323],\"xaxis\":\"x\",\"y\":[\"Volcanic activity\"],\"yaxis\":\"y\",\"type\":\"bar\"},{\"alignmentgroup\":\"True\",\"hovertemplate\":\"Entity=%{y}<br>Year=2010<br>Deaths=%{x}<extra></extra>\",\"legendgroup\":\"Wildfire\",\"marker\":{\"color\":\"#636efa\",\"pattern\":{\"shape\":\"\"}},\"name\":\"Wildfire\",\"offsetgroup\":\"Wildfire\",\"orientation\":\"h\",\"showlegend\":true,\"textposition\":\"auto\",\"x\":[166],\"xaxis\":\"x\",\"y\":[\"Wildfire\"],\"yaxis\":\"y\",\"type\":\"bar\"}],\"name\":\"2010\"},{\"data\":[{\"alignmentgroup\":\"True\",\"hovertemplate\":\"Entity=%{y}<br>Year=2011<br>Deaths=%{x}<extra></extra>\",\"legendgroup\":\"All natural disasters\",\"marker\":{\"color\":\"#636efa\",\"pattern\":{\"shape\":\"\"}},\"name\":\"All natural disasters\",\"offsetgroup\":\"All natural disasters\",\"orientation\":\"h\",\"showlegend\":true,\"textposition\":\"auto\",\"x\":[34143],\"xaxis\":\"x\",\"y\":[\"All natural disasters\"],\"yaxis\":\"y\",\"type\":\"bar\"},{\"alignmentgroup\":\"True\",\"hovertemplate\":\"Entity=%{y}<br>Year=2011<br>Deaths=%{x}<extra></extra>\",\"legendgroup\":\"Earthquake\",\"marker\":{\"color\":\"#00cc96\",\"pattern\":{\"shape\":\"\"}},\"name\":\"Earthquake\",\"offsetgroup\":\"Earthquake\",\"orientation\":\"h\",\"showlegend\":true,\"textposition\":\"auto\",\"x\":[20946],\"xaxis\":\"x\",\"y\":[\"Earthquake\"],\"yaxis\":\"y\",\"type\":\"bar\"},{\"alignmentgroup\":\"True\",\"hovertemplate\":\"Entity=%{y}<br>Year=2011<br>Deaths=%{x}<extra></extra>\",\"legendgroup\":\"Epidemic\",\"marker\":{\"color\":\"#ab63fa\",\"pattern\":{\"shape\":\"\"}},\"name\":\"Epidemic\",\"offsetgroup\":\"Epidemic\",\"orientation\":\"h\",\"showlegend\":true,\"textposition\":\"auto\",\"x\":[3174],\"xaxis\":\"x\",\"y\":[\"Epidemic\"],\"yaxis\":\"y\",\"type\":\"bar\"},{\"alignmentgroup\":\"True\",\"hovertemplate\":\"Entity=%{y}<br>Year=2011<br>Deaths=%{x}<extra></extra>\",\"legendgroup\":\"Extreme temperature\",\"marker\":{\"color\":\"#FFA15A\",\"pattern\":{\"shape\":\"\"}},\"name\":\"Extreme temperature\",\"offsetgroup\":\"Extreme temperature\",\"orientation\":\"h\",\"showlegend\":true,\"textposition\":\"auto\",\"x\":[435],\"xaxis\":\"x\",\"y\":[\"Extreme temperature\"],\"yaxis\":\"y\",\"type\":\"bar\"},{\"alignmentgroup\":\"True\",\"hovertemplate\":\"Entity=%{y}<br>Year=2011<br>Deaths=%{x}<extra></extra>\",\"legendgroup\":\"Extreme weather\",\"marker\":{\"color\":\"#19d3f3\",\"pattern\":{\"shape\":\"\"}},\"name\":\"Extreme weather\",\"offsetgroup\":\"Extreme weather\",\"orientation\":\"h\",\"showlegend\":true,\"textposition\":\"auto\",\"x\":[3103],\"xaxis\":\"x\",\"y\":[\"Extreme weather\"],\"yaxis\":\"y\",\"type\":\"bar\"},{\"alignmentgroup\":\"True\",\"hovertemplate\":\"Entity=%{y}<br>Year=2011<br>Deaths=%{x}<extra></extra>\",\"legendgroup\":\"Flood\",\"marker\":{\"color\":\"#FF6692\",\"pattern\":{\"shape\":\"\"}},\"name\":\"Flood\",\"offsetgroup\":\"Flood\",\"orientation\":\"h\",\"showlegend\":true,\"textposition\":\"auto\",\"x\":[6163],\"xaxis\":\"x\",\"y\":[\"Flood\"],\"yaxis\":\"y\",\"type\":\"bar\"},{\"alignmentgroup\":\"True\",\"hovertemplate\":\"Entity=%{y}<br>Year=2011<br>Deaths=%{x}<extra></extra>\",\"legendgroup\":\"Landslide\",\"marker\":{\"color\":\"#B6E880\",\"pattern\":{\"shape\":\"\"}},\"name\":\"Landslide\",\"offsetgroup\":\"Landslide\",\"orientation\":\"h\",\"showlegend\":true,\"textposition\":\"auto\",\"x\":[309],\"xaxis\":\"x\",\"y\":[\"Landslide\"],\"yaxis\":\"y\",\"type\":\"bar\"},{\"alignmentgroup\":\"True\",\"hovertemplate\":\"Entity=%{y}<br>Year=2011<br>Deaths=%{x}<extra></extra>\",\"legendgroup\":\"Volcanic activity\",\"marker\":{\"color\":\"#FECB52\",\"pattern\":{\"shape\":\"\"}},\"name\":\"Volcanic activity\",\"offsetgroup\":\"Volcanic activity\",\"orientation\":\"h\",\"showlegend\":true,\"textposition\":\"auto\",\"x\":[3],\"xaxis\":\"x\",\"y\":[\"Volcanic activity\"],\"yaxis\":\"y\",\"type\":\"bar\"},{\"alignmentgroup\":\"True\",\"hovertemplate\":\"Entity=%{y}<br>Year=2011<br>Deaths=%{x}<extra></extra>\",\"legendgroup\":\"Wildfire\",\"marker\":{\"color\":\"#636efa\",\"pattern\":{\"shape\":\"\"}},\"name\":\"Wildfire\",\"offsetgroup\":\"Wildfire\",\"orientation\":\"h\",\"showlegend\":true,\"textposition\":\"auto\",\"x\":[10],\"xaxis\":\"x\",\"y\":[\"Wildfire\"],\"yaxis\":\"y\",\"type\":\"bar\"}],\"name\":\"2011\"},{\"data\":[{\"alignmentgroup\":\"True\",\"hovertemplate\":\"Entity=%{y}<br>Year=2012<br>Deaths=%{x}<extra></extra>\",\"legendgroup\":\"All natural disasters\",\"marker\":{\"color\":\"#636efa\",\"pattern\":{\"shape\":\"\"}},\"name\":\"All natural disasters\",\"offsetgroup\":\"All natural disasters\",\"orientation\":\"h\",\"showlegend\":true,\"textposition\":\"auto\",\"x\":[11619],\"xaxis\":\"x\",\"y\":[\"All natural disasters\"],\"yaxis\":\"y\",\"type\":\"bar\"},{\"alignmentgroup\":\"True\",\"hovertemplate\":\"Entity=%{y}<br>Year=2012<br>Deaths=%{x}<extra></extra>\",\"legendgroup\":\"Earthquake\",\"marker\":{\"color\":\"#00cc96\",\"pattern\":{\"shape\":\"\"}},\"name\":\"Earthquake\",\"offsetgroup\":\"Earthquake\",\"orientation\":\"h\",\"showlegend\":true,\"textposition\":\"auto\",\"x\":[711],\"xaxis\":\"x\",\"y\":[\"Earthquake\"],\"yaxis\":\"y\",\"type\":\"bar\"},{\"alignmentgroup\":\"True\",\"hovertemplate\":\"Entity=%{y}<br>Year=2012<br>Deaths=%{x}<extra></extra>\",\"legendgroup\":\"Epidemic\",\"marker\":{\"color\":\"#ab63fa\",\"pattern\":{\"shape\":\"\"}},\"name\":\"Epidemic\",\"offsetgroup\":\"Epidemic\",\"orientation\":\"h\",\"showlegend\":true,\"textposition\":\"auto\",\"x\":[1887],\"xaxis\":\"x\",\"y\":[\"Epidemic\"],\"yaxis\":\"y\",\"type\":\"bar\"},{\"alignmentgroup\":\"True\",\"hovertemplate\":\"Entity=%{y}<br>Year=2012<br>Deaths=%{x}<extra></extra>\",\"legendgroup\":\"Extreme temperature\",\"marker\":{\"color\":\"#FFA15A\",\"pattern\":{\"shape\":\"\"}},\"name\":\"Extreme temperature\",\"offsetgroup\":\"Extreme temperature\",\"orientation\":\"h\",\"showlegend\":true,\"textposition\":\"auto\",\"x\":[1834],\"xaxis\":\"x\",\"y\":[\"Extreme temperature\"],\"yaxis\":\"y\",\"type\":\"bar\"},{\"alignmentgroup\":\"True\",\"hovertemplate\":\"Entity=%{y}<br>Year=2012<br>Deaths=%{x}<extra></extra>\",\"legendgroup\":\"Extreme weather\",\"marker\":{\"color\":\"#19d3f3\",\"pattern\":{\"shape\":\"\"}},\"name\":\"Extreme weather\",\"offsetgroup\":\"Extreme weather\",\"orientation\":\"h\",\"showlegend\":true,\"textposition\":\"auto\",\"x\":[3105],\"xaxis\":\"x\",\"y\":[\"Extreme weather\"],\"yaxis\":\"y\",\"type\":\"bar\"},{\"alignmentgroup\":\"True\",\"hovertemplate\":\"Entity=%{y}<br>Year=2012<br>Deaths=%{x}<extra></extra>\",\"legendgroup\":\"Flood\",\"marker\":{\"color\":\"#FF6692\",\"pattern\":{\"shape\":\"\"}},\"name\":\"Flood\",\"offsetgroup\":\"Flood\",\"orientation\":\"h\",\"showlegend\":true,\"textposition\":\"auto\",\"x\":[3544],\"xaxis\":\"x\",\"y\":[\"Flood\"],\"yaxis\":\"y\",\"type\":\"bar\"},{\"alignmentgroup\":\"True\",\"hovertemplate\":\"Entity=%{y}<br>Year=2012<br>Deaths=%{x}<extra></extra>\",\"legendgroup\":\"Landslide\",\"marker\":{\"color\":\"#B6E880\",\"pattern\":{\"shape\":\"\"}},\"name\":\"Landslide\",\"offsetgroup\":\"Landslide\",\"orientation\":\"h\",\"showlegend\":true,\"textposition\":\"auto\",\"x\":[501],\"xaxis\":\"x\",\"y\":[\"Landslide\"],\"yaxis\":\"y\",\"type\":\"bar\"},{\"alignmentgroup\":\"True\",\"hovertemplate\":\"Entity=%{y}<br>Year=2012<br>Deaths=%{x}<extra></extra>\",\"legendgroup\":\"Mass movement (dry)\",\"marker\":{\"color\":\"#FF97FF\",\"pattern\":{\"shape\":\"\"}},\"name\":\"Mass movement (dry)\",\"offsetgroup\":\"Mass movement (dry)\",\"orientation\":\"h\",\"showlegend\":true,\"textposition\":\"auto\",\"x\":[16],\"xaxis\":\"x\",\"y\":[\"Mass movement (dry)\"],\"yaxis\":\"y\",\"type\":\"bar\"},{\"alignmentgroup\":\"True\",\"hovertemplate\":\"Entity=%{y}<br>Year=2012<br>Deaths=%{x}<extra></extra>\",\"legendgroup\":\"Wildfire\",\"marker\":{\"color\":\"#636efa\",\"pattern\":{\"shape\":\"\"}},\"name\":\"Wildfire\",\"offsetgroup\":\"Wildfire\",\"orientation\":\"h\",\"showlegend\":true,\"textposition\":\"auto\",\"x\":[21],\"xaxis\":\"x\",\"y\":[\"Wildfire\"],\"yaxis\":\"y\",\"type\":\"bar\"}],\"name\":\"2012\"},{\"data\":[{\"alignmentgroup\":\"True\",\"hovertemplate\":\"Entity=%{y}<br>Year=2013<br>Deaths=%{x}<extra></extra>\",\"legendgroup\":\"All natural disasters\",\"marker\":{\"color\":\"#636efa\",\"pattern\":{\"shape\":\"\"}},\"name\":\"All natural disasters\",\"offsetgroup\":\"All natural disasters\",\"orientation\":\"h\",\"showlegend\":true,\"textposition\":\"auto\",\"x\":[22225],\"xaxis\":\"x\",\"y\":[\"All natural disasters\"],\"yaxis\":\"y\",\"type\":\"bar\"},{\"alignmentgroup\":\"True\",\"hovertemplate\":\"Entity=%{y}<br>Year=2013<br>Deaths=%{x}<extra></extra>\",\"legendgroup\":\"Earthquake\",\"marker\":{\"color\":\"#00cc96\",\"pattern\":{\"shape\":\"\"}},\"name\":\"Earthquake\",\"offsetgroup\":\"Earthquake\",\"orientation\":\"h\",\"showlegend\":true,\"textposition\":\"auto\",\"x\":[1120],\"xaxis\":\"x\",\"y\":[\"Earthquake\"],\"yaxis\":\"y\",\"type\":\"bar\"},{\"alignmentgroup\":\"True\",\"hovertemplate\":\"Entity=%{y}<br>Year=2013<br>Deaths=%{x}<extra></extra>\",\"legendgroup\":\"Epidemic\",\"marker\":{\"color\":\"#ab63fa\",\"pattern\":{\"shape\":\"\"}},\"name\":\"Epidemic\",\"offsetgroup\":\"Epidemic\",\"orientation\":\"h\",\"showlegend\":true,\"textposition\":\"auto\",\"x\":[529],\"xaxis\":\"x\",\"y\":[\"Epidemic\"],\"yaxis\":\"y\",\"type\":\"bar\"},{\"alignmentgroup\":\"True\",\"hovertemplate\":\"Entity=%{y}<br>Year=2013<br>Deaths=%{x}<extra></extra>\",\"legendgroup\":\"Extreme temperature\",\"marker\":{\"color\":\"#FFA15A\",\"pattern\":{\"shape\":\"\"}},\"name\":\"Extreme temperature\",\"offsetgroup\":\"Extreme temperature\",\"orientation\":\"h\",\"showlegend\":true,\"textposition\":\"auto\",\"x\":[1821],\"xaxis\":\"x\",\"y\":[\"Extreme temperature\"],\"yaxis\":\"y\",\"type\":\"bar\"},{\"alignmentgroup\":\"True\",\"hovertemplate\":\"Entity=%{y}<br>Year=2013<br>Deaths=%{x}<extra></extra>\",\"legendgroup\":\"Extreme weather\",\"marker\":{\"color\":\"#19d3f3\",\"pattern\":{\"shape\":\"\"}},\"name\":\"Extreme weather\",\"offsetgroup\":\"Extreme weather\",\"orientation\":\"h\",\"showlegend\":true,\"textposition\":\"auto\",\"x\":[8603],\"xaxis\":\"x\",\"y\":[\"Extreme weather\"],\"yaxis\":\"y\",\"type\":\"bar\"},{\"alignmentgroup\":\"True\",\"hovertemplate\":\"Entity=%{y}<br>Year=2013<br>Deaths=%{x}<extra></extra>\",\"legendgroup\":\"Flood\",\"marker\":{\"color\":\"#FF6692\",\"pattern\":{\"shape\":\"\"}},\"name\":\"Flood\",\"offsetgroup\":\"Flood\",\"orientation\":\"h\",\"showlegend\":true,\"textposition\":\"auto\",\"x\":[9836],\"xaxis\":\"x\",\"y\":[\"Flood\"],\"yaxis\":\"y\",\"type\":\"bar\"},{\"alignmentgroup\":\"True\",\"hovertemplate\":\"Entity=%{y}<br>Year=2013<br>Deaths=%{x}<extra></extra>\",\"legendgroup\":\"Landslide\",\"marker\":{\"color\":\"#B6E880\",\"pattern\":{\"shape\":\"\"}},\"name\":\"Landslide\",\"offsetgroup\":\"Landslide\",\"orientation\":\"h\",\"showlegend\":true,\"textposition\":\"auto\",\"x\":[235],\"xaxis\":\"x\",\"y\":[\"Landslide\"],\"yaxis\":\"y\",\"type\":\"bar\"},{\"alignmentgroup\":\"True\",\"hovertemplate\":\"Entity=%{y}<br>Year=2013<br>Deaths=%{x}<extra></extra>\",\"legendgroup\":\"Mass movement (dry)\",\"marker\":{\"color\":\"#FF97FF\",\"pattern\":{\"shape\":\"\"}},\"name\":\"Mass movement (dry)\",\"offsetgroup\":\"Mass movement (dry)\",\"orientation\":\"h\",\"showlegend\":true,\"textposition\":\"auto\",\"x\":[46],\"xaxis\":\"x\",\"y\":[\"Mass movement (dry)\"],\"yaxis\":\"y\",\"type\":\"bar\"},{\"alignmentgroup\":\"True\",\"hovertemplate\":\"Entity=%{y}<br>Year=2013<br>Deaths=%{x}<extra></extra>\",\"legendgroup\":\"Wildfire\",\"marker\":{\"color\":\"#636efa\",\"pattern\":{\"shape\":\"\"}},\"name\":\"Wildfire\",\"offsetgroup\":\"Wildfire\",\"orientation\":\"h\",\"showlegend\":true,\"textposition\":\"auto\",\"x\":[35],\"xaxis\":\"x\",\"y\":[\"Wildfire\"],\"yaxis\":\"y\",\"type\":\"bar\"}],\"name\":\"2013\"},{\"data\":[{\"alignmentgroup\":\"True\",\"hovertemplate\":\"Entity=%{y}<br>Year=2014<br>Deaths=%{x}<extra></extra>\",\"legendgroup\":\"All natural disasters\",\"marker\":{\"color\":\"#636efa\",\"pattern\":{\"shape\":\"\"}},\"name\":\"All natural disasters\",\"offsetgroup\":\"All natural disasters\",\"orientation\":\"h\",\"showlegend\":true,\"textposition\":\"auto\",\"x\":[20882],\"xaxis\":\"x\",\"y\":[\"All natural disasters\"],\"yaxis\":\"y\",\"type\":\"bar\"},{\"alignmentgroup\":\"True\",\"hovertemplate\":\"Entity=%{y}<br>Year=2014<br>Deaths=%{x}<extra></extra>\",\"legendgroup\":\"Earthquake\",\"marker\":{\"color\":\"#00cc96\",\"pattern\":{\"shape\":\"\"}},\"name\":\"Earthquake\",\"offsetgroup\":\"Earthquake\",\"orientation\":\"h\",\"showlegend\":true,\"textposition\":\"auto\",\"x\":[774],\"xaxis\":\"x\",\"y\":[\"Earthquake\"],\"yaxis\":\"y\",\"type\":\"bar\"},{\"alignmentgroup\":\"True\",\"hovertemplate\":\"Entity=%{y}<br>Year=2014<br>Deaths=%{x}<extra></extra>\",\"legendgroup\":\"Epidemic\",\"marker\":{\"color\":\"#ab63fa\",\"pattern\":{\"shape\":\"\"}},\"name\":\"Epidemic\",\"offsetgroup\":\"Epidemic\",\"orientation\":\"h\",\"showlegend\":true,\"textposition\":\"auto\",\"x\":[12911],\"xaxis\":\"x\",\"y\":[\"Epidemic\"],\"yaxis\":\"y\",\"type\":\"bar\"},{\"alignmentgroup\":\"True\",\"hovertemplate\":\"Entity=%{y}<br>Year=2014<br>Deaths=%{x}<extra></extra>\",\"legendgroup\":\"Extreme temperature\",\"marker\":{\"color\":\"#FFA15A\",\"pattern\":{\"shape\":\"\"}},\"name\":\"Extreme temperature\",\"offsetgroup\":\"Extreme temperature\",\"orientation\":\"h\",\"showlegend\":true,\"textposition\":\"auto\",\"x\":[1168],\"xaxis\":\"x\",\"y\":[\"Extreme temperature\"],\"yaxis\":\"y\",\"type\":\"bar\"},{\"alignmentgroup\":\"True\",\"hovertemplate\":\"Entity=%{y}<br>Year=2014<br>Deaths=%{x}<extra></extra>\",\"legendgroup\":\"Extreme weather\",\"marker\":{\"color\":\"#19d3f3\",\"pattern\":{\"shape\":\"\"}},\"name\":\"Extreme weather\",\"offsetgroup\":\"Extreme weather\",\"orientation\":\"h\",\"showlegend\":true,\"textposition\":\"auto\",\"x\":[1424],\"xaxis\":\"x\",\"y\":[\"Extreme weather\"],\"yaxis\":\"y\",\"type\":\"bar\"},{\"alignmentgroup\":\"True\",\"hovertemplate\":\"Entity=%{y}<br>Year=2014<br>Deaths=%{x}<extra></extra>\",\"legendgroup\":\"Flood\",\"marker\":{\"color\":\"#FF6692\",\"pattern\":{\"shape\":\"\"}},\"name\":\"Flood\",\"offsetgroup\":\"Flood\",\"orientation\":\"h\",\"showlegend\":true,\"textposition\":\"auto\",\"x\":[3532],\"xaxis\":\"x\",\"y\":[\"Flood\"],\"yaxis\":\"y\",\"type\":\"bar\"},{\"alignmentgroup\":\"True\",\"hovertemplate\":\"Entity=%{y}<br>Year=2014<br>Deaths=%{x}<extra></extra>\",\"legendgroup\":\"Landslide\",\"marker\":{\"color\":\"#B6E880\",\"pattern\":{\"shape\":\"\"}},\"name\":\"Landslide\",\"offsetgroup\":\"Landslide\",\"orientation\":\"h\",\"showlegend\":true,\"textposition\":\"auto\",\"x\":[943],\"xaxis\":\"x\",\"y\":[\"Landslide\"],\"yaxis\":\"y\",\"type\":\"bar\"},{\"alignmentgroup\":\"True\",\"hovertemplate\":\"Entity=%{y}<br>Year=2014<br>Deaths=%{x}<extra></extra>\",\"legendgroup\":\"Volcanic activity\",\"marker\":{\"color\":\"#FECB52\",\"pattern\":{\"shape\":\"\"}},\"name\":\"Volcanic activity\",\"offsetgroup\":\"Volcanic activity\",\"orientation\":\"h\",\"showlegend\":true,\"textposition\":\"auto\",\"x\":[102],\"xaxis\":\"x\",\"y\":[\"Volcanic activity\"],\"yaxis\":\"y\",\"type\":\"bar\"},{\"alignmentgroup\":\"True\",\"hovertemplate\":\"Entity=%{y}<br>Year=2014<br>Deaths=%{x}<extra></extra>\",\"legendgroup\":\"Wildfire\",\"marker\":{\"color\":\"#636efa\",\"pattern\":{\"shape\":\"\"}},\"name\":\"Wildfire\",\"offsetgroup\":\"Wildfire\",\"orientation\":\"h\",\"showlegend\":true,\"textposition\":\"auto\",\"x\":[16],\"xaxis\":\"x\",\"y\":[\"Wildfire\"],\"yaxis\":\"y\",\"type\":\"bar\"}],\"name\":\"2014\"},{\"data\":[{\"alignmentgroup\":\"True\",\"hovertemplate\":\"Entity=%{y}<br>Year=2015<br>Deaths=%{x}<extra></extra>\",\"legendgroup\":\"All natural disasters\",\"marker\":{\"color\":\"#636efa\",\"pattern\":{\"shape\":\"\"}},\"name\":\"All natural disasters\",\"offsetgroup\":\"All natural disasters\",\"orientation\":\"h\",\"showlegend\":true,\"textposition\":\"auto\",\"x\":[23893],\"xaxis\":\"x\",\"y\":[\"All natural disasters\"],\"yaxis\":\"y\",\"type\":\"bar\"},{\"alignmentgroup\":\"True\",\"hovertemplate\":\"Entity=%{y}<br>Year=2015<br>Deaths=%{x}<extra></extra>\",\"legendgroup\":\"Drought\",\"marker\":{\"color\":\"#EF553B\",\"pattern\":{\"shape\":\"\"}},\"name\":\"Drought\",\"offsetgroup\":\"Drought\",\"orientation\":\"h\",\"showlegend\":true,\"textposition\":\"auto\",\"x\":[35],\"xaxis\":\"x\",\"y\":[\"Drought\"],\"yaxis\":\"y\",\"type\":\"bar\"},{\"alignmentgroup\":\"True\",\"hovertemplate\":\"Entity=%{y}<br>Year=2015<br>Deaths=%{x}<extra></extra>\",\"legendgroup\":\"Earthquake\",\"marker\":{\"color\":\"#00cc96\",\"pattern\":{\"shape\":\"\"}},\"name\":\"Earthquake\",\"offsetgroup\":\"Earthquake\",\"orientation\":\"h\",\"showlegend\":true,\"textposition\":\"auto\",\"x\":[9550],\"xaxis\":\"x\",\"y\":[\"Earthquake\"],\"yaxis\":\"y\",\"type\":\"bar\"},{\"alignmentgroup\":\"True\",\"hovertemplate\":\"Entity=%{y}<br>Year=2015<br>Deaths=%{x}<extra></extra>\",\"legendgroup\":\"Epidemic\",\"marker\":{\"color\":\"#ab63fa\",\"pattern\":{\"shape\":\"\"}},\"name\":\"Epidemic\",\"offsetgroup\":\"Epidemic\",\"orientation\":\"h\",\"showlegend\":true,\"textposition\":\"auto\",\"x\":[1032],\"xaxis\":\"x\",\"y\":[\"Epidemic\"],\"yaxis\":\"y\",\"type\":\"bar\"},{\"alignmentgroup\":\"True\",\"hovertemplate\":\"Entity=%{y}<br>Year=2015<br>Deaths=%{x}<extra></extra>\",\"legendgroup\":\"Extreme temperature\",\"marker\":{\"color\":\"#FFA15A\",\"pattern\":{\"shape\":\"\"}},\"name\":\"Extreme temperature\",\"offsetgroup\":\"Extreme temperature\",\"orientation\":\"h\",\"showlegend\":true,\"textposition\":\"auto\",\"x\":[7425],\"xaxis\":\"x\",\"y\":[\"Extreme temperature\"],\"yaxis\":\"y\",\"type\":\"bar\"},{\"alignmentgroup\":\"True\",\"hovertemplate\":\"Entity=%{y}<br>Year=2015<br>Deaths=%{x}<extra></extra>\",\"legendgroup\":\"Extreme weather\",\"marker\":{\"color\":\"#19d3f3\",\"pattern\":{\"shape\":\"\"}},\"name\":\"Extreme weather\",\"offsetgroup\":\"Extreme weather\",\"orientation\":\"h\",\"showlegend\":true,\"textposition\":\"auto\",\"x\":[1270],\"xaxis\":\"x\",\"y\":[\"Extreme weather\"],\"yaxis\":\"y\",\"type\":\"bar\"},{\"alignmentgroup\":\"True\",\"hovertemplate\":\"Entity=%{y}<br>Year=2015<br>Deaths=%{x}<extra></extra>\",\"legendgroup\":\"Flood\",\"marker\":{\"color\":\"#FF6692\",\"pattern\":{\"shape\":\"\"}},\"name\":\"Flood\",\"offsetgroup\":\"Flood\",\"orientation\":\"h\",\"showlegend\":true,\"textposition\":\"auto\",\"x\":[3495],\"xaxis\":\"x\",\"y\":[\"Flood\"],\"yaxis\":\"y\",\"type\":\"bar\"},{\"alignmentgroup\":\"True\",\"hovertemplate\":\"Entity=%{y}<br>Year=2015<br>Deaths=%{x}<extra></extra>\",\"legendgroup\":\"Landslide\",\"marker\":{\"color\":\"#B6E880\",\"pattern\":{\"shape\":\"\"}},\"name\":\"Landslide\",\"offsetgroup\":\"Landslide\",\"orientation\":\"h\",\"showlegend\":true,\"textposition\":\"auto\",\"x\":[1006],\"xaxis\":\"x\",\"y\":[\"Landslide\"],\"yaxis\":\"y\",\"type\":\"bar\"},{\"alignmentgroup\":\"True\",\"hovertemplate\":\"Entity=%{y}<br>Year=2015<br>Deaths=%{x}<extra></extra>\",\"legendgroup\":\"Mass movement (dry)\",\"marker\":{\"color\":\"#FF97FF\",\"pattern\":{\"shape\":\"\"}},\"name\":\"Mass movement (dry)\",\"offsetgroup\":\"Mass movement (dry)\",\"orientation\":\"h\",\"showlegend\":true,\"textposition\":\"auto\",\"x\":[13],\"xaxis\":\"x\",\"y\":[\"Mass movement (dry)\"],\"yaxis\":\"y\",\"type\":\"bar\"},{\"alignmentgroup\":\"True\",\"hovertemplate\":\"Entity=%{y}<br>Year=2015<br>Deaths=%{x}<extra></extra>\",\"legendgroup\":\"Wildfire\",\"marker\":{\"color\":\"#636efa\",\"pattern\":{\"shape\":\"\"}},\"name\":\"Wildfire\",\"offsetgroup\":\"Wildfire\",\"orientation\":\"h\",\"showlegend\":true,\"textposition\":\"auto\",\"x\":[67],\"xaxis\":\"x\",\"y\":[\"Wildfire\"],\"yaxis\":\"y\",\"type\":\"bar\"}],\"name\":\"2015\"},{\"data\":[{\"alignmentgroup\":\"True\",\"hovertemplate\":\"Entity=%{y}<br>Year=2016<br>Deaths=%{x}<extra></extra>\",\"legendgroup\":\"All natural disasters\",\"marker\":{\"color\":\"#636efa\",\"pattern\":{\"shape\":\"\"}},\"name\":\"All natural disasters\",\"offsetgroup\":\"All natural disasters\",\"orientation\":\"h\",\"showlegend\":true,\"textposition\":\"auto\",\"x\":[10201],\"xaxis\":\"x\",\"y\":[\"All natural disasters\"],\"yaxis\":\"y\",\"type\":\"bar\"},{\"alignmentgroup\":\"True\",\"hovertemplate\":\"Entity=%{y}<br>Year=2016<br>Deaths=%{x}<extra></extra>\",\"legendgroup\":\"Earthquake\",\"marker\":{\"color\":\"#00cc96\",\"pattern\":{\"shape\":\"\"}},\"name\":\"Earthquake\",\"offsetgroup\":\"Earthquake\",\"orientation\":\"h\",\"showlegend\":true,\"textposition\":\"auto\",\"x\":[1311],\"xaxis\":\"x\",\"y\":[\"Earthquake\"],\"yaxis\":\"y\",\"type\":\"bar\"},{\"alignmentgroup\":\"True\",\"hovertemplate\":\"Entity=%{y}<br>Year=2016<br>Deaths=%{x}<extra></extra>\",\"legendgroup\":\"Epidemic\",\"marker\":{\"color\":\"#ab63fa\",\"pattern\":{\"shape\":\"\"}},\"name\":\"Epidemic\",\"offsetgroup\":\"Epidemic\",\"orientation\":\"h\",\"showlegend\":true,\"textposition\":\"auto\",\"x\":[1520],\"xaxis\":\"x\",\"y\":[\"Epidemic\"],\"yaxis\":\"y\",\"type\":\"bar\"},{\"alignmentgroup\":\"True\",\"hovertemplate\":\"Entity=%{y}<br>Year=2016<br>Deaths=%{x}<extra></extra>\",\"legendgroup\":\"Extreme temperature\",\"marker\":{\"color\":\"#FFA15A\",\"pattern\":{\"shape\":\"\"}},\"name\":\"Extreme temperature\",\"offsetgroup\":\"Extreme temperature\",\"orientation\":\"h\",\"showlegend\":true,\"textposition\":\"auto\",\"x\":[490],\"xaxis\":\"x\",\"y\":[\"Extreme temperature\"],\"yaxis\":\"y\",\"type\":\"bar\"},{\"alignmentgroup\":\"True\",\"hovertemplate\":\"Entity=%{y}<br>Year=2016<br>Deaths=%{x}<extra></extra>\",\"legendgroup\":\"Extreme weather\",\"marker\":{\"color\":\"#19d3f3\",\"pattern\":{\"shape\":\"\"}},\"name\":\"Extreme weather\",\"offsetgroup\":\"Extreme weather\",\"orientation\":\"h\",\"showlegend\":true,\"textposition\":\"auto\",\"x\":[1760],\"xaxis\":\"x\",\"y\":[\"Extreme weather\"],\"yaxis\":\"y\",\"type\":\"bar\"},{\"alignmentgroup\":\"True\",\"hovertemplate\":\"Entity=%{y}<br>Year=2016<br>Deaths=%{x}<extra></extra>\",\"legendgroup\":\"Flood\",\"marker\":{\"color\":\"#FF6692\",\"pattern\":{\"shape\":\"\"}},\"name\":\"Flood\",\"offsetgroup\":\"Flood\",\"orientation\":\"h\",\"showlegend\":true,\"textposition\":\"auto\",\"x\":[4720],\"xaxis\":\"x\",\"y\":[\"Flood\"],\"yaxis\":\"y\",\"type\":\"bar\"},{\"alignmentgroup\":\"True\",\"hovertemplate\":\"Entity=%{y}<br>Year=2016<br>Deaths=%{x}<extra></extra>\",\"legendgroup\":\"Landslide\",\"marker\":{\"color\":\"#B6E880\",\"pattern\":{\"shape\":\"\"}},\"name\":\"Landslide\",\"offsetgroup\":\"Landslide\",\"orientation\":\"h\",\"showlegend\":true,\"textposition\":\"auto\",\"x\":[361],\"xaxis\":\"x\",\"y\":[\"Landslide\"],\"yaxis\":\"y\",\"type\":\"bar\"},{\"alignmentgroup\":\"True\",\"hovertemplate\":\"Entity=%{y}<br>Year=2016<br>Deaths=%{x}<extra></extra>\",\"legendgroup\":\"Wildfire\",\"marker\":{\"color\":\"#636efa\",\"pattern\":{\"shape\":\"\"}},\"name\":\"Wildfire\",\"offsetgroup\":\"Wildfire\",\"orientation\":\"h\",\"showlegend\":true,\"textposition\":\"auto\",\"x\":[39],\"xaxis\":\"x\",\"y\":[\"Wildfire\"],\"yaxis\":\"y\",\"type\":\"bar\"}],\"name\":\"2016\"},{\"data\":[{\"alignmentgroup\":\"True\",\"hovertemplate\":\"Entity=%{y}<br>Year=2017<br>Deaths=%{x}<extra></extra>\",\"legendgroup\":\"All natural disasters\",\"marker\":{\"color\":\"#636efa\",\"pattern\":{\"shape\":\"\"}},\"name\":\"All natural disasters\",\"offsetgroup\":\"All natural disasters\",\"orientation\":\"h\",\"showlegend\":true,\"textposition\":\"auto\",\"x\":[2087],\"xaxis\":\"x\",\"y\":[\"All natural disasters\"],\"yaxis\":\"y\",\"type\":\"bar\"},{\"alignmentgroup\":\"True\",\"hovertemplate\":\"Entity=%{y}<br>Year=2017<br>Deaths=%{x}<extra></extra>\",\"legendgroup\":\"Earthquake\",\"marker\":{\"color\":\"#00cc96\",\"pattern\":{\"shape\":\"\"}},\"name\":\"Earthquake\",\"offsetgroup\":\"Earthquake\",\"orientation\":\"h\",\"showlegend\":true,\"textposition\":\"auto\",\"x\":[49],\"xaxis\":\"x\",\"y\":[\"Earthquake\"],\"yaxis\":\"y\",\"type\":\"bar\"},{\"alignmentgroup\":\"True\",\"hovertemplate\":\"Entity=%{y}<br>Year=2017<br>Deaths=%{x}<extra></extra>\",\"legendgroup\":\"Epidemic\",\"marker\":{\"color\":\"#ab63fa\",\"pattern\":{\"shape\":\"\"}},\"name\":\"Epidemic\",\"offsetgroup\":\"Epidemic\",\"orientation\":\"h\",\"showlegend\":true,\"textposition\":\"auto\",\"x\":[386],\"xaxis\":\"x\",\"y\":[\"Epidemic\"],\"yaxis\":\"y\",\"type\":\"bar\"},{\"alignmentgroup\":\"True\",\"hovertemplate\":\"Entity=%{y}<br>Year=2017<br>Deaths=%{x}<extra></extra>\",\"legendgroup\":\"Extreme temperature\",\"marker\":{\"color\":\"#FFA15A\",\"pattern\":{\"shape\":\"\"}},\"name\":\"Extreme temperature\",\"offsetgroup\":\"Extreme temperature\",\"orientation\":\"h\",\"showlegend\":true,\"textposition\":\"auto\",\"x\":[130],\"xaxis\":\"x\",\"y\":[\"Extreme temperature\"],\"yaxis\":\"y\",\"type\":\"bar\"},{\"alignmentgroup\":\"True\",\"hovertemplate\":\"Entity=%{y}<br>Year=2017<br>Deaths=%{x}<extra></extra>\",\"legendgroup\":\"Extreme weather\",\"marker\":{\"color\":\"#19d3f3\",\"pattern\":{\"shape\":\"\"}},\"name\":\"Extreme weather\",\"offsetgroup\":\"Extreme weather\",\"orientation\":\"h\",\"showlegend\":true,\"textposition\":\"auto\",\"x\":[394],\"xaxis\":\"x\",\"y\":[\"Extreme weather\"],\"yaxis\":\"y\",\"type\":\"bar\"},{\"alignmentgroup\":\"True\",\"hovertemplate\":\"Entity=%{y}<br>Year=2017<br>Deaths=%{x}<extra></extra>\",\"legendgroup\":\"Flood\",\"marker\":{\"color\":\"#FF6692\",\"pattern\":{\"shape\":\"\"}},\"name\":\"Flood\",\"offsetgroup\":\"Flood\",\"orientation\":\"h\",\"showlegend\":true,\"textposition\":\"auto\",\"x\":[648],\"xaxis\":\"x\",\"y\":[\"Flood\"],\"yaxis\":\"y\",\"type\":\"bar\"},{\"alignmentgroup\":\"True\",\"hovertemplate\":\"Entity=%{y}<br>Year=2017<br>Deaths=%{x}<extra></extra>\",\"legendgroup\":\"Landslide\",\"marker\":{\"color\":\"#B6E880\",\"pattern\":{\"shape\":\"\"}},\"name\":\"Landslide\",\"offsetgroup\":\"Landslide\",\"orientation\":\"h\",\"showlegend\":true,\"textposition\":\"auto\",\"x\":[405],\"xaxis\":\"x\",\"y\":[\"Landslide\"],\"yaxis\":\"y\",\"type\":\"bar\"},{\"alignmentgroup\":\"True\",\"hovertemplate\":\"Entity=%{y}<br>Year=2017<br>Deaths=%{x}<extra></extra>\",\"legendgroup\":\"Wildfire\",\"marker\":{\"color\":\"#636efa\",\"pattern\":{\"shape\":\"\"}},\"name\":\"Wildfire\",\"offsetgroup\":\"Wildfire\",\"orientation\":\"h\",\"showlegend\":true,\"textposition\":\"auto\",\"x\":[75],\"xaxis\":\"x\",\"y\":[\"Wildfire\"],\"yaxis\":\"y\",\"type\":\"bar\"}],\"name\":\"2017\"}]);\n",
       "                        }).then(function(){\n",
       "                            \n",
       "var gd = document.getElementById('da973579-09a0-4f4d-ad8c-7a6f3e117779');\n",
       "var x = new MutationObserver(function (mutations, observer) {{\n",
       "        var display = window.getComputedStyle(gd).display;\n",
       "        if (!display || display === 'none') {{\n",
       "            console.log([gd, 'removed!']);\n",
       "            Plotly.purge(gd);\n",
       "            observer.disconnect();\n",
       "        }}\n",
       "}});\n",
       "\n",
       "// Listen for the removal of the full notebook cells\n",
       "var notebookContainer = gd.closest('#notebook-container');\n",
       "if (notebookContainer) {{\n",
       "    x.observe(notebookContainer, {childList: true});\n",
       "}}\n",
       "\n",
       "// Listen for the clearing of the current output cell\n",
       "var outputEl = gd.closest('.output');\n",
       "if (outputEl) {{\n",
       "    x.observe(outputEl, {childList: true});\n",
       "}}\n",
       "\n",
       "                        })                };                });            </script>        </div>"
      ]
     },
     "metadata": {},
     "output_type": "display_data"
    }
   ],
   "source": [
    "import plotly.express as px\n",
    "import cufflinks\n",
    "\n",
    "from plotly.offline import init_notebook_mode\n",
    "from vega_datasets import data\n",
    "\n",
    "init_notebook_mode(connected=True)\n",
    "cufflinks.go_offline(connected=True)\n",
    "\n",
    "df = data.disasters()\n",
    "print(df)\n",
    "df = df[df.Year > 1990]\n",
    "fig = px.bar(df,\n",
    "             y=\"Entity\",\n",
    "             x=\"Deaths\",\n",
    "             animation_frame=\"Year\",\n",
    "             orientation='h',\n",
    "             range_x=[0, df.Deaths.max()],\n",
    "             color=\"Entity\")\n",
    "# improve aesthetics (size, grids etc.)\n",
    "fig.update_layout(template='plotly_dark',\n",
    "                  margin=dict(l=0, r=0, t=0, b=0),\n",
    "                  \n",
    "                  \n",
    "                  xaxis_showgrid=False,\n",
    "                  yaxis_showgrid=False,\n",
    "                  paper_bgcolor='rgba(0,0,0,0)',\n",
    "                  plot_bgcolor='rgba(0,0,0,0)',\n",
    "                  title_text='Evolution of Natural Disasters',\n",
    "                  showlegend=False)\n",
    "fig.update_xaxes(title_text='Number of Deaths')\n",
    "fig.update_yaxes(title_text='')\n",
    "fig.show()"
   ]
  },
  {
   "cell_type": "code",
   "execution_count": null,
   "metadata": {},
   "outputs": [],
   "source": []
  }
 ],
 "metadata": {
  "interpreter": {
   "hash": "c280167503d4c9ec9343a8c22ceb8fdab10e8af54e332c309c4ae135c5d90990"
  },
  "kernelspec": {
   "display_name": "Python 3.9.5 ('dashenv')",
   "language": "python",
   "name": "python3"
  },
  "language_info": {
   "codemirror_mode": {
    "name": "ipython",
    "version": 3
   },
   "file_extension": ".py",
   "mimetype": "text/x-python",
   "name": "python",
   "nbconvert_exporter": "python",
   "pygments_lexer": "ipython3",
   "version": "3.9.5"
  }
 },
 "nbformat": 4,
 "nbformat_minor": 2
}

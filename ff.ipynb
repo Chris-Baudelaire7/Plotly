{
 "cells": [
  {
   "cell_type": "code",
   "execution_count": 1,
   "metadata": {},
   "outputs": [],
   "source": [
    "import pandas as pd\n",
    "import numpy as np\n",
    "import plotly.express as px\n",
    "import plotly.graph_objs as go"
   ]
  },
  {
   "cell_type": "code",
   "execution_count": 2,
   "metadata": {},
   "outputs": [
    {
     "data": {
      "text/html": [
       "<div><div id=cca56925-a477-4731-9b86-7fec342c1c71 style=\"display:none; background-color:#9D6CFF; color:white; width:200px; height:30px; padding-left:5px; border-radius:4px; flex-direction:row; justify-content:space-around; align-items:center;\" onmouseover=\"this.style.backgroundColor='#BA9BF8'\" onmouseout=\"this.style.backgroundColor='#9D6CFF'\" onclick=\"window.commands?.execute('create-mitosheet-from-dataframe-output');\">See Full Dataframe in Mito</div> <script> if (window.commands.hasCommand('create-mitosheet-from-dataframe-output')) document.getElementById('cca56925-a477-4731-9b86-7fec342c1c71').style.display = 'flex' </script> <table border=\"1\" class=\"dataframe\">\n",
       "  <thead>\n",
       "    <tr style=\"text-align: right;\">\n",
       "      <th></th>\n",
       "      <th>country</th>\n",
       "      <th>continent</th>\n",
       "      <th>year</th>\n",
       "      <th>lifeExp</th>\n",
       "      <th>pop</th>\n",
       "      <th>gdpPercap</th>\n",
       "      <th>iso_alpha</th>\n",
       "      <th>iso_num</th>\n",
       "    </tr>\n",
       "  </thead>\n",
       "  <tbody>\n",
       "    <tr>\n",
       "      <th>11</th>\n",
       "      <td>Afghanistan</td>\n",
       "      <td>Asia</td>\n",
       "      <td>2007</td>\n",
       "      <td>43.828</td>\n",
       "      <td>31889923</td>\n",
       "      <td>974.580338</td>\n",
       "      <td>AFG</td>\n",
       "      <td>4</td>\n",
       "    </tr>\n",
       "    <tr>\n",
       "      <th>23</th>\n",
       "      <td>Albania</td>\n",
       "      <td>Europe</td>\n",
       "      <td>2007</td>\n",
       "      <td>76.423</td>\n",
       "      <td>3600523</td>\n",
       "      <td>5937.029526</td>\n",
       "      <td>ALB</td>\n",
       "      <td>8</td>\n",
       "    </tr>\n",
       "    <tr>\n",
       "      <th>35</th>\n",
       "      <td>Algeria</td>\n",
       "      <td>Africa</td>\n",
       "      <td>2007</td>\n",
       "      <td>72.301</td>\n",
       "      <td>33333216</td>\n",
       "      <td>6223.367465</td>\n",
       "      <td>DZA</td>\n",
       "      <td>12</td>\n",
       "    </tr>\n",
       "    <tr>\n",
       "      <th>47</th>\n",
       "      <td>Angola</td>\n",
       "      <td>Africa</td>\n",
       "      <td>2007</td>\n",
       "      <td>42.731</td>\n",
       "      <td>12420476</td>\n",
       "      <td>4797.231267</td>\n",
       "      <td>AGO</td>\n",
       "      <td>24</td>\n",
       "    </tr>\n",
       "    <tr>\n",
       "      <th>59</th>\n",
       "      <td>Argentina</td>\n",
       "      <td>Americas</td>\n",
       "      <td>2007</td>\n",
       "      <td>75.320</td>\n",
       "      <td>40301927</td>\n",
       "      <td>12779.379640</td>\n",
       "      <td>ARG</td>\n",
       "      <td>32</td>\n",
       "    </tr>\n",
       "  </tbody>\n",
       "</table></div>"
      ],
      "text/plain": [
       "        country continent  year  lifeExp       pop     gdpPercap iso_alpha  \\\n",
       "11  Afghanistan      Asia  2007   43.828  31889923    974.580338       AFG   \n",
       "23      Albania    Europe  2007   76.423   3600523   5937.029526       ALB   \n",
       "35      Algeria    Africa  2007   72.301  33333216   6223.367465       DZA   \n",
       "47       Angola    Africa  2007   42.731  12420476   4797.231267       AGO   \n",
       "59    Argentina  Americas  2007   75.320  40301927  12779.379640       ARG   \n",
       "\n",
       "    iso_num  \n",
       "11        4  \n",
       "23        8  \n",
       "35       12  \n",
       "47       24  \n",
       "59       32  "
      ]
     },
     "execution_count": 2,
     "metadata": {},
     "output_type": "execute_result"
    }
   ],
   "source": [
    "df = px.data.gapminder()\n",
    "df = df.query('year==2007')\n",
    "df.head()"
   ]
  },
  {
   "cell_type": "code",
   "execution_count": 12,
   "metadata": {},
   "outputs": [
    {
     "data": {
      "application/vnd.plotly.v1+json": {
       "config": {
        "plotlyServerURL": "https://plot.ly"
       },
       "data": [
        {
         "alignmentgroup": "True",
         "bingroup": "x",
         "hovertemplate": "lifeExp=%{x}<br>count=%{y}<extra></extra>",
         "legendgroup": "",
         "marker": {
          "color": "#636efa",
          "pattern": {
           "shape": ""
          }
         },
         "name": "",
         "offsetgroup": "",
         "orientation": "v",
         "showlegend": false,
         "type": "histogram",
         "x": [
          43.828,
          76.423,
          72.301,
          42.731,
          75.32,
          81.235,
          79.829,
          75.635,
          64.062,
          79.441,
          56.728,
          65.554,
          74.852,
          50.728,
          72.39,
          73.005,
          52.295,
          49.58,
          59.723,
          50.43,
          80.653,
          44.74100000000001,
          50.651,
          78.553,
          72.961,
          72.889,
          65.152,
          46.462,
          55.322,
          78.782,
          48.328,
          75.748,
          78.273,
          76.486,
          78.332,
          54.791,
          72.235,
          74.994,
          71.33800000000002,
          71.878,
          51.57899999999999,
          58.04,
          52.947,
          79.313,
          80.657,
          56.735,
          59.448,
          79.406,
          60.022,
          79.483,
          70.259,
          56.007,
          46.38800000000001,
          60.916,
          70.19800000000001,
          82.208,
          73.33800000000002,
          81.757,
          64.69800000000001,
          70.65,
          70.964,
          59.545,
          78.885,
          80.745,
          80.546,
          72.567,
          82.603,
          72.535,
          54.11,
          67.297,
          78.623,
          77.58800000000002,
          71.993,
          42.592,
          45.678,
          73.952,
          59.44300000000001,
          48.303,
          74.241,
          54.467,
          64.164,
          72.801,
          76.195,
          66.803,
          74.543,
          71.164,
          42.082,
          62.069,
          52.90600000000001,
          63.785,
          79.762,
          80.204,
          72.899,
          56.867,
          46.859,
          80.196,
          75.64,
          65.483,
          75.53699999999998,
          71.752,
          71.421,
          71.688,
          75.563,
          78.098,
          78.74600000000002,
          76.442,
          72.476,
          46.242,
          65.528,
          72.777,
          63.062,
          74.002,
          42.56800000000001,
          79.972,
          74.663,
          77.926,
          48.159,
          49.339,
          80.941,
          72.396,
          58.556,
          39.613,
          80.884,
          81.70100000000002,
          74.143,
          78.4,
          52.517,
          70.616,
          58.42,
          69.819,
          73.923,
          71.777,
          51.542,
          79.425,
          78.242,
          76.384,
          73.747,
          74.249,
          73.422,
          62.698,
          42.38399999999999,
          43.487
         ],
         "xaxis": "x",
         "yaxis": "y"
        }
       ],
       "layout": {
        "barmode": "relative",
        "legend": {
         "tracegroupgap": 0
        },
        "margin": {
         "t": 60
        },
        "paper_bgcolor": "rgba(0,0,0,0)",
        "template": {
         "data": {
          "bar": [
           {
            "error_x": {
             "color": "#f2f5fa"
            },
            "error_y": {
             "color": "#f2f5fa"
            },
            "marker": {
             "line": {
              "color": "rgb(17,17,17)",
              "width": 0.5
             },
             "pattern": {
              "fillmode": "overlay",
              "size": 10,
              "solidity": 0.2
             }
            },
            "type": "bar"
           }
          ],
          "barpolar": [
           {
            "marker": {
             "line": {
              "color": "rgb(17,17,17)",
              "width": 0.5
             },
             "pattern": {
              "fillmode": "overlay",
              "size": 10,
              "solidity": 0.2
             }
            },
            "type": "barpolar"
           }
          ],
          "carpet": [
           {
            "aaxis": {
             "endlinecolor": "#A2B1C6",
             "gridcolor": "#506784",
             "linecolor": "#506784",
             "minorgridcolor": "#506784",
             "startlinecolor": "#A2B1C6"
            },
            "baxis": {
             "endlinecolor": "#A2B1C6",
             "gridcolor": "#506784",
             "linecolor": "#506784",
             "minorgridcolor": "#506784",
             "startlinecolor": "#A2B1C6"
            },
            "type": "carpet"
           }
          ],
          "choropleth": [
           {
            "colorbar": {
             "outlinewidth": 0,
             "ticks": ""
            },
            "type": "choropleth"
           }
          ],
          "contour": [
           {
            "colorbar": {
             "outlinewidth": 0,
             "ticks": ""
            },
            "colorscale": [
             [
              0,
              "#0d0887"
             ],
             [
              0.1111111111111111,
              "#46039f"
             ],
             [
              0.2222222222222222,
              "#7201a8"
             ],
             [
              0.3333333333333333,
              "#9c179e"
             ],
             [
              0.4444444444444444,
              "#bd3786"
             ],
             [
              0.5555555555555556,
              "#d8576b"
             ],
             [
              0.6666666666666666,
              "#ed7953"
             ],
             [
              0.7777777777777778,
              "#fb9f3a"
             ],
             [
              0.8888888888888888,
              "#fdca26"
             ],
             [
              1,
              "#f0f921"
             ]
            ],
            "type": "contour"
           }
          ],
          "contourcarpet": [
           {
            "colorbar": {
             "outlinewidth": 0,
             "ticks": ""
            },
            "type": "contourcarpet"
           }
          ],
          "heatmap": [
           {
            "colorbar": {
             "outlinewidth": 0,
             "ticks": ""
            },
            "colorscale": [
             [
              0,
              "#0d0887"
             ],
             [
              0.1111111111111111,
              "#46039f"
             ],
             [
              0.2222222222222222,
              "#7201a8"
             ],
             [
              0.3333333333333333,
              "#9c179e"
             ],
             [
              0.4444444444444444,
              "#bd3786"
             ],
             [
              0.5555555555555556,
              "#d8576b"
             ],
             [
              0.6666666666666666,
              "#ed7953"
             ],
             [
              0.7777777777777778,
              "#fb9f3a"
             ],
             [
              0.8888888888888888,
              "#fdca26"
             ],
             [
              1,
              "#f0f921"
             ]
            ],
            "type": "heatmap"
           }
          ],
          "heatmapgl": [
           {
            "colorbar": {
             "outlinewidth": 0,
             "ticks": ""
            },
            "colorscale": [
             [
              0,
              "#0d0887"
             ],
             [
              0.1111111111111111,
              "#46039f"
             ],
             [
              0.2222222222222222,
              "#7201a8"
             ],
             [
              0.3333333333333333,
              "#9c179e"
             ],
             [
              0.4444444444444444,
              "#bd3786"
             ],
             [
              0.5555555555555556,
              "#d8576b"
             ],
             [
              0.6666666666666666,
              "#ed7953"
             ],
             [
              0.7777777777777778,
              "#fb9f3a"
             ],
             [
              0.8888888888888888,
              "#fdca26"
             ],
             [
              1,
              "#f0f921"
             ]
            ],
            "type": "heatmapgl"
           }
          ],
          "histogram": [
           {
            "marker": {
             "pattern": {
              "fillmode": "overlay",
              "size": 10,
              "solidity": 0.2
             }
            },
            "type": "histogram"
           }
          ],
          "histogram2d": [
           {
            "colorbar": {
             "outlinewidth": 0,
             "ticks": ""
            },
            "colorscale": [
             [
              0,
              "#0d0887"
             ],
             [
              0.1111111111111111,
              "#46039f"
             ],
             [
              0.2222222222222222,
              "#7201a8"
             ],
             [
              0.3333333333333333,
              "#9c179e"
             ],
             [
              0.4444444444444444,
              "#bd3786"
             ],
             [
              0.5555555555555556,
              "#d8576b"
             ],
             [
              0.6666666666666666,
              "#ed7953"
             ],
             [
              0.7777777777777778,
              "#fb9f3a"
             ],
             [
              0.8888888888888888,
              "#fdca26"
             ],
             [
              1,
              "#f0f921"
             ]
            ],
            "type": "histogram2d"
           }
          ],
          "histogram2dcontour": [
           {
            "colorbar": {
             "outlinewidth": 0,
             "ticks": ""
            },
            "colorscale": [
             [
              0,
              "#0d0887"
             ],
             [
              0.1111111111111111,
              "#46039f"
             ],
             [
              0.2222222222222222,
              "#7201a8"
             ],
             [
              0.3333333333333333,
              "#9c179e"
             ],
             [
              0.4444444444444444,
              "#bd3786"
             ],
             [
              0.5555555555555556,
              "#d8576b"
             ],
             [
              0.6666666666666666,
              "#ed7953"
             ],
             [
              0.7777777777777778,
              "#fb9f3a"
             ],
             [
              0.8888888888888888,
              "#fdca26"
             ],
             [
              1,
              "#f0f921"
             ]
            ],
            "type": "histogram2dcontour"
           }
          ],
          "mesh3d": [
           {
            "colorbar": {
             "outlinewidth": 0,
             "ticks": ""
            },
            "type": "mesh3d"
           }
          ],
          "parcoords": [
           {
            "line": {
             "colorbar": {
              "outlinewidth": 0,
              "ticks": ""
             }
            },
            "type": "parcoords"
           }
          ],
          "pie": [
           {
            "automargin": true,
            "type": "pie"
           }
          ],
          "scatter": [
           {
            "marker": {
             "line": {
              "color": "#283442"
             }
            },
            "type": "scatter"
           }
          ],
          "scatter3d": [
           {
            "line": {
             "colorbar": {
              "outlinewidth": 0,
              "ticks": ""
             }
            },
            "marker": {
             "colorbar": {
              "outlinewidth": 0,
              "ticks": ""
             }
            },
            "type": "scatter3d"
           }
          ],
          "scattercarpet": [
           {
            "marker": {
             "colorbar": {
              "outlinewidth": 0,
              "ticks": ""
             }
            },
            "type": "scattercarpet"
           }
          ],
          "scattergeo": [
           {
            "marker": {
             "colorbar": {
              "outlinewidth": 0,
              "ticks": ""
             }
            },
            "type": "scattergeo"
           }
          ],
          "scattergl": [
           {
            "marker": {
             "line": {
              "color": "#283442"
             }
            },
            "type": "scattergl"
           }
          ],
          "scattermapbox": [
           {
            "marker": {
             "colorbar": {
              "outlinewidth": 0,
              "ticks": ""
             }
            },
            "type": "scattermapbox"
           }
          ],
          "scatterpolar": [
           {
            "marker": {
             "colorbar": {
              "outlinewidth": 0,
              "ticks": ""
             }
            },
            "type": "scatterpolar"
           }
          ],
          "scatterpolargl": [
           {
            "marker": {
             "colorbar": {
              "outlinewidth": 0,
              "ticks": ""
             }
            },
            "type": "scatterpolargl"
           }
          ],
          "scatterternary": [
           {
            "marker": {
             "colorbar": {
              "outlinewidth": 0,
              "ticks": ""
             }
            },
            "type": "scatterternary"
           }
          ],
          "surface": [
           {
            "colorbar": {
             "outlinewidth": 0,
             "ticks": ""
            },
            "colorscale": [
             [
              0,
              "#0d0887"
             ],
             [
              0.1111111111111111,
              "#46039f"
             ],
             [
              0.2222222222222222,
              "#7201a8"
             ],
             [
              0.3333333333333333,
              "#9c179e"
             ],
             [
              0.4444444444444444,
              "#bd3786"
             ],
             [
              0.5555555555555556,
              "#d8576b"
             ],
             [
              0.6666666666666666,
              "#ed7953"
             ],
             [
              0.7777777777777778,
              "#fb9f3a"
             ],
             [
              0.8888888888888888,
              "#fdca26"
             ],
             [
              1,
              "#f0f921"
             ]
            ],
            "type": "surface"
           }
          ],
          "table": [
           {
            "cells": {
             "fill": {
              "color": "#506784"
             },
             "line": {
              "color": "rgb(17,17,17)"
             }
            },
            "header": {
             "fill": {
              "color": "#2a3f5f"
             },
             "line": {
              "color": "rgb(17,17,17)"
             }
            },
            "type": "table"
           }
          ]
         },
         "layout": {
          "annotationdefaults": {
           "arrowcolor": "#f2f5fa",
           "arrowhead": 0,
           "arrowwidth": 1
          },
          "autotypenumbers": "strict",
          "coloraxis": {
           "colorbar": {
            "outlinewidth": 0,
            "ticks": ""
           }
          },
          "colorscale": {
           "diverging": [
            [
             0,
             "#8e0152"
            ],
            [
             0.1,
             "#c51b7d"
            ],
            [
             0.2,
             "#de77ae"
            ],
            [
             0.3,
             "#f1b6da"
            ],
            [
             0.4,
             "#fde0ef"
            ],
            [
             0.5,
             "#f7f7f7"
            ],
            [
             0.6,
             "#e6f5d0"
            ],
            [
             0.7,
             "#b8e186"
            ],
            [
             0.8,
             "#7fbc41"
            ],
            [
             0.9,
             "#4d9221"
            ],
            [
             1,
             "#276419"
            ]
           ],
           "sequential": [
            [
             0,
             "#0d0887"
            ],
            [
             0.1111111111111111,
             "#46039f"
            ],
            [
             0.2222222222222222,
             "#7201a8"
            ],
            [
             0.3333333333333333,
             "#9c179e"
            ],
            [
             0.4444444444444444,
             "#bd3786"
            ],
            [
             0.5555555555555556,
             "#d8576b"
            ],
            [
             0.6666666666666666,
             "#ed7953"
            ],
            [
             0.7777777777777778,
             "#fb9f3a"
            ],
            [
             0.8888888888888888,
             "#fdca26"
            ],
            [
             1,
             "#f0f921"
            ]
           ],
           "sequentialminus": [
            [
             0,
             "#0d0887"
            ],
            [
             0.1111111111111111,
             "#46039f"
            ],
            [
             0.2222222222222222,
             "#7201a8"
            ],
            [
             0.3333333333333333,
             "#9c179e"
            ],
            [
             0.4444444444444444,
             "#bd3786"
            ],
            [
             0.5555555555555556,
             "#d8576b"
            ],
            [
             0.6666666666666666,
             "#ed7953"
            ],
            [
             0.7777777777777778,
             "#fb9f3a"
            ],
            [
             0.8888888888888888,
             "#fdca26"
            ],
            [
             1,
             "#f0f921"
            ]
           ]
          },
          "colorway": [
           "#636efa",
           "#EF553B",
           "#00cc96",
           "#ab63fa",
           "#FFA15A",
           "#19d3f3",
           "#FF6692",
           "#B6E880",
           "#FF97FF",
           "#FECB52"
          ],
          "font": {
           "color": "#f2f5fa"
          },
          "geo": {
           "bgcolor": "rgb(17,17,17)",
           "lakecolor": "rgb(17,17,17)",
           "landcolor": "rgb(17,17,17)",
           "showlakes": true,
           "showland": true,
           "subunitcolor": "#506784"
          },
          "hoverlabel": {
           "align": "left"
          },
          "hovermode": "closest",
          "mapbox": {
           "style": "dark"
          },
          "paper_bgcolor": "rgb(17,17,17)",
          "plot_bgcolor": "rgb(17,17,17)",
          "polar": {
           "angularaxis": {
            "gridcolor": "#506784",
            "linecolor": "#506784",
            "ticks": ""
           },
           "bgcolor": "rgb(17,17,17)",
           "radialaxis": {
            "gridcolor": "#506784",
            "linecolor": "#506784",
            "ticks": ""
           }
          },
          "scene": {
           "xaxis": {
            "backgroundcolor": "rgb(17,17,17)",
            "gridcolor": "#506784",
            "gridwidth": 2,
            "linecolor": "#506784",
            "showbackground": true,
            "ticks": "",
            "zerolinecolor": "#C8D4E3"
           },
           "yaxis": {
            "backgroundcolor": "rgb(17,17,17)",
            "gridcolor": "#506784",
            "gridwidth": 2,
            "linecolor": "#506784",
            "showbackground": true,
            "ticks": "",
            "zerolinecolor": "#C8D4E3"
           },
           "zaxis": {
            "backgroundcolor": "rgb(17,17,17)",
            "gridcolor": "#506784",
            "gridwidth": 2,
            "linecolor": "#506784",
            "showbackground": true,
            "ticks": "",
            "zerolinecolor": "#C8D4E3"
           }
          },
          "shapedefaults": {
           "line": {
            "color": "#f2f5fa"
           }
          },
          "sliderdefaults": {
           "bgcolor": "#C8D4E3",
           "bordercolor": "rgb(17,17,17)",
           "borderwidth": 1,
           "tickwidth": 0
          },
          "ternary": {
           "aaxis": {
            "gridcolor": "#506784",
            "linecolor": "#506784",
            "ticks": ""
           },
           "baxis": {
            "gridcolor": "#506784",
            "linecolor": "#506784",
            "ticks": ""
           },
           "bgcolor": "rgb(17,17,17)",
           "caxis": {
            "gridcolor": "#506784",
            "linecolor": "#506784",
            "ticks": ""
           }
          },
          "title": {
           "x": 0.05
          },
          "updatemenudefaults": {
           "bgcolor": "#506784",
           "borderwidth": 0
          },
          "xaxis": {
           "automargin": true,
           "gridcolor": "#283442",
           "linecolor": "#506784",
           "ticks": "",
           "title": {
            "standoff": 15
           },
           "zerolinecolor": "#283442",
           "zerolinewidth": 2
          },
          "yaxis": {
           "automargin": true,
           "gridcolor": "#283442",
           "linecolor": "#506784",
           "ticks": "",
           "title": {
            "standoff": 15
           },
           "zerolinecolor": "#283442",
           "zerolinewidth": 2
          }
         }
        },
        "xaxis": {
         "anchor": "y",
         "domain": [
          0,
          1
         ],
         "title": {
          "text": "lifeExp"
         }
        },
        "yaxis": {
         "anchor": "x",
         "domain": [
          0,
          1
         ],
         "title": {
          "text": "count"
         }
        }
       }
      }
     },
     "metadata": {},
     "output_type": "display_data"
    }
   ],
   "source": [
    "fig = px.histogram(df, x='lifeExp')\n",
    "fig.update_layout(paper_bgcolor='rgba(0,0,0,0)',\n",
    "                  template=\"plotly_dark\")"
   ]
  },
  {
   "cell_type": "code",
   "execution_count": 13,
   "metadata": {},
   "outputs": [
    {
     "data": {
      "application/vnd.plotly.v1+json": {
       "config": {
        "plotlyServerURL": "https://plot.ly"
       },
       "data": [
        {
         "alignmentgroup": "True",
         "bingroup": "x",
         "histfunc": "sum",
         "hovertemplate": "continent=Asia<br>lifeExp=%{x}<br>sum of pop=%{y}<extra></extra>",
         "legendgroup": "Asia",
         "marker": {
          "color": "#636efa",
          "pattern": {
           "shape": ""
          }
         },
         "name": "Asia",
         "offsetgroup": "Asia",
         "orientation": "v",
         "showlegend": true,
         "type": "histogram",
         "x": [
          43.828,
          75.635,
          64.062,
          59.723,
          72.961,
          82.208,
          64.69800000000001,
          70.65,
          70.964,
          59.545,
          80.745,
          82.603,
          72.535,
          67.297,
          78.623,
          77.58800000000002,
          71.993,
          74.241,
          66.803,
          62.069,
          63.785,
          75.64,
          65.483,
          71.688,
          72.777,
          79.972,
          72.396,
          74.143,
          78.4,
          70.616,
          74.249,
          73.422,
          62.698
         ],
         "xaxis": "x",
         "y": [
          31889923,
          708573,
          150448339,
          14131858,
          1318683096,
          6980412,
          1110396331,
          223547000,
          69453570,
          27499638,
          6426679,
          127467972,
          6053193,
          23301725,
          49044790,
          2505559,
          3921278,
          24821286,
          2874127,
          47761980,
          28901790,
          3204897,
          169270617,
          91077287,
          27601038,
          4553009,
          20378239,
          19314747,
          23174294,
          65068149,
          85262356,
          4018332,
          22211743
         ],
         "yaxis": "y"
        },
        {
         "alignmentgroup": "True",
         "boxpoints": "all",
         "customdata": [
          [
           "Afghanistan",
           "Asia",
           2007,
           974.5803384,
           "AFG",
           4
          ],
          [
           "Bahrain",
           "Asia",
           2007,
           29796.04834,
           "BHR",
           48
          ],
          [
           "Bangladesh",
           "Asia",
           2007,
           1391.253792,
           "BGD",
           50
          ],
          [
           "Cambodia",
           "Asia",
           2007,
           1713.778686,
           "KHM",
           116
          ],
          [
           "China",
           "Asia",
           2007,
           4959.114854,
           "CHN",
           156
          ],
          [
           "Hong Kong, China",
           "Asia",
           2007,
           39724.97867,
           "HKG",
           344
          ],
          [
           "India",
           "Asia",
           2007,
           2452.210407,
           "IND",
           356
          ],
          [
           "Indonesia",
           "Asia",
           2007,
           3540.651564,
           "IDN",
           360
          ],
          [
           "Iran",
           "Asia",
           2007,
           11605.71449,
           "IRN",
           364
          ],
          [
           "Iraq",
           "Asia",
           2007,
           4471.061906,
           "IRQ",
           368
          ],
          [
           "Israel",
           "Asia",
           2007,
           25523.2771,
           "ISR",
           376
          ],
          [
           "Japan",
           "Asia",
           2007,
           31656.06806,
           "JPN",
           392
          ],
          [
           "Jordan",
           "Asia",
           2007,
           4519.461171,
           "JOR",
           400
          ],
          [
           "Korea, Dem. Rep.",
           "Asia",
           2007,
           1593.06548,
           "KOR",
           410
          ],
          [
           "Korea, Rep.",
           "Asia",
           2007,
           23348.139730000006,
           "KOR",
           410
          ],
          [
           "Kuwait",
           "Asia",
           2007,
           47306.98978,
           "KWT",
           414
          ],
          [
           "Lebanon",
           "Asia",
           2007,
           10461.05868,
           "LBN",
           422
          ],
          [
           "Malaysia",
           "Asia",
           2007,
           12451.6558,
           "MYS",
           458
          ],
          [
           "Mongolia",
           "Asia",
           2007,
           3095.7722710000007,
           "MNG",
           496
          ],
          [
           "Myanmar",
           "Asia",
           2007,
           944,
           "MMR",
           104
          ],
          [
           "Nepal",
           "Asia",
           2007,
           1091.359778,
           "NPL",
           524
          ],
          [
           "Oman",
           "Asia",
           2007,
           22316.19287,
           "OMN",
           512
          ],
          [
           "Pakistan",
           "Asia",
           2007,
           2605.94758,
           "PAK",
           586
          ],
          [
           "Philippines",
           "Asia",
           2007,
           3190.481016,
           "PHL",
           608
          ],
          [
           "Saudi Arabia",
           "Asia",
           2007,
           21654.83194,
           "SAU",
           682
          ],
          [
           "Singapore",
           "Asia",
           2007,
           47143.17964,
           "SGP",
           702
          ],
          [
           "Sri Lanka",
           "Asia",
           2007,
           3970.095407,
           "LKA",
           144
          ],
          [
           "Syria",
           "Asia",
           2007,
           4184.548089,
           "SYR",
           760
          ],
          [
           "Taiwan",
           "Asia",
           2007,
           28718.27684,
           "TWN",
           158
          ],
          [
           "Thailand",
           "Asia",
           2007,
           7458.396326999998,
           "THA",
           764
          ],
          [
           "Vietnam",
           "Asia",
           2007,
           2441.576404,
           "VNM",
           704
          ],
          [
           "West Bank and Gaza",
           "Asia",
           2007,
           3025.349798,
           "PSE",
           275
          ],
          [
           "Yemen, Rep.",
           "Asia",
           2007,
           2280.769906,
           "YEM",
           887
          ]
         ],
         "fillcolor": "rgba(255,255,255,0)",
         "hoveron": "points",
         "hovertemplate": "<b>%{hovertext}</b><br><br>continent=%{customdata[1]}<br>lifeExp=%{x}<br>country=%{customdata[0]}<br>year=%{customdata[2]}<br>gdpPercap=%{customdata[3]}<br>iso_alpha=%{customdata[4]}<br>iso_num=%{customdata[5]}<extra></extra>",
         "hovertext": [
          "Afghanistan",
          "Bahrain",
          "Bangladesh",
          "Cambodia",
          "China",
          "Hong Kong, China",
          "India",
          "Indonesia",
          "Iran",
          "Iraq",
          "Israel",
          "Japan",
          "Jordan",
          "Korea, Dem. Rep.",
          "Korea, Rep.",
          "Kuwait",
          "Lebanon",
          "Malaysia",
          "Mongolia",
          "Myanmar",
          "Nepal",
          "Oman",
          "Pakistan",
          "Philippines",
          "Saudi Arabia",
          "Singapore",
          "Sri Lanka",
          "Syria",
          "Taiwan",
          "Thailand",
          "Vietnam",
          "West Bank and Gaza",
          "Yemen, Rep."
         ],
         "jitter": 0,
         "legendgroup": "Asia",
         "line": {
          "color": "rgba(255,255,255,0)"
         },
         "marker": {
          "color": "#636efa",
          "symbol": "line-ns-open"
         },
         "name": "Asia",
         "offsetgroup": "Asia",
         "showlegend": false,
         "type": "box",
         "x": [
          43.828,
          75.635,
          64.062,
          59.723,
          72.961,
          82.208,
          64.69800000000001,
          70.65,
          70.964,
          59.545,
          80.745,
          82.603,
          72.535,
          67.297,
          78.623,
          77.58800000000002,
          71.993,
          74.241,
          66.803,
          62.069,
          63.785,
          75.64,
          65.483,
          71.688,
          72.777,
          79.972,
          72.396,
          74.143,
          78.4,
          70.616,
          74.249,
          73.422,
          62.698
         ],
         "xaxis": "x2",
         "yaxis": "y2"
        },
        {
         "alignmentgroup": "True",
         "bingroup": "x",
         "histfunc": "sum",
         "hovertemplate": "continent=Europe<br>lifeExp=%{x}<br>sum of pop=%{y}<extra></extra>",
         "legendgroup": "Europe",
         "marker": {
          "color": "#EF553B",
          "pattern": {
           "shape": ""
          }
         },
         "name": "Europe",
         "offsetgroup": "Europe",
         "orientation": "v",
         "showlegend": true,
         "type": "histogram",
         "x": [
          76.423,
          79.829,
          79.441,
          74.852,
          73.005,
          75.748,
          76.486,
          78.332,
          79.313,
          80.657,
          79.406,
          79.483,
          73.33800000000002,
          81.757,
          78.885,
          80.546,
          74.543,
          79.762,
          80.196,
          75.563,
          78.098,
          72.476,
          74.002,
          74.663,
          77.926,
          80.941,
          80.884,
          81.70100000000002,
          71.777,
          79.425
         ],
         "xaxis": "x",
         "y": [
          3600523,
          8199783,
          10392226,
          4552198,
          7322858,
          4493312,
          10228744,
          5468120,
          5238460,
          61083916,
          82400996,
          10706290,
          9956108,
          301931,
          4109086,
          58147733,
          684736,
          16570613,
          4627926,
          38518241,
          10642836,
          22276056,
          10150265,
          5447502,
          2009245,
          40448191,
          9031088,
          7554661,
          71158647,
          60776238
         ],
         "yaxis": "y"
        },
        {
         "alignmentgroup": "True",
         "boxpoints": "all",
         "customdata": [
          [
           "Albania",
           "Europe",
           2007,
           5937.029525999998,
           "ALB",
           8
          ],
          [
           "Austria",
           "Europe",
           2007,
           36126.4927,
           "AUT",
           40
          ],
          [
           "Belgium",
           "Europe",
           2007,
           33692.60508,
           "BEL",
           56
          ],
          [
           "Bosnia and Herzegovina",
           "Europe",
           2007,
           7446.298803,
           "BIH",
           70
          ],
          [
           "Bulgaria",
           "Europe",
           2007,
           10680.79282,
           "BGR",
           100
          ],
          [
           "Croatia",
           "Europe",
           2007,
           14619.222719999998,
           "HRV",
           191
          ],
          [
           "Czech Republic",
           "Europe",
           2007,
           22833.30851,
           "CZE",
           203
          ],
          [
           "Denmark",
           "Europe",
           2007,
           35278.41874,
           "DNK",
           208
          ],
          [
           "Finland",
           "Europe",
           2007,
           33207.0844,
           "FIN",
           246
          ],
          [
           "France",
           "Europe",
           2007,
           30470.0167,
           "FRA",
           250
          ],
          [
           "Germany",
           "Europe",
           2007,
           32170.37442,
           "DEU",
           276
          ],
          [
           "Greece",
           "Europe",
           2007,
           27538.41188,
           "GRC",
           300
          ],
          [
           "Hungary",
           "Europe",
           2007,
           18008.94444,
           "HUN",
           348
          ],
          [
           "Iceland",
           "Europe",
           2007,
           36180.78919,
           "ISL",
           352
          ],
          [
           "Ireland",
           "Europe",
           2007,
           40675.99635,
           "IRL",
           372
          ],
          [
           "Italy",
           "Europe",
           2007,
           28569.7197,
           "ITA",
           380
          ],
          [
           "Montenegro",
           "Europe",
           2007,
           9253.896111,
           "MNE",
           499
          ],
          [
           "Netherlands",
           "Europe",
           2007,
           36797.93332,
           "NLD",
           528
          ],
          [
           "Norway",
           "Europe",
           2007,
           49357.19017,
           "NOR",
           578
          ],
          [
           "Poland",
           "Europe",
           2007,
           15389.924680000002,
           "POL",
           616
          ],
          [
           "Portugal",
           "Europe",
           2007,
           20509.64777,
           "PRT",
           620
          ],
          [
           "Romania",
           "Europe",
           2007,
           10808.47561,
           "ROU",
           642
          ],
          [
           "Serbia",
           "Europe",
           2007,
           9786.534714,
           "SRB",
           688
          ],
          [
           "Slovak Republic",
           "Europe",
           2007,
           18678.31435,
           "SVK",
           703
          ],
          [
           "Slovenia",
           "Europe",
           2007,
           25768.25759,
           "SVN",
           705
          ],
          [
           "Spain",
           "Europe",
           2007,
           28821.0637,
           "ESP",
           724
          ],
          [
           "Sweden",
           "Europe",
           2007,
           33859.74835,
           "SWE",
           752
          ],
          [
           "Switzerland",
           "Europe",
           2007,
           37506.41907,
           "CHE",
           756
          ],
          [
           "Turkey",
           "Europe",
           2007,
           8458.276384,
           "TUR",
           792
          ],
          [
           "United Kingdom",
           "Europe",
           2007,
           33203.26128,
           "GBR",
           826
          ]
         ],
         "fillcolor": "rgba(255,255,255,0)",
         "hoveron": "points",
         "hovertemplate": "<b>%{hovertext}</b><br><br>continent=%{customdata[1]}<br>lifeExp=%{x}<br>country=%{customdata[0]}<br>year=%{customdata[2]}<br>gdpPercap=%{customdata[3]}<br>iso_alpha=%{customdata[4]}<br>iso_num=%{customdata[5]}<extra></extra>",
         "hovertext": [
          "Albania",
          "Austria",
          "Belgium",
          "Bosnia and Herzegovina",
          "Bulgaria",
          "Croatia",
          "Czech Republic",
          "Denmark",
          "Finland",
          "France",
          "Germany",
          "Greece",
          "Hungary",
          "Iceland",
          "Ireland",
          "Italy",
          "Montenegro",
          "Netherlands",
          "Norway",
          "Poland",
          "Portugal",
          "Romania",
          "Serbia",
          "Slovak Republic",
          "Slovenia",
          "Spain",
          "Sweden",
          "Switzerland",
          "Turkey",
          "United Kingdom"
         ],
         "jitter": 0,
         "legendgroup": "Europe",
         "line": {
          "color": "rgba(255,255,255,0)"
         },
         "marker": {
          "color": "#EF553B",
          "symbol": "line-ns-open"
         },
         "name": "Europe",
         "offsetgroup": "Europe",
         "showlegend": false,
         "type": "box",
         "x": [
          76.423,
          79.829,
          79.441,
          74.852,
          73.005,
          75.748,
          76.486,
          78.332,
          79.313,
          80.657,
          79.406,
          79.483,
          73.33800000000002,
          81.757,
          78.885,
          80.546,
          74.543,
          79.762,
          80.196,
          75.563,
          78.098,
          72.476,
          74.002,
          74.663,
          77.926,
          80.941,
          80.884,
          81.70100000000002,
          71.777,
          79.425
         ],
         "xaxis": "x2",
         "yaxis": "y2"
        },
        {
         "alignmentgroup": "True",
         "bingroup": "x",
         "histfunc": "sum",
         "hovertemplate": "continent=Africa<br>lifeExp=%{x}<br>sum of pop=%{y}<extra></extra>",
         "legendgroup": "Africa",
         "marker": {
          "color": "#00cc96",
          "pattern": {
           "shape": ""
          }
         },
         "name": "Africa",
         "offsetgroup": "Africa",
         "orientation": "v",
         "showlegend": true,
         "type": "histogram",
         "x": [
          72.301,
          42.731,
          56.728,
          50.728,
          52.295,
          49.58,
          50.43,
          44.74100000000001,
          50.651,
          65.152,
          46.462,
          55.322,
          48.328,
          54.791,
          71.33800000000002,
          51.57899999999999,
          58.04,
          52.947,
          56.735,
          59.448,
          60.022,
          56.007,
          46.38800000000001,
          54.11,
          42.592,
          45.678,
          73.952,
          59.44300000000001,
          48.303,
          54.467,
          64.164,
          72.801,
          71.164,
          42.082,
          52.90600000000001,
          56.867,
          46.859,
          76.442,
          46.242,
          65.528,
          63.062,
          42.56800000000001,
          48.159,
          49.339,
          58.556,
          39.613,
          52.517,
          58.42,
          73.923,
          51.542,
          42.38399999999999,
          43.487
         ],
         "xaxis": "x",
         "y": [
          33333216,
          12420476,
          8078314,
          1639131,
          14326203,
          8390505,
          17696293,
          4369038,
          10238807,
          710960,
          64606759,
          3800610,
          18013409,
          496374,
          80264543,
          551201,
          4906585,
          76511887,
          1454867,
          1688359,
          22873338,
          9947814,
          1472041,
          35610177,
          2012649,
          3193942,
          6036914,
          19167654,
          13327079,
          12031795,
          3270065,
          1250882,
          33757175,
          19951656,
          2055080,
          12894865,
          135031164,
          798094,
          8860588,
          199579,
          12267493,
          6144562,
          9118773,
          43997828,
          42292929,
          1133066,
          38139640,
          5701579,
          10276158,
          29170398,
          11746035,
          12311143
         ],
         "yaxis": "y"
        },
        {
         "alignmentgroup": "True",
         "boxpoints": "all",
         "customdata": [
          [
           "Algeria",
           "Africa",
           2007,
           6223.367465,
           "DZA",
           12
          ],
          [
           "Angola",
           "Africa",
           2007,
           4797.231267,
           "AGO",
           24
          ],
          [
           "Benin",
           "Africa",
           2007,
           1441.284873,
           "BEN",
           204
          ],
          [
           "Botswana",
           "Africa",
           2007,
           12569.85177,
           "BWA",
           72
          ],
          [
           "Burkina Faso",
           "Africa",
           2007,
           1217.032994,
           "BFA",
           854
          ],
          [
           "Burundi",
           "Africa",
           2007,
           430.0706916,
           "BDI",
           108
          ],
          [
           "Cameroon",
           "Africa",
           2007,
           2042.09524,
           "CMR",
           120
          ],
          [
           "Central African Republic",
           "Africa",
           2007,
           706.016537,
           "CAF",
           140
          ],
          [
           "Chad",
           "Africa",
           2007,
           1704.063724,
           "TCD",
           148
          ],
          [
           "Comoros",
           "Africa",
           2007,
           986.1478792,
           "COM",
           174
          ],
          [
           "Congo, Dem. Rep.",
           "Africa",
           2007,
           277.5518587,
           "COD",
           180
          ],
          [
           "Congo, Rep.",
           "Africa",
           2007,
           3632.557798,
           "COG",
           178
          ],
          [
           "Cote d'Ivoire",
           "Africa",
           2007,
           1544.750112,
           "CIV",
           384
          ],
          [
           "Djibouti",
           "Africa",
           2007,
           2082.4815670000007,
           "DJI",
           262
          ],
          [
           "Egypt",
           "Africa",
           2007,
           5581.180998,
           "EGY",
           818
          ],
          [
           "Equatorial Guinea",
           "Africa",
           2007,
           12154.08975,
           "GNQ",
           226
          ],
          [
           "Eritrea",
           "Africa",
           2007,
           641.3695236000002,
           "ERI",
           232
          ],
          [
           "Ethiopia",
           "Africa",
           2007,
           690.8055759,
           "ETH",
           231
          ],
          [
           "Gabon",
           "Africa",
           2007,
           13206.48452,
           "GAB",
           266
          ],
          [
           "Gambia",
           "Africa",
           2007,
           752.7497265,
           "GMB",
           270
          ],
          [
           "Ghana",
           "Africa",
           2007,
           1327.60891,
           "GHA",
           288
          ],
          [
           "Guinea",
           "Africa",
           2007,
           942.6542111,
           "GIN",
           324
          ],
          [
           "Guinea-Bissau",
           "Africa",
           2007,
           579.2317429999998,
           "GNB",
           624
          ],
          [
           "Kenya",
           "Africa",
           2007,
           1463.249282,
           "KEN",
           404
          ],
          [
           "Lesotho",
           "Africa",
           2007,
           1569.331442,
           "LSO",
           426
          ],
          [
           "Liberia",
           "Africa",
           2007,
           414.5073415,
           "LBR",
           430
          ],
          [
           "Libya",
           "Africa",
           2007,
           12057.49928,
           "LBY",
           434
          ],
          [
           "Madagascar",
           "Africa",
           2007,
           1044.770126,
           "MDG",
           450
          ],
          [
           "Malawi",
           "Africa",
           2007,
           759.3499101,
           "MWI",
           454
          ],
          [
           "Mali",
           "Africa",
           2007,
           1042.581557,
           "MLI",
           466
          ],
          [
           "Mauritania",
           "Africa",
           2007,
           1803.151496,
           "MRT",
           478
          ],
          [
           "Mauritius",
           "Africa",
           2007,
           10956.99112,
           "MUS",
           480
          ],
          [
           "Morocco",
           "Africa",
           2007,
           3820.17523,
           "MAR",
           504
          ],
          [
           "Mozambique",
           "Africa",
           2007,
           823.6856205,
           "MOZ",
           508
          ],
          [
           "Namibia",
           "Africa",
           2007,
           4811.060429,
           "NAM",
           516
          ],
          [
           "Niger",
           "Africa",
           2007,
           619.6768923999998,
           "NER",
           562
          ],
          [
           "Nigeria",
           "Africa",
           2007,
           2013.977305,
           "NGA",
           566
          ],
          [
           "Reunion",
           "Africa",
           2007,
           7670.122558,
           "REU",
           638
          ],
          [
           "Rwanda",
           "Africa",
           2007,
           863.0884639000002,
           "RWA",
           646
          ],
          [
           "Sao Tome and Principe",
           "Africa",
           2007,
           1598.435089,
           "STP",
           678
          ],
          [
           "Senegal",
           "Africa",
           2007,
           1712.472136,
           "SEN",
           686
          ],
          [
           "Sierra Leone",
           "Africa",
           2007,
           862.5407561000002,
           "SLE",
           694
          ],
          [
           "Somalia",
           "Africa",
           2007,
           926.1410683,
           "SOM",
           706
          ],
          [
           "South Africa",
           "Africa",
           2007,
           9269.657808,
           "ZAF",
           710
          ],
          [
           "Sudan",
           "Africa",
           2007,
           2602.394995,
           "SDN",
           736
          ],
          [
           "Swaziland",
           "Africa",
           2007,
           4513.480643,
           "SWZ",
           748
          ],
          [
           "Tanzania",
           "Africa",
           2007,
           1107.482182,
           "TZA",
           834
          ],
          [
           "Togo",
           "Africa",
           2007,
           882.9699437999999,
           "TGO",
           768
          ],
          [
           "Tunisia",
           "Africa",
           2007,
           7092.923025,
           "TUN",
           788
          ],
          [
           "Uganda",
           "Africa",
           2007,
           1056.380121,
           "UGA",
           800
          ],
          [
           "Zambia",
           "Africa",
           2007,
           1271.211593,
           "ZMB",
           894
          ],
          [
           "Zimbabwe",
           "Africa",
           2007,
           469.70929810000007,
           "ZWE",
           716
          ]
         ],
         "fillcolor": "rgba(255,255,255,0)",
         "hoveron": "points",
         "hovertemplate": "<b>%{hovertext}</b><br><br>continent=%{customdata[1]}<br>lifeExp=%{x}<br>country=%{customdata[0]}<br>year=%{customdata[2]}<br>gdpPercap=%{customdata[3]}<br>iso_alpha=%{customdata[4]}<br>iso_num=%{customdata[5]}<extra></extra>",
         "hovertext": [
          "Algeria",
          "Angola",
          "Benin",
          "Botswana",
          "Burkina Faso",
          "Burundi",
          "Cameroon",
          "Central African Republic",
          "Chad",
          "Comoros",
          "Congo, Dem. Rep.",
          "Congo, Rep.",
          "Cote d'Ivoire",
          "Djibouti",
          "Egypt",
          "Equatorial Guinea",
          "Eritrea",
          "Ethiopia",
          "Gabon",
          "Gambia",
          "Ghana",
          "Guinea",
          "Guinea-Bissau",
          "Kenya",
          "Lesotho",
          "Liberia",
          "Libya",
          "Madagascar",
          "Malawi",
          "Mali",
          "Mauritania",
          "Mauritius",
          "Morocco",
          "Mozambique",
          "Namibia",
          "Niger",
          "Nigeria",
          "Reunion",
          "Rwanda",
          "Sao Tome and Principe",
          "Senegal",
          "Sierra Leone",
          "Somalia",
          "South Africa",
          "Sudan",
          "Swaziland",
          "Tanzania",
          "Togo",
          "Tunisia",
          "Uganda",
          "Zambia",
          "Zimbabwe"
         ],
         "jitter": 0,
         "legendgroup": "Africa",
         "line": {
          "color": "rgba(255,255,255,0)"
         },
         "marker": {
          "color": "#00cc96",
          "symbol": "line-ns-open"
         },
         "name": "Africa",
         "offsetgroup": "Africa",
         "showlegend": false,
         "type": "box",
         "x": [
          72.301,
          42.731,
          56.728,
          50.728,
          52.295,
          49.58,
          50.43,
          44.74100000000001,
          50.651,
          65.152,
          46.462,
          55.322,
          48.328,
          54.791,
          71.33800000000002,
          51.57899999999999,
          58.04,
          52.947,
          56.735,
          59.448,
          60.022,
          56.007,
          46.38800000000001,
          54.11,
          42.592,
          45.678,
          73.952,
          59.44300000000001,
          48.303,
          54.467,
          64.164,
          72.801,
          71.164,
          42.082,
          52.90600000000001,
          56.867,
          46.859,
          76.442,
          46.242,
          65.528,
          63.062,
          42.56800000000001,
          48.159,
          49.339,
          58.556,
          39.613,
          52.517,
          58.42,
          73.923,
          51.542,
          42.38399999999999,
          43.487
         ],
         "xaxis": "x2",
         "yaxis": "y2"
        },
        {
         "alignmentgroup": "True",
         "bingroup": "x",
         "histfunc": "sum",
         "hovertemplate": "continent=Americas<br>lifeExp=%{x}<br>sum of pop=%{y}<extra></extra>",
         "legendgroup": "Americas",
         "marker": {
          "color": "#ab63fa",
          "pattern": {
           "shape": ""
          }
         },
         "name": "Americas",
         "offsetgroup": "Americas",
         "orientation": "v",
         "showlegend": true,
         "type": "histogram",
         "x": [
          75.32,
          65.554,
          72.39,
          80.653,
          78.553,
          72.889,
          78.782,
          78.273,
          72.235,
          74.994,
          71.878,
          70.259,
          60.916,
          70.19800000000001,
          72.567,
          76.195,
          72.899,
          75.53699999999998,
          71.752,
          71.421,
          78.74600000000002,
          69.819,
          78.242,
          76.384,
          73.747
         ],
         "xaxis": "x",
         "y": [
          40301927,
          9119152,
          190010647,
          33390141,
          16284741,
          44227550,
          4133884,
          11416987,
          9319622,
          13755680,
          6939688,
          12572928,
          8502814,
          7483763,
          2780132,
          108700891,
          5675356,
          3242173,
          6667147,
          28674757,
          3942491,
          1056608,
          301139947,
          3447496,
          26084662
         ],
         "yaxis": "y"
        },
        {
         "alignmentgroup": "True",
         "boxpoints": "all",
         "customdata": [
          [
           "Argentina",
           "Americas",
           2007,
           12779.37964,
           "ARG",
           32
          ],
          [
           "Bolivia",
           "Americas",
           2007,
           3822.137084,
           "BOL",
           68
          ],
          [
           "Brazil",
           "Americas",
           2007,
           9065.800825,
           "BRA",
           76
          ],
          [
           "Canada",
           "Americas",
           2007,
           36319.23501,
           "CAN",
           124
          ],
          [
           "Chile",
           "Americas",
           2007,
           13171.63885,
           "CHL",
           152
          ],
          [
           "Colombia",
           "Americas",
           2007,
           7006.580419,
           "COL",
           170
          ],
          [
           "Costa Rica",
           "Americas",
           2007,
           9645.06142,
           "CRI",
           188
          ],
          [
           "Cuba",
           "Americas",
           2007,
           8948.102923,
           "CUB",
           192
          ],
          [
           "Dominican Republic",
           "Americas",
           2007,
           6025.3747520000015,
           "DOM",
           214
          ],
          [
           "Ecuador",
           "Americas",
           2007,
           6873.262326000001,
           "ECU",
           218
          ],
          [
           "El Salvador",
           "Americas",
           2007,
           5728.353514,
           "SLV",
           222
          ],
          [
           "Guatemala",
           "Americas",
           2007,
           5186.050003,
           "GTM",
           320
          ],
          [
           "Haiti",
           "Americas",
           2007,
           1201.637154,
           "HTI",
           332
          ],
          [
           "Honduras",
           "Americas",
           2007,
           3548.3308460000007,
           "HND",
           340
          ],
          [
           "Jamaica",
           "Americas",
           2007,
           7320.8802620000015,
           "JAM",
           388
          ],
          [
           "Mexico",
           "Americas",
           2007,
           11977.57496,
           "MEX",
           484
          ],
          [
           "Nicaragua",
           "Americas",
           2007,
           2749.320965,
           "NIC",
           558
          ],
          [
           "Panama",
           "Americas",
           2007,
           9809.185636,
           "PAN",
           591
          ],
          [
           "Paraguay",
           "Americas",
           2007,
           4172.838464,
           "PRY",
           600
          ],
          [
           "Peru",
           "Americas",
           2007,
           7408.905561,
           "PER",
           604
          ],
          [
           "Puerto Rico",
           "Americas",
           2007,
           19328.70901,
           "PRI",
           630
          ],
          [
           "Trinidad and Tobago",
           "Americas",
           2007,
           18008.50924,
           "TTO",
           780
          ],
          [
           "United States",
           "Americas",
           2007,
           42951.65309,
           "USA",
           840
          ],
          [
           "Uruguay",
           "Americas",
           2007,
           10611.46299,
           "URY",
           858
          ],
          [
           "Venezuela",
           "Americas",
           2007,
           11415.80569,
           "VEN",
           862
          ]
         ],
         "fillcolor": "rgba(255,255,255,0)",
         "hoveron": "points",
         "hovertemplate": "<b>%{hovertext}</b><br><br>continent=%{customdata[1]}<br>lifeExp=%{x}<br>country=%{customdata[0]}<br>year=%{customdata[2]}<br>gdpPercap=%{customdata[3]}<br>iso_alpha=%{customdata[4]}<br>iso_num=%{customdata[5]}<extra></extra>",
         "hovertext": [
          "Argentina",
          "Bolivia",
          "Brazil",
          "Canada",
          "Chile",
          "Colombia",
          "Costa Rica",
          "Cuba",
          "Dominican Republic",
          "Ecuador",
          "El Salvador",
          "Guatemala",
          "Haiti",
          "Honduras",
          "Jamaica",
          "Mexico",
          "Nicaragua",
          "Panama",
          "Paraguay",
          "Peru",
          "Puerto Rico",
          "Trinidad and Tobago",
          "United States",
          "Uruguay",
          "Venezuela"
         ],
         "jitter": 0,
         "legendgroup": "Americas",
         "line": {
          "color": "rgba(255,255,255,0)"
         },
         "marker": {
          "color": "#ab63fa",
          "symbol": "line-ns-open"
         },
         "name": "Americas",
         "offsetgroup": "Americas",
         "showlegend": false,
         "type": "box",
         "x": [
          75.32,
          65.554,
          72.39,
          80.653,
          78.553,
          72.889,
          78.782,
          78.273,
          72.235,
          74.994,
          71.878,
          70.259,
          60.916,
          70.19800000000001,
          72.567,
          76.195,
          72.899,
          75.53699999999998,
          71.752,
          71.421,
          78.74600000000002,
          69.819,
          78.242,
          76.384,
          73.747
         ],
         "xaxis": "x2",
         "yaxis": "y2"
        },
        {
         "alignmentgroup": "True",
         "bingroup": "x",
         "histfunc": "sum",
         "hovertemplate": "continent=Oceania<br>lifeExp=%{x}<br>sum of pop=%{y}<extra></extra>",
         "legendgroup": "Oceania",
         "marker": {
          "color": "#FFA15A",
          "pattern": {
           "shape": ""
          }
         },
         "name": "Oceania",
         "offsetgroup": "Oceania",
         "orientation": "v",
         "showlegend": true,
         "type": "histogram",
         "x": [
          81.235,
          80.204
         ],
         "xaxis": "x",
         "y": [
          20434176,
          4115771
         ],
         "yaxis": "y"
        },
        {
         "alignmentgroup": "True",
         "boxpoints": "all",
         "customdata": [
          [
           "Australia",
           "Oceania",
           2007,
           34435.367439999995,
           "AUS",
           36
          ],
          [
           "New Zealand",
           "Oceania",
           2007,
           25185.00911,
           "NZL",
           554
          ]
         ],
         "fillcolor": "rgba(255,255,255,0)",
         "hoveron": "points",
         "hovertemplate": "<b>%{hovertext}</b><br><br>continent=%{customdata[1]}<br>lifeExp=%{x}<br>country=%{customdata[0]}<br>year=%{customdata[2]}<br>gdpPercap=%{customdata[3]}<br>iso_alpha=%{customdata[4]}<br>iso_num=%{customdata[5]}<extra></extra>",
         "hovertext": [
          "Australia",
          "New Zealand"
         ],
         "jitter": 0,
         "legendgroup": "Oceania",
         "line": {
          "color": "rgba(255,255,255,0)"
         },
         "marker": {
          "color": "#FFA15A",
          "symbol": "line-ns-open"
         },
         "name": "Oceania",
         "offsetgroup": "Oceania",
         "showlegend": false,
         "type": "box",
         "x": [
          81.235,
          80.204
         ],
         "xaxis": "x2",
         "yaxis": "y2"
        }
       ],
       "layout": {
        "barmode": "relative",
        "legend": {
         "title": {
          "text": "continent"
         },
         "tracegroupgap": 0
        },
        "margin": {
         "t": 60
        },
        "paper_bgcolor": "rgba(0,0,0,0)",
        "template": {
         "data": {
          "bar": [
           {
            "error_x": {
             "color": "#f2f5fa"
            },
            "error_y": {
             "color": "#f2f5fa"
            },
            "marker": {
             "line": {
              "color": "rgb(17,17,17)",
              "width": 0.5
             },
             "pattern": {
              "fillmode": "overlay",
              "size": 10,
              "solidity": 0.2
             }
            },
            "type": "bar"
           }
          ],
          "barpolar": [
           {
            "marker": {
             "line": {
              "color": "rgb(17,17,17)",
              "width": 0.5
             },
             "pattern": {
              "fillmode": "overlay",
              "size": 10,
              "solidity": 0.2
             }
            },
            "type": "barpolar"
           }
          ],
          "carpet": [
           {
            "aaxis": {
             "endlinecolor": "#A2B1C6",
             "gridcolor": "#506784",
             "linecolor": "#506784",
             "minorgridcolor": "#506784",
             "startlinecolor": "#A2B1C6"
            },
            "baxis": {
             "endlinecolor": "#A2B1C6",
             "gridcolor": "#506784",
             "linecolor": "#506784",
             "minorgridcolor": "#506784",
             "startlinecolor": "#A2B1C6"
            },
            "type": "carpet"
           }
          ],
          "choropleth": [
           {
            "colorbar": {
             "outlinewidth": 0,
             "ticks": ""
            },
            "type": "choropleth"
           }
          ],
          "contour": [
           {
            "colorbar": {
             "outlinewidth": 0,
             "ticks": ""
            },
            "colorscale": [
             [
              0,
              "#0d0887"
             ],
             [
              0.1111111111111111,
              "#46039f"
             ],
             [
              0.2222222222222222,
              "#7201a8"
             ],
             [
              0.3333333333333333,
              "#9c179e"
             ],
             [
              0.4444444444444444,
              "#bd3786"
             ],
             [
              0.5555555555555556,
              "#d8576b"
             ],
             [
              0.6666666666666666,
              "#ed7953"
             ],
             [
              0.7777777777777778,
              "#fb9f3a"
             ],
             [
              0.8888888888888888,
              "#fdca26"
             ],
             [
              1,
              "#f0f921"
             ]
            ],
            "type": "contour"
           }
          ],
          "contourcarpet": [
           {
            "colorbar": {
             "outlinewidth": 0,
             "ticks": ""
            },
            "type": "contourcarpet"
           }
          ],
          "heatmap": [
           {
            "colorbar": {
             "outlinewidth": 0,
             "ticks": ""
            },
            "colorscale": [
             [
              0,
              "#0d0887"
             ],
             [
              0.1111111111111111,
              "#46039f"
             ],
             [
              0.2222222222222222,
              "#7201a8"
             ],
             [
              0.3333333333333333,
              "#9c179e"
             ],
             [
              0.4444444444444444,
              "#bd3786"
             ],
             [
              0.5555555555555556,
              "#d8576b"
             ],
             [
              0.6666666666666666,
              "#ed7953"
             ],
             [
              0.7777777777777778,
              "#fb9f3a"
             ],
             [
              0.8888888888888888,
              "#fdca26"
             ],
             [
              1,
              "#f0f921"
             ]
            ],
            "type": "heatmap"
           }
          ],
          "heatmapgl": [
           {
            "colorbar": {
             "outlinewidth": 0,
             "ticks": ""
            },
            "colorscale": [
             [
              0,
              "#0d0887"
             ],
             [
              0.1111111111111111,
              "#46039f"
             ],
             [
              0.2222222222222222,
              "#7201a8"
             ],
             [
              0.3333333333333333,
              "#9c179e"
             ],
             [
              0.4444444444444444,
              "#bd3786"
             ],
             [
              0.5555555555555556,
              "#d8576b"
             ],
             [
              0.6666666666666666,
              "#ed7953"
             ],
             [
              0.7777777777777778,
              "#fb9f3a"
             ],
             [
              0.8888888888888888,
              "#fdca26"
             ],
             [
              1,
              "#f0f921"
             ]
            ],
            "type": "heatmapgl"
           }
          ],
          "histogram": [
           {
            "marker": {
             "pattern": {
              "fillmode": "overlay",
              "size": 10,
              "solidity": 0.2
             }
            },
            "type": "histogram"
           }
          ],
          "histogram2d": [
           {
            "colorbar": {
             "outlinewidth": 0,
             "ticks": ""
            },
            "colorscale": [
             [
              0,
              "#0d0887"
             ],
             [
              0.1111111111111111,
              "#46039f"
             ],
             [
              0.2222222222222222,
              "#7201a8"
             ],
             [
              0.3333333333333333,
              "#9c179e"
             ],
             [
              0.4444444444444444,
              "#bd3786"
             ],
             [
              0.5555555555555556,
              "#d8576b"
             ],
             [
              0.6666666666666666,
              "#ed7953"
             ],
             [
              0.7777777777777778,
              "#fb9f3a"
             ],
             [
              0.8888888888888888,
              "#fdca26"
             ],
             [
              1,
              "#f0f921"
             ]
            ],
            "type": "histogram2d"
           }
          ],
          "histogram2dcontour": [
           {
            "colorbar": {
             "outlinewidth": 0,
             "ticks": ""
            },
            "colorscale": [
             [
              0,
              "#0d0887"
             ],
             [
              0.1111111111111111,
              "#46039f"
             ],
             [
              0.2222222222222222,
              "#7201a8"
             ],
             [
              0.3333333333333333,
              "#9c179e"
             ],
             [
              0.4444444444444444,
              "#bd3786"
             ],
             [
              0.5555555555555556,
              "#d8576b"
             ],
             [
              0.6666666666666666,
              "#ed7953"
             ],
             [
              0.7777777777777778,
              "#fb9f3a"
             ],
             [
              0.8888888888888888,
              "#fdca26"
             ],
             [
              1,
              "#f0f921"
             ]
            ],
            "type": "histogram2dcontour"
           }
          ],
          "mesh3d": [
           {
            "colorbar": {
             "outlinewidth": 0,
             "ticks": ""
            },
            "type": "mesh3d"
           }
          ],
          "parcoords": [
           {
            "line": {
             "colorbar": {
              "outlinewidth": 0,
              "ticks": ""
             }
            },
            "type": "parcoords"
           }
          ],
          "pie": [
           {
            "automargin": true,
            "type": "pie"
           }
          ],
          "scatter": [
           {
            "marker": {
             "line": {
              "color": "#283442"
             }
            },
            "type": "scatter"
           }
          ],
          "scatter3d": [
           {
            "line": {
             "colorbar": {
              "outlinewidth": 0,
              "ticks": ""
             }
            },
            "marker": {
             "colorbar": {
              "outlinewidth": 0,
              "ticks": ""
             }
            },
            "type": "scatter3d"
           }
          ],
          "scattercarpet": [
           {
            "marker": {
             "colorbar": {
              "outlinewidth": 0,
              "ticks": ""
             }
            },
            "type": "scattercarpet"
           }
          ],
          "scattergeo": [
           {
            "marker": {
             "colorbar": {
              "outlinewidth": 0,
              "ticks": ""
             }
            },
            "type": "scattergeo"
           }
          ],
          "scattergl": [
           {
            "marker": {
             "line": {
              "color": "#283442"
             }
            },
            "type": "scattergl"
           }
          ],
          "scattermapbox": [
           {
            "marker": {
             "colorbar": {
              "outlinewidth": 0,
              "ticks": ""
             }
            },
            "type": "scattermapbox"
           }
          ],
          "scatterpolar": [
           {
            "marker": {
             "colorbar": {
              "outlinewidth": 0,
              "ticks": ""
             }
            },
            "type": "scatterpolar"
           }
          ],
          "scatterpolargl": [
           {
            "marker": {
             "colorbar": {
              "outlinewidth": 0,
              "ticks": ""
             }
            },
            "type": "scatterpolargl"
           }
          ],
          "scatterternary": [
           {
            "marker": {
             "colorbar": {
              "outlinewidth": 0,
              "ticks": ""
             }
            },
            "type": "scatterternary"
           }
          ],
          "surface": [
           {
            "colorbar": {
             "outlinewidth": 0,
             "ticks": ""
            },
            "colorscale": [
             [
              0,
              "#0d0887"
             ],
             [
              0.1111111111111111,
              "#46039f"
             ],
             [
              0.2222222222222222,
              "#7201a8"
             ],
             [
              0.3333333333333333,
              "#9c179e"
             ],
             [
              0.4444444444444444,
              "#bd3786"
             ],
             [
              0.5555555555555556,
              "#d8576b"
             ],
             [
              0.6666666666666666,
              "#ed7953"
             ],
             [
              0.7777777777777778,
              "#fb9f3a"
             ],
             [
              0.8888888888888888,
              "#fdca26"
             ],
             [
              1,
              "#f0f921"
             ]
            ],
            "type": "surface"
           }
          ],
          "table": [
           {
            "cells": {
             "fill": {
              "color": "#506784"
             },
             "line": {
              "color": "rgb(17,17,17)"
             }
            },
            "header": {
             "fill": {
              "color": "#2a3f5f"
             },
             "line": {
              "color": "rgb(17,17,17)"
             }
            },
            "type": "table"
           }
          ]
         },
         "layout": {
          "annotationdefaults": {
           "arrowcolor": "#f2f5fa",
           "arrowhead": 0,
           "arrowwidth": 1
          },
          "autotypenumbers": "strict",
          "coloraxis": {
           "colorbar": {
            "outlinewidth": 0,
            "ticks": ""
           }
          },
          "colorscale": {
           "diverging": [
            [
             0,
             "#8e0152"
            ],
            [
             0.1,
             "#c51b7d"
            ],
            [
             0.2,
             "#de77ae"
            ],
            [
             0.3,
             "#f1b6da"
            ],
            [
             0.4,
             "#fde0ef"
            ],
            [
             0.5,
             "#f7f7f7"
            ],
            [
             0.6,
             "#e6f5d0"
            ],
            [
             0.7,
             "#b8e186"
            ],
            [
             0.8,
             "#7fbc41"
            ],
            [
             0.9,
             "#4d9221"
            ],
            [
             1,
             "#276419"
            ]
           ],
           "sequential": [
            [
             0,
             "#0d0887"
            ],
            [
             0.1111111111111111,
             "#46039f"
            ],
            [
             0.2222222222222222,
             "#7201a8"
            ],
            [
             0.3333333333333333,
             "#9c179e"
            ],
            [
             0.4444444444444444,
             "#bd3786"
            ],
            [
             0.5555555555555556,
             "#d8576b"
            ],
            [
             0.6666666666666666,
             "#ed7953"
            ],
            [
             0.7777777777777778,
             "#fb9f3a"
            ],
            [
             0.8888888888888888,
             "#fdca26"
            ],
            [
             1,
             "#f0f921"
            ]
           ],
           "sequentialminus": [
            [
             0,
             "#0d0887"
            ],
            [
             0.1111111111111111,
             "#46039f"
            ],
            [
             0.2222222222222222,
             "#7201a8"
            ],
            [
             0.3333333333333333,
             "#9c179e"
            ],
            [
             0.4444444444444444,
             "#bd3786"
            ],
            [
             0.5555555555555556,
             "#d8576b"
            ],
            [
             0.6666666666666666,
             "#ed7953"
            ],
            [
             0.7777777777777778,
             "#fb9f3a"
            ],
            [
             0.8888888888888888,
             "#fdca26"
            ],
            [
             1,
             "#f0f921"
            ]
           ]
          },
          "colorway": [
           "#636efa",
           "#EF553B",
           "#00cc96",
           "#ab63fa",
           "#FFA15A",
           "#19d3f3",
           "#FF6692",
           "#B6E880",
           "#FF97FF",
           "#FECB52"
          ],
          "font": {
           "color": "#f2f5fa"
          },
          "geo": {
           "bgcolor": "rgb(17,17,17)",
           "lakecolor": "rgb(17,17,17)",
           "landcolor": "rgb(17,17,17)",
           "showlakes": true,
           "showland": true,
           "subunitcolor": "#506784"
          },
          "hoverlabel": {
           "align": "left"
          },
          "hovermode": "closest",
          "mapbox": {
           "style": "dark"
          },
          "paper_bgcolor": "rgb(17,17,17)",
          "plot_bgcolor": "rgb(17,17,17)",
          "polar": {
           "angularaxis": {
            "gridcolor": "#506784",
            "linecolor": "#506784",
            "ticks": ""
           },
           "bgcolor": "rgb(17,17,17)",
           "radialaxis": {
            "gridcolor": "#506784",
            "linecolor": "#506784",
            "ticks": ""
           }
          },
          "scene": {
           "xaxis": {
            "backgroundcolor": "rgb(17,17,17)",
            "gridcolor": "#506784",
            "gridwidth": 2,
            "linecolor": "#506784",
            "showbackground": true,
            "ticks": "",
            "zerolinecolor": "#C8D4E3"
           },
           "yaxis": {
            "backgroundcolor": "rgb(17,17,17)",
            "gridcolor": "#506784",
            "gridwidth": 2,
            "linecolor": "#506784",
            "showbackground": true,
            "ticks": "",
            "zerolinecolor": "#C8D4E3"
           },
           "zaxis": {
            "backgroundcolor": "rgb(17,17,17)",
            "gridcolor": "#506784",
            "gridwidth": 2,
            "linecolor": "#506784",
            "showbackground": true,
            "ticks": "",
            "zerolinecolor": "#C8D4E3"
           }
          },
          "shapedefaults": {
           "line": {
            "color": "#f2f5fa"
           }
          },
          "sliderdefaults": {
           "bgcolor": "#C8D4E3",
           "bordercolor": "rgb(17,17,17)",
           "borderwidth": 1,
           "tickwidth": 0
          },
          "ternary": {
           "aaxis": {
            "gridcolor": "#506784",
            "linecolor": "#506784",
            "ticks": ""
           },
           "baxis": {
            "gridcolor": "#506784",
            "linecolor": "#506784",
            "ticks": ""
           },
           "bgcolor": "rgb(17,17,17)",
           "caxis": {
            "gridcolor": "#506784",
            "linecolor": "#506784",
            "ticks": ""
           }
          },
          "title": {
           "x": 0.05
          },
          "updatemenudefaults": {
           "bgcolor": "#506784",
           "borderwidth": 0
          },
          "xaxis": {
           "automargin": true,
           "gridcolor": "#283442",
           "linecolor": "#506784",
           "ticks": "",
           "title": {
            "standoff": 15
           },
           "zerolinecolor": "#283442",
           "zerolinewidth": 2
          },
          "yaxis": {
           "automargin": true,
           "gridcolor": "#283442",
           "linecolor": "#506784",
           "ticks": "",
           "title": {
            "standoff": 15
           },
           "zerolinecolor": "#283442",
           "zerolinewidth": 2
          }
         }
        },
        "xaxis": {
         "anchor": "y",
         "domain": [
          0,
          1
         ],
         "title": {
          "text": "lifeExp"
         }
        },
        "xaxis2": {
         "anchor": "y2",
         "domain": [
          0,
          1
         ],
         "matches": "x",
         "showgrid": true,
         "showticklabels": false
        },
        "yaxis": {
         "anchor": "x",
         "domain": [
          0,
          0.7326
         ],
         "title": {
          "text": "sum of pop"
         }
        },
        "yaxis2": {
         "anchor": "x2",
         "domain": [
          0.7426,
          1
         ],
         "matches": "y2",
         "showgrid": false,
         "showline": false,
         "showticklabels": false,
         "ticks": ""
        }
       }
      }
     },
     "metadata": {},
     "output_type": "display_data"
    }
   ],
   "source": [
    "fig = px.histogram(df, x='lifeExp', color='continent', marginal='rug',\n",
    "             hover_name='country', hover_data=df.columns,\n",
    "             y='pop', histfunc='sum')\n",
    "fig.update_layout(paper_bgcolor='rgba(0,0,0,0)',\n",
    "                  template=\"plotly_dark\")\n",
    "fig"
   ]
  },
  {
   "cell_type": "markdown",
   "metadata": {},
   "source": [
    "# Sunburst: une autre maniere de visualiser les bar"
   ]
  },
  {
   "cell_type": "code",
   "execution_count": null,
   "metadata": {},
   "outputs": [],
   "source": []
  },
  {
   "cell_type": "code",
   "execution_count": 10,
   "metadata": {},
   "outputs": [
    {
     "data": {
      "application/vnd.plotly.v1+json": {
       "config": {
        "plotlyServerURL": "https://plot.ly"
       },
       "data": [
        {
         "branchvalues": "total",
         "customdata": [
          [
           43.828
          ],
          [
           76.423
          ],
          [
           72.301
          ],
          [
           42.731
          ],
          [
           75.32
          ],
          [
           81.235
          ],
          [
           79.829
          ],
          [
           75.635
          ],
          [
           64.062
          ],
          [
           79.441
          ],
          [
           56.728
          ],
          [
           65.554
          ],
          [
           74.852
          ],
          [
           50.728
          ],
          [
           72.39
          ],
          [
           73.005
          ],
          [
           52.295
          ],
          [
           49.58
          ],
          [
           59.723
          ],
          [
           50.43
          ],
          [
           80.65300000000002
          ],
          [
           44.74100000000001
          ],
          [
           50.651
          ],
          [
           78.553
          ],
          [
           72.961
          ],
          [
           72.889
          ],
          [
           65.152
          ],
          [
           46.462
          ],
          [
           55.322
          ],
          [
           78.782
          ],
          [
           48.328
          ],
          [
           75.748
          ],
          [
           78.273
          ],
          [
           76.486
          ],
          [
           78.332
          ],
          [
           54.791
          ],
          [
           72.235
          ],
          [
           74.994
          ],
          [
           71.33800000000002
          ],
          [
           71.878
          ],
          [
           51.57899999999999
          ],
          [
           58.03999999999999
          ],
          [
           52.947
          ],
          [
           79.313
          ],
          [
           80.65699999999998
          ],
          [
           56.73500000000001
          ],
          [
           59.448
          ],
          [
           79.406
          ],
          [
           60.02199999999999
          ],
          [
           79.483
          ],
          [
           70.259
          ],
          [
           56.007
          ],
          [
           46.38800000000001
          ],
          [
           60.916
          ],
          [
           70.19800000000001
          ],
          [
           82.208
          ],
          [
           73.33800000000002
          ],
          [
           81.757
          ],
          [
           64.69800000000001
          ],
          [
           70.65
          ],
          [
           70.964
          ],
          [
           59.545
          ],
          [
           78.885
          ],
          [
           80.745
          ],
          [
           80.546
          ],
          [
           72.567
          ],
          [
           82.603
          ],
          [
           72.535
          ],
          [
           54.11
          ],
          [
           67.297
          ],
          [
           78.623
          ],
          [
           77.58800000000002
          ],
          [
           71.993
          ],
          [
           42.592
          ],
          [
           45.678
          ],
          [
           73.952
          ],
          [
           59.443000000000005
          ],
          [
           48.303
          ],
          [
           74.241
          ],
          [
           54.467
          ],
          [
           64.164
          ],
          [
           72.801
          ],
          [
           76.195
          ],
          [
           66.803
          ],
          [
           74.543
          ],
          [
           71.164
          ],
          [
           42.082
          ],
          [
           62.06900000000001
          ],
          [
           52.90600000000001
          ],
          [
           63.785
          ],
          [
           79.762
          ],
          [
           80.204
          ],
          [
           72.899
          ],
          [
           56.867
          ],
          [
           46.859
          ],
          [
           80.196
          ],
          [
           75.64
          ],
          [
           65.483
          ],
          [
           75.53699999999998
          ],
          [
           71.752
          ],
          [
           71.421
          ],
          [
           71.688
          ],
          [
           75.563
          ],
          [
           78.098
          ],
          [
           78.74600000000002
          ],
          [
           76.442
          ],
          [
           72.476
          ],
          [
           46.242
          ],
          [
           65.528
          ],
          [
           72.777
          ],
          [
           63.062
          ],
          [
           74.002
          ],
          [
           42.56800000000001
          ],
          [
           79.972
          ],
          [
           74.663
          ],
          [
           77.926
          ],
          [
           48.159
          ],
          [
           49.339
          ],
          [
           80.941
          ],
          [
           72.396
          ],
          [
           58.55599999999999
          ],
          [
           39.613
          ],
          [
           80.884
          ],
          [
           81.70100000000002
          ],
          [
           74.143
          ],
          [
           78.4
          ],
          [
           52.517
          ],
          [
           70.616
          ],
          [
           58.42
          ],
          [
           69.819
          ],
          [
           73.923
          ],
          [
           71.777
          ],
          [
           51.542
          ],
          [
           79.425
          ],
          [
           78.242
          ],
          [
           76.384
          ],
          [
           73.747
          ],
          [
           74.249
          ],
          [
           73.422
          ],
          [
           62.698
          ],
          [
           42.38399999999999
          ],
          [
           43.487
          ],
          [
           54.56441057558197
          ],
          [
           75.35668222743027
          ],
          [
           69.44386304205017
          ],
          [
           77.89057081069897
          ],
          [
           81.06215400970112
          ]
         ],
         "domain": {
          "x": [
           0,
           1
          ],
          "y": [
           0,
           1
          ]
         },
         "hovertemplate": "labels=%{label}<br>pop=%{value}<br>parent=%{parent}<br>id=%{id}<br>lifeExp=%{color}<extra></extra>",
         "ids": [
          "Asia/Afghanistan",
          "Europe/Albania",
          "Africa/Algeria",
          "Africa/Angola",
          "Americas/Argentina",
          "Oceania/Australia",
          "Europe/Austria",
          "Asia/Bahrain",
          "Asia/Bangladesh",
          "Europe/Belgium",
          "Africa/Benin",
          "Americas/Bolivia",
          "Europe/Bosnia and Herzegovina",
          "Africa/Botswana",
          "Americas/Brazil",
          "Europe/Bulgaria",
          "Africa/Burkina Faso",
          "Africa/Burundi",
          "Asia/Cambodia",
          "Africa/Cameroon",
          "Americas/Canada",
          "Africa/Central African Republic",
          "Africa/Chad",
          "Americas/Chile",
          "Asia/China",
          "Americas/Colombia",
          "Africa/Comoros",
          "Africa/Congo, Dem. Rep.",
          "Africa/Congo, Rep.",
          "Americas/Costa Rica",
          "Africa/Cote d'Ivoire",
          "Europe/Croatia",
          "Americas/Cuba",
          "Europe/Czech Republic",
          "Europe/Denmark",
          "Africa/Djibouti",
          "Americas/Dominican Republic",
          "Americas/Ecuador",
          "Africa/Egypt",
          "Americas/El Salvador",
          "Africa/Equatorial Guinea",
          "Africa/Eritrea",
          "Africa/Ethiopia",
          "Europe/Finland",
          "Europe/France",
          "Africa/Gabon",
          "Africa/Gambia",
          "Europe/Germany",
          "Africa/Ghana",
          "Europe/Greece",
          "Americas/Guatemala",
          "Africa/Guinea",
          "Africa/Guinea-Bissau",
          "Americas/Haiti",
          "Americas/Honduras",
          "Asia/Hong Kong, China",
          "Europe/Hungary",
          "Europe/Iceland",
          "Asia/India",
          "Asia/Indonesia",
          "Asia/Iran",
          "Asia/Iraq",
          "Europe/Ireland",
          "Asia/Israel",
          "Europe/Italy",
          "Americas/Jamaica",
          "Asia/Japan",
          "Asia/Jordan",
          "Africa/Kenya",
          "Asia/Korea, Dem. Rep.",
          "Asia/Korea, Rep.",
          "Asia/Kuwait",
          "Asia/Lebanon",
          "Africa/Lesotho",
          "Africa/Liberia",
          "Africa/Libya",
          "Africa/Madagascar",
          "Africa/Malawi",
          "Asia/Malaysia",
          "Africa/Mali",
          "Africa/Mauritania",
          "Africa/Mauritius",
          "Americas/Mexico",
          "Asia/Mongolia",
          "Europe/Montenegro",
          "Africa/Morocco",
          "Africa/Mozambique",
          "Asia/Myanmar",
          "Africa/Namibia",
          "Asia/Nepal",
          "Europe/Netherlands",
          "Oceania/New Zealand",
          "Americas/Nicaragua",
          "Africa/Niger",
          "Africa/Nigeria",
          "Europe/Norway",
          "Asia/Oman",
          "Asia/Pakistan",
          "Americas/Panama",
          "Americas/Paraguay",
          "Americas/Peru",
          "Asia/Philippines",
          "Europe/Poland",
          "Europe/Portugal",
          "Americas/Puerto Rico",
          "Africa/Reunion",
          "Europe/Romania",
          "Africa/Rwanda",
          "Africa/Sao Tome and Principe",
          "Asia/Saudi Arabia",
          "Africa/Senegal",
          "Europe/Serbia",
          "Africa/Sierra Leone",
          "Asia/Singapore",
          "Europe/Slovak Republic",
          "Europe/Slovenia",
          "Africa/Somalia",
          "Africa/South Africa",
          "Europe/Spain",
          "Asia/Sri Lanka",
          "Africa/Sudan",
          "Africa/Swaziland",
          "Europe/Sweden",
          "Europe/Switzerland",
          "Asia/Syria",
          "Asia/Taiwan",
          "Africa/Tanzania",
          "Asia/Thailand",
          "Africa/Togo",
          "Americas/Trinidad and Tobago",
          "Africa/Tunisia",
          "Europe/Turkey",
          "Africa/Uganda",
          "Europe/United Kingdom",
          "Americas/United States",
          "Americas/Uruguay",
          "Americas/Venezuela",
          "Asia/Vietnam",
          "Asia/West Bank and Gaza",
          "Asia/Yemen, Rep.",
          "Africa/Zambia",
          "Africa/Zimbabwe",
          "Africa",
          "Americas",
          "Asia",
          "Europe",
          "Oceania"
         ],
         "labels": [
          "Afghanistan",
          "Albania",
          "Algeria",
          "Angola",
          "Argentina",
          "Australia",
          "Austria",
          "Bahrain",
          "Bangladesh",
          "Belgium",
          "Benin",
          "Bolivia",
          "Bosnia and Herzegovina",
          "Botswana",
          "Brazil",
          "Bulgaria",
          "Burkina Faso",
          "Burundi",
          "Cambodia",
          "Cameroon",
          "Canada",
          "Central African Republic",
          "Chad",
          "Chile",
          "China",
          "Colombia",
          "Comoros",
          "Congo, Dem. Rep.",
          "Congo, Rep.",
          "Costa Rica",
          "Cote d'Ivoire",
          "Croatia",
          "Cuba",
          "Czech Republic",
          "Denmark",
          "Djibouti",
          "Dominican Republic",
          "Ecuador",
          "Egypt",
          "El Salvador",
          "Equatorial Guinea",
          "Eritrea",
          "Ethiopia",
          "Finland",
          "France",
          "Gabon",
          "Gambia",
          "Germany",
          "Ghana",
          "Greece",
          "Guatemala",
          "Guinea",
          "Guinea-Bissau",
          "Haiti",
          "Honduras",
          "Hong Kong, China",
          "Hungary",
          "Iceland",
          "India",
          "Indonesia",
          "Iran",
          "Iraq",
          "Ireland",
          "Israel",
          "Italy",
          "Jamaica",
          "Japan",
          "Jordan",
          "Kenya",
          "Korea, Dem. Rep.",
          "Korea, Rep.",
          "Kuwait",
          "Lebanon",
          "Lesotho",
          "Liberia",
          "Libya",
          "Madagascar",
          "Malawi",
          "Malaysia",
          "Mali",
          "Mauritania",
          "Mauritius",
          "Mexico",
          "Mongolia",
          "Montenegro",
          "Morocco",
          "Mozambique",
          "Myanmar",
          "Namibia",
          "Nepal",
          "Netherlands",
          "New Zealand",
          "Nicaragua",
          "Niger",
          "Nigeria",
          "Norway",
          "Oman",
          "Pakistan",
          "Panama",
          "Paraguay",
          "Peru",
          "Philippines",
          "Poland",
          "Portugal",
          "Puerto Rico",
          "Reunion",
          "Romania",
          "Rwanda",
          "Sao Tome and Principe",
          "Saudi Arabia",
          "Senegal",
          "Serbia",
          "Sierra Leone",
          "Singapore",
          "Slovak Republic",
          "Slovenia",
          "Somalia",
          "South Africa",
          "Spain",
          "Sri Lanka",
          "Sudan",
          "Swaziland",
          "Sweden",
          "Switzerland",
          "Syria",
          "Taiwan",
          "Tanzania",
          "Thailand",
          "Togo",
          "Trinidad and Tobago",
          "Tunisia",
          "Turkey",
          "Uganda",
          "United Kingdom",
          "United States",
          "Uruguay",
          "Venezuela",
          "Vietnam",
          "West Bank and Gaza",
          "Yemen, Rep.",
          "Zambia",
          "Zimbabwe",
          "Africa",
          "Americas",
          "Asia",
          "Europe",
          "Oceania"
         ],
         "marker": {
          "coloraxis": "coloraxis",
          "colors": [
           43.828,
           76.423,
           72.301,
           42.731,
           75.32,
           81.235,
           79.829,
           75.635,
           64.062,
           79.441,
           56.728,
           65.554,
           74.852,
           50.728,
           72.39,
           73.005,
           52.295,
           49.58,
           59.723,
           50.43,
           80.65300000000002,
           44.74100000000001,
           50.651,
           78.553,
           72.961,
           72.889,
           65.152,
           46.462,
           55.322,
           78.782,
           48.328,
           75.748,
           78.273,
           76.486,
           78.332,
           54.791,
           72.235,
           74.994,
           71.33800000000002,
           71.878,
           51.57899999999999,
           58.03999999999999,
           52.947,
           79.313,
           80.65699999999998,
           56.73500000000001,
           59.448,
           79.406,
           60.02199999999999,
           79.483,
           70.259,
           56.007,
           46.38800000000001,
           60.916,
           70.19800000000001,
           82.208,
           73.33800000000002,
           81.757,
           64.69800000000001,
           70.65,
           70.964,
           59.545,
           78.885,
           80.745,
           80.546,
           72.567,
           82.603,
           72.535,
           54.11,
           67.297,
           78.623,
           77.58800000000002,
           71.993,
           42.592,
           45.678,
           73.952,
           59.443000000000005,
           48.303,
           74.241,
           54.467,
           64.164,
           72.801,
           76.195,
           66.803,
           74.543,
           71.164,
           42.082,
           62.06900000000001,
           52.90600000000001,
           63.785,
           79.762,
           80.204,
           72.899,
           56.867,
           46.859,
           80.196,
           75.64,
           65.483,
           75.53699999999998,
           71.752,
           71.421,
           71.688,
           75.563,
           78.098,
           78.74600000000002,
           76.442,
           72.476,
           46.242,
           65.528,
           72.777,
           63.062,
           74.002,
           42.56800000000001,
           79.972,
           74.663,
           77.926,
           48.159,
           49.339,
           80.941,
           72.396,
           58.55599999999999,
           39.613,
           80.884,
           81.70100000000002,
           74.143,
           78.4,
           52.517,
           70.616,
           58.42,
           69.819,
           73.923,
           71.777,
           51.542,
           79.425,
           78.242,
           76.384,
           73.747,
           74.249,
           73.422,
           62.698,
           42.38399999999999,
           43.487,
           54.56441057558197,
           75.35668222743027,
           69.44386304205017,
           77.89057081069897,
           81.06215400970112
          ]
         },
         "name": "",
         "parents": [
          "Asia",
          "Europe",
          "Africa",
          "Africa",
          "Americas",
          "Oceania",
          "Europe",
          "Asia",
          "Asia",
          "Europe",
          "Africa",
          "Americas",
          "Europe",
          "Africa",
          "Americas",
          "Europe",
          "Africa",
          "Africa",
          "Asia",
          "Africa",
          "Americas",
          "Africa",
          "Africa",
          "Americas",
          "Asia",
          "Americas",
          "Africa",
          "Africa",
          "Africa",
          "Americas",
          "Africa",
          "Europe",
          "Americas",
          "Europe",
          "Europe",
          "Africa",
          "Americas",
          "Americas",
          "Africa",
          "Americas",
          "Africa",
          "Africa",
          "Africa",
          "Europe",
          "Europe",
          "Africa",
          "Africa",
          "Europe",
          "Africa",
          "Europe",
          "Americas",
          "Africa",
          "Africa",
          "Americas",
          "Americas",
          "Asia",
          "Europe",
          "Europe",
          "Asia",
          "Asia",
          "Asia",
          "Asia",
          "Europe",
          "Asia",
          "Europe",
          "Americas",
          "Asia",
          "Asia",
          "Africa",
          "Asia",
          "Asia",
          "Asia",
          "Asia",
          "Africa",
          "Africa",
          "Africa",
          "Africa",
          "Africa",
          "Asia",
          "Africa",
          "Africa",
          "Africa",
          "Americas",
          "Asia",
          "Europe",
          "Africa",
          "Africa",
          "Asia",
          "Africa",
          "Asia",
          "Europe",
          "Oceania",
          "Americas",
          "Africa",
          "Africa",
          "Europe",
          "Asia",
          "Asia",
          "Americas",
          "Americas",
          "Americas",
          "Asia",
          "Europe",
          "Europe",
          "Americas",
          "Africa",
          "Europe",
          "Africa",
          "Africa",
          "Asia",
          "Africa",
          "Europe",
          "Africa",
          "Asia",
          "Europe",
          "Europe",
          "Africa",
          "Africa",
          "Europe",
          "Asia",
          "Africa",
          "Africa",
          "Europe",
          "Europe",
          "Asia",
          "Asia",
          "Africa",
          "Asia",
          "Africa",
          "Americas",
          "Africa",
          "Europe",
          "Africa",
          "Europe",
          "Americas",
          "Americas",
          "Americas",
          "Asia",
          "Asia",
          "Asia",
          "Africa",
          "Africa",
          "",
          "",
          "",
          "",
          ""
         ],
         "type": "sunburst",
         "values": [
          31889923,
          3600523,
          33333216,
          12420476,
          40301927,
          20434176,
          8199783,
          708573,
          150448339,
          10392226,
          8078314,
          9119152,
          4552198,
          1639131,
          190010647,
          7322858,
          14326203,
          8390505,
          14131858,
          17696293,
          33390141,
          4369038,
          10238807,
          16284741,
          1318683096,
          44227550,
          710960,
          64606759,
          3800610,
          4133884,
          18013409,
          4493312,
          11416987,
          10228744,
          5468120,
          496374,
          9319622,
          13755680,
          80264543,
          6939688,
          551201,
          4906585,
          76511887,
          5238460,
          61083916,
          1454867,
          1688359,
          82400996,
          22873338,
          10706290,
          12572928,
          9947814,
          1472041,
          8502814,
          7483763,
          6980412,
          9956108,
          301931,
          1110396331,
          223547000,
          69453570,
          27499638,
          4109086,
          6426679,
          58147733,
          2780132,
          127467972,
          6053193,
          35610177,
          23301725,
          49044790,
          2505559,
          3921278,
          2012649,
          3193942,
          6036914,
          19167654,
          13327079,
          24821286,
          12031795,
          3270065,
          1250882,
          108700891,
          2874127,
          684736,
          33757175,
          19951656,
          47761980,
          2055080,
          28901790,
          16570613,
          4115771,
          5675356,
          12894865,
          135031164,
          4627926,
          3204897,
          169270617,
          3242173,
          6667147,
          28674757,
          91077287,
          38518241,
          10642836,
          3942491,
          798094,
          22276056,
          8860588,
          199579,
          27601038,
          12267493,
          10150265,
          6144562,
          4553009,
          5447502,
          2009245,
          9118773,
          43997828,
          40448191,
          20378239,
          42292929,
          1133066,
          9031088,
          7554661,
          19314747,
          23174294,
          38139640,
          65068149,
          5701579,
          1056608,
          10276158,
          71158647,
          29170398,
          60776238,
          301139947,
          3447496,
          26084662,
          85262356,
          4018332,
          22211743,
          11746035,
          12311143,
          929539692,
          898871184,
          3811953827,
          586098529,
          24549947
         ]
        }
       ],
       "layout": {
        "coloraxis": {
         "colorbar": {
          "title": {
           "text": "lifeExp"
          }
         },
         "colorscale": [
          [
           0,
           "#0d0887"
          ],
          [
           0.1111111111111111,
           "#46039f"
          ],
          [
           0.2222222222222222,
           "#7201a8"
          ],
          [
           0.3333333333333333,
           "#9c179e"
          ],
          [
           0.4444444444444444,
           "#bd3786"
          ],
          [
           0.5555555555555556,
           "#d8576b"
          ],
          [
           0.6666666666666666,
           "#ed7953"
          ],
          [
           0.7777777777777778,
           "#fb9f3a"
          ],
          [
           0.8888888888888888,
           "#fdca26"
          ],
          [
           1,
           "#f0f921"
          ]
         ]
        },
        "legend": {
         "tracegroupgap": 0
        },
        "margin": {
         "t": 60
        },
        "paper_bgcolor": "rgba(0,0,0,0)",
        "template": {
         "data": {
          "bar": [
           {
            "error_x": {
             "color": "#2a3f5f"
            },
            "error_y": {
             "color": "#2a3f5f"
            },
            "marker": {
             "line": {
              "color": "#E5ECF6",
              "width": 0.5
             },
             "pattern": {
              "fillmode": "overlay",
              "size": 10,
              "solidity": 0.2
             }
            },
            "type": "bar"
           }
          ],
          "barpolar": [
           {
            "marker": {
             "line": {
              "color": "#E5ECF6",
              "width": 0.5
             },
             "pattern": {
              "fillmode": "overlay",
              "size": 10,
              "solidity": 0.2
             }
            },
            "type": "barpolar"
           }
          ],
          "carpet": [
           {
            "aaxis": {
             "endlinecolor": "#2a3f5f",
             "gridcolor": "white",
             "linecolor": "white",
             "minorgridcolor": "white",
             "startlinecolor": "#2a3f5f"
            },
            "baxis": {
             "endlinecolor": "#2a3f5f",
             "gridcolor": "white",
             "linecolor": "white",
             "minorgridcolor": "white",
             "startlinecolor": "#2a3f5f"
            },
            "type": "carpet"
           }
          ],
          "choropleth": [
           {
            "colorbar": {
             "outlinewidth": 0,
             "ticks": ""
            },
            "type": "choropleth"
           }
          ],
          "contour": [
           {
            "colorbar": {
             "outlinewidth": 0,
             "ticks": ""
            },
            "colorscale": [
             [
              0,
              "#0d0887"
             ],
             [
              0.1111111111111111,
              "#46039f"
             ],
             [
              0.2222222222222222,
              "#7201a8"
             ],
             [
              0.3333333333333333,
              "#9c179e"
             ],
             [
              0.4444444444444444,
              "#bd3786"
             ],
             [
              0.5555555555555556,
              "#d8576b"
             ],
             [
              0.6666666666666666,
              "#ed7953"
             ],
             [
              0.7777777777777778,
              "#fb9f3a"
             ],
             [
              0.8888888888888888,
              "#fdca26"
             ],
             [
              1,
              "#f0f921"
             ]
            ],
            "type": "contour"
           }
          ],
          "contourcarpet": [
           {
            "colorbar": {
             "outlinewidth": 0,
             "ticks": ""
            },
            "type": "contourcarpet"
           }
          ],
          "heatmap": [
           {
            "colorbar": {
             "outlinewidth": 0,
             "ticks": ""
            },
            "colorscale": [
             [
              0,
              "#0d0887"
             ],
             [
              0.1111111111111111,
              "#46039f"
             ],
             [
              0.2222222222222222,
              "#7201a8"
             ],
             [
              0.3333333333333333,
              "#9c179e"
             ],
             [
              0.4444444444444444,
              "#bd3786"
             ],
             [
              0.5555555555555556,
              "#d8576b"
             ],
             [
              0.6666666666666666,
              "#ed7953"
             ],
             [
              0.7777777777777778,
              "#fb9f3a"
             ],
             [
              0.8888888888888888,
              "#fdca26"
             ],
             [
              1,
              "#f0f921"
             ]
            ],
            "type": "heatmap"
           }
          ],
          "heatmapgl": [
           {
            "colorbar": {
             "outlinewidth": 0,
             "ticks": ""
            },
            "colorscale": [
             [
              0,
              "#0d0887"
             ],
             [
              0.1111111111111111,
              "#46039f"
             ],
             [
              0.2222222222222222,
              "#7201a8"
             ],
             [
              0.3333333333333333,
              "#9c179e"
             ],
             [
              0.4444444444444444,
              "#bd3786"
             ],
             [
              0.5555555555555556,
              "#d8576b"
             ],
             [
              0.6666666666666666,
              "#ed7953"
             ],
             [
              0.7777777777777778,
              "#fb9f3a"
             ],
             [
              0.8888888888888888,
              "#fdca26"
             ],
             [
              1,
              "#f0f921"
             ]
            ],
            "type": "heatmapgl"
           }
          ],
          "histogram": [
           {
            "marker": {
             "pattern": {
              "fillmode": "overlay",
              "size": 10,
              "solidity": 0.2
             }
            },
            "type": "histogram"
           }
          ],
          "histogram2d": [
           {
            "colorbar": {
             "outlinewidth": 0,
             "ticks": ""
            },
            "colorscale": [
             [
              0,
              "#0d0887"
             ],
             [
              0.1111111111111111,
              "#46039f"
             ],
             [
              0.2222222222222222,
              "#7201a8"
             ],
             [
              0.3333333333333333,
              "#9c179e"
             ],
             [
              0.4444444444444444,
              "#bd3786"
             ],
             [
              0.5555555555555556,
              "#d8576b"
             ],
             [
              0.6666666666666666,
              "#ed7953"
             ],
             [
              0.7777777777777778,
              "#fb9f3a"
             ],
             [
              0.8888888888888888,
              "#fdca26"
             ],
             [
              1,
              "#f0f921"
             ]
            ],
            "type": "histogram2d"
           }
          ],
          "histogram2dcontour": [
           {
            "colorbar": {
             "outlinewidth": 0,
             "ticks": ""
            },
            "colorscale": [
             [
              0,
              "#0d0887"
             ],
             [
              0.1111111111111111,
              "#46039f"
             ],
             [
              0.2222222222222222,
              "#7201a8"
             ],
             [
              0.3333333333333333,
              "#9c179e"
             ],
             [
              0.4444444444444444,
              "#bd3786"
             ],
             [
              0.5555555555555556,
              "#d8576b"
             ],
             [
              0.6666666666666666,
              "#ed7953"
             ],
             [
              0.7777777777777778,
              "#fb9f3a"
             ],
             [
              0.8888888888888888,
              "#fdca26"
             ],
             [
              1,
              "#f0f921"
             ]
            ],
            "type": "histogram2dcontour"
           }
          ],
          "mesh3d": [
           {
            "colorbar": {
             "outlinewidth": 0,
             "ticks": ""
            },
            "type": "mesh3d"
           }
          ],
          "parcoords": [
           {
            "line": {
             "colorbar": {
              "outlinewidth": 0,
              "ticks": ""
             }
            },
            "type": "parcoords"
           }
          ],
          "pie": [
           {
            "automargin": true,
            "type": "pie"
           }
          ],
          "scatter": [
           {
            "marker": {
             "colorbar": {
              "outlinewidth": 0,
              "ticks": ""
             }
            },
            "type": "scatter"
           }
          ],
          "scatter3d": [
           {
            "line": {
             "colorbar": {
              "outlinewidth": 0,
              "ticks": ""
             }
            },
            "marker": {
             "colorbar": {
              "outlinewidth": 0,
              "ticks": ""
             }
            },
            "type": "scatter3d"
           }
          ],
          "scattercarpet": [
           {
            "marker": {
             "colorbar": {
              "outlinewidth": 0,
              "ticks": ""
             }
            },
            "type": "scattercarpet"
           }
          ],
          "scattergeo": [
           {
            "marker": {
             "colorbar": {
              "outlinewidth": 0,
              "ticks": ""
             }
            },
            "type": "scattergeo"
           }
          ],
          "scattergl": [
           {
            "marker": {
             "colorbar": {
              "outlinewidth": 0,
              "ticks": ""
             }
            },
            "type": "scattergl"
           }
          ],
          "scattermapbox": [
           {
            "marker": {
             "colorbar": {
              "outlinewidth": 0,
              "ticks": ""
             }
            },
            "type": "scattermapbox"
           }
          ],
          "scatterpolar": [
           {
            "marker": {
             "colorbar": {
              "outlinewidth": 0,
              "ticks": ""
             }
            },
            "type": "scatterpolar"
           }
          ],
          "scatterpolargl": [
           {
            "marker": {
             "colorbar": {
              "outlinewidth": 0,
              "ticks": ""
             }
            },
            "type": "scatterpolargl"
           }
          ],
          "scatterternary": [
           {
            "marker": {
             "colorbar": {
              "outlinewidth": 0,
              "ticks": ""
             }
            },
            "type": "scatterternary"
           }
          ],
          "surface": [
           {
            "colorbar": {
             "outlinewidth": 0,
             "ticks": ""
            },
            "colorscale": [
             [
              0,
              "#0d0887"
             ],
             [
              0.1111111111111111,
              "#46039f"
             ],
             [
              0.2222222222222222,
              "#7201a8"
             ],
             [
              0.3333333333333333,
              "#9c179e"
             ],
             [
              0.4444444444444444,
              "#bd3786"
             ],
             [
              0.5555555555555556,
              "#d8576b"
             ],
             [
              0.6666666666666666,
              "#ed7953"
             ],
             [
              0.7777777777777778,
              "#fb9f3a"
             ],
             [
              0.8888888888888888,
              "#fdca26"
             ],
             [
              1,
              "#f0f921"
             ]
            ],
            "type": "surface"
           }
          ],
          "table": [
           {
            "cells": {
             "fill": {
              "color": "#EBF0F8"
             },
             "line": {
              "color": "white"
             }
            },
            "header": {
             "fill": {
              "color": "#C8D4E3"
             },
             "line": {
              "color": "white"
             }
            },
            "type": "table"
           }
          ]
         },
         "layout": {
          "annotationdefaults": {
           "arrowcolor": "#2a3f5f",
           "arrowhead": 0,
           "arrowwidth": 1
          },
          "autotypenumbers": "strict",
          "coloraxis": {
           "colorbar": {
            "outlinewidth": 0,
            "ticks": ""
           }
          },
          "colorscale": {
           "diverging": [
            [
             0,
             "#8e0152"
            ],
            [
             0.1,
             "#c51b7d"
            ],
            [
             0.2,
             "#de77ae"
            ],
            [
             0.3,
             "#f1b6da"
            ],
            [
             0.4,
             "#fde0ef"
            ],
            [
             0.5,
             "#f7f7f7"
            ],
            [
             0.6,
             "#e6f5d0"
            ],
            [
             0.7,
             "#b8e186"
            ],
            [
             0.8,
             "#7fbc41"
            ],
            [
             0.9,
             "#4d9221"
            ],
            [
             1,
             "#276419"
            ]
           ],
           "sequential": [
            [
             0,
             "#0d0887"
            ],
            [
             0.1111111111111111,
             "#46039f"
            ],
            [
             0.2222222222222222,
             "#7201a8"
            ],
            [
             0.3333333333333333,
             "#9c179e"
            ],
            [
             0.4444444444444444,
             "#bd3786"
            ],
            [
             0.5555555555555556,
             "#d8576b"
            ],
            [
             0.6666666666666666,
             "#ed7953"
            ],
            [
             0.7777777777777778,
             "#fb9f3a"
            ],
            [
             0.8888888888888888,
             "#fdca26"
            ],
            [
             1,
             "#f0f921"
            ]
           ],
           "sequentialminus": [
            [
             0,
             "#0d0887"
            ],
            [
             0.1111111111111111,
             "#46039f"
            ],
            [
             0.2222222222222222,
             "#7201a8"
            ],
            [
             0.3333333333333333,
             "#9c179e"
            ],
            [
             0.4444444444444444,
             "#bd3786"
            ],
            [
             0.5555555555555556,
             "#d8576b"
            ],
            [
             0.6666666666666666,
             "#ed7953"
            ],
            [
             0.7777777777777778,
             "#fb9f3a"
            ],
            [
             0.8888888888888888,
             "#fdca26"
            ],
            [
             1,
             "#f0f921"
            ]
           ]
          },
          "colorway": [
           "#636efa",
           "#EF553B",
           "#00cc96",
           "#ab63fa",
           "#FFA15A",
           "#19d3f3",
           "#FF6692",
           "#B6E880",
           "#FF97FF",
           "#FECB52"
          ],
          "font": {
           "color": "#2a3f5f"
          },
          "geo": {
           "bgcolor": "white",
           "lakecolor": "white",
           "landcolor": "#E5ECF6",
           "showlakes": true,
           "showland": true,
           "subunitcolor": "white"
          },
          "hoverlabel": {
           "align": "left"
          },
          "hovermode": "closest",
          "mapbox": {
           "style": "light"
          },
          "paper_bgcolor": "white",
          "plot_bgcolor": "#E5ECF6",
          "polar": {
           "angularaxis": {
            "gridcolor": "white",
            "linecolor": "white",
            "ticks": ""
           },
           "bgcolor": "#E5ECF6",
           "radialaxis": {
            "gridcolor": "white",
            "linecolor": "white",
            "ticks": ""
           }
          },
          "scene": {
           "xaxis": {
            "backgroundcolor": "#E5ECF6",
            "gridcolor": "white",
            "gridwidth": 2,
            "linecolor": "white",
            "showbackground": true,
            "ticks": "",
            "zerolinecolor": "white"
           },
           "yaxis": {
            "backgroundcolor": "#E5ECF6",
            "gridcolor": "white",
            "gridwidth": 2,
            "linecolor": "white",
            "showbackground": true,
            "ticks": "",
            "zerolinecolor": "white"
           },
           "zaxis": {
            "backgroundcolor": "#E5ECF6",
            "gridcolor": "white",
            "gridwidth": 2,
            "linecolor": "white",
            "showbackground": true,
            "ticks": "",
            "zerolinecolor": "white"
           }
          },
          "shapedefaults": {
           "line": {
            "color": "#2a3f5f"
           }
          },
          "ternary": {
           "aaxis": {
            "gridcolor": "white",
            "linecolor": "white",
            "ticks": ""
           },
           "baxis": {
            "gridcolor": "white",
            "linecolor": "white",
            "ticks": ""
           },
           "bgcolor": "#E5ECF6",
           "caxis": {
            "gridcolor": "white",
            "linecolor": "white",
            "ticks": ""
           }
          },
          "title": {
           "x": 0.05
          },
          "xaxis": {
           "automargin": true,
           "gridcolor": "white",
           "linecolor": "white",
           "ticks": "",
           "title": {
            "standoff": 15
           },
           "zerolinecolor": "white",
           "zerolinewidth": 2
          },
          "yaxis": {
           "automargin": true,
           "gridcolor": "white",
           "linecolor": "white",
           "ticks": "",
           "title": {
            "standoff": 15
           },
           "zerolinecolor": "white",
           "zerolinewidth": 2
          }
         }
        }
       }
      }
     },
     "metadata": {},
     "output_type": "display_data"
    }
   ],
   "source": [
    "fig = px.sunburst(df, path=['continent', 'country'], values='pop', color='lifeExp')\n",
    "fig.update_layout(paper_bgcolor='rgba(0,0,0,0)')\n",
    "fig"
   ]
  },
  {
   "cell_type": "code",
   "execution_count": 14,
   "metadata": {},
   "outputs": [
    {
     "data": {
      "application/vnd.plotly.v1+json": {
       "config": {
        "plotlyServerURL": "https://plot.ly"
       },
       "data": [
        {
         "coloraxis": "coloraxis",
         "customdata": [
          [
           "Afghanistan",
           "Asia",
           2007,
           43.828,
           31889923,
           974.5803384,
           "AFG",
           4
          ],
          [
           "Albania",
           "Europe",
           2007,
           76.423,
           3600523,
           5937.029525999998,
           "ALB",
           8
          ],
          [
           "Algeria",
           "Africa",
           2007,
           72.301,
           33333216,
           6223.367465,
           "DZA",
           12
          ],
          [
           "Angola",
           "Africa",
           2007,
           42.731,
           12420476,
           4797.231267,
           "AGO",
           24
          ],
          [
           "Argentina",
           "Americas",
           2007,
           75.32,
           40301927,
           12779.37964,
           "ARG",
           32
          ],
          [
           "Australia",
           "Oceania",
           2007,
           81.235,
           20434176,
           34435.367439999995,
           "AUS",
           36
          ],
          [
           "Austria",
           "Europe",
           2007,
           79.829,
           8199783,
           36126.4927,
           "AUT",
           40
          ],
          [
           "Bahrain",
           "Asia",
           2007,
           75.635,
           708573,
           29796.04834,
           "BHR",
           48
          ],
          [
           "Bangladesh",
           "Asia",
           2007,
           64.062,
           150448339,
           1391.253792,
           "BGD",
           50
          ],
          [
           "Belgium",
           "Europe",
           2007,
           79.441,
           10392226,
           33692.60508,
           "BEL",
           56
          ],
          [
           "Benin",
           "Africa",
           2007,
           56.728,
           8078314,
           1441.284873,
           "BEN",
           204
          ],
          [
           "Bolivia",
           "Americas",
           2007,
           65.554,
           9119152,
           3822.137084,
           "BOL",
           68
          ],
          [
           "Bosnia and Herzegovina",
           "Europe",
           2007,
           74.852,
           4552198,
           7446.298803,
           "BIH",
           70
          ],
          [
           "Botswana",
           "Africa",
           2007,
           50.728,
           1639131,
           12569.85177,
           "BWA",
           72
          ],
          [
           "Brazil",
           "Americas",
           2007,
           72.39,
           190010647,
           9065.800825,
           "BRA",
           76
          ],
          [
           "Bulgaria",
           "Europe",
           2007,
           73.005,
           7322858,
           10680.79282,
           "BGR",
           100
          ],
          [
           "Burkina Faso",
           "Africa",
           2007,
           52.295,
           14326203,
           1217.032994,
           "BFA",
           854
          ],
          [
           "Burundi",
           "Africa",
           2007,
           49.58,
           8390505,
           430.0706916,
           "BDI",
           108
          ],
          [
           "Cambodia",
           "Asia",
           2007,
           59.723,
           14131858,
           1713.778686,
           "KHM",
           116
          ],
          [
           "Cameroon",
           "Africa",
           2007,
           50.43,
           17696293,
           2042.09524,
           "CMR",
           120
          ],
          [
           "Canada",
           "Americas",
           2007,
           80.653,
           33390141,
           36319.23501,
           "CAN",
           124
          ],
          [
           "Central African Republic",
           "Africa",
           2007,
           44.74100000000001,
           4369038,
           706.016537,
           "CAF",
           140
          ],
          [
           "Chad",
           "Africa",
           2007,
           50.651,
           10238807,
           1704.063724,
           "TCD",
           148
          ],
          [
           "Chile",
           "Americas",
           2007,
           78.553,
           16284741,
           13171.63885,
           "CHL",
           152
          ],
          [
           "China",
           "Asia",
           2007,
           72.961,
           1318683096,
           4959.114854,
           "CHN",
           156
          ],
          [
           "Colombia",
           "Americas",
           2007,
           72.889,
           44227550,
           7006.580419,
           "COL",
           170
          ],
          [
           "Comoros",
           "Africa",
           2007,
           65.152,
           710960,
           986.1478792,
           "COM",
           174
          ],
          [
           "Congo, Dem. Rep.",
           "Africa",
           2007,
           46.462,
           64606759,
           277.5518587,
           "COD",
           180
          ],
          [
           "Congo, Rep.",
           "Africa",
           2007,
           55.322,
           3800610,
           3632.557798,
           "COG",
           178
          ],
          [
           "Costa Rica",
           "Americas",
           2007,
           78.782,
           4133884,
           9645.06142,
           "CRI",
           188
          ],
          [
           "Cote d'Ivoire",
           "Africa",
           2007,
           48.328,
           18013409,
           1544.750112,
           "CIV",
           384
          ],
          [
           "Croatia",
           "Europe",
           2007,
           75.748,
           4493312,
           14619.222719999998,
           "HRV",
           191
          ],
          [
           "Cuba",
           "Americas",
           2007,
           78.273,
           11416987,
           8948.102923,
           "CUB",
           192
          ],
          [
           "Czech Republic",
           "Europe",
           2007,
           76.486,
           10228744,
           22833.30851,
           "CZE",
           203
          ],
          [
           "Denmark",
           "Europe",
           2007,
           78.332,
           5468120,
           35278.41874,
           "DNK",
           208
          ],
          [
           "Djibouti",
           "Africa",
           2007,
           54.791,
           496374,
           2082.4815670000007,
           "DJI",
           262
          ],
          [
           "Dominican Republic",
           "Americas",
           2007,
           72.235,
           9319622,
           6025.3747520000015,
           "DOM",
           214
          ],
          [
           "Ecuador",
           "Americas",
           2007,
           74.994,
           13755680,
           6873.262326000001,
           "ECU",
           218
          ],
          [
           "Egypt",
           "Africa",
           2007,
           71.33800000000002,
           80264543,
           5581.180998,
           "EGY",
           818
          ],
          [
           "El Salvador",
           "Americas",
           2007,
           71.878,
           6939688,
           5728.353514,
           "SLV",
           222
          ],
          [
           "Equatorial Guinea",
           "Africa",
           2007,
           51.57899999999999,
           551201,
           12154.08975,
           "GNQ",
           226
          ],
          [
           "Eritrea",
           "Africa",
           2007,
           58.04,
           4906585,
           641.3695236000002,
           "ERI",
           232
          ],
          [
           "Ethiopia",
           "Africa",
           2007,
           52.947,
           76511887,
           690.8055759,
           "ETH",
           231
          ],
          [
           "Finland",
           "Europe",
           2007,
           79.313,
           5238460,
           33207.0844,
           "FIN",
           246
          ],
          [
           "France",
           "Europe",
           2007,
           80.657,
           61083916,
           30470.0167,
           "FRA",
           250
          ],
          [
           "Gabon",
           "Africa",
           2007,
           56.735,
           1454867,
           13206.48452,
           "GAB",
           266
          ],
          [
           "Gambia",
           "Africa",
           2007,
           59.448,
           1688359,
           752.7497265,
           "GMB",
           270
          ],
          [
           "Germany",
           "Europe",
           2007,
           79.406,
           82400996,
           32170.37442,
           "DEU",
           276
          ],
          [
           "Ghana",
           "Africa",
           2007,
           60.022,
           22873338,
           1327.60891,
           "GHA",
           288
          ],
          [
           "Greece",
           "Europe",
           2007,
           79.483,
           10706290,
           27538.41188,
           "GRC",
           300
          ],
          [
           "Guatemala",
           "Americas",
           2007,
           70.259,
           12572928,
           5186.050003,
           "GTM",
           320
          ],
          [
           "Guinea",
           "Africa",
           2007,
           56.007,
           9947814,
           942.6542111,
           "GIN",
           324
          ],
          [
           "Guinea-Bissau",
           "Africa",
           2007,
           46.38800000000001,
           1472041,
           579.2317429999998,
           "GNB",
           624
          ],
          [
           "Haiti",
           "Americas",
           2007,
           60.916,
           8502814,
           1201.637154,
           "HTI",
           332
          ],
          [
           "Honduras",
           "Americas",
           2007,
           70.19800000000001,
           7483763,
           3548.3308460000007,
           "HND",
           340
          ],
          [
           "Hong Kong, China",
           "Asia",
           2007,
           82.208,
           6980412,
           39724.97867,
           "HKG",
           344
          ],
          [
           "Hungary",
           "Europe",
           2007,
           73.33800000000002,
           9956108,
           18008.94444,
           "HUN",
           348
          ],
          [
           "Iceland",
           "Europe",
           2007,
           81.757,
           301931,
           36180.78919,
           "ISL",
           352
          ],
          [
           "India",
           "Asia",
           2007,
           64.69800000000001,
           1110396331,
           2452.210407,
           "IND",
           356
          ],
          [
           "Indonesia",
           "Asia",
           2007,
           70.65,
           223547000,
           3540.651564,
           "IDN",
           360
          ],
          [
           "Iran",
           "Asia",
           2007,
           70.964,
           69453570,
           11605.71449,
           "IRN",
           364
          ],
          [
           "Iraq",
           "Asia",
           2007,
           59.545,
           27499638,
           4471.061906,
           "IRQ",
           368
          ],
          [
           "Ireland",
           "Europe",
           2007,
           78.885,
           4109086,
           40675.99635,
           "IRL",
           372
          ],
          [
           "Israel",
           "Asia",
           2007,
           80.745,
           6426679,
           25523.2771,
           "ISR",
           376
          ],
          [
           "Italy",
           "Europe",
           2007,
           80.546,
           58147733,
           28569.7197,
           "ITA",
           380
          ],
          [
           "Jamaica",
           "Americas",
           2007,
           72.567,
           2780132,
           7320.8802620000015,
           "JAM",
           388
          ],
          [
           "Japan",
           "Asia",
           2007,
           82.603,
           127467972,
           31656.06806,
           "JPN",
           392
          ],
          [
           "Jordan",
           "Asia",
           2007,
           72.535,
           6053193,
           4519.461171,
           "JOR",
           400
          ],
          [
           "Kenya",
           "Africa",
           2007,
           54.11,
           35610177,
           1463.249282,
           "KEN",
           404
          ],
          [
           "Korea, Dem. Rep.",
           "Asia",
           2007,
           67.297,
           23301725,
           1593.06548,
           "KOR",
           410
          ],
          [
           "Korea, Rep.",
           "Asia",
           2007,
           78.623,
           49044790,
           23348.139730000006,
           "KOR",
           410
          ],
          [
           "Kuwait",
           "Asia",
           2007,
           77.58800000000002,
           2505559,
           47306.98978,
           "KWT",
           414
          ],
          [
           "Lebanon",
           "Asia",
           2007,
           71.993,
           3921278,
           10461.05868,
           "LBN",
           422
          ],
          [
           "Lesotho",
           "Africa",
           2007,
           42.592,
           2012649,
           1569.331442,
           "LSO",
           426
          ],
          [
           "Liberia",
           "Africa",
           2007,
           45.678,
           3193942,
           414.5073415,
           "LBR",
           430
          ],
          [
           "Libya",
           "Africa",
           2007,
           73.952,
           6036914,
           12057.49928,
           "LBY",
           434
          ],
          [
           "Madagascar",
           "Africa",
           2007,
           59.44300000000001,
           19167654,
           1044.770126,
           "MDG",
           450
          ],
          [
           "Malawi",
           "Africa",
           2007,
           48.303,
           13327079,
           759.3499101,
           "MWI",
           454
          ],
          [
           "Malaysia",
           "Asia",
           2007,
           74.241,
           24821286,
           12451.6558,
           "MYS",
           458
          ],
          [
           "Mali",
           "Africa",
           2007,
           54.467,
           12031795,
           1042.581557,
           "MLI",
           466
          ],
          [
           "Mauritania",
           "Africa",
           2007,
           64.164,
           3270065,
           1803.151496,
           "MRT",
           478
          ],
          [
           "Mauritius",
           "Africa",
           2007,
           72.801,
           1250882,
           10956.99112,
           "MUS",
           480
          ],
          [
           "Mexico",
           "Americas",
           2007,
           76.195,
           108700891,
           11977.57496,
           "MEX",
           484
          ],
          [
           "Mongolia",
           "Asia",
           2007,
           66.803,
           2874127,
           3095.7722710000007,
           "MNG",
           496
          ],
          [
           "Montenegro",
           "Europe",
           2007,
           74.543,
           684736,
           9253.896111,
           "MNE",
           499
          ],
          [
           "Morocco",
           "Africa",
           2007,
           71.164,
           33757175,
           3820.17523,
           "MAR",
           504
          ],
          [
           "Mozambique",
           "Africa",
           2007,
           42.082,
           19951656,
           823.6856205,
           "MOZ",
           508
          ],
          [
           "Myanmar",
           "Asia",
           2007,
           62.069,
           47761980,
           944,
           "MMR",
           104
          ],
          [
           "Namibia",
           "Africa",
           2007,
           52.90600000000001,
           2055080,
           4811.060429,
           "NAM",
           516
          ],
          [
           "Nepal",
           "Asia",
           2007,
           63.785,
           28901790,
           1091.359778,
           "NPL",
           524
          ],
          [
           "Netherlands",
           "Europe",
           2007,
           79.762,
           16570613,
           36797.93332,
           "NLD",
           528
          ],
          [
           "New Zealand",
           "Oceania",
           2007,
           80.204,
           4115771,
           25185.00911,
           "NZL",
           554
          ],
          [
           "Nicaragua",
           "Americas",
           2007,
           72.899,
           5675356,
           2749.320965,
           "NIC",
           558
          ],
          [
           "Niger",
           "Africa",
           2007,
           56.867,
           12894865,
           619.6768923999998,
           "NER",
           562
          ],
          [
           "Nigeria",
           "Africa",
           2007,
           46.859,
           135031164,
           2013.977305,
           "NGA",
           566
          ],
          [
           "Norway",
           "Europe",
           2007,
           80.196,
           4627926,
           49357.19017,
           "NOR",
           578
          ],
          [
           "Oman",
           "Asia",
           2007,
           75.64,
           3204897,
           22316.19287,
           "OMN",
           512
          ],
          [
           "Pakistan",
           "Asia",
           2007,
           65.483,
           169270617,
           2605.94758,
           "PAK",
           586
          ],
          [
           "Panama",
           "Americas",
           2007,
           75.53699999999998,
           3242173,
           9809.185636,
           "PAN",
           591
          ],
          [
           "Paraguay",
           "Americas",
           2007,
           71.752,
           6667147,
           4172.838464,
           "PRY",
           600
          ],
          [
           "Peru",
           "Americas",
           2007,
           71.421,
           28674757,
           7408.905561,
           "PER",
           604
          ],
          [
           "Philippines",
           "Asia",
           2007,
           71.688,
           91077287,
           3190.481016,
           "PHL",
           608
          ],
          [
           "Poland",
           "Europe",
           2007,
           75.563,
           38518241,
           15389.924680000002,
           "POL",
           616
          ],
          [
           "Portugal",
           "Europe",
           2007,
           78.098,
           10642836,
           20509.64777,
           "PRT",
           620
          ],
          [
           "Puerto Rico",
           "Americas",
           2007,
           78.74600000000002,
           3942491,
           19328.70901,
           "PRI",
           630
          ],
          [
           "Reunion",
           "Africa",
           2007,
           76.442,
           798094,
           7670.122558,
           "REU",
           638
          ],
          [
           "Romania",
           "Europe",
           2007,
           72.476,
           22276056,
           10808.47561,
           "ROU",
           642
          ],
          [
           "Rwanda",
           "Africa",
           2007,
           46.242,
           8860588,
           863.0884639000002,
           "RWA",
           646
          ],
          [
           "Sao Tome and Principe",
           "Africa",
           2007,
           65.528,
           199579,
           1598.435089,
           "STP",
           678
          ],
          [
           "Saudi Arabia",
           "Asia",
           2007,
           72.777,
           27601038,
           21654.83194,
           "SAU",
           682
          ],
          [
           "Senegal",
           "Africa",
           2007,
           63.062,
           12267493,
           1712.472136,
           "SEN",
           686
          ],
          [
           "Serbia",
           "Europe",
           2007,
           74.002,
           10150265,
           9786.534714,
           "SRB",
           688
          ],
          [
           "Sierra Leone",
           "Africa",
           2007,
           42.56800000000001,
           6144562,
           862.5407561000002,
           "SLE",
           694
          ],
          [
           "Singapore",
           "Asia",
           2007,
           79.972,
           4553009,
           47143.17964,
           "SGP",
           702
          ],
          [
           "Slovak Republic",
           "Europe",
           2007,
           74.663,
           5447502,
           18678.31435,
           "SVK",
           703
          ],
          [
           "Slovenia",
           "Europe",
           2007,
           77.926,
           2009245,
           25768.25759,
           "SVN",
           705
          ],
          [
           "Somalia",
           "Africa",
           2007,
           48.159,
           9118773,
           926.1410683,
           "SOM",
           706
          ],
          [
           "South Africa",
           "Africa",
           2007,
           49.339,
           43997828,
           9269.657808,
           "ZAF",
           710
          ],
          [
           "Spain",
           "Europe",
           2007,
           80.941,
           40448191,
           28821.0637,
           "ESP",
           724
          ],
          [
           "Sri Lanka",
           "Asia",
           2007,
           72.396,
           20378239,
           3970.095407,
           "LKA",
           144
          ],
          [
           "Sudan",
           "Africa",
           2007,
           58.556,
           42292929,
           2602.394995,
           "SDN",
           736
          ],
          [
           "Swaziland",
           "Africa",
           2007,
           39.613,
           1133066,
           4513.480643,
           "SWZ",
           748
          ],
          [
           "Sweden",
           "Europe",
           2007,
           80.884,
           9031088,
           33859.74835,
           "SWE",
           752
          ],
          [
           "Switzerland",
           "Europe",
           2007,
           81.70100000000002,
           7554661,
           37506.41907,
           "CHE",
           756
          ],
          [
           "Syria",
           "Asia",
           2007,
           74.143,
           19314747,
           4184.548089,
           "SYR",
           760
          ],
          [
           "Taiwan",
           "Asia",
           2007,
           78.4,
           23174294,
           28718.27684,
           "TWN",
           158
          ],
          [
           "Tanzania",
           "Africa",
           2007,
           52.517,
           38139640,
           1107.482182,
           "TZA",
           834
          ],
          [
           "Thailand",
           "Asia",
           2007,
           70.616,
           65068149,
           7458.396326999998,
           "THA",
           764
          ],
          [
           "Togo",
           "Africa",
           2007,
           58.42,
           5701579,
           882.9699437999999,
           "TGO",
           768
          ],
          [
           "Trinidad and Tobago",
           "Americas",
           2007,
           69.819,
           1056608,
           18008.50924,
           "TTO",
           780
          ],
          [
           "Tunisia",
           "Africa",
           2007,
           73.923,
           10276158,
           7092.923025,
           "TUN",
           788
          ],
          [
           "Turkey",
           "Europe",
           2007,
           71.777,
           71158647,
           8458.276384,
           "TUR",
           792
          ],
          [
           "Uganda",
           "Africa",
           2007,
           51.542,
           29170398,
           1056.380121,
           "UGA",
           800
          ],
          [
           "United Kingdom",
           "Europe",
           2007,
           79.425,
           60776238,
           33203.26128,
           "GBR",
           826
          ],
          [
           "United States",
           "Americas",
           2007,
           78.242,
           301139947,
           42951.65309,
           "USA",
           840
          ],
          [
           "Uruguay",
           "Americas",
           2007,
           76.384,
           3447496,
           10611.46299,
           "URY",
           858
          ],
          [
           "Venezuela",
           "Americas",
           2007,
           73.747,
           26084662,
           11415.80569,
           "VEN",
           862
          ],
          [
           "Vietnam",
           "Asia",
           2007,
           74.249,
           85262356,
           2441.576404,
           "VNM",
           704
          ],
          [
           "West Bank and Gaza",
           "Asia",
           2007,
           73.422,
           4018332,
           3025.349798,
           "PSE",
           275
          ],
          [
           "Yemen, Rep.",
           "Asia",
           2007,
           62.698,
           22211743,
           2280.769906,
           "YEM",
           887
          ],
          [
           "Zambia",
           "Africa",
           2007,
           42.38399999999999,
           11746035,
           1271.211593,
           "ZMB",
           894
          ],
          [
           "Zimbabwe",
           "Africa",
           2007,
           43.487,
           12311143,
           469.70929810000007,
           "ZWE",
           716
          ]
         ],
         "geo": "geo",
         "hovertemplate": "iso_alpha=%{customdata[6]}<br>country=%{customdata[0]}<br>continent=%{customdata[1]}<br>year=%{customdata[2]}<br>lifeExp=%{z}<br>pop=%{customdata[4]}<br>gdpPercap=%{customdata[5]}<br>iso_num=%{customdata[7]}<extra></extra>",
         "locations": [
          "AFG",
          "ALB",
          "DZA",
          "AGO",
          "ARG",
          "AUS",
          "AUT",
          "BHR",
          "BGD",
          "BEL",
          "BEN",
          "BOL",
          "BIH",
          "BWA",
          "BRA",
          "BGR",
          "BFA",
          "BDI",
          "KHM",
          "CMR",
          "CAN",
          "CAF",
          "TCD",
          "CHL",
          "CHN",
          "COL",
          "COM",
          "COD",
          "COG",
          "CRI",
          "CIV",
          "HRV",
          "CUB",
          "CZE",
          "DNK",
          "DJI",
          "DOM",
          "ECU",
          "EGY",
          "SLV",
          "GNQ",
          "ERI",
          "ETH",
          "FIN",
          "FRA",
          "GAB",
          "GMB",
          "DEU",
          "GHA",
          "GRC",
          "GTM",
          "GIN",
          "GNB",
          "HTI",
          "HND",
          "HKG",
          "HUN",
          "ISL",
          "IND",
          "IDN",
          "IRN",
          "IRQ",
          "IRL",
          "ISR",
          "ITA",
          "JAM",
          "JPN",
          "JOR",
          "KEN",
          "KOR",
          "KOR",
          "KWT",
          "LBN",
          "LSO",
          "LBR",
          "LBY",
          "MDG",
          "MWI",
          "MYS",
          "MLI",
          "MRT",
          "MUS",
          "MEX",
          "MNG",
          "MNE",
          "MAR",
          "MOZ",
          "MMR",
          "NAM",
          "NPL",
          "NLD",
          "NZL",
          "NIC",
          "NER",
          "NGA",
          "NOR",
          "OMN",
          "PAK",
          "PAN",
          "PRY",
          "PER",
          "PHL",
          "POL",
          "PRT",
          "PRI",
          "REU",
          "ROU",
          "RWA",
          "STP",
          "SAU",
          "SEN",
          "SRB",
          "SLE",
          "SGP",
          "SVK",
          "SVN",
          "SOM",
          "ZAF",
          "ESP",
          "LKA",
          "SDN",
          "SWZ",
          "SWE",
          "CHE",
          "SYR",
          "TWN",
          "TZA",
          "THA",
          "TGO",
          "TTO",
          "TUN",
          "TUR",
          "UGA",
          "GBR",
          "USA",
          "URY",
          "VEN",
          "VNM",
          "PSE",
          "YEM",
          "ZMB",
          "ZWE"
         ],
         "name": "",
         "type": "choropleth",
         "z": [
          43.828,
          76.423,
          72.301,
          42.731,
          75.32,
          81.235,
          79.829,
          75.635,
          64.062,
          79.441,
          56.728,
          65.554,
          74.852,
          50.728,
          72.39,
          73.005,
          52.295,
          49.58,
          59.723,
          50.43,
          80.653,
          44.74100000000001,
          50.651,
          78.553,
          72.961,
          72.889,
          65.152,
          46.462,
          55.322,
          78.782,
          48.328,
          75.748,
          78.273,
          76.486,
          78.332,
          54.791,
          72.235,
          74.994,
          71.33800000000002,
          71.878,
          51.57899999999999,
          58.04,
          52.947,
          79.313,
          80.657,
          56.735,
          59.448,
          79.406,
          60.022,
          79.483,
          70.259,
          56.007,
          46.38800000000001,
          60.916,
          70.19800000000001,
          82.208,
          73.33800000000002,
          81.757,
          64.69800000000001,
          70.65,
          70.964,
          59.545,
          78.885,
          80.745,
          80.546,
          72.567,
          82.603,
          72.535,
          54.11,
          67.297,
          78.623,
          77.58800000000002,
          71.993,
          42.592,
          45.678,
          73.952,
          59.44300000000001,
          48.303,
          74.241,
          54.467,
          64.164,
          72.801,
          76.195,
          66.803,
          74.543,
          71.164,
          42.082,
          62.069,
          52.90600000000001,
          63.785,
          79.762,
          80.204,
          72.899,
          56.867,
          46.859,
          80.196,
          75.64,
          65.483,
          75.53699999999998,
          71.752,
          71.421,
          71.688,
          75.563,
          78.098,
          78.74600000000002,
          76.442,
          72.476,
          46.242,
          65.528,
          72.777,
          63.062,
          74.002,
          42.56800000000001,
          79.972,
          74.663,
          77.926,
          48.159,
          49.339,
          80.941,
          72.396,
          58.556,
          39.613,
          80.884,
          81.70100000000002,
          74.143,
          78.4,
          52.517,
          70.616,
          58.42,
          69.819,
          73.923,
          71.777,
          51.542,
          79.425,
          78.242,
          76.384,
          73.747,
          74.249,
          73.422,
          62.698,
          42.38399999999999,
          43.487
         ]
        }
       ],
       "layout": {
        "coloraxis": {
         "colorbar": {
          "title": {
           "text": "lifeExp"
          }
         },
         "colorscale": [
          [
           0,
           "#0d0887"
          ],
          [
           0.1111111111111111,
           "#46039f"
          ],
          [
           0.2222222222222222,
           "#7201a8"
          ],
          [
           0.3333333333333333,
           "#9c179e"
          ],
          [
           0.4444444444444444,
           "#bd3786"
          ],
          [
           0.5555555555555556,
           "#d8576b"
          ],
          [
           0.6666666666666666,
           "#ed7953"
          ],
          [
           0.7777777777777778,
           "#fb9f3a"
          ],
          [
           0.8888888888888888,
           "#fdca26"
          ],
          [
           1,
           "#f0f921"
          ]
         ]
        },
        "geo": {
         "center": {},
         "domain": {
          "x": [
           0,
           1
          ],
          "y": [
           0,
           1
          ]
         }
        },
        "legend": {
         "tracegroupgap": 0
        },
        "margin": {
         "t": 60
        },
        "paper_bgcolor": "rgba(0,0,0,0)",
        "template": {
         "data": {
          "bar": [
           {
            "error_x": {
             "color": "#f2f5fa"
            },
            "error_y": {
             "color": "#f2f5fa"
            },
            "marker": {
             "line": {
              "color": "rgb(17,17,17)",
              "width": 0.5
             },
             "pattern": {
              "fillmode": "overlay",
              "size": 10,
              "solidity": 0.2
             }
            },
            "type": "bar"
           }
          ],
          "barpolar": [
           {
            "marker": {
             "line": {
              "color": "rgb(17,17,17)",
              "width": 0.5
             },
             "pattern": {
              "fillmode": "overlay",
              "size": 10,
              "solidity": 0.2
             }
            },
            "type": "barpolar"
           }
          ],
          "carpet": [
           {
            "aaxis": {
             "endlinecolor": "#A2B1C6",
             "gridcolor": "#506784",
             "linecolor": "#506784",
             "minorgridcolor": "#506784",
             "startlinecolor": "#A2B1C6"
            },
            "baxis": {
             "endlinecolor": "#A2B1C6",
             "gridcolor": "#506784",
             "linecolor": "#506784",
             "minorgridcolor": "#506784",
             "startlinecolor": "#A2B1C6"
            },
            "type": "carpet"
           }
          ],
          "choropleth": [
           {
            "colorbar": {
             "outlinewidth": 0,
             "ticks": ""
            },
            "type": "choropleth"
           }
          ],
          "contour": [
           {
            "colorbar": {
             "outlinewidth": 0,
             "ticks": ""
            },
            "colorscale": [
             [
              0,
              "#0d0887"
             ],
             [
              0.1111111111111111,
              "#46039f"
             ],
             [
              0.2222222222222222,
              "#7201a8"
             ],
             [
              0.3333333333333333,
              "#9c179e"
             ],
             [
              0.4444444444444444,
              "#bd3786"
             ],
             [
              0.5555555555555556,
              "#d8576b"
             ],
             [
              0.6666666666666666,
              "#ed7953"
             ],
             [
              0.7777777777777778,
              "#fb9f3a"
             ],
             [
              0.8888888888888888,
              "#fdca26"
             ],
             [
              1,
              "#f0f921"
             ]
            ],
            "type": "contour"
           }
          ],
          "contourcarpet": [
           {
            "colorbar": {
             "outlinewidth": 0,
             "ticks": ""
            },
            "type": "contourcarpet"
           }
          ],
          "heatmap": [
           {
            "colorbar": {
             "outlinewidth": 0,
             "ticks": ""
            },
            "colorscale": [
             [
              0,
              "#0d0887"
             ],
             [
              0.1111111111111111,
              "#46039f"
             ],
             [
              0.2222222222222222,
              "#7201a8"
             ],
             [
              0.3333333333333333,
              "#9c179e"
             ],
             [
              0.4444444444444444,
              "#bd3786"
             ],
             [
              0.5555555555555556,
              "#d8576b"
             ],
             [
              0.6666666666666666,
              "#ed7953"
             ],
             [
              0.7777777777777778,
              "#fb9f3a"
             ],
             [
              0.8888888888888888,
              "#fdca26"
             ],
             [
              1,
              "#f0f921"
             ]
            ],
            "type": "heatmap"
           }
          ],
          "heatmapgl": [
           {
            "colorbar": {
             "outlinewidth": 0,
             "ticks": ""
            },
            "colorscale": [
             [
              0,
              "#0d0887"
             ],
             [
              0.1111111111111111,
              "#46039f"
             ],
             [
              0.2222222222222222,
              "#7201a8"
             ],
             [
              0.3333333333333333,
              "#9c179e"
             ],
             [
              0.4444444444444444,
              "#bd3786"
             ],
             [
              0.5555555555555556,
              "#d8576b"
             ],
             [
              0.6666666666666666,
              "#ed7953"
             ],
             [
              0.7777777777777778,
              "#fb9f3a"
             ],
             [
              0.8888888888888888,
              "#fdca26"
             ],
             [
              1,
              "#f0f921"
             ]
            ],
            "type": "heatmapgl"
           }
          ],
          "histogram": [
           {
            "marker": {
             "pattern": {
              "fillmode": "overlay",
              "size": 10,
              "solidity": 0.2
             }
            },
            "type": "histogram"
           }
          ],
          "histogram2d": [
           {
            "colorbar": {
             "outlinewidth": 0,
             "ticks": ""
            },
            "colorscale": [
             [
              0,
              "#0d0887"
             ],
             [
              0.1111111111111111,
              "#46039f"
             ],
             [
              0.2222222222222222,
              "#7201a8"
             ],
             [
              0.3333333333333333,
              "#9c179e"
             ],
             [
              0.4444444444444444,
              "#bd3786"
             ],
             [
              0.5555555555555556,
              "#d8576b"
             ],
             [
              0.6666666666666666,
              "#ed7953"
             ],
             [
              0.7777777777777778,
              "#fb9f3a"
             ],
             [
              0.8888888888888888,
              "#fdca26"
             ],
             [
              1,
              "#f0f921"
             ]
            ],
            "type": "histogram2d"
           }
          ],
          "histogram2dcontour": [
           {
            "colorbar": {
             "outlinewidth": 0,
             "ticks": ""
            },
            "colorscale": [
             [
              0,
              "#0d0887"
             ],
             [
              0.1111111111111111,
              "#46039f"
             ],
             [
              0.2222222222222222,
              "#7201a8"
             ],
             [
              0.3333333333333333,
              "#9c179e"
             ],
             [
              0.4444444444444444,
              "#bd3786"
             ],
             [
              0.5555555555555556,
              "#d8576b"
             ],
             [
              0.6666666666666666,
              "#ed7953"
             ],
             [
              0.7777777777777778,
              "#fb9f3a"
             ],
             [
              0.8888888888888888,
              "#fdca26"
             ],
             [
              1,
              "#f0f921"
             ]
            ],
            "type": "histogram2dcontour"
           }
          ],
          "mesh3d": [
           {
            "colorbar": {
             "outlinewidth": 0,
             "ticks": ""
            },
            "type": "mesh3d"
           }
          ],
          "parcoords": [
           {
            "line": {
             "colorbar": {
              "outlinewidth": 0,
              "ticks": ""
             }
            },
            "type": "parcoords"
           }
          ],
          "pie": [
           {
            "automargin": true,
            "type": "pie"
           }
          ],
          "scatter": [
           {
            "marker": {
             "line": {
              "color": "#283442"
             }
            },
            "type": "scatter"
           }
          ],
          "scatter3d": [
           {
            "line": {
             "colorbar": {
              "outlinewidth": 0,
              "ticks": ""
             }
            },
            "marker": {
             "colorbar": {
              "outlinewidth": 0,
              "ticks": ""
             }
            },
            "type": "scatter3d"
           }
          ],
          "scattercarpet": [
           {
            "marker": {
             "colorbar": {
              "outlinewidth": 0,
              "ticks": ""
             }
            },
            "type": "scattercarpet"
           }
          ],
          "scattergeo": [
           {
            "marker": {
             "colorbar": {
              "outlinewidth": 0,
              "ticks": ""
             }
            },
            "type": "scattergeo"
           }
          ],
          "scattergl": [
           {
            "marker": {
             "line": {
              "color": "#283442"
             }
            },
            "type": "scattergl"
           }
          ],
          "scattermapbox": [
           {
            "marker": {
             "colorbar": {
              "outlinewidth": 0,
              "ticks": ""
             }
            },
            "type": "scattermapbox"
           }
          ],
          "scatterpolar": [
           {
            "marker": {
             "colorbar": {
              "outlinewidth": 0,
              "ticks": ""
             }
            },
            "type": "scatterpolar"
           }
          ],
          "scatterpolargl": [
           {
            "marker": {
             "colorbar": {
              "outlinewidth": 0,
              "ticks": ""
             }
            },
            "type": "scatterpolargl"
           }
          ],
          "scatterternary": [
           {
            "marker": {
             "colorbar": {
              "outlinewidth": 0,
              "ticks": ""
             }
            },
            "type": "scatterternary"
           }
          ],
          "surface": [
           {
            "colorbar": {
             "outlinewidth": 0,
             "ticks": ""
            },
            "colorscale": [
             [
              0,
              "#0d0887"
             ],
             [
              0.1111111111111111,
              "#46039f"
             ],
             [
              0.2222222222222222,
              "#7201a8"
             ],
             [
              0.3333333333333333,
              "#9c179e"
             ],
             [
              0.4444444444444444,
              "#bd3786"
             ],
             [
              0.5555555555555556,
              "#d8576b"
             ],
             [
              0.6666666666666666,
              "#ed7953"
             ],
             [
              0.7777777777777778,
              "#fb9f3a"
             ],
             [
              0.8888888888888888,
              "#fdca26"
             ],
             [
              1,
              "#f0f921"
             ]
            ],
            "type": "surface"
           }
          ],
          "table": [
           {
            "cells": {
             "fill": {
              "color": "#506784"
             },
             "line": {
              "color": "rgb(17,17,17)"
             }
            },
            "header": {
             "fill": {
              "color": "#2a3f5f"
             },
             "line": {
              "color": "rgb(17,17,17)"
             }
            },
            "type": "table"
           }
          ]
         },
         "layout": {
          "annotationdefaults": {
           "arrowcolor": "#f2f5fa",
           "arrowhead": 0,
           "arrowwidth": 1
          },
          "autotypenumbers": "strict",
          "coloraxis": {
           "colorbar": {
            "outlinewidth": 0,
            "ticks": ""
           }
          },
          "colorscale": {
           "diverging": [
            [
             0,
             "#8e0152"
            ],
            [
             0.1,
             "#c51b7d"
            ],
            [
             0.2,
             "#de77ae"
            ],
            [
             0.3,
             "#f1b6da"
            ],
            [
             0.4,
             "#fde0ef"
            ],
            [
             0.5,
             "#f7f7f7"
            ],
            [
             0.6,
             "#e6f5d0"
            ],
            [
             0.7,
             "#b8e186"
            ],
            [
             0.8,
             "#7fbc41"
            ],
            [
             0.9,
             "#4d9221"
            ],
            [
             1,
             "#276419"
            ]
           ],
           "sequential": [
            [
             0,
             "#0d0887"
            ],
            [
             0.1111111111111111,
             "#46039f"
            ],
            [
             0.2222222222222222,
             "#7201a8"
            ],
            [
             0.3333333333333333,
             "#9c179e"
            ],
            [
             0.4444444444444444,
             "#bd3786"
            ],
            [
             0.5555555555555556,
             "#d8576b"
            ],
            [
             0.6666666666666666,
             "#ed7953"
            ],
            [
             0.7777777777777778,
             "#fb9f3a"
            ],
            [
             0.8888888888888888,
             "#fdca26"
            ],
            [
             1,
             "#f0f921"
            ]
           ],
           "sequentialminus": [
            [
             0,
             "#0d0887"
            ],
            [
             0.1111111111111111,
             "#46039f"
            ],
            [
             0.2222222222222222,
             "#7201a8"
            ],
            [
             0.3333333333333333,
             "#9c179e"
            ],
            [
             0.4444444444444444,
             "#bd3786"
            ],
            [
             0.5555555555555556,
             "#d8576b"
            ],
            [
             0.6666666666666666,
             "#ed7953"
            ],
            [
             0.7777777777777778,
             "#fb9f3a"
            ],
            [
             0.8888888888888888,
             "#fdca26"
            ],
            [
             1,
             "#f0f921"
            ]
           ]
          },
          "colorway": [
           "#636efa",
           "#EF553B",
           "#00cc96",
           "#ab63fa",
           "#FFA15A",
           "#19d3f3",
           "#FF6692",
           "#B6E880",
           "#FF97FF",
           "#FECB52"
          ],
          "font": {
           "color": "#f2f5fa"
          },
          "geo": {
           "bgcolor": "rgb(17,17,17)",
           "lakecolor": "rgb(17,17,17)",
           "landcolor": "rgb(17,17,17)",
           "showlakes": true,
           "showland": true,
           "subunitcolor": "#506784"
          },
          "hoverlabel": {
           "align": "left"
          },
          "hovermode": "closest",
          "mapbox": {
           "style": "dark"
          },
          "paper_bgcolor": "rgb(17,17,17)",
          "plot_bgcolor": "rgb(17,17,17)",
          "polar": {
           "angularaxis": {
            "gridcolor": "#506784",
            "linecolor": "#506784",
            "ticks": ""
           },
           "bgcolor": "rgb(17,17,17)",
           "radialaxis": {
            "gridcolor": "#506784",
            "linecolor": "#506784",
            "ticks": ""
           }
          },
          "scene": {
           "xaxis": {
            "backgroundcolor": "rgb(17,17,17)",
            "gridcolor": "#506784",
            "gridwidth": 2,
            "linecolor": "#506784",
            "showbackground": true,
            "ticks": "",
            "zerolinecolor": "#C8D4E3"
           },
           "yaxis": {
            "backgroundcolor": "rgb(17,17,17)",
            "gridcolor": "#506784",
            "gridwidth": 2,
            "linecolor": "#506784",
            "showbackground": true,
            "ticks": "",
            "zerolinecolor": "#C8D4E3"
           },
           "zaxis": {
            "backgroundcolor": "rgb(17,17,17)",
            "gridcolor": "#506784",
            "gridwidth": 2,
            "linecolor": "#506784",
            "showbackground": true,
            "ticks": "",
            "zerolinecolor": "#C8D4E3"
           }
          },
          "shapedefaults": {
           "line": {
            "color": "#f2f5fa"
           }
          },
          "sliderdefaults": {
           "bgcolor": "#C8D4E3",
           "bordercolor": "rgb(17,17,17)",
           "borderwidth": 1,
           "tickwidth": 0
          },
          "ternary": {
           "aaxis": {
            "gridcolor": "#506784",
            "linecolor": "#506784",
            "ticks": ""
           },
           "baxis": {
            "gridcolor": "#506784",
            "linecolor": "#506784",
            "ticks": ""
           },
           "bgcolor": "rgb(17,17,17)",
           "caxis": {
            "gridcolor": "#506784",
            "linecolor": "#506784",
            "ticks": ""
           }
          },
          "title": {
           "x": 0.05
          },
          "updatemenudefaults": {
           "bgcolor": "#506784",
           "borderwidth": 0
          },
          "xaxis": {
           "automargin": true,
           "gridcolor": "#283442",
           "linecolor": "#506784",
           "ticks": "",
           "title": {
            "standoff": 15
           },
           "zerolinecolor": "#283442",
           "zerolinewidth": 2
          },
          "yaxis": {
           "automargin": true,
           "gridcolor": "#283442",
           "linecolor": "#506784",
           "ticks": "",
           "title": {
            "standoff": 15
           },
           "zerolinecolor": "#283442",
           "zerolinewidth": 2
          }
         }
        }
       }
      }
     },
     "metadata": {},
     "output_type": "display_data"
    }
   ],
   "source": [
    "fig = px.choropleth(df, locations='iso_alpha', color='lifeExp', hover_data=df.columns)\n",
    "fig.update_layout(paper_bgcolor='rgba(0,0,0,0)',\n",
    "                  template=\"plotly_dark\")\n",
    "fig"
   ]
  },
  {
   "cell_type": "code",
   "execution_count": 16,
   "metadata": {},
   "outputs": [
    {
     "data": {
      "application/vnd.plotly.v1+json": {
       "config": {
        "plotlyServerURL": "https://plot.ly"
       },
       "data": [
        {
         "customdata": [
          [
           "Afghanistan",
           "Asia",
           2007,
           31889923,
           "AFG",
           4
          ],
          [
           "Bahrain",
           "Asia",
           2007,
           708573,
           "BHR",
           48
          ],
          [
           "Bangladesh",
           "Asia",
           2007,
           150448339,
           "BGD",
           50
          ],
          [
           "Cambodia",
           "Asia",
           2007,
           14131858,
           "KHM",
           116
          ],
          [
           "China",
           "Asia",
           2007,
           1318683096,
           "CHN",
           156
          ],
          [
           "Hong Kong, China",
           "Asia",
           2007,
           6980412,
           "HKG",
           344
          ],
          [
           "India",
           "Asia",
           2007,
           1110396331,
           "IND",
           356
          ],
          [
           "Indonesia",
           "Asia",
           2007,
           223547000,
           "IDN",
           360
          ],
          [
           "Iran",
           "Asia",
           2007,
           69453570,
           "IRN",
           364
          ],
          [
           "Iraq",
           "Asia",
           2007,
           27499638,
           "IRQ",
           368
          ],
          [
           "Israel",
           "Asia",
           2007,
           6426679,
           "ISR",
           376
          ],
          [
           "Japan",
           "Asia",
           2007,
           127467972,
           "JPN",
           392
          ],
          [
           "Jordan",
           "Asia",
           2007,
           6053193,
           "JOR",
           400
          ],
          [
           "Korea, Dem. Rep.",
           "Asia",
           2007,
           23301725,
           "KOR",
           410
          ],
          [
           "Korea, Rep.",
           "Asia",
           2007,
           49044790,
           "KOR",
           410
          ],
          [
           "Kuwait",
           "Asia",
           2007,
           2505559,
           "KWT",
           414
          ],
          [
           "Lebanon",
           "Asia",
           2007,
           3921278,
           "LBN",
           422
          ],
          [
           "Malaysia",
           "Asia",
           2007,
           24821286,
           "MYS",
           458
          ],
          [
           "Mongolia",
           "Asia",
           2007,
           2874127,
           "MNG",
           496
          ],
          [
           "Myanmar",
           "Asia",
           2007,
           47761980,
           "MMR",
           104
          ],
          [
           "Nepal",
           "Asia",
           2007,
           28901790,
           "NPL",
           524
          ],
          [
           "Oman",
           "Asia",
           2007,
           3204897,
           "OMN",
           512
          ],
          [
           "Pakistan",
           "Asia",
           2007,
           169270617,
           "PAK",
           586
          ],
          [
           "Philippines",
           "Asia",
           2007,
           91077287,
           "PHL",
           608
          ],
          [
           "Saudi Arabia",
           "Asia",
           2007,
           27601038,
           "SAU",
           682
          ],
          [
           "Singapore",
           "Asia",
           2007,
           4553009,
           "SGP",
           702
          ],
          [
           "Sri Lanka",
           "Asia",
           2007,
           20378239,
           "LKA",
           144
          ],
          [
           "Syria",
           "Asia",
           2007,
           19314747,
           "SYR",
           760
          ],
          [
           "Taiwan",
           "Asia",
           2007,
           23174294,
           "TWN",
           158
          ],
          [
           "Thailand",
           "Asia",
           2007,
           65068149,
           "THA",
           764
          ],
          [
           "Vietnam",
           "Asia",
           2007,
           85262356,
           "VNM",
           704
          ],
          [
           "West Bank and Gaza",
           "Asia",
           2007,
           4018332,
           "PSE",
           275
          ],
          [
           "Yemen, Rep.",
           "Asia",
           2007,
           22211743,
           "YEM",
           887
          ]
         ],
         "hovertemplate": "<b>%{hovertext}</b><br><br>continent=%{customdata[1]}<br>gdpPercap=%{x}<br>lifeExp=%{y}<br>pop=%{customdata[3]}<br>country=%{customdata[0]}<br>year=%{customdata[2]}<br>iso_alpha=%{customdata[4]}<br>iso_num=%{customdata[5]}<extra></extra>",
         "hovertext": [
          "Afghanistan",
          "Bahrain",
          "Bangladesh",
          "Cambodia",
          "China",
          "Hong Kong, China",
          "India",
          "Indonesia",
          "Iran",
          "Iraq",
          "Israel",
          "Japan",
          "Jordan",
          "Korea, Dem. Rep.",
          "Korea, Rep.",
          "Kuwait",
          "Lebanon",
          "Malaysia",
          "Mongolia",
          "Myanmar",
          "Nepal",
          "Oman",
          "Pakistan",
          "Philippines",
          "Saudi Arabia",
          "Singapore",
          "Sri Lanka",
          "Syria",
          "Taiwan",
          "Thailand",
          "Vietnam",
          "West Bank and Gaza",
          "Yemen, Rep."
         ],
         "legendgroup": "Asia",
         "marker": {
          "color": "#636efa",
          "size": [
           31889923,
           708573,
           150448339,
           14131858,
           1318683096,
           6980412,
           1110396331,
           223547000,
           69453570,
           27499638,
           6426679,
           127467972,
           6053193,
           23301725,
           49044790,
           2505559,
           3921278,
           24821286,
           2874127,
           47761980,
           28901790,
           3204897,
           169270617,
           91077287,
           27601038,
           4553009,
           20378239,
           19314747,
           23174294,
           65068149,
           85262356,
           4018332,
           22211743
          ],
          "sizemode": "area",
          "sizeref": 651201.5288888889,
          "symbol": "circle"
         },
         "mode": "markers",
         "name": "Asia",
         "orientation": "v",
         "showlegend": true,
         "type": "scatter",
         "x": [
          974.5803384,
          29796.04834,
          1391.253792,
          1713.778686,
          4959.114854,
          39724.97867,
          2452.210407,
          3540.651564,
          11605.71449,
          4471.061906,
          25523.2771,
          31656.06806,
          4519.461171,
          1593.06548,
          23348.139730000006,
          47306.98978,
          10461.05868,
          12451.6558,
          3095.7722710000007,
          944,
          1091.359778,
          22316.19287,
          2605.94758,
          3190.481016,
          21654.83194,
          47143.17964,
          3970.095407,
          4184.548089,
          28718.27684,
          7458.396326999998,
          2441.576404,
          3025.349798,
          2280.769906
         ],
         "xaxis": "x4",
         "y": [
          43.828,
          75.635,
          64.062,
          59.723,
          72.961,
          82.208,
          64.69800000000001,
          70.65,
          70.964,
          59.545,
          80.745,
          82.603,
          72.535,
          67.297,
          78.623,
          77.58800000000002,
          71.993,
          74.241,
          66.803,
          62.069,
          63.785,
          75.64,
          65.483,
          71.688,
          72.777,
          79.972,
          72.396,
          74.143,
          78.4,
          70.616,
          74.249,
          73.422,
          62.698
         ],
         "yaxis": "y4"
        },
        {
         "customdata": [
          [
           "Albania",
           "Europe",
           2007,
           3600523,
           "ALB",
           8
          ],
          [
           "Austria",
           "Europe",
           2007,
           8199783,
           "AUT",
           40
          ],
          [
           "Belgium",
           "Europe",
           2007,
           10392226,
           "BEL",
           56
          ],
          [
           "Bosnia and Herzegovina",
           "Europe",
           2007,
           4552198,
           "BIH",
           70
          ],
          [
           "Bulgaria",
           "Europe",
           2007,
           7322858,
           "BGR",
           100
          ],
          [
           "Croatia",
           "Europe",
           2007,
           4493312,
           "HRV",
           191
          ],
          [
           "Czech Republic",
           "Europe",
           2007,
           10228744,
           "CZE",
           203
          ],
          [
           "Denmark",
           "Europe",
           2007,
           5468120,
           "DNK",
           208
          ],
          [
           "Finland",
           "Europe",
           2007,
           5238460,
           "FIN",
           246
          ],
          [
           "France",
           "Europe",
           2007,
           61083916,
           "FRA",
           250
          ],
          [
           "Germany",
           "Europe",
           2007,
           82400996,
           "DEU",
           276
          ],
          [
           "Greece",
           "Europe",
           2007,
           10706290,
           "GRC",
           300
          ],
          [
           "Hungary",
           "Europe",
           2007,
           9956108,
           "HUN",
           348
          ],
          [
           "Iceland",
           "Europe",
           2007,
           301931,
           "ISL",
           352
          ],
          [
           "Ireland",
           "Europe",
           2007,
           4109086,
           "IRL",
           372
          ],
          [
           "Italy",
           "Europe",
           2007,
           58147733,
           "ITA",
           380
          ],
          [
           "Montenegro",
           "Europe",
           2007,
           684736,
           "MNE",
           499
          ],
          [
           "Netherlands",
           "Europe",
           2007,
           16570613,
           "NLD",
           528
          ],
          [
           "Norway",
           "Europe",
           2007,
           4627926,
           "NOR",
           578
          ],
          [
           "Poland",
           "Europe",
           2007,
           38518241,
           "POL",
           616
          ],
          [
           "Portugal",
           "Europe",
           2007,
           10642836,
           "PRT",
           620
          ],
          [
           "Romania",
           "Europe",
           2007,
           22276056,
           "ROU",
           642
          ],
          [
           "Serbia",
           "Europe",
           2007,
           10150265,
           "SRB",
           688
          ],
          [
           "Slovak Republic",
           "Europe",
           2007,
           5447502,
           "SVK",
           703
          ],
          [
           "Slovenia",
           "Europe",
           2007,
           2009245,
           "SVN",
           705
          ],
          [
           "Spain",
           "Europe",
           2007,
           40448191,
           "ESP",
           724
          ],
          [
           "Sweden",
           "Europe",
           2007,
           9031088,
           "SWE",
           752
          ],
          [
           "Switzerland",
           "Europe",
           2007,
           7554661,
           "CHE",
           756
          ],
          [
           "Turkey",
           "Europe",
           2007,
           71158647,
           "TUR",
           792
          ],
          [
           "United Kingdom",
           "Europe",
           2007,
           60776238,
           "GBR",
           826
          ]
         ],
         "hovertemplate": "<b>%{hovertext}</b><br><br>continent=%{customdata[1]}<br>gdpPercap=%{x}<br>lifeExp=%{y}<br>pop=%{customdata[3]}<br>country=%{customdata[0]}<br>year=%{customdata[2]}<br>iso_alpha=%{customdata[4]}<br>iso_num=%{customdata[5]}<extra></extra>",
         "hovertext": [
          "Albania",
          "Austria",
          "Belgium",
          "Bosnia and Herzegovina",
          "Bulgaria",
          "Croatia",
          "Czech Republic",
          "Denmark",
          "Finland",
          "France",
          "Germany",
          "Greece",
          "Hungary",
          "Iceland",
          "Ireland",
          "Italy",
          "Montenegro",
          "Netherlands",
          "Norway",
          "Poland",
          "Portugal",
          "Romania",
          "Serbia",
          "Slovak Republic",
          "Slovenia",
          "Spain",
          "Sweden",
          "Switzerland",
          "Turkey",
          "United Kingdom"
         ],
         "legendgroup": "Europe",
         "marker": {
          "color": "#EF553B",
          "size": [
           3600523,
           8199783,
           10392226,
           4552198,
           7322858,
           4493312,
           10228744,
           5468120,
           5238460,
           61083916,
           82400996,
           10706290,
           9956108,
           301931,
           4109086,
           58147733,
           684736,
           16570613,
           4627926,
           38518241,
           10642836,
           22276056,
           10150265,
           5447502,
           2009245,
           40448191,
           9031088,
           7554661,
           71158647,
           60776238
          ],
          "sizemode": "area",
          "sizeref": 651201.5288888889,
          "symbol": "circle"
         },
         "mode": "markers",
         "name": "Europe",
         "orientation": "v",
         "showlegend": true,
         "type": "scatter",
         "x": [
          5937.029525999998,
          36126.4927,
          33692.60508,
          7446.298803,
          10680.79282,
          14619.222719999998,
          22833.30851,
          35278.41874,
          33207.0844,
          30470.0167,
          32170.37442,
          27538.41188,
          18008.94444,
          36180.78919,
          40675.99635,
          28569.7197,
          9253.896111,
          36797.93332,
          49357.19017,
          15389.924680000002,
          20509.64777,
          10808.47561,
          9786.534714,
          18678.31435,
          25768.25759,
          28821.0637,
          33859.74835,
          37506.41907,
          8458.276384,
          33203.26128
         ],
         "xaxis": "x5",
         "y": [
          76.423,
          79.829,
          79.441,
          74.852,
          73.005,
          75.748,
          76.486,
          78.332,
          79.313,
          80.657,
          79.406,
          79.483,
          73.33800000000002,
          81.757,
          78.885,
          80.546,
          74.543,
          79.762,
          80.196,
          75.563,
          78.098,
          72.476,
          74.002,
          74.663,
          77.926,
          80.941,
          80.884,
          81.70100000000002,
          71.777,
          79.425
         ],
         "yaxis": "y5"
        },
        {
         "customdata": [
          [
           "Algeria",
           "Africa",
           2007,
           33333216,
           "DZA",
           12
          ],
          [
           "Angola",
           "Africa",
           2007,
           12420476,
           "AGO",
           24
          ],
          [
           "Benin",
           "Africa",
           2007,
           8078314,
           "BEN",
           204
          ],
          [
           "Botswana",
           "Africa",
           2007,
           1639131,
           "BWA",
           72
          ],
          [
           "Burkina Faso",
           "Africa",
           2007,
           14326203,
           "BFA",
           854
          ],
          [
           "Burundi",
           "Africa",
           2007,
           8390505,
           "BDI",
           108
          ],
          [
           "Cameroon",
           "Africa",
           2007,
           17696293,
           "CMR",
           120
          ],
          [
           "Central African Republic",
           "Africa",
           2007,
           4369038,
           "CAF",
           140
          ],
          [
           "Chad",
           "Africa",
           2007,
           10238807,
           "TCD",
           148
          ],
          [
           "Comoros",
           "Africa",
           2007,
           710960,
           "COM",
           174
          ],
          [
           "Congo, Dem. Rep.",
           "Africa",
           2007,
           64606759,
           "COD",
           180
          ],
          [
           "Congo, Rep.",
           "Africa",
           2007,
           3800610,
           "COG",
           178
          ],
          [
           "Cote d'Ivoire",
           "Africa",
           2007,
           18013409,
           "CIV",
           384
          ],
          [
           "Djibouti",
           "Africa",
           2007,
           496374,
           "DJI",
           262
          ],
          [
           "Egypt",
           "Africa",
           2007,
           80264543,
           "EGY",
           818
          ],
          [
           "Equatorial Guinea",
           "Africa",
           2007,
           551201,
           "GNQ",
           226
          ],
          [
           "Eritrea",
           "Africa",
           2007,
           4906585,
           "ERI",
           232
          ],
          [
           "Ethiopia",
           "Africa",
           2007,
           76511887,
           "ETH",
           231
          ],
          [
           "Gabon",
           "Africa",
           2007,
           1454867,
           "GAB",
           266
          ],
          [
           "Gambia",
           "Africa",
           2007,
           1688359,
           "GMB",
           270
          ],
          [
           "Ghana",
           "Africa",
           2007,
           22873338,
           "GHA",
           288
          ],
          [
           "Guinea",
           "Africa",
           2007,
           9947814,
           "GIN",
           324
          ],
          [
           "Guinea-Bissau",
           "Africa",
           2007,
           1472041,
           "GNB",
           624
          ],
          [
           "Kenya",
           "Africa",
           2007,
           35610177,
           "KEN",
           404
          ],
          [
           "Lesotho",
           "Africa",
           2007,
           2012649,
           "LSO",
           426
          ],
          [
           "Liberia",
           "Africa",
           2007,
           3193942,
           "LBR",
           430
          ],
          [
           "Libya",
           "Africa",
           2007,
           6036914,
           "LBY",
           434
          ],
          [
           "Madagascar",
           "Africa",
           2007,
           19167654,
           "MDG",
           450
          ],
          [
           "Malawi",
           "Africa",
           2007,
           13327079,
           "MWI",
           454
          ],
          [
           "Mali",
           "Africa",
           2007,
           12031795,
           "MLI",
           466
          ],
          [
           "Mauritania",
           "Africa",
           2007,
           3270065,
           "MRT",
           478
          ],
          [
           "Mauritius",
           "Africa",
           2007,
           1250882,
           "MUS",
           480
          ],
          [
           "Morocco",
           "Africa",
           2007,
           33757175,
           "MAR",
           504
          ],
          [
           "Mozambique",
           "Africa",
           2007,
           19951656,
           "MOZ",
           508
          ],
          [
           "Namibia",
           "Africa",
           2007,
           2055080,
           "NAM",
           516
          ],
          [
           "Niger",
           "Africa",
           2007,
           12894865,
           "NER",
           562
          ],
          [
           "Nigeria",
           "Africa",
           2007,
           135031164,
           "NGA",
           566
          ],
          [
           "Reunion",
           "Africa",
           2007,
           798094,
           "REU",
           638
          ],
          [
           "Rwanda",
           "Africa",
           2007,
           8860588,
           "RWA",
           646
          ],
          [
           "Sao Tome and Principe",
           "Africa",
           2007,
           199579,
           "STP",
           678
          ],
          [
           "Senegal",
           "Africa",
           2007,
           12267493,
           "SEN",
           686
          ],
          [
           "Sierra Leone",
           "Africa",
           2007,
           6144562,
           "SLE",
           694
          ],
          [
           "Somalia",
           "Africa",
           2007,
           9118773,
           "SOM",
           706
          ],
          [
           "South Africa",
           "Africa",
           2007,
           43997828,
           "ZAF",
           710
          ],
          [
           "Sudan",
           "Africa",
           2007,
           42292929,
           "SDN",
           736
          ],
          [
           "Swaziland",
           "Africa",
           2007,
           1133066,
           "SWZ",
           748
          ],
          [
           "Tanzania",
           "Africa",
           2007,
           38139640,
           "TZA",
           834
          ],
          [
           "Togo",
           "Africa",
           2007,
           5701579,
           "TGO",
           768
          ],
          [
           "Tunisia",
           "Africa",
           2007,
           10276158,
           "TUN",
           788
          ],
          [
           "Uganda",
           "Africa",
           2007,
           29170398,
           "UGA",
           800
          ],
          [
           "Zambia",
           "Africa",
           2007,
           11746035,
           "ZMB",
           894
          ],
          [
           "Zimbabwe",
           "Africa",
           2007,
           12311143,
           "ZWE",
           716
          ]
         ],
         "hovertemplate": "<b>%{hovertext}</b><br><br>continent=%{customdata[1]}<br>gdpPercap=%{x}<br>lifeExp=%{y}<br>pop=%{customdata[3]}<br>country=%{customdata[0]}<br>year=%{customdata[2]}<br>iso_alpha=%{customdata[4]}<br>iso_num=%{customdata[5]}<extra></extra>",
         "hovertext": [
          "Algeria",
          "Angola",
          "Benin",
          "Botswana",
          "Burkina Faso",
          "Burundi",
          "Cameroon",
          "Central African Republic",
          "Chad",
          "Comoros",
          "Congo, Dem. Rep.",
          "Congo, Rep.",
          "Cote d'Ivoire",
          "Djibouti",
          "Egypt",
          "Equatorial Guinea",
          "Eritrea",
          "Ethiopia",
          "Gabon",
          "Gambia",
          "Ghana",
          "Guinea",
          "Guinea-Bissau",
          "Kenya",
          "Lesotho",
          "Liberia",
          "Libya",
          "Madagascar",
          "Malawi",
          "Mali",
          "Mauritania",
          "Mauritius",
          "Morocco",
          "Mozambique",
          "Namibia",
          "Niger",
          "Nigeria",
          "Reunion",
          "Rwanda",
          "Sao Tome and Principe",
          "Senegal",
          "Sierra Leone",
          "Somalia",
          "South Africa",
          "Sudan",
          "Swaziland",
          "Tanzania",
          "Togo",
          "Tunisia",
          "Uganda",
          "Zambia",
          "Zimbabwe"
         ],
         "legendgroup": "Africa",
         "marker": {
          "color": "#00cc96",
          "size": [
           33333216,
           12420476,
           8078314,
           1639131,
           14326203,
           8390505,
           17696293,
           4369038,
           10238807,
           710960,
           64606759,
           3800610,
           18013409,
           496374,
           80264543,
           551201,
           4906585,
           76511887,
           1454867,
           1688359,
           22873338,
           9947814,
           1472041,
           35610177,
           2012649,
           3193942,
           6036914,
           19167654,
           13327079,
           12031795,
           3270065,
           1250882,
           33757175,
           19951656,
           2055080,
           12894865,
           135031164,
           798094,
           8860588,
           199579,
           12267493,
           6144562,
           9118773,
           43997828,
           42292929,
           1133066,
           38139640,
           5701579,
           10276158,
           29170398,
           11746035,
           12311143
          ],
          "sizemode": "area",
          "sizeref": 651201.5288888889,
          "symbol": "circle"
         },
         "mode": "markers",
         "name": "Africa",
         "orientation": "v",
         "showlegend": true,
         "type": "scatter",
         "x": [
          6223.367465,
          4797.231267,
          1441.284873,
          12569.85177,
          1217.032994,
          430.0706916,
          2042.09524,
          706.016537,
          1704.063724,
          986.1478792,
          277.5518587,
          3632.557798,
          1544.750112,
          2082.4815670000007,
          5581.180998,
          12154.08975,
          641.3695236000002,
          690.8055759,
          13206.48452,
          752.7497265,
          1327.60891,
          942.6542111,
          579.2317429999998,
          1463.249282,
          1569.331442,
          414.5073415,
          12057.49928,
          1044.770126,
          759.3499101,
          1042.581557,
          1803.151496,
          10956.99112,
          3820.17523,
          823.6856205,
          4811.060429,
          619.6768923999998,
          2013.977305,
          7670.122558,
          863.0884639000002,
          1598.435089,
          1712.472136,
          862.5407561000002,
          926.1410683,
          9269.657808,
          2602.394995,
          4513.480643,
          1107.482182,
          882.9699437999999,
          7092.923025,
          1056.380121,
          1271.211593,
          469.70929810000007
         ],
         "xaxis": "x6",
         "y": [
          72.301,
          42.731,
          56.728,
          50.728,
          52.295,
          49.58,
          50.43,
          44.74100000000001,
          50.651,
          65.152,
          46.462,
          55.322,
          48.328,
          54.791,
          71.33800000000002,
          51.57899999999999,
          58.04,
          52.947,
          56.735,
          59.448,
          60.022,
          56.007,
          46.38800000000001,
          54.11,
          42.592,
          45.678,
          73.952,
          59.44300000000001,
          48.303,
          54.467,
          64.164,
          72.801,
          71.164,
          42.082,
          52.90600000000001,
          56.867,
          46.859,
          76.442,
          46.242,
          65.528,
          63.062,
          42.56800000000001,
          48.159,
          49.339,
          58.556,
          39.613,
          52.517,
          58.42,
          73.923,
          51.542,
          42.38399999999999,
          43.487
         ],
         "yaxis": "y6"
        },
        {
         "customdata": [
          [
           "Argentina",
           "Americas",
           2007,
           40301927,
           "ARG",
           32
          ],
          [
           "Bolivia",
           "Americas",
           2007,
           9119152,
           "BOL",
           68
          ],
          [
           "Brazil",
           "Americas",
           2007,
           190010647,
           "BRA",
           76
          ],
          [
           "Canada",
           "Americas",
           2007,
           33390141,
           "CAN",
           124
          ],
          [
           "Chile",
           "Americas",
           2007,
           16284741,
           "CHL",
           152
          ],
          [
           "Colombia",
           "Americas",
           2007,
           44227550,
           "COL",
           170
          ],
          [
           "Costa Rica",
           "Americas",
           2007,
           4133884,
           "CRI",
           188
          ],
          [
           "Cuba",
           "Americas",
           2007,
           11416987,
           "CUB",
           192
          ],
          [
           "Dominican Republic",
           "Americas",
           2007,
           9319622,
           "DOM",
           214
          ],
          [
           "Ecuador",
           "Americas",
           2007,
           13755680,
           "ECU",
           218
          ],
          [
           "El Salvador",
           "Americas",
           2007,
           6939688,
           "SLV",
           222
          ],
          [
           "Guatemala",
           "Americas",
           2007,
           12572928,
           "GTM",
           320
          ],
          [
           "Haiti",
           "Americas",
           2007,
           8502814,
           "HTI",
           332
          ],
          [
           "Honduras",
           "Americas",
           2007,
           7483763,
           "HND",
           340
          ],
          [
           "Jamaica",
           "Americas",
           2007,
           2780132,
           "JAM",
           388
          ],
          [
           "Mexico",
           "Americas",
           2007,
           108700891,
           "MEX",
           484
          ],
          [
           "Nicaragua",
           "Americas",
           2007,
           5675356,
           "NIC",
           558
          ],
          [
           "Panama",
           "Americas",
           2007,
           3242173,
           "PAN",
           591
          ],
          [
           "Paraguay",
           "Americas",
           2007,
           6667147,
           "PRY",
           600
          ],
          [
           "Peru",
           "Americas",
           2007,
           28674757,
           "PER",
           604
          ],
          [
           "Puerto Rico",
           "Americas",
           2007,
           3942491,
           "PRI",
           630
          ],
          [
           "Trinidad and Tobago",
           "Americas",
           2007,
           1056608,
           "TTO",
           780
          ],
          [
           "United States",
           "Americas",
           2007,
           301139947,
           "USA",
           840
          ],
          [
           "Uruguay",
           "Americas",
           2007,
           3447496,
           "URY",
           858
          ],
          [
           "Venezuela",
           "Americas",
           2007,
           26084662,
           "VEN",
           862
          ]
         ],
         "hovertemplate": "<b>%{hovertext}</b><br><br>continent=%{customdata[1]}<br>gdpPercap=%{x}<br>lifeExp=%{y}<br>pop=%{customdata[3]}<br>country=%{customdata[0]}<br>year=%{customdata[2]}<br>iso_alpha=%{customdata[4]}<br>iso_num=%{customdata[5]}<extra></extra>",
         "hovertext": [
          "Argentina",
          "Bolivia",
          "Brazil",
          "Canada",
          "Chile",
          "Colombia",
          "Costa Rica",
          "Cuba",
          "Dominican Republic",
          "Ecuador",
          "El Salvador",
          "Guatemala",
          "Haiti",
          "Honduras",
          "Jamaica",
          "Mexico",
          "Nicaragua",
          "Panama",
          "Paraguay",
          "Peru",
          "Puerto Rico",
          "Trinidad and Tobago",
          "United States",
          "Uruguay",
          "Venezuela"
         ],
         "legendgroup": "Americas",
         "marker": {
          "color": "#ab63fa",
          "size": [
           40301927,
           9119152,
           190010647,
           33390141,
           16284741,
           44227550,
           4133884,
           11416987,
           9319622,
           13755680,
           6939688,
           12572928,
           8502814,
           7483763,
           2780132,
           108700891,
           5675356,
           3242173,
           6667147,
           28674757,
           3942491,
           1056608,
           301139947,
           3447496,
           26084662
          ],
          "sizemode": "area",
          "sizeref": 651201.5288888889,
          "symbol": "circle"
         },
         "mode": "markers",
         "name": "Americas",
         "orientation": "v",
         "showlegend": true,
         "type": "scatter",
         "x": [
          12779.37964,
          3822.137084,
          9065.800825,
          36319.23501,
          13171.63885,
          7006.580419,
          9645.06142,
          8948.102923,
          6025.3747520000015,
          6873.262326000001,
          5728.353514,
          5186.050003,
          1201.637154,
          3548.3308460000007,
          7320.8802620000015,
          11977.57496,
          2749.320965,
          9809.185636,
          4172.838464,
          7408.905561,
          19328.70901,
          18008.50924,
          42951.65309,
          10611.46299,
          11415.80569
         ],
         "xaxis": "x",
         "y": [
          75.32,
          65.554,
          72.39,
          80.653,
          78.553,
          72.889,
          78.782,
          78.273,
          72.235,
          74.994,
          71.878,
          70.259,
          60.916,
          70.19800000000001,
          72.567,
          76.195,
          72.899,
          75.53699999999998,
          71.752,
          71.421,
          78.74600000000002,
          69.819,
          78.242,
          76.384,
          73.747
         ],
         "yaxis": "y"
        },
        {
         "customdata": [
          [
           "Australia",
           "Oceania",
           2007,
           20434176,
           "AUS",
           36
          ],
          [
           "New Zealand",
           "Oceania",
           2007,
           4115771,
           "NZL",
           554
          ]
         ],
         "hovertemplate": "<b>%{hovertext}</b><br><br>continent=%{customdata[1]}<br>gdpPercap=%{x}<br>lifeExp=%{y}<br>pop=%{customdata[3]}<br>country=%{customdata[0]}<br>year=%{customdata[2]}<br>iso_alpha=%{customdata[4]}<br>iso_num=%{customdata[5]}<extra></extra>",
         "hovertext": [
          "Australia",
          "New Zealand"
         ],
         "legendgroup": "Oceania",
         "marker": {
          "color": "#FFA15A",
          "size": [
           20434176,
           4115771
          ],
          "sizemode": "area",
          "sizeref": 651201.5288888889,
          "symbol": "circle"
         },
         "mode": "markers",
         "name": "Oceania",
         "orientation": "v",
         "showlegend": true,
         "type": "scatter",
         "x": [
          34435.367439999995,
          25185.00911
         ],
         "xaxis": "x2",
         "y": [
          81.235,
          80.204
         ],
         "yaxis": "y2"
        }
       ],
       "layout": {
        "annotations": [
         {
          "font": {},
          "showarrow": false,
          "text": "continent=Americas",
          "x": 0.15999999999999998,
          "xanchor": "center",
          "xref": "paper",
          "y": 0.46499999999999997,
          "yanchor": "bottom",
          "yref": "paper"
         },
         {
          "font": {},
          "showarrow": false,
          "text": "continent=Oceania",
          "x": 0.49999999999999994,
          "xanchor": "center",
          "xref": "paper",
          "y": 0.46499999999999997,
          "yanchor": "bottom",
          "yref": "paper"
         },
         {
          "font": {},
          "showarrow": false,
          "text": "continent=Asia",
          "x": 0.15999999999999998,
          "xanchor": "center",
          "xref": "paper",
          "y": 0.9999999999999999,
          "yanchor": "bottom",
          "yref": "paper"
         },
         {
          "font": {},
          "showarrow": false,
          "text": "continent=Europe",
          "x": 0.49999999999999994,
          "xanchor": "center",
          "xref": "paper",
          "y": 0.9999999999999999,
          "yanchor": "bottom",
          "yref": "paper"
         },
         {
          "font": {},
          "showarrow": false,
          "text": "continent=Africa",
          "x": 0.8399999999999999,
          "xanchor": "center",
          "xref": "paper",
          "y": 0.9999999999999999,
          "yanchor": "bottom",
          "yref": "paper"
         }
        ],
        "legend": {
         "itemsizing": "constant",
         "title": {
          "text": "continent"
         },
         "tracegroupgap": 0
        },
        "margin": {
         "t": 60
        },
        "paper_bgcolor": "rgba(0,0,0,0)",
        "plot_bgcolor": "rgba(0,0,0,0)",
        "template": {
         "data": {
          "bar": [
           {
            "error_x": {
             "color": "#f2f5fa"
            },
            "error_y": {
             "color": "#f2f5fa"
            },
            "marker": {
             "line": {
              "color": "rgb(17,17,17)",
              "width": 0.5
             },
             "pattern": {
              "fillmode": "overlay",
              "size": 10,
              "solidity": 0.2
             }
            },
            "type": "bar"
           }
          ],
          "barpolar": [
           {
            "marker": {
             "line": {
              "color": "rgb(17,17,17)",
              "width": 0.5
             },
             "pattern": {
              "fillmode": "overlay",
              "size": 10,
              "solidity": 0.2
             }
            },
            "type": "barpolar"
           }
          ],
          "carpet": [
           {
            "aaxis": {
             "endlinecolor": "#A2B1C6",
             "gridcolor": "#506784",
             "linecolor": "#506784",
             "minorgridcolor": "#506784",
             "startlinecolor": "#A2B1C6"
            },
            "baxis": {
             "endlinecolor": "#A2B1C6",
             "gridcolor": "#506784",
             "linecolor": "#506784",
             "minorgridcolor": "#506784",
             "startlinecolor": "#A2B1C6"
            },
            "type": "carpet"
           }
          ],
          "choropleth": [
           {
            "colorbar": {
             "outlinewidth": 0,
             "ticks": ""
            },
            "type": "choropleth"
           }
          ],
          "contour": [
           {
            "colorbar": {
             "outlinewidth": 0,
             "ticks": ""
            },
            "colorscale": [
             [
              0,
              "#0d0887"
             ],
             [
              0.1111111111111111,
              "#46039f"
             ],
             [
              0.2222222222222222,
              "#7201a8"
             ],
             [
              0.3333333333333333,
              "#9c179e"
             ],
             [
              0.4444444444444444,
              "#bd3786"
             ],
             [
              0.5555555555555556,
              "#d8576b"
             ],
             [
              0.6666666666666666,
              "#ed7953"
             ],
             [
              0.7777777777777778,
              "#fb9f3a"
             ],
             [
              0.8888888888888888,
              "#fdca26"
             ],
             [
              1,
              "#f0f921"
             ]
            ],
            "type": "contour"
           }
          ],
          "contourcarpet": [
           {
            "colorbar": {
             "outlinewidth": 0,
             "ticks": ""
            },
            "type": "contourcarpet"
           }
          ],
          "heatmap": [
           {
            "colorbar": {
             "outlinewidth": 0,
             "ticks": ""
            },
            "colorscale": [
             [
              0,
              "#0d0887"
             ],
             [
              0.1111111111111111,
              "#46039f"
             ],
             [
              0.2222222222222222,
              "#7201a8"
             ],
             [
              0.3333333333333333,
              "#9c179e"
             ],
             [
              0.4444444444444444,
              "#bd3786"
             ],
             [
              0.5555555555555556,
              "#d8576b"
             ],
             [
              0.6666666666666666,
              "#ed7953"
             ],
             [
              0.7777777777777778,
              "#fb9f3a"
             ],
             [
              0.8888888888888888,
              "#fdca26"
             ],
             [
              1,
              "#f0f921"
             ]
            ],
            "type": "heatmap"
           }
          ],
          "heatmapgl": [
           {
            "colorbar": {
             "outlinewidth": 0,
             "ticks": ""
            },
            "colorscale": [
             [
              0,
              "#0d0887"
             ],
             [
              0.1111111111111111,
              "#46039f"
             ],
             [
              0.2222222222222222,
              "#7201a8"
             ],
             [
              0.3333333333333333,
              "#9c179e"
             ],
             [
              0.4444444444444444,
              "#bd3786"
             ],
             [
              0.5555555555555556,
              "#d8576b"
             ],
             [
              0.6666666666666666,
              "#ed7953"
             ],
             [
              0.7777777777777778,
              "#fb9f3a"
             ],
             [
              0.8888888888888888,
              "#fdca26"
             ],
             [
              1,
              "#f0f921"
             ]
            ],
            "type": "heatmapgl"
           }
          ],
          "histogram": [
           {
            "marker": {
             "pattern": {
              "fillmode": "overlay",
              "size": 10,
              "solidity": 0.2
             }
            },
            "type": "histogram"
           }
          ],
          "histogram2d": [
           {
            "colorbar": {
             "outlinewidth": 0,
             "ticks": ""
            },
            "colorscale": [
             [
              0,
              "#0d0887"
             ],
             [
              0.1111111111111111,
              "#46039f"
             ],
             [
              0.2222222222222222,
              "#7201a8"
             ],
             [
              0.3333333333333333,
              "#9c179e"
             ],
             [
              0.4444444444444444,
              "#bd3786"
             ],
             [
              0.5555555555555556,
              "#d8576b"
             ],
             [
              0.6666666666666666,
              "#ed7953"
             ],
             [
              0.7777777777777778,
              "#fb9f3a"
             ],
             [
              0.8888888888888888,
              "#fdca26"
             ],
             [
              1,
              "#f0f921"
             ]
            ],
            "type": "histogram2d"
           }
          ],
          "histogram2dcontour": [
           {
            "colorbar": {
             "outlinewidth": 0,
             "ticks": ""
            },
            "colorscale": [
             [
              0,
              "#0d0887"
             ],
             [
              0.1111111111111111,
              "#46039f"
             ],
             [
              0.2222222222222222,
              "#7201a8"
             ],
             [
              0.3333333333333333,
              "#9c179e"
             ],
             [
              0.4444444444444444,
              "#bd3786"
             ],
             [
              0.5555555555555556,
              "#d8576b"
             ],
             [
              0.6666666666666666,
              "#ed7953"
             ],
             [
              0.7777777777777778,
              "#fb9f3a"
             ],
             [
              0.8888888888888888,
              "#fdca26"
             ],
             [
              1,
              "#f0f921"
             ]
            ],
            "type": "histogram2dcontour"
           }
          ],
          "mesh3d": [
           {
            "colorbar": {
             "outlinewidth": 0,
             "ticks": ""
            },
            "type": "mesh3d"
           }
          ],
          "parcoords": [
           {
            "line": {
             "colorbar": {
              "outlinewidth": 0,
              "ticks": ""
             }
            },
            "type": "parcoords"
           }
          ],
          "pie": [
           {
            "automargin": true,
            "type": "pie"
           }
          ],
          "scatter": [
           {
            "marker": {
             "line": {
              "color": "#283442"
             }
            },
            "type": "scatter"
           }
          ],
          "scatter3d": [
           {
            "line": {
             "colorbar": {
              "outlinewidth": 0,
              "ticks": ""
             }
            },
            "marker": {
             "colorbar": {
              "outlinewidth": 0,
              "ticks": ""
             }
            },
            "type": "scatter3d"
           }
          ],
          "scattercarpet": [
           {
            "marker": {
             "colorbar": {
              "outlinewidth": 0,
              "ticks": ""
             }
            },
            "type": "scattercarpet"
           }
          ],
          "scattergeo": [
           {
            "marker": {
             "colorbar": {
              "outlinewidth": 0,
              "ticks": ""
             }
            },
            "type": "scattergeo"
           }
          ],
          "scattergl": [
           {
            "marker": {
             "line": {
              "color": "#283442"
             }
            },
            "type": "scattergl"
           }
          ],
          "scattermapbox": [
           {
            "marker": {
             "colorbar": {
              "outlinewidth": 0,
              "ticks": ""
             }
            },
            "type": "scattermapbox"
           }
          ],
          "scatterpolar": [
           {
            "marker": {
             "colorbar": {
              "outlinewidth": 0,
              "ticks": ""
             }
            },
            "type": "scatterpolar"
           }
          ],
          "scatterpolargl": [
           {
            "marker": {
             "colorbar": {
              "outlinewidth": 0,
              "ticks": ""
             }
            },
            "type": "scatterpolargl"
           }
          ],
          "scatterternary": [
           {
            "marker": {
             "colorbar": {
              "outlinewidth": 0,
              "ticks": ""
             }
            },
            "type": "scatterternary"
           }
          ],
          "surface": [
           {
            "colorbar": {
             "outlinewidth": 0,
             "ticks": ""
            },
            "colorscale": [
             [
              0,
              "#0d0887"
             ],
             [
              0.1111111111111111,
              "#46039f"
             ],
             [
              0.2222222222222222,
              "#7201a8"
             ],
             [
              0.3333333333333333,
              "#9c179e"
             ],
             [
              0.4444444444444444,
              "#bd3786"
             ],
             [
              0.5555555555555556,
              "#d8576b"
             ],
             [
              0.6666666666666666,
              "#ed7953"
             ],
             [
              0.7777777777777778,
              "#fb9f3a"
             ],
             [
              0.8888888888888888,
              "#fdca26"
             ],
             [
              1,
              "#f0f921"
             ]
            ],
            "type": "surface"
           }
          ],
          "table": [
           {
            "cells": {
             "fill": {
              "color": "#506784"
             },
             "line": {
              "color": "rgb(17,17,17)"
             }
            },
            "header": {
             "fill": {
              "color": "#2a3f5f"
             },
             "line": {
              "color": "rgb(17,17,17)"
             }
            },
            "type": "table"
           }
          ]
         },
         "layout": {
          "annotationdefaults": {
           "arrowcolor": "#f2f5fa",
           "arrowhead": 0,
           "arrowwidth": 1
          },
          "autotypenumbers": "strict",
          "coloraxis": {
           "colorbar": {
            "outlinewidth": 0,
            "ticks": ""
           }
          },
          "colorscale": {
           "diverging": [
            [
             0,
             "#8e0152"
            ],
            [
             0.1,
             "#c51b7d"
            ],
            [
             0.2,
             "#de77ae"
            ],
            [
             0.3,
             "#f1b6da"
            ],
            [
             0.4,
             "#fde0ef"
            ],
            [
             0.5,
             "#f7f7f7"
            ],
            [
             0.6,
             "#e6f5d0"
            ],
            [
             0.7,
             "#b8e186"
            ],
            [
             0.8,
             "#7fbc41"
            ],
            [
             0.9,
             "#4d9221"
            ],
            [
             1,
             "#276419"
            ]
           ],
           "sequential": [
            [
             0,
             "#0d0887"
            ],
            [
             0.1111111111111111,
             "#46039f"
            ],
            [
             0.2222222222222222,
             "#7201a8"
            ],
            [
             0.3333333333333333,
             "#9c179e"
            ],
            [
             0.4444444444444444,
             "#bd3786"
            ],
            [
             0.5555555555555556,
             "#d8576b"
            ],
            [
             0.6666666666666666,
             "#ed7953"
            ],
            [
             0.7777777777777778,
             "#fb9f3a"
            ],
            [
             0.8888888888888888,
             "#fdca26"
            ],
            [
             1,
             "#f0f921"
            ]
           ],
           "sequentialminus": [
            [
             0,
             "#0d0887"
            ],
            [
             0.1111111111111111,
             "#46039f"
            ],
            [
             0.2222222222222222,
             "#7201a8"
            ],
            [
             0.3333333333333333,
             "#9c179e"
            ],
            [
             0.4444444444444444,
             "#bd3786"
            ],
            [
             0.5555555555555556,
             "#d8576b"
            ],
            [
             0.6666666666666666,
             "#ed7953"
            ],
            [
             0.7777777777777778,
             "#fb9f3a"
            ],
            [
             0.8888888888888888,
             "#fdca26"
            ],
            [
             1,
             "#f0f921"
            ]
           ]
          },
          "colorway": [
           "#636efa",
           "#EF553B",
           "#00cc96",
           "#ab63fa",
           "#FFA15A",
           "#19d3f3",
           "#FF6692",
           "#B6E880",
           "#FF97FF",
           "#FECB52"
          ],
          "font": {
           "color": "#f2f5fa"
          },
          "geo": {
           "bgcolor": "rgb(17,17,17)",
           "lakecolor": "rgb(17,17,17)",
           "landcolor": "rgb(17,17,17)",
           "showlakes": true,
           "showland": true,
           "subunitcolor": "#506784"
          },
          "hoverlabel": {
           "align": "left"
          },
          "hovermode": "closest",
          "mapbox": {
           "style": "dark"
          },
          "paper_bgcolor": "rgb(17,17,17)",
          "plot_bgcolor": "rgb(17,17,17)",
          "polar": {
           "angularaxis": {
            "gridcolor": "#506784",
            "linecolor": "#506784",
            "ticks": ""
           },
           "bgcolor": "rgb(17,17,17)",
           "radialaxis": {
            "gridcolor": "#506784",
            "linecolor": "#506784",
            "ticks": ""
           }
          },
          "scene": {
           "xaxis": {
            "backgroundcolor": "rgb(17,17,17)",
            "gridcolor": "#506784",
            "gridwidth": 2,
            "linecolor": "#506784",
            "showbackground": true,
            "ticks": "",
            "zerolinecolor": "#C8D4E3"
           },
           "yaxis": {
            "backgroundcolor": "rgb(17,17,17)",
            "gridcolor": "#506784",
            "gridwidth": 2,
            "linecolor": "#506784",
            "showbackground": true,
            "ticks": "",
            "zerolinecolor": "#C8D4E3"
           },
           "zaxis": {
            "backgroundcolor": "rgb(17,17,17)",
            "gridcolor": "#506784",
            "gridwidth": 2,
            "linecolor": "#506784",
            "showbackground": true,
            "ticks": "",
            "zerolinecolor": "#C8D4E3"
           }
          },
          "shapedefaults": {
           "line": {
            "color": "#f2f5fa"
           }
          },
          "sliderdefaults": {
           "bgcolor": "#C8D4E3",
           "bordercolor": "rgb(17,17,17)",
           "borderwidth": 1,
           "tickwidth": 0
          },
          "ternary": {
           "aaxis": {
            "gridcolor": "#506784",
            "linecolor": "#506784",
            "ticks": ""
           },
           "baxis": {
            "gridcolor": "#506784",
            "linecolor": "#506784",
            "ticks": ""
           },
           "bgcolor": "rgb(17,17,17)",
           "caxis": {
            "gridcolor": "#506784",
            "linecolor": "#506784",
            "ticks": ""
           }
          },
          "title": {
           "x": 0.05
          },
          "updatemenudefaults": {
           "bgcolor": "#506784",
           "borderwidth": 0
          },
          "xaxis": {
           "automargin": true,
           "gridcolor": "#283442",
           "linecolor": "#506784",
           "ticks": "",
           "title": {
            "standoff": 15
           },
           "zerolinecolor": "#283442",
           "zerolinewidth": 2
          },
          "yaxis": {
           "automargin": true,
           "gridcolor": "#283442",
           "linecolor": "#506784",
           "ticks": "",
           "title": {
            "standoff": 15
           },
           "zerolinecolor": "#283442",
           "zerolinewidth": 2
          }
         }
        },
        "xaxis": {
         "anchor": "y",
         "domain": [
          0,
          0.31999999999999995
         ],
         "title": {
          "text": "gdpPercap"
         },
         "type": "log"
        },
        "xaxis2": {
         "anchor": "y2",
         "domain": [
          0.33999999999999997,
          0.6599999999999999
         ],
         "matches": "x",
         "title": {
          "text": "gdpPercap"
         },
         "type": "log"
        },
        "xaxis3": {
         "anchor": "y3",
         "domain": [
          0.6799999999999999,
          0.9999999999999999
         ],
         "matches": "x",
         "title": {
          "text": "gdpPercap"
         },
         "type": "log"
        },
        "xaxis4": {
         "anchor": "y4",
         "domain": [
          0,
          0.31999999999999995
         ],
         "matches": "x",
         "showticklabels": false,
         "type": "log"
        },
        "xaxis5": {
         "anchor": "y5",
         "domain": [
          0.33999999999999997,
          0.6599999999999999
         ],
         "matches": "x",
         "showticklabels": false,
         "type": "log"
        },
        "xaxis6": {
         "anchor": "y6",
         "domain": [
          0.6799999999999999,
          0.9999999999999999
         ],
         "matches": "x",
         "showticklabels": false,
         "type": "log"
        },
        "yaxis": {
         "anchor": "x",
         "domain": [
          0,
          0.46499999999999997
         ],
         "title": {
          "text": "lifeExp"
         }
        },
        "yaxis2": {
         "anchor": "x2",
         "domain": [
          0,
          0.46499999999999997
         ],
         "matches": "y",
         "showticklabels": false
        },
        "yaxis3": {
         "anchor": "x3",
         "domain": [
          0,
          0.46499999999999997
         ],
         "matches": "y",
         "showticklabels": false
        },
        "yaxis4": {
         "anchor": "x4",
         "domain": [
          0.5349999999999999,
          0.9999999999999999
         ],
         "matches": "y",
         "title": {
          "text": "lifeExp"
         }
        },
        "yaxis5": {
         "anchor": "x5",
         "domain": [
          0.5349999999999999,
          0.9999999999999999
         ],
         "matches": "y",
         "showticklabels": false
        },
        "yaxis6": {
         "anchor": "x6",
         "domain": [
          0.5349999999999999,
          0.9999999999999999
         ],
         "matches": "y",
         "showticklabels": false
        }
       }
      }
     },
     "metadata": {},
     "output_type": "display_data"
    }
   ],
   "source": [
    "fig = px.scatter(df, x='gdpPercap', y='lifeExp', color='continent', \n",
    "           size='pop', log_x=True, size_max=45, hover_name='country', hover_data=df.columns,\n",
    "           facet_col='continent', facet_col_wrap=3)\n",
    "fig.update_layout(paper_bgcolor='rgba(0,0,0,0)',\n",
    "                  plot_bgcolor='rgba(0,0,0,0)',\n",
    "                  template=\"plotly_dark\")\n",
    "fig"
   ]
  },
  {
   "cell_type": "code",
   "execution_count": 8,
   "metadata": {},
   "outputs": [
    {
     "data": {
      "application/vnd.plotly.v1+json": {
       "config": {
        "plotlyServerURL": "https://plot.ly"
       },
       "data": [
        {
         "customdata": [
          [
           "Afghanistan",
           "Asia",
           2007,
           31889923,
           "AFG",
           4
          ],
          [
           "Bahrain",
           "Asia",
           2007,
           708573,
           "BHR",
           48
          ],
          [
           "Bangladesh",
           "Asia",
           2007,
           150448339,
           "BGD",
           50
          ],
          [
           "Cambodia",
           "Asia",
           2007,
           14131858,
           "KHM",
           116
          ],
          [
           "China",
           "Asia",
           2007,
           1318683096,
           "CHN",
           156
          ],
          [
           "Hong Kong, China",
           "Asia",
           2007,
           6980412,
           "HKG",
           344
          ],
          [
           "India",
           "Asia",
           2007,
           1110396331,
           "IND",
           356
          ],
          [
           "Indonesia",
           "Asia",
           2007,
           223547000,
           "IDN",
           360
          ],
          [
           "Iran",
           "Asia",
           2007,
           69453570,
           "IRN",
           364
          ],
          [
           "Iraq",
           "Asia",
           2007,
           27499638,
           "IRQ",
           368
          ],
          [
           "Israel",
           "Asia",
           2007,
           6426679,
           "ISR",
           376
          ],
          [
           "Japan",
           "Asia",
           2007,
           127467972,
           "JPN",
           392
          ],
          [
           "Jordan",
           "Asia",
           2007,
           6053193,
           "JOR",
           400
          ],
          [
           "Korea, Dem. Rep.",
           "Asia",
           2007,
           23301725,
           "KOR",
           410
          ],
          [
           "Korea, Rep.",
           "Asia",
           2007,
           49044790,
           "KOR",
           410
          ],
          [
           "Kuwait",
           "Asia",
           2007,
           2505559,
           "KWT",
           414
          ],
          [
           "Lebanon",
           "Asia",
           2007,
           3921278,
           "LBN",
           422
          ],
          [
           "Malaysia",
           "Asia",
           2007,
           24821286,
           "MYS",
           458
          ],
          [
           "Mongolia",
           "Asia",
           2007,
           2874127,
           "MNG",
           496
          ],
          [
           "Myanmar",
           "Asia",
           2007,
           47761980,
           "MMR",
           104
          ],
          [
           "Nepal",
           "Asia",
           2007,
           28901790,
           "NPL",
           524
          ],
          [
           "Oman",
           "Asia",
           2007,
           3204897,
           "OMN",
           512
          ],
          [
           "Pakistan",
           "Asia",
           2007,
           169270617,
           "PAK",
           586
          ],
          [
           "Philippines",
           "Asia",
           2007,
           91077287,
           "PHL",
           608
          ],
          [
           "Saudi Arabia",
           "Asia",
           2007,
           27601038,
           "SAU",
           682
          ],
          [
           "Singapore",
           "Asia",
           2007,
           4553009,
           "SGP",
           702
          ],
          [
           "Sri Lanka",
           "Asia",
           2007,
           20378239,
           "LKA",
           144
          ],
          [
           "Syria",
           "Asia",
           2007,
           19314747,
           "SYR",
           760
          ],
          [
           "Taiwan",
           "Asia",
           2007,
           23174294,
           "TWN",
           158
          ],
          [
           "Thailand",
           "Asia",
           2007,
           65068149,
           "THA",
           764
          ],
          [
           "Vietnam",
           "Asia",
           2007,
           85262356,
           "VNM",
           704
          ],
          [
           "West Bank and Gaza",
           "Asia",
           2007,
           4018332,
           "PSE",
           275
          ],
          [
           "Yemen, Rep.",
           "Asia",
           2007,
           22211743,
           "YEM",
           887
          ]
         ],
         "hovertemplate": "<b>%{hovertext}</b><br><br>continent=%{customdata[1]}<br>year=%{customdata[2]}<br>gdpPercap=%{x}<br>lifeExp=%{y}<br>pop=%{customdata[3]}<br>country=%{customdata[0]}<br>iso_alpha=%{customdata[4]}<br>iso_num=%{customdata[5]}<extra></extra>",
         "hovertext": [
          "Afghanistan",
          "Bahrain",
          "Bangladesh",
          "Cambodia",
          "China",
          "Hong Kong, China",
          "India",
          "Indonesia",
          "Iran",
          "Iraq",
          "Israel",
          "Japan",
          "Jordan",
          "Korea, Dem. Rep.",
          "Korea, Rep.",
          "Kuwait",
          "Lebanon",
          "Malaysia",
          "Mongolia",
          "Myanmar",
          "Nepal",
          "Oman",
          "Pakistan",
          "Philippines",
          "Saudi Arabia",
          "Singapore",
          "Sri Lanka",
          "Syria",
          "Taiwan",
          "Thailand",
          "Vietnam",
          "West Bank and Gaza",
          "Yemen, Rep."
         ],
         "ids": [
          "Afghanistan",
          "Bahrain",
          "Bangladesh",
          "Cambodia",
          "China",
          "Hong Kong, China",
          "India",
          "Indonesia",
          "Iran",
          "Iraq",
          "Israel",
          "Japan",
          "Jordan",
          "Korea, Dem. Rep.",
          "Korea, Rep.",
          "Kuwait",
          "Lebanon",
          "Malaysia",
          "Mongolia",
          "Myanmar",
          "Nepal",
          "Oman",
          "Pakistan",
          "Philippines",
          "Saudi Arabia",
          "Singapore",
          "Sri Lanka",
          "Syria",
          "Taiwan",
          "Thailand",
          "Vietnam",
          "West Bank and Gaza",
          "Yemen, Rep."
         ],
         "legendgroup": "Asia",
         "marker": {
          "color": "#636efa",
          "size": [
           31889923,
           708573,
           150448339,
           14131858,
           1318683096,
           6980412,
           1110396331,
           223547000,
           69453570,
           27499638,
           6426679,
           127467972,
           6053193,
           23301725,
           49044790,
           2505559,
           3921278,
           24821286,
           2874127,
           47761980,
           28901790,
           3204897,
           169270617,
           91077287,
           27601038,
           4553009,
           20378239,
           19314747,
           23174294,
           65068149,
           85262356,
           4018332,
           22211743
          ],
          "sizemode": "area",
          "sizeref": 651201.5288888889,
          "symbol": "circle"
         },
         "mode": "markers",
         "name": "Asia",
         "orientation": "v",
         "showlegend": true,
         "type": "scatter",
         "x": [
          974.5803384,
          29796.04834,
          1391.253792,
          1713.778686,
          4959.114854,
          39724.97867,
          2452.210407,
          3540.651564,
          11605.71449,
          4471.061906,
          25523.2771,
          31656.06806,
          4519.461171,
          1593.06548,
          23348.139730000006,
          47306.98978,
          10461.05868,
          12451.6558,
          3095.7722710000007,
          944,
          1091.359778,
          22316.19287,
          2605.94758,
          3190.481016,
          21654.83194,
          47143.17964,
          3970.095407,
          4184.548089,
          28718.27684,
          7458.396326999998,
          2441.576404,
          3025.349798,
          2280.769906
         ],
         "xaxis": "x",
         "y": [
          43.828,
          75.635,
          64.062,
          59.723,
          72.961,
          82.208,
          64.69800000000001,
          70.65,
          70.964,
          59.545,
          80.745,
          82.603,
          72.535,
          67.297,
          78.623,
          77.58800000000002,
          71.993,
          74.241,
          66.803,
          62.069,
          63.785,
          75.64,
          65.483,
          71.688,
          72.777,
          79.972,
          72.396,
          74.143,
          78.4,
          70.616,
          74.249,
          73.422,
          62.698
         ],
         "yaxis": "y"
        },
        {
         "customdata": [
          [
           "Albania",
           "Europe",
           2007,
           3600523,
           "ALB",
           8
          ],
          [
           "Austria",
           "Europe",
           2007,
           8199783,
           "AUT",
           40
          ],
          [
           "Belgium",
           "Europe",
           2007,
           10392226,
           "BEL",
           56
          ],
          [
           "Bosnia and Herzegovina",
           "Europe",
           2007,
           4552198,
           "BIH",
           70
          ],
          [
           "Bulgaria",
           "Europe",
           2007,
           7322858,
           "BGR",
           100
          ],
          [
           "Croatia",
           "Europe",
           2007,
           4493312,
           "HRV",
           191
          ],
          [
           "Czech Republic",
           "Europe",
           2007,
           10228744,
           "CZE",
           203
          ],
          [
           "Denmark",
           "Europe",
           2007,
           5468120,
           "DNK",
           208
          ],
          [
           "Finland",
           "Europe",
           2007,
           5238460,
           "FIN",
           246
          ],
          [
           "France",
           "Europe",
           2007,
           61083916,
           "FRA",
           250
          ],
          [
           "Germany",
           "Europe",
           2007,
           82400996,
           "DEU",
           276
          ],
          [
           "Greece",
           "Europe",
           2007,
           10706290,
           "GRC",
           300
          ],
          [
           "Hungary",
           "Europe",
           2007,
           9956108,
           "HUN",
           348
          ],
          [
           "Iceland",
           "Europe",
           2007,
           301931,
           "ISL",
           352
          ],
          [
           "Ireland",
           "Europe",
           2007,
           4109086,
           "IRL",
           372
          ],
          [
           "Italy",
           "Europe",
           2007,
           58147733,
           "ITA",
           380
          ],
          [
           "Montenegro",
           "Europe",
           2007,
           684736,
           "MNE",
           499
          ],
          [
           "Netherlands",
           "Europe",
           2007,
           16570613,
           "NLD",
           528
          ],
          [
           "Norway",
           "Europe",
           2007,
           4627926,
           "NOR",
           578
          ],
          [
           "Poland",
           "Europe",
           2007,
           38518241,
           "POL",
           616
          ],
          [
           "Portugal",
           "Europe",
           2007,
           10642836,
           "PRT",
           620
          ],
          [
           "Romania",
           "Europe",
           2007,
           22276056,
           "ROU",
           642
          ],
          [
           "Serbia",
           "Europe",
           2007,
           10150265,
           "SRB",
           688
          ],
          [
           "Slovak Republic",
           "Europe",
           2007,
           5447502,
           "SVK",
           703
          ],
          [
           "Slovenia",
           "Europe",
           2007,
           2009245,
           "SVN",
           705
          ],
          [
           "Spain",
           "Europe",
           2007,
           40448191,
           "ESP",
           724
          ],
          [
           "Sweden",
           "Europe",
           2007,
           9031088,
           "SWE",
           752
          ],
          [
           "Switzerland",
           "Europe",
           2007,
           7554661,
           "CHE",
           756
          ],
          [
           "Turkey",
           "Europe",
           2007,
           71158647,
           "TUR",
           792
          ],
          [
           "United Kingdom",
           "Europe",
           2007,
           60776238,
           "GBR",
           826
          ]
         ],
         "hovertemplate": "<b>%{hovertext}</b><br><br>continent=%{customdata[1]}<br>year=%{customdata[2]}<br>gdpPercap=%{x}<br>lifeExp=%{y}<br>pop=%{customdata[3]}<br>country=%{customdata[0]}<br>iso_alpha=%{customdata[4]}<br>iso_num=%{customdata[5]}<extra></extra>",
         "hovertext": [
          "Albania",
          "Austria",
          "Belgium",
          "Bosnia and Herzegovina",
          "Bulgaria",
          "Croatia",
          "Czech Republic",
          "Denmark",
          "Finland",
          "France",
          "Germany",
          "Greece",
          "Hungary",
          "Iceland",
          "Ireland",
          "Italy",
          "Montenegro",
          "Netherlands",
          "Norway",
          "Poland",
          "Portugal",
          "Romania",
          "Serbia",
          "Slovak Republic",
          "Slovenia",
          "Spain",
          "Sweden",
          "Switzerland",
          "Turkey",
          "United Kingdom"
         ],
         "ids": [
          "Albania",
          "Austria",
          "Belgium",
          "Bosnia and Herzegovina",
          "Bulgaria",
          "Croatia",
          "Czech Republic",
          "Denmark",
          "Finland",
          "France",
          "Germany",
          "Greece",
          "Hungary",
          "Iceland",
          "Ireland",
          "Italy",
          "Montenegro",
          "Netherlands",
          "Norway",
          "Poland",
          "Portugal",
          "Romania",
          "Serbia",
          "Slovak Republic",
          "Slovenia",
          "Spain",
          "Sweden",
          "Switzerland",
          "Turkey",
          "United Kingdom"
         ],
         "legendgroup": "Europe",
         "marker": {
          "color": "#EF553B",
          "size": [
           3600523,
           8199783,
           10392226,
           4552198,
           7322858,
           4493312,
           10228744,
           5468120,
           5238460,
           61083916,
           82400996,
           10706290,
           9956108,
           301931,
           4109086,
           58147733,
           684736,
           16570613,
           4627926,
           38518241,
           10642836,
           22276056,
           10150265,
           5447502,
           2009245,
           40448191,
           9031088,
           7554661,
           71158647,
           60776238
          ],
          "sizemode": "area",
          "sizeref": 651201.5288888889,
          "symbol": "circle"
         },
         "mode": "markers",
         "name": "Europe",
         "orientation": "v",
         "showlegend": true,
         "type": "scatter",
         "x": [
          5937.029525999998,
          36126.4927,
          33692.60508,
          7446.298803,
          10680.79282,
          14619.222719999998,
          22833.30851,
          35278.41874,
          33207.0844,
          30470.0167,
          32170.37442,
          27538.41188,
          18008.94444,
          36180.78919,
          40675.99635,
          28569.7197,
          9253.896111,
          36797.93332,
          49357.19017,
          15389.924680000002,
          20509.64777,
          10808.47561,
          9786.534714,
          18678.31435,
          25768.25759,
          28821.0637,
          33859.74835,
          37506.41907,
          8458.276384,
          33203.26128
         ],
         "xaxis": "x",
         "y": [
          76.423,
          79.829,
          79.441,
          74.852,
          73.005,
          75.748,
          76.486,
          78.332,
          79.313,
          80.657,
          79.406,
          79.483,
          73.33800000000002,
          81.757,
          78.885,
          80.546,
          74.543,
          79.762,
          80.196,
          75.563,
          78.098,
          72.476,
          74.002,
          74.663,
          77.926,
          80.941,
          80.884,
          81.70100000000002,
          71.777,
          79.425
         ],
         "yaxis": "y"
        },
        {
         "customdata": [
          [
           "Algeria",
           "Africa",
           2007,
           33333216,
           "DZA",
           12
          ],
          [
           "Angola",
           "Africa",
           2007,
           12420476,
           "AGO",
           24
          ],
          [
           "Benin",
           "Africa",
           2007,
           8078314,
           "BEN",
           204
          ],
          [
           "Botswana",
           "Africa",
           2007,
           1639131,
           "BWA",
           72
          ],
          [
           "Burkina Faso",
           "Africa",
           2007,
           14326203,
           "BFA",
           854
          ],
          [
           "Burundi",
           "Africa",
           2007,
           8390505,
           "BDI",
           108
          ],
          [
           "Cameroon",
           "Africa",
           2007,
           17696293,
           "CMR",
           120
          ],
          [
           "Central African Republic",
           "Africa",
           2007,
           4369038,
           "CAF",
           140
          ],
          [
           "Chad",
           "Africa",
           2007,
           10238807,
           "TCD",
           148
          ],
          [
           "Comoros",
           "Africa",
           2007,
           710960,
           "COM",
           174
          ],
          [
           "Congo, Dem. Rep.",
           "Africa",
           2007,
           64606759,
           "COD",
           180
          ],
          [
           "Congo, Rep.",
           "Africa",
           2007,
           3800610,
           "COG",
           178
          ],
          [
           "Cote d'Ivoire",
           "Africa",
           2007,
           18013409,
           "CIV",
           384
          ],
          [
           "Djibouti",
           "Africa",
           2007,
           496374,
           "DJI",
           262
          ],
          [
           "Egypt",
           "Africa",
           2007,
           80264543,
           "EGY",
           818
          ],
          [
           "Equatorial Guinea",
           "Africa",
           2007,
           551201,
           "GNQ",
           226
          ],
          [
           "Eritrea",
           "Africa",
           2007,
           4906585,
           "ERI",
           232
          ],
          [
           "Ethiopia",
           "Africa",
           2007,
           76511887,
           "ETH",
           231
          ],
          [
           "Gabon",
           "Africa",
           2007,
           1454867,
           "GAB",
           266
          ],
          [
           "Gambia",
           "Africa",
           2007,
           1688359,
           "GMB",
           270
          ],
          [
           "Ghana",
           "Africa",
           2007,
           22873338,
           "GHA",
           288
          ],
          [
           "Guinea",
           "Africa",
           2007,
           9947814,
           "GIN",
           324
          ],
          [
           "Guinea-Bissau",
           "Africa",
           2007,
           1472041,
           "GNB",
           624
          ],
          [
           "Kenya",
           "Africa",
           2007,
           35610177,
           "KEN",
           404
          ],
          [
           "Lesotho",
           "Africa",
           2007,
           2012649,
           "LSO",
           426
          ],
          [
           "Liberia",
           "Africa",
           2007,
           3193942,
           "LBR",
           430
          ],
          [
           "Libya",
           "Africa",
           2007,
           6036914,
           "LBY",
           434
          ],
          [
           "Madagascar",
           "Africa",
           2007,
           19167654,
           "MDG",
           450
          ],
          [
           "Malawi",
           "Africa",
           2007,
           13327079,
           "MWI",
           454
          ],
          [
           "Mali",
           "Africa",
           2007,
           12031795,
           "MLI",
           466
          ],
          [
           "Mauritania",
           "Africa",
           2007,
           3270065,
           "MRT",
           478
          ],
          [
           "Mauritius",
           "Africa",
           2007,
           1250882,
           "MUS",
           480
          ],
          [
           "Morocco",
           "Africa",
           2007,
           33757175,
           "MAR",
           504
          ],
          [
           "Mozambique",
           "Africa",
           2007,
           19951656,
           "MOZ",
           508
          ],
          [
           "Namibia",
           "Africa",
           2007,
           2055080,
           "NAM",
           516
          ],
          [
           "Niger",
           "Africa",
           2007,
           12894865,
           "NER",
           562
          ],
          [
           "Nigeria",
           "Africa",
           2007,
           135031164,
           "NGA",
           566
          ],
          [
           "Reunion",
           "Africa",
           2007,
           798094,
           "REU",
           638
          ],
          [
           "Rwanda",
           "Africa",
           2007,
           8860588,
           "RWA",
           646
          ],
          [
           "Sao Tome and Principe",
           "Africa",
           2007,
           199579,
           "STP",
           678
          ],
          [
           "Senegal",
           "Africa",
           2007,
           12267493,
           "SEN",
           686
          ],
          [
           "Sierra Leone",
           "Africa",
           2007,
           6144562,
           "SLE",
           694
          ],
          [
           "Somalia",
           "Africa",
           2007,
           9118773,
           "SOM",
           706
          ],
          [
           "South Africa",
           "Africa",
           2007,
           43997828,
           "ZAF",
           710
          ],
          [
           "Sudan",
           "Africa",
           2007,
           42292929,
           "SDN",
           736
          ],
          [
           "Swaziland",
           "Africa",
           2007,
           1133066,
           "SWZ",
           748
          ],
          [
           "Tanzania",
           "Africa",
           2007,
           38139640,
           "TZA",
           834
          ],
          [
           "Togo",
           "Africa",
           2007,
           5701579,
           "TGO",
           768
          ],
          [
           "Tunisia",
           "Africa",
           2007,
           10276158,
           "TUN",
           788
          ],
          [
           "Uganda",
           "Africa",
           2007,
           29170398,
           "UGA",
           800
          ],
          [
           "Zambia",
           "Africa",
           2007,
           11746035,
           "ZMB",
           894
          ],
          [
           "Zimbabwe",
           "Africa",
           2007,
           12311143,
           "ZWE",
           716
          ]
         ],
         "hovertemplate": "<b>%{hovertext}</b><br><br>continent=%{customdata[1]}<br>year=%{customdata[2]}<br>gdpPercap=%{x}<br>lifeExp=%{y}<br>pop=%{customdata[3]}<br>country=%{customdata[0]}<br>iso_alpha=%{customdata[4]}<br>iso_num=%{customdata[5]}<extra></extra>",
         "hovertext": [
          "Algeria",
          "Angola",
          "Benin",
          "Botswana",
          "Burkina Faso",
          "Burundi",
          "Cameroon",
          "Central African Republic",
          "Chad",
          "Comoros",
          "Congo, Dem. Rep.",
          "Congo, Rep.",
          "Cote d'Ivoire",
          "Djibouti",
          "Egypt",
          "Equatorial Guinea",
          "Eritrea",
          "Ethiopia",
          "Gabon",
          "Gambia",
          "Ghana",
          "Guinea",
          "Guinea-Bissau",
          "Kenya",
          "Lesotho",
          "Liberia",
          "Libya",
          "Madagascar",
          "Malawi",
          "Mali",
          "Mauritania",
          "Mauritius",
          "Morocco",
          "Mozambique",
          "Namibia",
          "Niger",
          "Nigeria",
          "Reunion",
          "Rwanda",
          "Sao Tome and Principe",
          "Senegal",
          "Sierra Leone",
          "Somalia",
          "South Africa",
          "Sudan",
          "Swaziland",
          "Tanzania",
          "Togo",
          "Tunisia",
          "Uganda",
          "Zambia",
          "Zimbabwe"
         ],
         "ids": [
          "Algeria",
          "Angola",
          "Benin",
          "Botswana",
          "Burkina Faso",
          "Burundi",
          "Cameroon",
          "Central African Republic",
          "Chad",
          "Comoros",
          "Congo, Dem. Rep.",
          "Congo, Rep.",
          "Cote d'Ivoire",
          "Djibouti",
          "Egypt",
          "Equatorial Guinea",
          "Eritrea",
          "Ethiopia",
          "Gabon",
          "Gambia",
          "Ghana",
          "Guinea",
          "Guinea-Bissau",
          "Kenya",
          "Lesotho",
          "Liberia",
          "Libya",
          "Madagascar",
          "Malawi",
          "Mali",
          "Mauritania",
          "Mauritius",
          "Morocco",
          "Mozambique",
          "Namibia",
          "Niger",
          "Nigeria",
          "Reunion",
          "Rwanda",
          "Sao Tome and Principe",
          "Senegal",
          "Sierra Leone",
          "Somalia",
          "South Africa",
          "Sudan",
          "Swaziland",
          "Tanzania",
          "Togo",
          "Tunisia",
          "Uganda",
          "Zambia",
          "Zimbabwe"
         ],
         "legendgroup": "Africa",
         "marker": {
          "color": "#00cc96",
          "size": [
           33333216,
           12420476,
           8078314,
           1639131,
           14326203,
           8390505,
           17696293,
           4369038,
           10238807,
           710960,
           64606759,
           3800610,
           18013409,
           496374,
           80264543,
           551201,
           4906585,
           76511887,
           1454867,
           1688359,
           22873338,
           9947814,
           1472041,
           35610177,
           2012649,
           3193942,
           6036914,
           19167654,
           13327079,
           12031795,
           3270065,
           1250882,
           33757175,
           19951656,
           2055080,
           12894865,
           135031164,
           798094,
           8860588,
           199579,
           12267493,
           6144562,
           9118773,
           43997828,
           42292929,
           1133066,
           38139640,
           5701579,
           10276158,
           29170398,
           11746035,
           12311143
          ],
          "sizemode": "area",
          "sizeref": 651201.5288888889,
          "symbol": "circle"
         },
         "mode": "markers",
         "name": "Africa",
         "orientation": "v",
         "showlegend": true,
         "type": "scatter",
         "x": [
          6223.367465,
          4797.231267,
          1441.284873,
          12569.85177,
          1217.032994,
          430.0706916,
          2042.09524,
          706.016537,
          1704.063724,
          986.1478792,
          277.5518587,
          3632.557798,
          1544.750112,
          2082.4815670000007,
          5581.180998,
          12154.08975,
          641.3695236000002,
          690.8055759,
          13206.48452,
          752.7497265,
          1327.60891,
          942.6542111,
          579.2317429999998,
          1463.249282,
          1569.331442,
          414.5073415,
          12057.49928,
          1044.770126,
          759.3499101,
          1042.581557,
          1803.151496,
          10956.99112,
          3820.17523,
          823.6856205,
          4811.060429,
          619.6768923999998,
          2013.977305,
          7670.122558,
          863.0884639000002,
          1598.435089,
          1712.472136,
          862.5407561000002,
          926.1410683,
          9269.657808,
          2602.394995,
          4513.480643,
          1107.482182,
          882.9699437999999,
          7092.923025,
          1056.380121,
          1271.211593,
          469.70929810000007
         ],
         "xaxis": "x",
         "y": [
          72.301,
          42.731,
          56.728,
          50.728,
          52.295,
          49.58,
          50.43,
          44.74100000000001,
          50.651,
          65.152,
          46.462,
          55.322,
          48.328,
          54.791,
          71.33800000000002,
          51.57899999999999,
          58.04,
          52.947,
          56.735,
          59.448,
          60.022,
          56.007,
          46.38800000000001,
          54.11,
          42.592,
          45.678,
          73.952,
          59.44300000000001,
          48.303,
          54.467,
          64.164,
          72.801,
          71.164,
          42.082,
          52.90600000000001,
          56.867,
          46.859,
          76.442,
          46.242,
          65.528,
          63.062,
          42.56800000000001,
          48.159,
          49.339,
          58.556,
          39.613,
          52.517,
          58.42,
          73.923,
          51.542,
          42.38399999999999,
          43.487
         ],
         "yaxis": "y"
        },
        {
         "customdata": [
          [
           "Argentina",
           "Americas",
           2007,
           40301927,
           "ARG",
           32
          ],
          [
           "Bolivia",
           "Americas",
           2007,
           9119152,
           "BOL",
           68
          ],
          [
           "Brazil",
           "Americas",
           2007,
           190010647,
           "BRA",
           76
          ],
          [
           "Canada",
           "Americas",
           2007,
           33390141,
           "CAN",
           124
          ],
          [
           "Chile",
           "Americas",
           2007,
           16284741,
           "CHL",
           152
          ],
          [
           "Colombia",
           "Americas",
           2007,
           44227550,
           "COL",
           170
          ],
          [
           "Costa Rica",
           "Americas",
           2007,
           4133884,
           "CRI",
           188
          ],
          [
           "Cuba",
           "Americas",
           2007,
           11416987,
           "CUB",
           192
          ],
          [
           "Dominican Republic",
           "Americas",
           2007,
           9319622,
           "DOM",
           214
          ],
          [
           "Ecuador",
           "Americas",
           2007,
           13755680,
           "ECU",
           218
          ],
          [
           "El Salvador",
           "Americas",
           2007,
           6939688,
           "SLV",
           222
          ],
          [
           "Guatemala",
           "Americas",
           2007,
           12572928,
           "GTM",
           320
          ],
          [
           "Haiti",
           "Americas",
           2007,
           8502814,
           "HTI",
           332
          ],
          [
           "Honduras",
           "Americas",
           2007,
           7483763,
           "HND",
           340
          ],
          [
           "Jamaica",
           "Americas",
           2007,
           2780132,
           "JAM",
           388
          ],
          [
           "Mexico",
           "Americas",
           2007,
           108700891,
           "MEX",
           484
          ],
          [
           "Nicaragua",
           "Americas",
           2007,
           5675356,
           "NIC",
           558
          ],
          [
           "Panama",
           "Americas",
           2007,
           3242173,
           "PAN",
           591
          ],
          [
           "Paraguay",
           "Americas",
           2007,
           6667147,
           "PRY",
           600
          ],
          [
           "Peru",
           "Americas",
           2007,
           28674757,
           "PER",
           604
          ],
          [
           "Puerto Rico",
           "Americas",
           2007,
           3942491,
           "PRI",
           630
          ],
          [
           "Trinidad and Tobago",
           "Americas",
           2007,
           1056608,
           "TTO",
           780
          ],
          [
           "United States",
           "Americas",
           2007,
           301139947,
           "USA",
           840
          ],
          [
           "Uruguay",
           "Americas",
           2007,
           3447496,
           "URY",
           858
          ],
          [
           "Venezuela",
           "Americas",
           2007,
           26084662,
           "VEN",
           862
          ]
         ],
         "hovertemplate": "<b>%{hovertext}</b><br><br>continent=%{customdata[1]}<br>year=%{customdata[2]}<br>gdpPercap=%{x}<br>lifeExp=%{y}<br>pop=%{customdata[3]}<br>country=%{customdata[0]}<br>iso_alpha=%{customdata[4]}<br>iso_num=%{customdata[5]}<extra></extra>",
         "hovertext": [
          "Argentina",
          "Bolivia",
          "Brazil",
          "Canada",
          "Chile",
          "Colombia",
          "Costa Rica",
          "Cuba",
          "Dominican Republic",
          "Ecuador",
          "El Salvador",
          "Guatemala",
          "Haiti",
          "Honduras",
          "Jamaica",
          "Mexico",
          "Nicaragua",
          "Panama",
          "Paraguay",
          "Peru",
          "Puerto Rico",
          "Trinidad and Tobago",
          "United States",
          "Uruguay",
          "Venezuela"
         ],
         "ids": [
          "Argentina",
          "Bolivia",
          "Brazil",
          "Canada",
          "Chile",
          "Colombia",
          "Costa Rica",
          "Cuba",
          "Dominican Republic",
          "Ecuador",
          "El Salvador",
          "Guatemala",
          "Haiti",
          "Honduras",
          "Jamaica",
          "Mexico",
          "Nicaragua",
          "Panama",
          "Paraguay",
          "Peru",
          "Puerto Rico",
          "Trinidad and Tobago",
          "United States",
          "Uruguay",
          "Venezuela"
         ],
         "legendgroup": "Americas",
         "marker": {
          "color": "#ab63fa",
          "size": [
           40301927,
           9119152,
           190010647,
           33390141,
           16284741,
           44227550,
           4133884,
           11416987,
           9319622,
           13755680,
           6939688,
           12572928,
           8502814,
           7483763,
           2780132,
           108700891,
           5675356,
           3242173,
           6667147,
           28674757,
           3942491,
           1056608,
           301139947,
           3447496,
           26084662
          ],
          "sizemode": "area",
          "sizeref": 651201.5288888889,
          "symbol": "circle"
         },
         "mode": "markers",
         "name": "Americas",
         "orientation": "v",
         "showlegend": true,
         "type": "scatter",
         "x": [
          12779.37964,
          3822.137084,
          9065.800825,
          36319.23501,
          13171.63885,
          7006.580419,
          9645.06142,
          8948.102923,
          6025.3747520000015,
          6873.262326000001,
          5728.353514,
          5186.050003,
          1201.637154,
          3548.3308460000007,
          7320.8802620000015,
          11977.57496,
          2749.320965,
          9809.185636,
          4172.838464,
          7408.905561,
          19328.70901,
          18008.50924,
          42951.65309,
          10611.46299,
          11415.80569
         ],
         "xaxis": "x",
         "y": [
          75.32,
          65.554,
          72.39,
          80.653,
          78.553,
          72.889,
          78.782,
          78.273,
          72.235,
          74.994,
          71.878,
          70.259,
          60.916,
          70.19800000000001,
          72.567,
          76.195,
          72.899,
          75.53699999999998,
          71.752,
          71.421,
          78.74600000000002,
          69.819,
          78.242,
          76.384,
          73.747
         ],
         "yaxis": "y"
        },
        {
         "customdata": [
          [
           "Australia",
           "Oceania",
           2007,
           20434176,
           "AUS",
           36
          ],
          [
           "New Zealand",
           "Oceania",
           2007,
           4115771,
           "NZL",
           554
          ]
         ],
         "hovertemplate": "<b>%{hovertext}</b><br><br>continent=%{customdata[1]}<br>year=%{customdata[2]}<br>gdpPercap=%{x}<br>lifeExp=%{y}<br>pop=%{customdata[3]}<br>country=%{customdata[0]}<br>iso_alpha=%{customdata[4]}<br>iso_num=%{customdata[5]}<extra></extra>",
         "hovertext": [
          "Australia",
          "New Zealand"
         ],
         "ids": [
          "Australia",
          "New Zealand"
         ],
         "legendgroup": "Oceania",
         "marker": {
          "color": "#FFA15A",
          "size": [
           20434176,
           4115771
          ],
          "sizemode": "area",
          "sizeref": 651201.5288888889,
          "symbol": "circle"
         },
         "mode": "markers",
         "name": "Oceania",
         "orientation": "v",
         "showlegend": true,
         "type": "scatter",
         "x": [
          34435.367439999995,
          25185.00911
         ],
         "xaxis": "x",
         "y": [
          81.235,
          80.204
         ],
         "yaxis": "y"
        }
       ],
       "layout": {
        "legend": {
         "itemsizing": "constant",
         "title": {
          "text": "continent"
         },
         "tracegroupgap": 0
        },
        "margin": {
         "t": 60
        },
        "template": {
         "data": {
          "bar": [
           {
            "error_x": {
             "color": "#2a3f5f"
            },
            "error_y": {
             "color": "#2a3f5f"
            },
            "marker": {
             "line": {
              "color": "#E5ECF6",
              "width": 0.5
             },
             "pattern": {
              "fillmode": "overlay",
              "size": 10,
              "solidity": 0.2
             }
            },
            "type": "bar"
           }
          ],
          "barpolar": [
           {
            "marker": {
             "line": {
              "color": "#E5ECF6",
              "width": 0.5
             },
             "pattern": {
              "fillmode": "overlay",
              "size": 10,
              "solidity": 0.2
             }
            },
            "type": "barpolar"
           }
          ],
          "carpet": [
           {
            "aaxis": {
             "endlinecolor": "#2a3f5f",
             "gridcolor": "white",
             "linecolor": "white",
             "minorgridcolor": "white",
             "startlinecolor": "#2a3f5f"
            },
            "baxis": {
             "endlinecolor": "#2a3f5f",
             "gridcolor": "white",
             "linecolor": "white",
             "minorgridcolor": "white",
             "startlinecolor": "#2a3f5f"
            },
            "type": "carpet"
           }
          ],
          "choropleth": [
           {
            "colorbar": {
             "outlinewidth": 0,
             "ticks": ""
            },
            "type": "choropleth"
           }
          ],
          "contour": [
           {
            "colorbar": {
             "outlinewidth": 0,
             "ticks": ""
            },
            "colorscale": [
             [
              0,
              "#0d0887"
             ],
             [
              0.1111111111111111,
              "#46039f"
             ],
             [
              0.2222222222222222,
              "#7201a8"
             ],
             [
              0.3333333333333333,
              "#9c179e"
             ],
             [
              0.4444444444444444,
              "#bd3786"
             ],
             [
              0.5555555555555556,
              "#d8576b"
             ],
             [
              0.6666666666666666,
              "#ed7953"
             ],
             [
              0.7777777777777778,
              "#fb9f3a"
             ],
             [
              0.8888888888888888,
              "#fdca26"
             ],
             [
              1,
              "#f0f921"
             ]
            ],
            "type": "contour"
           }
          ],
          "contourcarpet": [
           {
            "colorbar": {
             "outlinewidth": 0,
             "ticks": ""
            },
            "type": "contourcarpet"
           }
          ],
          "heatmap": [
           {
            "colorbar": {
             "outlinewidth": 0,
             "ticks": ""
            },
            "colorscale": [
             [
              0,
              "#0d0887"
             ],
             [
              0.1111111111111111,
              "#46039f"
             ],
             [
              0.2222222222222222,
              "#7201a8"
             ],
             [
              0.3333333333333333,
              "#9c179e"
             ],
             [
              0.4444444444444444,
              "#bd3786"
             ],
             [
              0.5555555555555556,
              "#d8576b"
             ],
             [
              0.6666666666666666,
              "#ed7953"
             ],
             [
              0.7777777777777778,
              "#fb9f3a"
             ],
             [
              0.8888888888888888,
              "#fdca26"
             ],
             [
              1,
              "#f0f921"
             ]
            ],
            "type": "heatmap"
           }
          ],
          "heatmapgl": [
           {
            "colorbar": {
             "outlinewidth": 0,
             "ticks": ""
            },
            "colorscale": [
             [
              0,
              "#0d0887"
             ],
             [
              0.1111111111111111,
              "#46039f"
             ],
             [
              0.2222222222222222,
              "#7201a8"
             ],
             [
              0.3333333333333333,
              "#9c179e"
             ],
             [
              0.4444444444444444,
              "#bd3786"
             ],
             [
              0.5555555555555556,
              "#d8576b"
             ],
             [
              0.6666666666666666,
              "#ed7953"
             ],
             [
              0.7777777777777778,
              "#fb9f3a"
             ],
             [
              0.8888888888888888,
              "#fdca26"
             ],
             [
              1,
              "#f0f921"
             ]
            ],
            "type": "heatmapgl"
           }
          ],
          "histogram": [
           {
            "marker": {
             "pattern": {
              "fillmode": "overlay",
              "size": 10,
              "solidity": 0.2
             }
            },
            "type": "histogram"
           }
          ],
          "histogram2d": [
           {
            "colorbar": {
             "outlinewidth": 0,
             "ticks": ""
            },
            "colorscale": [
             [
              0,
              "#0d0887"
             ],
             [
              0.1111111111111111,
              "#46039f"
             ],
             [
              0.2222222222222222,
              "#7201a8"
             ],
             [
              0.3333333333333333,
              "#9c179e"
             ],
             [
              0.4444444444444444,
              "#bd3786"
             ],
             [
              0.5555555555555556,
              "#d8576b"
             ],
             [
              0.6666666666666666,
              "#ed7953"
             ],
             [
              0.7777777777777778,
              "#fb9f3a"
             ],
             [
              0.8888888888888888,
              "#fdca26"
             ],
             [
              1,
              "#f0f921"
             ]
            ],
            "type": "histogram2d"
           }
          ],
          "histogram2dcontour": [
           {
            "colorbar": {
             "outlinewidth": 0,
             "ticks": ""
            },
            "colorscale": [
             [
              0,
              "#0d0887"
             ],
             [
              0.1111111111111111,
              "#46039f"
             ],
             [
              0.2222222222222222,
              "#7201a8"
             ],
             [
              0.3333333333333333,
              "#9c179e"
             ],
             [
              0.4444444444444444,
              "#bd3786"
             ],
             [
              0.5555555555555556,
              "#d8576b"
             ],
             [
              0.6666666666666666,
              "#ed7953"
             ],
             [
              0.7777777777777778,
              "#fb9f3a"
             ],
             [
              0.8888888888888888,
              "#fdca26"
             ],
             [
              1,
              "#f0f921"
             ]
            ],
            "type": "histogram2dcontour"
           }
          ],
          "mesh3d": [
           {
            "colorbar": {
             "outlinewidth": 0,
             "ticks": ""
            },
            "type": "mesh3d"
           }
          ],
          "parcoords": [
           {
            "line": {
             "colorbar": {
              "outlinewidth": 0,
              "ticks": ""
             }
            },
            "type": "parcoords"
           }
          ],
          "pie": [
           {
            "automargin": true,
            "type": "pie"
           }
          ],
          "scatter": [
           {
            "marker": {
             "colorbar": {
              "outlinewidth": 0,
              "ticks": ""
             }
            },
            "type": "scatter"
           }
          ],
          "scatter3d": [
           {
            "line": {
             "colorbar": {
              "outlinewidth": 0,
              "ticks": ""
             }
            },
            "marker": {
             "colorbar": {
              "outlinewidth": 0,
              "ticks": ""
             }
            },
            "type": "scatter3d"
           }
          ],
          "scattercarpet": [
           {
            "marker": {
             "colorbar": {
              "outlinewidth": 0,
              "ticks": ""
             }
            },
            "type": "scattercarpet"
           }
          ],
          "scattergeo": [
           {
            "marker": {
             "colorbar": {
              "outlinewidth": 0,
              "ticks": ""
             }
            },
            "type": "scattergeo"
           }
          ],
          "scattergl": [
           {
            "marker": {
             "colorbar": {
              "outlinewidth": 0,
              "ticks": ""
             }
            },
            "type": "scattergl"
           }
          ],
          "scattermapbox": [
           {
            "marker": {
             "colorbar": {
              "outlinewidth": 0,
              "ticks": ""
             }
            },
            "type": "scattermapbox"
           }
          ],
          "scatterpolar": [
           {
            "marker": {
             "colorbar": {
              "outlinewidth": 0,
              "ticks": ""
             }
            },
            "type": "scatterpolar"
           }
          ],
          "scatterpolargl": [
           {
            "marker": {
             "colorbar": {
              "outlinewidth": 0,
              "ticks": ""
             }
            },
            "type": "scatterpolargl"
           }
          ],
          "scatterternary": [
           {
            "marker": {
             "colorbar": {
              "outlinewidth": 0,
              "ticks": ""
             }
            },
            "type": "scatterternary"
           }
          ],
          "surface": [
           {
            "colorbar": {
             "outlinewidth": 0,
             "ticks": ""
            },
            "colorscale": [
             [
              0,
              "#0d0887"
             ],
             [
              0.1111111111111111,
              "#46039f"
             ],
             [
              0.2222222222222222,
              "#7201a8"
             ],
             [
              0.3333333333333333,
              "#9c179e"
             ],
             [
              0.4444444444444444,
              "#bd3786"
             ],
             [
              0.5555555555555556,
              "#d8576b"
             ],
             [
              0.6666666666666666,
              "#ed7953"
             ],
             [
              0.7777777777777778,
              "#fb9f3a"
             ],
             [
              0.8888888888888888,
              "#fdca26"
             ],
             [
              1,
              "#f0f921"
             ]
            ],
            "type": "surface"
           }
          ],
          "table": [
           {
            "cells": {
             "fill": {
              "color": "#EBF0F8"
             },
             "line": {
              "color": "white"
             }
            },
            "header": {
             "fill": {
              "color": "#C8D4E3"
             },
             "line": {
              "color": "white"
             }
            },
            "type": "table"
           }
          ]
         },
         "layout": {
          "annotationdefaults": {
           "arrowcolor": "#2a3f5f",
           "arrowhead": 0,
           "arrowwidth": 1
          },
          "autotypenumbers": "strict",
          "coloraxis": {
           "colorbar": {
            "outlinewidth": 0,
            "ticks": ""
           }
          },
          "colorscale": {
           "diverging": [
            [
             0,
             "#8e0152"
            ],
            [
             0.1,
             "#c51b7d"
            ],
            [
             0.2,
             "#de77ae"
            ],
            [
             0.3,
             "#f1b6da"
            ],
            [
             0.4,
             "#fde0ef"
            ],
            [
             0.5,
             "#f7f7f7"
            ],
            [
             0.6,
             "#e6f5d0"
            ],
            [
             0.7,
             "#b8e186"
            ],
            [
             0.8,
             "#7fbc41"
            ],
            [
             0.9,
             "#4d9221"
            ],
            [
             1,
             "#276419"
            ]
           ],
           "sequential": [
            [
             0,
             "#0d0887"
            ],
            [
             0.1111111111111111,
             "#46039f"
            ],
            [
             0.2222222222222222,
             "#7201a8"
            ],
            [
             0.3333333333333333,
             "#9c179e"
            ],
            [
             0.4444444444444444,
             "#bd3786"
            ],
            [
             0.5555555555555556,
             "#d8576b"
            ],
            [
             0.6666666666666666,
             "#ed7953"
            ],
            [
             0.7777777777777778,
             "#fb9f3a"
            ],
            [
             0.8888888888888888,
             "#fdca26"
            ],
            [
             1,
             "#f0f921"
            ]
           ],
           "sequentialminus": [
            [
             0,
             "#0d0887"
            ],
            [
             0.1111111111111111,
             "#46039f"
            ],
            [
             0.2222222222222222,
             "#7201a8"
            ],
            [
             0.3333333333333333,
             "#9c179e"
            ],
            [
             0.4444444444444444,
             "#bd3786"
            ],
            [
             0.5555555555555556,
             "#d8576b"
            ],
            [
             0.6666666666666666,
             "#ed7953"
            ],
            [
             0.7777777777777778,
             "#fb9f3a"
            ],
            [
             0.8888888888888888,
             "#fdca26"
            ],
            [
             1,
             "#f0f921"
            ]
           ]
          },
          "colorway": [
           "#636efa",
           "#EF553B",
           "#00cc96",
           "#ab63fa",
           "#FFA15A",
           "#19d3f3",
           "#FF6692",
           "#B6E880",
           "#FF97FF",
           "#FECB52"
          ],
          "font": {
           "color": "#2a3f5f"
          },
          "geo": {
           "bgcolor": "white",
           "lakecolor": "white",
           "landcolor": "#E5ECF6",
           "showlakes": true,
           "showland": true,
           "subunitcolor": "white"
          },
          "hoverlabel": {
           "align": "left"
          },
          "hovermode": "closest",
          "mapbox": {
           "style": "light"
          },
          "paper_bgcolor": "white",
          "plot_bgcolor": "#E5ECF6",
          "polar": {
           "angularaxis": {
            "gridcolor": "white",
            "linecolor": "white",
            "ticks": ""
           },
           "bgcolor": "#E5ECF6",
           "radialaxis": {
            "gridcolor": "white",
            "linecolor": "white",
            "ticks": ""
           }
          },
          "scene": {
           "xaxis": {
            "backgroundcolor": "#E5ECF6",
            "gridcolor": "white",
            "gridwidth": 2,
            "linecolor": "white",
            "showbackground": true,
            "ticks": "",
            "zerolinecolor": "white"
           },
           "yaxis": {
            "backgroundcolor": "#E5ECF6",
            "gridcolor": "white",
            "gridwidth": 2,
            "linecolor": "white",
            "showbackground": true,
            "ticks": "",
            "zerolinecolor": "white"
           },
           "zaxis": {
            "backgroundcolor": "#E5ECF6",
            "gridcolor": "white",
            "gridwidth": 2,
            "linecolor": "white",
            "showbackground": true,
            "ticks": "",
            "zerolinecolor": "white"
           }
          },
          "shapedefaults": {
           "line": {
            "color": "#2a3f5f"
           }
          },
          "ternary": {
           "aaxis": {
            "gridcolor": "white",
            "linecolor": "white",
            "ticks": ""
           },
           "baxis": {
            "gridcolor": "white",
            "linecolor": "white",
            "ticks": ""
           },
           "bgcolor": "#E5ECF6",
           "caxis": {
            "gridcolor": "white",
            "linecolor": "white",
            "ticks": ""
           }
          },
          "title": {
           "x": 0.05
          },
          "xaxis": {
           "automargin": true,
           "gridcolor": "white",
           "linecolor": "white",
           "ticks": "",
           "title": {
            "standoff": 15
           },
           "zerolinecolor": "white",
           "zerolinewidth": 2
          },
          "yaxis": {
           "automargin": true,
           "gridcolor": "white",
           "linecolor": "white",
           "ticks": "",
           "title": {
            "standoff": 15
           },
           "zerolinecolor": "white",
           "zerolinewidth": 2
          }
         }
        },
        "xaxis": {
         "anchor": "y",
         "domain": [
          0,
          1
         ],
         "title": {
          "text": "gdpPercap"
         },
         "type": "log"
        },
        "yaxis": {
         "anchor": "x",
         "domain": [
          0,
          1
         ],
         "range": [
          20,
          100
         ],
         "title": {
          "text": "lifeExp"
         }
        }
       }
      }
     },
     "metadata": {},
     "output_type": "display_data"
    }
   ],
   "source": [
    "px.scatter(df, x='gdpPercap', y='lifeExp', color='continent', size='pop', \n",
    "                 log_x=True, size_max=45, hover_name='country', hover_data=df.columns,\n",
    "                 animation_frame='year', animation_group='country', range_y=[20, 100])"
   ]
  },
  {
   "cell_type": "code",
   "execution_count": 9,
   "metadata": {},
   "outputs": [
    {
     "data": {
      "application/vnd.plotly.v1+json": {
       "config": {
        "plotlyServerURL": "https://plot.ly"
       },
       "data": [
        {
         "customdata": [
          [
           "Afghanistan",
           "Asia",
           2007,
           31889923,
           "AFG",
           4
          ],
          [
           "Bahrain",
           "Asia",
           2007,
           708573,
           "BHR",
           48
          ],
          [
           "Bangladesh",
           "Asia",
           2007,
           150448339,
           "BGD",
           50
          ],
          [
           "Cambodia",
           "Asia",
           2007,
           14131858,
           "KHM",
           116
          ],
          [
           "China",
           "Asia",
           2007,
           1318683096,
           "CHN",
           156
          ],
          [
           "Hong Kong, China",
           "Asia",
           2007,
           6980412,
           "HKG",
           344
          ],
          [
           "India",
           "Asia",
           2007,
           1110396331,
           "IND",
           356
          ],
          [
           "Indonesia",
           "Asia",
           2007,
           223547000,
           "IDN",
           360
          ],
          [
           "Iran",
           "Asia",
           2007,
           69453570,
           "IRN",
           364
          ],
          [
           "Iraq",
           "Asia",
           2007,
           27499638,
           "IRQ",
           368
          ],
          [
           "Israel",
           "Asia",
           2007,
           6426679,
           "ISR",
           376
          ],
          [
           "Japan",
           "Asia",
           2007,
           127467972,
           "JPN",
           392
          ],
          [
           "Jordan",
           "Asia",
           2007,
           6053193,
           "JOR",
           400
          ],
          [
           "Korea, Dem. Rep.",
           "Asia",
           2007,
           23301725,
           "KOR",
           410
          ],
          [
           "Korea, Rep.",
           "Asia",
           2007,
           49044790,
           "KOR",
           410
          ],
          [
           "Kuwait",
           "Asia",
           2007,
           2505559,
           "KWT",
           414
          ],
          [
           "Lebanon",
           "Asia",
           2007,
           3921278,
           "LBN",
           422
          ],
          [
           "Malaysia",
           "Asia",
           2007,
           24821286,
           "MYS",
           458
          ],
          [
           "Mongolia",
           "Asia",
           2007,
           2874127,
           "MNG",
           496
          ],
          [
           "Myanmar",
           "Asia",
           2007,
           47761980,
           "MMR",
           104
          ],
          [
           "Nepal",
           "Asia",
           2007,
           28901790,
           "NPL",
           524
          ],
          [
           "Oman",
           "Asia",
           2007,
           3204897,
           "OMN",
           512
          ],
          [
           "Pakistan",
           "Asia",
           2007,
           169270617,
           "PAK",
           586
          ],
          [
           "Philippines",
           "Asia",
           2007,
           91077287,
           "PHL",
           608
          ],
          [
           "Saudi Arabia",
           "Asia",
           2007,
           27601038,
           "SAU",
           682
          ],
          [
           "Singapore",
           "Asia",
           2007,
           4553009,
           "SGP",
           702
          ],
          [
           "Sri Lanka",
           "Asia",
           2007,
           20378239,
           "LKA",
           144
          ],
          [
           "Syria",
           "Asia",
           2007,
           19314747,
           "SYR",
           760
          ],
          [
           "Taiwan",
           "Asia",
           2007,
           23174294,
           "TWN",
           158
          ],
          [
           "Thailand",
           "Asia",
           2007,
           65068149,
           "THA",
           764
          ],
          [
           "Vietnam",
           "Asia",
           2007,
           85262356,
           "VNM",
           704
          ],
          [
           "West Bank and Gaza",
           "Asia",
           2007,
           4018332,
           "PSE",
           275
          ],
          [
           "Yemen, Rep.",
           "Asia",
           2007,
           22211743,
           "YEM",
           887
          ]
         ],
         "hovertemplate": "<b>%{hovertext}</b><br><br>continent=%{customdata[1]}<br>year=%{customdata[2]}<br>gdpPercap=%{x}<br>lifeExp=%{y}<br>pop=%{customdata[3]}<br>country=%{customdata[0]}<br>iso_alpha=%{customdata[4]}<br>iso_num=%{customdata[5]}<extra></extra>",
         "hovertext": [
          "Afghanistan",
          "Bahrain",
          "Bangladesh",
          "Cambodia",
          "China",
          "Hong Kong, China",
          "India",
          "Indonesia",
          "Iran",
          "Iraq",
          "Israel",
          "Japan",
          "Jordan",
          "Korea, Dem. Rep.",
          "Korea, Rep.",
          "Kuwait",
          "Lebanon",
          "Malaysia",
          "Mongolia",
          "Myanmar",
          "Nepal",
          "Oman",
          "Pakistan",
          "Philippines",
          "Saudi Arabia",
          "Singapore",
          "Sri Lanka",
          "Syria",
          "Taiwan",
          "Thailand",
          "Vietnam",
          "West Bank and Gaza",
          "Yemen, Rep."
         ],
         "ids": [
          "Afghanistan",
          "Bahrain",
          "Bangladesh",
          "Cambodia",
          "China",
          "Hong Kong, China",
          "India",
          "Indonesia",
          "Iran",
          "Iraq",
          "Israel",
          "Japan",
          "Jordan",
          "Korea, Dem. Rep.",
          "Korea, Rep.",
          "Kuwait",
          "Lebanon",
          "Malaysia",
          "Mongolia",
          "Myanmar",
          "Nepal",
          "Oman",
          "Pakistan",
          "Philippines",
          "Saudi Arabia",
          "Singapore",
          "Sri Lanka",
          "Syria",
          "Taiwan",
          "Thailand",
          "Vietnam",
          "West Bank and Gaza",
          "Yemen, Rep."
         ],
         "legendgroup": "Asia",
         "marker": {
          "color": "rgb(76,114,176)",
          "size": [
           31889923,
           708573,
           150448339,
           14131858,
           1318683096,
           6980412,
           1110396331,
           223547000,
           69453570,
           27499638,
           6426679,
           127467972,
           6053193,
           23301725,
           49044790,
           2505559,
           3921278,
           24821286,
           2874127,
           47761980,
           28901790,
           3204897,
           169270617,
           91077287,
           27601038,
           4553009,
           20378239,
           19314747,
           23174294,
           65068149,
           85262356,
           4018332,
           22211743
          ],
          "sizemode": "area",
          "sizeref": 651201.5288888889,
          "symbol": "circle"
         },
         "mode": "markers",
         "name": "Asia",
         "orientation": "v",
         "showlegend": true,
         "type": "scatter",
         "x": [
          974.5803384,
          29796.04834,
          1391.253792,
          1713.778686,
          4959.114854,
          39724.97867,
          2452.210407,
          3540.651564,
          11605.71449,
          4471.061906,
          25523.2771,
          31656.06806,
          4519.461171,
          1593.06548,
          23348.139730000006,
          47306.98978,
          10461.05868,
          12451.6558,
          3095.7722710000007,
          944,
          1091.359778,
          22316.19287,
          2605.94758,
          3190.481016,
          21654.83194,
          47143.17964,
          3970.095407,
          4184.548089,
          28718.27684,
          7458.396326999998,
          2441.576404,
          3025.349798,
          2280.769906
         ],
         "xaxis": "x",
         "y": [
          43.828,
          75.635,
          64.062,
          59.723,
          72.961,
          82.208,
          64.69800000000001,
          70.65,
          70.964,
          59.545,
          80.745,
          82.603,
          72.535,
          67.297,
          78.623,
          77.58800000000002,
          71.993,
          74.241,
          66.803,
          62.069,
          63.785,
          75.64,
          65.483,
          71.688,
          72.777,
          79.972,
          72.396,
          74.143,
          78.4,
          70.616,
          74.249,
          73.422,
          62.698
         ],
         "yaxis": "y"
        },
        {
         "customdata": [
          [
           "Albania",
           "Europe",
           2007,
           3600523,
           "ALB",
           8
          ],
          [
           "Austria",
           "Europe",
           2007,
           8199783,
           "AUT",
           40
          ],
          [
           "Belgium",
           "Europe",
           2007,
           10392226,
           "BEL",
           56
          ],
          [
           "Bosnia and Herzegovina",
           "Europe",
           2007,
           4552198,
           "BIH",
           70
          ],
          [
           "Bulgaria",
           "Europe",
           2007,
           7322858,
           "BGR",
           100
          ],
          [
           "Croatia",
           "Europe",
           2007,
           4493312,
           "HRV",
           191
          ],
          [
           "Czech Republic",
           "Europe",
           2007,
           10228744,
           "CZE",
           203
          ],
          [
           "Denmark",
           "Europe",
           2007,
           5468120,
           "DNK",
           208
          ],
          [
           "Finland",
           "Europe",
           2007,
           5238460,
           "FIN",
           246
          ],
          [
           "France",
           "Europe",
           2007,
           61083916,
           "FRA",
           250
          ],
          [
           "Germany",
           "Europe",
           2007,
           82400996,
           "DEU",
           276
          ],
          [
           "Greece",
           "Europe",
           2007,
           10706290,
           "GRC",
           300
          ],
          [
           "Hungary",
           "Europe",
           2007,
           9956108,
           "HUN",
           348
          ],
          [
           "Iceland",
           "Europe",
           2007,
           301931,
           "ISL",
           352
          ],
          [
           "Ireland",
           "Europe",
           2007,
           4109086,
           "IRL",
           372
          ],
          [
           "Italy",
           "Europe",
           2007,
           58147733,
           "ITA",
           380
          ],
          [
           "Montenegro",
           "Europe",
           2007,
           684736,
           "MNE",
           499
          ],
          [
           "Netherlands",
           "Europe",
           2007,
           16570613,
           "NLD",
           528
          ],
          [
           "Norway",
           "Europe",
           2007,
           4627926,
           "NOR",
           578
          ],
          [
           "Poland",
           "Europe",
           2007,
           38518241,
           "POL",
           616
          ],
          [
           "Portugal",
           "Europe",
           2007,
           10642836,
           "PRT",
           620
          ],
          [
           "Romania",
           "Europe",
           2007,
           22276056,
           "ROU",
           642
          ],
          [
           "Serbia",
           "Europe",
           2007,
           10150265,
           "SRB",
           688
          ],
          [
           "Slovak Republic",
           "Europe",
           2007,
           5447502,
           "SVK",
           703
          ],
          [
           "Slovenia",
           "Europe",
           2007,
           2009245,
           "SVN",
           705
          ],
          [
           "Spain",
           "Europe",
           2007,
           40448191,
           "ESP",
           724
          ],
          [
           "Sweden",
           "Europe",
           2007,
           9031088,
           "SWE",
           752
          ],
          [
           "Switzerland",
           "Europe",
           2007,
           7554661,
           "CHE",
           756
          ],
          [
           "Turkey",
           "Europe",
           2007,
           71158647,
           "TUR",
           792
          ],
          [
           "United Kingdom",
           "Europe",
           2007,
           60776238,
           "GBR",
           826
          ]
         ],
         "hovertemplate": "<b>%{hovertext}</b><br><br>continent=%{customdata[1]}<br>year=%{customdata[2]}<br>gdpPercap=%{x}<br>lifeExp=%{y}<br>pop=%{customdata[3]}<br>country=%{customdata[0]}<br>iso_alpha=%{customdata[4]}<br>iso_num=%{customdata[5]}<extra></extra>",
         "hovertext": [
          "Albania",
          "Austria",
          "Belgium",
          "Bosnia and Herzegovina",
          "Bulgaria",
          "Croatia",
          "Czech Republic",
          "Denmark",
          "Finland",
          "France",
          "Germany",
          "Greece",
          "Hungary",
          "Iceland",
          "Ireland",
          "Italy",
          "Montenegro",
          "Netherlands",
          "Norway",
          "Poland",
          "Portugal",
          "Romania",
          "Serbia",
          "Slovak Republic",
          "Slovenia",
          "Spain",
          "Sweden",
          "Switzerland",
          "Turkey",
          "United Kingdom"
         ],
         "ids": [
          "Albania",
          "Austria",
          "Belgium",
          "Bosnia and Herzegovina",
          "Bulgaria",
          "Croatia",
          "Czech Republic",
          "Denmark",
          "Finland",
          "France",
          "Germany",
          "Greece",
          "Hungary",
          "Iceland",
          "Ireland",
          "Italy",
          "Montenegro",
          "Netherlands",
          "Norway",
          "Poland",
          "Portugal",
          "Romania",
          "Serbia",
          "Slovak Republic",
          "Slovenia",
          "Spain",
          "Sweden",
          "Switzerland",
          "Turkey",
          "United Kingdom"
         ],
         "legendgroup": "Europe",
         "marker": {
          "color": "rgb(221,132,82)",
          "size": [
           3600523,
           8199783,
           10392226,
           4552198,
           7322858,
           4493312,
           10228744,
           5468120,
           5238460,
           61083916,
           82400996,
           10706290,
           9956108,
           301931,
           4109086,
           58147733,
           684736,
           16570613,
           4627926,
           38518241,
           10642836,
           22276056,
           10150265,
           5447502,
           2009245,
           40448191,
           9031088,
           7554661,
           71158647,
           60776238
          ],
          "sizemode": "area",
          "sizeref": 651201.5288888889,
          "symbol": "circle"
         },
         "mode": "markers",
         "name": "Europe",
         "orientation": "v",
         "showlegend": true,
         "type": "scatter",
         "x": [
          5937.029525999998,
          36126.4927,
          33692.60508,
          7446.298803,
          10680.79282,
          14619.222719999998,
          22833.30851,
          35278.41874,
          33207.0844,
          30470.0167,
          32170.37442,
          27538.41188,
          18008.94444,
          36180.78919,
          40675.99635,
          28569.7197,
          9253.896111,
          36797.93332,
          49357.19017,
          15389.924680000002,
          20509.64777,
          10808.47561,
          9786.534714,
          18678.31435,
          25768.25759,
          28821.0637,
          33859.74835,
          37506.41907,
          8458.276384,
          33203.26128
         ],
         "xaxis": "x",
         "y": [
          76.423,
          79.829,
          79.441,
          74.852,
          73.005,
          75.748,
          76.486,
          78.332,
          79.313,
          80.657,
          79.406,
          79.483,
          73.33800000000002,
          81.757,
          78.885,
          80.546,
          74.543,
          79.762,
          80.196,
          75.563,
          78.098,
          72.476,
          74.002,
          74.663,
          77.926,
          80.941,
          80.884,
          81.70100000000002,
          71.777,
          79.425
         ],
         "yaxis": "y"
        },
        {
         "customdata": [
          [
           "Algeria",
           "Africa",
           2007,
           33333216,
           "DZA",
           12
          ],
          [
           "Angola",
           "Africa",
           2007,
           12420476,
           "AGO",
           24
          ],
          [
           "Benin",
           "Africa",
           2007,
           8078314,
           "BEN",
           204
          ],
          [
           "Botswana",
           "Africa",
           2007,
           1639131,
           "BWA",
           72
          ],
          [
           "Burkina Faso",
           "Africa",
           2007,
           14326203,
           "BFA",
           854
          ],
          [
           "Burundi",
           "Africa",
           2007,
           8390505,
           "BDI",
           108
          ],
          [
           "Cameroon",
           "Africa",
           2007,
           17696293,
           "CMR",
           120
          ],
          [
           "Central African Republic",
           "Africa",
           2007,
           4369038,
           "CAF",
           140
          ],
          [
           "Chad",
           "Africa",
           2007,
           10238807,
           "TCD",
           148
          ],
          [
           "Comoros",
           "Africa",
           2007,
           710960,
           "COM",
           174
          ],
          [
           "Congo, Dem. Rep.",
           "Africa",
           2007,
           64606759,
           "COD",
           180
          ],
          [
           "Congo, Rep.",
           "Africa",
           2007,
           3800610,
           "COG",
           178
          ],
          [
           "Cote d'Ivoire",
           "Africa",
           2007,
           18013409,
           "CIV",
           384
          ],
          [
           "Djibouti",
           "Africa",
           2007,
           496374,
           "DJI",
           262
          ],
          [
           "Egypt",
           "Africa",
           2007,
           80264543,
           "EGY",
           818
          ],
          [
           "Equatorial Guinea",
           "Africa",
           2007,
           551201,
           "GNQ",
           226
          ],
          [
           "Eritrea",
           "Africa",
           2007,
           4906585,
           "ERI",
           232
          ],
          [
           "Ethiopia",
           "Africa",
           2007,
           76511887,
           "ETH",
           231
          ],
          [
           "Gabon",
           "Africa",
           2007,
           1454867,
           "GAB",
           266
          ],
          [
           "Gambia",
           "Africa",
           2007,
           1688359,
           "GMB",
           270
          ],
          [
           "Ghana",
           "Africa",
           2007,
           22873338,
           "GHA",
           288
          ],
          [
           "Guinea",
           "Africa",
           2007,
           9947814,
           "GIN",
           324
          ],
          [
           "Guinea-Bissau",
           "Africa",
           2007,
           1472041,
           "GNB",
           624
          ],
          [
           "Kenya",
           "Africa",
           2007,
           35610177,
           "KEN",
           404
          ],
          [
           "Lesotho",
           "Africa",
           2007,
           2012649,
           "LSO",
           426
          ],
          [
           "Liberia",
           "Africa",
           2007,
           3193942,
           "LBR",
           430
          ],
          [
           "Libya",
           "Africa",
           2007,
           6036914,
           "LBY",
           434
          ],
          [
           "Madagascar",
           "Africa",
           2007,
           19167654,
           "MDG",
           450
          ],
          [
           "Malawi",
           "Africa",
           2007,
           13327079,
           "MWI",
           454
          ],
          [
           "Mali",
           "Africa",
           2007,
           12031795,
           "MLI",
           466
          ],
          [
           "Mauritania",
           "Africa",
           2007,
           3270065,
           "MRT",
           478
          ],
          [
           "Mauritius",
           "Africa",
           2007,
           1250882,
           "MUS",
           480
          ],
          [
           "Morocco",
           "Africa",
           2007,
           33757175,
           "MAR",
           504
          ],
          [
           "Mozambique",
           "Africa",
           2007,
           19951656,
           "MOZ",
           508
          ],
          [
           "Namibia",
           "Africa",
           2007,
           2055080,
           "NAM",
           516
          ],
          [
           "Niger",
           "Africa",
           2007,
           12894865,
           "NER",
           562
          ],
          [
           "Nigeria",
           "Africa",
           2007,
           135031164,
           "NGA",
           566
          ],
          [
           "Reunion",
           "Africa",
           2007,
           798094,
           "REU",
           638
          ],
          [
           "Rwanda",
           "Africa",
           2007,
           8860588,
           "RWA",
           646
          ],
          [
           "Sao Tome and Principe",
           "Africa",
           2007,
           199579,
           "STP",
           678
          ],
          [
           "Senegal",
           "Africa",
           2007,
           12267493,
           "SEN",
           686
          ],
          [
           "Sierra Leone",
           "Africa",
           2007,
           6144562,
           "SLE",
           694
          ],
          [
           "Somalia",
           "Africa",
           2007,
           9118773,
           "SOM",
           706
          ],
          [
           "South Africa",
           "Africa",
           2007,
           43997828,
           "ZAF",
           710
          ],
          [
           "Sudan",
           "Africa",
           2007,
           42292929,
           "SDN",
           736
          ],
          [
           "Swaziland",
           "Africa",
           2007,
           1133066,
           "SWZ",
           748
          ],
          [
           "Tanzania",
           "Africa",
           2007,
           38139640,
           "TZA",
           834
          ],
          [
           "Togo",
           "Africa",
           2007,
           5701579,
           "TGO",
           768
          ],
          [
           "Tunisia",
           "Africa",
           2007,
           10276158,
           "TUN",
           788
          ],
          [
           "Uganda",
           "Africa",
           2007,
           29170398,
           "UGA",
           800
          ],
          [
           "Zambia",
           "Africa",
           2007,
           11746035,
           "ZMB",
           894
          ],
          [
           "Zimbabwe",
           "Africa",
           2007,
           12311143,
           "ZWE",
           716
          ]
         ],
         "hovertemplate": "<b>%{hovertext}</b><br><br>continent=%{customdata[1]}<br>year=%{customdata[2]}<br>gdpPercap=%{x}<br>lifeExp=%{y}<br>pop=%{customdata[3]}<br>country=%{customdata[0]}<br>iso_alpha=%{customdata[4]}<br>iso_num=%{customdata[5]}<extra></extra>",
         "hovertext": [
          "Algeria",
          "Angola",
          "Benin",
          "Botswana",
          "Burkina Faso",
          "Burundi",
          "Cameroon",
          "Central African Republic",
          "Chad",
          "Comoros",
          "Congo, Dem. Rep.",
          "Congo, Rep.",
          "Cote d'Ivoire",
          "Djibouti",
          "Egypt",
          "Equatorial Guinea",
          "Eritrea",
          "Ethiopia",
          "Gabon",
          "Gambia",
          "Ghana",
          "Guinea",
          "Guinea-Bissau",
          "Kenya",
          "Lesotho",
          "Liberia",
          "Libya",
          "Madagascar",
          "Malawi",
          "Mali",
          "Mauritania",
          "Mauritius",
          "Morocco",
          "Mozambique",
          "Namibia",
          "Niger",
          "Nigeria",
          "Reunion",
          "Rwanda",
          "Sao Tome and Principe",
          "Senegal",
          "Sierra Leone",
          "Somalia",
          "South Africa",
          "Sudan",
          "Swaziland",
          "Tanzania",
          "Togo",
          "Tunisia",
          "Uganda",
          "Zambia",
          "Zimbabwe"
         ],
         "ids": [
          "Algeria",
          "Angola",
          "Benin",
          "Botswana",
          "Burkina Faso",
          "Burundi",
          "Cameroon",
          "Central African Republic",
          "Chad",
          "Comoros",
          "Congo, Dem. Rep.",
          "Congo, Rep.",
          "Cote d'Ivoire",
          "Djibouti",
          "Egypt",
          "Equatorial Guinea",
          "Eritrea",
          "Ethiopia",
          "Gabon",
          "Gambia",
          "Ghana",
          "Guinea",
          "Guinea-Bissau",
          "Kenya",
          "Lesotho",
          "Liberia",
          "Libya",
          "Madagascar",
          "Malawi",
          "Mali",
          "Mauritania",
          "Mauritius",
          "Morocco",
          "Mozambique",
          "Namibia",
          "Niger",
          "Nigeria",
          "Reunion",
          "Rwanda",
          "Sao Tome and Principe",
          "Senegal",
          "Sierra Leone",
          "Somalia",
          "South Africa",
          "Sudan",
          "Swaziland",
          "Tanzania",
          "Togo",
          "Tunisia",
          "Uganda",
          "Zambia",
          "Zimbabwe"
         ],
         "legendgroup": "Africa",
         "marker": {
          "color": "rgb(85,168,104)",
          "size": [
           33333216,
           12420476,
           8078314,
           1639131,
           14326203,
           8390505,
           17696293,
           4369038,
           10238807,
           710960,
           64606759,
           3800610,
           18013409,
           496374,
           80264543,
           551201,
           4906585,
           76511887,
           1454867,
           1688359,
           22873338,
           9947814,
           1472041,
           35610177,
           2012649,
           3193942,
           6036914,
           19167654,
           13327079,
           12031795,
           3270065,
           1250882,
           33757175,
           19951656,
           2055080,
           12894865,
           135031164,
           798094,
           8860588,
           199579,
           12267493,
           6144562,
           9118773,
           43997828,
           42292929,
           1133066,
           38139640,
           5701579,
           10276158,
           29170398,
           11746035,
           12311143
          ],
          "sizemode": "area",
          "sizeref": 651201.5288888889,
          "symbol": "circle"
         },
         "mode": "markers",
         "name": "Africa",
         "orientation": "v",
         "showlegend": true,
         "type": "scatter",
         "x": [
          6223.367465,
          4797.231267,
          1441.284873,
          12569.85177,
          1217.032994,
          430.0706916,
          2042.09524,
          706.016537,
          1704.063724,
          986.1478792,
          277.5518587,
          3632.557798,
          1544.750112,
          2082.4815670000007,
          5581.180998,
          12154.08975,
          641.3695236000002,
          690.8055759,
          13206.48452,
          752.7497265,
          1327.60891,
          942.6542111,
          579.2317429999998,
          1463.249282,
          1569.331442,
          414.5073415,
          12057.49928,
          1044.770126,
          759.3499101,
          1042.581557,
          1803.151496,
          10956.99112,
          3820.17523,
          823.6856205,
          4811.060429,
          619.6768923999998,
          2013.977305,
          7670.122558,
          863.0884639000002,
          1598.435089,
          1712.472136,
          862.5407561000002,
          926.1410683,
          9269.657808,
          2602.394995,
          4513.480643,
          1107.482182,
          882.9699437999999,
          7092.923025,
          1056.380121,
          1271.211593,
          469.70929810000007
         ],
         "xaxis": "x",
         "y": [
          72.301,
          42.731,
          56.728,
          50.728,
          52.295,
          49.58,
          50.43,
          44.74100000000001,
          50.651,
          65.152,
          46.462,
          55.322,
          48.328,
          54.791,
          71.33800000000002,
          51.57899999999999,
          58.04,
          52.947,
          56.735,
          59.448,
          60.022,
          56.007,
          46.38800000000001,
          54.11,
          42.592,
          45.678,
          73.952,
          59.44300000000001,
          48.303,
          54.467,
          64.164,
          72.801,
          71.164,
          42.082,
          52.90600000000001,
          56.867,
          46.859,
          76.442,
          46.242,
          65.528,
          63.062,
          42.56800000000001,
          48.159,
          49.339,
          58.556,
          39.613,
          52.517,
          58.42,
          73.923,
          51.542,
          42.38399999999999,
          43.487
         ],
         "yaxis": "y"
        },
        {
         "customdata": [
          [
           "Argentina",
           "Americas",
           2007,
           40301927,
           "ARG",
           32
          ],
          [
           "Bolivia",
           "Americas",
           2007,
           9119152,
           "BOL",
           68
          ],
          [
           "Brazil",
           "Americas",
           2007,
           190010647,
           "BRA",
           76
          ],
          [
           "Canada",
           "Americas",
           2007,
           33390141,
           "CAN",
           124
          ],
          [
           "Chile",
           "Americas",
           2007,
           16284741,
           "CHL",
           152
          ],
          [
           "Colombia",
           "Americas",
           2007,
           44227550,
           "COL",
           170
          ],
          [
           "Costa Rica",
           "Americas",
           2007,
           4133884,
           "CRI",
           188
          ],
          [
           "Cuba",
           "Americas",
           2007,
           11416987,
           "CUB",
           192
          ],
          [
           "Dominican Republic",
           "Americas",
           2007,
           9319622,
           "DOM",
           214
          ],
          [
           "Ecuador",
           "Americas",
           2007,
           13755680,
           "ECU",
           218
          ],
          [
           "El Salvador",
           "Americas",
           2007,
           6939688,
           "SLV",
           222
          ],
          [
           "Guatemala",
           "Americas",
           2007,
           12572928,
           "GTM",
           320
          ],
          [
           "Haiti",
           "Americas",
           2007,
           8502814,
           "HTI",
           332
          ],
          [
           "Honduras",
           "Americas",
           2007,
           7483763,
           "HND",
           340
          ],
          [
           "Jamaica",
           "Americas",
           2007,
           2780132,
           "JAM",
           388
          ],
          [
           "Mexico",
           "Americas",
           2007,
           108700891,
           "MEX",
           484
          ],
          [
           "Nicaragua",
           "Americas",
           2007,
           5675356,
           "NIC",
           558
          ],
          [
           "Panama",
           "Americas",
           2007,
           3242173,
           "PAN",
           591
          ],
          [
           "Paraguay",
           "Americas",
           2007,
           6667147,
           "PRY",
           600
          ],
          [
           "Peru",
           "Americas",
           2007,
           28674757,
           "PER",
           604
          ],
          [
           "Puerto Rico",
           "Americas",
           2007,
           3942491,
           "PRI",
           630
          ],
          [
           "Trinidad and Tobago",
           "Americas",
           2007,
           1056608,
           "TTO",
           780
          ],
          [
           "United States",
           "Americas",
           2007,
           301139947,
           "USA",
           840
          ],
          [
           "Uruguay",
           "Americas",
           2007,
           3447496,
           "URY",
           858
          ],
          [
           "Venezuela",
           "Americas",
           2007,
           26084662,
           "VEN",
           862
          ]
         ],
         "hovertemplate": "<b>%{hovertext}</b><br><br>continent=%{customdata[1]}<br>year=%{customdata[2]}<br>gdpPercap=%{x}<br>lifeExp=%{y}<br>pop=%{customdata[3]}<br>country=%{customdata[0]}<br>iso_alpha=%{customdata[4]}<br>iso_num=%{customdata[5]}<extra></extra>",
         "hovertext": [
          "Argentina",
          "Bolivia",
          "Brazil",
          "Canada",
          "Chile",
          "Colombia",
          "Costa Rica",
          "Cuba",
          "Dominican Republic",
          "Ecuador",
          "El Salvador",
          "Guatemala",
          "Haiti",
          "Honduras",
          "Jamaica",
          "Mexico",
          "Nicaragua",
          "Panama",
          "Paraguay",
          "Peru",
          "Puerto Rico",
          "Trinidad and Tobago",
          "United States",
          "Uruguay",
          "Venezuela"
         ],
         "ids": [
          "Argentina",
          "Bolivia",
          "Brazil",
          "Canada",
          "Chile",
          "Colombia",
          "Costa Rica",
          "Cuba",
          "Dominican Republic",
          "Ecuador",
          "El Salvador",
          "Guatemala",
          "Haiti",
          "Honduras",
          "Jamaica",
          "Mexico",
          "Nicaragua",
          "Panama",
          "Paraguay",
          "Peru",
          "Puerto Rico",
          "Trinidad and Tobago",
          "United States",
          "Uruguay",
          "Venezuela"
         ],
         "legendgroup": "Americas",
         "marker": {
          "color": "rgb(196,78,82)",
          "size": [
           40301927,
           9119152,
           190010647,
           33390141,
           16284741,
           44227550,
           4133884,
           11416987,
           9319622,
           13755680,
           6939688,
           12572928,
           8502814,
           7483763,
           2780132,
           108700891,
           5675356,
           3242173,
           6667147,
           28674757,
           3942491,
           1056608,
           301139947,
           3447496,
           26084662
          ],
          "sizemode": "area",
          "sizeref": 651201.5288888889,
          "symbol": "circle"
         },
         "mode": "markers",
         "name": "Americas",
         "orientation": "v",
         "showlegend": true,
         "type": "scatter",
         "x": [
          12779.37964,
          3822.137084,
          9065.800825,
          36319.23501,
          13171.63885,
          7006.580419,
          9645.06142,
          8948.102923,
          6025.3747520000015,
          6873.262326000001,
          5728.353514,
          5186.050003,
          1201.637154,
          3548.3308460000007,
          7320.8802620000015,
          11977.57496,
          2749.320965,
          9809.185636,
          4172.838464,
          7408.905561,
          19328.70901,
          18008.50924,
          42951.65309,
          10611.46299,
          11415.80569
         ],
         "xaxis": "x",
         "y": [
          75.32,
          65.554,
          72.39,
          80.653,
          78.553,
          72.889,
          78.782,
          78.273,
          72.235,
          74.994,
          71.878,
          70.259,
          60.916,
          70.19800000000001,
          72.567,
          76.195,
          72.899,
          75.53699999999998,
          71.752,
          71.421,
          78.74600000000002,
          69.819,
          78.242,
          76.384,
          73.747
         ],
         "yaxis": "y"
        },
        {
         "customdata": [
          [
           "Australia",
           "Oceania",
           2007,
           20434176,
           "AUS",
           36
          ],
          [
           "New Zealand",
           "Oceania",
           2007,
           4115771,
           "NZL",
           554
          ]
         ],
         "hovertemplate": "<b>%{hovertext}</b><br><br>continent=%{customdata[1]}<br>year=%{customdata[2]}<br>gdpPercap=%{x}<br>lifeExp=%{y}<br>pop=%{customdata[3]}<br>country=%{customdata[0]}<br>iso_alpha=%{customdata[4]}<br>iso_num=%{customdata[5]}<extra></extra>",
         "hovertext": [
          "Australia",
          "New Zealand"
         ],
         "ids": [
          "Australia",
          "New Zealand"
         ],
         "legendgroup": "Oceania",
         "marker": {
          "color": "rgb(129,114,179)",
          "size": [
           20434176,
           4115771
          ],
          "sizemode": "area",
          "sizeref": 651201.5288888889,
          "symbol": "circle"
         },
         "mode": "markers",
         "name": "Oceania",
         "orientation": "v",
         "showlegend": true,
         "type": "scatter",
         "x": [
          34435.367439999995,
          25185.00911
         ],
         "xaxis": "x",
         "y": [
          81.235,
          80.204
         ],
         "yaxis": "y"
        }
       ],
       "layout": {
        "legend": {
         "itemsizing": "constant",
         "title": {
          "text": "continent"
         },
         "tracegroupgap": 0
        },
        "margin": {
         "t": 60
        },
        "template": {
         "data": {
          "bar": [
           {
            "error_x": {
             "color": "rgb(36,36,36)"
            },
            "error_y": {
             "color": "rgb(36,36,36)"
            },
            "marker": {
             "line": {
              "color": "rgb(234,234,242)",
              "width": 0.5
             },
             "pattern": {
              "fillmode": "overlay",
              "size": 10,
              "solidity": 0.2
             }
            },
            "type": "bar"
           }
          ],
          "barpolar": [
           {
            "marker": {
             "line": {
              "color": "rgb(234,234,242)",
              "width": 0.5
             },
             "pattern": {
              "fillmode": "overlay",
              "size": 10,
              "solidity": 0.2
             }
            },
            "type": "barpolar"
           }
          ],
          "carpet": [
           {
            "aaxis": {
             "endlinecolor": "rgb(36,36,36)",
             "gridcolor": "white",
             "linecolor": "white",
             "minorgridcolor": "white",
             "startlinecolor": "rgb(36,36,36)"
            },
            "baxis": {
             "endlinecolor": "rgb(36,36,36)",
             "gridcolor": "white",
             "linecolor": "white",
             "minorgridcolor": "white",
             "startlinecolor": "rgb(36,36,36)"
            },
            "type": "carpet"
           }
          ],
          "choropleth": [
           {
            "colorbar": {
             "outlinewidth": 0,
             "tickcolor": "rgb(36,36,36)",
             "ticklen": 8,
             "ticks": "outside",
             "tickwidth": 2
            },
            "type": "choropleth"
           }
          ],
          "contour": [
           {
            "colorbar": {
             "outlinewidth": 0,
             "tickcolor": "rgb(36,36,36)",
             "ticklen": 8,
             "ticks": "outside",
             "tickwidth": 2
            },
            "colorscale": [
             [
              0,
              "rgb(2,4,25)"
             ],
             [
              0.06274509803921569,
              "rgb(24,15,41)"
             ],
             [
              0.12549019607843137,
              "rgb(47,23,57)"
             ],
             [
              0.18823529411764706,
              "rgb(71,28,72)"
             ],
             [
              0.25098039215686274,
              "rgb(97,30,82)"
             ],
             [
              0.3137254901960784,
              "rgb(123,30,89)"
             ],
             [
              0.3764705882352941,
              "rgb(150,27,91)"
             ],
             [
              0.4392156862745098,
              "rgb(177,22,88)"
             ],
             [
              0.5019607843137255,
              "rgb(203,26,79)"
             ],
             [
              0.5647058823529412,
              "rgb(223,47,67)"
             ],
             [
              0.6274509803921569,
              "rgb(236,76,61)"
             ],
             [
              0.6901960784313725,
              "rgb(242,107,73)"
             ],
             [
              0.7529411764705882,
              "rgb(244,135,95)"
             ],
             [
              0.8156862745098039,
              "rgb(245,162,122)"
             ],
             [
              0.8784313725490196,
              "rgb(246,188,153)"
             ],
             [
              0.9411764705882353,
              "rgb(247,212,187)"
             ],
             [
              1,
              "rgb(250,234,220)"
             ]
            ],
            "type": "contour"
           }
          ],
          "contourcarpet": [
           {
            "colorbar": {
             "outlinewidth": 0,
             "tickcolor": "rgb(36,36,36)",
             "ticklen": 8,
             "ticks": "outside",
             "tickwidth": 2
            },
            "type": "contourcarpet"
           }
          ],
          "heatmap": [
           {
            "colorbar": {
             "outlinewidth": 0,
             "tickcolor": "rgb(36,36,36)",
             "ticklen": 8,
             "ticks": "outside",
             "tickwidth": 2
            },
            "colorscale": [
             [
              0,
              "rgb(2,4,25)"
             ],
             [
              0.06274509803921569,
              "rgb(24,15,41)"
             ],
             [
              0.12549019607843137,
              "rgb(47,23,57)"
             ],
             [
              0.18823529411764706,
              "rgb(71,28,72)"
             ],
             [
              0.25098039215686274,
              "rgb(97,30,82)"
             ],
             [
              0.3137254901960784,
              "rgb(123,30,89)"
             ],
             [
              0.3764705882352941,
              "rgb(150,27,91)"
             ],
             [
              0.4392156862745098,
              "rgb(177,22,88)"
             ],
             [
              0.5019607843137255,
              "rgb(203,26,79)"
             ],
             [
              0.5647058823529412,
              "rgb(223,47,67)"
             ],
             [
              0.6274509803921569,
              "rgb(236,76,61)"
             ],
             [
              0.6901960784313725,
              "rgb(242,107,73)"
             ],
             [
              0.7529411764705882,
              "rgb(244,135,95)"
             ],
             [
              0.8156862745098039,
              "rgb(245,162,122)"
             ],
             [
              0.8784313725490196,
              "rgb(246,188,153)"
             ],
             [
              0.9411764705882353,
              "rgb(247,212,187)"
             ],
             [
              1,
              "rgb(250,234,220)"
             ]
            ],
            "type": "heatmap"
           }
          ],
          "heatmapgl": [
           {
            "colorbar": {
             "outlinewidth": 0,
             "tickcolor": "rgb(36,36,36)",
             "ticklen": 8,
             "ticks": "outside",
             "tickwidth": 2
            },
            "colorscale": [
             [
              0,
              "rgb(2,4,25)"
             ],
             [
              0.06274509803921569,
              "rgb(24,15,41)"
             ],
             [
              0.12549019607843137,
              "rgb(47,23,57)"
             ],
             [
              0.18823529411764706,
              "rgb(71,28,72)"
             ],
             [
              0.25098039215686274,
              "rgb(97,30,82)"
             ],
             [
              0.3137254901960784,
              "rgb(123,30,89)"
             ],
             [
              0.3764705882352941,
              "rgb(150,27,91)"
             ],
             [
              0.4392156862745098,
              "rgb(177,22,88)"
             ],
             [
              0.5019607843137255,
              "rgb(203,26,79)"
             ],
             [
              0.5647058823529412,
              "rgb(223,47,67)"
             ],
             [
              0.6274509803921569,
              "rgb(236,76,61)"
             ],
             [
              0.6901960784313725,
              "rgb(242,107,73)"
             ],
             [
              0.7529411764705882,
              "rgb(244,135,95)"
             ],
             [
              0.8156862745098039,
              "rgb(245,162,122)"
             ],
             [
              0.8784313725490196,
              "rgb(246,188,153)"
             ],
             [
              0.9411764705882353,
              "rgb(247,212,187)"
             ],
             [
              1,
              "rgb(250,234,220)"
             ]
            ],
            "type": "heatmapgl"
           }
          ],
          "histogram": [
           {
            "marker": {
             "pattern": {
              "fillmode": "overlay",
              "size": 10,
              "solidity": 0.2
             }
            },
            "type": "histogram"
           }
          ],
          "histogram2d": [
           {
            "colorbar": {
             "outlinewidth": 0,
             "tickcolor": "rgb(36,36,36)",
             "ticklen": 8,
             "ticks": "outside",
             "tickwidth": 2
            },
            "colorscale": [
             [
              0,
              "rgb(2,4,25)"
             ],
             [
              0.06274509803921569,
              "rgb(24,15,41)"
             ],
             [
              0.12549019607843137,
              "rgb(47,23,57)"
             ],
             [
              0.18823529411764706,
              "rgb(71,28,72)"
             ],
             [
              0.25098039215686274,
              "rgb(97,30,82)"
             ],
             [
              0.3137254901960784,
              "rgb(123,30,89)"
             ],
             [
              0.3764705882352941,
              "rgb(150,27,91)"
             ],
             [
              0.4392156862745098,
              "rgb(177,22,88)"
             ],
             [
              0.5019607843137255,
              "rgb(203,26,79)"
             ],
             [
              0.5647058823529412,
              "rgb(223,47,67)"
             ],
             [
              0.6274509803921569,
              "rgb(236,76,61)"
             ],
             [
              0.6901960784313725,
              "rgb(242,107,73)"
             ],
             [
              0.7529411764705882,
              "rgb(244,135,95)"
             ],
             [
              0.8156862745098039,
              "rgb(245,162,122)"
             ],
             [
              0.8784313725490196,
              "rgb(246,188,153)"
             ],
             [
              0.9411764705882353,
              "rgb(247,212,187)"
             ],
             [
              1,
              "rgb(250,234,220)"
             ]
            ],
            "type": "histogram2d"
           }
          ],
          "histogram2dcontour": [
           {
            "colorbar": {
             "outlinewidth": 0,
             "tickcolor": "rgb(36,36,36)",
             "ticklen": 8,
             "ticks": "outside",
             "tickwidth": 2
            },
            "colorscale": [
             [
              0,
              "rgb(2,4,25)"
             ],
             [
              0.06274509803921569,
              "rgb(24,15,41)"
             ],
             [
              0.12549019607843137,
              "rgb(47,23,57)"
             ],
             [
              0.18823529411764706,
              "rgb(71,28,72)"
             ],
             [
              0.25098039215686274,
              "rgb(97,30,82)"
             ],
             [
              0.3137254901960784,
              "rgb(123,30,89)"
             ],
             [
              0.3764705882352941,
              "rgb(150,27,91)"
             ],
             [
              0.4392156862745098,
              "rgb(177,22,88)"
             ],
             [
              0.5019607843137255,
              "rgb(203,26,79)"
             ],
             [
              0.5647058823529412,
              "rgb(223,47,67)"
             ],
             [
              0.6274509803921569,
              "rgb(236,76,61)"
             ],
             [
              0.6901960784313725,
              "rgb(242,107,73)"
             ],
             [
              0.7529411764705882,
              "rgb(244,135,95)"
             ],
             [
              0.8156862745098039,
              "rgb(245,162,122)"
             ],
             [
              0.8784313725490196,
              "rgb(246,188,153)"
             ],
             [
              0.9411764705882353,
              "rgb(247,212,187)"
             ],
             [
              1,
              "rgb(250,234,220)"
             ]
            ],
            "type": "histogram2dcontour"
           }
          ],
          "mesh3d": [
           {
            "colorbar": {
             "outlinewidth": 0,
             "tickcolor": "rgb(36,36,36)",
             "ticklen": 8,
             "ticks": "outside",
             "tickwidth": 2
            },
            "type": "mesh3d"
           }
          ],
          "parcoords": [
           {
            "line": {
             "colorbar": {
              "outlinewidth": 0,
              "tickcolor": "rgb(36,36,36)",
              "ticklen": 8,
              "ticks": "outside",
              "tickwidth": 2
             }
            },
            "type": "parcoords"
           }
          ],
          "pie": [
           {
            "automargin": true,
            "type": "pie"
           }
          ],
          "scatter": [
           {
            "marker": {
             "colorbar": {
              "outlinewidth": 0,
              "tickcolor": "rgb(36,36,36)",
              "ticklen": 8,
              "ticks": "outside",
              "tickwidth": 2
             }
            },
            "type": "scatter"
           }
          ],
          "scatter3d": [
           {
            "line": {
             "colorbar": {
              "outlinewidth": 0,
              "tickcolor": "rgb(36,36,36)",
              "ticklen": 8,
              "ticks": "outside",
              "tickwidth": 2
             }
            },
            "marker": {
             "colorbar": {
              "outlinewidth": 0,
              "tickcolor": "rgb(36,36,36)",
              "ticklen": 8,
              "ticks": "outside",
              "tickwidth": 2
             }
            },
            "type": "scatter3d"
           }
          ],
          "scattercarpet": [
           {
            "marker": {
             "colorbar": {
              "outlinewidth": 0,
              "tickcolor": "rgb(36,36,36)",
              "ticklen": 8,
              "ticks": "outside",
              "tickwidth": 2
             }
            },
            "type": "scattercarpet"
           }
          ],
          "scattergeo": [
           {
            "marker": {
             "colorbar": {
              "outlinewidth": 0,
              "tickcolor": "rgb(36,36,36)",
              "ticklen": 8,
              "ticks": "outside",
              "tickwidth": 2
             }
            },
            "type": "scattergeo"
           }
          ],
          "scattergl": [
           {
            "marker": {
             "colorbar": {
              "outlinewidth": 0,
              "tickcolor": "rgb(36,36,36)",
              "ticklen": 8,
              "ticks": "outside",
              "tickwidth": 2
             }
            },
            "type": "scattergl"
           }
          ],
          "scattermapbox": [
           {
            "marker": {
             "colorbar": {
              "outlinewidth": 0,
              "tickcolor": "rgb(36,36,36)",
              "ticklen": 8,
              "ticks": "outside",
              "tickwidth": 2
             }
            },
            "type": "scattermapbox"
           }
          ],
          "scatterpolar": [
           {
            "marker": {
             "colorbar": {
              "outlinewidth": 0,
              "tickcolor": "rgb(36,36,36)",
              "ticklen": 8,
              "ticks": "outside",
              "tickwidth": 2
             }
            },
            "type": "scatterpolar"
           }
          ],
          "scatterpolargl": [
           {
            "marker": {
             "colorbar": {
              "outlinewidth": 0,
              "tickcolor": "rgb(36,36,36)",
              "ticklen": 8,
              "ticks": "outside",
              "tickwidth": 2
             }
            },
            "type": "scatterpolargl"
           }
          ],
          "scatterternary": [
           {
            "marker": {
             "colorbar": {
              "outlinewidth": 0,
              "tickcolor": "rgb(36,36,36)",
              "ticklen": 8,
              "ticks": "outside",
              "tickwidth": 2
             }
            },
            "type": "scatterternary"
           }
          ],
          "surface": [
           {
            "colorbar": {
             "outlinewidth": 0,
             "tickcolor": "rgb(36,36,36)",
             "ticklen": 8,
             "ticks": "outside",
             "tickwidth": 2
            },
            "colorscale": [
             [
              0,
              "rgb(2,4,25)"
             ],
             [
              0.06274509803921569,
              "rgb(24,15,41)"
             ],
             [
              0.12549019607843137,
              "rgb(47,23,57)"
             ],
             [
              0.18823529411764706,
              "rgb(71,28,72)"
             ],
             [
              0.25098039215686274,
              "rgb(97,30,82)"
             ],
             [
              0.3137254901960784,
              "rgb(123,30,89)"
             ],
             [
              0.3764705882352941,
              "rgb(150,27,91)"
             ],
             [
              0.4392156862745098,
              "rgb(177,22,88)"
             ],
             [
              0.5019607843137255,
              "rgb(203,26,79)"
             ],
             [
              0.5647058823529412,
              "rgb(223,47,67)"
             ],
             [
              0.6274509803921569,
              "rgb(236,76,61)"
             ],
             [
              0.6901960784313725,
              "rgb(242,107,73)"
             ],
             [
              0.7529411764705882,
              "rgb(244,135,95)"
             ],
             [
              0.8156862745098039,
              "rgb(245,162,122)"
             ],
             [
              0.8784313725490196,
              "rgb(246,188,153)"
             ],
             [
              0.9411764705882353,
              "rgb(247,212,187)"
             ],
             [
              1,
              "rgb(250,234,220)"
             ]
            ],
            "type": "surface"
           }
          ],
          "table": [
           {
            "cells": {
             "fill": {
              "color": "rgb(231,231,240)"
             },
             "line": {
              "color": "white"
             }
            },
            "header": {
             "fill": {
              "color": "rgb(183,183,191)"
             },
             "line": {
              "color": "white"
             }
            },
            "type": "table"
           }
          ]
         },
         "layout": {
          "annotationdefaults": {
           "arrowcolor": "rgb(67,103,167)"
          },
          "autotypenumbers": "strict",
          "coloraxis": {
           "colorbar": {
            "outlinewidth": 0,
            "tickcolor": "rgb(36,36,36)",
            "ticklen": 8,
            "ticks": "outside",
            "tickwidth": 2
           }
          },
          "colorscale": {
           "sequential": [
            [
             0,
             "rgb(2,4,25)"
            ],
            [
             0.06274509803921569,
             "rgb(24,15,41)"
            ],
            [
             0.12549019607843137,
             "rgb(47,23,57)"
            ],
            [
             0.18823529411764706,
             "rgb(71,28,72)"
            ],
            [
             0.25098039215686274,
             "rgb(97,30,82)"
            ],
            [
             0.3137254901960784,
             "rgb(123,30,89)"
            ],
            [
             0.3764705882352941,
             "rgb(150,27,91)"
            ],
            [
             0.4392156862745098,
             "rgb(177,22,88)"
            ],
            [
             0.5019607843137255,
             "rgb(203,26,79)"
            ],
            [
             0.5647058823529412,
             "rgb(223,47,67)"
            ],
            [
             0.6274509803921569,
             "rgb(236,76,61)"
            ],
            [
             0.6901960784313725,
             "rgb(242,107,73)"
            ],
            [
             0.7529411764705882,
             "rgb(244,135,95)"
            ],
            [
             0.8156862745098039,
             "rgb(245,162,122)"
            ],
            [
             0.8784313725490196,
             "rgb(246,188,153)"
            ],
            [
             0.9411764705882353,
             "rgb(247,212,187)"
            ],
            [
             1,
             "rgb(250,234,220)"
            ]
           ],
           "sequentialminus": [
            [
             0,
             "rgb(2,4,25)"
            ],
            [
             0.06274509803921569,
             "rgb(24,15,41)"
            ],
            [
             0.12549019607843137,
             "rgb(47,23,57)"
            ],
            [
             0.18823529411764706,
             "rgb(71,28,72)"
            ],
            [
             0.25098039215686274,
             "rgb(97,30,82)"
            ],
            [
             0.3137254901960784,
             "rgb(123,30,89)"
            ],
            [
             0.3764705882352941,
             "rgb(150,27,91)"
            ],
            [
             0.4392156862745098,
             "rgb(177,22,88)"
            ],
            [
             0.5019607843137255,
             "rgb(203,26,79)"
            ],
            [
             0.5647058823529412,
             "rgb(223,47,67)"
            ],
            [
             0.6274509803921569,
             "rgb(236,76,61)"
            ],
            [
             0.6901960784313725,
             "rgb(242,107,73)"
            ],
            [
             0.7529411764705882,
             "rgb(244,135,95)"
            ],
            [
             0.8156862745098039,
             "rgb(245,162,122)"
            ],
            [
             0.8784313725490196,
             "rgb(246,188,153)"
            ],
            [
             0.9411764705882353,
             "rgb(247,212,187)"
            ],
            [
             1,
             "rgb(250,234,220)"
            ]
           ]
          },
          "colorway": [
           "rgb(76,114,176)",
           "rgb(221,132,82)",
           "rgb(85,168,104)",
           "rgb(196,78,82)",
           "rgb(129,114,179)",
           "rgb(147,120,96)",
           "rgb(218,139,195)",
           "rgb(140,140,140)",
           "rgb(204,185,116)",
           "rgb(100,181,205)"
          ],
          "font": {
           "color": "rgb(36,36,36)"
          },
          "geo": {
           "bgcolor": "white",
           "lakecolor": "white",
           "landcolor": "rgb(234,234,242)",
           "showlakes": true,
           "showland": true,
           "subunitcolor": "white"
          },
          "hoverlabel": {
           "align": "left"
          },
          "hovermode": "closest",
          "paper_bgcolor": "white",
          "plot_bgcolor": "rgb(234,234,242)",
          "polar": {
           "angularaxis": {
            "gridcolor": "white",
            "linecolor": "white",
            "showgrid": true,
            "ticks": ""
           },
           "bgcolor": "rgb(234,234,242)",
           "radialaxis": {
            "gridcolor": "white",
            "linecolor": "white",
            "showgrid": true,
            "ticks": ""
           }
          },
          "scene": {
           "xaxis": {
            "backgroundcolor": "rgb(234,234,242)",
            "gridcolor": "white",
            "gridwidth": 2,
            "linecolor": "white",
            "showbackground": true,
            "showgrid": true,
            "ticks": "",
            "zerolinecolor": "white"
           },
           "yaxis": {
            "backgroundcolor": "rgb(234,234,242)",
            "gridcolor": "white",
            "gridwidth": 2,
            "linecolor": "white",
            "showbackground": true,
            "showgrid": true,
            "ticks": "",
            "zerolinecolor": "white"
           },
           "zaxis": {
            "backgroundcolor": "rgb(234,234,242)",
            "gridcolor": "white",
            "gridwidth": 2,
            "linecolor": "white",
            "showbackground": true,
            "showgrid": true,
            "ticks": "",
            "zerolinecolor": "white"
           }
          },
          "shapedefaults": {
           "fillcolor": "rgb(67,103,167)",
           "line": {
            "width": 0
           },
           "opacity": 0.5
          },
          "ternary": {
           "aaxis": {
            "gridcolor": "white",
            "linecolor": "white",
            "showgrid": true,
            "ticks": ""
           },
           "baxis": {
            "gridcolor": "white",
            "linecolor": "white",
            "showgrid": true,
            "ticks": ""
           },
           "bgcolor": "rgb(234,234,242)",
           "caxis": {
            "gridcolor": "white",
            "linecolor": "white",
            "showgrid": true,
            "ticks": ""
           }
          },
          "xaxis": {
           "automargin": true,
           "gridcolor": "white",
           "linecolor": "white",
           "showgrid": true,
           "ticks": "",
           "title": {
            "standoff": 15
           },
           "zerolinecolor": "white"
          },
          "yaxis": {
           "automargin": true,
           "gridcolor": "white",
           "linecolor": "white",
           "showgrid": true,
           "ticks": "",
           "title": {
            "standoff": 15
           },
           "zerolinecolor": "white"
          }
         }
        },
        "xaxis": {
         "anchor": "y",
         "domain": [
          0,
          1
         ],
         "title": {
          "text": "gdpPercap"
         },
         "type": "log"
        },
        "yaxis": {
         "anchor": "x",
         "domain": [
          0,
          1
         ],
         "range": [
          20,
          100
         ],
         "title": {
          "text": "lifeExp"
         }
        }
       }
      }
     },
     "metadata": {},
     "output_type": "display_data"
    }
   ],
   "source": [
    "px.scatter(df, x='gdpPercap', y='lifeExp', color='continent', size='pop', \n",
    "                 log_x=True, size_max=45, hover_name='country', hover_data=df.columns,\n",
    "                 animation_frame='year', animation_group='country', range_y=[20, 100], template='seaborn')"
   ]
  }
 ],
 "metadata": {
  "interpreter": {
   "hash": "c280167503d4c9ec9343a8c22ceb8fdab10e8af54e332c309c4ae135c5d90990"
  },
  "kernelspec": {
   "display_name": "Python 3",
   "language": "python",
   "name": "python3"
  },
  "language_info": {
   "codemirror_mode": {
    "name": "ipython",
    "version": 3
   },
   "file_extension": ".py",
   "mimetype": "text/x-python",
   "name": "python",
   "nbconvert_exporter": "python",
   "pygments_lexer": "ipython3",
   "version": "3.9.5"
  }
 },
 "nbformat": 4,
 "nbformat_minor": 4
}
